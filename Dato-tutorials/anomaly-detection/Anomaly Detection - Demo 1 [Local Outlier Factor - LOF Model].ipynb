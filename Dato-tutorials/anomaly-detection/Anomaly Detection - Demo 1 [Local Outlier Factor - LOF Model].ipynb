{
 "cells": [
  {
   "cell_type": "markdown",
   "metadata": {},
   "source": [
    "# Anomaly Detection: The Local Outlier Factor (LOF) Model\n",
    "\n",
    "## Introductory Remarks\n",
    "\n",
    "Anomalies are data points that are different from other observations in some way, typically measured against a model fit to the data. On the contrary with the ordinary descriptive statistics, we are interested here to found where these anomalous data points exist and not exclude them as outliers.\n",
    "\n",
    "We assume the anomaly detection task is unsupervised, i.e. we don’t have training data with points labeled as anomalous. Each data point passed to an anomaly detection model is given a score indicating how different the point is relative to the rest of the dataset. The calculation of this score varies between models, but a higher score always indicates a point is more anomalous. Often a threshold is chosen to make a final classification of each point as typical or anomalous; this post-processing step is left to the user.\n",
    "\n",
    "The **GraphLab Create (GLC) Anomaly Detection toolkit** currently includes three models for two different data contexts: \n",
    "\n",
    "* **Local Outlier Factor**, for detecting outliers in multivariate data that are assumed to be independently and identically distributed,\n",
    "* **Moving Z-score**, for scoring outliers in a univariate, sequential dataset, typically a time series, and\n",
    "* **Bayesian Changepoints** for identifying changes in the mean or variance of a sequential series.\n",
    "\n",
    "In this short note, we demonstrate how the **GLC Local Outlier Factor** Model can be used to *reveal anomalies* in a *multivariate data set*. We will use the customer data from a recent [**AirBnB New User Bookings competition**](https://www.kaggle.com/c/airbnb-recruiting-new-user-bookings) on Kaggle. More specifically, we have downloaded a copy of the file **`train_users_2.csv`** in our working directory. Each row in this dataset describes one of 213,451 AirBnB users; there is a mix of basic features, such as **`gender`**, **`age`**, and **`preferred language`**, as well as the **user's \"technology profile\"**, including the **browser type**, **device type**, and **his/her sign-up method**."
   ]
  },
  {
   "cell_type": "markdown",
   "metadata": {},
   "source": [
    "## Libraries and Necessary Data Transformation\n",
    "\n",
    "First, we fire up **GraphLab Create**, all the other necessary libraries for our study, and load the **`train_users_2.csv`** file in a **SFrame**."
   ]
  },
  {
   "cell_type": "code",
   "execution_count": 1,
   "metadata": {
    "collapsed": false
   },
   "outputs": [
    {
     "name": "stderr",
     "output_type": "stream",
     "text": [
      "[INFO] graphlab.cython.cy_server: GraphLab Create v1.10.1 started. Logging: /tmp/graphlab_server_1466532393.log\n",
      "INFO:graphlab.cython.cy_server:GraphLab Create v1.10.1 started. Logging: /tmp/graphlab_server_1466532393.log\n"
     ]
    },
    {
     "name": "stdout",
     "output_type": "stream",
     "text": [
      "This non-commercial license of GraphLab Create is assigned to tgrammat@gmail.com and will expire on September 21, 2016. For commercial licensing options, visit https://dato.com/buy/.\n"
     ]
    }
   ],
   "source": [
    "import graphlab as gl\n",
    "from visualization_helper_functions import *"
   ]
  },
  {
   "cell_type": "code",
   "execution_count": 2,
   "metadata": {
    "collapsed": false
   },
   "outputs": [
    {
     "data": {
      "text/html": [
       "<pre>Finished parsing file /home/theod/Documents/ML_Home/12.DatoPy/01.R.Anomaly_Detection/train_users_2.csv</pre>"
      ],
      "text/plain": [
       "Finished parsing file /home/theod/Documents/ML_Home/12.DatoPy/01.R.Anomaly_Detection/train_users_2.csv"
      ]
     },
     "metadata": {},
     "output_type": "display_data"
    },
    {
     "data": {
      "text/html": [
       "<pre>Parsing completed. Parsed 100 lines in 4.11956 secs.</pre>"
      ],
      "text/plain": [
       "Parsing completed. Parsed 100 lines in 4.11956 secs."
      ]
     },
     "metadata": {},
     "output_type": "display_data"
    },
    {
     "data": {
      "text/html": [
       "<pre>Finished parsing file /home/theod/Documents/ML_Home/12.DatoPy/01.R.Anomaly_Detection/train_users_2.csv</pre>"
      ],
      "text/plain": [
       "Finished parsing file /home/theod/Documents/ML_Home/12.DatoPy/01.R.Anomaly_Detection/train_users_2.csv"
      ]
     },
     "metadata": {},
     "output_type": "display_data"
    },
    {
     "data": {
      "text/html": [
       "<pre>Parsing completed. Parsed 213451 lines in 2.96087 secs.</pre>"
      ],
      "text/plain": [
       "Parsing completed. Parsed 213451 lines in 2.96087 secs."
      ]
     },
     "metadata": {},
     "output_type": "display_data"
    },
    {
     "name": "stdout",
     "output_type": "stream",
     "text": [
      "------------------------------------------------------\n",
      "Inferred types from first 100 line(s) of file as \n",
      "column_type_hints=[str,str,int,str,str,float,str,int,str,str,str,str,str,str,str,str]\n",
      "If parsing fails due to incorrect types, you can correct\n",
      "the inferred type list above and pass it to read_csv in\n",
      "the column_type_hints argument\n",
      "------------------------------------------------------\n"
     ]
    }
   ],
   "source": [
    "customer_data = gl.SFrame.read_csv('./train_users_2.csv')"
   ]
  },
  {
   "cell_type": "code",
   "execution_count": 3,
   "metadata": {
    "collapsed": false
   },
   "outputs": [
    {
     "data": {
      "text/html": [
       "<div style=\"max-height:1000px;max-width:1500px;overflow:auto;\"><table frame=\"box\" rules=\"cols\">\n",
       "    <tr>\n",
       "        <th style=\"padding-left: 1em; padding-right: 1em; text-align: center\">id</th>\n",
       "        <th style=\"padding-left: 1em; padding-right: 1em; text-align: center\">date_account_created</th>\n",
       "        <th style=\"padding-left: 1em; padding-right: 1em; text-align: center\">timestamp_first_active</th>\n",
       "        <th style=\"padding-left: 1em; padding-right: 1em; text-align: center\">date_first_booking</th>\n",
       "        <th style=\"padding-left: 1em; padding-right: 1em; text-align: center\">gender</th>\n",
       "        <th style=\"padding-left: 1em; padding-right: 1em; text-align: center\">age</th>\n",
       "        <th style=\"padding-left: 1em; padding-right: 1em; text-align: center\">signup_method</th>\n",
       "        <th style=\"padding-left: 1em; padding-right: 1em; text-align: center\">signup_flow</th>\n",
       "    </tr>\n",
       "    <tr>\n",
       "        <td style=\"padding-left: 1em; padding-right: 1em; text-align: center; vertical-align: top\">gxn3p5htnn</td>\n",
       "        <td style=\"padding-left: 1em; padding-right: 1em; text-align: center; vertical-align: top\">2010-06-28</td>\n",
       "        <td style=\"padding-left: 1em; padding-right: 1em; text-align: center; vertical-align: top\">20090319043255</td>\n",
       "        <td style=\"padding-left: 1em; padding-right: 1em; text-align: center; vertical-align: top\"></td>\n",
       "        <td style=\"padding-left: 1em; padding-right: 1em; text-align: center; vertical-align: top\">-unknown-</td>\n",
       "        <td style=\"padding-left: 1em; padding-right: 1em; text-align: center; vertical-align: top\">None</td>\n",
       "        <td style=\"padding-left: 1em; padding-right: 1em; text-align: center; vertical-align: top\">facebook</td>\n",
       "        <td style=\"padding-left: 1em; padding-right: 1em; text-align: center; vertical-align: top\">0</td>\n",
       "    </tr>\n",
       "    <tr>\n",
       "        <td style=\"padding-left: 1em; padding-right: 1em; text-align: center; vertical-align: top\">820tgsjxq7</td>\n",
       "        <td style=\"padding-left: 1em; padding-right: 1em; text-align: center; vertical-align: top\">2011-05-25</td>\n",
       "        <td style=\"padding-left: 1em; padding-right: 1em; text-align: center; vertical-align: top\">20090523174809</td>\n",
       "        <td style=\"padding-left: 1em; padding-right: 1em; text-align: center; vertical-align: top\"></td>\n",
       "        <td style=\"padding-left: 1em; padding-right: 1em; text-align: center; vertical-align: top\">MALE</td>\n",
       "        <td style=\"padding-left: 1em; padding-right: 1em; text-align: center; vertical-align: top\">38.0</td>\n",
       "        <td style=\"padding-left: 1em; padding-right: 1em; text-align: center; vertical-align: top\">facebook</td>\n",
       "        <td style=\"padding-left: 1em; padding-right: 1em; text-align: center; vertical-align: top\">0</td>\n",
       "    </tr>\n",
       "    <tr>\n",
       "        <td style=\"padding-left: 1em; padding-right: 1em; text-align: center; vertical-align: top\">4ft3gnwmtx</td>\n",
       "        <td style=\"padding-left: 1em; padding-right: 1em; text-align: center; vertical-align: top\">2010-09-28</td>\n",
       "        <td style=\"padding-left: 1em; padding-right: 1em; text-align: center; vertical-align: top\">20090609231247</td>\n",
       "        <td style=\"padding-left: 1em; padding-right: 1em; text-align: center; vertical-align: top\">2010-08-02</td>\n",
       "        <td style=\"padding-left: 1em; padding-right: 1em; text-align: center; vertical-align: top\">FEMALE</td>\n",
       "        <td style=\"padding-left: 1em; padding-right: 1em; text-align: center; vertical-align: top\">56.0</td>\n",
       "        <td style=\"padding-left: 1em; padding-right: 1em; text-align: center; vertical-align: top\">basic</td>\n",
       "        <td style=\"padding-left: 1em; padding-right: 1em; text-align: center; vertical-align: top\">3</td>\n",
       "    </tr>\n",
       "    <tr>\n",
       "        <td style=\"padding-left: 1em; padding-right: 1em; text-align: center; vertical-align: top\">bjjt8pjhuk</td>\n",
       "        <td style=\"padding-left: 1em; padding-right: 1em; text-align: center; vertical-align: top\">2011-12-05</td>\n",
       "        <td style=\"padding-left: 1em; padding-right: 1em; text-align: center; vertical-align: top\">20091031060129</td>\n",
       "        <td style=\"padding-left: 1em; padding-right: 1em; text-align: center; vertical-align: top\">2012-09-08</td>\n",
       "        <td style=\"padding-left: 1em; padding-right: 1em; text-align: center; vertical-align: top\">FEMALE</td>\n",
       "        <td style=\"padding-left: 1em; padding-right: 1em; text-align: center; vertical-align: top\">42.0</td>\n",
       "        <td style=\"padding-left: 1em; padding-right: 1em; text-align: center; vertical-align: top\">facebook</td>\n",
       "        <td style=\"padding-left: 1em; padding-right: 1em; text-align: center; vertical-align: top\">0</td>\n",
       "    </tr>\n",
       "    <tr>\n",
       "        <td style=\"padding-left: 1em; padding-right: 1em; text-align: center; vertical-align: top\">87mebub9p4</td>\n",
       "        <td style=\"padding-left: 1em; padding-right: 1em; text-align: center; vertical-align: top\">2010-09-14</td>\n",
       "        <td style=\"padding-left: 1em; padding-right: 1em; text-align: center; vertical-align: top\">20091208061105</td>\n",
       "        <td style=\"padding-left: 1em; padding-right: 1em; text-align: center; vertical-align: top\">2010-02-18</td>\n",
       "        <td style=\"padding-left: 1em; padding-right: 1em; text-align: center; vertical-align: top\">-unknown-</td>\n",
       "        <td style=\"padding-left: 1em; padding-right: 1em; text-align: center; vertical-align: top\">41.0</td>\n",
       "        <td style=\"padding-left: 1em; padding-right: 1em; text-align: center; vertical-align: top\">basic</td>\n",
       "        <td style=\"padding-left: 1em; padding-right: 1em; text-align: center; vertical-align: top\">0</td>\n",
       "    </tr>\n",
       "</table>\n",
       "<table frame=\"box\" rules=\"cols\">\n",
       "    <tr>\n",
       "        <th style=\"padding-left: 1em; padding-right: 1em; text-align: center\">language</th>\n",
       "        <th style=\"padding-left: 1em; padding-right: 1em; text-align: center\">affiliate_channel</th>\n",
       "        <th style=\"padding-left: 1em; padding-right: 1em; text-align: center\">affiliate_provider</th>\n",
       "        <th style=\"padding-left: 1em; padding-right: 1em; text-align: center\">first_affiliate_tracked</th>\n",
       "        <th style=\"padding-left: 1em; padding-right: 1em; text-align: center\">signup_app</th>\n",
       "        <th style=\"padding-left: 1em; padding-right: 1em; text-align: center\">first_device_type</th>\n",
       "        <th style=\"padding-left: 1em; padding-right: 1em; text-align: center\">first_browser</th>\n",
       "    </tr>\n",
       "    <tr>\n",
       "        <td style=\"padding-left: 1em; padding-right: 1em; text-align: center; vertical-align: top\">en</td>\n",
       "        <td style=\"padding-left: 1em; padding-right: 1em; text-align: center; vertical-align: top\">direct</td>\n",
       "        <td style=\"padding-left: 1em; padding-right: 1em; text-align: center; vertical-align: top\">direct</td>\n",
       "        <td style=\"padding-left: 1em; padding-right: 1em; text-align: center; vertical-align: top\">untracked</td>\n",
       "        <td style=\"padding-left: 1em; padding-right: 1em; text-align: center; vertical-align: top\">Web</td>\n",
       "        <td style=\"padding-left: 1em; padding-right: 1em; text-align: center; vertical-align: top\">Mac Desktop</td>\n",
       "        <td style=\"padding-left: 1em; padding-right: 1em; text-align: center; vertical-align: top\">Chrome</td>\n",
       "    </tr>\n",
       "    <tr>\n",
       "        <td style=\"padding-left: 1em; padding-right: 1em; text-align: center; vertical-align: top\">en</td>\n",
       "        <td style=\"padding-left: 1em; padding-right: 1em; text-align: center; vertical-align: top\">seo</td>\n",
       "        <td style=\"padding-left: 1em; padding-right: 1em; text-align: center; vertical-align: top\">google</td>\n",
       "        <td style=\"padding-left: 1em; padding-right: 1em; text-align: center; vertical-align: top\">untracked</td>\n",
       "        <td style=\"padding-left: 1em; padding-right: 1em; text-align: center; vertical-align: top\">Web</td>\n",
       "        <td style=\"padding-left: 1em; padding-right: 1em; text-align: center; vertical-align: top\">Mac Desktop</td>\n",
       "        <td style=\"padding-left: 1em; padding-right: 1em; text-align: center; vertical-align: top\">Chrome</td>\n",
       "    </tr>\n",
       "    <tr>\n",
       "        <td style=\"padding-left: 1em; padding-right: 1em; text-align: center; vertical-align: top\">en</td>\n",
       "        <td style=\"padding-left: 1em; padding-right: 1em; text-align: center; vertical-align: top\">direct</td>\n",
       "        <td style=\"padding-left: 1em; padding-right: 1em; text-align: center; vertical-align: top\">direct</td>\n",
       "        <td style=\"padding-left: 1em; padding-right: 1em; text-align: center; vertical-align: top\">untracked</td>\n",
       "        <td style=\"padding-left: 1em; padding-right: 1em; text-align: center; vertical-align: top\">Web</td>\n",
       "        <td style=\"padding-left: 1em; padding-right: 1em; text-align: center; vertical-align: top\">Windows Desktop</td>\n",
       "        <td style=\"padding-left: 1em; padding-right: 1em; text-align: center; vertical-align: top\">IE</td>\n",
       "    </tr>\n",
       "    <tr>\n",
       "        <td style=\"padding-left: 1em; padding-right: 1em; text-align: center; vertical-align: top\">en</td>\n",
       "        <td style=\"padding-left: 1em; padding-right: 1em; text-align: center; vertical-align: top\">direct</td>\n",
       "        <td style=\"padding-left: 1em; padding-right: 1em; text-align: center; vertical-align: top\">direct</td>\n",
       "        <td style=\"padding-left: 1em; padding-right: 1em; text-align: center; vertical-align: top\">untracked</td>\n",
       "        <td style=\"padding-left: 1em; padding-right: 1em; text-align: center; vertical-align: top\">Web</td>\n",
       "        <td style=\"padding-left: 1em; padding-right: 1em; text-align: center; vertical-align: top\">Mac Desktop</td>\n",
       "        <td style=\"padding-left: 1em; padding-right: 1em; text-align: center; vertical-align: top\">Firefox</td>\n",
       "    </tr>\n",
       "    <tr>\n",
       "        <td style=\"padding-left: 1em; padding-right: 1em; text-align: center; vertical-align: top\">en</td>\n",
       "        <td style=\"padding-left: 1em; padding-right: 1em; text-align: center; vertical-align: top\">direct</td>\n",
       "        <td style=\"padding-left: 1em; padding-right: 1em; text-align: center; vertical-align: top\">direct</td>\n",
       "        <td style=\"padding-left: 1em; padding-right: 1em; text-align: center; vertical-align: top\">untracked</td>\n",
       "        <td style=\"padding-left: 1em; padding-right: 1em; text-align: center; vertical-align: top\">Web</td>\n",
       "        <td style=\"padding-left: 1em; padding-right: 1em; text-align: center; vertical-align: top\">Mac Desktop</td>\n",
       "        <td style=\"padding-left: 1em; padding-right: 1em; text-align: center; vertical-align: top\">Chrome</td>\n",
       "    </tr>\n",
       "</table>\n",
       "<table frame=\"box\" rules=\"cols\">\n",
       "    <tr>\n",
       "        <th style=\"padding-left: 1em; padding-right: 1em; text-align: center\">country_destination</th>\n",
       "    </tr>\n",
       "    <tr>\n",
       "        <td style=\"padding-left: 1em; padding-right: 1em; text-align: center; vertical-align: top\">NDF</td>\n",
       "    </tr>\n",
       "    <tr>\n",
       "        <td style=\"padding-left: 1em; padding-right: 1em; text-align: center; vertical-align: top\">NDF</td>\n",
       "    </tr>\n",
       "    <tr>\n",
       "        <td style=\"padding-left: 1em; padding-right: 1em; text-align: center; vertical-align: top\">US</td>\n",
       "    </tr>\n",
       "    <tr>\n",
       "        <td style=\"padding-left: 1em; padding-right: 1em; text-align: center; vertical-align: top\">other</td>\n",
       "    </tr>\n",
       "    <tr>\n",
       "        <td style=\"padding-left: 1em; padding-right: 1em; text-align: center; vertical-align: top\">US</td>\n",
       "    </tr>\n",
       "</table>\n",
       "[5 rows x 16 columns]<br/>\n",
       "</div>"
      ],
      "text/plain": [
       "Columns:\n",
       "\tid\tstr\n",
       "\tdate_account_created\tstr\n",
       "\ttimestamp_first_active\tint\n",
       "\tdate_first_booking\tstr\n",
       "\tgender\tstr\n",
       "\tage\tfloat\n",
       "\tsignup_method\tstr\n",
       "\tsignup_flow\tint\n",
       "\tlanguage\tstr\n",
       "\taffiliate_channel\tstr\n",
       "\taffiliate_provider\tstr\n",
       "\tfirst_affiliate_tracked\tstr\n",
       "\tsignup_app\tstr\n",
       "\tfirst_device_type\tstr\n",
       "\tfirst_browser\tstr\n",
       "\tcountry_destination\tstr\n",
       "\n",
       "Rows: 5\n",
       "\n",
       "Data:\n",
       "+------------+----------------------+------------------------+--------------------+\n",
       "|     id     | date_account_created | timestamp_first_active | date_first_booking |\n",
       "+------------+----------------------+------------------------+--------------------+\n",
       "| gxn3p5htnn |      2010-06-28      |     20090319043255     |                    |\n",
       "| 820tgsjxq7 |      2011-05-25      |     20090523174809     |                    |\n",
       "| 4ft3gnwmtx |      2010-09-28      |     20090609231247     |     2010-08-02     |\n",
       "| bjjt8pjhuk |      2011-12-05      |     20091031060129     |     2012-09-08     |\n",
       "| 87mebub9p4 |      2010-09-14      |     20091208061105     |     2010-02-18     |\n",
       "+------------+----------------------+------------------------+--------------------+\n",
       "+-----------+------+---------------+-------------+----------+-------------------+\n",
       "|   gender  | age  | signup_method | signup_flow | language | affiliate_channel |\n",
       "+-----------+------+---------------+-------------+----------+-------------------+\n",
       "| -unknown- | None |    facebook   |      0      |    en    |       direct      |\n",
       "|    MALE   | 38.0 |    facebook   |      0      |    en    |        seo        |\n",
       "|   FEMALE  | 56.0 |     basic     |      3      |    en    |       direct      |\n",
       "|   FEMALE  | 42.0 |    facebook   |      0      |    en    |       direct      |\n",
       "| -unknown- | 41.0 |     basic     |      0      |    en    |       direct      |\n",
       "+-----------+------+---------------+-------------+----------+-------------------+\n",
       "+--------------------+-------------------------+------------+-------------------+\n",
       "| affiliate_provider | first_affiliate_tracked | signup_app | first_device_type |\n",
       "+--------------------+-------------------------+------------+-------------------+\n",
       "|       direct       |        untracked        |    Web     |    Mac Desktop    |\n",
       "|       google       |        untracked        |    Web     |    Mac Desktop    |\n",
       "|       direct       |        untracked        |    Web     |  Windows Desktop  |\n",
       "|       direct       |        untracked        |    Web     |    Mac Desktop    |\n",
       "|       direct       |        untracked        |    Web     |    Mac Desktop    |\n",
       "+--------------------+-------------------------+------------+-------------------+\n",
       "+---------------+---------------------+\n",
       "| first_browser | country_destination |\n",
       "+---------------+---------------------+\n",
       "|     Chrome    |         NDF         |\n",
       "|     Chrome    |         NDF         |\n",
       "|       IE      |          US         |\n",
       "|    Firefox    |        other        |\n",
       "|     Chrome    |          US         |\n",
       "+---------------+---------------------+\n",
       "[5 rows x 16 columns]"
      ]
     },
     "execution_count": 3,
     "metadata": {},
     "output_type": "execute_result"
    }
   ],
   "source": [
    "customer_data.head(5)"
   ]
  },
  {
   "cell_type": "markdown",
   "metadata": {},
   "source": [
    "For the needs of our current presentation we will only need a small subset of the available basic customer features, i.e. **`'gender'`**, **`'age'`** and **`'language'`**."
   ]
  },
  {
   "cell_type": "code",
   "execution_count": 4,
   "metadata": {
    "collapsed": false
   },
   "outputs": [
    {
     "data": {
      "text/html": [
       "<div style=\"max-height:1000px;max-width:1500px;overflow:auto;\"><table frame=\"box\" rules=\"cols\">\n",
       "    <tr>\n",
       "        <th style=\"padding-left: 1em; padding-right: 1em; text-align: center\">id</th>\n",
       "        <th style=\"padding-left: 1em; padding-right: 1em; text-align: center\">gender</th>\n",
       "        <th style=\"padding-left: 1em; padding-right: 1em; text-align: center\">age</th>\n",
       "        <th style=\"padding-left: 1em; padding-right: 1em; text-align: center\">language</th>\n",
       "    </tr>\n",
       "    <tr>\n",
       "        <td style=\"padding-left: 1em; padding-right: 1em; text-align: center; vertical-align: top\">gxn3p5htnn</td>\n",
       "        <td style=\"padding-left: 1em; padding-right: 1em; text-align: center; vertical-align: top\">-unknown-</td>\n",
       "        <td style=\"padding-left: 1em; padding-right: 1em; text-align: center; vertical-align: top\">None</td>\n",
       "        <td style=\"padding-left: 1em; padding-right: 1em; text-align: center; vertical-align: top\">en</td>\n",
       "    </tr>\n",
       "    <tr>\n",
       "        <td style=\"padding-left: 1em; padding-right: 1em; text-align: center; vertical-align: top\">820tgsjxq7</td>\n",
       "        <td style=\"padding-left: 1em; padding-right: 1em; text-align: center; vertical-align: top\">MALE</td>\n",
       "        <td style=\"padding-left: 1em; padding-right: 1em; text-align: center; vertical-align: top\">38.0</td>\n",
       "        <td style=\"padding-left: 1em; padding-right: 1em; text-align: center; vertical-align: top\">en</td>\n",
       "    </tr>\n",
       "    <tr>\n",
       "        <td style=\"padding-left: 1em; padding-right: 1em; text-align: center; vertical-align: top\">4ft3gnwmtx</td>\n",
       "        <td style=\"padding-left: 1em; padding-right: 1em; text-align: center; vertical-align: top\">FEMALE</td>\n",
       "        <td style=\"padding-left: 1em; padding-right: 1em; text-align: center; vertical-align: top\">56.0</td>\n",
       "        <td style=\"padding-left: 1em; padding-right: 1em; text-align: center; vertical-align: top\">en</td>\n",
       "    </tr>\n",
       "    <tr>\n",
       "        <td style=\"padding-left: 1em; padding-right: 1em; text-align: center; vertical-align: top\">bjjt8pjhuk</td>\n",
       "        <td style=\"padding-left: 1em; padding-right: 1em; text-align: center; vertical-align: top\">FEMALE</td>\n",
       "        <td style=\"padding-left: 1em; padding-right: 1em; text-align: center; vertical-align: top\">42.0</td>\n",
       "        <td style=\"padding-left: 1em; padding-right: 1em; text-align: center; vertical-align: top\">en</td>\n",
       "    </tr>\n",
       "    <tr>\n",
       "        <td style=\"padding-left: 1em; padding-right: 1em; text-align: center; vertical-align: top\">87mebub9p4</td>\n",
       "        <td style=\"padding-left: 1em; padding-right: 1em; text-align: center; vertical-align: top\">-unknown-</td>\n",
       "        <td style=\"padding-left: 1em; padding-right: 1em; text-align: center; vertical-align: top\">41.0</td>\n",
       "        <td style=\"padding-left: 1em; padding-right: 1em; text-align: center; vertical-align: top\">en</td>\n",
       "    </tr>\n",
       "    <tr>\n",
       "        <td style=\"padding-left: 1em; padding-right: 1em; text-align: center; vertical-align: top\">osr2jwljor</td>\n",
       "        <td style=\"padding-left: 1em; padding-right: 1em; text-align: center; vertical-align: top\">-unknown-</td>\n",
       "        <td style=\"padding-left: 1em; padding-right: 1em; text-align: center; vertical-align: top\">None</td>\n",
       "        <td style=\"padding-left: 1em; padding-right: 1em; text-align: center; vertical-align: top\">en</td>\n",
       "    </tr>\n",
       "    <tr>\n",
       "        <td style=\"padding-left: 1em; padding-right: 1em; text-align: center; vertical-align: top\">lsw9q7uk0j</td>\n",
       "        <td style=\"padding-left: 1em; padding-right: 1em; text-align: center; vertical-align: top\">FEMALE</td>\n",
       "        <td style=\"padding-left: 1em; padding-right: 1em; text-align: center; vertical-align: top\">46.0</td>\n",
       "        <td style=\"padding-left: 1em; padding-right: 1em; text-align: center; vertical-align: top\">en</td>\n",
       "    </tr>\n",
       "    <tr>\n",
       "        <td style=\"padding-left: 1em; padding-right: 1em; text-align: center; vertical-align: top\">0d01nltbrs</td>\n",
       "        <td style=\"padding-left: 1em; padding-right: 1em; text-align: center; vertical-align: top\">FEMALE</td>\n",
       "        <td style=\"padding-left: 1em; padding-right: 1em; text-align: center; vertical-align: top\">47.0</td>\n",
       "        <td style=\"padding-left: 1em; padding-right: 1em; text-align: center; vertical-align: top\">en</td>\n",
       "    </tr>\n",
       "    <tr>\n",
       "        <td style=\"padding-left: 1em; padding-right: 1em; text-align: center; vertical-align: top\">a1vcnhxeij</td>\n",
       "        <td style=\"padding-left: 1em; padding-right: 1em; text-align: center; vertical-align: top\">FEMALE</td>\n",
       "        <td style=\"padding-left: 1em; padding-right: 1em; text-align: center; vertical-align: top\">50.0</td>\n",
       "        <td style=\"padding-left: 1em; padding-right: 1em; text-align: center; vertical-align: top\">en</td>\n",
       "    </tr>\n",
       "    <tr>\n",
       "        <td style=\"padding-left: 1em; padding-right: 1em; text-align: center; vertical-align: top\">6uh8zyj2gn</td>\n",
       "        <td style=\"padding-left: 1em; padding-right: 1em; text-align: center; vertical-align: top\">-unknown-</td>\n",
       "        <td style=\"padding-left: 1em; padding-right: 1em; text-align: center; vertical-align: top\">46.0</td>\n",
       "        <td style=\"padding-left: 1em; padding-right: 1em; text-align: center; vertical-align: top\">en</td>\n",
       "    </tr>\n",
       "</table>\n",
       "[213451 rows x 4 columns]<br/>Note: Only the head of the SFrame is printed.<br/>You can use print_rows(num_rows=m, num_columns=n) to print more rows and columns.\n",
       "</div>"
      ],
      "text/plain": [
       "Columns:\n",
       "\tid\tstr\n",
       "\tgender\tstr\n",
       "\tage\tfloat\n",
       "\tlanguage\tstr\n",
       "\n",
       "Rows: 213451\n",
       "\n",
       "Data:\n",
       "+------------+-----------+------+----------+\n",
       "|     id     |   gender  | age  | language |\n",
       "+------------+-----------+------+----------+\n",
       "| gxn3p5htnn | -unknown- | None |    en    |\n",
       "| 820tgsjxq7 |    MALE   | 38.0 |    en    |\n",
       "| 4ft3gnwmtx |   FEMALE  | 56.0 |    en    |\n",
       "| bjjt8pjhuk |   FEMALE  | 42.0 |    en    |\n",
       "| 87mebub9p4 | -unknown- | 41.0 |    en    |\n",
       "| osr2jwljor | -unknown- | None |    en    |\n",
       "| lsw9q7uk0j |   FEMALE  | 46.0 |    en    |\n",
       "| 0d01nltbrs |   FEMALE  | 47.0 |    en    |\n",
       "| a1vcnhxeij |   FEMALE  | 50.0 |    en    |\n",
       "| 6uh8zyj2gn | -unknown- | 46.0 |    en    |\n",
       "+------------+-----------+------+----------+\n",
       "[213451 rows x 4 columns]\n",
       "Note: Only the head of the SFrame is printed.\n",
       "You can use print_rows(num_rows=m, num_columns=n) to print more rows and columns."
      ]
     },
     "execution_count": 4,
     "metadata": {},
     "output_type": "execute_result"
    }
   ],
   "source": [
    "features = ['gender', 'age', 'language']\n",
    "customer_data = customer_data[['id']+features]\n",
    "customer_data"
   ]
  },
  {
   "cell_type": "markdown",
   "metadata": {},
   "source": [
    "From the quick exploratory data analysis below:"
   ]
  },
  {
   "cell_type": "code",
   "execution_count": 5,
   "metadata": {
    "collapsed": false
   },
   "outputs": [
    {
     "data": {
      "image/png": "[encoded data removed]",
      "text/plain": [
       "<matplotlib.figure.Figure at 0x7f534998db90>"
      ]
     },
     "metadata": {},
     "output_type": "display_data"
    },
    {
     "name": "stdout",
     "output_type": "stream",
     "text": [
      "\n",
      "Summary Statistics:\n",
      "\n",
      "           gender            age language\n",
      "count      213451  125461.000000   213451\n",
      "unique          4            NaN       25\n",
      "top     -unknown-            NaN       en\n",
      "freq        95688            NaN   206314\n",
      "mean          NaN      49.668335      NaN\n",
      "std           NaN     155.666612      NaN\n",
      "min           NaN       1.000000      NaN\n",
      "25%           NaN      28.000000      NaN\n",
      "50%           NaN      34.000000      NaN\n",
      "75%           NaN      43.000000      NaN\n",
      "max           NaN    2014.000000      NaN\n"
     ]
    }
   ],
   "source": [
    "%matplotlib inline\n",
    "univariate_summary_plot(customer_data, features, nsubplots_inrow=3, subplots_wspace=0.7)"
   ]
  },
  {
   "cell_type": "code",
   "execution_count": 6,
   "metadata": {
    "collapsed": false
   },
   "outputs": [
    {
     "name": "stdout",
     "output_type": "stream",
     "text": [
      "Canvas is accessible via web browser at the URL: http://localhost:34510/index.html\n",
      "Opening Canvas in default web browser.\n"
     ]
    }
   ],
   "source": [
    "gl.canvas.set_target('browser')\n",
    "customer_data[['age']].show()"
   ]
  },
  {
   "cell_type": "code",
   "execution_count": 7,
   "metadata": {
    "collapsed": false
   },
   "outputs": [
    {
     "name": "stdout",
     "output_type": "stream",
     "text": [
      "Number of customer records with ages larger than 2013: 749\n"
     ]
    }
   ],
   "source": [
    "print 'Number of customer records with ages larger than 2013: %d' %\\\n",
    "len(customer_data[customer_data['age'] >= 2013])"
   ]
  },
  {
   "cell_type": "markdown",
   "metadata": {},
   "source": [
    "we notice that there about 750 records having an **`'age'`** value of `'2013'` or `'2014'`, which is of course wrong. Most probably the year was recorded accidentally in this field.  The remaining **`'age'`** values seams absolutely reasonable with only some rare customer entries that have ages greater than `'100'`. In fact more than 128 thousand customer entries are found to have ages in the `[1, 142]` interval. More specifically, we have choosen to assume any value falling in the `[1,150]` interval as an elligible recording of a customer age, re-assigning all the remaining ones as `missing`:"
   ]
  },
  {
   "cell_type": "code",
   "execution_count": 8,
   "metadata": {
    "collapsed": false
   },
   "outputs": [
    {
     "name": "stdout",
     "output_type": "stream",
     "text": [
      "Number of Rows in dataset: 124681\n"
     ]
    }
   ],
   "source": [
    "customer_data['age'] = customer_data['age'].apply(lambda age: age if age < 150 else None)\n",
    "customer_data = customer_data.dropna(columns = features, how='any')\n",
    "print 'Number of Rows in dataset: %d' % len(customer_data)"
   ]
  },
  {
   "cell_type": "markdown",
   "metadata": {},
   "source": [
    "Now, the univariate summary statistics of the **`customer_data`** set takes the form:"
   ]
  },
  {
   "cell_type": "code",
   "execution_count": 9,
   "metadata": {
    "collapsed": false
   },
   "outputs": [
    {
     "data": {
      "image/png": "[encoded data removed]",
      "text/plain": [
       "<matplotlib.figure.Figure at 0x7f532a712350>"
      ]
     },
     "metadata": {},
     "output_type": "display_data"
    },
    {
     "name": "stdout",
     "output_type": "stream",
     "text": [
      "\n",
      "Summary Statistics:\n",
      "\n",
      "        gender            age language\n",
      "count   124681  124681.000000   124681\n",
      "unique       4            NaN       25\n",
      "top     FEMALE            NaN       en\n",
      "freq     57247            NaN   120173\n",
      "mean       NaN      37.412629      NaN\n",
      "std        NaN      13.954917      NaN\n",
      "min        NaN       1.000000      NaN\n",
      "25%        NaN      28.000000      NaN\n",
      "50%        NaN      34.000000      NaN\n",
      "75%        NaN      43.000000      NaN\n",
      "max        NaN     132.000000      NaN\n"
     ]
    }
   ],
   "source": [
    "univariate_summary_plot(customer_data, features, nsubplots_inrow=3, subplots_wspace=0.7)"
   ]
  },
  {
   "cell_type": "markdown",
   "metadata": {},
   "source": [
    "and more specifically the remaining **customer ages** follow the distribution below:"
   ]
  },
  {
   "cell_type": "code",
   "execution_count": 10,
   "metadata": {
    "collapsed": true
   },
   "outputs": [],
   "source": [
    "# transform the SFrame into a Pandas DataFrame\n",
    "customer_data_df = customer_data.to_dataframe()\n",
    "customer_data_df['gender'] = customer_data_df['gender'].astype(str)\n",
    "customer_data_df['age'] = customer_data_df['age'].astype(float)\n",
    "customer_data_df['language'] = customer_data_df['language'].astype(str)"
   ]
  },
  {
   "cell_type": "code",
   "execution_count": 12,
   "metadata": {
    "collapsed": false
   },
   "outputs": [
    {
     "data": {
      "image/png": "[encoded data removed]",
      "text/plain": [
       "<matplotlib.figure.Figure at 0x7f531ea41e50>"
      ]
     },
     "metadata": {},
     "output_type": "display_data"
    }
   ],
   "source": [
    "# define seaborn style, palette, color codes\n",
    "sns.set(style=\"whitegrid\", palette=\"deep\",color_codes=True)\n",
    "# initialize the matplotlib figure\n",
    "plt.figure(figsize=(12,7))\n",
    "\n",
    "# draw distplot\n",
    "ax1 = sns.distplot(customer_data_df.age, bins=None, hist=True, kde=False, rug=False, color='b')"
   ]
  },
  {
   "cell_type": "markdown",
   "metadata": {},
   "source": [
    "If we would like to explore in more detail the countplot for the variable **`language`**, we can temporarily exclude the **english-speaking customers** and redraw the graph:"
   ]
  },
  {
   "cell_type": "code",
   "execution_count": 13,
   "metadata": {
    "collapsed": false
   },
   "outputs": [
    {
     "data": {
      "image/png": "[encoded data removed]",
      "text/plain": [
       "<matplotlib.figure.Figure at 0x7f5320786bd0>"
      ]
     },
     "metadata": {},
     "output_type": "display_data"
    }
   ],
   "source": [
    "# exclude the english-speaking customers\n",
    "customer_data_df_nen = customer_data_df[customer_data_df['language']!='en']\n",
    "\n",
    "# define seaborn style, palette, color codes\n",
    "sns.set(style=\"whitegrid\", palette=\"deep\",color_codes=False)\n",
    "# initialize the matplotlib figure\n",
    "plt.figure(figsize=(7,11))\n",
    "plt.ylabel('language', {'fontweight': 'bold'})\n",
    "plt.title('Countplot of Customer Languages\\n[English-speaking people excluded]',\n",
    "          {'fontweight': 'bold'})\n",
    "\n",
    "# draw countplot\n",
    "ax2 = sns.countplot(y='language', data=customer_data_df_nen, palette='deep', color='b')"
   ]
  },
  {
   "cell_type": "markdown",
   "metadata": {},
   "source": [
    "The univariate summary statistics plot for this new **`customer_data_df_nen`** set is as follows."
   ]
  },
  {
   "cell_type": "code",
   "execution_count": 14,
   "metadata": {
    "collapsed": false
   },
   "outputs": [
    {
     "data": {
      "image/png": "[encoded data removed]",
      "text/plain": [
       "<matplotlib.figure.Figure at 0x7f53207de7d0>"
      ]
     },
     "metadata": {},
     "output_type": "display_data"
    },
    {
     "name": "stdout",
     "output_type": "stream",
     "text": [
      "\n",
      "Summary Statistics:\n",
      "\n",
      "        gender          age language\n",
      "count     4508  4508.000000     4508\n",
      "unique       4          NaN       24\n",
      "top     FEMALE          NaN       zh\n",
      "freq      2152          NaN      912\n",
      "mean       NaN    33.222050      NaN\n",
      "std        NaN    13.060345      NaN\n",
      "min        NaN     5.000000      NaN\n",
      "25%        NaN    25.000000      NaN\n",
      "50%        NaN    30.000000      NaN\n",
      "75%        NaN    38.000000      NaN\n",
      "max        NaN   110.000000      NaN\n"
     ]
    }
   ],
   "source": [
    "univariate_summary_plot(customer_data_df_nen, features, subplots_wspace=0.7)"
   ]
  },
  {
   "cell_type": "markdown",
   "metadata": {},
   "source": [
    "The data set of interest, **customer_data**, has two nominal categorical variables:\n",
    "\n",
    "* **`'gender'`:** nominal categorical attribute (`FEMALE/MALE/unknown/OTHER`)\n",
    "* **`'language'`:** nominal categorical attribute of 25 different languages.\n",
    "\n",
    "which we should better encode them prior of applying any learning algorithm. To do so we will apply the **OneHotEncoding transformation** as shown below:"
   ]
  },
  {
   "cell_type": "code",
   "execution_count": 15,
   "metadata": {
    "collapsed": false
   },
   "outputs": [],
   "source": [
    "one_hot_encoder = gl.toolkits.feature_engineering.OneHotEncoder(features=['gender', 'language'])\n",
    "customer_data1 = one_hot_encoder.fit_transform(customer_data)"
   ]
  },
  {
   "cell_type": "markdown",
   "metadata": {},
   "source": [
    "**Local Outlier Factor (LOF) Models** are *distance-based learning algorithms*. Therefore, we need to standardize the **`'age'`** feature in order to be on roughly the same scale as the encoded categorical variables."
   ]
  },
  {
   "cell_type": "code",
   "execution_count": 16,
   "metadata": {
    "collapsed": false
   },
   "outputs": [
    {
     "data": {
      "text/html": [
       "<div style=\"max-height:1000px;max-width:1500px;overflow:auto;\"><table frame=\"box\" rules=\"cols\">\n",
       "    <tr>\n",
       "        <th style=\"padding-left: 1em; padding-right: 1em; text-align: center\">id</th>\n",
       "        <th style=\"padding-left: 1em; padding-right: 1em; text-align: center\">age</th>\n",
       "        <th style=\"padding-left: 1em; padding-right: 1em; text-align: center\">encoded_features</th>\n",
       "    </tr>\n",
       "    <tr>\n",
       "        <td style=\"padding-left: 1em; padding-right: 1em; text-align: center; vertical-align: top\">820tgsjxq7</td>\n",
       "        <td style=\"padding-left: 1em; padding-right: 1em; text-align: center; vertical-align: top\">0.0420907775098</td>\n",
       "        <td style=\"padding-left: 1em; padding-right: 1em; text-align: center; vertical-align: top\">{2: 1, 28: 1}</td>\n",
       "    </tr>\n",
       "    <tr>\n",
       "        <td style=\"padding-left: 1em; padding-right: 1em; text-align: center; vertical-align: top\">4ft3gnwmtx</td>\n",
       "        <td style=\"padding-left: 1em; padding-right: 1em; text-align: center; vertical-align: top\">1.33196384402</td>\n",
       "        <td style=\"padding-left: 1em; padding-right: 1em; text-align: center; vertical-align: top\">{3: 1, 28: 1}</td>\n",
       "    </tr>\n",
       "    <tr>\n",
       "        <td style=\"padding-left: 1em; padding-right: 1em; text-align: center; vertical-align: top\">bjjt8pjhuk</td>\n",
       "        <td style=\"padding-left: 1em; padding-right: 1em; text-align: center; vertical-align: top\">0.328729236733</td>\n",
       "        <td style=\"padding-left: 1em; padding-right: 1em; text-align: center; vertical-align: top\">{3: 1, 28: 1}</td>\n",
       "    </tr>\n",
       "    <tr>\n",
       "        <td style=\"padding-left: 1em; padding-right: 1em; text-align: center; vertical-align: top\">87mebub9p4</td>\n",
       "        <td style=\"padding-left: 1em; padding-right: 1em; text-align: center; vertical-align: top\">0.257069621927</td>\n",
       "        <td style=\"padding-left: 1em; padding-right: 1em; text-align: center; vertical-align: top\">{1: 1, 28: 1}</td>\n",
       "    </tr>\n",
       "    <tr>\n",
       "        <td style=\"padding-left: 1em; padding-right: 1em; text-align: center; vertical-align: top\">lsw9q7uk0j</td>\n",
       "        <td style=\"padding-left: 1em; padding-right: 1em; text-align: center; vertical-align: top\">0.615367695957</td>\n",
       "        <td style=\"padding-left: 1em; padding-right: 1em; text-align: center; vertical-align: top\">{3: 1, 28: 1}</td>\n",
       "    </tr>\n",
       "    <tr>\n",
       "        <td style=\"padding-left: 1em; padding-right: 1em; text-align: center; vertical-align: top\">0d01nltbrs</td>\n",
       "        <td style=\"padding-left: 1em; padding-right: 1em; text-align: center; vertical-align: top\">0.687027310763</td>\n",
       "        <td style=\"padding-left: 1em; padding-right: 1em; text-align: center; vertical-align: top\">{3: 1, 28: 1}</td>\n",
       "    </tr>\n",
       "    <tr>\n",
       "        <td style=\"padding-left: 1em; padding-right: 1em; text-align: center; vertical-align: top\">a1vcnhxeij</td>\n",
       "        <td style=\"padding-left: 1em; padding-right: 1em; text-align: center; vertical-align: top\">0.90200615518</td>\n",
       "        <td style=\"padding-left: 1em; padding-right: 1em; text-align: center; vertical-align: top\">{3: 1, 28: 1}</td>\n",
       "    </tr>\n",
       "    <tr>\n",
       "        <td style=\"padding-left: 1em; padding-right: 1em; text-align: center; vertical-align: top\">6uh8zyj2gn</td>\n",
       "        <td style=\"padding-left: 1em; padding-right: 1em; text-align: center; vertical-align: top\">0.615367695957</td>\n",
       "        <td style=\"padding-left: 1em; padding-right: 1em; text-align: center; vertical-align: top\">{1: 1, 28: 1}</td>\n",
       "    </tr>\n",
       "    <tr>\n",
       "        <td style=\"padding-left: 1em; padding-right: 1em; text-align: center; vertical-align: top\">yuuqmid2rp</td>\n",
       "        <td style=\"padding-left: 1em; padding-right: 1em; text-align: center; vertical-align: top\">-0.101228452102</td>\n",
       "        <td style=\"padding-left: 1em; padding-right: 1em; text-align: center; vertical-align: top\">{3: 1, 28: 1}</td>\n",
       "    </tr>\n",
       "    <tr>\n",
       "        <td style=\"padding-left: 1em; padding-right: 1em; text-align: center; vertical-align: top\">om1ss59ys8</td>\n",
       "        <td style=\"padding-left: 1em; padding-right: 1em; text-align: center; vertical-align: top\">0.687027310763</td>\n",
       "        <td style=\"padding-left: 1em; padding-right: 1em; text-align: center; vertical-align: top\">{3: 1, 28: 1}</td>\n",
       "    </tr>\n",
       "</table>\n",
       "[124681 rows x 3 columns]<br/>Note: Only the head of the SFrame is printed.<br/>You can use print_rows(num_rows=m, num_columns=n) to print more rows and columns.\n",
       "</div>"
      ],
      "text/plain": [
       "Columns:\n",
       "\tid\tstr\n",
       "\tage\tfloat\n",
       "\tencoded_features\tdict\n",
       "\n",
       "Rows: 124681\n",
       "\n",
       "Data:\n",
       "+------------+-----------------+------------------+\n",
       "|     id     |       age       | encoded_features |\n",
       "+------------+-----------------+------------------+\n",
       "| 820tgsjxq7 | 0.0420907775098 |  {2: 1, 28: 1}   |\n",
       "| 4ft3gnwmtx |  1.33196384402  |  {3: 1, 28: 1}   |\n",
       "| bjjt8pjhuk |  0.328729236733 |  {3: 1, 28: 1}   |\n",
       "| 87mebub9p4 |  0.257069621927 |  {1: 1, 28: 1}   |\n",
       "| lsw9q7uk0j |  0.615367695957 |  {3: 1, 28: 1}   |\n",
       "| 0d01nltbrs |  0.687027310763 |  {3: 1, 28: 1}   |\n",
       "| a1vcnhxeij |  0.90200615518  |  {3: 1, 28: 1}   |\n",
       "| 6uh8zyj2gn |  0.615367695957 |  {1: 1, 28: 1}   |\n",
       "| yuuqmid2rp | -0.101228452102 |  {3: 1, 28: 1}   |\n",
       "| om1ss59ys8 |  0.687027310763 |  {3: 1, 28: 1}   |\n",
       "+------------+-----------------+------------------+\n",
       "[124681 rows x 3 columns]\n",
       "Note: Only the head of the SFrame is printed.\n",
       "You can use print_rows(num_rows=m, num_columns=n) to print more rows and columns."
      ]
     },
     "execution_count": 16,
     "metadata": {},
     "output_type": "execute_result"
    }
   ],
   "source": [
    "customer_data1['age'] = (customer_data['age'] - customer_data['age'].mean())/\\\n",
    "customer_data['age'].std()\n",
    "customer_data1"
   ]
  },
  {
   "cell_type": "markdown",
   "metadata": {},
   "source": [
    "## Training a Local Outlier Factor (LOF) Model"
   ]
  },
  {
   "cell_type": "markdown",
   "metadata": {},
   "source": [
    "Next, we train the **LOF model** by using this transformed **customer_data2** set."
   ]
  },
  {
   "cell_type": "code",
   "execution_count": 17,
   "metadata": {
    "collapsed": true
   },
   "outputs": [],
   "source": [
    "model_lof = gl.anomaly_detection.local_outlier_factor.create(customer_data1, \n",
    "                                                             features = ['age', 'encoded_features'],\n",
    "                                                             threshold_distances=True,\n",
    "                                                             verbose=False)"
   ]
  },
  {
   "cell_type": "code",
   "execution_count": 18,
   "metadata": {
    "collapsed": true
   },
   "outputs": [],
   "source": [
    "model_lof.save('./model_lof')"
   ]
  },
  {
   "cell_type": "markdown",
   "metadata": {
    "collapsed": true
   },
   "source": [
    "model_lof = gl.load_model('./model_lof/')"
   ]
  },
  {
   "cell_type": "code",
   "execution_count": 19,
   "metadata": {
    "collapsed": false
   },
   "outputs": [
    {
     "name": "stdout",
     "output_type": "stream",
     "text": [
      "The LOF model has been trained with the following options:\n",
      "-------------------------------------------------------------\n",
      "{'distance': [[['encoded_features'], 'jaccard', 1.0], [['age'], 'euclidean', 1.0]], 'verbose': False, 'num_neighbors': 5, 'threshold_distances': True}\n"
     ]
    }
   ],
   "source": [
    "print 'The LOF model has been trained with the following options:'\n",
    "print '-------------------------------------------------------------'\n",
    "print model_lof.get_current_options()"
   ]
  },
  {
   "cell_type": "markdown",
   "metadata": {
    "collapsed": true
   },
   "source": [
    "Note that the model can automatically choose a suitable metric for the data type of the features we have available. Here, a composite distance of a **`'jaccard'`** and **`'euclidean'` metric** has been chosen for the **`'encoded_features'`** and the **`'age'`** columns respectively. Both these two metrics have been weighted with `1.0`. \n",
    "\n",
    "If we want what has been built by the model internally we can simply write:"
   ]
  },
  {
   "cell_type": "code",
   "execution_count": 20,
   "metadata": {
    "collapsed": false
   },
   "outputs": [
    {
     "name": "stdout",
     "output_type": "stream",
     "text": [
      "Class                                   : LocalOutlierFactorModel\n",
      "\n",
      "Schema\n",
      "------\n",
      "Number of examples                      : 124681\n",
      "Number of feature columns               : 2\n",
      "Number of neighbors                     : 5\n",
      "Use thresholded distances               : True\n",
      "Number of distance components           : 2\n",
      "Row label name                          : row_id\n",
      "\n",
      "Training summary\n",
      "----------------\n",
      "Total training time (seconds)           : 2467.8927\n",
      "\n",
      "Accessible fields\n",
      "-----------------\n",
      "nearest_neighbors_model                 : Model used internally to compute nearest neighbors.\n",
      "scores                                  : Local outlier factor for each row in the input dataset.\n"
     ]
    }
   ],
   "source": [
    "print model_lof"
   ]
  },
  {
   "cell_type": "markdown",
   "metadata": {},
   "source": [
    "More importantly, here is the **SFrame** with the **LOF anomaly scores**:"
   ]
  },
  {
   "cell_type": "code",
   "execution_count": 21,
   "metadata": {
    "collapsed": false
   },
   "outputs": [
    {
     "data": {
      "text/html": [
       "<div style=\"max-height:1000px;max-width:1500px;overflow:auto;\"><table frame=\"box\" rules=\"cols\">\n",
       "    <tr>\n",
       "        <th style=\"padding-left: 1em; padding-right: 1em; text-align: center\">row_id</th>\n",
       "        <th style=\"padding-left: 1em; padding-right: 1em; text-align: center\">density</th>\n",
       "        <th style=\"padding-left: 1em; padding-right: 1em; text-align: center\">anomaly_score</th>\n",
       "        <th style=\"padding-left: 1em; padding-right: 1em; text-align: center\">neighborhood_radius</th>\n",
       "    </tr>\n",
       "    <tr>\n",
       "        <td style=\"padding-left: 1em; padding-right: 1em; text-align: center; vertical-align: top\">0</td>\n",
       "        <td style=\"padding-left: 1em; padding-right: 1em; text-align: center; vertical-align: top\">inf</td>\n",
       "        <td style=\"padding-left: 1em; padding-right: 1em; text-align: center; vertical-align: top\">nan</td>\n",
       "        <td style=\"padding-left: 1em; padding-right: 1em; text-align: center; vertical-align: top\">0.0</td>\n",
       "    </tr>\n",
       "    <tr>\n",
       "        <td style=\"padding-left: 1em; padding-right: 1em; text-align: center; vertical-align: top\">1</td>\n",
       "        <td style=\"padding-left: 1em; padding-right: 1em; text-align: center; vertical-align: top\">inf</td>\n",
       "        <td style=\"padding-left: 1em; padding-right: 1em; text-align: center; vertical-align: top\">nan</td>\n",
       "        <td style=\"padding-left: 1em; padding-right: 1em; text-align: center; vertical-align: top\">0.0</td>\n",
       "    </tr>\n",
       "    <tr>\n",
       "        <td style=\"padding-left: 1em; padding-right: 1em; text-align: center; vertical-align: top\">2</td>\n",
       "        <td style=\"padding-left: 1em; padding-right: 1em; text-align: center; vertical-align: top\">inf</td>\n",
       "        <td style=\"padding-left: 1em; padding-right: 1em; text-align: center; vertical-align: top\">nan</td>\n",
       "        <td style=\"padding-left: 1em; padding-right: 1em; text-align: center; vertical-align: top\">0.0</td>\n",
       "    </tr>\n",
       "    <tr>\n",
       "        <td style=\"padding-left: 1em; padding-right: 1em; text-align: center; vertical-align: top\">3</td>\n",
       "        <td style=\"padding-left: 1em; padding-right: 1em; text-align: center; vertical-align: top\">inf</td>\n",
       "        <td style=\"padding-left: 1em; padding-right: 1em; text-align: center; vertical-align: top\">nan</td>\n",
       "        <td style=\"padding-left: 1em; padding-right: 1em; text-align: center; vertical-align: top\">0.0</td>\n",
       "    </tr>\n",
       "    <tr>\n",
       "        <td style=\"padding-left: 1em; padding-right: 1em; text-align: center; vertical-align: top\">4</td>\n",
       "        <td style=\"padding-left: 1em; padding-right: 1em; text-align: center; vertical-align: top\">inf</td>\n",
       "        <td style=\"padding-left: 1em; padding-right: 1em; text-align: center; vertical-align: top\">nan</td>\n",
       "        <td style=\"padding-left: 1em; padding-right: 1em; text-align: center; vertical-align: top\">0.0</td>\n",
       "    </tr>\n",
       "    <tr>\n",
       "        <td style=\"padding-left: 1em; padding-right: 1em; text-align: center; vertical-align: top\">5</td>\n",
       "        <td style=\"padding-left: 1em; padding-right: 1em; text-align: center; vertical-align: top\">inf</td>\n",
       "        <td style=\"padding-left: 1em; padding-right: 1em; text-align: center; vertical-align: top\">nan</td>\n",
       "        <td style=\"padding-left: 1em; padding-right: 1em; text-align: center; vertical-align: top\">0.0</td>\n",
       "    </tr>\n",
       "    <tr>\n",
       "        <td style=\"padding-left: 1em; padding-right: 1em; text-align: center; vertical-align: top\">6</td>\n",
       "        <td style=\"padding-left: 1em; padding-right: 1em; text-align: center; vertical-align: top\">inf</td>\n",
       "        <td style=\"padding-left: 1em; padding-right: 1em; text-align: center; vertical-align: top\">nan</td>\n",
       "        <td style=\"padding-left: 1em; padding-right: 1em; text-align: center; vertical-align: top\">0.0</td>\n",
       "    </tr>\n",
       "    <tr>\n",
       "        <td style=\"padding-left: 1em; padding-right: 1em; text-align: center; vertical-align: top\">7</td>\n",
       "        <td style=\"padding-left: 1em; padding-right: 1em; text-align: center; vertical-align: top\">inf</td>\n",
       "        <td style=\"padding-left: 1em; padding-right: 1em; text-align: center; vertical-align: top\">nan</td>\n",
       "        <td style=\"padding-left: 1em; padding-right: 1em; text-align: center; vertical-align: top\">0.0</td>\n",
       "    </tr>\n",
       "    <tr>\n",
       "        <td style=\"padding-left: 1em; padding-right: 1em; text-align: center; vertical-align: top\">8</td>\n",
       "        <td style=\"padding-left: 1em; padding-right: 1em; text-align: center; vertical-align: top\">inf</td>\n",
       "        <td style=\"padding-left: 1em; padding-right: 1em; text-align: center; vertical-align: top\">nan</td>\n",
       "        <td style=\"padding-left: 1em; padding-right: 1em; text-align: center; vertical-align: top\">0.0</td>\n",
       "    </tr>\n",
       "    <tr>\n",
       "        <td style=\"padding-left: 1em; padding-right: 1em; text-align: center; vertical-align: top\">9</td>\n",
       "        <td style=\"padding-left: 1em; padding-right: 1em; text-align: center; vertical-align: top\">inf</td>\n",
       "        <td style=\"padding-left: 1em; padding-right: 1em; text-align: center; vertical-align: top\">nan</td>\n",
       "        <td style=\"padding-left: 1em; padding-right: 1em; text-align: center; vertical-align: top\">0.0</td>\n",
       "    </tr>\n",
       "</table>\n",
       "[124681 rows x 4 columns]<br/>Note: Only the head of the SFrame is printed.<br/>You can use print_rows(num_rows=m, num_columns=n) to print more rows and columns.\n",
       "</div>"
      ],
      "text/plain": [
       "Columns:\n",
       "\trow_id\tint\n",
       "\tdensity\tfloat\n",
       "\tanomaly_score\tfloat\n",
       "\tneighborhood_radius\tfloat\n",
       "\n",
       "Rows: 124681\n",
       "\n",
       "Data:\n",
       "+--------+---------+---------------+---------------------+\n",
       "| row_id | density | anomaly_score | neighborhood_radius |\n",
       "+--------+---------+---------------+---------------------+\n",
       "|   0    |   inf   |      nan      |         0.0         |\n",
       "|   1    |   inf   |      nan      |         0.0         |\n",
       "|   2    |   inf   |      nan      |         0.0         |\n",
       "|   3    |   inf   |      nan      |         0.0         |\n",
       "|   4    |   inf   |      nan      |         0.0         |\n",
       "|   5    |   inf   |      nan      |         0.0         |\n",
       "|   6    |   inf   |      nan      |         0.0         |\n",
       "|   7    |   inf   |      nan      |         0.0         |\n",
       "|   8    |   inf   |      nan      |         0.0         |\n",
       "|   9    |   inf   |      nan      |         0.0         |\n",
       "+--------+---------+---------------+---------------------+\n",
       "[124681 rows x 4 columns]\n",
       "Note: Only the head of the SFrame is printed.\n",
       "You can use print_rows(num_rows=m, num_columns=n) to print more rows and columns."
      ]
     },
     "execution_count": 21,
     "metadata": {},
     "output_type": "execute_result"
    }
   ],
   "source": [
    "model_lof['scores']"
   ]
  },
  {
   "cell_type": "markdown",
   "metadata": {},
   "source": [
    "Firstly, note that the model worked successfully, scoring each of the 124,681 input rows. Secondly, the anomaly score for many observations in our **AirBnB dataset** is **`nan`** which indicates the point has many neighbors at exactly the same location, making the ratio of densities undefined. These points cannot be outliers.\n",
    "\n",
    "However, for the problem at hand we are interested to find if any outliers exist and under what circumstances this happens. This is where the real business value exists!"
   ]
  },
  {
   "cell_type": "markdown",
   "metadata": {},
   "source": [
    "## Using the LOF Model to detect anomalies\n",
    "\n",
    "There are two common ways to detect which observations of your data set are anomalous or not:\n",
    "\n",
    "**A.** Ask from the trained model to return the *k more anomalous observations*:\n",
    "```\n",
    "By applying the .topk() method of the model scores SFrame\n",
    "```"
   ]
  },
  {
   "cell_type": "code",
   "execution_count": 22,
   "metadata": {
    "collapsed": false
   },
   "outputs": [
    {
     "name": "stdout",
     "output_type": "stream",
     "text": [
      "+--------+---------------+---------------+---------------------+\n",
      "| row_id |    density    | anomaly_score | neighborhood_radius |\n",
      "+--------+---------------+---------------+---------------------+\n",
      "|  787   | 13.9548615034 |      inf      |   0.0716596148059   |\n",
      "|  3678  | 13.9548615034 |      inf      |   0.0716596148059   |\n",
      "|  5328  | 1.63764535897 |      inf      |    0.666666666667   |\n",
      "|  6528  | 2.09512063742 |      inf      |    0.666666666667   |\n",
      "|  8788  | 13.9548615034 |      inf      |   0.0716596148059   |\n",
      "|  9626  | 13.9548615034 |      inf      |   0.0716596148059   |\n",
      "| 10083  |      1.5      |      inf      |    0.666666666667   |\n",
      "| 10727  | 13.9548615034 |      inf      |   0.0716596148059   |\n",
      "| 10765  | 13.9548615034 |      inf      |   0.0716596148059   |\n",
      "| 11038  |      1.5      |      inf      |    0.666666666667   |\n",
      "+--------+---------------+---------------+---------------------+\n",
      "[10 rows x 4 columns]\n",
      "\n"
     ]
    }
   ],
   "source": [
    "top10_anomalies = model_lof['scores'].topk('anomaly_score', k=10)\n",
    "top10_anomalies.print_rows(num_rows=10)"
   ]
  },
  {
   "cell_type": "markdown",
   "metadata": {},
   "source": [
    "Note that the anomaly scores for these points are infinite, which happens when a point is next to several identical points, but is not itself a member of that bunch. These points are certainly anomalous, but our specific choice of k was arbitrary and excluded many points that are also likely anomalous."
   ]
  },
  {
   "cell_type": "markdown",
   "metadata": {},
   "source": [
    "**B.** Choose a *threshold*, either from domain knowledge or scientific expertise in order to find the anomalous observations in your data set:\n",
    "```\n",
    "observations with 'anomaly_score' greater than this 'threshold' will be the anomalous ones.\n",
    "```\n",
    "Of course, a closer look at the distribution of the `anomaly_scores` may help us a lot with this decision."
   ]
  },
  {
   "cell_type": "code",
   "execution_count": 23,
   "metadata": {
    "collapsed": false
   },
   "outputs": [
    {
     "name": "stdout",
     "output_type": "stream",
     "text": [
      "\n",
      "+--------------------+--------+----------+\n",
      "|        item        | value  | is exact |\n",
      "+--------------------+--------+----------+\n",
      "|       Length       | 124681 |   Yes    |\n",
      "|        Min         | 0.865  |   Yes    |\n",
      "|        Max         |  inf   |   Yes    |\n",
      "|        Mean        |  nan   |   Yes    |\n",
      "|        Sum         |  inf   |   Yes    |\n",
      "|      Variance      |  nan   |   Yes    |\n",
      "| Standard Deviation |  nan   |   Yes    |\n",
      "|  # Missing Values  |   0    |   Yes    |\n",
      "|  # unique values   |  580   |    No    |\n",
      "+--------------------+--------+----------+\n",
      "\n",
      "Most frequent items:\n",
      "+-------+-----+-----+----------------+------+----------------+----------------+\n",
      "| value | 1.0 | inf | 0.966666666667 | 1.08 | 0.933333333333 | 0.942857142857 |\n",
      "+-------+-----+-----+----------------+------+----------------+----------------+\n",
      "| count | 643 | 193 |       29       |  26  |       19       |       18       |\n",
      "+-------+-----+-----+----------------+------+----------------+----------------+\n",
      "+----------------+------+------+------+\n",
      "| 0.885714285714 | 1.16 | 1.07 | 1.11 |\n",
      "+----------------+------+------+------+\n",
      "|       15       |  14  |  12  |  11  |\n",
      "+----------------+------+------+------+\n",
      "\n",
      "Quantiles: \n",
      "+-------+----------------+----------------+-----+-----+---------------+-----+\n",
      "|   0%  |       1%       |       5%       | 25% | 50% |      75%      | 95% |\n",
      "+-------+----------------+----------------+-----+-----+---------------+-----+\n",
      "| 0.865 | 0.885714285714 | 0.936666666667 | 1.0 | 1.0 | 1.21333333333 | inf |\n",
      "+-------+----------------+----------------+-----+-----+---------------+-----+\n",
      "+-----+------+\n",
      "| 99% | 100% |\n",
      "+-----+------+\n",
      "| inf | inf  |\n",
      "+-----+------+\n",
      "\n"
     ]
    }
   ],
   "source": [
    "anomaly_scores_sketch = model_lof['scores']['anomaly_score'].sketch_summary()\n",
    "print anomaly_scores_sketch"
   ]
  },
  {
   "cell_type": "code",
   "execution_count": 24,
   "metadata": {
    "collapsed": false
   },
   "outputs": [
    {
     "name": "stdout",
     "output_type": "stream",
     "text": [
      "Threshold: inf \n",
      "Number of Anomalies: 193\n"
     ]
    }
   ],
   "source": [
    "threshold = anomaly_scores_sketch.quantile(0.9)\n",
    "anomalies_mask = model_lof['scores']['anomaly_score'] >= threshold\n",
    "anomalies = model_lof['scores'][anomalies_mask]\n",
    "print 'Threshold: %.5f' % threshold, '\\nNumber of Anomalies: %d' % len(anomalies)"
   ]
  },
  {
   "cell_type": "code",
   "execution_count": 25,
   "metadata": {
    "collapsed": false
   },
   "outputs": [
    {
     "name": "stdout",
     "output_type": "stream",
     "text": [
      "+--------+---------------+---------------+---------------------+\n",
      "| row_id |    density    | anomaly_score | neighborhood_radius |\n",
      "+--------+---------------+---------------+---------------------+\n",
      "|  787   | 13.9548615034 |      inf      |   0.0716596148059   |\n",
      "|  3678  | 13.9548615034 |      inf      |   0.0716596148059   |\n",
      "|  5328  | 1.63764535897 |      inf      |    0.666666666667   |\n",
      "|  6528  | 2.09512063742 |      inf      |    0.666666666667   |\n",
      "|  8788  | 13.9548615034 |      inf      |   0.0716596148059   |\n",
      "|  9626  | 13.9548615034 |      inf      |   0.0716596148059   |\n",
      "| 10083  |      1.5      |      inf      |    0.666666666667   |\n",
      "| 10727  | 13.9548615034 |      inf      |   0.0716596148059   |\n",
      "| 10765  | 13.9548615034 |      inf      |   0.0716596148059   |\n",
      "| 11038  |      1.5      |      inf      |    0.666666666667   |\n",
      "+--------+---------------+---------------+---------------------+\n",
      "[193 rows x 4 columns]\n",
      "\n"
     ]
    }
   ],
   "source": [
    "anomalies.print_rows(num_rows=10)"
   ]
  },
  {
   "cell_type": "markdown",
   "metadata": {},
   "source": [
    "Finally, we can filter out the **`customer_data`** set by the **`anomalies['row_id']`** to obtain the original features of these anomalous data points in record."
   ]
  },
  {
   "cell_type": "code",
   "execution_count": 26,
   "metadata": {
    "collapsed": false
   },
   "outputs": [
    {
     "name": "stdout",
     "output_type": "stream",
     "text": [
      "+--------+------------+-----------+-------+----------+\n",
      "| row_id |     id     |   gender  |  age  | language |\n",
      "+--------+------------+-----------+-------+----------+\n",
      "|  787   | w6i3ix717s |   OTHER   |  36.0 |    en    |\n",
      "|  3678  | jwzspk0ipl |    MALE   |  39.0 |    zh    |\n",
      "|  5328  | eqsihtnz34 |   FEMALE  |  36.0 |    hu    |\n",
      "|  6528  | dyu0sssqo5 | -unknown- |  47.0 |    nl    |\n",
      "|  8788  | 91vfcvol82 |    MALE   |  91.0 |    en    |\n",
      "|  9626  | t6fvmrna0t |    MALE   |  98.0 |    en    |\n",
      "| 10083  | n45ipduv9i |    MALE   |  28.0 |    fi    |\n",
      "| 10727  | 9zhr7vpciy |    MALE   |  39.0 |    fr    |\n",
      "| 10765  | lerui8bp4h |   FEMALE  |  88.0 |    en    |\n",
      "| 11038  | h0cf46ubyt |    MALE   |  27.0 |    fi    |\n",
      "| 12293  | unnvgq3efo |    MALE   |  40.0 |    pl    |\n",
      "| 13926  | 1yoqktv6n6 |   OTHER   |  36.0 |    en    |\n",
      "| 13980  | 2a9z5icq6y |    MALE   |  39.0 |    de    |\n",
      "| 14044  | oyr9d8w1ig |   OTHER   |  39.0 |    en    |\n",
      "| 15897  | lqf1twcvos |    MALE   | 101.0 |    en    |\n",
      "| 17154  | c817bnjsp4 |    MALE   |  34.0 |    th    |\n",
      "| 18260  | u0c8pp8dow |   FEMALE  |  19.0 |    de    |\n",
      "| 18774  | t5g7yx6sks |   FEMALE  |  27.0 |    sv    |\n",
      "| 19324  | y5l9io8veg |    MALE   |  91.0 |    en    |\n",
      "| 20849  | n8f00fxpav |   OTHER   |  39.0 |    en    |\n",
      "| 21232  | 0xrkw4fyw2 |   FEMALE  |  33.0 |    ru    |\n",
      "| 21279  | 2scyrludwh |    MALE   |  98.0 |    en    |\n",
      "| 21557  | kfdibfstle |   FEMALE  |  27.0 |    sv    |\n",
      "| 22354  | 4ha5obt82l |    MALE   |  35.0 |    it    |\n",
      "| 22816  | pscm1xlz37 |    MALE   |  91.0 |    en    |\n",
      "| 24235  | 2rvp3se9j9 |   FEMALE  |  34.0 |    de    |\n",
      "| 25081  | p7puqntomm |    MALE   |  40.0 |    ko    |\n",
      "| 25101  | 2g6hrnhnb6 |    MALE   |  94.0 |    en    |\n",
      "| 26681  | 6wf96zdcvk |    MALE   |  98.0 |    en    |\n",
      "| 26786  | p21uet4l05 |   FEMALE  |  26.0 |    ru    |\n",
      "| 26962  | bj5g8lixyq |   FEMALE  |  88.0 |    en    |\n",
      "| 27673  | rzsz6n5i05 |   FEMALE  |  34.0 |    de    |\n",
      "| 28426  | uipdrp7drt |   OTHER   |  44.0 |    en    |\n",
      "| 29007  | nnqjh2u2re |    MALE   |  39.0 |    de    |\n",
      "| 30375  | ko40ov8fsf |   FEMALE  |  35.0 |    el    |\n",
      "| 30737  | q5ljs1sqyq |    MALE   |  39.0 |    de    |\n",
      "| 30740  | 5msz5ddlxi |    MALE   |  35.0 |    it    |\n",
      "| 30777  | ho9ag8jmbi |    MALE   |  94.0 |    en    |\n",
      "| 31305  | 7ipdgkwscn |    MALE   |  23.0 |    de    |\n",
      "| 31616  | qf21bmidle |   FEMALE  |  27.0 |    de    |\n",
      "| 31986  | 8vn7n6732o |    MALE   |  36.0 |    es    |\n",
      "| 32879  | 30mrn0pd33 |    MALE   |  25.0 |    ru    |\n",
      "| 33724  | mh7ykpn147 |    MALE   | 101.0 |    en    |\n",
      "| 34950  | bfzxxhwhni |   FEMALE  |  36.0 |    hu    |\n",
      "| 36948  | iknls6q14s |    MALE   |  39.0 |    fr    |\n",
      "| 38244  | dmccxwu3sl |   FEMALE  |  64.0 |    de    |\n",
      "| 40214  | 9uu7cyhq1v |    MALE   |  25.0 |    ru    |\n",
      "| 41241  | bpmp74acdf |   FEMALE  |  32.0 |    th    |\n",
      "| 42377  | 4s5y11lmre |    MALE   |  40.0 |    ko    |\n",
      "| 42546  | rxfwhr3158 |   OTHER   |  44.0 |    en    |\n",
      "| 43225  | irj9i2n0nx |   FEMALE  |  22.0 |    sv    |\n",
      "| 44091  | mx2eqy1cpk |    MALE   | 108.0 |    en    |\n",
      "| 45005  | mvqqbw343t |   OTHER   |  36.0 |    en    |\n",
      "| 45033  | iudbydxi6o |    MALE   |  39.0 |    zh    |\n",
      "| 45047  | j24sw5v572 |   FEMALE  |  88.0 |    en    |\n",
      "| 46339  | s61x07vvsg |    MALE   |  94.0 |    en    |\n",
      "| 46375  | roy5fk3ez5 |    MALE   |  27.0 |    ru    |\n",
      "| 46502  | pv1wki3itf | -unknown- |  15.0 |    en    |\n",
      "| 47261  | 98w8a1t65x |   FEMALE  |  33.0 |    ru    |\n",
      "| 47336  | k1g3iax7gd |    MALE   |  92.0 |    en    |\n",
      "| 47738  | l2hbp7tg6g |    MALE   |  98.0 |    en    |\n",
      "| 47838  | y8jm031su3 |    MALE   | 101.0 |    en    |\n",
      "| 47886  | p69kdgrl2g |    MALE   |  39.0 |    de    |\n",
      "| 47904  | a87wnoi5u7 |    MALE   |  39.0 |    zh    |\n",
      "| 48480  | 874fy2hc0v |   FEMALE  |  40.0 |    fr    |\n",
      "| 48796  | wc93nt5vok |    MALE   |  35.0 |    it    |\n",
      "| 49777  | wc8bb71jnw |    MALE   |  25.0 |    ru    |\n",
      "| 50889  | 7zrwfyh8yy |    MALE   |  35.0 |    it    |\n",
      "| 51023  | fqeav2qj5i |   FEMALE  |  22.0 |    hu    |\n",
      "| 51588  | f2hj5gw4c0 |   FEMALE  |  22.0 |    de    |\n",
      "| 52592  | fq2x6nalo9 |   FEMALE  |  88.0 |    en    |\n",
      "| 53554  | 0n07xj0qlx |    MALE   |  92.0 |    en    |\n",
      "| 54821  | yiqo26yodm |   FEMALE  |  40.0 |    fr    |\n",
      "| 55830  | n6ugg334eg |    MALE   |  71.0 |    fr    |\n",
      "| 57747  | h6k3524pqn | -unknown- |  26.0 |    zh    |\n",
      "| 58518  | mph6ldpg5p |   FEMALE  |  26.0 |    ru    |\n",
      "| 59018  | xgg4udkocy |    MALE   | 108.0 |    en    |\n",
      "| 59040  | axg2e2tgf4 |   FEMALE  |  19.0 |    de    |\n",
      "| 59399  | z6qfisrre9 |   OTHER   |  39.0 |    en    |\n",
      "| 59484  | unciu6n9s1 |   OTHER   |  51.0 |    en    |\n",
      "| 60707  | mxgy2hi8lc |    MALE   |  26.0 |    cs    |\n",
      "| 61707  | 9rw3sypabc |    MALE   |  23.0 |    de    |\n",
      "| 63081  | u00c0qlf1o |   FEMALE  |  22.0 |    de    |\n",
      "| 63436  | az9pobqi2g |   FEMALE  |  34.0 |    de    |\n",
      "| 63895  | kr0l5h8j4i |    MALE   |  98.0 |    en    |\n",
      "| 64820  | dtrg98vt27 |   FEMALE  |  40.0 |    fr    |\n",
      "| 65385  | zm5p80tzgu |    MALE   |  39.0 |    fr    |\n",
      "| 66865  | x66sn9ndsy |    MALE   |  27.0 |    th    |\n",
      "| 67077  | 14z4t55a8l |    MALE   |  36.0 |    es    |\n",
      "| 67979  | qzepyxvw0d |   FEMALE  |  34.0 |    de    |\n",
      "| 69324  | uixx9403eo |   FEMALE  |  27.0 |    sv    |\n",
      "| 69404  | uotgs2tnr1 |    MALE   | 108.0 |    en    |\n",
      "| 71644  | dsr06wqj6v |    MALE   | 108.0 |    en    |\n",
      "| 71976  | 877hi481jr |   FEMALE  |  26.0 |    ru    |\n",
      "| 72079  | dj9v652mbc |   FEMALE  |  25.0 |    el    |\n",
      "| 72318  | 6i55c93kup |    MALE   |  40.0 |    ko    |\n",
      "| 72700  | sa94ou8bok | -unknown- |  34.0 |    fr    |\n",
      "| 72912  | co08lr3pn3 |   FEMALE  |  37.0 |    ko    |\n",
      "| 73235  | 1s3cid1010 |    MALE   |  28.0 |    th    |\n",
      "| 73627  | m4dfh5jm3v | -unknown- |  15.0 |    en    |\n",
      "| 73968  | zkwakc1i08 |    MALE   |  42.0 |    ko    |\n",
      "| 75053  | 29ql6k9he8 |   OTHER   |  51.0 |    en    |\n",
      "| 75421  | ry4uemic5o |    MALE   |  39.0 |    fr    |\n",
      "| 76863  | 1zds91p8m9 |    MALE   |  46.0 |    da    |\n",
      "| 77000  | vio6n04q46 |   FEMALE  |  45.0 |    da    |\n",
      "| 77838  | fwrysylzt1 |    MALE   |  92.0 |    en    |\n",
      "| 78156  | bt91ucqv6m |    MALE   |  91.0 |    en    |\n",
      "| 79167  | xy8qb61c1r |   FEMALE  |  26.0 |    ru    |\n",
      "| 79375  | puvgvvu6xs |    MALE   |  35.0 |    it    |\n",
      "| 79592  | 0y57yi1sc1 |   FEMALE  |  41.0 |    es    |\n",
      "| 80050  | 2flgaa2ub3 |   FEMALE  |  37.0 |    el    |\n",
      "| 81516  | 4ewysjr8sp |   FEMALE  |  26.0 |    ru    |\n",
      "| 81853  | j4lbte90v8 |   OTHER   |  51.0 |    en    |\n",
      "| 82867  | erlamwz51w |    MALE   |  23.0 |    de    |\n",
      "| 83529  | nxx0y70s3h |    MALE   |  27.0 |    ru    |\n",
      "| 85076  | jqry7hv8us |   FEMALE  |  30.0 |    fi    |\n",
      "| 86261  | fxk0o2piqx |    MALE   |  42.0 |    ko    |\n",
      "| 86618  | 8dwjr6bhnq |   FEMALE  |  22.0 |    de    |\n",
      "| 87586  | lql3y0u1u3 |   FEMALE  |  41.0 |    es    |\n",
      "| 87860  | xft8nyld5s | -unknown- |  20.0 |    it    |\n",
      "| 88014  | 00fn6wu77e |   FEMALE  |  27.0 |    de    |\n",
      "| 88022  | r13gwqsa66 |   OTHER   |  44.0 |    en    |\n",
      "| 88066  | mkd8qo897u |   OTHER   |  51.0 |    en    |\n",
      "| 88603  | w68eu2asd4 |    MALE   |  36.0 |    es    |\n",
      "| 88918  | l1s2ftl7hf |    MALE   |  27.0 |    ru    |\n",
      "| 89327  | bhvr1c7q4k |   FEMALE  |  27.0 |    de    |\n",
      "| 91202  | wox91filok |   FEMALE  |  27.0 |    sv    |\n",
      "| 91279  | y00cramb1g |    MALE   |  44.0 |    el    |\n",
      "| 91418  | 18g7gss5n9 | -unknown- |  31.0 |    ru    |\n",
      "| 91446  | y3nndt4alt |    MALE   |  27.0 |    ru    |\n",
      "| 92081  | rjynx8s8g8 |   OTHER   |  44.0 |    en    |\n",
      "| 92603  | 2szv3d907w |    MALE   |  23.0 |    de    |\n",
      "| 94586  | zl1qmq4qa7 |    MALE   |  20.0 |    id    |\n",
      "| 94819  | 6rzjma0vmq |    MALE   |  35.0 |    cs    |\n",
      "| 95037  | 0vhiuvupgj |    MALE   |  17.0 |    it    |\n",
      "| 95115  | 1jmue0ct0g |   FEMALE  |  22.0 |    de    |\n",
      "| 96202  | dolc5wcp15 |   FEMALE  |  35.0 |    th    |\n",
      "| 96226  | n1d9o1nz58 |   FEMALE  |  31.0 |    th    |\n",
      "| 96494  | uygi2kex5w |    MALE   | 101.0 |    en    |\n",
      "| 96646  | 2mkf8vu4v4 |    MALE   |  92.0 |    en    |\n",
      "| 96760  | wd8tpxs87a |    MALE   |  28.0 |    th    |\n",
      "| 96777  | i9va17b12r | -unknown- |  32.0 |    ru    |\n",
      "| 97069  | xhunwa3b0l |   FEMALE  |  27.0 |    de    |\n",
      "| 97173  | wy1bxe3bnb |   FEMALE  |  41.0 |    es    |\n",
      "| 97419  | nozrl9d436 |    MALE   |  94.0 |    en    |\n",
      "| 97580  | vy7bf52b63 |    MALE   |  23.0 |    th    |\n",
      "| 97621  | wyvbii39o1 |    MALE   | 101.0 |    en    |\n",
      "| 98094  | a7q5y0tfht |   FEMALE  |  41.0 |    es    |\n",
      "| 99610  | yxeehrr8jv |    MALE   |  36.0 |    es    |\n",
      "| 100076 | 7gxvw7sflb |   FEMALE  |  62.0 |    ru    |\n",
      "| 100657 | xxkdrpaffu |    MALE   |  25.0 |    ru    |\n",
      "| 102474 | yb3c5u8ggx |   FEMALE  |  43.0 |    zh    |\n",
      "| 103187 | t6bck4li4j |   OTHER   |  39.0 |    en    |\n",
      "| 103301 | 67af8d7zcj |    MALE   |  92.0 |    en    |\n",
      "| 103897 | jgx9bdcxih |    MALE   |  91.0 |    en    |\n",
      "| 104831 | agy23vnsom | -unknown- |  26.0 |    zh    |\n",
      "| 105084 | 832znjbicy |    MALE   | 108.0 |    en    |\n",
      "| 105299 | jozq26g7ol |    MALE   |  39.0 |    fr    |\n",
      "| 105507 | mch7jrjfsy |    MALE   | 104.0 |    it    |\n",
      "| 106591 | f8v9hjple3 |    MALE   |  39.0 |    zh    |\n",
      "| 106743 | h8q44jeteh |    MALE   |  71.0 |    ru    |\n",
      "| 107322 | ozspjod2dy |    MALE   |  40.0 |    ko    |\n",
      "| 108304 | x4k358fahh |   FEMALE  |  22.0 |    de    |\n",
      "| 108321 | u5t34yo1gs |   FEMALE  |  88.0 |    en    |\n",
      "| 108802 | kjv2snx9aj |   OTHER   |  36.0 |    en    |\n",
      "| 109874 | t7xlg3jg7j |   FEMALE  |  43.0 |    zh    |\n",
      "| 109906 | pt6f662hxb |    MALE   |  36.0 |    es    |\n",
      "| 110070 | x447w4khpq |   FEMALE  |  19.0 |    de    |\n",
      "| 110158 | y9snhnr4gp |    MALE   |  39.0 |    zh    |\n",
      "| 111490 | 5s7stqy8cc |    MALE   |  43.0 |    tr    |\n",
      "| 111763 | mty0558lp8 | -unknown- |  42.0 |    ko    |\n",
      "| 112458 | 8izfetkj1u |    MALE   |  75.0 |    ru    |\n",
      "| 112911 | cwp2jtnb1a |    MALE   |  27.0 |    ru    |\n",
      "| 113166 | u6u4qll6wr |   OTHER   |  39.0 |    en    |\n",
      "| 114022 | ew43x6pikv |   FEMALE  |  25.0 |    hu    |\n",
      "| 115461 | sbz4jj4dw2 |   FEMALE  |  41.0 |    es    |\n",
      "| 115566 | gv5bn08cd8 |   FEMALE  |  19.0 |    de    |\n",
      "| 115668 | nqc3hwerk2 |    MALE   |  94.0 |    en    |\n",
      "| 117742 | jkywcvqxp0 |   FEMALE  |  34.0 |    de    |\n",
      "| 117781 | pej0es6pdc |   FEMALE  |  33.0 |    ru    |\n",
      "| 117899 | xc4k98fhy8 |   FEMALE  |  43.0 |    zh    |\n",
      "| 118267 | wyczz5vwhe |    MALE   |  25.0 |    ru    |\n",
      "| 118294 | f5gg5hp4ne |   FEMALE  |  35.0 |    el    |\n",
      "| 118694 | 1lqc712a7q |    MALE   |  42.0 |    ko    |\n",
      "| 119047 | rlbey80etn |   OTHER   |  44.0 |    en    |\n",
      "| 119662 | p6mq3z0m1i |   FEMALE  |  27.0 |    de    |\n",
      "| 120236 | kzzt7oqzun |   FEMALE  |  43.0 |    zh    |\n",
      "| 120240 | fkpwhf0xp6 |   FEMALE  |  35.0 |    th    |\n",
      "| 120801 | yilb3fj7k4 |   FEMALE  |  19.0 |    de    |\n",
      "| 121962 | 0sdd1z92v2 |    MALE   |  40.0 |    ko    |\n",
      "| 122634 | kb1ja3xxln |    MALE   |  42.0 |    ko    |\n",
      "| 123011 | 3737oc2uis |    MALE   |  42.0 |    ko    |\n",
      "| 124267 | xxhpg5929w |   OTHER   |  36.0 |    en    |\n",
      "+--------+------------+-----------+-------+----------+\n",
      "[193 rows x 5 columns]\n",
      "\n"
     ]
    }
   ],
   "source": [
    "customer_data = customer_data.add_row_number(column_name='row_id')\n",
    "anomalous_customer_data = customer_data.filter_by(anomalies['row_id'], 'row_id')\n",
    "anomalous_customer_data.print_rows(num_rows=200)"
   ]
  },
  {
   "cell_type": "code",
   "execution_count": null,
   "metadata": {
    "collapsed": true
   },
   "outputs": [],
   "source": []
  }
 ],
 "metadata": {
  "kernelspec": {
   "display_name": "Python 2",
   "language": "python",
   "name": "python2"
  },
  "language_info": {
   "codemirror_mode": {
    "name": "ipython",
    "version": 2
   },
   "file_extension": ".py",
   "mimetype": "text/x-python",
   "name": "python",
   "nbconvert_exporter": "python",
   "pygments_lexer": "ipython2",
   "version": "2.7.11"
  }
 },
 "nbformat": 4,
 "nbformat_minor": 0
}
