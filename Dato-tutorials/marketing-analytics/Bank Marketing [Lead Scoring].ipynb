{
 "cells": [
  {
   "cell_type": "markdown",
   "metadata": {},
   "source": [
    "# Know your customer (KYC) - [Lead Scoring]\n",
    "\n",
    "## Marketing a new product to customers\n",
    "\n",
    "In this short note we discuss **customer targeting** through **telemarketing phone calls** to sell **long-term deposits**. More specifically, within a campaign, the human agents execute phone calls to a list of clients to sell the deposit (outbound clients) or, if meanwhile the client calls the contact-center for any other reason, he is asked to subscribe the deposit (inbound client). Thus, the result is a binary one, i.e. the client can either subscribe for a term deposit (**`'yes'`**) or not (**`'no'`**).\n",
    "\n",
    "The data set we use is provided by the [UCI ML Repository]( https://archive.ics.uci.edu/ml/datasets/Bank+Marketing), has 41188 examples of customer (and prospects) respone in this telemarketing campaign and 20 other attributes. These attributes describe their personal characteristics (e.g. age, type of job, marital status, educational level), their credit and loan data (e.g. credit in default, existence of housing and/or personal loan), details concerning their behavior during the telemarketing campaign (e.g. number of contacts performed,  number of days that passed by after the client was last contacted,  number of contacts performed before this campaign) and some important socioeconomic indicators (e.g. CPI, CCI, euribor 3 month rate). These response data have been ordered by date (from May 2008 to November 2010), and it is very close to the data analyzed in [Moro et al., 2014](http://www.sciencedirect.com/science/article/pii/S016792361400061X) some years ago."
   ]
  },
  {
   "cell_type": "markdown",
   "metadata": {},
   "source": [
    "### Data Source / Bibliography:\n",
    "[Moro et al., 2014] S. Moro, P. Cortez and P. Rita. A Data-Driven Approach to Predict the Success of Bank Telemarketing. Decision Support Systems, Elsevier, 62:22-31, June 2014\n",
    "\n",
    "Dataset has been provided from the UCI ML Repository: https://archive.ics.uci.edu/ml/datasets/Bank+Marketing"
   ]
  },
  {
   "cell_type": "markdown",
   "metadata": {},
   "source": [
    "## Libraries and Necessary Data Transformation\n",
    "\n",
    "First we fire up **GraphLab Create**, all the other necessary libraries and load the **bank-marketing** data set in an **SFrame**."
   ]
  },
  {
   "cell_type": "code",
   "execution_count": 1,
   "metadata": {
    "collapsed": false
   },
   "outputs": [
    {
     "name": "stderr",
     "output_type": "stream",
     "text": [
      "A newer version of GraphLab Create (v1.10.1) is available! Your current version is v1.9.\n",
      "\n",
      "You can use pip to upgrade the graphlab-create package. For more information see https://dato.com/products/create/upgrade.\n"
     ]
    }
   ],
   "source": [
    "import graphlab as gl\n",
    "import pandas as pd\n",
    "from datetime import datetime\n",
    "from sklearn.cross_validation import StratifiedKFold"
   ]
  },
  {
   "cell_type": "code",
   "execution_count": 2,
   "metadata": {
    "collapsed": false
   },
   "outputs": [
    {
     "name": "stderr",
     "output_type": "stream",
     "text": [
      "2016-06-12 08:26:56,791 [INFO] graphlab.cython.cy_server, 176: GraphLab Create v1.9 started. Logging: /tmp/graphlab_server_1465709212.log\n"
     ]
    },
    {
     "data": {
      "text/html": [
       "<pre>Finished parsing file /home/theod/Documents/ML_Home/04.UCI.ML.REPO/Bank_Marketing/bank-additional/bank-additional-full.csv</pre>"
      ],
      "text/plain": [
       "Finished parsing file /home/theod/Documents/ML_Home/04.UCI.ML.REPO/Bank_Marketing/bank-additional/bank-additional-full.csv"
      ]
     },
     "metadata": {},
     "output_type": "display_data"
    },
    {
     "data": {
      "text/html": [
       "<pre>Parsing completed. Parsed 100 lines in 1.02396 secs.</pre>"
      ],
      "text/plain": [
       "Parsing completed. Parsed 100 lines in 1.02396 secs."
      ]
     },
     "metadata": {},
     "output_type": "display_data"
    },
    {
     "name": "stdout",
     "output_type": "stream",
     "text": [
      "This non-commercial license of GraphLab Create is assigned to tgrammat@gmail.com and will expire on September 21, 2016. For commercial licensing options, visit https://dato.com/buy/.\n",
      "------------------------------------------------------"
     ]
    },
    {
     "data": {
      "text/html": [
       "<pre>Finished parsing file /home/theod/Documents/ML_Home/04.UCI.ML.REPO/Bank_Marketing/bank-additional/bank-additional-full.csv</pre>"
      ],
      "text/plain": [
       "Finished parsing file /home/theod/Documents/ML_Home/04.UCI.ML.REPO/Bank_Marketing/bank-additional/bank-additional-full.csv"
      ]
     },
     "metadata": {},
     "output_type": "display_data"
    },
    {
     "data": {
      "text/html": [
       "<pre>Parsing completed. Parsed 41188 lines in 0.81011 secs.</pre>"
      ],
      "text/plain": [
       "Parsing completed. Parsed 41188 lines in 0.81011 secs."
      ]
     },
     "metadata": {},
     "output_type": "display_data"
    },
    {
     "name": "stdout",
     "output_type": "stream",
     "text": [
      "\n",
      "Inferred types from first 100 line(s) of file as \n",
      "column_type_hints=[int,str,str,str,str,str,str,str,str,str,int,int,int,int,str,float,float,float,float,int,str]\n",
      "If parsing fails due to incorrect types, you can correct\n",
      "the inferred type list above and pass it to read_csv in\n",
      "the column_type_hints argument\n",
      "------------------------------------------------------\n"
     ]
    }
   ],
   "source": [
    "## load data set from a locally saved csv file\n",
    "bank_marketing = gl.SFrame.read_csv('./../../../04.UCI.ML.REPO/Bank_Marketing/bank-additional/bank-additional-full.csv',\n",
    "                                     delimiter=';')\n",
    "\n",
    "## other methods of loading data sets...\n",
    "\n",
    "# data = gl.SFrame('s3://' or 'hdfs://')\n",
    "# data # pySpark RDD or SchemaRDD / Spark DataFrame\n",
    "# data = gl.SFrame.read_json('')\n",
    "# With a DB: configure ODBC manager / driver on the machine\n",
    "# data = gl.connect_odbc?\n",
    "# data = gl.from_sql?"
   ]
  },
  {
   "cell_type": "code",
   "execution_count": 3,
   "metadata": {
    "collapsed": false
   },
   "outputs": [
    {
     "data": {
      "text/html": [
       "<div style=\"max-height:1000px;max-width:1500px;overflow:auto;\"><table frame=\"box\" rules=\"cols\">\n",
       "    <tr>\n",
       "        <th style=\"padding-left: 1em; padding-right: 1em; text-align: center\">age</th>\n",
       "        <th style=\"padding-left: 1em; padding-right: 1em; text-align: center\">job</th>\n",
       "        <th style=\"padding-left: 1em; padding-right: 1em; text-align: center\">marital</th>\n",
       "        <th style=\"padding-left: 1em; padding-right: 1em; text-align: center\">education</th>\n",
       "        <th style=\"padding-left: 1em; padding-right: 1em; text-align: center\">default</th>\n",
       "        <th style=\"padding-left: 1em; padding-right: 1em; text-align: center\">housing</th>\n",
       "        <th style=\"padding-left: 1em; padding-right: 1em; text-align: center\">loan</th>\n",
       "        <th style=\"padding-left: 1em; padding-right: 1em; text-align: center\">contact</th>\n",
       "        <th style=\"padding-left: 1em; padding-right: 1em; text-align: center\">month</th>\n",
       "        <th style=\"padding-left: 1em; padding-right: 1em; text-align: center\">day_of_week</th>\n",
       "        <th style=\"padding-left: 1em; padding-right: 1em; text-align: center\">duration</th>\n",
       "    </tr>\n",
       "    <tr>\n",
       "        <td style=\"padding-left: 1em; padding-right: 1em; text-align: center; vertical-align: top\">56</td>\n",
       "        <td style=\"padding-left: 1em; padding-right: 1em; text-align: center; vertical-align: top\">housemaid</td>\n",
       "        <td style=\"padding-left: 1em; padding-right: 1em; text-align: center; vertical-align: top\">married</td>\n",
       "        <td style=\"padding-left: 1em; padding-right: 1em; text-align: center; vertical-align: top\">basic.4y</td>\n",
       "        <td style=\"padding-left: 1em; padding-right: 1em; text-align: center; vertical-align: top\">no</td>\n",
       "        <td style=\"padding-left: 1em; padding-right: 1em; text-align: center; vertical-align: top\">no</td>\n",
       "        <td style=\"padding-left: 1em; padding-right: 1em; text-align: center; vertical-align: top\">no</td>\n",
       "        <td style=\"padding-left: 1em; padding-right: 1em; text-align: center; vertical-align: top\">telephone</td>\n",
       "        <td style=\"padding-left: 1em; padding-right: 1em; text-align: center; vertical-align: top\">may</td>\n",
       "        <td style=\"padding-left: 1em; padding-right: 1em; text-align: center; vertical-align: top\">mon</td>\n",
       "        <td style=\"padding-left: 1em; padding-right: 1em; text-align: center; vertical-align: top\">261</td>\n",
       "    </tr>\n",
       "    <tr>\n",
       "        <td style=\"padding-left: 1em; padding-right: 1em; text-align: center; vertical-align: top\">57</td>\n",
       "        <td style=\"padding-left: 1em; padding-right: 1em; text-align: center; vertical-align: top\">services</td>\n",
       "        <td style=\"padding-left: 1em; padding-right: 1em; text-align: center; vertical-align: top\">married</td>\n",
       "        <td style=\"padding-left: 1em; padding-right: 1em; text-align: center; vertical-align: top\">high.school</td>\n",
       "        <td style=\"padding-left: 1em; padding-right: 1em; text-align: center; vertical-align: top\">unknown</td>\n",
       "        <td style=\"padding-left: 1em; padding-right: 1em; text-align: center; vertical-align: top\">no</td>\n",
       "        <td style=\"padding-left: 1em; padding-right: 1em; text-align: center; vertical-align: top\">no</td>\n",
       "        <td style=\"padding-left: 1em; padding-right: 1em; text-align: center; vertical-align: top\">telephone</td>\n",
       "        <td style=\"padding-left: 1em; padding-right: 1em; text-align: center; vertical-align: top\">may</td>\n",
       "        <td style=\"padding-left: 1em; padding-right: 1em; text-align: center; vertical-align: top\">mon</td>\n",
       "        <td style=\"padding-left: 1em; padding-right: 1em; text-align: center; vertical-align: top\">149</td>\n",
       "    </tr>\n",
       "    <tr>\n",
       "        <td style=\"padding-left: 1em; padding-right: 1em; text-align: center; vertical-align: top\">37</td>\n",
       "        <td style=\"padding-left: 1em; padding-right: 1em; text-align: center; vertical-align: top\">services</td>\n",
       "        <td style=\"padding-left: 1em; padding-right: 1em; text-align: center; vertical-align: top\">married</td>\n",
       "        <td style=\"padding-left: 1em; padding-right: 1em; text-align: center; vertical-align: top\">high.school</td>\n",
       "        <td style=\"padding-left: 1em; padding-right: 1em; text-align: center; vertical-align: top\">no</td>\n",
       "        <td style=\"padding-left: 1em; padding-right: 1em; text-align: center; vertical-align: top\">yes</td>\n",
       "        <td style=\"padding-left: 1em; padding-right: 1em; text-align: center; vertical-align: top\">no</td>\n",
       "        <td style=\"padding-left: 1em; padding-right: 1em; text-align: center; vertical-align: top\">telephone</td>\n",
       "        <td style=\"padding-left: 1em; padding-right: 1em; text-align: center; vertical-align: top\">may</td>\n",
       "        <td style=\"padding-left: 1em; padding-right: 1em; text-align: center; vertical-align: top\">mon</td>\n",
       "        <td style=\"padding-left: 1em; padding-right: 1em; text-align: center; vertical-align: top\">226</td>\n",
       "    </tr>\n",
       "    <tr>\n",
       "        <td style=\"padding-left: 1em; padding-right: 1em; text-align: center; vertical-align: top\">40</td>\n",
       "        <td style=\"padding-left: 1em; padding-right: 1em; text-align: center; vertical-align: top\">admin.</td>\n",
       "        <td style=\"padding-left: 1em; padding-right: 1em; text-align: center; vertical-align: top\">married</td>\n",
       "        <td style=\"padding-left: 1em; padding-right: 1em; text-align: center; vertical-align: top\">basic.6y</td>\n",
       "        <td style=\"padding-left: 1em; padding-right: 1em; text-align: center; vertical-align: top\">no</td>\n",
       "        <td style=\"padding-left: 1em; padding-right: 1em; text-align: center; vertical-align: top\">no</td>\n",
       "        <td style=\"padding-left: 1em; padding-right: 1em; text-align: center; vertical-align: top\">no</td>\n",
       "        <td style=\"padding-left: 1em; padding-right: 1em; text-align: center; vertical-align: top\">telephone</td>\n",
       "        <td style=\"padding-left: 1em; padding-right: 1em; text-align: center; vertical-align: top\">may</td>\n",
       "        <td style=\"padding-left: 1em; padding-right: 1em; text-align: center; vertical-align: top\">mon</td>\n",
       "        <td style=\"padding-left: 1em; padding-right: 1em; text-align: center; vertical-align: top\">151</td>\n",
       "    </tr>\n",
       "    <tr>\n",
       "        <td style=\"padding-left: 1em; padding-right: 1em; text-align: center; vertical-align: top\">56</td>\n",
       "        <td style=\"padding-left: 1em; padding-right: 1em; text-align: center; vertical-align: top\">services</td>\n",
       "        <td style=\"padding-left: 1em; padding-right: 1em; text-align: center; vertical-align: top\">married</td>\n",
       "        <td style=\"padding-left: 1em; padding-right: 1em; text-align: center; vertical-align: top\">high.school</td>\n",
       "        <td style=\"padding-left: 1em; padding-right: 1em; text-align: center; vertical-align: top\">no</td>\n",
       "        <td style=\"padding-left: 1em; padding-right: 1em; text-align: center; vertical-align: top\">no</td>\n",
       "        <td style=\"padding-left: 1em; padding-right: 1em; text-align: center; vertical-align: top\">yes</td>\n",
       "        <td style=\"padding-left: 1em; padding-right: 1em; text-align: center; vertical-align: top\">telephone</td>\n",
       "        <td style=\"padding-left: 1em; padding-right: 1em; text-align: center; vertical-align: top\">may</td>\n",
       "        <td style=\"padding-left: 1em; padding-right: 1em; text-align: center; vertical-align: top\">mon</td>\n",
       "        <td style=\"padding-left: 1em; padding-right: 1em; text-align: center; vertical-align: top\">307</td>\n",
       "    </tr>\n",
       "    <tr>\n",
       "        <td style=\"padding-left: 1em; padding-right: 1em; text-align: center; vertical-align: top\">45</td>\n",
       "        <td style=\"padding-left: 1em; padding-right: 1em; text-align: center; vertical-align: top\">services</td>\n",
       "        <td style=\"padding-left: 1em; padding-right: 1em; text-align: center; vertical-align: top\">married</td>\n",
       "        <td style=\"padding-left: 1em; padding-right: 1em; text-align: center; vertical-align: top\">basic.9y</td>\n",
       "        <td style=\"padding-left: 1em; padding-right: 1em; text-align: center; vertical-align: top\">unknown</td>\n",
       "        <td style=\"padding-left: 1em; padding-right: 1em; text-align: center; vertical-align: top\">no</td>\n",
       "        <td style=\"padding-left: 1em; padding-right: 1em; text-align: center; vertical-align: top\">no</td>\n",
       "        <td style=\"padding-left: 1em; padding-right: 1em; text-align: center; vertical-align: top\">telephone</td>\n",
       "        <td style=\"padding-left: 1em; padding-right: 1em; text-align: center; vertical-align: top\">may</td>\n",
       "        <td style=\"padding-left: 1em; padding-right: 1em; text-align: center; vertical-align: top\">mon</td>\n",
       "        <td style=\"padding-left: 1em; padding-right: 1em; text-align: center; vertical-align: top\">198</td>\n",
       "    </tr>\n",
       "    <tr>\n",
       "        <td style=\"padding-left: 1em; padding-right: 1em; text-align: center; vertical-align: top\">59</td>\n",
       "        <td style=\"padding-left: 1em; padding-right: 1em; text-align: center; vertical-align: top\">admin.</td>\n",
       "        <td style=\"padding-left: 1em; padding-right: 1em; text-align: center; vertical-align: top\">married</td>\n",
       "        <td style=\"padding-left: 1em; padding-right: 1em; text-align: center; vertical-align: top\">professional.course</td>\n",
       "        <td style=\"padding-left: 1em; padding-right: 1em; text-align: center; vertical-align: top\">no</td>\n",
       "        <td style=\"padding-left: 1em; padding-right: 1em; text-align: center; vertical-align: top\">no</td>\n",
       "        <td style=\"padding-left: 1em; padding-right: 1em; text-align: center; vertical-align: top\">no</td>\n",
       "        <td style=\"padding-left: 1em; padding-right: 1em; text-align: center; vertical-align: top\">telephone</td>\n",
       "        <td style=\"padding-left: 1em; padding-right: 1em; text-align: center; vertical-align: top\">may</td>\n",
       "        <td style=\"padding-left: 1em; padding-right: 1em; text-align: center; vertical-align: top\">mon</td>\n",
       "        <td style=\"padding-left: 1em; padding-right: 1em; text-align: center; vertical-align: top\">139</td>\n",
       "    </tr>\n",
       "    <tr>\n",
       "        <td style=\"padding-left: 1em; padding-right: 1em; text-align: center; vertical-align: top\">41</td>\n",
       "        <td style=\"padding-left: 1em; padding-right: 1em; text-align: center; vertical-align: top\">blue-collar</td>\n",
       "        <td style=\"padding-left: 1em; padding-right: 1em; text-align: center; vertical-align: top\">married</td>\n",
       "        <td style=\"padding-left: 1em; padding-right: 1em; text-align: center; vertical-align: top\">unknown</td>\n",
       "        <td style=\"padding-left: 1em; padding-right: 1em; text-align: center; vertical-align: top\">unknown</td>\n",
       "        <td style=\"padding-left: 1em; padding-right: 1em; text-align: center; vertical-align: top\">no</td>\n",
       "        <td style=\"padding-left: 1em; padding-right: 1em; text-align: center; vertical-align: top\">no</td>\n",
       "        <td style=\"padding-left: 1em; padding-right: 1em; text-align: center; vertical-align: top\">telephone</td>\n",
       "        <td style=\"padding-left: 1em; padding-right: 1em; text-align: center; vertical-align: top\">may</td>\n",
       "        <td style=\"padding-left: 1em; padding-right: 1em; text-align: center; vertical-align: top\">mon</td>\n",
       "        <td style=\"padding-left: 1em; padding-right: 1em; text-align: center; vertical-align: top\">217</td>\n",
       "    </tr>\n",
       "    <tr>\n",
       "        <td style=\"padding-left: 1em; padding-right: 1em; text-align: center; vertical-align: top\">24</td>\n",
       "        <td style=\"padding-left: 1em; padding-right: 1em; text-align: center; vertical-align: top\">technician</td>\n",
       "        <td style=\"padding-left: 1em; padding-right: 1em; text-align: center; vertical-align: top\">single</td>\n",
       "        <td style=\"padding-left: 1em; padding-right: 1em; text-align: center; vertical-align: top\">professional.course</td>\n",
       "        <td style=\"padding-left: 1em; padding-right: 1em; text-align: center; vertical-align: top\">no</td>\n",
       "        <td style=\"padding-left: 1em; padding-right: 1em; text-align: center; vertical-align: top\">yes</td>\n",
       "        <td style=\"padding-left: 1em; padding-right: 1em; text-align: center; vertical-align: top\">no</td>\n",
       "        <td style=\"padding-left: 1em; padding-right: 1em; text-align: center; vertical-align: top\">telephone</td>\n",
       "        <td style=\"padding-left: 1em; padding-right: 1em; text-align: center; vertical-align: top\">may</td>\n",
       "        <td style=\"padding-left: 1em; padding-right: 1em; text-align: center; vertical-align: top\">mon</td>\n",
       "        <td style=\"padding-left: 1em; padding-right: 1em; text-align: center; vertical-align: top\">380</td>\n",
       "    </tr>\n",
       "    <tr>\n",
       "        <td style=\"padding-left: 1em; padding-right: 1em; text-align: center; vertical-align: top\">25</td>\n",
       "        <td style=\"padding-left: 1em; padding-right: 1em; text-align: center; vertical-align: top\">services</td>\n",
       "        <td style=\"padding-left: 1em; padding-right: 1em; text-align: center; vertical-align: top\">single</td>\n",
       "        <td style=\"padding-left: 1em; padding-right: 1em; text-align: center; vertical-align: top\">high.school</td>\n",
       "        <td style=\"padding-left: 1em; padding-right: 1em; text-align: center; vertical-align: top\">no</td>\n",
       "        <td style=\"padding-left: 1em; padding-right: 1em; text-align: center; vertical-align: top\">yes</td>\n",
       "        <td style=\"padding-left: 1em; padding-right: 1em; text-align: center; vertical-align: top\">no</td>\n",
       "        <td style=\"padding-left: 1em; padding-right: 1em; text-align: center; vertical-align: top\">telephone</td>\n",
       "        <td style=\"padding-left: 1em; padding-right: 1em; text-align: center; vertical-align: top\">may</td>\n",
       "        <td style=\"padding-left: 1em; padding-right: 1em; text-align: center; vertical-align: top\">mon</td>\n",
       "        <td style=\"padding-left: 1em; padding-right: 1em; text-align: center; vertical-align: top\">50</td>\n",
       "    </tr>\n",
       "</table>\n",
       "<table frame=\"box\" rules=\"cols\">\n",
       "    <tr>\n",
       "        <th style=\"padding-left: 1em; padding-right: 1em; text-align: center\">campaign</th>\n",
       "        <th style=\"padding-left: 1em; padding-right: 1em; text-align: center\">pdays</th>\n",
       "        <th style=\"padding-left: 1em; padding-right: 1em; text-align: center\">previous</th>\n",
       "        <th style=\"padding-left: 1em; padding-right: 1em; text-align: center\">poutcome</th>\n",
       "        <th style=\"padding-left: 1em; padding-right: 1em; text-align: center\">emp.var.rate</th>\n",
       "        <th style=\"padding-left: 1em; padding-right: 1em; text-align: center\">cons.price.idx</th>\n",
       "        <th style=\"padding-left: 1em; padding-right: 1em; text-align: center\">cons.conf.idx</th>\n",
       "        <th style=\"padding-left: 1em; padding-right: 1em; text-align: center\">euribor3m</th>\n",
       "        <th style=\"padding-left: 1em; padding-right: 1em; text-align: center\">nr.employed</th>\n",
       "    </tr>\n",
       "    <tr>\n",
       "        <td style=\"padding-left: 1em; padding-right: 1em; text-align: center; vertical-align: top\">1</td>\n",
       "        <td style=\"padding-left: 1em; padding-right: 1em; text-align: center; vertical-align: top\">999</td>\n",
       "        <td style=\"padding-left: 1em; padding-right: 1em; text-align: center; vertical-align: top\">0</td>\n",
       "        <td style=\"padding-left: 1em; padding-right: 1em; text-align: center; vertical-align: top\">nonexistent</td>\n",
       "        <td style=\"padding-left: 1em; padding-right: 1em; text-align: center; vertical-align: top\">1.1</td>\n",
       "        <td style=\"padding-left: 1em; padding-right: 1em; text-align: center; vertical-align: top\">93.994</td>\n",
       "        <td style=\"padding-left: 1em; padding-right: 1em; text-align: center; vertical-align: top\">-36.4</td>\n",
       "        <td style=\"padding-left: 1em; padding-right: 1em; text-align: center; vertical-align: top\">4.857</td>\n",
       "        <td style=\"padding-left: 1em; padding-right: 1em; text-align: center; vertical-align: top\">5191</td>\n",
       "    </tr>\n",
       "    <tr>\n",
       "        <td style=\"padding-left: 1em; padding-right: 1em; text-align: center; vertical-align: top\">1</td>\n",
       "        <td style=\"padding-left: 1em; padding-right: 1em; text-align: center; vertical-align: top\">999</td>\n",
       "        <td style=\"padding-left: 1em; padding-right: 1em; text-align: center; vertical-align: top\">0</td>\n",
       "        <td style=\"padding-left: 1em; padding-right: 1em; text-align: center; vertical-align: top\">nonexistent</td>\n",
       "        <td style=\"padding-left: 1em; padding-right: 1em; text-align: center; vertical-align: top\">1.1</td>\n",
       "        <td style=\"padding-left: 1em; padding-right: 1em; text-align: center; vertical-align: top\">93.994</td>\n",
       "        <td style=\"padding-left: 1em; padding-right: 1em; text-align: center; vertical-align: top\">-36.4</td>\n",
       "        <td style=\"padding-left: 1em; padding-right: 1em; text-align: center; vertical-align: top\">4.857</td>\n",
       "        <td style=\"padding-left: 1em; padding-right: 1em; text-align: center; vertical-align: top\">5191</td>\n",
       "    </tr>\n",
       "    <tr>\n",
       "        <td style=\"padding-left: 1em; padding-right: 1em; text-align: center; vertical-align: top\">1</td>\n",
       "        <td style=\"padding-left: 1em; padding-right: 1em; text-align: center; vertical-align: top\">999</td>\n",
       "        <td style=\"padding-left: 1em; padding-right: 1em; text-align: center; vertical-align: top\">0</td>\n",
       "        <td style=\"padding-left: 1em; padding-right: 1em; text-align: center; vertical-align: top\">nonexistent</td>\n",
       "        <td style=\"padding-left: 1em; padding-right: 1em; text-align: center; vertical-align: top\">1.1</td>\n",
       "        <td style=\"padding-left: 1em; padding-right: 1em; text-align: center; vertical-align: top\">93.994</td>\n",
       "        <td style=\"padding-left: 1em; padding-right: 1em; text-align: center; vertical-align: top\">-36.4</td>\n",
       "        <td style=\"padding-left: 1em; padding-right: 1em; text-align: center; vertical-align: top\">4.857</td>\n",
       "        <td style=\"padding-left: 1em; padding-right: 1em; text-align: center; vertical-align: top\">5191</td>\n",
       "    </tr>\n",
       "    <tr>\n",
       "        <td style=\"padding-left: 1em; padding-right: 1em; text-align: center; vertical-align: top\">1</td>\n",
       "        <td style=\"padding-left: 1em; padding-right: 1em; text-align: center; vertical-align: top\">999</td>\n",
       "        <td style=\"padding-left: 1em; padding-right: 1em; text-align: center; vertical-align: top\">0</td>\n",
       "        <td style=\"padding-left: 1em; padding-right: 1em; text-align: center; vertical-align: top\">nonexistent</td>\n",
       "        <td style=\"padding-left: 1em; padding-right: 1em; text-align: center; vertical-align: top\">1.1</td>\n",
       "        <td style=\"padding-left: 1em; padding-right: 1em; text-align: center; vertical-align: top\">93.994</td>\n",
       "        <td style=\"padding-left: 1em; padding-right: 1em; text-align: center; vertical-align: top\">-36.4</td>\n",
       "        <td style=\"padding-left: 1em; padding-right: 1em; text-align: center; vertical-align: top\">4.857</td>\n",
       "        <td style=\"padding-left: 1em; padding-right: 1em; text-align: center; vertical-align: top\">5191</td>\n",
       "    </tr>\n",
       "    <tr>\n",
       "        <td style=\"padding-left: 1em; padding-right: 1em; text-align: center; vertical-align: top\">1</td>\n",
       "        <td style=\"padding-left: 1em; padding-right: 1em; text-align: center; vertical-align: top\">999</td>\n",
       "        <td style=\"padding-left: 1em; padding-right: 1em; text-align: center; vertical-align: top\">0</td>\n",
       "        <td style=\"padding-left: 1em; padding-right: 1em; text-align: center; vertical-align: top\">nonexistent</td>\n",
       "        <td style=\"padding-left: 1em; padding-right: 1em; text-align: center; vertical-align: top\">1.1</td>\n",
       "        <td style=\"padding-left: 1em; padding-right: 1em; text-align: center; vertical-align: top\">93.994</td>\n",
       "        <td style=\"padding-left: 1em; padding-right: 1em; text-align: center; vertical-align: top\">-36.4</td>\n",
       "        <td style=\"padding-left: 1em; padding-right: 1em; text-align: center; vertical-align: top\">4.857</td>\n",
       "        <td style=\"padding-left: 1em; padding-right: 1em; text-align: center; vertical-align: top\">5191</td>\n",
       "    </tr>\n",
       "    <tr>\n",
       "        <td style=\"padding-left: 1em; padding-right: 1em; text-align: center; vertical-align: top\">1</td>\n",
       "        <td style=\"padding-left: 1em; padding-right: 1em; text-align: center; vertical-align: top\">999</td>\n",
       "        <td style=\"padding-left: 1em; padding-right: 1em; text-align: center; vertical-align: top\">0</td>\n",
       "        <td style=\"padding-left: 1em; padding-right: 1em; text-align: center; vertical-align: top\">nonexistent</td>\n",
       "        <td style=\"padding-left: 1em; padding-right: 1em; text-align: center; vertical-align: top\">1.1</td>\n",
       "        <td style=\"padding-left: 1em; padding-right: 1em; text-align: center; vertical-align: top\">93.994</td>\n",
       "        <td style=\"padding-left: 1em; padding-right: 1em; text-align: center; vertical-align: top\">-36.4</td>\n",
       "        <td style=\"padding-left: 1em; padding-right: 1em; text-align: center; vertical-align: top\">4.857</td>\n",
       "        <td style=\"padding-left: 1em; padding-right: 1em; text-align: center; vertical-align: top\">5191</td>\n",
       "    </tr>\n",
       "    <tr>\n",
       "        <td style=\"padding-left: 1em; padding-right: 1em; text-align: center; vertical-align: top\">1</td>\n",
       "        <td style=\"padding-left: 1em; padding-right: 1em; text-align: center; vertical-align: top\">999</td>\n",
       "        <td style=\"padding-left: 1em; padding-right: 1em; text-align: center; vertical-align: top\">0</td>\n",
       "        <td style=\"padding-left: 1em; padding-right: 1em; text-align: center; vertical-align: top\">nonexistent</td>\n",
       "        <td style=\"padding-left: 1em; padding-right: 1em; text-align: center; vertical-align: top\">1.1</td>\n",
       "        <td style=\"padding-left: 1em; padding-right: 1em; text-align: center; vertical-align: top\">93.994</td>\n",
       "        <td style=\"padding-left: 1em; padding-right: 1em; text-align: center; vertical-align: top\">-36.4</td>\n",
       "        <td style=\"padding-left: 1em; padding-right: 1em; text-align: center; vertical-align: top\">4.857</td>\n",
       "        <td style=\"padding-left: 1em; padding-right: 1em; text-align: center; vertical-align: top\">5191</td>\n",
       "    </tr>\n",
       "    <tr>\n",
       "        <td style=\"padding-left: 1em; padding-right: 1em; text-align: center; vertical-align: top\">1</td>\n",
       "        <td style=\"padding-left: 1em; padding-right: 1em; text-align: center; vertical-align: top\">999</td>\n",
       "        <td style=\"padding-left: 1em; padding-right: 1em; text-align: center; vertical-align: top\">0</td>\n",
       "        <td style=\"padding-left: 1em; padding-right: 1em; text-align: center; vertical-align: top\">nonexistent</td>\n",
       "        <td style=\"padding-left: 1em; padding-right: 1em; text-align: center; vertical-align: top\">1.1</td>\n",
       "        <td style=\"padding-left: 1em; padding-right: 1em; text-align: center; vertical-align: top\">93.994</td>\n",
       "        <td style=\"padding-left: 1em; padding-right: 1em; text-align: center; vertical-align: top\">-36.4</td>\n",
       "        <td style=\"padding-left: 1em; padding-right: 1em; text-align: center; vertical-align: top\">4.857</td>\n",
       "        <td style=\"padding-left: 1em; padding-right: 1em; text-align: center; vertical-align: top\">5191</td>\n",
       "    </tr>\n",
       "    <tr>\n",
       "        <td style=\"padding-left: 1em; padding-right: 1em; text-align: center; vertical-align: top\">1</td>\n",
       "        <td style=\"padding-left: 1em; padding-right: 1em; text-align: center; vertical-align: top\">999</td>\n",
       "        <td style=\"padding-left: 1em; padding-right: 1em; text-align: center; vertical-align: top\">0</td>\n",
       "        <td style=\"padding-left: 1em; padding-right: 1em; text-align: center; vertical-align: top\">nonexistent</td>\n",
       "        <td style=\"padding-left: 1em; padding-right: 1em; text-align: center; vertical-align: top\">1.1</td>\n",
       "        <td style=\"padding-left: 1em; padding-right: 1em; text-align: center; vertical-align: top\">93.994</td>\n",
       "        <td style=\"padding-left: 1em; padding-right: 1em; text-align: center; vertical-align: top\">-36.4</td>\n",
       "        <td style=\"padding-left: 1em; padding-right: 1em; text-align: center; vertical-align: top\">4.857</td>\n",
       "        <td style=\"padding-left: 1em; padding-right: 1em; text-align: center; vertical-align: top\">5191</td>\n",
       "    </tr>\n",
       "    <tr>\n",
       "        <td style=\"padding-left: 1em; padding-right: 1em; text-align: center; vertical-align: top\">1</td>\n",
       "        <td style=\"padding-left: 1em; padding-right: 1em; text-align: center; vertical-align: top\">999</td>\n",
       "        <td style=\"padding-left: 1em; padding-right: 1em; text-align: center; vertical-align: top\">0</td>\n",
       "        <td style=\"padding-left: 1em; padding-right: 1em; text-align: center; vertical-align: top\">nonexistent</td>\n",
       "        <td style=\"padding-left: 1em; padding-right: 1em; text-align: center; vertical-align: top\">1.1</td>\n",
       "        <td style=\"padding-left: 1em; padding-right: 1em; text-align: center; vertical-align: top\">93.994</td>\n",
       "        <td style=\"padding-left: 1em; padding-right: 1em; text-align: center; vertical-align: top\">-36.4</td>\n",
       "        <td style=\"padding-left: 1em; padding-right: 1em; text-align: center; vertical-align: top\">4.857</td>\n",
       "        <td style=\"padding-left: 1em; padding-right: 1em; text-align: center; vertical-align: top\">5191</td>\n",
       "    </tr>\n",
       "</table>\n",
       "<table frame=\"box\" rules=\"cols\">\n",
       "    <tr>\n",
       "        <th style=\"padding-left: 1em; padding-right: 1em; text-align: center\">y</th>\n",
       "    </tr>\n",
       "    <tr>\n",
       "        <td style=\"padding-left: 1em; padding-right: 1em; text-align: center; vertical-align: top\">no</td>\n",
       "    </tr>\n",
       "    <tr>\n",
       "        <td style=\"padding-left: 1em; padding-right: 1em; text-align: center; vertical-align: top\">no</td>\n",
       "    </tr>\n",
       "    <tr>\n",
       "        <td style=\"padding-left: 1em; padding-right: 1em; text-align: center; vertical-align: top\">no</td>\n",
       "    </tr>\n",
       "    <tr>\n",
       "        <td style=\"padding-left: 1em; padding-right: 1em; text-align: center; vertical-align: top\">no</td>\n",
       "    </tr>\n",
       "    <tr>\n",
       "        <td style=\"padding-left: 1em; padding-right: 1em; text-align: center; vertical-align: top\">no</td>\n",
       "    </tr>\n",
       "    <tr>\n",
       "        <td style=\"padding-left: 1em; padding-right: 1em; text-align: center; vertical-align: top\">no</td>\n",
       "    </tr>\n",
       "    <tr>\n",
       "        <td style=\"padding-left: 1em; padding-right: 1em; text-align: center; vertical-align: top\">no</td>\n",
       "    </tr>\n",
       "    <tr>\n",
       "        <td style=\"padding-left: 1em; padding-right: 1em; text-align: center; vertical-align: top\">no</td>\n",
       "    </tr>\n",
       "    <tr>\n",
       "        <td style=\"padding-left: 1em; padding-right: 1em; text-align: center; vertical-align: top\">no</td>\n",
       "    </tr>\n",
       "    <tr>\n",
       "        <td style=\"padding-left: 1em; padding-right: 1em; text-align: center; vertical-align: top\">no</td>\n",
       "    </tr>\n",
       "</table>\n",
       "[10 rows x 21 columns]<br/>\n",
       "</div>"
      ],
      "text/plain": [
       "Columns:\n",
       "\tage\tint\n",
       "\tjob\tstr\n",
       "\tmarital\tstr\n",
       "\teducation\tstr\n",
       "\tdefault\tstr\n",
       "\thousing\tstr\n",
       "\tloan\tstr\n",
       "\tcontact\tstr\n",
       "\tmonth\tstr\n",
       "\tday_of_week\tstr\n",
       "\tduration\tint\n",
       "\tcampaign\tint\n",
       "\tpdays\tint\n",
       "\tprevious\tint\n",
       "\tpoutcome\tstr\n",
       "\temp.var.rate\tfloat\n",
       "\tcons.price.idx\tfloat\n",
       "\tcons.conf.idx\tfloat\n",
       "\teuribor3m\tfloat\n",
       "\tnr.employed\tint\n",
       "\ty\tstr\n",
       "\n",
       "Rows: 10\n",
       "\n",
       "Data:\n",
       "+-----+-------------+---------+---------------------+---------+---------+------+\n",
       "| age |     job     | marital |      education      | default | housing | loan |\n",
       "+-----+-------------+---------+---------------------+---------+---------+------+\n",
       "|  56 |  housemaid  | married |       basic.4y      |    no   |    no   |  no  |\n",
       "|  57 |   services  | married |     high.school     | unknown |    no   |  no  |\n",
       "|  37 |   services  | married |     high.school     |    no   |   yes   |  no  |\n",
       "|  40 |    admin.   | married |       basic.6y      |    no   |    no   |  no  |\n",
       "|  56 |   services  | married |     high.school     |    no   |    no   | yes  |\n",
       "|  45 |   services  | married |       basic.9y      | unknown |    no   |  no  |\n",
       "|  59 |    admin.   | married | professional.course |    no   |    no   |  no  |\n",
       "|  41 | blue-collar | married |       unknown       | unknown |    no   |  no  |\n",
       "|  24 |  technician |  single | professional.course |    no   |   yes   |  no  |\n",
       "|  25 |   services  |  single |     high.school     |    no   |   yes   |  no  |\n",
       "+-----+-------------+---------+---------------------+---------+---------+------+\n",
       "+-----------+-------+-------------+----------+----------+-------+----------+\n",
       "|  contact  | month | day_of_week | duration | campaign | pdays | previous |\n",
       "+-----------+-------+-------------+----------+----------+-------+----------+\n",
       "| telephone |  may  |     mon     |   261    |    1     |  999  |    0     |\n",
       "| telephone |  may  |     mon     |   149    |    1     |  999  |    0     |\n",
       "| telephone |  may  |     mon     |   226    |    1     |  999  |    0     |\n",
       "| telephone |  may  |     mon     |   151    |    1     |  999  |    0     |\n",
       "| telephone |  may  |     mon     |   307    |    1     |  999  |    0     |\n",
       "| telephone |  may  |     mon     |   198    |    1     |  999  |    0     |\n",
       "| telephone |  may  |     mon     |   139    |    1     |  999  |    0     |\n",
       "| telephone |  may  |     mon     |   217    |    1     |  999  |    0     |\n",
       "| telephone |  may  |     mon     |   380    |    1     |  999  |    0     |\n",
       "| telephone |  may  |     mon     |    50    |    1     |  999  |    0     |\n",
       "+-----------+-------+-------------+----------+----------+-------+----------+\n",
       "+-------------+--------------+----------------+---------------+-----------+-------------+-----+\n",
       "|   poutcome  | emp.var.rate | cons.price.idx | cons.conf.idx | euribor3m | nr.employed | ... |\n",
       "+-------------+--------------+----------------+---------------+-----------+-------------+-----+\n",
       "| nonexistent |     1.1      |     93.994     |     -36.4     |   4.857   |     5191    | ... |\n",
       "| nonexistent |     1.1      |     93.994     |     -36.4     |   4.857   |     5191    | ... |\n",
       "| nonexistent |     1.1      |     93.994     |     -36.4     |   4.857   |     5191    | ... |\n",
       "| nonexistent |     1.1      |     93.994     |     -36.4     |   4.857   |     5191    | ... |\n",
       "| nonexistent |     1.1      |     93.994     |     -36.4     |   4.857   |     5191    | ... |\n",
       "| nonexistent |     1.1      |     93.994     |     -36.4     |   4.857   |     5191    | ... |\n",
       "| nonexistent |     1.1      |     93.994     |     -36.4     |   4.857   |     5191    | ... |\n",
       "| nonexistent |     1.1      |     93.994     |     -36.4     |   4.857   |     5191    | ... |\n",
       "| nonexistent |     1.1      |     93.994     |     -36.4     |   4.857   |     5191    | ... |\n",
       "| nonexistent |     1.1      |     93.994     |     -36.4     |   4.857   |     5191    | ... |\n",
       "+-------------+--------------+----------------+---------------+-----------+-------------+-----+\n",
       "[10 rows x 21 columns]"
      ]
     },
     "execution_count": 3,
     "metadata": {},
     "output_type": "execute_result"
    }
   ],
   "source": [
    "bank_marketing.head()"
   ]
  },
  {
   "cell_type": "markdown",
   "metadata": {},
   "source": [
    "### Data Dictionary\n",
    "\n",
    "The original dataset has the following attribute information:\n",
    "\n",
    "\n",
    "| Field Num | Field Name | Description |\n",
    "|---|---|---|\n",
    "| 1 | **`age`** | (numeric) |\n",
    "| 2 | **`job`** | type of job (categorical: 'admin.', 'blue-collar', 'entrepreneur', 'housemaid', 'management', 'retired', 'self-employed', 'services', 'student', 'technician', 'unemployed', 'unknown')|\n",
    "| 3 | **`marital`** | marital status (categorical: 'divorced', 'married', 'single', 'unknown'; note: 'divorced' means *divorced* or *widowed*) |\n",
    "| 4 | **`education`** | (categorical: 'basic.4y', 'basic.6y',  'basic.9y', 'high.school', 'illiterate', 'professional.course', 'university.degree', 'unknown') |\n",
    "| 5 | **`default`** | has credit in default? (categorical: 'no', 'yes', 'unknown') |\n",
    "| 6 | **`housing`** | has housing loan? (categorical: 'no', 'yes', 'unknown') |\n",
    "| 7 | **`loan`** | has personal loan? (categorical: 'no', 'yes', 'unknown') |\n",
    "|---|---|---|\n",
    "| 8 | **`contact`** | contact communication type (categorical: 'cellular', 'telephone') |\n",
    "| 9 | **`month`** | last contact month of year (categorical: 'jan', 'feb', 'mar', ..., 'nov', 'dec') |\n",
    "| 10 | **`day_of_week`** | last contact day of the week (categorical: 'mon', 'tue', 'wed', 'thu', 'fri') |\n",
    "| 11 | **`duration`** | last contact duration, in seconds (numeric). ***Important note:*** *this attribute highly affects the output target (e.g., if duration=0 then y='no'). Yet, the duration is not known before a call is performed. Also, after the end of the call y is obviously known. Thus, this input should only be included for benchmark purposes and should be discarded if the intention is to have a realistic predictive model.* |\n",
    "|---|---|---|\n",
    "| 12 | **`campaign`** | number of contacts performed during this campaign and for this client (numeric, includes last contact) |\n",
    "| 13 | **`pdays`** | number of days that passed by after the client was last contacted from a previous campaign (numeric; `999` means client was not previously contacted) |\n",
    "| 14 | **`previous`** | number of contacts performed before this campaign and for this client (numeric) |\n",
    "| 15 | **`poutcome`** | outcome of the previous marketing campaign (categorical: 'failure', 'nonexistent' , 'success') |\n",
    "|---|---|---|\n",
    "| 16 | **`emp.var.rate`** | employment variation rate - quarterly indicator (numeric) |\n",
    "| 17 | **`cons.price.idx`** | consumer price index - monthly indicator (numeric) |\n",
    "| 18 | **`cons.conf.idx`** | consumer confidence index - monthly indicator (numeric) |\n",
    "| 19 | **`euribor3m`** | euribor 3 month rate - daily indicator (numeric) |\n",
    "| 20 | **`nr.employed`** | number of employees - quarterly indicator (numeric) |\n",
    "|---|---|---|\n",
    "| **21** | **`y`** | **has the client subscribed a term deposit? (binary: 'yes', 'no') [outcome of the marketing campaign]**|\n",
    "\n",
    "### Exploratory Data Analysis\n",
    "\n",
    "As shown below, there is no undefined value in any of the provided record lines, neither a strange set of values or outliers different from the expected ones for any of the attributes."
   ]
  },
  {
   "cell_type": "code",
   "execution_count": 4,
   "metadata": {
    "collapsed": false
   },
   "outputs": [
    {
     "data": {
      "application/javascript": [
       "$(\"head\").append($(\"<link/>\").attr({\n",
       "  rel:  \"stylesheet\",\n",
       "  type: \"text/css\",\n",
       "  href: \"//cdnjs.cloudflare.com/ajax/libs/font-awesome/4.1.0/css/font-awesome.min.css\"\n",
       "}));\n",
       "$(\"head\").append($(\"<link/>\").attr({\n",
       "  rel:  \"stylesheet\",\n",
       "  type: \"text/css\",\n",
       "  href: \"//dato.com/files/canvas/1.9/css/canvas.css\"\n",
       "}));\n",
       "\n",
       "            (function(){\n",
       "\n",
       "                var e = null;\n",
       "                if (typeof element == 'undefined') {\n",
       "                    var scripts = document.getElementsByTagName('script');\n",
       "                    var thisScriptTag = scripts[scripts.length-1];\n",
       "                    var parentDiv = thisScriptTag.parentNode;\n",
       "                    e = document.createElement('div');\n",
       "                    parentDiv.appendChild(e);\n",
       "                } else {\n",
       "                    e = element[0];\n",
       "                }\n",
       "\n",
       "                if (typeof requirejs !== 'undefined') {\n",
       "                    // disable load timeout; ipython_app.js is large and can take a while to load.\n",
       "                    requirejs.config({waitSeconds: 0});\n",
       "                }\n",
       "\n",
       "                require(['//dato.com/files/canvas/1.9/js/ipython_app.js'], function(IPythonApp){\n",
       "                    var app = new IPythonApp();\n",
       "                    app.attachView('sframe','Summary', {\"ipython\": true, \"sketch\": {\"nr.employed\": {\"std\": 72.32749725865392, \"complete\": true, \"min\": 4963.0, \"max\": 5228.0, \"quantile\": [4963.0, 4963.0, 4991.0, 4991.0, 5008.0, 5008.0, 5017.0, 5017.0, 5023.0, 5076.0, 5076.0, 5076.0, 5076.0, 5099.0, 5099.0, 5099.0, 5099.0, 5099.0, 5099.0, 5099.0, 5099.0, 5099.0, 5099.0, 5099.0, 5099.0, 5099.0, 5099.0, 5099.0, 5099.0, 5099.0, 5099.0, 5099.0, 5099.0, 5191.0, 5191.0, 5191.0, 5191.0, 5191.0, 5191.0, 5191.0, 5191.0, 5191.0, 5191.0, 5191.0, 5191.0, 5191.0, 5191.0, 5191.0, 5191.0, 5191.0, 5191.0, 5191.0, 5195.0, 5195.0, 5195.0, 5195.0, 5195.0, 5195.0, 5195.0, 5195.0, 5195.0, 5228.0, 5228.0, 5228.0, 5228.0, 5228.0, 5228.0, 5228.0, 5228.0, 5228.0, 5228.0, 5228.0, 5228.0, 5228.0, 5228.0, 5228.0, 5228.0, 5228.0, 5228.0, 5228.0, 5228.0, 5228.0, 5228.0, 5228.0, 5228.0, 5228.0, 5228.0, 5228.0, 5228.0, 5228.0, 5228.0, 5228.0, 5228.0, 5228.0, 5228.0, 5228.0, 5228.0, 5228.0, 5228.0, 5228.0, 5228.0], \"median\": 5191.0, \"numeric\": true, \"num_unique\": 11, \"num_undefined\": 0, \"var\": 5231.266859700591, \"progress\": 1.0, \"size\": 41188, \"frequent_items\": {\"5195\": {\"frequency\": 3683, \"value\": 5195}, \"5191\": {\"frequency\": 7763, \"value\": 5191}, \"5099\": {\"frequency\": 8534, \"value\": 5099}, \"5228\": {\"frequency\": 16234, \"value\": 5228}, \"5008\": {\"frequency\": 650, \"value\": 5008}, \"4963\": {\"frequency\": 635, \"value\": 4963}, \"5076\": {\"frequency\": 1663, \"value\": 5076}, \"5176\": {\"frequency\": 10, \"value\": 5176}, \"5017\": {\"frequency\": 1071, \"value\": 5017}, \"4991\": {\"frequency\": 773, \"value\": 4991}, \"5023\": {\"frequency\": 172, \"value\": 5023}}, \"mean\": 5166.849446440691}, \"education\": {\"complete\": true, \"numeric\": false, \"num_unique\": 8, \"num_undefined\": 0, \"progress\": 1.0, \"frequent_items\": {\"basic.9y\": {\"frequency\": 6045, \"value\": \"basic.9y\"}, \"illiterate\": {\"frequency\": 18, \"value\": \"illiterate\"}, \"basic.4y\": {\"frequency\": 4176, \"value\": \"basic.4y\"}, \"unknown\": {\"frequency\": 1731, \"value\": \"unknown\"}, \"basic.6y\": {\"frequency\": 2292, \"value\": \"basic.6y\"}, \"high.school\": {\"frequency\": 9515, \"value\": \"high.school\"}, \"professional.course\": {\"frequency\": 5243, \"value\": \"professional.cours ...\"}, \"university.degree\": {\"frequency\": 12168, \"value\": \"university.degree\"}}, \"size\": 41188}, \"poutcome\": {\"complete\": true, \"numeric\": false, \"num_unique\": 3, \"num_undefined\": 0, \"progress\": 1.0, \"frequent_items\": {\"failure\": {\"frequency\": 4252, \"value\": \"failure\"}, \"success\": {\"frequency\": 1373, \"value\": \"success\"}, \"nonexistent\": {\"frequency\": 35563, \"value\": \"nonexistent\"}}, \"size\": 41188}, \"campaign\": {\"std\": 2.7699799162348984, \"complete\": true, \"min\": 1.0, \"max\": 56.0, \"quantile\": [1.0, 1.0, 1.0, 1.0, 1.0, 1.0, 1.0, 1.0, 1.0, 1.0, 1.0, 1.0, 1.0, 1.0, 1.0, 1.0, 1.0, 1.0, 1.0, 1.0, 1.0, 1.0, 1.0, 1.0, 1.0, 1.0, 1.0, 1.0, 1.0, 1.0, 1.0, 1.0, 1.0, 1.0, 1.0, 1.0, 1.0, 1.0, 1.0, 1.0, 1.0, 1.0, 1.0, 2.0, 2.0, 2.0, 2.0, 2.0, 2.0, 2.0, 2.0, 2.0, 2.0, 2.0, 2.0, 2.0, 2.0, 2.0, 2.0, 2.0, 2.0, 2.0, 2.0, 2.0, 2.0, 2.0, 2.0, 2.0, 2.0, 3.0, 3.0, 3.0, 3.0, 3.0, 3.0, 3.0, 3.0, 3.0, 3.0, 3.0, 3.0, 3.0, 4.0, 4.0, 4.0, 4.0, 4.0, 4.0, 5.0, 5.0, 5.0, 5.0, 6.0, 6.0, 6.0, 7.0, 8.0, 9.0, 11.0, 15.0, 56.0], \"median\": 2.0, \"numeric\": true, \"num_unique\": 42, \"num_undefined\": 0, \"var\": 7.672788736344694, \"progress\": 1.0, \"size\": 41188, \"frequent_items\": {\"1\": {\"frequency\": 17642, \"value\": 1}, \"2\": {\"frequency\": 10570, \"value\": 2}, \"3\": {\"frequency\": 5341, \"value\": 3}, \"4\": {\"frequency\": 2651, \"value\": 4}, \"5\": {\"frequency\": 1599, \"value\": 5}, \"6\": {\"frequency\": 979, \"value\": 6}, \"7\": {\"frequency\": 629, \"value\": 7}, \"8\": {\"frequency\": 400, \"value\": 8}, \"9\": {\"frequency\": 283, \"value\": 9}, \"10\": {\"frequency\": 225, \"value\": 10}, \"11\": {\"frequency\": 177, \"value\": 11}, \"12\": {\"frequency\": 125, \"value\": 12}, \"13\": {\"frequency\": 92, \"value\": 13}, \"14\": {\"frequency\": 69, \"value\": 14}, \"15\": {\"frequency\": 51, \"value\": 15}, \"16\": {\"frequency\": 51, \"value\": 16}, \"17\": {\"frequency\": 58, \"value\": 17}, \"18\": {\"frequency\": 33, \"value\": 18}, \"19\": {\"frequency\": 26, \"value\": 19}, \"20\": {\"frequency\": 30, \"value\": 20}, \"21\": {\"frequency\": 24, \"value\": 21}, \"22\": {\"frequency\": 17, \"value\": 22}, \"23\": {\"frequency\": 16, \"value\": 23}, \"24\": {\"frequency\": 15, \"value\": 24}, \"25\": {\"frequency\": 8, \"value\": 25}, \"26\": {\"frequency\": 8, \"value\": 26}, \"27\": {\"frequency\": 11, \"value\": 27}, \"28\": {\"frequency\": 8, \"value\": 28}, \"29\": {\"frequency\": 10, \"value\": 29}, \"30\": {\"frequency\": 7, \"value\": 30}, \"31\": {\"frequency\": 7, \"value\": 31}, \"32\": {\"frequency\": 4, \"value\": 32}, \"33\": {\"frequency\": 4, \"value\": 33}, \"34\": {\"frequency\": 3, \"value\": 34}, \"35\": {\"frequency\": 5, \"value\": 35}, \"37\": {\"frequency\": 1, \"value\": 37}, \"39\": {\"frequency\": 1, \"value\": 39}, \"40\": {\"frequency\": 2, \"value\": 40}, \"41\": {\"frequency\": 1, \"value\": 41}, \"42\": {\"frequency\": 2, \"value\": 42}, \"43\": {\"frequency\": 2, \"value\": 43}, \"56\": {\"frequency\": 1, \"value\": 56}}, \"mean\": 2.5675925026706805}, \"cons.conf.idx\": {\"std\": 4.628141672019567, \"complete\": true, \"min\": -50.8, \"max\": -26.9, \"quantile\": [-50.8, -49.5, -47.1, -47.1, -47.1, -47.1, -47.1, -47.1, -46.2, -46.2, -46.2, -46.2, -46.2, -46.2, -46.2, -46.2, -46.2, -46.2, -46.2, -46.2, -46.2, -46.2, -42.7, -42.7, -42.7, -42.7, -42.7, -42.7, -42.7, -42.7, -42.7, -42.7, -42.7, -42.7, -42.7, -42.7, -42.7, -42.7, -42.0, -42.0, -42.0, -42.0, -42.0, -42.0, -42.0, -42.0, -42.0, -41.8, -41.8, -41.8, -41.8, -41.8, -41.8, -41.8, -41.8, -41.8, -41.8, -41.8, -40.8, -40.4, -40.0, -38.3, -37.5, -36.4, -36.4, -36.4, -36.4, -36.4, -36.4, -36.4, -36.4, -36.4, -36.4, -36.4, -36.4, -36.4, -36.4, -36.4, -36.4, -36.4, -36.4, -36.4, -36.1, -36.1, -36.1, -36.1, -36.1, -36.1, -36.1, -36.1, -36.1, -36.1, -36.1, -36.1, -34.8, -33.6, -31.4, -31.4, -30.1, -26.9, -26.9], \"median\": -41.8, \"numeric\": true, \"num_unique\": 26, \"num_undefined\": 0, \"var\": 21.41969533628408, \"progress\": 1.0, \"size\": 41188, \"frequent_items\": {\"-37.5\": {\"frequency\": 303, \"value\": -37.5}, \"-49.5\": {\"frequency\": 204, \"value\": -49.5}, \"-36.4\": {\"frequency\": 7763, \"value\": -36.4}, \"-50.8\": {\"frequency\": 128, \"value\": -50.8}, \"-29.8\": {\"frequency\": 267, \"value\": -29.8}, \"-42.7\": {\"frequency\": 6685, \"value\": -42.7}, \"-46.2\": {\"frequency\": 5794, \"value\": -46.2}, \"-26.9\": {\"frequency\": 447, \"value\": -26.9}, \"-36.1\": {\"frequency\": 5175, \"value\": -36.1}, \"-45.9\": {\"frequency\": 10, \"value\": -45.9}, \"-38.3\": {\"frequency\": 233, \"value\": -38.3}, \"-34.6\": {\"frequency\": 174, \"value\": -34.6}, \"-40.4\": {\"frequency\": 67, \"value\": -40.4}, \"-41.8\": {\"frequency\": 4374, \"value\": -41.8}, \"-40.8\": {\"frequency\": 715, \"value\": -40.8}, \"-33.6\": {\"frequency\": 178, \"value\": -33.6}, \"-50.0\": {\"frequency\": 282, \"value\": -50.0}, \"-47.1\": {\"frequency\": 2458, \"value\": -47.1}, \"-42.0\": {\"frequency\": 3616, \"value\": -42.0}, \"-40.0\": {\"frequency\": 212, \"value\": -40.0}, \"-33.0\": {\"frequency\": 172, \"value\": -33.0}, \"-31.4\": {\"frequency\": 770, \"value\": -31.4}, \"-34.8\": {\"frequency\": 264, \"value\": -34.8}, \"-39.8\": {\"frequency\": 229, \"value\": -39.8}, \"-40.3\": {\"frequency\": 311, \"value\": -40.3}, \"-30.1\": {\"frequency\": 357, \"value\": -30.1}}, \"mean\": -40.50260027192389}, \"default\": {\"complete\": true, \"numeric\": false, \"num_unique\": 3, \"num_undefined\": 0, \"progress\": 1.0, \"frequent_items\": {\"unknown\": {\"frequency\": 8597, \"value\": \"unknown\"}, \"yes\": {\"frequency\": 3, \"value\": \"yes\"}, \"no\": {\"frequency\": 32588, \"value\": \"no\"}}, \"size\": 41188}, \"month\": {\"complete\": true, \"numeric\": false, \"num_unique\": 10, \"num_undefined\": 0, \"progress\": 1.0, \"frequent_items\": {\"mar\": {\"frequency\": 546, \"value\": \"mar\"}, \"aug\": {\"frequency\": 6178, \"value\": \"aug\"}, \"sep\": {\"frequency\": 570, \"value\": \"sep\"}, \"may\": {\"frequency\": 13769, \"value\": \"may\"}, \"jun\": {\"frequency\": 5318, \"value\": \"jun\"}, \"jul\": {\"frequency\": 7174, \"value\": \"jul\"}, \"apr\": {\"frequency\": 2632, \"value\": \"apr\"}, \"nov\": {\"frequency\": 4101, \"value\": \"nov\"}, \"dec\": {\"frequency\": 182, \"value\": \"dec\"}, \"oct\": {\"frequency\": 718, \"value\": \"oct\"}}, \"size\": 41188}, \"age\": {\"std\": 10.421123471838733, \"complete\": true, \"min\": 17.0, \"max\": 98.0, \"quantile\": [17.0, 23.0, 24.0, 25.0, 26.0, 26.0, 27.0, 27.0, 28.0, 28.0, 28.0, 29.0, 29.0, 29.0, 30.0, 30.0, 30.0, 30.0, 31.0, 31.0, 31.0, 31.0, 31.0, 32.0, 32.0, 32.0, 32.0, 32.0, 33.0, 33.0, 33.0, 33.0, 34.0, 34.0, 34.0, 34.0, 35.0, 35.0, 35.0, 35.0, 35.0, 36.0, 36.0, 36.0, 36.0, 37.0, 37.0, 37.0, 37.0, 38.0, 38.0, 38.0, 39.0, 39.0, 39.0, 40.0, 40.0, 40.0, 41.0, 41.0, 41.0, 42.0, 42.0, 42.0, 43.0, 43.0, 43.0, 44.0, 44.0, 45.0, 45.0, 45.0, 46.0, 46.0, 47.0, 47.0, 48.0, 48.0, 48.0, 49.0, 49.0, 50.0, 50.0, 51.0, 51.0, 52.0, 52.0, 53.0, 54.0, 54.0, 55.0, 55.0, 56.0, 56.0, 57.0, 58.0, 59.0, 59.0, 62.0, 71.0, 98.0], \"median\": 38.0, \"numeric\": true, \"num_unique\": 78, \"num_undefined\": 0, \"var\": 108.59981441530816, \"progress\": 1.0, \"size\": 41188, \"frequent_items\": {\"17\": {\"frequency\": 5, \"value\": 17}, \"18\": {\"frequency\": 28, \"value\": 18}, \"19\": {\"frequency\": 42, \"value\": 19}, \"20\": {\"frequency\": 65, \"value\": 20}, \"21\": {\"frequency\": 102, \"value\": 21}, \"22\": {\"frequency\": 137, \"value\": 22}, \"23\": {\"frequency\": 226, \"value\": 23}, \"24\": {\"frequency\": 463, \"value\": 24}, \"25\": {\"frequency\": 598, \"value\": 25}, \"26\": {\"frequency\": 698, \"value\": 26}, \"27\": {\"frequency\": 851, \"value\": 27}, \"28\": {\"frequency\": 1001, \"value\": 28}, \"29\": {\"frequency\": 1453, \"value\": 29}, \"30\": {\"frequency\": 1714, \"value\": 30}, \"31\": {\"frequency\": 1947, \"value\": 31}, \"32\": {\"frequency\": 1846, \"value\": 32}, \"33\": {\"frequency\": 1833, \"value\": 33}, \"34\": {\"frequency\": 1745, \"value\": 34}, \"35\": {\"frequency\": 1759, \"value\": 35}, \"36\": {\"frequency\": 1780, \"value\": 36}, \"37\": {\"frequency\": 1475, \"value\": 37}, \"38\": {\"frequency\": 1407, \"value\": 38}, \"39\": {\"frequency\": 1432, \"value\": 39}, \"40\": {\"frequency\": 1161, \"value\": 40}, \"41\": {\"frequency\": 1278, \"value\": 41}, \"42\": {\"frequency\": 1142, \"value\": 42}, \"43\": {\"frequency\": 1055, \"value\": 43}, \"44\": {\"frequency\": 1011, \"value\": 44}, \"45\": {\"frequency\": 1103, \"value\": 45}, \"46\": {\"frequency\": 1030, \"value\": 46}, \"47\": {\"frequency\": 928, \"value\": 47}, \"48\": {\"frequency\": 979, \"value\": 48}, \"49\": {\"frequency\": 839, \"value\": 49}, \"50\": {\"frequency\": 875, \"value\": 50}, \"51\": {\"frequency\": 754, \"value\": 51}, \"52\": {\"frequency\": 779, \"value\": 52}, \"53\": {\"frequency\": 733, \"value\": 53}, \"54\": {\"frequency\": 684, \"value\": 54}, \"55\": {\"frequency\": 648, \"value\": 55}, \"56\": {\"frequency\": 704, \"value\": 56}, \"57\": {\"frequency\": 646, \"value\": 57}, \"58\": {\"frequency\": 576, \"value\": 58}, \"59\": {\"frequency\": 463, \"value\": 59}, \"60\": {\"frequency\": 283, \"value\": 60}, \"61\": {\"frequency\": 73, \"value\": 61}, \"62\": {\"frequency\": 62, \"value\": 62}, \"63\": {\"frequency\": 55, \"value\": 63}, \"64\": {\"frequency\": 57, \"value\": 64}, \"65\": {\"frequency\": 44, \"value\": 65}, \"66\": {\"frequency\": 57, \"value\": 66}, \"67\": {\"frequency\": 26, \"value\": 67}, \"68\": {\"frequency\": 33, \"value\": 68}, \"69\": {\"frequency\": 34, \"value\": 69}, \"70\": {\"frequency\": 47, \"value\": 70}, \"71\": {\"frequency\": 53, \"value\": 71}, \"72\": {\"frequency\": 34, \"value\": 72}, \"73\": {\"frequency\": 34, \"value\": 73}, \"74\": {\"frequency\": 32, \"value\": 74}, \"75\": {\"frequency\": 24, \"value\": 75}, \"76\": {\"frequency\": 34, \"value\": 76}, \"77\": {\"frequency\": 20, \"value\": 77}, \"78\": {\"frequency\": 27, \"value\": 78}, \"79\": {\"frequency\": 14, \"value\": 79}, \"80\": {\"frequency\": 31, \"value\": 80}, \"81\": {\"frequency\": 20, \"value\": 81}, \"82\": {\"frequency\": 17, \"value\": 82}, \"83\": {\"frequency\": 17, \"value\": 83}, \"84\": {\"frequency\": 7, \"value\": 84}, \"85\": {\"frequency\": 15, \"value\": 85}, \"86\": {\"frequency\": 8, \"value\": 86}, \"87\": {\"frequency\": 1, \"value\": 87}, \"88\": {\"frequency\": 22, \"value\": 88}, \"89\": {\"frequency\": 2, \"value\": 89}, \"91\": {\"frequency\": 2, \"value\": 91}, \"92\": {\"frequency\": 4, \"value\": 92}, \"94\": {\"frequency\": 1, \"value\": 94}, \"95\": {\"frequency\": 1, \"value\": 95}, \"98\": {\"frequency\": 2, \"value\": 98}}, \"mean\": 40.0240604059435}, \"housing\": {\"complete\": true, \"numeric\": false, \"num_unique\": 3, \"num_undefined\": 0, \"progress\": 1.0, \"frequent_items\": {\"unknown\": {\"frequency\": 990, \"value\": \"unknown\"}, \"yes\": {\"frequency\": 21576, \"value\": \"yes\"}, \"no\": {\"frequency\": 18622, \"value\": \"no\"}}, \"size\": 41188}, \"day_of_week\": {\"complete\": true, \"numeric\": false, \"num_unique\": 5, \"num_undefined\": 0, \"progress\": 1.0, \"frequent_items\": {\"thu\": {\"frequency\": 8623, \"value\": \"thu\"}, \"fri\": {\"frequency\": 7827, \"value\": \"fri\"}, \"wed\": {\"frequency\": 8134, \"value\": \"wed\"}, \"tue\": {\"frequency\": 8090, \"value\": \"tue\"}, \"mon\": {\"frequency\": 8514, \"value\": \"mon\"}}, \"size\": 41188}, \"marital\": {\"complete\": true, \"numeric\": false, \"num_unique\": 4, \"num_undefined\": 0, \"progress\": 1.0, \"frequent_items\": {\"unknown\": {\"frequency\": 80, \"value\": \"unknown\"}, \"single\": {\"frequency\": 11568, \"value\": \"single\"}, \"married\": {\"frequency\": 24928, \"value\": \"married\"}, \"divorced\": {\"frequency\": 4612, \"value\": \"divorced\"}}, \"size\": 41188}, \"duration\": {\"std\": 259.2761013077838, \"complete\": true, \"min\": 0.0, \"max\": 4918.0, \"quantile\": [0.0, 11.0, 17.0, 23.0, 29.0, 36.0, 42.0, 47.0, 52.0, 55.0, 59.0, 63.0, 66.0, 69.0, 72.0, 75.0, 78.0, 80.0, 83.0, 86.0, 89.0, 91.0, 94.0, 97.0, 100.0, 102.0, 105.0, 108.0, 111.0, 113.0, 116.0, 119.0, 122.0, 125.0, 128.0, 131.0, 134.0, 137.0, 140.0, 143.0, 146.0, 149.0, 153.0, 156.0, 159.0, 162.0, 165.0, 169.0, 173.0, 176.0, 180.0, 184.0, 188.0, 191.0, 195.0, 200.0, 203.0, 208.0, 212.0, 217.0, 222.0, 227.0, 232.0, 238.0, 243.0, 248.0, 254.0, 260.0, 266.0, 272.0, 280.0, 288.0, 295.0, 302.0, 311.0, 319.0, 329.0, 337.0, 347.0, 358.0, 369.0, 381.0, 393.0, 407.0, 422.0, 440.0, 459.0, 476.0, 500.0, 523.0, 551.0, 583.0, 614.0, 653.0, 698.0, 754.0, 825.0, 915.0, 1059.0, 1268.0, 4918.0], \"median\": 180.0, \"numeric\": true, \"num_unique\": 1538, \"num_undefined\": 0, \"var\": 67224.09670936417, \"progress\": 1.0, \"size\": 41188, \"frequent_items\": {\"0\": {\"frequency\": 4, \"value\": 0}, \"1\": {\"frequency\": 3, \"value\": 1}, \"2\": {\"frequency\": 1, \"value\": 2}, \"3\": {\"frequency\": 3, \"value\": 3}, \"4\": {\"frequency\": 12, \"value\": 4}, \"5\": {\"frequency\": 30, \"value\": 5}, \"6\": {\"frequency\": 37, \"value\": 6}, \"7\": {\"frequency\": 54, \"value\": 7}, \"8\": {\"frequency\": 69, \"value\": 8}, \"9\": {\"frequency\": 77, \"value\": 9}, \"10\": {\"frequency\": 72, \"value\": 10}, \"11\": {\"frequency\": 81, \"value\": 11}, \"12\": {\"frequency\": 65, \"value\": 12}, \"13\": {\"frequency\": 77, \"value\": 13}, \"14\": {\"frequency\": 70, \"value\": 14}, \"15\": {\"frequency\": 68, \"value\": 15}, \"16\": {\"frequency\": 80, \"value\": 16}, \"17\": {\"frequency\": 76, \"value\": 17}, \"18\": {\"frequency\": 84, \"value\": 18}, \"19\": {\"frequency\": 61, \"value\": 19}, \"20\": {\"frequency\": 61, \"value\": 20}, \"21\": {\"frequency\": 73, \"value\": 21}, \"22\": {\"frequency\": 76, \"value\": 22}, \"23\": {\"frequency\": 65, \"value\": 23}, \"24\": {\"frequency\": 64, \"value\": 24}, \"25\": {\"frequency\": 65, \"value\": 25}, \"26\": {\"frequency\": 61, \"value\": 26}, \"27\": {\"frequency\": 65, \"value\": 27}, \"28\": {\"frequency\": 49, \"value\": 28}, \"29\": {\"frequency\": 67, \"value\": 29}, \"30\": {\"frequency\": 54, \"value\": 30}, \"31\": {\"frequency\": 63, \"value\": 31}, \"32\": {\"frequency\": 42, \"value\": 32}, \"33\": {\"frequency\": 46, \"value\": 33}, \"34\": {\"frequency\": 68, \"value\": 34}, \"35\": {\"frequency\": 67, \"value\": 35}, \"36\": {\"frequency\": 82, \"value\": 36}, \"37\": {\"frequency\": 70, \"value\": 37}, \"38\": {\"frequency\": 60, \"value\": 38}, \"39\": {\"frequency\": 71, \"value\": 39}, \"40\": {\"frequency\": 66, \"value\": 40}, \"41\": {\"frequency\": 90, \"value\": 41}, \"42\": {\"frequency\": 81, \"value\": 42}, \"43\": {\"frequency\": 79, \"value\": 43}, \"44\": {\"frequency\": 85, \"value\": 44}, \"45\": {\"frequency\": 70, \"value\": 45}, \"46\": {\"frequency\": 77, \"value\": 46}, \"47\": {\"frequency\": 73, \"value\": 47}, \"48\": {\"frequency\": 92, \"value\": 48}, \"49\": {\"frequency\": 96, \"value\": 49}, \"50\": {\"frequency\": 96, \"value\": 50}, \"51\": {\"frequency\": 101, \"value\": 51}, \"52\": {\"frequency\": 102, \"value\": 52}, \"53\": {\"frequency\": 93, \"value\": 53}, \"54\": {\"frequency\": 106, \"value\": 54}, \"55\": {\"frequency\": 121, \"value\": 55}, \"56\": {\"frequency\": 110, \"value\": 56}, \"57\": {\"frequency\": 109, \"value\": 57}, \"58\": {\"frequency\": 110, \"value\": 58}, \"59\": {\"frequency\": 131, \"value\": 59}, \"60\": {\"frequency\": 105, \"value\": 60}, \"61\": {\"frequency\": 123, \"value\": 61}, \"62\": {\"frequency\": 108, \"value\": 62}, \"63\": {\"frequency\": 127, \"value\": 63}, \"64\": {\"frequency\": 139, \"value\": 64}, \"65\": {\"frequency\": 123, \"value\": 65}, \"66\": {\"frequency\": 108, \"value\": 66}, \"67\": {\"frequency\": 147, \"value\": 67}, \"68\": {\"frequency\": 140, \"value\": 68}, \"69\": {\"frequency\": 130, \"value\": 69}, \"70\": {\"frequency\": 129, \"value\": 70}, \"71\": {\"frequency\": 152, \"value\": 71}, \"72\": {\"frequency\": 161, \"value\": 72}, \"73\": {\"frequency\": 167, \"value\": 73}, \"74\": {\"frequency\": 136, \"value\": 74}, \"75\": {\"frequency\": 138, \"value\": 75}, \"76\": {\"frequency\": 153, \"value\": 76}, \"77\": {\"frequency\": 146, \"value\": 77}, \"78\": {\"frequency\": 145, \"value\": 78}, \"79\": {\"frequency\": 138, \"value\": 79}, \"80\": {\"frequency\": 148, \"value\": 80}, \"81\": {\"frequency\": 147, \"value\": 81}, \"82\": {\"frequency\": 154, \"value\": 82}, \"83\": {\"frequency\": 149, \"value\": 83}, \"84\": {\"frequency\": 131, \"value\": 84}, \"85\": {\"frequency\": 170, \"value\": 85}, \"86\": {\"frequency\": 128, \"value\": 86}, \"87\": {\"frequency\": 162, \"value\": 87}, \"88\": {\"frequency\": 150, \"value\": 88}, \"89\": {\"frequency\": 153, \"value\": 89}, \"90\": {\"frequency\": 170, \"value\": 90}, \"91\": {\"frequency\": 147, \"value\": 91}, \"92\": {\"frequency\": 156, \"value\": 92}, \"93\": {\"frequency\": 151, \"value\": 93}, \"94\": {\"frequency\": 136, \"value\": 94}, \"95\": {\"frequency\": 148, \"value\": 95}, \"96\": {\"frequency\": 155, \"value\": 96}, \"97\": {\"frequency\": 158, \"value\": 97}, \"98\": {\"frequency\": 144, \"value\": 98}, \"99\": {\"frequency\": 129, \"value\": 99}, \"100\": {\"frequency\": 145, \"value\": 100}, \"101\": {\"frequency\": 145, \"value\": 101}, \"102\": {\"frequency\": 141, \"value\": 102}, \"103\": {\"frequency\": 147, \"value\": 103}, \"104\": {\"frequency\": 161, \"value\": 104}, \"105\": {\"frequency\": 145, \"value\": 105}, \"106\": {\"frequency\": 159, \"value\": 106}, \"107\": {\"frequency\": 150, \"value\": 107}, \"108\": {\"frequency\": 137, \"value\": 108}, \"109\": {\"frequency\": 158, \"value\": 109}, \"110\": {\"frequency\": 142, \"value\": 110}, \"111\": {\"frequency\": 160, \"value\": 111}, \"112\": {\"frequency\": 144, \"value\": 112}, \"113\": {\"frequency\": 142, \"value\": 113}, \"114\": {\"frequency\": 156, \"value\": 114}, \"115\": {\"frequency\": 135, \"value\": 115}, \"116\": {\"frequency\": 126, \"value\": 116}, \"117\": {\"frequency\": 134, \"value\": 117}, \"118\": {\"frequency\": 131, \"value\": 118}, \"119\": {\"frequency\": 155, \"value\": 119}, \"120\": {\"frequency\": 122, \"value\": 120}, \"121\": {\"frequency\": 141, \"value\": 121}, \"122\": {\"frequency\": 157, \"value\": 122}, \"123\": {\"frequency\": 149, \"value\": 123}, \"124\": {\"frequency\": 164, \"value\": 124}, \"125\": {\"frequency\": 152, \"value\": 125}, \"126\": {\"frequency\": 152, \"value\": 126}, \"127\": {\"frequency\": 146, \"value\": 127}, \"128\": {\"frequency\": 147, \"value\": 128}, \"129\": {\"frequency\": 136, \"value\": 129}, \"130\": {\"frequency\": 142, \"value\": 130}, \"131\": {\"frequency\": 134, \"value\": 131}, \"132\": {\"frequency\": 112, \"value\": 132}, \"133\": {\"frequency\": 143, \"value\": 133}, \"134\": {\"frequency\": 133, \"value\": 134}, \"135\": {\"frequency\": 156, \"value\": 135}, \"136\": {\"frequency\": 168, \"value\": 136}, \"137\": {\"frequency\": 123, \"value\": 137}, \"138\": {\"frequency\": 119, \"value\": 138}, \"139\": {\"frequency\": 155, \"value\": 139}, \"140\": {\"frequency\": 145, \"value\": 140}, \"141\": {\"frequency\": 118, \"value\": 141}, \"142\": {\"frequency\": 116, \"value\": 142}, \"143\": {\"frequency\": 133, \"value\": 143}, \"144\": {\"frequency\": 137, \"value\": 144}, \"145\": {\"frequency\": 130, \"value\": 145}, \"146\": {\"frequency\": 102, \"value\": 146}, \"147\": {\"frequency\": 131, \"value\": 147}, \"148\": {\"frequency\": 123, \"value\": 148}, \"149\": {\"frequency\": 119, \"value\": 149}, \"150\": {\"frequency\": 133, \"value\": 150}, \"151\": {\"frequency\": 129, \"value\": 151}, \"152\": {\"frequency\": 115, \"value\": 152}, \"153\": {\"frequency\": 120, \"value\": 153}, \"154\": {\"frequency\": 136, \"value\": 154}, \"155\": {\"frequency\": 136, \"value\": 155}, \"156\": {\"frequency\": 128, \"value\": 156}, \"157\": {\"frequency\": 145, \"value\": 157}, \"158\": {\"frequency\": 129, \"value\": 158}, \"159\": {\"frequency\": 140, \"value\": 159}, \"160\": {\"frequency\": 137, \"value\": 160}, \"161\": {\"frequency\": 129, \"value\": 161}, \"162\": {\"frequency\": 106, \"value\": 162}, \"163\": {\"frequency\": 113, \"value\": 163}, \"164\": {\"frequency\": 130, \"value\": 164}, \"165\": {\"frequency\": 136, \"value\": 165}, \"166\": {\"frequency\": 142, \"value\": 166}, \"167\": {\"frequency\": 105, \"value\": 167}, \"168\": {\"frequency\": 131, \"value\": 168}, \"169\": {\"frequency\": 106, \"value\": 169}, \"170\": {\"frequency\": 100, \"value\": 170}, \"171\": {\"frequency\": 115, \"value\": 171}, \"172\": {\"frequency\": 123, \"value\": 172}, \"173\": {\"frequency\": 125, \"value\": 173}, \"174\": {\"frequency\": 122, \"value\": 174}, \"175\": {\"frequency\": 115, \"value\": 175}, \"176\": {\"frequency\": 101, \"value\": 176}, \"177\": {\"frequency\": 106, \"value\": 177}, \"178\": {\"frequency\": 127, \"value\": 178}, \"179\": {\"frequency\": 108, \"value\": 179}, \"180\": {\"frequency\": 117, \"value\": 180}, \"181\": {\"frequency\": 113, \"value\": 181}, \"182\": {\"frequency\": 101, \"value\": 182}, \"183\": {\"frequency\": 90, \"value\": 183}, \"184\": {\"frequency\": 113, \"value\": 184}, \"185\": {\"frequency\": 114, \"value\": 185}, \"186\": {\"frequency\": 86, \"value\": 186}, \"187\": {\"frequency\": 108, \"value\": 187}, \"188\": {\"frequency\": 114, \"value\": 188}, \"189\": {\"frequency\": 114, \"value\": 189}, \"190\": {\"frequency\": 96, \"value\": 190}, \"191\": {\"frequency\": 109, \"value\": 191}, \"192\": {\"frequency\": 104, \"value\": 192}, \"193\": {\"frequency\": 106, \"value\": 193}, \"194\": {\"frequency\": 94, \"value\": 194}, \"195\": {\"frequency\": 88, \"value\": 195}, \"196\": {\"frequency\": 88, \"value\": 196}, \"197\": {\"frequency\": 107, \"value\": 197}, \"198\": {\"frequency\": 107, \"value\": 198}, \"199\": {\"frequency\": 95, \"value\": 199}, \"200\": {\"frequency\": 108, \"value\": 200}, \"201\": {\"frequency\": 110, \"value\": 201}, \"202\": {\"frequency\": 96, \"value\": 202}, \"203\": {\"frequency\": 93, \"value\": 203}, \"204\": {\"frequency\": 91, \"value\": 204}, \"205\": {\"frequency\": 87, \"value\": 205}, \"206\": {\"frequency\": 92, \"value\": 206}, \"207\": {\"frequency\": 114, \"value\": 207}, \"208\": {\"frequency\": 90, \"value\": 208}, \"209\": {\"frequency\": 94, \"value\": 209}, \"210\": {\"frequency\": 100, \"value\": 210}, \"211\": {\"frequency\": 108, \"value\": 211}, \"212\": {\"frequency\": 93, \"value\": 212}, \"213\": {\"frequency\": 90, \"value\": 213}, \"214\": {\"frequency\": 91, \"value\": 214}, \"215\": {\"frequency\": 91, \"value\": 215}, \"216\": {\"frequency\": 80, \"value\": 216}, \"217\": {\"frequency\": 92, \"value\": 217}, \"218\": {\"frequency\": 76, \"value\": 218}, \"219\": {\"frequency\": 85, \"value\": 219}, \"220\": {\"frequency\": 86, \"value\": 220}, \"221\": {\"frequency\": 89, \"value\": 221}, \"222\": {\"frequency\": 93, \"value\": 222}, \"223\": {\"frequency\": 69, \"value\": 223}, \"224\": {\"frequency\": 73, \"value\": 224}, \"225\": {\"frequency\": 90, \"value\": 225}, \"226\": {\"frequency\": 93, \"value\": 226}, \"227\": {\"frequency\": 82, \"value\": 227}, \"228\": {\"frequency\": 73, \"value\": 228}, \"229\": {\"frequency\": 69, \"value\": 229}, \"230\": {\"frequency\": 82, \"value\": 230}, \"231\": {\"frequency\": 79, \"value\": 231}, \"232\": {\"frequency\": 75, \"value\": 232}, \"233\": {\"frequency\": 61, \"value\": 233}, \"234\": {\"frequency\": 78, \"value\": 234}, \"235\": {\"frequency\": 62, \"value\": 235}, \"236\": {\"frequency\": 72, \"value\": 236}, \"237\": {\"frequency\": 66, \"value\": 237}, \"238\": {\"frequency\": 76, \"value\": 238}, \"239\": {\"frequency\": 92, \"value\": 239}, \"240\": {\"frequency\": 87, \"value\": 240}, \"241\": {\"frequency\": 74, \"value\": 241}, \"242\": {\"frequency\": 58, \"value\": 242}, \"243\": {\"frequency\": 79, \"value\": 243}, \"244\": {\"frequency\": 75, \"value\": 244}, \"245\": {\"frequency\": 91, \"value\": 245}, \"246\": {\"frequency\": 79, \"value\": 246}, \"247\": {\"frequency\": 85, \"value\": 247}, \"248\": {\"frequency\": 70, \"value\": 248}, \"249\": {\"frequency\": 76, \"value\": 249}, \"250\": {\"frequency\": 80, \"value\": 250}, \"251\": {\"frequency\": 83, \"value\": 251}, \"252\": {\"frequency\": 80, \"value\": 252}, \"253\": {\"frequency\": 65, \"value\": 253}, \"254\": {\"frequency\": 72, \"value\": 254}, \"255\": {\"frequency\": 72, \"value\": 255}, \"256\": {\"frequency\": 65, \"value\": 256}, \"257\": {\"frequency\": 71, \"value\": 257}, \"258\": {\"frequency\": 68, \"value\": 258}, \"259\": {\"frequency\": 71, \"value\": 259}, \"260\": {\"frequency\": 61, \"value\": 260}, \"261\": {\"frequency\": 62, \"value\": 261}, \"262\": {\"frequency\": 72, \"value\": 262}, \"263\": {\"frequency\": 74, \"value\": 263}, \"264\": {\"frequency\": 61, \"value\": 264}, \"265\": {\"frequency\": 66, \"value\": 265}, \"266\": {\"frequency\": 58, \"value\": 266}, \"267\": {\"frequency\": 72, \"value\": 267}, \"268\": {\"frequency\": 71, \"value\": 268}, \"269\": {\"frequency\": 54, \"value\": 269}, \"270\": {\"frequency\": 57, \"value\": 270}, \"271\": {\"frequency\": 57, \"value\": 271}, \"272\": {\"frequency\": 67, \"value\": 272}, \"273\": {\"frequency\": 60, \"value\": 273}, \"274\": {\"frequency\": 56, \"value\": 274}, \"275\": {\"frequency\": 56, \"value\": 275}, \"276\": {\"frequency\": 49, \"value\": 276}, \"277\": {\"frequency\": 63, \"value\": 277}, \"278\": {\"frequency\": 53, \"value\": 278}, \"279\": {\"frequency\": 43, \"value\": 279}, \"280\": {\"frequency\": 57, \"value\": 280}, \"281\": {\"frequency\": 61, \"value\": 281}, \"282\": {\"frequency\": 56, \"value\": 282}, \"283\": {\"frequency\": 62, \"value\": 283}, \"284\": {\"frequency\": 53, \"value\": 284}, \"285\": {\"frequency\": 60, \"value\": 285}, \"286\": {\"frequency\": 48, \"value\": 286}, \"287\": {\"frequency\": 46, \"value\": 287}, \"288\": {\"frequency\": 57, \"value\": 288}, \"289\": {\"frequency\": 53, \"value\": 289}, \"290\": {\"frequency\": 56, \"value\": 290}, \"291\": {\"frequency\": 59, \"value\": 291}, \"292\": {\"frequency\": 53, \"value\": 292}, \"293\": {\"frequency\": 62, \"value\": 293}, \"294\": {\"frequency\": 60, \"value\": 294}, \"295\": {\"frequency\": 67, \"value\": 295}, \"296\": {\"frequency\": 57, \"value\": 296}, \"297\": {\"frequency\": 63, \"value\": 297}, \"298\": {\"frequency\": 55, \"value\": 298}, \"299\": {\"frequency\": 47, \"value\": 299}, \"300\": {\"frequency\": 46, \"value\": 300}, \"301\": {\"frequency\": 62, \"value\": 301}, \"302\": {\"frequency\": 46, \"value\": 302}, \"303\": {\"frequency\": 39, \"value\": 303}, \"304\": {\"frequency\": 54, \"value\": 304}, \"305\": {\"frequency\": 62, \"value\": 305}, \"306\": {\"frequency\": 58, \"value\": 306}, \"307\": {\"frequency\": 37, \"value\": 307}, \"308\": {\"frequency\": 41, \"value\": 308}, \"309\": {\"frequency\": 44, \"value\": 309}, \"310\": {\"frequency\": 33, \"value\": 310}, \"311\": {\"frequency\": 45, \"value\": 311}, \"312\": {\"frequency\": 49, \"value\": 312}, \"313\": {\"frequency\": 50, \"value\": 313}, \"314\": {\"frequency\": 55, \"value\": 314}, \"315\": {\"frequency\": 39, \"value\": 315}, \"316\": {\"frequency\": 45, \"value\": 316}, \"317\": {\"frequency\": 57, \"value\": 317}, \"318\": {\"frequency\": 56, \"value\": 318}, \"319\": {\"frequency\": 46, \"value\": 319}, \"320\": {\"frequency\": 47, \"value\": 320}, \"321\": {\"frequency\": 35, \"value\": 321}, \"322\": {\"frequency\": 57, \"value\": 322}, \"323\": {\"frequency\": 48, \"value\": 323}, \"324\": {\"frequency\": 53, \"value\": 324}, \"325\": {\"frequency\": 42, \"value\": 325}, \"326\": {\"frequency\": 50, \"value\": 326}, \"327\": {\"frequency\": 41, \"value\": 327}, \"328\": {\"frequency\": 49, \"value\": 328}, \"329\": {\"frequency\": 60, \"value\": 329}, \"330\": {\"frequency\": 28, \"value\": 330}, \"331\": {\"frequency\": 35, \"value\": 331}, \"332\": {\"frequency\": 53, \"value\": 332}, \"333\": {\"frequency\": 55, \"value\": 333}, \"334\": {\"frequency\": 42, \"value\": 334}, \"335\": {\"frequency\": 42, \"value\": 335}, \"336\": {\"frequency\": 40, \"value\": 336}, \"337\": {\"frequency\": 47, \"value\": 337}, \"338\": {\"frequency\": 30, \"value\": 338}, \"339\": {\"frequency\": 54, \"value\": 339}, \"340\": {\"frequency\": 51, \"value\": 340}, \"341\": {\"frequency\": 36, \"value\": 341}, \"342\": {\"frequency\": 46, \"value\": 342}, \"343\": {\"frequency\": 39, \"value\": 343}, \"344\": {\"frequency\": 41, \"value\": 344}, \"345\": {\"frequency\": 56, \"value\": 345}, \"346\": {\"frequency\": 41, \"value\": 346}, \"347\": {\"frequency\": 44, \"value\": 347}, \"348\": {\"frequency\": 30, \"value\": 348}, \"349\": {\"frequency\": 40, \"value\": 349}, \"350\": {\"frequency\": 38, \"value\": 350}, \"351\": {\"frequency\": 34, \"value\": 351}, \"352\": {\"frequency\": 40, \"value\": 352}, \"353\": {\"frequency\": 42, \"value\": 353}, \"354\": {\"frequency\": 41, \"value\": 354}, \"355\": {\"frequency\": 44, \"value\": 355}, \"356\": {\"frequency\": 28, \"value\": 356}, \"357\": {\"frequency\": 29, \"value\": 357}, \"358\": {\"frequency\": 45, \"value\": 358}, \"359\": {\"frequency\": 43, \"value\": 359}, \"360\": {\"frequency\": 50, \"value\": 360}, \"361\": {\"frequency\": 45, \"value\": 361}, \"362\": {\"frequency\": 44, \"value\": 362}, \"363\": {\"frequency\": 38, \"value\": 363}, \"364\": {\"frequency\": 44, \"value\": 364}, \"365\": {\"frequency\": 31, \"value\": 365}, \"366\": {\"frequency\": 33, \"value\": 366}, \"367\": {\"frequency\": 35, \"value\": 367}, \"368\": {\"frequency\": 28, \"value\": 368}, \"369\": {\"frequency\": 40, \"value\": 369}, \"370\": {\"frequency\": 42, \"value\": 370}, \"371\": {\"frequency\": 33, \"value\": 371}, \"372\": {\"frequency\": 29, \"value\": 372}, \"373\": {\"frequency\": 23, \"value\": 373}, \"374\": {\"frequency\": 36, \"value\": 374}, \"375\": {\"frequency\": 29, \"value\": 375}, \"376\": {\"frequency\": 32, \"value\": 376}, \"377\": {\"frequency\": 39, \"value\": 377}, \"378\": {\"frequency\": 39, \"value\": 378}, \"379\": {\"frequency\": 32, \"value\": 379}, \"380\": {\"frequency\": 28, \"value\": 380}, \"381\": {\"frequency\": 30, \"value\": 381}, \"382\": {\"frequency\": 23, \"value\": 382}, \"383\": {\"frequency\": 37, \"value\": 383}, \"384\": {\"frequency\": 33, \"value\": 384}, \"385\": {\"frequency\": 34, \"value\": 385}, \"386\": {\"frequency\": 40, \"value\": 386}, \"387\": {\"frequency\": 29, \"value\": 387}, \"388\": {\"frequency\": 34, \"value\": 388}, \"389\": {\"frequency\": 29, \"value\": 389}, \"390\": {\"frequency\": 31, \"value\": 390}, \"391\": {\"frequency\": 27, \"value\": 391}, \"392\": {\"frequency\": 32, \"value\": 392}, \"393\": {\"frequency\": 28, \"value\": 393}, \"394\": {\"frequency\": 43, \"value\": 394}, \"395\": {\"frequency\": 32, \"value\": 395}, \"396\": {\"frequency\": 40, \"value\": 396}, \"397\": {\"frequency\": 27, \"value\": 397}, \"398\": {\"frequency\": 34, \"value\": 398}, \"399\": {\"frequency\": 38, \"value\": 399}, \"400\": {\"frequency\": 35, \"value\": 400}, \"401\": {\"frequency\": 26, \"value\": 401}, \"402\": {\"frequency\": 27, \"value\": 402}, \"403\": {\"frequency\": 17, \"value\": 403}, \"404\": {\"frequency\": 31, \"value\": 404}, \"405\": {\"frequency\": 26, \"value\": 405}, \"406\": {\"frequency\": 32, \"value\": 406}, \"407\": {\"frequency\": 28, \"value\": 407}, \"408\": {\"frequency\": 32, \"value\": 408}, \"409\": {\"frequency\": 32, \"value\": 409}, \"410\": {\"frequency\": 28, \"value\": 410}, \"411\": {\"frequency\": 29, \"value\": 411}, \"412\": {\"frequency\": 25, \"value\": 412}, \"413\": {\"frequency\": 27, \"value\": 413}, \"414\": {\"frequency\": 28, \"value\": 414}, \"415\": {\"frequency\": 26, \"value\": 415}, \"416\": {\"frequency\": 19, \"value\": 416}, \"417\": {\"frequency\": 25, \"value\": 417}, \"418\": {\"frequency\": 31, \"value\": 418}, \"419\": {\"frequency\": 25, \"value\": 419}, \"420\": {\"frequency\": 30, \"value\": 420}, \"421\": {\"frequency\": 25, \"value\": 421}, \"422\": {\"frequency\": 34, \"value\": 422}, \"423\": {\"frequency\": 21, \"value\": 423}, \"424\": {\"frequency\": 19, \"value\": 424}, \"425\": {\"frequency\": 23, \"value\": 425}, \"426\": {\"frequency\": 23, \"value\": 426}, \"427\": {\"frequency\": 30, \"value\": 427}, \"428\": {\"frequency\": 23, \"value\": 428}, \"429\": {\"frequency\": 22, \"value\": 429}, \"430\": {\"frequency\": 26, \"value\": 430}, \"431\": {\"frequency\": 28, \"value\": 431}, \"432\": {\"frequency\": 28, \"value\": 432}, \"433\": {\"frequency\": 23, \"value\": 433}, \"434\": {\"frequency\": 19, \"value\": 434}, \"435\": {\"frequency\": 26, \"value\": 435}, \"436\": {\"frequency\": 23, \"value\": 436}, \"437\": {\"frequency\": 23, \"value\": 437}, \"438\": {\"frequency\": 24, \"value\": 438}, \"439\": {\"frequency\": 23, \"value\": 439}, \"440\": {\"frequency\": 15, \"value\": 440}, \"441\": {\"frequency\": 19, \"value\": 441}, \"442\": {\"frequency\": 28, \"value\": 442}, \"443\": {\"frequency\": 19, \"value\": 443}, \"444\": {\"frequency\": 21, \"value\": 444}, \"445\": {\"frequency\": 32, \"value\": 445}, \"446\": {\"frequency\": 29, \"value\": 446}, \"447\": {\"frequency\": 20, \"value\": 447}, \"448\": {\"frequency\": 18, \"value\": 448}, \"449\": {\"frequency\": 21, \"value\": 449}, \"450\": {\"frequency\": 12, \"value\": 450}, \"451\": {\"frequency\": 20, \"value\": 451}, \"452\": {\"frequency\": 28, \"value\": 452}, \"453\": {\"frequency\": 18, \"value\": 453}, \"454\": {\"frequency\": 18, \"value\": 454}, \"455\": {\"frequency\": 25, \"value\": 455}, \"456\": {\"frequency\": 25, \"value\": 456}, \"457\": {\"frequency\": 16, \"value\": 457}, \"458\": {\"frequency\": 17, \"value\": 458}, \"459\": {\"frequency\": 19, \"value\": 459}, \"460\": {\"frequency\": 29, \"value\": 460}, \"461\": {\"frequency\": 19, \"value\": 461}, \"462\": {\"frequency\": 21, \"value\": 462}, \"463\": {\"frequency\": 20, \"value\": 463}, \"464\": {\"frequency\": 31, \"value\": 464}, \"465\": {\"frequency\": 22, \"value\": 465}, \"466\": {\"frequency\": 27, \"value\": 466}, \"467\": {\"frequency\": 23, \"value\": 467}, \"468\": {\"frequency\": 14, \"value\": 468}, \"469\": {\"frequency\": 12, \"value\": 469}, \"470\": {\"frequency\": 22, \"value\": 470}, \"471\": {\"frequency\": 26, \"value\": 471}, \"472\": {\"frequency\": 26, \"value\": 472}, \"473\": {\"frequency\": 27, \"value\": 473}, \"474\": {\"frequency\": 17, \"value\": 474}, \"475\": {\"frequency\": 19, \"value\": 475}, \"476\": {\"frequency\": 18, \"value\": 476}, \"477\": {\"frequency\": 19, \"value\": 477}, \"478\": {\"frequency\": 9, \"value\": 478}, \"479\": {\"frequency\": 27, \"value\": 479}, \"480\": {\"frequency\": 21, \"value\": 480}, \"481\": {\"frequency\": 16, \"value\": 481}, \"482\": {\"frequency\": 20, \"value\": 482}, \"483\": {\"frequency\": 27, \"value\": 483}, \"484\": {\"frequency\": 21, \"value\": 484}, \"485\": {\"frequency\": 21, \"value\": 485}, \"486\": {\"frequency\": 20, \"value\": 486}, \"487\": {\"frequency\": 22, \"value\": 487}, \"488\": {\"frequency\": 14, \"value\": 488}, \"489\": {\"frequency\": 20, \"value\": 489}, \"490\": {\"frequency\": 18, \"value\": 490}, \"491\": {\"frequency\": 20, \"value\": 491}, \"492\": {\"frequency\": 17, \"value\": 492}, \"493\": {\"frequency\": 20, \"value\": 493}, \"494\": {\"frequency\": 15, \"value\": 494}, \"495\": {\"frequency\": 11, \"value\": 495}, \"496\": {\"frequency\": 11, \"value\": 496}, \"497\": {\"frequency\": 10, \"value\": 497}, \"498\": {\"frequency\": 23, \"value\": 498}, \"499\": {\"frequency\": 9, \"value\": 499}, \"500\": {\"frequency\": 25, \"value\": 500}, \"501\": {\"frequency\": 19, \"value\": 501}, \"502\": {\"frequency\": 16, \"value\": 502}, \"503\": {\"frequency\": 14, \"value\": 503}, \"504\": {\"frequency\": 26, \"value\": 504}, \"505\": {\"frequency\": 14, \"value\": 505}, \"506\": {\"frequency\": 17, \"value\": 506}, \"507\": {\"frequency\": 20, \"value\": 507}, \"508\": {\"frequency\": 18, \"value\": 508}, \"509\": {\"frequency\": 18, \"value\": 509}, \"510\": {\"frequency\": 14, \"value\": 510}, \"511\": {\"frequency\": 17, \"value\": 511}, \"512\": {\"frequency\": 13, \"value\": 512}, \"513\": {\"frequency\": 24, \"value\": 513}, \"514\": {\"frequency\": 20, \"value\": 514}, \"515\": {\"frequency\": 18, \"value\": 515}, \"516\": {\"frequency\": 15, \"value\": 516}, \"517\": {\"frequency\": 18, \"value\": 517}, \"518\": {\"frequency\": 18, \"value\": 518}, \"519\": {\"frequency\": 14, \"value\": 519}, \"520\": {\"frequency\": 19, \"value\": 520}, \"521\": {\"frequency\": 14, \"value\": 521}, \"522\": {\"frequency\": 13, \"value\": 522}, \"523\": {\"frequency\": 21, \"value\": 523}, \"524\": {\"frequency\": 14, \"value\": 524}, \"525\": {\"frequency\": 14, \"value\": 525}, \"526\": {\"frequency\": 12, \"value\": 526}, \"527\": {\"frequency\": 10, \"value\": 527}, \"528\": {\"frequency\": 23, \"value\": 528}, \"529\": {\"frequency\": 18, \"value\": 529}, \"530\": {\"frequency\": 22, \"value\": 530}, \"531\": {\"frequency\": 16, \"value\": 531}, \"532\": {\"frequency\": 22, \"value\": 532}, \"533\": {\"frequency\": 8, \"value\": 533}, \"534\": {\"frequency\": 14, \"value\": 534}, \"535\": {\"frequency\": 15, \"value\": 535}, \"536\": {\"frequency\": 23, \"value\": 536}, \"537\": {\"frequency\": 12, \"value\": 537}, \"538\": {\"frequency\": 11, \"value\": 538}, \"539\": {\"frequency\": 10, \"value\": 539}, \"540\": {\"frequency\": 10, \"value\": 540}, \"541\": {\"frequency\": 19, \"value\": 541}, \"542\": {\"frequency\": 11, \"value\": 542}, \"543\": {\"frequency\": 22, \"value\": 543}, \"544\": {\"frequency\": 19, \"value\": 544}, \"545\": {\"frequency\": 15, \"value\": 545}, \"546\": {\"frequency\": 14, \"value\": 546}, \"547\": {\"frequency\": 12, \"value\": 547}, \"548\": {\"frequency\": 12, \"value\": 548}, \"549\": {\"frequency\": 15, \"value\": 549}, \"550\": {\"frequency\": 12, \"value\": 550}, \"551\": {\"frequency\": 19, \"value\": 551}, \"552\": {\"frequency\": 13, \"value\": 552}, \"553\": {\"frequency\": 16, \"value\": 553}, \"554\": {\"frequency\": 18, \"value\": 554}, \"555\": {\"frequency\": 9, \"value\": 555}, \"556\": {\"frequency\": 11, \"value\": 556}, \"557\": {\"frequency\": 11, \"value\": 557}, \"558\": {\"frequency\": 11, \"value\": 558}, \"559\": {\"frequency\": 20, \"value\": 559}, \"560\": {\"frequency\": 11, \"value\": 560}, \"561\": {\"frequency\": 16, \"value\": 561}, \"562\": {\"frequency\": 14, \"value\": 562}, \"563\": {\"frequency\": 15, \"value\": 563}, \"564\": {\"frequency\": 9, \"value\": 564}, \"565\": {\"frequency\": 14, \"value\": 565}, \"566\": {\"frequency\": 16, \"value\": 566}, \"567\": {\"frequency\": 15, \"value\": 567}, \"568\": {\"frequency\": 11, \"value\": 568}, \"569\": {\"frequency\": 14, \"value\": 569}, \"570\": {\"frequency\": 13, \"value\": 570}, \"571\": {\"frequency\": 7, \"value\": 571}, \"572\": {\"frequency\": 9, \"value\": 572}, \"573\": {\"frequency\": 8, \"value\": 573}, \"574\": {\"frequency\": 18, \"value\": 574}, \"575\": {\"frequency\": 9, \"value\": 575}, \"576\": {\"frequency\": 16, \"value\": 576}, \"577\": {\"frequency\": 15, \"value\": 577}, \"578\": {\"frequency\": 14, \"value\": 578}, \"579\": {\"frequency\": 19, \"value\": 579}, \"580\": {\"frequency\": 16, \"value\": 580}, \"581\": {\"frequency\": 11, \"value\": 581}, \"582\": {\"frequency\": 15, \"value\": 582}, \"583\": {\"frequency\": 14, \"value\": 583}, \"584\": {\"frequency\": 13, \"value\": 584}, \"585\": {\"frequency\": 14, \"value\": 585}, \"586\": {\"frequency\": 12, \"value\": 586}, \"587\": {\"frequency\": 8, \"value\": 587}, \"588\": {\"frequency\": 15, \"value\": 588}, \"589\": {\"frequency\": 12, \"value\": 589}, \"590\": {\"frequency\": 19, \"value\": 590}, \"591\": {\"frequency\": 12, \"value\": 591}, \"592\": {\"frequency\": 11, \"value\": 592}, \"593\": {\"frequency\": 11, \"value\": 593}, \"594\": {\"frequency\": 8, \"value\": 594}, \"595\": {\"frequency\": 13, \"value\": 595}, \"596\": {\"frequency\": 10, \"value\": 596}, \"597\": {\"frequency\": 19, \"value\": 597}, \"598\": {\"frequency\": 6, \"value\": 598}, \"599\": {\"frequency\": 15, \"value\": 599}, \"600\": {\"frequency\": 14, \"value\": 600}, \"601\": {\"frequency\": 9, \"value\": 601}, \"602\": {\"frequency\": 6, \"value\": 602}, \"603\": {\"frequency\": 9, \"value\": 603}, \"604\": {\"frequency\": 20, \"value\": 604}, \"605\": {\"frequency\": 12, \"value\": 605}, \"606\": {\"frequency\": 14, \"value\": 606}, \"607\": {\"frequency\": 13, \"value\": 607}, \"608\": {\"frequency\": 12, \"value\": 608}, \"609\": {\"frequency\": 18, \"value\": 609}, \"610\": {\"frequency\": 9, \"value\": 610}, \"611\": {\"frequency\": 16, \"value\": 611}, \"612\": {\"frequency\": 13, \"value\": 612}, \"613\": {\"frequency\": 8, \"value\": 613}, \"614\": {\"frequency\": 15, \"value\": 614}, \"615\": {\"frequency\": 9, \"value\": 615}, \"616\": {\"frequency\": 9, \"value\": 616}, \"617\": {\"frequency\": 11, \"value\": 617}, \"618\": {\"frequency\": 19, \"value\": 618}, \"619\": {\"frequency\": 9, \"value\": 619}, \"620\": {\"frequency\": 6, \"value\": 620}, \"621\": {\"frequency\": 5, \"value\": 621}, \"622\": {\"frequency\": 13, \"value\": 622}, \"623\": {\"frequency\": 16, \"value\": 623}, \"624\": {\"frequency\": 8, \"value\": 624}, \"625\": {\"frequency\": 9, \"value\": 625}, \"626\": {\"frequency\": 9, \"value\": 626}, \"627\": {\"frequency\": 12, \"value\": 627}, \"628\": {\"frequency\": 10, \"value\": 628}, \"629\": {\"frequency\": 11, \"value\": 629}, \"630\": {\"frequency\": 15, \"value\": 630}, \"631\": {\"frequency\": 6, \"value\": 631}, \"632\": {\"frequency\": 11, \"value\": 632}, \"633\": {\"frequency\": 18, \"value\": 633}, \"634\": {\"frequency\": 13, \"value\": 634}, \"635\": {\"frequency\": 10, \"value\": 635}, \"636\": {\"frequency\": 10, \"value\": 636}, \"637\": {\"frequency\": 11, \"value\": 637}, \"638\": {\"frequency\": 14, \"value\": 638}, \"639\": {\"frequency\": 9, \"value\": 639}, \"640\": {\"frequency\": 9, \"value\": 640}, \"641\": {\"frequency\": 10, \"value\": 641}, \"642\": {\"frequency\": 10, \"value\": 642}, \"643\": {\"frequency\": 15, \"value\": 643}, \"644\": {\"frequency\": 10, \"value\": 644}, \"645\": {\"frequency\": 8, \"value\": 645}, \"646\": {\"frequency\": 5, \"value\": 646}, \"647\": {\"frequency\": 9, \"value\": 647}, \"648\": {\"frequency\": 8, \"value\": 648}, \"649\": {\"frequency\": 9, \"value\": 649}, \"650\": {\"frequency\": 9, \"value\": 650}, \"651\": {\"frequency\": 13, \"value\": 651}, \"652\": {\"frequency\": 15, \"value\": 652}, \"653\": {\"frequency\": 9, \"value\": 653}, \"654\": {\"frequency\": 13, \"value\": 654}, \"655\": {\"frequency\": 7, \"value\": 655}, \"656\": {\"frequency\": 8, \"value\": 656}, \"657\": {\"frequency\": 11, \"value\": 657}, \"658\": {\"frequency\": 9, \"value\": 658}, \"659\": {\"frequency\": 14, \"value\": 659}, \"660\": {\"frequency\": 8, \"value\": 660}, \"661\": {\"frequency\": 10, \"value\": 661}, \"662\": {\"frequency\": 12, \"value\": 662}, \"663\": {\"frequency\": 11, \"value\": 663}, \"664\": {\"frequency\": 7, \"value\": 664}, \"665\": {\"frequency\": 10, \"value\": 665}, \"666\": {\"frequency\": 7, \"value\": 666}, \"667\": {\"frequency\": 12, \"value\": 667}, \"668\": {\"frequency\": 12, \"value\": 668}, \"669\": {\"frequency\": 7, \"value\": 669}, \"670\": {\"frequency\": 9, \"value\": 670}, \"671\": {\"frequency\": 8, \"value\": 671}, \"672\": {\"frequency\": 6, \"value\": 672}, \"673\": {\"frequency\": 11, \"value\": 673}, \"674\": {\"frequency\": 9, \"value\": 674}, \"675\": {\"frequency\": 9, \"value\": 675}, \"676\": {\"frequency\": 14, \"value\": 676}, \"677\": {\"frequency\": 4, \"value\": 677}, \"678\": {\"frequency\": 7, \"value\": 678}, \"679\": {\"frequency\": 12, \"value\": 679}, \"680\": {\"frequency\": 9, \"value\": 680}, \"681\": {\"frequency\": 7, \"value\": 681}, \"682\": {\"frequency\": 6, \"value\": 682}, \"683\": {\"frequency\": 7, \"value\": 683}, \"684\": {\"frequency\": 5, \"value\": 684}, \"685\": {\"frequency\": 8, \"value\": 685}, \"686\": {\"frequency\": 12, \"value\": 686}, \"687\": {\"frequency\": 8, \"value\": 687}, \"688\": {\"frequency\": 6, \"value\": 688}, \"689\": {\"frequency\": 9, \"value\": 689}, \"690\": {\"frequency\": 10, \"value\": 690}, \"691\": {\"frequency\": 12, \"value\": 691}, \"692\": {\"frequency\": 8, \"value\": 692}, \"693\": {\"frequency\": 7, \"value\": 693}, \"694\": {\"frequency\": 4, \"value\": 694}, \"695\": {\"frequency\": 11, \"value\": 695}, \"696\": {\"frequency\": 8, \"value\": 696}, \"697\": {\"frequency\": 7, \"value\": 697}, \"698\": {\"frequency\": 10, \"value\": 698}, \"699\": {\"frequency\": 10, \"value\": 699}, \"700\": {\"frequency\": 17, \"value\": 700}, \"701\": {\"frequency\": 5, \"value\": 701}, \"702\": {\"frequency\": 7, \"value\": 702}, \"703\": {\"frequency\": 8, \"value\": 703}, \"704\": {\"frequency\": 6, \"value\": 704}, \"705\": {\"frequency\": 14, \"value\": 705}, \"706\": {\"frequency\": 9, \"value\": 706}, \"707\": {\"frequency\": 6, \"value\": 707}, \"708\": {\"frequency\": 3, \"value\": 708}, \"709\": {\"frequency\": 10, \"value\": 709}, \"710\": {\"frequency\": 4, \"value\": 710}, \"711\": {\"frequency\": 8, \"value\": 711}, \"712\": {\"frequency\": 13, \"value\": 712}, \"713\": {\"frequency\": 6, \"value\": 713}, \"714\": {\"frequency\": 8, \"value\": 714}, \"715\": {\"frequency\": 7, \"value\": 715}, \"716\": {\"frequency\": 12, \"value\": 716}, \"717\": {\"frequency\": 9, \"value\": 717}, \"718\": {\"frequency\": 8, \"value\": 718}, \"719\": {\"frequency\": 6, \"value\": 719}, \"720\": {\"frequency\": 12, \"value\": 720}, \"721\": {\"frequency\": 6, \"value\": 721}, \"722\": {\"frequency\": 13, \"value\": 722}, \"723\": {\"frequency\": 7, \"value\": 723}, \"724\": {\"frequency\": 5, \"value\": 724}, \"725\": {\"frequency\": 8, \"value\": 725}, \"726\": {\"frequency\": 5, \"value\": 726}, \"727\": {\"frequency\": 6, \"value\": 727}, \"728\": {\"frequency\": 11, \"value\": 728}, \"729\": {\"frequency\": 10, \"value\": 729}, \"730\": {\"frequency\": 10, \"value\": 730}, \"731\": {\"frequency\": 7, \"value\": 731}, \"732\": {\"frequency\": 8, \"value\": 732}, \"733\": {\"frequency\": 10, \"value\": 733}, \"734\": {\"frequency\": 6, \"value\": 734}, \"735\": {\"frequency\": 5, \"value\": 735}, \"736\": {\"frequency\": 6, \"value\": 736}, \"737\": {\"frequency\": 3, \"value\": 737}, \"738\": {\"frequency\": 9, \"value\": 738}, \"739\": {\"frequency\": 6, \"value\": 739}, \"740\": {\"frequency\": 7, \"value\": 740}, \"741\": {\"frequency\": 5, \"value\": 741}, \"742\": {\"frequency\": 12, \"value\": 742}, \"743\": {\"frequency\": 4, \"value\": 743}, \"744\": {\"frequency\": 17, \"value\": 744}, \"745\": {\"frequency\": 6, \"value\": 745}, \"746\": {\"frequency\": 8, \"value\": 746}, \"747\": {\"frequency\": 9, \"value\": 747}, \"748\": {\"frequency\": 5, \"value\": 748}, \"749\": {\"frequency\": 6, \"value\": 749}, \"750\": {\"frequency\": 5, \"value\": 750}, \"751\": {\"frequency\": 2, \"value\": 751}, \"752\": {\"frequency\": 2, \"value\": 752}, \"753\": {\"frequency\": 8, \"value\": 753}, \"754\": {\"frequency\": 7, \"value\": 754}, \"755\": {\"frequency\": 4, \"value\": 755}, \"756\": {\"frequency\": 7, \"value\": 756}, \"757\": {\"frequency\": 6, \"value\": 757}, \"758\": {\"frequency\": 7, \"value\": 758}, \"759\": {\"frequency\": 3, \"value\": 759}, \"760\": {\"frequency\": 3, \"value\": 760}, \"761\": {\"frequency\": 8, \"value\": 761}, \"762\": {\"frequency\": 7, \"value\": 762}, \"763\": {\"frequency\": 10, \"value\": 763}, \"764\": {\"frequency\": 8, \"value\": 764}, \"765\": {\"frequency\": 4, \"value\": 765}, \"766\": {\"frequency\": 6, \"value\": 766}, \"767\": {\"frequency\": 8, \"value\": 767}, \"768\": {\"frequency\": 9, \"value\": 768}, \"769\": {\"frequency\": 4, \"value\": 769}, \"770\": {\"frequency\": 4, \"value\": 770}, \"771\": {\"frequency\": 10, \"value\": 771}, \"772\": {\"frequency\": 9, \"value\": 772}, \"773\": {\"frequency\": 8, \"value\": 773}, \"774\": {\"frequency\": 4, \"value\": 774}, \"775\": {\"frequency\": 9, \"value\": 775}, \"776\": {\"frequency\": 5, \"value\": 776}, \"777\": {\"frequency\": 6, \"value\": 777}, \"778\": {\"frequency\": 2, \"value\": 778}, \"779\": {\"frequency\": 4, \"value\": 779}, \"780\": {\"frequency\": 7, \"value\": 780}, \"781\": {\"frequency\": 8, \"value\": 781}, \"782\": {\"frequency\": 3, \"value\": 782}, \"783\": {\"frequency\": 3, \"value\": 783}, \"784\": {\"frequency\": 5, \"value\": 784}, \"785\": {\"frequency\": 3, \"value\": 785}, \"786\": {\"frequency\": 8, \"value\": 786}, \"787\": {\"frequency\": 9, \"value\": 787}, \"788\": {\"frequency\": 12, \"value\": 788}, \"789\": {\"frequency\": 5, \"value\": 789}, \"790\": {\"frequency\": 5, \"value\": 790}, \"791\": {\"frequency\": 4, \"value\": 791}, \"792\": {\"frequency\": 8, \"value\": 792}, \"793\": {\"frequency\": 6, \"value\": 793}, \"794\": {\"frequency\": 5, \"value\": 794}, \"795\": {\"frequency\": 5, \"value\": 795}, \"796\": {\"frequency\": 11, \"value\": 796}, \"797\": {\"frequency\": 5, \"value\": 797}, \"798\": {\"frequency\": 5, \"value\": 798}, \"799\": {\"frequency\": 6, \"value\": 799}, \"800\": {\"frequency\": 10, \"value\": 800}, \"801\": {\"frequency\": 4, \"value\": 801}, \"802\": {\"frequency\": 6, \"value\": 802}, \"803\": {\"frequency\": 5, \"value\": 803}, \"804\": {\"frequency\": 6, \"value\": 804}, \"805\": {\"frequency\": 6, \"value\": 805}, \"806\": {\"frequency\": 4, \"value\": 806}, \"807\": {\"frequency\": 4, \"value\": 807}, \"808\": {\"frequency\": 10, \"value\": 808}, \"809\": {\"frequency\": 5, \"value\": 809}, \"810\": {\"frequency\": 4, \"value\": 810}, \"811\": {\"frequency\": 5, \"value\": 811}, \"812\": {\"frequency\": 6, \"value\": 812}, \"813\": {\"frequency\": 8, \"value\": 813}, \"814\": {\"frequency\": 4, \"value\": 814}, \"815\": {\"frequency\": 8, \"value\": 815}, \"816\": {\"frequency\": 6, \"value\": 816}, \"817\": {\"frequency\": 4, \"value\": 817}, \"818\": {\"frequency\": 3, \"value\": 818}, \"819\": {\"frequency\": 5, \"value\": 819}, \"820\": {\"frequency\": 6, \"value\": 820}, \"821\": {\"frequency\": 3, \"value\": 821}, \"822\": {\"frequency\": 3, \"value\": 822}, \"823\": {\"frequency\": 3, \"value\": 823}, \"824\": {\"frequency\": 7, \"value\": 824}, \"825\": {\"frequency\": 9, \"value\": 825}, \"826\": {\"frequency\": 4, \"value\": 826}, \"827\": {\"frequency\": 6, \"value\": 827}, \"828\": {\"frequency\": 5, \"value\": 828}, \"829\": {\"frequency\": 7, \"value\": 829}, \"830\": {\"frequency\": 4, \"value\": 830}, \"831\": {\"frequency\": 2, \"value\": 831}, \"832\": {\"frequency\": 6, \"value\": 832}, \"833\": {\"frequency\": 5, \"value\": 833}, \"834\": {\"frequency\": 9, \"value\": 834}, \"835\": {\"frequency\": 9, \"value\": 835}, \"836\": {\"frequency\": 6, \"value\": 836}, \"837\": {\"frequency\": 9, \"value\": 837}, \"838\": {\"frequency\": 6, \"value\": 838}, \"839\": {\"frequency\": 2, \"value\": 839}, \"840\": {\"frequency\": 2, \"value\": 840}, \"841\": {\"frequency\": 2, \"value\": 841}, \"843\": {\"frequency\": 8, \"value\": 843}, \"844\": {\"frequency\": 6, \"value\": 844}, \"845\": {\"frequency\": 3, \"value\": 845}, \"846\": {\"frequency\": 4, \"value\": 846}, \"847\": {\"frequency\": 6, \"value\": 847}, \"848\": {\"frequency\": 3, \"value\": 848}, \"849\": {\"frequency\": 6, \"value\": 849}, \"850\": {\"frequency\": 7, \"value\": 850}, \"851\": {\"frequency\": 5, \"value\": 851}, \"852\": {\"frequency\": 3, \"value\": 852}, \"853\": {\"frequency\": 4, \"value\": 853}, \"854\": {\"frequency\": 8, \"value\": 854}, \"855\": {\"frequency\": 5, \"value\": 855}, \"856\": {\"frequency\": 5, \"value\": 856}, \"857\": {\"frequency\": 6, \"value\": 857}, \"858\": {\"frequency\": 4, \"value\": 858}, \"859\": {\"frequency\": 1, \"value\": 859}, \"860\": {\"frequency\": 5, \"value\": 860}, \"861\": {\"frequency\": 4, \"value\": 861}, \"862\": {\"frequency\": 6, \"value\": 862}, \"863\": {\"frequency\": 6, \"value\": 863}, \"864\": {\"frequency\": 4, \"value\": 864}, \"865\": {\"frequency\": 2, \"value\": 865}, \"866\": {\"frequency\": 1, \"value\": 866}, \"867\": {\"frequency\": 8, \"value\": 867}, \"868\": {\"frequency\": 2, \"value\": 868}, \"869\": {\"frequency\": 4, \"value\": 869}, \"870\": {\"frequency\": 4, \"value\": 870}, \"871\": {\"frequency\": 5, \"value\": 871}, \"872\": {\"frequency\": 1, \"value\": 872}, \"873\": {\"frequency\": 5, \"value\": 873}, \"874\": {\"frequency\": 5, \"value\": 874}, \"875\": {\"frequency\": 3, \"value\": 875}, \"876\": {\"frequency\": 4, \"value\": 876}, \"877\": {\"frequency\": 3, \"value\": 877}, \"878\": {\"frequency\": 6, \"value\": 878}, \"879\": {\"frequency\": 2, \"value\": 879}, \"880\": {\"frequency\": 3, \"value\": 880}, \"881\": {\"frequency\": 5, \"value\": 881}, \"882\": {\"frequency\": 8, \"value\": 882}, \"883\": {\"frequency\": 2, \"value\": 883}, \"884\": {\"frequency\": 7, \"value\": 884}, \"885\": {\"frequency\": 4, \"value\": 885}, \"886\": {\"frequency\": 4, \"value\": 886}, \"888\": {\"frequency\": 4, \"value\": 888}, \"889\": {\"frequency\": 5, \"value\": 889}, \"890\": {\"frequency\": 4, \"value\": 890}, \"891\": {\"frequency\": 4, \"value\": 891}, \"892\": {\"frequency\": 2, \"value\": 892}, \"893\": {\"frequency\": 7, \"value\": 893}, \"894\": {\"frequency\": 4, \"value\": 894}, \"895\": {\"frequency\": 7, \"value\": 895}, \"896\": {\"frequency\": 5, \"value\": 896}, \"897\": {\"frequency\": 5, \"value\": 897}, \"898\": {\"frequency\": 5, \"value\": 898}, \"899\": {\"frequency\": 6, \"value\": 899}, \"900\": {\"frequency\": 3, \"value\": 900}, \"901\": {\"frequency\": 4, \"value\": 901}, \"902\": {\"frequency\": 7, \"value\": 902}, \"903\": {\"frequency\": 7, \"value\": 903}, \"904\": {\"frequency\": 4, \"value\": 904}, \"905\": {\"frequency\": 4, \"value\": 905}, \"906\": {\"frequency\": 3, \"value\": 906}, \"907\": {\"frequency\": 1, \"value\": 907}, \"908\": {\"frequency\": 5, \"value\": 908}, \"909\": {\"frequency\": 1, \"value\": 909}, \"910\": {\"frequency\": 3, \"value\": 910}, \"911\": {\"frequency\": 8, \"value\": 911}, \"912\": {\"frequency\": 2, \"value\": 912}, \"913\": {\"frequency\": 2, \"value\": 913}, \"915\": {\"frequency\": 2, \"value\": 915}, \"916\": {\"frequency\": 4, \"value\": 916}, \"917\": {\"frequency\": 2, \"value\": 917}, \"918\": {\"frequency\": 3, \"value\": 918}, \"919\": {\"frequency\": 5, \"value\": 919}, \"920\": {\"frequency\": 5, \"value\": 920}, \"921\": {\"frequency\": 5, \"value\": 921}, \"922\": {\"frequency\": 3, \"value\": 922}, \"923\": {\"frequency\": 3, \"value\": 923}, \"924\": {\"frequency\": 8, \"value\": 924}, \"925\": {\"frequency\": 3, \"value\": 925}, \"926\": {\"frequency\": 5, \"value\": 926}, \"927\": {\"frequency\": 2, \"value\": 927}, \"928\": {\"frequency\": 1, \"value\": 928}, \"929\": {\"frequency\": 2, \"value\": 929}, \"930\": {\"frequency\": 4, \"value\": 930}, \"931\": {\"frequency\": 1, \"value\": 931}, \"932\": {\"frequency\": 2, \"value\": 932}, \"933\": {\"frequency\": 4, \"value\": 933}, \"934\": {\"frequency\": 2, \"value\": 934}, \"935\": {\"frequency\": 7, \"value\": 935}, \"936\": {\"frequency\": 5, \"value\": 936}, \"937\": {\"frequency\": 1, \"value\": 937}, \"938\": {\"frequency\": 2, \"value\": 938}, \"939\": {\"frequency\": 2, \"value\": 939}, \"940\": {\"frequency\": 4, \"value\": 940}, \"941\": {\"frequency\": 1, \"value\": 941}, \"942\": {\"frequency\": 3, \"value\": 942}, \"943\": {\"frequency\": 3, \"value\": 943}, \"944\": {\"frequency\": 3, \"value\": 944}, \"945\": {\"frequency\": 2, \"value\": 945}, \"946\": {\"frequency\": 3, \"value\": 946}, \"947\": {\"frequency\": 3, \"value\": 947}, \"949\": {\"frequency\": 3, \"value\": 949}, \"950\": {\"frequency\": 2, \"value\": 950}, \"951\": {\"frequency\": 3, \"value\": 951}, \"952\": {\"frequency\": 9, \"value\": 952}, \"953\": {\"frequency\": 6, \"value\": 953}, \"954\": {\"frequency\": 3, \"value\": 954}, \"955\": {\"frequency\": 7, \"value\": 955}, \"956\": {\"frequency\": 6, \"value\": 956}, \"957\": {\"frequency\": 5, \"value\": 957}, \"958\": {\"frequency\": 5, \"value\": 958}, \"959\": {\"frequency\": 1, \"value\": 959}, \"960\": {\"frequency\": 1, \"value\": 960}, \"961\": {\"frequency\": 4, \"value\": 961}, \"962\": {\"frequency\": 2, \"value\": 962}, \"963\": {\"frequency\": 4, \"value\": 963}, \"964\": {\"frequency\": 3, \"value\": 964}, \"965\": {\"frequency\": 2, \"value\": 965}, \"966\": {\"frequency\": 4, \"value\": 966}, \"967\": {\"frequency\": 3, \"value\": 967}, \"968\": {\"frequency\": 6, \"value\": 968}, \"969\": {\"frequency\": 1, \"value\": 969}, \"970\": {\"frequency\": 2, \"value\": 970}, \"971\": {\"frequency\": 3, \"value\": 971}, \"972\": {\"frequency\": 2, \"value\": 972}, \"973\": {\"frequency\": 4, \"value\": 973}, \"974\": {\"frequency\": 3, \"value\": 974}, \"975\": {\"frequency\": 2, \"value\": 975}, \"976\": {\"frequency\": 2, \"value\": 976}, \"977\": {\"frequency\": 2, \"value\": 977}, \"978\": {\"frequency\": 2, \"value\": 978}, \"979\": {\"frequency\": 4, \"value\": 979}, \"980\": {\"frequency\": 1, \"value\": 980}, \"981\": {\"frequency\": 2, \"value\": 981}, \"982\": {\"frequency\": 3, \"value\": 982}, \"983\": {\"frequency\": 3, \"value\": 983}, \"984\": {\"frequency\": 10, \"value\": 984}, \"985\": {\"frequency\": 3, \"value\": 985}, \"986\": {\"frequency\": 3, \"value\": 986}, \"987\": {\"frequency\": 1, \"value\": 987}, \"988\": {\"frequency\": 4, \"value\": 988}, \"989\": {\"frequency\": 2, \"value\": 989}, \"990\": {\"frequency\": 4, \"value\": 990}, \"991\": {\"frequency\": 2, \"value\": 991}, \"992\": {\"frequency\": 5, \"value\": 992}, \"993\": {\"frequency\": 4, \"value\": 993}, \"994\": {\"frequency\": 3, \"value\": 994}, \"996\": {\"frequency\": 3, \"value\": 996}, \"997\": {\"frequency\": 2, \"value\": 997}, \"998\": {\"frequency\": 1, \"value\": 998}, \"999\": {\"frequency\": 2, \"value\": 999}, \"1000\": {\"frequency\": 5, \"value\": 1000}, \"1001\": {\"frequency\": 3, \"value\": 1001}, \"1002\": {\"frequency\": 5, \"value\": 1002}, \"1003\": {\"frequency\": 2, \"value\": 1003}, \"1005\": {\"frequency\": 2, \"value\": 1005}, \"1007\": {\"frequency\": 4, \"value\": 1007}, \"1008\": {\"frequency\": 3, \"value\": 1008}, \"1009\": {\"frequency\": 4, \"value\": 1009}, \"1010\": {\"frequency\": 2, \"value\": 1010}, \"1011\": {\"frequency\": 4, \"value\": 1011}, \"1012\": {\"frequency\": 3, \"value\": 1012}, \"1013\": {\"frequency\": 3, \"value\": 1013}, \"1014\": {\"frequency\": 3, \"value\": 1014}, \"1015\": {\"frequency\": 3, \"value\": 1015}, \"1017\": {\"frequency\": 4, \"value\": 1017}, \"1018\": {\"frequency\": 3, \"value\": 1018}, \"1019\": {\"frequency\": 3, \"value\": 1019}, \"1020\": {\"frequency\": 3, \"value\": 1020}, \"1021\": {\"frequency\": 1, \"value\": 1021}, \"1022\": {\"frequency\": 3, \"value\": 1022}, \"1023\": {\"frequency\": 2, \"value\": 1023}, \"1024\": {\"frequency\": 2, \"value\": 1024}, \"1025\": {\"frequency\": 4, \"value\": 1025}, \"1026\": {\"frequency\": 2, \"value\": 1026}, \"1027\": {\"frequency\": 4, \"value\": 1027}, \"1028\": {\"frequency\": 3, \"value\": 1028}, \"1029\": {\"frequency\": 1, \"value\": 1029}, \"1030\": {\"frequency\": 4, \"value\": 1030}, \"1031\": {\"frequency\": 2, \"value\": 1031}, \"1032\": {\"frequency\": 5, \"value\": 1032}, \"1033\": {\"frequency\": 1, \"value\": 1033}, \"1034\": {\"frequency\": 3, \"value\": 1034}, \"1035\": {\"frequency\": 1, \"value\": 1035}, \"1036\": {\"frequency\": 3, \"value\": 1036}, \"1037\": {\"frequency\": 3, \"value\": 1037}, \"1038\": {\"frequency\": 4, \"value\": 1038}, \"1039\": {\"frequency\": 1, \"value\": 1039}, \"1040\": {\"frequency\": 1, \"value\": 1040}, \"1041\": {\"frequency\": 2, \"value\": 1041}, \"1042\": {\"frequency\": 4, \"value\": 1042}, \"1043\": {\"frequency\": 1, \"value\": 1043}, \"1044\": {\"frequency\": 5, \"value\": 1044}, \"1045\": {\"frequency\": 3, \"value\": 1045}, \"1046\": {\"frequency\": 3, \"value\": 1046}, \"1047\": {\"frequency\": 1, \"value\": 1047}, \"1048\": {\"frequency\": 1, \"value\": 1048}, \"1049\": {\"frequency\": 3, \"value\": 1049}, \"1051\": {\"frequency\": 4, \"value\": 1051}, \"1052\": {\"frequency\": 1, \"value\": 1052}, \"1053\": {\"frequency\": 1, \"value\": 1053}, \"1054\": {\"frequency\": 1, \"value\": 1054}, \"1055\": {\"frequency\": 2, \"value\": 1055}, \"1056\": {\"frequency\": 3, \"value\": 1056}, \"1057\": {\"frequency\": 2, \"value\": 1057}, \"1058\": {\"frequency\": 2, \"value\": 1058}, \"1059\": {\"frequency\": 4, \"value\": 1059}, \"1060\": {\"frequency\": 3, \"value\": 1060}, \"1061\": {\"frequency\": 2, \"value\": 1061}, \"1062\": {\"frequency\": 4, \"value\": 1062}, \"1063\": {\"frequency\": 5, \"value\": 1063}, \"1064\": {\"frequency\": 4, \"value\": 1064}, \"1065\": {\"frequency\": 4, \"value\": 1065}, \"1066\": {\"frequency\": 2, \"value\": 1066}, \"1067\": {\"frequency\": 1, \"value\": 1067}, \"1068\": {\"frequency\": 2, \"value\": 1068}, \"1070\": {\"frequency\": 2, \"value\": 1070}, \"1071\": {\"frequency\": 2, \"value\": 1071}, \"1072\": {\"frequency\": 1, \"value\": 1072}, \"1073\": {\"frequency\": 3, \"value\": 1073}, \"1074\": {\"frequency\": 3, \"value\": 1074}, \"1075\": {\"frequency\": 2, \"value\": 1075}, \"1076\": {\"frequency\": 3, \"value\": 1076}, \"1077\": {\"frequency\": 4, \"value\": 1077}, \"1078\": {\"frequency\": 2, \"value\": 1078}, \"1079\": {\"frequency\": 1, \"value\": 1079}, \"1080\": {\"frequency\": 5, \"value\": 1080}, \"1081\": {\"frequency\": 4, \"value\": 1081}, \"1082\": {\"frequency\": 2, \"value\": 1082}, \"1083\": {\"frequency\": 2, \"value\": 1083}, \"1084\": {\"frequency\": 3, \"value\": 1084}, \"1085\": {\"frequency\": 2, \"value\": 1085}, \"1087\": {\"frequency\": 3, \"value\": 1087}, \"1088\": {\"frequency\": 3, \"value\": 1088}, \"1089\": {\"frequency\": 4, \"value\": 1089}, \"1090\": {\"frequency\": 3, \"value\": 1090}, \"1091\": {\"frequency\": 3, \"value\": 1091}, \"1092\": {\"frequency\": 3, \"value\": 1092}, \"1093\": {\"frequency\": 3, \"value\": 1093}, \"1094\": {\"frequency\": 4, \"value\": 1094}, \"1095\": {\"frequency\": 1, \"value\": 1095}, \"1096\": {\"frequency\": 2, \"value\": 1096}, \"1097\": {\"frequency\": 2, \"value\": 1097}, \"1098\": {\"frequency\": 2, \"value\": 1098}, \"1099\": {\"frequency\": 1, \"value\": 1099}, \"1100\": {\"frequency\": 2, \"value\": 1100}, \"1101\": {\"frequency\": 3, \"value\": 1101}, \"1102\": {\"frequency\": 1, \"value\": 1102}, \"1103\": {\"frequency\": 1, \"value\": 1103}, \"1104\": {\"frequency\": 1, \"value\": 1104}, \"1105\": {\"frequency\": 1, \"value\": 1105}, \"1106\": {\"frequency\": 6, \"value\": 1106}, \"1108\": {\"frequency\": 1, \"value\": 1108}, \"1109\": {\"frequency\": 2, \"value\": 1109}, \"1110\": {\"frequency\": 3, \"value\": 1110}, \"1111\": {\"frequency\": 4, \"value\": 1111}, \"1112\": {\"frequency\": 2, \"value\": 1112}, \"1114\": {\"frequency\": 2, \"value\": 1114}, \"1117\": {\"frequency\": 2, \"value\": 1117}, \"1118\": {\"frequency\": 3, \"value\": 1118}, \"1119\": {\"frequency\": 2, \"value\": 1119}, \"1120\": {\"frequency\": 5, \"value\": 1120}, \"1121\": {\"frequency\": 3, \"value\": 1121}, \"1122\": {\"frequency\": 2, \"value\": 1122}, \"1123\": {\"frequency\": 1, \"value\": 1123}, \"1124\": {\"frequency\": 1, \"value\": 1124}, \"1125\": {\"frequency\": 1, \"value\": 1125}, \"1126\": {\"frequency\": 2, \"value\": 1126}, \"1127\": {\"frequency\": 3, \"value\": 1127}, \"1128\": {\"frequency\": 1, \"value\": 1128}, \"1129\": {\"frequency\": 3, \"value\": 1129}, \"1130\": {\"frequency\": 5, \"value\": 1130}, \"1131\": {\"frequency\": 1, \"value\": 1131}, \"1132\": {\"frequency\": 3, \"value\": 1132}, \"1133\": {\"frequency\": 1, \"value\": 1133}, \"1134\": {\"frequency\": 3, \"value\": 1134}, \"1135\": {\"frequency\": 3, \"value\": 1135}, \"1136\": {\"frequency\": 1, \"value\": 1136}, \"1137\": {\"frequency\": 1, \"value\": 1137}, \"1138\": {\"frequency\": 3, \"value\": 1138}, \"1139\": {\"frequency\": 3, \"value\": 1139}, \"1140\": {\"frequency\": 1, \"value\": 1140}, \"1141\": {\"frequency\": 4, \"value\": 1141}, \"1142\": {\"frequency\": 2, \"value\": 1142}, \"1143\": {\"frequency\": 4, \"value\": 1143}, \"1144\": {\"frequency\": 3, \"value\": 1144}, \"1145\": {\"frequency\": 2, \"value\": 1145}, \"1147\": {\"frequency\": 2, \"value\": 1147}, \"1148\": {\"frequency\": 4, \"value\": 1148}, \"1149\": {\"frequency\": 3, \"value\": 1149}, \"1150\": {\"frequency\": 3, \"value\": 1150}, \"1151\": {\"frequency\": 2, \"value\": 1151}, \"1152\": {\"frequency\": 3, \"value\": 1152}, \"1153\": {\"frequency\": 2, \"value\": 1153}, \"1154\": {\"frequency\": 1, \"value\": 1154}, \"1156\": {\"frequency\": 5, \"value\": 1156}, \"1161\": {\"frequency\": 5, \"value\": 1161}, \"1162\": {\"frequency\": 3, \"value\": 1162}, \"1164\": {\"frequency\": 1, \"value\": 1164}, \"1165\": {\"frequency\": 3, \"value\": 1165}, \"1166\": {\"frequency\": 4, \"value\": 1166}, \"1167\": {\"frequency\": 1, \"value\": 1167}, \"1168\": {\"frequency\": 1, \"value\": 1168}, \"1169\": {\"frequency\": 1, \"value\": 1169}, \"1170\": {\"frequency\": 1, \"value\": 1170}, \"1171\": {\"frequency\": 3, \"value\": 1171}, \"1173\": {\"frequency\": 3, \"value\": 1173}, \"1174\": {\"frequency\": 1, \"value\": 1174}, \"1175\": {\"frequency\": 2, \"value\": 1175}, \"1176\": {\"frequency\": 3, \"value\": 1176}, \"1178\": {\"frequency\": 4, \"value\": 1178}, \"1180\": {\"frequency\": 2, \"value\": 1180}, \"1181\": {\"frequency\": 2, \"value\": 1181}, \"1182\": {\"frequency\": 2, \"value\": 1182}, \"1183\": {\"frequency\": 2, \"value\": 1183}, \"1184\": {\"frequency\": 2, \"value\": 1184}, \"1185\": {\"frequency\": 2, \"value\": 1185}, \"1186\": {\"frequency\": 2, \"value\": 1186}, \"1187\": {\"frequency\": 4, \"value\": 1187}, \"1190\": {\"frequency\": 2, \"value\": 1190}, \"1191\": {\"frequency\": 1, \"value\": 1191}, \"1192\": {\"frequency\": 1, \"value\": 1192}, \"1193\": {\"frequency\": 3, \"value\": 1193}, \"1195\": {\"frequency\": 2, \"value\": 1195}, \"1196\": {\"frequency\": 1, \"value\": 1196}, \"1197\": {\"frequency\": 2, \"value\": 1197}, \"1199\": {\"frequency\": 3, \"value\": 1199}, \"1200\": {\"frequency\": 2, \"value\": 1200}, \"1201\": {\"frequency\": 2, \"value\": 1201}, \"1202\": {\"frequency\": 1, \"value\": 1202}, \"1203\": {\"frequency\": 3, \"value\": 1203}, \"1204\": {\"frequency\": 1, \"value\": 1204}, \"1205\": {\"frequency\": 4, \"value\": 1205}, \"1206\": {\"frequency\": 5, \"value\": 1206}, \"1207\": {\"frequency\": 2, \"value\": 1207}, \"1208\": {\"frequency\": 2, \"value\": 1208}, \"1210\": {\"frequency\": 4, \"value\": 1210}, \"1211\": {\"frequency\": 1, \"value\": 1211}, \"1212\": {\"frequency\": 2, \"value\": 1212}, \"1214\": {\"frequency\": 1, \"value\": 1214}, \"1217\": {\"frequency\": 2, \"value\": 1217}, \"1218\": {\"frequency\": 2, \"value\": 1218}, \"1220\": {\"frequency\": 1, \"value\": 1220}, \"1221\": {\"frequency\": 2, \"value\": 1221}, \"1222\": {\"frequency\": 3, \"value\": 1222}, \"1223\": {\"frequency\": 2, \"value\": 1223}, \"1224\": {\"frequency\": 4, \"value\": 1224}, \"1225\": {\"frequency\": 1, \"value\": 1225}, \"1226\": {\"frequency\": 3, \"value\": 1226}, \"1227\": {\"frequency\": 1, \"value\": 1227}, \"1228\": {\"frequency\": 1, \"value\": 1228}, \"1230\": {\"frequency\": 2, \"value\": 1230}, \"1231\": {\"frequency\": 2, \"value\": 1231}, \"1232\": {\"frequency\": 1, \"value\": 1232}, \"1233\": {\"frequency\": 1, \"value\": 1233}, \"1234\": {\"frequency\": 1, \"value\": 1234}, \"1236\": {\"frequency\": 1, \"value\": 1236}, \"1237\": {\"frequency\": 1, \"value\": 1237}, \"1238\": {\"frequency\": 2, \"value\": 1238}, \"1239\": {\"frequency\": 1, \"value\": 1239}, \"1240\": {\"frequency\": 1, \"value\": 1240}, \"1241\": {\"frequency\": 4, \"value\": 1241}, \"1242\": {\"frequency\": 3, \"value\": 1242}, \"1243\": {\"frequency\": 2, \"value\": 1243}, \"1244\": {\"frequency\": 1, \"value\": 1244}, \"1245\": {\"frequency\": 1, \"value\": 1245}, \"1246\": {\"frequency\": 1, \"value\": 1246}, \"1248\": {\"frequency\": 2, \"value\": 1248}, \"1250\": {\"frequency\": 1, \"value\": 1250}, \"1252\": {\"frequency\": 1, \"value\": 1252}, \"1254\": {\"frequency\": 2, \"value\": 1254}, \"1255\": {\"frequency\": 1, \"value\": 1255}, \"1256\": {\"frequency\": 1, \"value\": 1256}, \"1257\": {\"frequency\": 1, \"value\": 1257}, \"1258\": {\"frequency\": 2, \"value\": 1258}, \"1259\": {\"frequency\": 3, \"value\": 1259}, \"1260\": {\"frequency\": 1, \"value\": 1260}, \"1262\": {\"frequency\": 1, \"value\": 1262}, \"1263\": {\"frequency\": 1, \"value\": 1263}, \"1265\": {\"frequency\": 1, \"value\": 1265}, \"1266\": {\"frequency\": 1, \"value\": 1266}, \"1267\": {\"frequency\": 1, \"value\": 1267}, \"1268\": {\"frequency\": 2, \"value\": 1268}, \"1269\": {\"frequency\": 1, \"value\": 1269}, \"1271\": {\"frequency\": 3, \"value\": 1271}, \"1272\": {\"frequency\": 3, \"value\": 1272}, \"1273\": {\"frequency\": 1, \"value\": 1273}, \"1275\": {\"frequency\": 1, \"value\": 1275}, \"1276\": {\"frequency\": 3, \"value\": 1276}, \"1277\": {\"frequency\": 2, \"value\": 1277}, \"1279\": {\"frequency\": 1, \"value\": 1279}, \"1281\": {\"frequency\": 2, \"value\": 1281}, \"1282\": {\"frequency\": 1, \"value\": 1282}, \"1283\": {\"frequency\": 1, \"value\": 1283}, \"1285\": {\"frequency\": 1, \"value\": 1285}, \"1286\": {\"frequency\": 1, \"value\": 1286}, \"1287\": {\"frequency\": 1, \"value\": 1287}, \"1288\": {\"frequency\": 4, \"value\": 1288}, \"1290\": {\"frequency\": 1, \"value\": 1290}, \"1291\": {\"frequency\": 1, \"value\": 1291}, \"1293\": {\"frequency\": 1, \"value\": 1293}, \"1294\": {\"frequency\": 1, \"value\": 1294}, \"1297\": {\"frequency\": 2, \"value\": 1297}, \"1298\": {\"frequency\": 4, \"value\": 1298}, \"1300\": {\"frequency\": 1, \"value\": 1300}, \"1302\": {\"frequency\": 1, \"value\": 1302}, \"1303\": {\"frequency\": 1, \"value\": 1303}, \"1306\": {\"frequency\": 1, \"value\": 1306}, \"1307\": {\"frequency\": 4, \"value\": 1307}, \"1309\": {\"frequency\": 2, \"value\": 1309}, \"1310\": {\"frequency\": 1, \"value\": 1310}, \"1311\": {\"frequency\": 3, \"value\": 1311}, \"1313\": {\"frequency\": 2, \"value\": 1313}, \"1317\": {\"frequency\": 2, \"value\": 1317}, \"1318\": {\"frequency\": 1, \"value\": 1318}, \"1319\": {\"frequency\": 2, \"value\": 1319}, \"1321\": {\"frequency\": 2, \"value\": 1321}, \"1323\": {\"frequency\": 1, \"value\": 1323}, \"1326\": {\"frequency\": 1, \"value\": 1326}, \"1327\": {\"frequency\": 2, \"value\": 1327}, \"1328\": {\"frequency\": 1, \"value\": 1328}, \"1329\": {\"frequency\": 2, \"value\": 1329}, \"1330\": {\"frequency\": 3, \"value\": 1330}, \"1331\": {\"frequency\": 1, \"value\": 1331}, \"1332\": {\"frequency\": 2, \"value\": 1332}, \"1333\": {\"frequency\": 1, \"value\": 1333}, \"1334\": {\"frequency\": 2, \"value\": 1334}, \"1336\": {\"frequency\": 4, \"value\": 1336}, \"1337\": {\"frequency\": 1, \"value\": 1337}, \"1339\": {\"frequency\": 2, \"value\": 1339}, \"1340\": {\"frequency\": 3, \"value\": 1340}, \"1341\": {\"frequency\": 1, \"value\": 1341}, \"1342\": {\"frequency\": 1, \"value\": 1342}, \"1344\": {\"frequency\": 3, \"value\": 1344}, \"1345\": {\"frequency\": 1, \"value\": 1345}, \"1346\": {\"frequency\": 2, \"value\": 1346}, \"1347\": {\"frequency\": 1, \"value\": 1347}, \"1348\": {\"frequency\": 1, \"value\": 1348}, \"1349\": {\"frequency\": 1, \"value\": 1349}, \"1352\": {\"frequency\": 1, \"value\": 1352}, \"1353\": {\"frequency\": 2, \"value\": 1353}, \"1356\": {\"frequency\": 1, \"value\": 1356}, \"1357\": {\"frequency\": 2, \"value\": 1357}, \"1359\": {\"frequency\": 2, \"value\": 1359}, \"1360\": {\"frequency\": 2, \"value\": 1360}, \"1361\": {\"frequency\": 1, \"value\": 1361}, \"1363\": {\"frequency\": 2, \"value\": 1363}, \"1364\": {\"frequency\": 1, \"value\": 1364}, \"1365\": {\"frequency\": 1, \"value\": 1365}, \"1366\": {\"frequency\": 1, \"value\": 1366}, \"1368\": {\"frequency\": 1, \"value\": 1368}, \"1369\": {\"frequency\": 2, \"value\": 1369}, \"1370\": {\"frequency\": 2, \"value\": 1370}, \"1372\": {\"frequency\": 1, \"value\": 1372}, \"1373\": {\"frequency\": 3, \"value\": 1373}, \"1374\": {\"frequency\": 1, \"value\": 1374}, \"1376\": {\"frequency\": 1, \"value\": 1376}, \"1380\": {\"frequency\": 1, \"value\": 1380}, \"1386\": {\"frequency\": 2, \"value\": 1386}, \"1388\": {\"frequency\": 2, \"value\": 1388}, \"1389\": {\"frequency\": 2, \"value\": 1389}, \"1390\": {\"frequency\": 1, \"value\": 1390}, \"1391\": {\"frequency\": 1, \"value\": 1391}, \"1392\": {\"frequency\": 2, \"value\": 1392}, \"1394\": {\"frequency\": 1, \"value\": 1394}, \"1395\": {\"frequency\": 1, \"value\": 1395}, \"1397\": {\"frequency\": 2, \"value\": 1397}, \"1398\": {\"frequency\": 1, \"value\": 1398}, \"1399\": {\"frequency\": 1, \"value\": 1399}, \"1405\": {\"frequency\": 1, \"value\": 1405}, \"1407\": {\"frequency\": 1, \"value\": 1407}, \"1408\": {\"frequency\": 3, \"value\": 1408}, \"1410\": {\"frequency\": 1, \"value\": 1410}, \"1411\": {\"frequency\": 1, \"value\": 1411}, \"1412\": {\"frequency\": 1, \"value\": 1412}, \"1416\": {\"frequency\": 1, \"value\": 1416}, \"1422\": {\"frequency\": 3, \"value\": 1422}, \"1423\": {\"frequency\": 1, \"value\": 1423}, \"1424\": {\"frequency\": 1, \"value\": 1424}, \"1425\": {\"frequency\": 1, \"value\": 1425}, \"1426\": {\"frequency\": 2, \"value\": 1426}, \"1432\": {\"frequency\": 1, \"value\": 1432}, \"1434\": {\"frequency\": 2, \"value\": 1434}, \"1435\": {\"frequency\": 2, \"value\": 1435}, \"1437\": {\"frequency\": 1, \"value\": 1437}, \"1438\": {\"frequency\": 1, \"value\": 1438}, \"1439\": {\"frequency\": 1, \"value\": 1439}, \"1440\": {\"frequency\": 1, \"value\": 1440}, \"1441\": {\"frequency\": 1, \"value\": 1441}, \"1446\": {\"frequency\": 2, \"value\": 1446}, \"1447\": {\"frequency\": 1, \"value\": 1447}, \"1448\": {\"frequency\": 3, \"value\": 1448}, \"1449\": {\"frequency\": 2, \"value\": 1449}, \"1452\": {\"frequency\": 3, \"value\": 1452}, \"1456\": {\"frequency\": 1, \"value\": 1456}, \"1460\": {\"frequency\": 1, \"value\": 1460}, \"1461\": {\"frequency\": 2, \"value\": 1461}, \"1462\": {\"frequency\": 2, \"value\": 1462}, \"1463\": {\"frequency\": 1, \"value\": 1463}, \"1464\": {\"frequency\": 1, \"value\": 1464}, \"1467\": {\"frequency\": 2, \"value\": 1467}, \"1468\": {\"frequency\": 1, \"value\": 1468}, \"1469\": {\"frequency\": 1, \"value\": 1469}, \"1471\": {\"frequency\": 1, \"value\": 1471}, \"1472\": {\"frequency\": 2, \"value\": 1472}, \"1473\": {\"frequency\": 1, \"value\": 1473}, \"1476\": {\"frequency\": 3, \"value\": 1476}, \"1478\": {\"frequency\": 1, \"value\": 1478}, \"1479\": {\"frequency\": 1, \"value\": 1479}, \"1480\": {\"frequency\": 1, \"value\": 1480}, \"1487\": {\"frequency\": 2, \"value\": 1487}, \"1488\": {\"frequency\": 1, \"value\": 1488}, \"1489\": {\"frequency\": 1, \"value\": 1489}, \"1490\": {\"frequency\": 1, \"value\": 1490}, \"1491\": {\"frequency\": 1, \"value\": 1491}, \"1492\": {\"frequency\": 1, \"value\": 1492}, \"1495\": {\"frequency\": 1, \"value\": 1495}, \"1499\": {\"frequency\": 1, \"value\": 1499}, \"1500\": {\"frequency\": 1, \"value\": 1500}, \"1502\": {\"frequency\": 1, \"value\": 1502}, \"1503\": {\"frequency\": 3, \"value\": 1503}, \"1504\": {\"frequency\": 1, \"value\": 1504}, \"1505\": {\"frequency\": 1, \"value\": 1505}, \"1508\": {\"frequency\": 1, \"value\": 1508}, \"1512\": {\"frequency\": 1, \"value\": 1512}, \"1514\": {\"frequency\": 1, \"value\": 1514}, \"1516\": {\"frequency\": 2, \"value\": 1516}, \"1521\": {\"frequency\": 1, \"value\": 1521}, \"1528\": {\"frequency\": 1, \"value\": 1528}, \"1529\": {\"frequency\": 2, \"value\": 1529}, \"1530\": {\"frequency\": 1, \"value\": 1530}, \"1531\": {\"frequency\": 1, \"value\": 1531}, \"1532\": {\"frequency\": 2, \"value\": 1532}, \"1534\": {\"frequency\": 1, \"value\": 1534}, \"1540\": {\"frequency\": 1, \"value\": 1540}, \"1543\": {\"frequency\": 2, \"value\": 1543}, \"1545\": {\"frequency\": 1, \"value\": 1545}, \"1548\": {\"frequency\": 1, \"value\": 1548}, \"1550\": {\"frequency\": 1, \"value\": 1550}, \"1551\": {\"frequency\": 1, \"value\": 1551}, \"1552\": {\"frequency\": 1, \"value\": 1552}, \"1554\": {\"frequency\": 1, \"value\": 1554}, \"1555\": {\"frequency\": 1, \"value\": 1555}, \"1556\": {\"frequency\": 1, \"value\": 1556}, \"1559\": {\"frequency\": 1, \"value\": 1559}, \"1563\": {\"frequency\": 1, \"value\": 1563}, \"1567\": {\"frequency\": 2, \"value\": 1567}, \"1569\": {\"frequency\": 1, \"value\": 1569}, \"1571\": {\"frequency\": 1, \"value\": 1571}, \"1573\": {\"frequency\": 2, \"value\": 1573}, \"1574\": {\"frequency\": 2, \"value\": 1574}, \"1575\": {\"frequency\": 1, \"value\": 1575}, \"1576\": {\"frequency\": 3, \"value\": 1576}, \"1579\": {\"frequency\": 2, \"value\": 1579}, \"1580\": {\"frequency\": 1, \"value\": 1580}, \"1581\": {\"frequency\": 1, \"value\": 1581}, \"1584\": {\"frequency\": 1, \"value\": 1584}, \"1590\": {\"frequency\": 1, \"value\": 1590}, \"1594\": {\"frequency\": 1, \"value\": 1594}, \"1597\": {\"frequency\": 1, \"value\": 1597}, \"1598\": {\"frequency\": 2, \"value\": 1598}, \"1602\": {\"frequency\": 2, \"value\": 1602}, \"1603\": {\"frequency\": 1, \"value\": 1603}, \"1606\": {\"frequency\": 1, \"value\": 1606}, \"1608\": {\"frequency\": 1, \"value\": 1608}, \"1611\": {\"frequency\": 1, \"value\": 1611}, \"1613\": {\"frequency\": 1, \"value\": 1613}, \"1615\": {\"frequency\": 1, \"value\": 1615}, \"1616\": {\"frequency\": 1, \"value\": 1616}, \"1617\": {\"frequency\": 1, \"value\": 1617}, \"1618\": {\"frequency\": 1, \"value\": 1618}, \"1622\": {\"frequency\": 1, \"value\": 1622}, \"1623\": {\"frequency\": 1, \"value\": 1623}, \"1624\": {\"frequency\": 1, \"value\": 1624}, \"1628\": {\"frequency\": 1, \"value\": 1628}, \"1640\": {\"frequency\": 1, \"value\": 1640}, \"1642\": {\"frequency\": 2, \"value\": 1642}, \"1649\": {\"frequency\": 1, \"value\": 1649}, \"1662\": {\"frequency\": 1, \"value\": 1662}, \"1663\": {\"frequency\": 1, \"value\": 1663}, \"1665\": {\"frequency\": 1, \"value\": 1665}, \"1666\": {\"frequency\": 1, \"value\": 1666}, \"1669\": {\"frequency\": 1, \"value\": 1669}, \"1673\": {\"frequency\": 1, \"value\": 1673}, \"1677\": {\"frequency\": 1, \"value\": 1677}, \"1681\": {\"frequency\": 1, \"value\": 1681}, \"1689\": {\"frequency\": 2, \"value\": 1689}, \"1692\": {\"frequency\": 1, \"value\": 1692}, \"1697\": {\"frequency\": 1, \"value\": 1697}, \"1707\": {\"frequency\": 1, \"value\": 1707}, \"1710\": {\"frequency\": 1, \"value\": 1710}, \"1713\": {\"frequency\": 1, \"value\": 1713}, \"1720\": {\"frequency\": 2, \"value\": 1720}, \"1721\": {\"frequency\": 2, \"value\": 1721}, \"1723\": {\"frequency\": 1, \"value\": 1723}, \"1730\": {\"frequency\": 1, \"value\": 1730}, \"1735\": {\"frequency\": 2, \"value\": 1735}, \"1739\": {\"frequency\": 1, \"value\": 1739}, \"1740\": {\"frequency\": 1, \"value\": 1740}, \"1745\": {\"frequency\": 1, \"value\": 1745}, \"1756\": {\"frequency\": 1, \"value\": 1756}, \"1767\": {\"frequency\": 1, \"value\": 1767}, \"1776\": {\"frequency\": 1, \"value\": 1776}, \"1777\": {\"frequency\": 1, \"value\": 1777}, \"1788\": {\"frequency\": 1, \"value\": 1788}, \"1804\": {\"frequency\": 1, \"value\": 1804}, \"1805\": {\"frequency\": 1, \"value\": 1805}, \"1806\": {\"frequency\": 2, \"value\": 1806}, \"1809\": {\"frequency\": 1, \"value\": 1809}, \"1816\": {\"frequency\": 1, \"value\": 1816}, \"1817\": {\"frequency\": 1, \"value\": 1817}, \"1820\": {\"frequency\": 1, \"value\": 1820}, \"1833\": {\"frequency\": 1, \"value\": 1833}, \"1834\": {\"frequency\": 1, \"value\": 1834}, \"1842\": {\"frequency\": 1, \"value\": 1842}, \"1848\": {\"frequency\": 1, \"value\": 1848}, \"1850\": {\"frequency\": 1, \"value\": 1850}, \"1855\": {\"frequency\": 2, \"value\": 1855}, \"1867\": {\"frequency\": 1, \"value\": 1867}, \"1868\": {\"frequency\": 1, \"value\": 1868}, \"1869\": {\"frequency\": 1, \"value\": 1869}, \"1871\": {\"frequency\": 2, \"value\": 1871}, \"1877\": {\"frequency\": 2, \"value\": 1877}, \"1880\": {\"frequency\": 1, \"value\": 1880}, \"1882\": {\"frequency\": 1, \"value\": 1882}, \"1906\": {\"frequency\": 1, \"value\": 1906}, \"1925\": {\"frequency\": 1, \"value\": 1925}, \"1934\": {\"frequency\": 1, \"value\": 1934}, \"1946\": {\"frequency\": 1, \"value\": 1946}, \"1954\": {\"frequency\": 1, \"value\": 1954}, \"1957\": {\"frequency\": 1, \"value\": 1957}, \"1958\": {\"frequency\": 1, \"value\": 1958}, \"1960\": {\"frequency\": 1, \"value\": 1960}, \"1962\": {\"frequency\": 1, \"value\": 1962}, \"1966\": {\"frequency\": 1, \"value\": 1966}, \"1970\": {\"frequency\": 1, \"value\": 1970}, \"1973\": {\"frequency\": 1, \"value\": 1973}, \"1975\": {\"frequency\": 1, \"value\": 1975}, \"1978\": {\"frequency\": 1, \"value\": 1978}, \"1980\": {\"frequency\": 1, \"value\": 1980}, \"1992\": {\"frequency\": 1, \"value\": 1992}, \"1994\": {\"frequency\": 1, \"value\": 1994}, \"2015\": {\"frequency\": 1, \"value\": 2015}, \"2016\": {\"frequency\": 2, \"value\": 2016}, \"2025\": {\"frequency\": 1, \"value\": 2025}, \"2028\": {\"frequency\": 1, \"value\": 2028}, \"2029\": {\"frequency\": 1, \"value\": 2029}, \"2033\": {\"frequency\": 1, \"value\": 2033}, \"2035\": {\"frequency\": 1, \"value\": 2035}, \"2053\": {\"frequency\": 1, \"value\": 2053}, \"2055\": {\"frequency\": 1, \"value\": 2055}, \"2062\": {\"frequency\": 1, \"value\": 2062}, \"2078\": {\"frequency\": 1, \"value\": 2078}, \"2087\": {\"frequency\": 1, \"value\": 2087}, \"2089\": {\"frequency\": 1, \"value\": 2089}, \"2093\": {\"frequency\": 1, \"value\": 2093}, \"2122\": {\"frequency\": 1, \"value\": 2122}, \"2129\": {\"frequency\": 1, \"value\": 2129}, \"2139\": {\"frequency\": 1, \"value\": 2139}, \"2184\": {\"frequency\": 1, \"value\": 2184}, \"2187\": {\"frequency\": 1, \"value\": 2187}, \"2191\": {\"frequency\": 1, \"value\": 2191}, \"2203\": {\"frequency\": 1, \"value\": 2203}, \"2219\": {\"frequency\": 1, \"value\": 2219}, \"2231\": {\"frequency\": 1, \"value\": 2231}, \"2260\": {\"frequency\": 1, \"value\": 2260}, \"2299\": {\"frequency\": 1, \"value\": 2299}, \"2301\": {\"frequency\": 1, \"value\": 2301}, \"2316\": {\"frequency\": 1, \"value\": 2316}, \"2372\": {\"frequency\": 1, \"value\": 2372}, \"2420\": {\"frequency\": 1, \"value\": 2420}, \"2429\": {\"frequency\": 1, \"value\": 2429}, \"2453\": {\"frequency\": 1, \"value\": 2453}, \"2456\": {\"frequency\": 1, \"value\": 2456}, \"2462\": {\"frequency\": 2, \"value\": 2462}, \"2486\": {\"frequency\": 1, \"value\": 2486}, \"2516\": {\"frequency\": 1, \"value\": 2516}, \"2621\": {\"frequency\": 1, \"value\": 2621}, \"2635\": {\"frequency\": 1, \"value\": 2635}, \"2653\": {\"frequency\": 1, \"value\": 2653}, \"2680\": {\"frequency\": 1, \"value\": 2680}, \"2692\": {\"frequency\": 1, \"value\": 2692}, \"2769\": {\"frequency\": 1, \"value\": 2769}, \"2870\": {\"frequency\": 1, \"value\": 2870}, \"2926\": {\"frequency\": 1, \"value\": 2926}, \"3076\": {\"frequency\": 1, \"value\": 3076}, \"3078\": {\"frequency\": 1, \"value\": 3078}, \"3094\": {\"frequency\": 1, \"value\": 3094}, \"3183\": {\"frequency\": 1, \"value\": 3183}, \"3253\": {\"frequency\": 1, \"value\": 3253}, \"3284\": {\"frequency\": 1, \"value\": 3284}, \"3322\": {\"frequency\": 1, \"value\": 3322}, \"3366\": {\"frequency\": 1, \"value\": 3366}, \"3422\": {\"frequency\": 1, \"value\": 3422}, \"3509\": {\"frequency\": 1, \"value\": 3509}, \"3631\": {\"frequency\": 1, \"value\": 3631}, \"3643\": {\"frequency\": 1, \"value\": 3643}, \"3785\": {\"frequency\": 1, \"value\": 3785}, \"4199\": {\"frequency\": 1, \"value\": 4199}, \"4918\": {\"frequency\": 1, \"value\": 4918}}, \"mean\": 258.2850101971452}, \"job\": {\"complete\": true, \"numeric\": false, \"num_unique\": 12, \"num_undefined\": 0, \"progress\": 1.0, \"frequent_items\": {\"management\": {\"frequency\": 2924, \"value\": \"management\"}, \"retired\": {\"frequency\": 1720, \"value\": \"retired\"}, \"self-employed\": {\"frequency\": 1421, \"value\": \"self-employed\"}, \"unknown\": {\"frequency\": 330, \"value\": \"unknown\"}, \"unemployed\": {\"frequency\": 1014, \"value\": \"unemployed\"}, \"admin.\": {\"frequency\": 10422, \"value\": \"admin.\"}, \"technician\": {\"frequency\": 6743, \"value\": \"technician\"}, \"services\": {\"frequency\": 3969, \"value\": \"services\"}, \"student\": {\"frequency\": 875, \"value\": \"student\"}, \"housemaid\": {\"frequency\": 1060, \"value\": \"housemaid\"}, \"entrepreneur\": {\"frequency\": 1456, \"value\": \"entrepreneur\"}, \"blue-collar\": {\"frequency\": 9254, \"value\": \"blue-collar\"}}, \"size\": 41188}, \"cons.price.idx\": {\"std\": 0.5788330221072008, \"complete\": true, \"min\": 92.201, \"max\": 94.767, \"quantile\": [92.201, 92.201, 92.379, 92.431, 92.469, 92.713, 92.843, 92.893, 92.893, 92.893, 92.893, 92.893, 92.893, 92.893, 92.893, 92.893, 92.893, 92.893, 92.893, 92.893, 92.893, 92.963, 93.075, 93.075, 93.075, 93.075, 93.075, 93.075, 93.2, 93.2, 93.2, 93.2, 93.2, 93.2, 93.2, 93.2, 93.2, 93.369, 93.444, 93.444, 93.444, 93.444, 93.444, 93.444, 93.444, 93.444, 93.444, 93.444, 93.444, 93.444, 93.749, 93.918, 93.918, 93.918, 93.918, 93.918, 93.918, 93.918, 93.918, 93.918, 93.918, 93.918, 93.918, 93.918, 93.918, 93.918, 93.918, 93.918, 93.994, 93.994, 93.994, 93.994, 93.994, 93.994, 93.994, 93.994, 93.994, 93.994, 93.994, 93.994, 93.994, 93.994, 93.994, 93.994, 93.994, 93.994, 94.027, 94.055, 94.215, 94.465, 94.465, 94.465, 94.465, 94.465, 94.465, 94.465, 94.465, 94.465, 94.465, 94.465, 94.767], \"median\": 93.749, \"numeric\": true, \"num_unique\": 26, \"num_undefined\": 0, \"var\": 0.33504766748175524, \"progress\": 1.0, \"size\": 41188, \"frequent_items\": {\"92.963\": {\"frequency\": 715, \"value\": 92.963}, \"92.431\": {\"frequency\": 447, \"value\": 92.431}, \"93.876\": {\"frequency\": 212, \"value\": 93.876}, \"93.918\": {\"frequency\": 6685, \"value\": 93.918}, \"94.767\": {\"frequency\": 128, \"value\": 94.767}, \"94.601\": {\"frequency\": 204, \"value\": 94.601}, \"92.379\": {\"frequency\": 267, \"value\": 92.379}, \"92.893\": {\"frequency\": 5794, \"value\": 92.893}, \"94.199\": {\"frequency\": 303, \"value\": 94.199}, \"92.713\": {\"frequency\": 172, \"value\": 92.713}, \"93.369\": {\"frequency\": 264, \"value\": 93.369}, \"93.075\": {\"frequency\": 2458, \"value\": 93.075}, \"92.756\": {\"frequency\": 10, \"value\": 92.756}, \"93.798\": {\"frequency\": 67, \"value\": 93.798}, \"92.201\": {\"frequency\": 770, \"value\": 92.201}, \"94.215\": {\"frequency\": 311, \"value\": 94.215}, \"93.994\": {\"frequency\": 7763, \"value\": 93.994}, \"92.843\": {\"frequency\": 282, \"value\": 92.843}, \"92.649\": {\"frequency\": 357, \"value\": 92.649}, \"92.469\": {\"frequency\": 178, \"value\": 92.469}, \"93.2\": {\"frequency\": 3616, \"value\": 93.2}, \"94.465\": {\"frequency\": 4374, \"value\": 94.465}, \"93.749\": {\"frequency\": 174, \"value\": 93.749}, \"94.027\": {\"frequency\": 233, \"value\": 94.027}, \"94.055\": {\"frequency\": 229, \"value\": 94.055}, \"93.444\": {\"frequency\": 5175, \"value\": 93.444}}, \"mean\": 93.57566436826278}, \"contact\": {\"complete\": true, \"numeric\": false, \"num_unique\": 2, \"num_undefined\": 0, \"progress\": 1.0, \"frequent_items\": {\"telephone\": {\"frequency\": 15044, \"value\": \"telephone\"}, \"cellular\": {\"frequency\": 26144, \"value\": \"cellular\"}}, \"size\": 41188}, \"y\": {\"complete\": true, \"numeric\": false, \"num_unique\": 2, \"num_undefined\": 0, \"progress\": 1.0, \"frequent_items\": {\"yes\": {\"frequency\": 4640, \"value\": \"yes\"}, \"no\": {\"frequency\": 36548, \"value\": \"no\"}}, \"size\": 41188}, \"loan\": {\"complete\": true, \"numeric\": false, \"num_unique\": 3, \"num_undefined\": 0, \"progress\": 1.0, \"frequent_items\": {\"unknown\": {\"frequency\": 990, \"value\": \"unknown\"}, \"yes\": {\"frequency\": 6248, \"value\": \"yes\"}, \"no\": {\"frequency\": 33950, \"value\": \"no\"}}, \"size\": 41188}, \"euribor3m\": {\"std\": 1.7344263494718641, \"complete\": true, \"min\": 0.634, \"max\": 5.045, \"quantile\": [0.634, 0.655, 0.714, 0.72, 0.74, 0.79, 0.854, 0.879, 0.884, 0.905, 1.047, 1.244, 1.25, 1.259, 1.262, 1.266, 1.266, 1.281, 1.281, 1.291, 1.299, 1.313, 1.313, 1.327, 1.334, 1.344, 1.354, 1.4, 1.405, 1.405, 1.41, 1.435, 1.498, 4.021, 4.021, 4.076, 4.076, 4.12, 4.12, 4.153, 4.191, 4.191, 4.855, 4.855, 4.856, 4.856, 4.856, 4.857, 4.857, 4.857, 4.857, 4.857, 4.857, 4.857, 4.858, 4.858, 4.859, 4.859, 4.86, 4.86, 4.864, 4.864, 4.865, 4.866, 4.955, 4.957, 4.958, 4.959, 4.959, 4.959, 4.96, 4.96, 4.961, 4.961, 4.961, 4.961, 4.961, 4.962, 4.962, 4.962, 4.962, 4.962, 4.962, 4.963, 4.963, 4.963, 4.963, 4.963, 4.963, 4.964, 4.964, 4.964, 4.965, 4.965, 4.965, 4.966, 4.967, 4.967, 4.968, 4.968, 5.045], \"median\": 4.857, \"numeric\": true, \"num_unique\": 315, \"num_undefined\": 0, \"var\": 3.008234761742297, \"progress\": 1.0, \"size\": 41188, \"frequent_items\": {\"1.25\": {\"frequency\": 587, \"value\": 1.25}, \"0.75\": {\"frequency\": 7, \"value\": 0.75}, \"0.707\": {\"frequency\": 26, \"value\": 0.707}, \"4.191\": {\"frequency\": 610, \"value\": 4.191}, \"5.0\": {\"frequency\": 7, \"value\": 5.0}, \"1.0\": {\"frequency\": 18, \"value\": 1.0}, \"3.816\": {\"frequency\": 1, \"value\": 3.816}, \"0.64\": {\"frequency\": 10, \"value\": 0.64}, \"0.822\": {\"frequency\": 11, \"value\": 0.822}, \"1.602\": {\"frequency\": 8, \"value\": 1.602}, \"0.908\": {\"frequency\": 16, \"value\": 0.908}, \"1.406\": {\"frequency\": 25, \"value\": 1.406}, \"4.955\": {\"frequency\": 103, \"value\": 4.955}, \"1.045\": {\"frequency\": 1, \"value\": 1.045}, \"0.73\": {\"frequency\": 24, \"value\": 0.73}, \"4.021\": {\"frequency\": 676, \"value\": 4.021}, \"0.727\": {\"frequency\": 5, \"value\": 0.727}, \"4.962\": {\"frequency\": 2613, \"value\": 4.962}, \"0.869\": {\"frequency\": 54, \"value\": 0.869}, \"4.153\": {\"frequency\": 690, \"value\": 4.153}, \"3.669\": {\"frequency\": 1, \"value\": 3.669}, \"0.77\": {\"frequency\": 20, \"value\": 0.77}, \"0.668\": {\"frequency\": 18, \"value\": 0.668}, \"0.903\": {\"frequency\": 12, \"value\": 0.903}, \"0.835\": {\"frequency\": 20, \"value\": 0.835}, \"1.415\": {\"frequency\": 98, \"value\": 1.415}, \"1.215\": {\"frequency\": 20, \"value\": 1.215}, \"0.979\": {\"frequency\": 3, \"value\": 0.979}, \"4.967\": {\"frequency\": 643, \"value\": 4.967}, \"3.488\": {\"frequency\": 1, \"value\": 3.488}, \"0.849\": {\"frequency\": 35, \"value\": 0.849}, \"4.96\": {\"frequency\": 1013, \"value\": 4.96}, \"4.858\": {\"frequency\": 733, \"value\": 4.858}, \"0.894\": {\"frequency\": 3, \"value\": 0.894}, \"1.031\": {\"frequency\": 8, \"value\": 1.031}, \"0.716\": {\"frequency\": 54, \"value\": 0.716}, \"1.56\": {\"frequency\": 8, \"value\": 1.56}, \"1.264\": {\"frequency\": 87, \"value\": 1.264}, \"1.262\": {\"frequency\": 145, \"value\": 1.262}, \"1.703\": {\"frequency\": 8, \"value\": 1.703}, \"0.711\": {\"frequency\": 4, \"value\": 0.711}, \"0.762\": {\"frequency\": 4, \"value\": 0.762}, \"0.813\": {\"frequency\": 6, \"value\": 0.813}, \"0.684\": {\"frequency\": 16, \"value\": 0.684}, \"4.912\": {\"frequency\": 7, \"value\": 4.912}, \"0.715\": {\"frequency\": 135, \"value\": 0.715}, \"0.905\": {\"frequency\": 17, \"value\": 0.905}, \"3.428\": {\"frequency\": 1, \"value\": 3.428}, \"0.642\": {\"frequency\": 35, \"value\": 0.642}, \"0.927\": {\"frequency\": 2, \"value\": 0.927}, \"0.755\": {\"frequency\": 7, \"value\": 0.755}, \"4.957\": {\"frequency\": 537, \"value\": 4.957}, \"4.827\": {\"frequency\": 5, \"value\": 4.827}, \"0.766\": {\"frequency\": 3, \"value\": 0.766}, \"0.721\": {\"frequency\": 6, \"value\": 0.721}, \"4.959\": {\"frequency\": 895, \"value\": 4.959}, \"4.12\": {\"frequency\": 756, \"value\": 4.12}, \"0.677\": {\"frequency\": 12, \"value\": 0.677}, \"0.969\": {\"frequency\": 1, \"value\": 0.969}, \"1.384\": {\"frequency\": 9, \"value\": 1.384}, \"4.966\": {\"frequency\": 622, \"value\": 4.966}, \"0.722\": {\"frequency\": 74, \"value\": 0.722}, \"4.864\": {\"frequency\": 1044, \"value\": 4.864}, \"0.709\": {\"frequency\": 8, \"value\": 0.709}, \"0.754\": {\"frequency\": 44, \"value\": 0.754}, \"0.851\": {\"frequency\": 27, \"value\": 0.851}, \"4.223\": {\"frequency\": 4, \"value\": 4.223}, \"0.993\": {\"frequency\": 5, \"value\": 0.993}, \"1.291\": {\"frequency\": 544, \"value\": 1.291}, \"1.52\": {\"frequency\": 17, \"value\": 1.52}, \"4.855\": {\"frequency\": 840, \"value\": 4.855}, \"1.26\": {\"frequency\": 252, \"value\": 1.26}, \"4.866\": {\"frequency\": 340, \"value\": 4.866}, \"0.652\": {\"frequency\": 35, \"value\": 0.652}, \"1.574\": {\"frequency\": 1, \"value\": 1.574}, \"1.778\": {\"frequency\": 3, \"value\": 1.778}, \"1.354\": {\"frequency\": 215, \"value\": 1.354}, \"0.741\": {\"frequency\": 27, \"value\": 0.741}, \"1.281\": {\"frequency\": 637, \"value\": 1.281}, \"1.811\": {\"frequency\": 31, \"value\": 1.811}, \"0.748\": {\"frequency\": 12, \"value\": 0.748}, \"0.72\": {\"frequency\": 78, \"value\": 0.72}, \"1.64\": {\"frequency\": 10, \"value\": 1.64}, \"1.224\": {\"frequency\": 7, \"value\": 1.224}, \"3.563\": {\"frequency\": 2, \"value\": 3.563}, \"0.704\": {\"frequency\": 7, \"value\": 0.704}, \"0.879\": {\"frequency\": 180, \"value\": 0.879}, \"1.548\": {\"frequency\": 6, \"value\": 1.548}, \"0.646\": {\"frequency\": 49, \"value\": 0.646}, \"3.879\": {\"frequency\": 2, \"value\": 3.879}, \"0.942\": {\"frequency\": 7, \"value\": 0.942}, \"1.614\": {\"frequency\": 13, \"value\": 1.614}, \"1.206\": {\"frequency\": 9, \"value\": 1.206}, \"1.41\": {\"frequency\": 254, \"value\": 1.41}, \"0.697\": {\"frequency\": 23, \"value\": 0.697}, \"0.644\": {\"frequency\": 38, \"value\": 0.644}, \"4.956\": {\"frequency\": 23, \"value\": 4.956}, \"0.714\": {\"frequency\": 139, \"value\": 0.714}, \"1.531\": {\"frequency\": 29, \"value\": 1.531}, \"4.963\": {\"frequency\": 2487, \"value\": 4.963}, \"0.659\": {\"frequency\": 15, \"value\": 0.659}, \"0.731\": {\"frequency\": 15, \"value\": 0.731}, \"1.435\": {\"frequency\": 81, \"value\": 1.435}, \"0.636\": {\"frequency\": 14, \"value\": 0.636}, \"0.873\": {\"frequency\": 82, \"value\": 0.873}, \"1.726\": {\"frequency\": 11, \"value\": 1.726}, \"0.89\": {\"frequency\": 8, \"value\": 0.89}, \"0.965\": {\"frequency\": 5, \"value\": 0.965}, \"0.782\": {\"frequency\": 11, \"value\": 0.782}, \"0.885\": {\"frequency\": 10, \"value\": 0.885}, \"0.692\": {\"frequency\": 10, \"value\": 0.692}, \"1.008\": {\"frequency\": 5, \"value\": 1.008}, \"1.757\": {\"frequency\": 20, \"value\": 1.757}, \"0.771\": {\"frequency\": 6, \"value\": 0.771}, \"0.708\": {\"frequency\": 6, \"value\": 0.708}, \"1.046\": {\"frequency\": 15, \"value\": 1.046}, \"4.859\": {\"frequency\": 788, \"value\": 4.859}, \"0.846\": {\"frequency\": 21, \"value\": 0.846}, \"0.742\": {\"frequency\": 68, \"value\": 0.742}, \"1.029\": {\"frequency\": 44, \"value\": 1.029}, \"1.018\": {\"frequency\": 3, \"value\": 1.018}, \"0.749\": {\"frequency\": 2, \"value\": 0.749}, \"0.886\": {\"frequency\": 48, \"value\": 0.886}, \"1.483\": {\"frequency\": 50, \"value\": 1.483}, \"0.651\": {\"frequency\": 7, \"value\": 0.651}, \"0.732\": {\"frequency\": 6, \"value\": 0.732}, \"1.266\": {\"frequency\": 820, \"value\": 1.266}, \"1.687\": {\"frequency\": 22, \"value\": 1.687}, \"1.27\": {\"frequency\": 110, \"value\": 1.27}, \"0.767\": {\"frequency\": 17, \"value\": 0.767}, \"0.883\": {\"frequency\": 124, \"value\": 0.883}, \"0.778\": {\"frequency\": 7, \"value\": 0.778}, \"0.793\": {\"frequency\": 9, \"value\": 0.793}, \"0.702\": {\"frequency\": 22, \"value\": 0.702}, \"0.987\": {\"frequency\": 19, \"value\": 0.987}, \"0.712\": {\"frequency\": 10, \"value\": 0.712}, \"0.737\": {\"frequency\": 25, \"value\": 0.737}, \"1.035\": {\"frequency\": 7, \"value\": 1.035}, \"0.878\": {\"frequency\": 33, \"value\": 0.878}, \"0.635\": {\"frequency\": 43, \"value\": 0.635}, \"0.898\": {\"frequency\": 39, \"value\": 0.898}, \"0.768\": {\"frequency\": 13, \"value\": 0.768}, \"4.921\": {\"frequency\": 3, \"value\": 4.921}, \"0.972\": {\"frequency\": 17, \"value\": 0.972}, \"4.592\": {\"frequency\": 4, \"value\": 4.592}, \"0.977\": {\"frequency\": 21, \"value\": 0.977}, \"0.74\": {\"frequency\": 45, \"value\": 0.74}, \"3.329\": {\"frequency\": 1, \"value\": 3.329}, \"0.821\": {\"frequency\": 24, \"value\": 0.821}, \"0.685\": {\"frequency\": 9, \"value\": 0.685}, \"0.653\": {\"frequency\": 19, \"value\": 0.653}, \"0.713\": {\"frequency\": 9, \"value\": 0.713}, \"4.918\": {\"frequency\": 4, \"value\": 4.918}, \"1.51\": {\"frequency\": 11, \"value\": 1.51}, \"1.085\": {\"frequency\": 7, \"value\": 1.085}, \"0.982\": {\"frequency\": 15, \"value\": 0.982}, \"1.244\": {\"frequency\": 422, \"value\": 1.244}, \"0.718\": {\"frequency\": 18, \"value\": 0.718}, \"0.733\": {\"frequency\": 18, \"value\": 0.733}, \"0.834\": {\"frequency\": 13, \"value\": 0.834}, \"0.639\": {\"frequency\": 16, \"value\": 0.639}, \"1.372\": {\"frequency\": 10, \"value\": 1.372}, \"0.781\": {\"frequency\": 21, \"value\": 0.781}, \"0.672\": {\"frequency\": 16, \"value\": 0.672}, \"0.788\": {\"frequency\": 20, \"value\": 0.788}, \"0.655\": {\"frequency\": 34, \"value\": 0.655}, \"1.03\": {\"frequency\": 6, \"value\": 1.03}, \"4.245\": {\"frequency\": 9, \"value\": 4.245}, \"0.7\": {\"frequency\": 5, \"value\": 0.7}, \"4.857\": {\"frequency\": 2868, \"value\": 4.857}, \"4.936\": {\"frequency\": 6, \"value\": 4.936}, \"1.039\": {\"frequency\": 9, \"value\": 1.039}, \"1.299\": {\"frequency\": 520, \"value\": 1.299}, \"0.959\": {\"frequency\": 16, \"value\": 0.959}, \"0.719\": {\"frequency\": 30, \"value\": 0.719}, \"0.724\": {\"frequency\": 23, \"value\": 0.724}, \"0.889\": {\"frequency\": 17, \"value\": 0.889}, \"1.392\": {\"frequency\": 21, \"value\": 1.392}, \"0.663\": {\"frequency\": 11, \"value\": 0.663}, \"1.016\": {\"frequency\": 9, \"value\": 1.016}, \"0.996\": {\"frequency\": 1, \"value\": 0.996}, \"0.884\": {\"frequency\": 128, \"value\": 0.884}, \"1.05\": {\"frequency\": 21, \"value\": 1.05}, \"1.259\": {\"frequency\": 70, \"value\": 1.259}, \"0.877\": {\"frequency\": 20, \"value\": 0.877}, \"1.344\": {\"frequency\": 395, \"value\": 1.344}, \"0.854\": {\"frequency\": 30, \"value\": 0.854}, \"0.827\": {\"frequency\": 24, \"value\": 0.827}, \"4.733\": {\"frequency\": 2, \"value\": 4.733}, \"1.584\": {\"frequency\": 3, \"value\": 1.584}, \"0.65\": {\"frequency\": 12, \"value\": 0.65}, \"0.739\": {\"frequency\": 82, \"value\": 0.739}, \"4.964\": {\"frequency\": 1175, \"value\": 4.964}, \"3.053\": {\"frequency\": 1, \"value\": 3.053}, \"1.043\": {\"frequency\": 9, \"value\": 1.043}, \"1.445\": {\"frequency\": 103, \"value\": 1.445}, \"0.985\": {\"frequency\": 7, \"value\": 0.985}, \"0.637\": {\"frequency\": 6, \"value\": 0.637}, \"0.9\": {\"frequency\": 27, \"value\": 0.9}, \"1.663\": {\"frequency\": 20, \"value\": 1.663}, \"0.956\": {\"frequency\": 1, \"value\": 0.956}, \"1.313\": {\"frequency\": 492, \"value\": 1.313}, \"0.893\": {\"frequency\": 13, \"value\": 0.893}, \"0.891\": {\"frequency\": 4, \"value\": 0.891}, \"0.803\": {\"frequency\": 31, \"value\": 0.803}, \"4.794\": {\"frequency\": 5, \"value\": 4.794}, \"0.643\": {\"frequency\": 23, \"value\": 0.643}, \"1.025\": {\"frequency\": 14, \"value\": 1.025}, \"0.695\": {\"frequency\": 10, \"value\": 0.695}, \"4.86\": {\"frequency\": 892, \"value\": 4.86}, \"0.895\": {\"frequency\": 3, \"value\": 0.895}, \"1.049\": {\"frequency\": 13, \"value\": 1.049}, \"1.044\": {\"frequency\": 37, \"value\": 1.044}, \"1.629\": {\"frequency\": 10, \"value\": 1.629}, \"1.405\": {\"frequency\": 1169, \"value\": 1.405}, \"0.729\": {\"frequency\": 13, \"value\": 0.729}, \"1.498\": {\"frequency\": 35, \"value\": 1.498}, \"4.474\": {\"frequency\": 3, \"value\": 4.474}, \"4.343\": {\"frequency\": 5, \"value\": 4.343}, \"1.327\": {\"frequency\": 538, \"value\": 1.327}, \"0.888\": {\"frequency\": 5, \"value\": 0.888}, \"0.953\": {\"frequency\": 2, \"value\": 0.953}, \"0.88\": {\"frequency\": 20, \"value\": 0.88}, \"0.634\": {\"frequency\": 8, \"value\": 0.634}, \"4.865\": {\"frequency\": 373, \"value\": 4.865}, \"1.235\": {\"frequency\": 9, \"value\": 1.235}, \"4.856\": {\"frequency\": 1210, \"value\": 4.856}, \"0.87\": {\"frequency\": 13, \"value\": 0.87}, \"1.007\": {\"frequency\": 3, \"value\": 1.007}, \"0.819\": {\"frequency\": 22, \"value\": 0.819}, \"4.947\": {\"frequency\": 98, \"value\": 4.947}, \"0.933\": {\"frequency\": 1, \"value\": 0.933}, \"1.037\": {\"frequency\": 6, \"value\": 1.037}, \"0.861\": {\"frequency\": 65, \"value\": 0.861}, \"1.04\": {\"frequency\": 10, \"value\": 1.04}, \"0.683\": {\"frequency\": 14, \"value\": 0.683}, \"0.838\": {\"frequency\": 29, \"value\": 0.838}, \"1.556\": {\"frequency\": 12, \"value\": 1.556}, \"5.045\": {\"frequency\": 9, \"value\": 5.045}, \"0.69\": {\"frequency\": 3, \"value\": 0.69}, \"0.645\": {\"frequency\": 26, \"value\": 0.645}, \"0.882\": {\"frequency\": 25, \"value\": 0.882}, \"4.961\": {\"frequency\": 1902, \"value\": 4.961}, \"0.899\": {\"frequency\": 50, \"value\": 0.899}, \"1.538\": {\"frequency\": 17, \"value\": 1.538}, \"1.268\": {\"frequency\": 95, \"value\": 1.268}, \"1.4\": {\"frequency\": 13, \"value\": 1.4}, \"4.968\": {\"frequency\": 992, \"value\": 4.968}, \"3.282\": {\"frequency\": 1, \"value\": 3.282}, \"4.286\": {\"frequency\": 7, \"value\": 4.286}, \"0.896\": {\"frequency\": 37, \"value\": 0.896}, \"0.723\": {\"frequency\": 10, \"value\": 0.723}, \"0.752\": {\"frequency\": 5, \"value\": 0.752}, \"0.825\": {\"frequency\": 27, \"value\": 0.825}, \"1.65\": {\"frequency\": 8, \"value\": 1.65}, \"3.743\": {\"frequency\": 1, \"value\": 3.743}, \"0.802\": {\"frequency\": 7, \"value\": 0.802}, \"0.859\": {\"frequency\": 35, \"value\": 0.859}, \"0.654\": {\"frequency\": 20, \"value\": 0.654}, \"1.252\": {\"frequency\": 26, \"value\": 1.252}, \"0.876\": {\"frequency\": 31, \"value\": 0.876}, \"0.881\": {\"frequency\": 79, \"value\": 0.881}, \"4.7\": {\"frequency\": 8, \"value\": 4.7}, \"1.286\": {\"frequency\": 16, \"value\": 1.286}, \"1.466\": {\"frequency\": 57, \"value\": 1.466}, \"0.797\": {\"frequency\": 38, \"value\": 0.797}, \"0.706\": {\"frequency\": 18, \"value\": 0.706}, \"0.71\": {\"frequency\": 9, \"value\": 0.71}, \"1.479\": {\"frequency\": 62, \"value\": 1.479}, \"0.937\": {\"frequency\": 2, \"value\": 0.937}, \"3.901\": {\"frequency\": 1, \"value\": 3.901}, \"0.843\": {\"frequency\": 16, \"value\": 0.843}, \"0.81\": {\"frequency\": 19, \"value\": 0.81}, \"1.453\": {\"frequency\": 81, \"value\": 1.453}, \"1.047\": {\"frequency\": 1, \"value\": 1.047}, \"0.79\": {\"frequency\": 11, \"value\": 0.79}, \"1.032\": {\"frequency\": 16, \"value\": 1.032}, \"0.728\": {\"frequency\": 35, \"value\": 0.728}, \"1.072\": {\"frequency\": 34, \"value\": 1.072}, \"0.914\": {\"frequency\": 3, \"value\": 0.914}, \"0.743\": {\"frequency\": 17, \"value\": 0.743}, \"1.365\": {\"frequency\": 303, \"value\": 1.365}, \"0.84\": {\"frequency\": 18, \"value\": 0.84}, \"4.76\": {\"frequency\": 3, \"value\": 4.76}, \"1.799\": {\"frequency\": 14, \"value\": 1.799}, \"1.028\": {\"frequency\": 9, \"value\": 1.028}, \"4.076\": {\"frequency\": 822, \"value\": 4.076}, \"0.904\": {\"frequency\": 60, \"value\": 0.904}, \"0.921\": {\"frequency\": 2, \"value\": 0.921}, \"4.958\": {\"frequency\": 581, \"value\": 4.958}, \"0.688\": {\"frequency\": 3, \"value\": 0.688}, \"0.753\": {\"frequency\": 7, \"value\": 0.753}, \"0.761\": {\"frequency\": 22, \"value\": 0.761}, \"0.744\": {\"frequency\": 17, \"value\": 0.744}, \"0.735\": {\"frequency\": 21, \"value\": 0.735}, \"4.97\": {\"frequency\": 172, \"value\": 4.97}, \"4.965\": {\"frequency\": 1071, \"value\": 4.965}, \"1.423\": {\"frequency\": 87, \"value\": 1.423}, \"4.406\": {\"frequency\": 7, \"value\": 4.406}, \"1.048\": {\"frequency\": 22, \"value\": 1.048}, \"0.809\": {\"frequency\": 21, \"value\": 0.809}, \"4.663\": {\"frequency\": 9, \"value\": 4.663}, \"1.099\": {\"frequency\": 11, \"value\": 1.099}, \"0.638\": {\"frequency\": 7, \"value\": 0.638}, \"1.334\": {\"frequency\": 482, \"value\": 1.334}, \"0.682\": {\"frequency\": 39, \"value\": 0.682}, \"0.699\": {\"frequency\": 28, \"value\": 0.699}, \"0.717\": {\"frequency\": 18, \"value\": 0.717}, \"0.944\": {\"frequency\": 3, \"value\": 0.944}, \"0.649\": {\"frequency\": 10, \"value\": 0.649}, \"0.829\": {\"frequency\": 13, \"value\": 0.829}, \"1.059\": {\"frequency\": 23, \"value\": 1.059}, \"1.041\": {\"frequency\": 9, \"value\": 1.041}, \"3.853\": {\"frequency\": 1, \"value\": 3.853}, \"0.773\": {\"frequency\": 22, \"value\": 0.773}, \"0.701\": {\"frequency\": 11, \"value\": 0.701}}, \"mean\": 3.6212908128580956}, \"pdays\": {\"std\": 186.90863833384253, \"complete\": true, \"min\": 0.0, \"max\": 999.0, \"quantile\": [0.0, 3.0, 6.0, 9.0, 999.0, 999.0, 999.0, 999.0, 999.0, 999.0, 999.0, 999.0, 999.0, 999.0, 999.0, 999.0, 999.0, 999.0, 999.0, 999.0, 999.0, 999.0, 999.0, 999.0, 999.0, 999.0, 999.0, 999.0, 999.0, 999.0, 999.0, 999.0, 999.0, 999.0, 999.0, 999.0, 999.0, 999.0, 999.0, 999.0, 999.0, 999.0, 999.0, 999.0, 999.0, 999.0, 999.0, 999.0, 999.0, 999.0, 999.0, 999.0, 999.0, 999.0, 999.0, 999.0, 999.0, 999.0, 999.0, 999.0, 999.0, 999.0, 999.0, 999.0, 999.0, 999.0, 999.0, 999.0, 999.0, 999.0, 999.0, 999.0, 999.0, 999.0, 999.0, 999.0, 999.0, 999.0, 999.0, 999.0, 999.0, 999.0, 999.0, 999.0, 999.0, 999.0, 999.0, 999.0, 999.0, 999.0, 999.0, 999.0, 999.0, 999.0, 999.0, 999.0, 999.0, 999.0, 999.0, 999.0, 999.0], \"median\": 999.0, \"numeric\": true, \"num_unique\": 27, \"num_undefined\": 0, \"var\": 34934.83908381115, \"progress\": 1.0, \"size\": 41188, \"frequent_items\": {\"0\": {\"frequency\": 15, \"value\": 0}, \"1\": {\"frequency\": 26, \"value\": 1}, \"2\": {\"frequency\": 61, \"value\": 2}, \"3\": {\"frequency\": 439, \"value\": 3}, \"4\": {\"frequency\": 118, \"value\": 4}, \"5\": {\"frequency\": 46, \"value\": 5}, \"6\": {\"frequency\": 412, \"value\": 6}, \"7\": {\"frequency\": 60, \"value\": 7}, \"8\": {\"frequency\": 18, \"value\": 8}, \"9\": {\"frequency\": 64, \"value\": 9}, \"10\": {\"frequency\": 52, \"value\": 10}, \"11\": {\"frequency\": 28, \"value\": 11}, \"12\": {\"frequency\": 58, \"value\": 12}, \"13\": {\"frequency\": 36, \"value\": 13}, \"14\": {\"frequency\": 20, \"value\": 14}, \"15\": {\"frequency\": 24, \"value\": 15}, \"16\": {\"frequency\": 11, \"value\": 16}, \"17\": {\"frequency\": 8, \"value\": 17}, \"18\": {\"frequency\": 7, \"value\": 18}, \"19\": {\"frequency\": 3, \"value\": 19}, \"20\": {\"frequency\": 1, \"value\": 20}, \"21\": {\"frequency\": 2, \"value\": 21}, \"22\": {\"frequency\": 3, \"value\": 22}, \"25\": {\"frequency\": 1, \"value\": 25}, \"26\": {\"frequency\": 1, \"value\": 26}, \"27\": {\"frequency\": 1, \"value\": 27}, \"999\": {\"frequency\": 39673, \"value\": 999}}, \"mean\": 962.4754540157331}, \"emp.var.rate\": {\"std\": 1.5709406698013324, \"complete\": true, \"min\": -3.4, \"max\": 1.4, \"quantile\": [-3.4, -3.4, -3.4, -3.0, -2.9, -2.9, -2.9, -2.9, -1.8, -1.8, -1.8, -1.8, -1.8, -1.8, -1.8, -1.8, -1.8, -1.8, -1.8, -1.8, -1.8, -1.8, -1.8, -1.8, -1.8, -1.8, -1.8, -1.8, -1.8, -1.8, -1.7, -1.7, -1.1, -0.1, -0.1, -0.1, -0.1, -0.1, -0.1, -0.1, -0.1, -0.1, 1.1, 1.1, 1.1, 1.1, 1.1, 1.1, 1.1, 1.1, 1.1, 1.1, 1.1, 1.1, 1.1, 1.1, 1.1, 1.1, 1.1, 1.1, 1.1, 1.4, 1.4, 1.4, 1.4, 1.4, 1.4, 1.4, 1.4, 1.4, 1.4, 1.4, 1.4, 1.4, 1.4, 1.4, 1.4, 1.4, 1.4, 1.4, 1.4, 1.4, 1.4, 1.4, 1.4, 1.4, 1.4, 1.4, 1.4, 1.4, 1.4, 1.4, 1.4, 1.4, 1.4, 1.4, 1.4, 1.4, 1.4, 1.4, 1.4], \"median\": 1.1, \"numeric\": true, \"num_unique\": 10, \"num_undefined\": 0, \"var\": 2.467854588035859, \"progress\": 1.0, \"size\": 41188, \"frequent_items\": {\"1.1\": {\"frequency\": 7763, \"value\": 1.1}, \"-1.7\": {\"frequency\": 773, \"value\": -1.7}, \"-1.8\": {\"frequency\": 9184, \"value\": -1.8}, \"-3.0\": {\"frequency\": 172, \"value\": -3.0}, \"-2.9\": {\"frequency\": 1663, \"value\": -2.9}, \"1.4\": {\"frequency\": 16234, \"value\": 1.4}, \"-3.4\": {\"frequency\": 1071, \"value\": -3.4}, \"-1.1\": {\"frequency\": 635, \"value\": -1.1}, \"-0.1\": {\"frequency\": 3683, \"value\": -0.1}, \"-0.2\": {\"frequency\": 10, \"value\": -0.2}}, \"mean\": 0.08188550063125266}, \"previous\": {\"std\": 0.4948950719719037, \"complete\": true, \"min\": 0.0, \"max\": 7.0, \"quantile\": [0.0, 0.0, 0.0, 0.0, 0.0, 0.0, 0.0, 0.0, 0.0, 0.0, 0.0, 0.0, 0.0, 0.0, 0.0, 0.0, 0.0, 0.0, 0.0, 0.0, 0.0, 0.0, 0.0, 0.0, 0.0, 0.0, 0.0, 0.0, 0.0, 0.0, 0.0, 0.0, 0.0, 0.0, 0.0, 0.0, 0.0, 0.0, 0.0, 0.0, 0.0, 0.0, 0.0, 0.0, 0.0, 0.0, 0.0, 0.0, 0.0, 0.0, 0.0, 0.0, 0.0, 0.0, 0.0, 0.0, 0.0, 0.0, 0.0, 0.0, 0.0, 0.0, 0.0, 0.0, 0.0, 0.0, 0.0, 0.0, 0.0, 0.0, 0.0, 0.0, 0.0, 0.0, 0.0, 0.0, 0.0, 0.0, 0.0, 0.0, 0.0, 0.0, 0.0, 0.0, 0.0, 0.0, 0.0, 1.0, 1.0, 1.0, 1.0, 1.0, 1.0, 1.0, 1.0, 1.0, 1.0, 1.0, 2.0, 2.0, 7.0], \"median\": 0.0, \"numeric\": true, \"num_unique\": 8, \"num_undefined\": 0, \"var\": 0.2449211322620757, \"progress\": 1.0, \"size\": 41188, \"frequent_items\": {\"0\": {\"frequency\": 35563, \"value\": 0}, \"1\": {\"frequency\": 4561, \"value\": 1}, \"2\": {\"frequency\": 754, \"value\": 2}, \"3\": {\"frequency\": 216, \"value\": 3}, \"4\": {\"frequency\": 70, \"value\": 4}, \"5\": {\"frequency\": 18, \"value\": 5}, \"6\": {\"frequency\": 5, \"value\": 6}, \"7\": {\"frequency\": 1, \"value\": 7}}, \"mean\": 0.17296299893172823}}, \"selected_variable\": {\"name\": [\"bank_marketing\"], \"descriptives\": {\"rows\": 41188, \"columns\": 21}, \"view_component\": \"Summary\", \"view_file\": \"sframe\", \"view_params\": {\"y\": null, \"x\": null, \"columns\": [\"age\", \"job\", \"marital\", \"education\", \"default\", \"housing\", \"loan\", \"contact\", \"month\", \"day_of_week\", \"duration\", \"campaign\", \"pdays\", \"previous\", \"poutcome\", \"emp.var.rate\", \"cons.price.idx\", \"cons.conf.idx\", \"euribor3m\", \"nr.employed\", \"y\"], \"view\": null}, \"view_components\": [\"Summary\", \"Table\", \"Bar Chart\", \"BoxWhisker Plot\", \"Line Chart\", \"Scatter Plot\", \"Heat Map\", \"Plots\"], \"type\": \"SFrame\", \"columns\": [{\"dtype\": \"int\", \"name\": \"age\"}, {\"dtype\": \"str\", \"name\": \"job\"}, {\"dtype\": \"str\", \"name\": \"marital\"}, {\"dtype\": \"str\", \"name\": \"education\"}, {\"dtype\": \"str\", \"name\": \"default\"}, {\"dtype\": \"str\", \"name\": \"housing\"}, {\"dtype\": \"str\", \"name\": \"loan\"}, {\"dtype\": \"str\", \"name\": \"contact\"}, {\"dtype\": \"str\", \"name\": \"month\"}, {\"dtype\": \"str\", \"name\": \"day_of_week\"}, {\"dtype\": \"int\", \"name\": \"duration\"}, {\"dtype\": \"int\", \"name\": \"campaign\"}, {\"dtype\": \"int\", \"name\": \"pdays\"}, {\"dtype\": \"int\", \"name\": \"previous\"}, {\"dtype\": \"str\", \"name\": \"poutcome\"}, {\"dtype\": \"float\", \"name\": \"emp.var.rate\"}, {\"dtype\": \"float\", \"name\": \"cons.price.idx\"}, {\"dtype\": \"float\", \"name\": \"cons.conf.idx\"}, {\"dtype\": \"float\", \"name\": \"euribor3m\"}, {\"dtype\": \"int\", \"name\": \"nr.employed\"}, {\"dtype\": \"str\", \"name\": \"y\"}], \"column_identifiers\": [\"nr.employed\", \"education\", \"poutcome\", \"campaign\", \"cons.conf.idx\", \"default\", \"month\", \"age\", \"housing\", \"day_of_week\", \"marital\", \"duration\", \"job\", \"cons.price.idx\", \"contact\", \"y\", \"loan\", \"euribor3m\", \"pdays\", \"emp.var.rate\", \"previous\"]}, \"columns\": [{\"dtype\": \"int\", \"name\": \"age\"}, {\"dtype\": \"str\", \"name\": \"job\"}, {\"dtype\": \"str\", \"name\": \"marital\"}, {\"dtype\": \"str\", \"name\": \"education\"}, {\"dtype\": \"str\", \"name\": \"default\"}, {\"dtype\": \"str\", \"name\": \"housing\"}, {\"dtype\": \"str\", \"name\": \"loan\"}, {\"dtype\": \"str\", \"name\": \"contact\"}, {\"dtype\": \"str\", \"name\": \"month\"}, {\"dtype\": \"str\", \"name\": \"day_of_week\"}, {\"dtype\": \"int\", \"name\": \"duration\"}, {\"dtype\": \"int\", \"name\": \"campaign\"}, {\"dtype\": \"int\", \"name\": \"pdays\"}, {\"dtype\": \"int\", \"name\": \"previous\"}, {\"dtype\": \"str\", \"name\": \"poutcome\"}, {\"dtype\": \"float\", \"name\": \"emp.var.rate\"}, {\"dtype\": \"float\", \"name\": \"cons.price.idx\"}, {\"dtype\": \"float\", \"name\": \"cons.conf.idx\"}, {\"dtype\": \"float\", \"name\": \"euribor3m\"}, {\"dtype\": \"int\", \"name\": \"nr.employed\"}, {\"dtype\": \"str\", \"name\": \"y\"}]}, e);\n",
       "                });\n",
       "            })();\n",
       "        "
      ]
     },
     "metadata": {},
     "output_type": "display_data"
    }
   ],
   "source": [
    "gl.canvas.set_target('ipynb')\n",
    "bank_marketing.show()"
   ]
  },
  {
   "cell_type": "markdown",
   "metadata": {},
   "source": [
    "It is also important to note that the original data set has many more **prospects (36548)** than **existent customers (4640)**. However, may be a bad idea to make a stratified split over this data set since we will loose that way the time dimension of the problem. In order to better check if the time dimension is important for this problem and the record provided, we need to re-create the missing calendar dates and transform the original data set in a timeseries object."
   ]
  },
  {
   "cell_type": "markdown",
   "metadata": {},
   "source": [
    "### Data Transformation and train/test split\n",
    "\n",
    "In the few lines of code below:\n",
    "\n",
    "* We add **calendar dates (`date`)** for the **year**, **month** and **day of week** of each provided record line, and produce the corresponding datetimes.\n",
    "* Transform the data set in a **Timeseries** object, and\n",
    "* Take a second look in the data we have available to *check if* the **time-dimension** is *necessary* for this problem."
   ]
  },
  {
   "cell_type": "code",
   "execution_count": 5,
   "metadata": {
    "collapsed": true
   },
   "outputs": [],
   "source": [
    "from helper_functions import *\n",
    "\n",
    "def _month_to_number(x):\n",
    "    from dateutil import parser\n",
    "    return parser.parse(x).strftime('%m')\n",
    "\n",
    "def _wkday_to_number(x):\n",
    "    from dateutil import parser\n",
    "    return parser.parse(x).strftime('%w')\n",
    "\n",
    "def _str_to_datetime(x):\n",
    "    import datetime\n",
    "    import pytz\n",
    "    from dateutil import parser\n",
    "    return parser.parse(x).strftime('%Y-%m-%d')\n",
    "\n",
    "def _unix_timestamp_to_datetime(x):\n",
    "    import time\n",
    "    import datetime\n",
    "    import pytz\n",
    "    from dateutil import parser\n",
    "    return parser.parse(x)"
   ]
  },
  {
   "cell_type": "code",
   "execution_count": 6,
   "metadata": {
    "collapsed": false
   },
   "outputs": [],
   "source": [
    "bank_marketing['y'] = bank_marketing['y'].apply(lambda x: 1 if x=='yes' else 0)\n",
    "bank_marketing['month_nr'] = bank_marketing['month'].apply(_month_to_number)\n",
    "bank_marketing['wkday_nr'] = bank_marketing['day_of_week'].apply(_wkday_to_number)\n",
    "bank_marketing['year'] = add_running_year(bank_marketing['month_nr'], 2008)\n",
    "bank_marketing['date'] = add_running_date(bank_marketing, 'year', 'month_nr', 'wkday_nr')\n",
    "bank_marketing['date'] = bank_marketing.apply(lambda row: '-'.join(map(str,(row['year'], row['month_nr'], row['date']))))\n",
    "bank_marketing['date'] = bank_marketing['date'].apply(_str_to_datetime)\n",
    "bank_marketing['date'] = bank_marketing['date'].apply(_unix_timestamp_to_datetime)"
   ]
  },
  {
   "cell_type": "code",
   "execution_count": 7,
   "metadata": {
    "collapsed": false
   },
   "outputs": [
    {
     "data": {
      "text/html": [
       "<div style=\"max-height:1000px;max-width:1500px;overflow:auto;\"><table frame=\"box\" rules=\"cols\">\n",
       "    <tr>\n",
       "        <th style=\"padding-left: 1em; padding-right: 1em; text-align: center\">age</th>\n",
       "        <th style=\"padding-left: 1em; padding-right: 1em; text-align: center\">job</th>\n",
       "        <th style=\"padding-left: 1em; padding-right: 1em; text-align: center\">marital</th>\n",
       "        <th style=\"padding-left: 1em; padding-right: 1em; text-align: center\">education</th>\n",
       "        <th style=\"padding-left: 1em; padding-right: 1em; text-align: center\">default</th>\n",
       "        <th style=\"padding-left: 1em; padding-right: 1em; text-align: center\">housing</th>\n",
       "        <th style=\"padding-left: 1em; padding-right: 1em; text-align: center\">loan</th>\n",
       "        <th style=\"padding-left: 1em; padding-right: 1em; text-align: center\">contact</th>\n",
       "        <th style=\"padding-left: 1em; padding-right: 1em; text-align: center\">month</th>\n",
       "        <th style=\"padding-left: 1em; padding-right: 1em; text-align: center\">day_of_week</th>\n",
       "        <th style=\"padding-left: 1em; padding-right: 1em; text-align: center\">duration</th>\n",
       "    </tr>\n",
       "    <tr>\n",
       "        <td style=\"padding-left: 1em; padding-right: 1em; text-align: center; vertical-align: top\">56</td>\n",
       "        <td style=\"padding-left: 1em; padding-right: 1em; text-align: center; vertical-align: top\">housemaid</td>\n",
       "        <td style=\"padding-left: 1em; padding-right: 1em; text-align: center; vertical-align: top\">married</td>\n",
       "        <td style=\"padding-left: 1em; padding-right: 1em; text-align: center; vertical-align: top\">basic.4y</td>\n",
       "        <td style=\"padding-left: 1em; padding-right: 1em; text-align: center; vertical-align: top\">no</td>\n",
       "        <td style=\"padding-left: 1em; padding-right: 1em; text-align: center; vertical-align: top\">no</td>\n",
       "        <td style=\"padding-left: 1em; padding-right: 1em; text-align: center; vertical-align: top\">no</td>\n",
       "        <td style=\"padding-left: 1em; padding-right: 1em; text-align: center; vertical-align: top\">telephone</td>\n",
       "        <td style=\"padding-left: 1em; padding-right: 1em; text-align: center; vertical-align: top\">may</td>\n",
       "        <td style=\"padding-left: 1em; padding-right: 1em; text-align: center; vertical-align: top\">mon</td>\n",
       "        <td style=\"padding-left: 1em; padding-right: 1em; text-align: center; vertical-align: top\">261</td>\n",
       "    </tr>\n",
       "    <tr>\n",
       "        <td style=\"padding-left: 1em; padding-right: 1em; text-align: center; vertical-align: top\">57</td>\n",
       "        <td style=\"padding-left: 1em; padding-right: 1em; text-align: center; vertical-align: top\">services</td>\n",
       "        <td style=\"padding-left: 1em; padding-right: 1em; text-align: center; vertical-align: top\">married</td>\n",
       "        <td style=\"padding-left: 1em; padding-right: 1em; text-align: center; vertical-align: top\">high.school</td>\n",
       "        <td style=\"padding-left: 1em; padding-right: 1em; text-align: center; vertical-align: top\">unknown</td>\n",
       "        <td style=\"padding-left: 1em; padding-right: 1em; text-align: center; vertical-align: top\">no</td>\n",
       "        <td style=\"padding-left: 1em; padding-right: 1em; text-align: center; vertical-align: top\">no</td>\n",
       "        <td style=\"padding-left: 1em; padding-right: 1em; text-align: center; vertical-align: top\">telephone</td>\n",
       "        <td style=\"padding-left: 1em; padding-right: 1em; text-align: center; vertical-align: top\">may</td>\n",
       "        <td style=\"padding-left: 1em; padding-right: 1em; text-align: center; vertical-align: top\">mon</td>\n",
       "        <td style=\"padding-left: 1em; padding-right: 1em; text-align: center; vertical-align: top\">149</td>\n",
       "    </tr>\n",
       "    <tr>\n",
       "        <td style=\"padding-left: 1em; padding-right: 1em; text-align: center; vertical-align: top\">37</td>\n",
       "        <td style=\"padding-left: 1em; padding-right: 1em; text-align: center; vertical-align: top\">services</td>\n",
       "        <td style=\"padding-left: 1em; padding-right: 1em; text-align: center; vertical-align: top\">married</td>\n",
       "        <td style=\"padding-left: 1em; padding-right: 1em; text-align: center; vertical-align: top\">high.school</td>\n",
       "        <td style=\"padding-left: 1em; padding-right: 1em; text-align: center; vertical-align: top\">no</td>\n",
       "        <td style=\"padding-left: 1em; padding-right: 1em; text-align: center; vertical-align: top\">yes</td>\n",
       "        <td style=\"padding-left: 1em; padding-right: 1em; text-align: center; vertical-align: top\">no</td>\n",
       "        <td style=\"padding-left: 1em; padding-right: 1em; text-align: center; vertical-align: top\">telephone</td>\n",
       "        <td style=\"padding-left: 1em; padding-right: 1em; text-align: center; vertical-align: top\">may</td>\n",
       "        <td style=\"padding-left: 1em; padding-right: 1em; text-align: center; vertical-align: top\">mon</td>\n",
       "        <td style=\"padding-left: 1em; padding-right: 1em; text-align: center; vertical-align: top\">226</td>\n",
       "    </tr>\n",
       "    <tr>\n",
       "        <td style=\"padding-left: 1em; padding-right: 1em; text-align: center; vertical-align: top\">40</td>\n",
       "        <td style=\"padding-left: 1em; padding-right: 1em; text-align: center; vertical-align: top\">admin.</td>\n",
       "        <td style=\"padding-left: 1em; padding-right: 1em; text-align: center; vertical-align: top\">married</td>\n",
       "        <td style=\"padding-left: 1em; padding-right: 1em; text-align: center; vertical-align: top\">basic.6y</td>\n",
       "        <td style=\"padding-left: 1em; padding-right: 1em; text-align: center; vertical-align: top\">no</td>\n",
       "        <td style=\"padding-left: 1em; padding-right: 1em; text-align: center; vertical-align: top\">no</td>\n",
       "        <td style=\"padding-left: 1em; padding-right: 1em; text-align: center; vertical-align: top\">no</td>\n",
       "        <td style=\"padding-left: 1em; padding-right: 1em; text-align: center; vertical-align: top\">telephone</td>\n",
       "        <td style=\"padding-left: 1em; padding-right: 1em; text-align: center; vertical-align: top\">may</td>\n",
       "        <td style=\"padding-left: 1em; padding-right: 1em; text-align: center; vertical-align: top\">mon</td>\n",
       "        <td style=\"padding-left: 1em; padding-right: 1em; text-align: center; vertical-align: top\">151</td>\n",
       "    </tr>\n",
       "    <tr>\n",
       "        <td style=\"padding-left: 1em; padding-right: 1em; text-align: center; vertical-align: top\">56</td>\n",
       "        <td style=\"padding-left: 1em; padding-right: 1em; text-align: center; vertical-align: top\">services</td>\n",
       "        <td style=\"padding-left: 1em; padding-right: 1em; text-align: center; vertical-align: top\">married</td>\n",
       "        <td style=\"padding-left: 1em; padding-right: 1em; text-align: center; vertical-align: top\">high.school</td>\n",
       "        <td style=\"padding-left: 1em; padding-right: 1em; text-align: center; vertical-align: top\">no</td>\n",
       "        <td style=\"padding-left: 1em; padding-right: 1em; text-align: center; vertical-align: top\">no</td>\n",
       "        <td style=\"padding-left: 1em; padding-right: 1em; text-align: center; vertical-align: top\">yes</td>\n",
       "        <td style=\"padding-left: 1em; padding-right: 1em; text-align: center; vertical-align: top\">telephone</td>\n",
       "        <td style=\"padding-left: 1em; padding-right: 1em; text-align: center; vertical-align: top\">may</td>\n",
       "        <td style=\"padding-left: 1em; padding-right: 1em; text-align: center; vertical-align: top\">mon</td>\n",
       "        <td style=\"padding-left: 1em; padding-right: 1em; text-align: center; vertical-align: top\">307</td>\n",
       "    </tr>\n",
       "    <tr>\n",
       "        <td style=\"padding-left: 1em; padding-right: 1em; text-align: center; vertical-align: top\">45</td>\n",
       "        <td style=\"padding-left: 1em; padding-right: 1em; text-align: center; vertical-align: top\">services</td>\n",
       "        <td style=\"padding-left: 1em; padding-right: 1em; text-align: center; vertical-align: top\">married</td>\n",
       "        <td style=\"padding-left: 1em; padding-right: 1em; text-align: center; vertical-align: top\">basic.9y</td>\n",
       "        <td style=\"padding-left: 1em; padding-right: 1em; text-align: center; vertical-align: top\">unknown</td>\n",
       "        <td style=\"padding-left: 1em; padding-right: 1em; text-align: center; vertical-align: top\">no</td>\n",
       "        <td style=\"padding-left: 1em; padding-right: 1em; text-align: center; vertical-align: top\">no</td>\n",
       "        <td style=\"padding-left: 1em; padding-right: 1em; text-align: center; vertical-align: top\">telephone</td>\n",
       "        <td style=\"padding-left: 1em; padding-right: 1em; text-align: center; vertical-align: top\">may</td>\n",
       "        <td style=\"padding-left: 1em; padding-right: 1em; text-align: center; vertical-align: top\">mon</td>\n",
       "        <td style=\"padding-left: 1em; padding-right: 1em; text-align: center; vertical-align: top\">198</td>\n",
       "    </tr>\n",
       "    <tr>\n",
       "        <td style=\"padding-left: 1em; padding-right: 1em; text-align: center; vertical-align: top\">59</td>\n",
       "        <td style=\"padding-left: 1em; padding-right: 1em; text-align: center; vertical-align: top\">admin.</td>\n",
       "        <td style=\"padding-left: 1em; padding-right: 1em; text-align: center; vertical-align: top\">married</td>\n",
       "        <td style=\"padding-left: 1em; padding-right: 1em; text-align: center; vertical-align: top\">professional.course</td>\n",
       "        <td style=\"padding-left: 1em; padding-right: 1em; text-align: center; vertical-align: top\">no</td>\n",
       "        <td style=\"padding-left: 1em; padding-right: 1em; text-align: center; vertical-align: top\">no</td>\n",
       "        <td style=\"padding-left: 1em; padding-right: 1em; text-align: center; vertical-align: top\">no</td>\n",
       "        <td style=\"padding-left: 1em; padding-right: 1em; text-align: center; vertical-align: top\">telephone</td>\n",
       "        <td style=\"padding-left: 1em; padding-right: 1em; text-align: center; vertical-align: top\">may</td>\n",
       "        <td style=\"padding-left: 1em; padding-right: 1em; text-align: center; vertical-align: top\">mon</td>\n",
       "        <td style=\"padding-left: 1em; padding-right: 1em; text-align: center; vertical-align: top\">139</td>\n",
       "    </tr>\n",
       "    <tr>\n",
       "        <td style=\"padding-left: 1em; padding-right: 1em; text-align: center; vertical-align: top\">41</td>\n",
       "        <td style=\"padding-left: 1em; padding-right: 1em; text-align: center; vertical-align: top\">blue-collar</td>\n",
       "        <td style=\"padding-left: 1em; padding-right: 1em; text-align: center; vertical-align: top\">married</td>\n",
       "        <td style=\"padding-left: 1em; padding-right: 1em; text-align: center; vertical-align: top\">unknown</td>\n",
       "        <td style=\"padding-left: 1em; padding-right: 1em; text-align: center; vertical-align: top\">unknown</td>\n",
       "        <td style=\"padding-left: 1em; padding-right: 1em; text-align: center; vertical-align: top\">no</td>\n",
       "        <td style=\"padding-left: 1em; padding-right: 1em; text-align: center; vertical-align: top\">no</td>\n",
       "        <td style=\"padding-left: 1em; padding-right: 1em; text-align: center; vertical-align: top\">telephone</td>\n",
       "        <td style=\"padding-left: 1em; padding-right: 1em; text-align: center; vertical-align: top\">may</td>\n",
       "        <td style=\"padding-left: 1em; padding-right: 1em; text-align: center; vertical-align: top\">mon</td>\n",
       "        <td style=\"padding-left: 1em; padding-right: 1em; text-align: center; vertical-align: top\">217</td>\n",
       "    </tr>\n",
       "    <tr>\n",
       "        <td style=\"padding-left: 1em; padding-right: 1em; text-align: center; vertical-align: top\">24</td>\n",
       "        <td style=\"padding-left: 1em; padding-right: 1em; text-align: center; vertical-align: top\">technician</td>\n",
       "        <td style=\"padding-left: 1em; padding-right: 1em; text-align: center; vertical-align: top\">single</td>\n",
       "        <td style=\"padding-left: 1em; padding-right: 1em; text-align: center; vertical-align: top\">professional.course</td>\n",
       "        <td style=\"padding-left: 1em; padding-right: 1em; text-align: center; vertical-align: top\">no</td>\n",
       "        <td style=\"padding-left: 1em; padding-right: 1em; text-align: center; vertical-align: top\">yes</td>\n",
       "        <td style=\"padding-left: 1em; padding-right: 1em; text-align: center; vertical-align: top\">no</td>\n",
       "        <td style=\"padding-left: 1em; padding-right: 1em; text-align: center; vertical-align: top\">telephone</td>\n",
       "        <td style=\"padding-left: 1em; padding-right: 1em; text-align: center; vertical-align: top\">may</td>\n",
       "        <td style=\"padding-left: 1em; padding-right: 1em; text-align: center; vertical-align: top\">mon</td>\n",
       "        <td style=\"padding-left: 1em; padding-right: 1em; text-align: center; vertical-align: top\">380</td>\n",
       "    </tr>\n",
       "    <tr>\n",
       "        <td style=\"padding-left: 1em; padding-right: 1em; text-align: center; vertical-align: top\">25</td>\n",
       "        <td style=\"padding-left: 1em; padding-right: 1em; text-align: center; vertical-align: top\">services</td>\n",
       "        <td style=\"padding-left: 1em; padding-right: 1em; text-align: center; vertical-align: top\">single</td>\n",
       "        <td style=\"padding-left: 1em; padding-right: 1em; text-align: center; vertical-align: top\">high.school</td>\n",
       "        <td style=\"padding-left: 1em; padding-right: 1em; text-align: center; vertical-align: top\">no</td>\n",
       "        <td style=\"padding-left: 1em; padding-right: 1em; text-align: center; vertical-align: top\">yes</td>\n",
       "        <td style=\"padding-left: 1em; padding-right: 1em; text-align: center; vertical-align: top\">no</td>\n",
       "        <td style=\"padding-left: 1em; padding-right: 1em; text-align: center; vertical-align: top\">telephone</td>\n",
       "        <td style=\"padding-left: 1em; padding-right: 1em; text-align: center; vertical-align: top\">may</td>\n",
       "        <td style=\"padding-left: 1em; padding-right: 1em; text-align: center; vertical-align: top\">mon</td>\n",
       "        <td style=\"padding-left: 1em; padding-right: 1em; text-align: center; vertical-align: top\">50</td>\n",
       "    </tr>\n",
       "</table>\n",
       "<table frame=\"box\" rules=\"cols\">\n",
       "    <tr>\n",
       "        <th style=\"padding-left: 1em; padding-right: 1em; text-align: center\">campaign</th>\n",
       "        <th style=\"padding-left: 1em; padding-right: 1em; text-align: center\">pdays</th>\n",
       "        <th style=\"padding-left: 1em; padding-right: 1em; text-align: center\">previous</th>\n",
       "        <th style=\"padding-left: 1em; padding-right: 1em; text-align: center\">poutcome</th>\n",
       "        <th style=\"padding-left: 1em; padding-right: 1em; text-align: center\">emp.var.rate</th>\n",
       "        <th style=\"padding-left: 1em; padding-right: 1em; text-align: center\">cons.price.idx</th>\n",
       "        <th style=\"padding-left: 1em; padding-right: 1em; text-align: center\">cons.conf.idx</th>\n",
       "        <th style=\"padding-left: 1em; padding-right: 1em; text-align: center\">euribor3m</th>\n",
       "        <th style=\"padding-left: 1em; padding-right: 1em; text-align: center\">nr.employed</th>\n",
       "    </tr>\n",
       "    <tr>\n",
       "        <td style=\"padding-left: 1em; padding-right: 1em; text-align: center; vertical-align: top\">1</td>\n",
       "        <td style=\"padding-left: 1em; padding-right: 1em; text-align: center; vertical-align: top\">999</td>\n",
       "        <td style=\"padding-left: 1em; padding-right: 1em; text-align: center; vertical-align: top\">0</td>\n",
       "        <td style=\"padding-left: 1em; padding-right: 1em; text-align: center; vertical-align: top\">nonexistent</td>\n",
       "        <td style=\"padding-left: 1em; padding-right: 1em; text-align: center; vertical-align: top\">1.1</td>\n",
       "        <td style=\"padding-left: 1em; padding-right: 1em; text-align: center; vertical-align: top\">93.994</td>\n",
       "        <td style=\"padding-left: 1em; padding-right: 1em; text-align: center; vertical-align: top\">-36.4</td>\n",
       "        <td style=\"padding-left: 1em; padding-right: 1em; text-align: center; vertical-align: top\">4.857</td>\n",
       "        <td style=\"padding-left: 1em; padding-right: 1em; text-align: center; vertical-align: top\">5191</td>\n",
       "    </tr>\n",
       "    <tr>\n",
       "        <td style=\"padding-left: 1em; padding-right: 1em; text-align: center; vertical-align: top\">1</td>\n",
       "        <td style=\"padding-left: 1em; padding-right: 1em; text-align: center; vertical-align: top\">999</td>\n",
       "        <td style=\"padding-left: 1em; padding-right: 1em; text-align: center; vertical-align: top\">0</td>\n",
       "        <td style=\"padding-left: 1em; padding-right: 1em; text-align: center; vertical-align: top\">nonexistent</td>\n",
       "        <td style=\"padding-left: 1em; padding-right: 1em; text-align: center; vertical-align: top\">1.1</td>\n",
       "        <td style=\"padding-left: 1em; padding-right: 1em; text-align: center; vertical-align: top\">93.994</td>\n",
       "        <td style=\"padding-left: 1em; padding-right: 1em; text-align: center; vertical-align: top\">-36.4</td>\n",
       "        <td style=\"padding-left: 1em; padding-right: 1em; text-align: center; vertical-align: top\">4.857</td>\n",
       "        <td style=\"padding-left: 1em; padding-right: 1em; text-align: center; vertical-align: top\">5191</td>\n",
       "    </tr>\n",
       "    <tr>\n",
       "        <td style=\"padding-left: 1em; padding-right: 1em; text-align: center; vertical-align: top\">1</td>\n",
       "        <td style=\"padding-left: 1em; padding-right: 1em; text-align: center; vertical-align: top\">999</td>\n",
       "        <td style=\"padding-left: 1em; padding-right: 1em; text-align: center; vertical-align: top\">0</td>\n",
       "        <td style=\"padding-left: 1em; padding-right: 1em; text-align: center; vertical-align: top\">nonexistent</td>\n",
       "        <td style=\"padding-left: 1em; padding-right: 1em; text-align: center; vertical-align: top\">1.1</td>\n",
       "        <td style=\"padding-left: 1em; padding-right: 1em; text-align: center; vertical-align: top\">93.994</td>\n",
       "        <td style=\"padding-left: 1em; padding-right: 1em; text-align: center; vertical-align: top\">-36.4</td>\n",
       "        <td style=\"padding-left: 1em; padding-right: 1em; text-align: center; vertical-align: top\">4.857</td>\n",
       "        <td style=\"padding-left: 1em; padding-right: 1em; text-align: center; vertical-align: top\">5191</td>\n",
       "    </tr>\n",
       "    <tr>\n",
       "        <td style=\"padding-left: 1em; padding-right: 1em; text-align: center; vertical-align: top\">1</td>\n",
       "        <td style=\"padding-left: 1em; padding-right: 1em; text-align: center; vertical-align: top\">999</td>\n",
       "        <td style=\"padding-left: 1em; padding-right: 1em; text-align: center; vertical-align: top\">0</td>\n",
       "        <td style=\"padding-left: 1em; padding-right: 1em; text-align: center; vertical-align: top\">nonexistent</td>\n",
       "        <td style=\"padding-left: 1em; padding-right: 1em; text-align: center; vertical-align: top\">1.1</td>\n",
       "        <td style=\"padding-left: 1em; padding-right: 1em; text-align: center; vertical-align: top\">93.994</td>\n",
       "        <td style=\"padding-left: 1em; padding-right: 1em; text-align: center; vertical-align: top\">-36.4</td>\n",
       "        <td style=\"padding-left: 1em; padding-right: 1em; text-align: center; vertical-align: top\">4.857</td>\n",
       "        <td style=\"padding-left: 1em; padding-right: 1em; text-align: center; vertical-align: top\">5191</td>\n",
       "    </tr>\n",
       "    <tr>\n",
       "        <td style=\"padding-left: 1em; padding-right: 1em; text-align: center; vertical-align: top\">1</td>\n",
       "        <td style=\"padding-left: 1em; padding-right: 1em; text-align: center; vertical-align: top\">999</td>\n",
       "        <td style=\"padding-left: 1em; padding-right: 1em; text-align: center; vertical-align: top\">0</td>\n",
       "        <td style=\"padding-left: 1em; padding-right: 1em; text-align: center; vertical-align: top\">nonexistent</td>\n",
       "        <td style=\"padding-left: 1em; padding-right: 1em; text-align: center; vertical-align: top\">1.1</td>\n",
       "        <td style=\"padding-left: 1em; padding-right: 1em; text-align: center; vertical-align: top\">93.994</td>\n",
       "        <td style=\"padding-left: 1em; padding-right: 1em; text-align: center; vertical-align: top\">-36.4</td>\n",
       "        <td style=\"padding-left: 1em; padding-right: 1em; text-align: center; vertical-align: top\">4.857</td>\n",
       "        <td style=\"padding-left: 1em; padding-right: 1em; text-align: center; vertical-align: top\">5191</td>\n",
       "    </tr>\n",
       "    <tr>\n",
       "        <td style=\"padding-left: 1em; padding-right: 1em; text-align: center; vertical-align: top\">1</td>\n",
       "        <td style=\"padding-left: 1em; padding-right: 1em; text-align: center; vertical-align: top\">999</td>\n",
       "        <td style=\"padding-left: 1em; padding-right: 1em; text-align: center; vertical-align: top\">0</td>\n",
       "        <td style=\"padding-left: 1em; padding-right: 1em; text-align: center; vertical-align: top\">nonexistent</td>\n",
       "        <td style=\"padding-left: 1em; padding-right: 1em; text-align: center; vertical-align: top\">1.1</td>\n",
       "        <td style=\"padding-left: 1em; padding-right: 1em; text-align: center; vertical-align: top\">93.994</td>\n",
       "        <td style=\"padding-left: 1em; padding-right: 1em; text-align: center; vertical-align: top\">-36.4</td>\n",
       "        <td style=\"padding-left: 1em; padding-right: 1em; text-align: center; vertical-align: top\">4.857</td>\n",
       "        <td style=\"padding-left: 1em; padding-right: 1em; text-align: center; vertical-align: top\">5191</td>\n",
       "    </tr>\n",
       "    <tr>\n",
       "        <td style=\"padding-left: 1em; padding-right: 1em; text-align: center; vertical-align: top\">1</td>\n",
       "        <td style=\"padding-left: 1em; padding-right: 1em; text-align: center; vertical-align: top\">999</td>\n",
       "        <td style=\"padding-left: 1em; padding-right: 1em; text-align: center; vertical-align: top\">0</td>\n",
       "        <td style=\"padding-left: 1em; padding-right: 1em; text-align: center; vertical-align: top\">nonexistent</td>\n",
       "        <td style=\"padding-left: 1em; padding-right: 1em; text-align: center; vertical-align: top\">1.1</td>\n",
       "        <td style=\"padding-left: 1em; padding-right: 1em; text-align: center; vertical-align: top\">93.994</td>\n",
       "        <td style=\"padding-left: 1em; padding-right: 1em; text-align: center; vertical-align: top\">-36.4</td>\n",
       "        <td style=\"padding-left: 1em; padding-right: 1em; text-align: center; vertical-align: top\">4.857</td>\n",
       "        <td style=\"padding-left: 1em; padding-right: 1em; text-align: center; vertical-align: top\">5191</td>\n",
       "    </tr>\n",
       "    <tr>\n",
       "        <td style=\"padding-left: 1em; padding-right: 1em; text-align: center; vertical-align: top\">1</td>\n",
       "        <td style=\"padding-left: 1em; padding-right: 1em; text-align: center; vertical-align: top\">999</td>\n",
       "        <td style=\"padding-left: 1em; padding-right: 1em; text-align: center; vertical-align: top\">0</td>\n",
       "        <td style=\"padding-left: 1em; padding-right: 1em; text-align: center; vertical-align: top\">nonexistent</td>\n",
       "        <td style=\"padding-left: 1em; padding-right: 1em; text-align: center; vertical-align: top\">1.1</td>\n",
       "        <td style=\"padding-left: 1em; padding-right: 1em; text-align: center; vertical-align: top\">93.994</td>\n",
       "        <td style=\"padding-left: 1em; padding-right: 1em; text-align: center; vertical-align: top\">-36.4</td>\n",
       "        <td style=\"padding-left: 1em; padding-right: 1em; text-align: center; vertical-align: top\">4.857</td>\n",
       "        <td style=\"padding-left: 1em; padding-right: 1em; text-align: center; vertical-align: top\">5191</td>\n",
       "    </tr>\n",
       "    <tr>\n",
       "        <td style=\"padding-left: 1em; padding-right: 1em; text-align: center; vertical-align: top\">1</td>\n",
       "        <td style=\"padding-left: 1em; padding-right: 1em; text-align: center; vertical-align: top\">999</td>\n",
       "        <td style=\"padding-left: 1em; padding-right: 1em; text-align: center; vertical-align: top\">0</td>\n",
       "        <td style=\"padding-left: 1em; padding-right: 1em; text-align: center; vertical-align: top\">nonexistent</td>\n",
       "        <td style=\"padding-left: 1em; padding-right: 1em; text-align: center; vertical-align: top\">1.1</td>\n",
       "        <td style=\"padding-left: 1em; padding-right: 1em; text-align: center; vertical-align: top\">93.994</td>\n",
       "        <td style=\"padding-left: 1em; padding-right: 1em; text-align: center; vertical-align: top\">-36.4</td>\n",
       "        <td style=\"padding-left: 1em; padding-right: 1em; text-align: center; vertical-align: top\">4.857</td>\n",
       "        <td style=\"padding-left: 1em; padding-right: 1em; text-align: center; vertical-align: top\">5191</td>\n",
       "    </tr>\n",
       "    <tr>\n",
       "        <td style=\"padding-left: 1em; padding-right: 1em; text-align: center; vertical-align: top\">1</td>\n",
       "        <td style=\"padding-left: 1em; padding-right: 1em; text-align: center; vertical-align: top\">999</td>\n",
       "        <td style=\"padding-left: 1em; padding-right: 1em; text-align: center; vertical-align: top\">0</td>\n",
       "        <td style=\"padding-left: 1em; padding-right: 1em; text-align: center; vertical-align: top\">nonexistent</td>\n",
       "        <td style=\"padding-left: 1em; padding-right: 1em; text-align: center; vertical-align: top\">1.1</td>\n",
       "        <td style=\"padding-left: 1em; padding-right: 1em; text-align: center; vertical-align: top\">93.994</td>\n",
       "        <td style=\"padding-left: 1em; padding-right: 1em; text-align: center; vertical-align: top\">-36.4</td>\n",
       "        <td style=\"padding-left: 1em; padding-right: 1em; text-align: center; vertical-align: top\">4.857</td>\n",
       "        <td style=\"padding-left: 1em; padding-right: 1em; text-align: center; vertical-align: top\">5191</td>\n",
       "    </tr>\n",
       "</table>\n",
       "<table frame=\"box\" rules=\"cols\">\n",
       "    <tr>\n",
       "        <th style=\"padding-left: 1em; padding-right: 1em; text-align: center\">y</th>\n",
       "        <th style=\"padding-left: 1em; padding-right: 1em; text-align: center\">month_nr</th>\n",
       "        <th style=\"padding-left: 1em; padding-right: 1em; text-align: center\">wkday_nr</th>\n",
       "        <th style=\"padding-left: 1em; padding-right: 1em; text-align: center\">year</th>\n",
       "        <th style=\"padding-left: 1em; padding-right: 1em; text-align: center\">date</th>\n",
       "    </tr>\n",
       "    <tr>\n",
       "        <td style=\"padding-left: 1em; padding-right: 1em; text-align: center; vertical-align: top\">0</td>\n",
       "        <td style=\"padding-left: 1em; padding-right: 1em; text-align: center; vertical-align: top\">05</td>\n",
       "        <td style=\"padding-left: 1em; padding-right: 1em; text-align: center; vertical-align: top\">1</td>\n",
       "        <td style=\"padding-left: 1em; padding-right: 1em; text-align: center; vertical-align: top\">2008</td>\n",
       "        <td style=\"padding-left: 1em; padding-right: 1em; text-align: center; vertical-align: top\">2008-05-05 00:00:00</td>\n",
       "    </tr>\n",
       "    <tr>\n",
       "        <td style=\"padding-left: 1em; padding-right: 1em; text-align: center; vertical-align: top\">0</td>\n",
       "        <td style=\"padding-left: 1em; padding-right: 1em; text-align: center; vertical-align: top\">05</td>\n",
       "        <td style=\"padding-left: 1em; padding-right: 1em; text-align: center; vertical-align: top\">1</td>\n",
       "        <td style=\"padding-left: 1em; padding-right: 1em; text-align: center; vertical-align: top\">2008</td>\n",
       "        <td style=\"padding-left: 1em; padding-right: 1em; text-align: center; vertical-align: top\">2008-05-05 00:00:00</td>\n",
       "    </tr>\n",
       "    <tr>\n",
       "        <td style=\"padding-left: 1em; padding-right: 1em; text-align: center; vertical-align: top\">0</td>\n",
       "        <td style=\"padding-left: 1em; padding-right: 1em; text-align: center; vertical-align: top\">05</td>\n",
       "        <td style=\"padding-left: 1em; padding-right: 1em; text-align: center; vertical-align: top\">1</td>\n",
       "        <td style=\"padding-left: 1em; padding-right: 1em; text-align: center; vertical-align: top\">2008</td>\n",
       "        <td style=\"padding-left: 1em; padding-right: 1em; text-align: center; vertical-align: top\">2008-05-05 00:00:00</td>\n",
       "    </tr>\n",
       "    <tr>\n",
       "        <td style=\"padding-left: 1em; padding-right: 1em; text-align: center; vertical-align: top\">0</td>\n",
       "        <td style=\"padding-left: 1em; padding-right: 1em; text-align: center; vertical-align: top\">05</td>\n",
       "        <td style=\"padding-left: 1em; padding-right: 1em; text-align: center; vertical-align: top\">1</td>\n",
       "        <td style=\"padding-left: 1em; padding-right: 1em; text-align: center; vertical-align: top\">2008</td>\n",
       "        <td style=\"padding-left: 1em; padding-right: 1em; text-align: center; vertical-align: top\">2008-05-05 00:00:00</td>\n",
       "    </tr>\n",
       "    <tr>\n",
       "        <td style=\"padding-left: 1em; padding-right: 1em; text-align: center; vertical-align: top\">0</td>\n",
       "        <td style=\"padding-left: 1em; padding-right: 1em; text-align: center; vertical-align: top\">05</td>\n",
       "        <td style=\"padding-left: 1em; padding-right: 1em; text-align: center; vertical-align: top\">1</td>\n",
       "        <td style=\"padding-left: 1em; padding-right: 1em; text-align: center; vertical-align: top\">2008</td>\n",
       "        <td style=\"padding-left: 1em; padding-right: 1em; text-align: center; vertical-align: top\">2008-05-05 00:00:00</td>\n",
       "    </tr>\n",
       "    <tr>\n",
       "        <td style=\"padding-left: 1em; padding-right: 1em; text-align: center; vertical-align: top\">0</td>\n",
       "        <td style=\"padding-left: 1em; padding-right: 1em; text-align: center; vertical-align: top\">05</td>\n",
       "        <td style=\"padding-left: 1em; padding-right: 1em; text-align: center; vertical-align: top\">1</td>\n",
       "        <td style=\"padding-left: 1em; padding-right: 1em; text-align: center; vertical-align: top\">2008</td>\n",
       "        <td style=\"padding-left: 1em; padding-right: 1em; text-align: center; vertical-align: top\">2008-05-05 00:00:00</td>\n",
       "    </tr>\n",
       "    <tr>\n",
       "        <td style=\"padding-left: 1em; padding-right: 1em; text-align: center; vertical-align: top\">0</td>\n",
       "        <td style=\"padding-left: 1em; padding-right: 1em; text-align: center; vertical-align: top\">05</td>\n",
       "        <td style=\"padding-left: 1em; padding-right: 1em; text-align: center; vertical-align: top\">1</td>\n",
       "        <td style=\"padding-left: 1em; padding-right: 1em; text-align: center; vertical-align: top\">2008</td>\n",
       "        <td style=\"padding-left: 1em; padding-right: 1em; text-align: center; vertical-align: top\">2008-05-05 00:00:00</td>\n",
       "    </tr>\n",
       "    <tr>\n",
       "        <td style=\"padding-left: 1em; padding-right: 1em; text-align: center; vertical-align: top\">0</td>\n",
       "        <td style=\"padding-left: 1em; padding-right: 1em; text-align: center; vertical-align: top\">05</td>\n",
       "        <td style=\"padding-left: 1em; padding-right: 1em; text-align: center; vertical-align: top\">1</td>\n",
       "        <td style=\"padding-left: 1em; padding-right: 1em; text-align: center; vertical-align: top\">2008</td>\n",
       "        <td style=\"padding-left: 1em; padding-right: 1em; text-align: center; vertical-align: top\">2008-05-05 00:00:00</td>\n",
       "    </tr>\n",
       "    <tr>\n",
       "        <td style=\"padding-left: 1em; padding-right: 1em; text-align: center; vertical-align: top\">0</td>\n",
       "        <td style=\"padding-left: 1em; padding-right: 1em; text-align: center; vertical-align: top\">05</td>\n",
       "        <td style=\"padding-left: 1em; padding-right: 1em; text-align: center; vertical-align: top\">1</td>\n",
       "        <td style=\"padding-left: 1em; padding-right: 1em; text-align: center; vertical-align: top\">2008</td>\n",
       "        <td style=\"padding-left: 1em; padding-right: 1em; text-align: center; vertical-align: top\">2008-05-05 00:00:00</td>\n",
       "    </tr>\n",
       "    <tr>\n",
       "        <td style=\"padding-left: 1em; padding-right: 1em; text-align: center; vertical-align: top\">0</td>\n",
       "        <td style=\"padding-left: 1em; padding-right: 1em; text-align: center; vertical-align: top\">05</td>\n",
       "        <td style=\"padding-left: 1em; padding-right: 1em; text-align: center; vertical-align: top\">1</td>\n",
       "        <td style=\"padding-left: 1em; padding-right: 1em; text-align: center; vertical-align: top\">2008</td>\n",
       "        <td style=\"padding-left: 1em; padding-right: 1em; text-align: center; vertical-align: top\">2008-05-05 00:00:00</td>\n",
       "    </tr>\n",
       "</table>\n",
       "[41188 rows x 25 columns]<br/>Note: Only the head of the SFrame is printed.<br/>You can use print_rows(num_rows=m, num_columns=n) to print more rows and columns.\n",
       "</div>"
      ],
      "text/plain": [
       "Columns:\n",
       "\tage\tint\n",
       "\tjob\tstr\n",
       "\tmarital\tstr\n",
       "\teducation\tstr\n",
       "\tdefault\tstr\n",
       "\thousing\tstr\n",
       "\tloan\tstr\n",
       "\tcontact\tstr\n",
       "\tmonth\tstr\n",
       "\tday_of_week\tstr\n",
       "\tduration\tint\n",
       "\tcampaign\tint\n",
       "\tpdays\tint\n",
       "\tprevious\tint\n",
       "\tpoutcome\tstr\n",
       "\temp.var.rate\tfloat\n",
       "\tcons.price.idx\tfloat\n",
       "\tcons.conf.idx\tfloat\n",
       "\teuribor3m\tfloat\n",
       "\tnr.employed\tint\n",
       "\ty\tint\n",
       "\tmonth_nr\tstr\n",
       "\twkday_nr\tstr\n",
       "\tyear\tint\n",
       "\tdate\tdatetime\n",
       "\n",
       "Rows: 41188\n",
       "\n",
       "Data:\n",
       "+-----+-------------+---------+---------------------+---------+---------+------+\n",
       "| age |     job     | marital |      education      | default | housing | loan |\n",
       "+-----+-------------+---------+---------------------+---------+---------+------+\n",
       "|  56 |  housemaid  | married |       basic.4y      |    no   |    no   |  no  |\n",
       "|  57 |   services  | married |     high.school     | unknown |    no   |  no  |\n",
       "|  37 |   services  | married |     high.school     |    no   |   yes   |  no  |\n",
       "|  40 |    admin.   | married |       basic.6y      |    no   |    no   |  no  |\n",
       "|  56 |   services  | married |     high.school     |    no   |    no   | yes  |\n",
       "|  45 |   services  | married |       basic.9y      | unknown |    no   |  no  |\n",
       "|  59 |    admin.   | married | professional.course |    no   |    no   |  no  |\n",
       "|  41 | blue-collar | married |       unknown       | unknown |    no   |  no  |\n",
       "|  24 |  technician |  single | professional.course |    no   |   yes   |  no  |\n",
       "|  25 |   services  |  single |     high.school     |    no   |   yes   |  no  |\n",
       "+-----+-------------+---------+---------------------+---------+---------+------+\n",
       "+-----------+-------+-------------+----------+----------+-------+----------+\n",
       "|  contact  | month | day_of_week | duration | campaign | pdays | previous |\n",
       "+-----------+-------+-------------+----------+----------+-------+----------+\n",
       "| telephone |  may  |     mon     |   261    |    1     |  999  |    0     |\n",
       "| telephone |  may  |     mon     |   149    |    1     |  999  |    0     |\n",
       "| telephone |  may  |     mon     |   226    |    1     |  999  |    0     |\n",
       "| telephone |  may  |     mon     |   151    |    1     |  999  |    0     |\n",
       "| telephone |  may  |     mon     |   307    |    1     |  999  |    0     |\n",
       "| telephone |  may  |     mon     |   198    |    1     |  999  |    0     |\n",
       "| telephone |  may  |     mon     |   139    |    1     |  999  |    0     |\n",
       "| telephone |  may  |     mon     |   217    |    1     |  999  |    0     |\n",
       "| telephone |  may  |     mon     |   380    |    1     |  999  |    0     |\n",
       "| telephone |  may  |     mon     |    50    |    1     |  999  |    0     |\n",
       "+-----------+-------+-------------+----------+----------+-------+----------+\n",
       "+-------------+--------------+----------------+---------------+-----------+-------------+-----+\n",
       "|   poutcome  | emp.var.rate | cons.price.idx | cons.conf.idx | euribor3m | nr.employed | ... |\n",
       "+-------------+--------------+----------------+---------------+-----------+-------------+-----+\n",
       "| nonexistent |     1.1      |     93.994     |     -36.4     |   4.857   |     5191    | ... |\n",
       "| nonexistent |     1.1      |     93.994     |     -36.4     |   4.857   |     5191    | ... |\n",
       "| nonexistent |     1.1      |     93.994     |     -36.4     |   4.857   |     5191    | ... |\n",
       "| nonexistent |     1.1      |     93.994     |     -36.4     |   4.857   |     5191    | ... |\n",
       "| nonexistent |     1.1      |     93.994     |     -36.4     |   4.857   |     5191    | ... |\n",
       "| nonexistent |     1.1      |     93.994     |     -36.4     |   4.857   |     5191    | ... |\n",
       "| nonexistent |     1.1      |     93.994     |     -36.4     |   4.857   |     5191    | ... |\n",
       "| nonexistent |     1.1      |     93.994     |     -36.4     |   4.857   |     5191    | ... |\n",
       "| nonexistent |     1.1      |     93.994     |     -36.4     |   4.857   |     5191    | ... |\n",
       "| nonexistent |     1.1      |     93.994     |     -36.4     |   4.857   |     5191    | ... |\n",
       "+-------------+--------------+----------------+---------------+-----------+-------------+-----+\n",
       "[41188 rows x 25 columns]\n",
       "Note: Only the head of the SFrame is printed.\n",
       "You can use print_rows(num_rows=m, num_columns=n) to print more rows and columns."
      ]
     },
     "execution_count": 7,
     "metadata": {},
     "output_type": "execute_result"
    }
   ],
   "source": [
    "bank_marketing"
   ]
  },
  {
   "cell_type": "code",
   "execution_count": 9,
   "metadata": {
    "collapsed": true
   },
   "outputs": [],
   "source": [
    "bank_marketing = gl.TimeSeries(bank_marketing, index='date')"
   ]
  },
  {
   "cell_type": "markdown",
   "metadata": {},
   "source": [
    "The provided data set, **`bank_marketing`**, has 41188 record lines describing various customers and prospects attributes, as well as their response in the telemarketing campaign of interest. The percentage of unique calendar dates across this record is low, whereas much more people seems to response positevely as the time goes by. However, some months are missing from the data set and adding time dimension in this problem cannot help to provide better predictions."
   ]
  },
  {
   "cell_type": "code",
   "execution_count": 10,
   "metadata": {
    "collapsed": false
   },
   "outputs": [
    {
     "name": "stdout",
     "output_type": "stream",
     "text": [
      "Number of record lines [bank_marketing]: 41188\n",
      "Unique calendar dates across data set [bank_marketing]: 488\n",
      "Percentage of unique calendar dates across data set [bank_marketing]: 1.18%\n"
     ]
    }
   ],
   "source": [
    "print 'Number of record lines [bank_marketing]: %d' % len(bank_marketing)\n",
    "print 'Unique calendar dates across data set [bank_marketing]: %d' % len(bank_marketing['date'].unique())\n",
    "unique_dates_pct = (len(bank_marketing['date'].unique())*100/float(len(bank_marketing)))\n",
    "print 'Percentage of unique calendar dates across data set [bank_marketing]: %.2f%%'% unique_dates_pct"
   ]
  },
  {
   "cell_type": "code",
   "execution_count": 11,
   "metadata": {
    "collapsed": false
   },
   "outputs": [
    {
     "data": {
      "text/plain": [
       "dtype: str\n",
       "Rows: 7\n",
       "['05', '06', '07', '08', '10', '11', '12']"
      ]
     },
     "execution_count": 11,
     "metadata": {},
     "output_type": "execute_result"
    }
   ],
   "source": [
    "bank_marketing.filter_by(2008,'year')['month_nr'].unique().sort()"
   ]
  },
  {
   "cell_type": "code",
   "execution_count": 12,
   "metadata": {
    "collapsed": false
   },
   "outputs": [
    {
     "name": "stdout",
     "output_type": "stream",
     "text": [
      "Full Data Set [year: 2008]:\n",
      "------------------------------\n",
      "Number of examples in year segment [bank_marketing]: 27690\n",
      "Number of existent customers: 1339 (4.84%)\n",
      "Number of prospects: 26351 (95.16%)\n",
      "\n"
     ]
    }
   ],
   "source": [
    "print 'Full Data Set [year: 2008]:'\n",
    "print '------------------------------'\n",
    "bank_marketing_2008 = bank_marketing.filter_by(2008,'year')\n",
    "customers = len(bank_marketing_2008[bank_marketing_2008['y']==1])\n",
    "prospects = len(bank_marketing_2008[bank_marketing_2008['y']==0])\n",
    "print 'Number of examples in year segment [bank_marketing]: %d' % len(bank_marketing_2008)\n",
    "print 'Number of existent customers: %d (%.2f%%)' % (customers, 100*customers/float(len(bank_marketing_2008)))\n",
    "print 'Number of prospects: %d (%.2f%%)\\n' % (prospects, 100*prospects/float(len(bank_marketing_2008)))"
   ]
  },
  {
   "cell_type": "code",
   "execution_count": 13,
   "metadata": {
    "collapsed": false
   },
   "outputs": [
    {
     "data": {
      "text/plain": [
       "dtype: str\n",
       "Rows: 10\n",
       "['03', '04', '05', '06', '07', '08', '09', '10', '11', '12']"
      ]
     },
     "execution_count": 13,
     "metadata": {},
     "output_type": "execute_result"
    }
   ],
   "source": [
    "bank_marketing.filter_by(2009,'year')['month_nr'].unique().sort()"
   ]
  },
  {
   "cell_type": "code",
   "execution_count": 14,
   "metadata": {
    "collapsed": false
   },
   "outputs": [
    {
     "name": "stdout",
     "output_type": "stream",
     "text": [
      "Full Data Set [year: 2009]:\n",
      "------------------------------\n",
      "Number of examples in year segment [bank_marketing]: 11440\n",
      "Number of existent customers: 2228 (19.48%)\n",
      "Number of prospects: 9212 (80.52%)\n",
      "\n"
     ]
    }
   ],
   "source": [
    "print 'Full Data Set [year: 2009]:'\n",
    "print '------------------------------'\n",
    "bank_marketing_2009 = bank_marketing.filter_by(2009,'year')\n",
    "customers = len(bank_marketing_2009[bank_marketing_2009['y']==1])\n",
    "prospects = len(bank_marketing_2009[bank_marketing_2009['y']==0])\n",
    "print 'Number of examples in year segment [bank_marketing]: %d' % len(bank_marketing_2009)\n",
    "print 'Number of existent customers: %d (%.2f%%)' % (customers, 100*customers/float(len(bank_marketing_2009)))\n",
    "print 'Number of prospects: %d (%.2f%%)\\n' % (prospects, 100*prospects/float(len(bank_marketing_2009)))"
   ]
  },
  {
   "cell_type": "code",
   "execution_count": 15,
   "metadata": {
    "collapsed": false
   },
   "outputs": [
    {
     "data": {
      "text/plain": [
       "dtype: str\n",
       "Rows: 9\n",
       "['03', '04', '05', '06', '07', '08', '09', '10', '11']"
      ]
     },
     "execution_count": 15,
     "metadata": {},
     "output_type": "execute_result"
    }
   ],
   "source": [
    "bank_marketing.filter_by(2010,'year')['month_nr'].unique().sort()"
   ]
  },
  {
   "cell_type": "code",
   "execution_count": 16,
   "metadata": {
    "collapsed": false
   },
   "outputs": [
    {
     "name": "stdout",
     "output_type": "stream",
     "text": [
      "Full Data Set [year: 2010]:\n",
      "------------------------------\n",
      "Number of examples in year segment [bank_marketing]: 2058\n",
      "Number of existent customers: 1073 (52.14%)\n",
      "Number of prospects: 985 (47.86%)\n"
     ]
    }
   ],
   "source": [
    "print 'Full Data Set [year: 2010]:'\n",
    "print '------------------------------'\n",
    "bank_marketing_2010 = bank_marketing.filter_by(2010,'year')\n",
    "customers = len(bank_marketing_2010[bank_marketing_2010['y']==1])\n",
    "prospects = len(bank_marketing_2010[bank_marketing_2010['y']==0])\n",
    "print 'Number of examples in year segment [bank_marketing]: %d' % len(bank_marketing_2010)\n",
    "print 'Number of existent customers: %d (%.2f%%)' % (customers, 100*customers/float(len(bank_marketing_2010)))\n",
    "print 'Number of prospects: %d (%.2f%%)' % (prospects, 100*prospects/float(len(bank_marketing_2010)))"
   ]
  },
  {
   "cell_type": "markdown",
   "metadata": {},
   "source": [
    "In order to evaluate our learning algorithms later, we need to make a **train/test split** of the **`bank_marketing` SFrame**. However, due to the *class imbalance* which is observed in contacts' response (it has much more **prospects** than original **customers**), we better do so in a stratified way."
   ]
  },
  {
   "cell_type": "code",
   "execution_count": 17,
   "metadata": {
    "collapsed": false
   },
   "outputs": [],
   "source": [
    "## remove the time dimension of the problem\n",
    "## transform the Timeseries object in a Numpy array\n",
    "bank_marketing = bank_marketing.to_sframe().remove_column('date')\n",
    "features = bank_marketing.column_names()\n",
    "bank_marketing_np = bank_marketing.to_numpy()\n",
    "\n",
    "## provide the stratified train/test split\n",
    "skf = StratifiedKFold(bank_marketing['y'], n_folds=2, shuffle=True, random_state=1)\n",
    "\n",
    "for train_idx, test_idx in skf:\n",
    "    train, test = bank_marketing_np[train_idx], bank_marketing_np[test_idx]\n",
    "\n",
    "train = pd.DataFrame(train, index=train_idx, columns=features)\n",
    "train = gl.SFrame(train, format='dataframe')\n",
    "test = pd.DataFrame(test, index=test_idx, columns=features)\n",
    "test = gl.SFrame(test, format='dataframe')\n",
    "\n",
    "## restore original dtypes\n",
    "for attrib in features:\n",
    "    train[attrib] = train[attrib].astype(bank_marketing[attrib].dtype())\n",
    "    test[attrib] = test[attrib].astype(bank_marketing[attrib].dtype())"
   ]
  },
  {
   "cell_type": "code",
   "execution_count": 18,
   "metadata": {
    "collapsed": false
   },
   "outputs": [
    {
     "name": "stdout",
     "output_type": "stream",
     "text": [
      "Training Data Set:\n",
      "---------------------\n",
      "Number of examples in training set [train]: 20594\n",
      "Number of existent customers: 2320 (11.27%)\n",
      "Number of prospects: 18274 (88.73%)\n",
      "\n",
      "Test Data Set:\n",
      "-----------------\n",
      "Number of examples in validation set [test]: 20594\n",
      "Number of existent customers: 2320 (11.27%)\n",
      "Number of prospects: 18274 (88.73%)\n"
     ]
    }
   ],
   "source": [
    "print 'Training Data Set:'\n",
    "print '---------------------'\n",
    "train_customers = len(train[train['y']==1])\n",
    "train_prospects = len(train[train['y']==0])\n",
    "print 'Number of examples in training set [train]: %d' % len(train)\n",
    "print 'Number of existent customers: %d (%.2f%%)' % (train_customers, 100*train_customers/float(len(train)))\n",
    "print 'Number of prospects: %d (%.2f%%)\\n' % (train_prospects, 100*train_prospects/float(len(train)))\n",
    "\n",
    "print 'Test Data Set:'\n",
    "print '-----------------'\n",
    "test_customers = len(test[test['y']==1])\n",
    "test_prospects = len(test[test['y']==0])\n",
    "print 'Number of examples in validation set [test]: %d' % len(test)\n",
    "print 'Number of existent customers: %d (%.2f%%)' % (test_customers, 100*test_customers/float(len(test)))\n",
    "print 'Number of prospects: %d (%.2f%%)' % (test_prospects, 100*test_prospects/float(len(test)))"
   ]
  },
  {
   "cell_type": "markdown",
   "metadata": {},
   "source": [
    "## ROI Calculation: Classical Use Case\n",
    "\n",
    "### Measuring the effectiveness of our lead scoring model"
   ]
  },
  {
   "cell_type": "markdown",
   "metadata": {},
   "source": [
    "Before we start, let's assume that each phone call to a contact costs **1 USD** and that the **customer lifetime value** for a contact that purchases a term deposit is **100 USD**. Then the **ROI** for calling all the customers in our training dataset is:"
   ]
  },
  {
   "cell_type": "code",
   "execution_count": 19,
   "metadata": {
    "collapsed": true
   },
   "outputs": [],
   "source": [
    "def calc_call_roi(contact_list, lead_score, pct_tocall):\n",
    "    \n",
    "    #assumptions\n",
    "    cost_ofcall = 1.00\n",
    "    cust_ltv = 100.00 #customer lifetime value\n",
    "    \n",
    "    num_calls = int(len(contact_list) * pct_tocall)\n",
    "    \n",
    "    if 'lead_score' in contact_list.column_names():\n",
    "        contact_list.remove_column('lead_score')\n",
    "    \n",
    "    contact_list = contact_list.add_column(lead_score, name='lead_score')\n",
    "    \n",
    "    sorted_bymodel = contact_list.sort('lead_score', ascending=False)\n",
    "    call_list = sorted_bymodel[:num_calls]\n",
    "    num_subscriptions = len(call_list[call_list['y']==1])\n",
    "    \n",
    "    roi = (num_subscriptions * cust_ltv - num_calls * cost_ofcall) / float(num_calls * cost_ofcall)\n",
    "    \n",
    "    return roi"
   ]
  },
  {
   "cell_type": "markdown",
   "metadata": {},
   "source": [
    "### Call everyone (assuming we have the budget & time to do so), ROI is 10.27%"
   ]
  },
  {
   "cell_type": "code",
   "execution_count": 20,
   "metadata": {
    "collapsed": false,
    "scrolled": true
   },
   "outputs": [
    {
     "name": "stdout",
     "output_type": "stream",
     "text": [
      "ROI for calling all contacts [test]: 10.27%\n"
     ]
    }
   ],
   "source": [
    "init_leadscores = gl.SArray([1 for _ in test])\n",
    "init_roi = calc_call_roi(test, init_leadscores, 1)\n",
    "print 'ROI for calling all contacts [test]: %.2f%%' % init_roi"
   ]
  },
  {
   "cell_type": "markdown",
   "metadata": {},
   "source": [
    "## Lead Scoring Modeling\n",
    "\n",
    "## Part 1: Informed Decision\n",
    "\n",
    "## Targeting employed contacts with age less than 38 (median)"
   ]
  },
  {
   "cell_type": "markdown",
   "metadata": {},
   "source": [
    "Usually middle-aged, employed people who have good annual earnings are much better prospects to contact and keep them informed for a new product. Indeed, as shown below 11.27% of the contacts in the training set opened a long-term deposit account, whereas 43.06% of them were employed (but not students) and had age less than 38."
   ]
  },
  {
   "cell_type": "code",
   "execution_count": 22,
   "metadata": {
    "collapsed": false
   },
   "outputs": [
    {
     "name": "stdout",
     "output_type": "stream",
     "text": [
      "11.27% of contacts in training set opened long-term deposit accounts.\n",
      "43.06% of the clients who opened long-term deposit accounts, were employed (but not students) and had age < 38 (median).\n"
     ]
    }
   ],
   "source": [
    "num_customers = float(len(train))\n",
    "numY = gl.Sketch(train['y']).frequency_count(1)\n",
    "print \"%.2f%% of contacts in training set opened long-term deposit accounts.\" % (numY/num_customers * 100.0)\n",
    "\n",
    "median_age = gl.Sketch(train['age']).quantile(0.5)\n",
    "\n",
    "num_purchasing_emp_under_median_age = sum(train.apply(lambda x: 1 if x['age']<median_age \n",
    "                                                      and ((x['job']!='unemployed') & \n",
    "                                                           (x['job']!='student') & \n",
    "                                                           (x['job']!='unknown'))\n",
    "                                                      and x['y']==1 else 0))\n",
    "probY_emp_under_median_age = (num_purchasing_emp_under_median_age / float(numY)) * 100.0\n",
    "\n",
    "print \"%.2f%% of the clients who opened long-term deposit accounts, were employed (but not students) and had age < %d (median).\" % (probY_emp_under_median_age, median_age)"
   ]
  },
  {
   "cell_type": "markdown",
   "metadata": {},
   "source": [
    "### A large proportion of customers who opened deposit accounts were employed (not students), under  38\n",
    "\n",
    "### Target them as leads and measure our ROI: Major improvement, 28.75%"
   ]
  },
  {
   "cell_type": "code",
   "execution_count": 24,
   "metadata": {
    "collapsed": false
   },
   "outputs": [
    {
     "name": "stdout",
     "output_type": "stream",
     "text": [
      "ROI for targeted calls [employed (not students) and age < 38 (median)] to 20% of contacts: 28.75%\n"
     ]
    }
   ],
   "source": [
    "target_leadscore = test.apply(lambda x: 1 if x['age']<median_age\n",
    "                              and ((x['job']!='unemployed') & (x['job']!='student') & (x['job']!='unknown'))\n",
    "                              and x['y']==1 else 0)\n",
    "age_targeting_roi = calc_call_roi(test, target_leadscore, 0.2)\n",
    "print 'ROI for targeted calls [employed (not students) and age < %d (median)] to 20%% of contacts: %.2f%%' % (median_age, age_targeting_roi)"
   ]
  },
  {
   "cell_type": "markdown",
   "metadata": {},
   "source": [
    "**Result:**\n",
    "\n",
    "* **ROI for 20% of targeted contacts (employed and not students, had age < 38): 28.75%**\n",
    "\n",
    "* **Major improvement over the ROI achieved by calling EVERYONE in list**\n",
    "\n",
    "* **Calling everyone in list does not have greater ROI!**"
   ]
  },
  {
   "cell_type": "markdown",
   "metadata": {},
   "source": [
    "## Part 2: Train a Machine Learning model instead\n",
    "\n",
    "## Learn from ALL features, not just age or status of employment\n",
    "\n",
    "### GraphLab Create AutoML to choose the most effective classifer model automatically!"
   ]
  },
  {
   "cell_type": "markdown",
   "metadata": {},
   "source": [
    "Dato's classifier toolkit can choose the most effective classifier model automatically."
   ]
  },
  {
   "cell_type": "code",
   "execution_count": 23,
   "metadata": {
    "collapsed": false,
    "slideshow": {
     "slide_type": "slide"
    }
   },
   "outputs": [
    {
     "data": {
      "text/html": [
       "<pre>External memory mode: 1 batches</pre>"
      ],
      "text/plain": [
       "External memory mode: 1 batches"
      ]
     },
     "metadata": {},
     "output_type": "display_data"
    },
    {
     "data": {
      "text/html": [
       "<pre>External memory mode: 1 batches</pre>"
      ],
      "text/plain": [
       "External memory mode: 1 batches"
      ]
     },
     "metadata": {},
     "output_type": "display_data"
    },
    {
     "data": {
      "text/html": [
       "<pre>Boosted trees classifier:</pre>"
      ],
      "text/plain": [
       "Boosted trees classifier:"
      ]
     },
     "metadata": {},
     "output_type": "display_data"
    },
    {
     "data": {
      "text/html": [
       "<pre>--------------------------------------------------------</pre>"
      ],
      "text/plain": [
       "--------------------------------------------------------"
      ]
     },
     "metadata": {},
     "output_type": "display_data"
    },
    {
     "data": {
      "text/html": [
       "<pre>Number of examples          : 19590</pre>"
      ],
      "text/plain": [
       "Number of examples          : 19590"
      ]
     },
     "metadata": {},
     "output_type": "display_data"
    },
    {
     "data": {
      "text/html": [
       "<pre>Number of classes           : 2</pre>"
      ],
      "text/plain": [
       "Number of classes           : 2"
      ]
     },
     "metadata": {},
     "output_type": "display_data"
    },
    {
     "data": {
      "text/html": [
       "<pre>Number of feature columns   : 19</pre>"
      ],
      "text/plain": [
       "Number of feature columns   : 19"
      ]
     },
     "metadata": {},
     "output_type": "display_data"
    },
    {
     "data": {
      "text/html": [
       "<pre>Number of unpacked features : 19</pre>"
      ],
      "text/plain": [
       "Number of unpacked features : 19"
      ]
     },
     "metadata": {},
     "output_type": "display_data"
    },
    {
     "data": {
      "text/html": [
       "<pre>Create disk column page 1/1</pre>"
      ],
      "text/plain": [
       "Create disk column page 1/1"
      ]
     },
     "metadata": {},
     "output_type": "display_data"
    },
    {
     "data": {
      "text/html": [
       "<pre>+-----------+--------------+-------------------+-------------------+---------------------+---------------------+</pre>"
      ],
      "text/plain": [
       "+-----------+--------------+-------------------+-------------------+---------------------+---------------------+"
      ]
     },
     "metadata": {},
     "output_type": "display_data"
    },
    {
     "data": {
      "text/html": [
       "<pre>| Iteration | Elapsed Time | Training-accuracy | Training-log_loss | Validation-accuracy | Validation-log_loss |</pre>"
      ],
      "text/plain": [
       "| Iteration | Elapsed Time | Training-accuracy | Training-log_loss | Validation-accuracy | Validation-log_loss |"
      ]
     },
     "metadata": {},
     "output_type": "display_data"
    },
    {
     "data": {
      "text/html": [
       "<pre>+-----------+--------------+-------------------+-------------------+---------------------+---------------------+</pre>"
      ],
      "text/plain": [
       "+-----------+--------------+-------------------+-------------------+---------------------+---------------------+"
      ]
     },
     "metadata": {},
     "output_type": "display_data"
    },
    {
     "data": {
      "text/html": [
       "<pre>| 1         | 0.371507     | 0.906687          | 0.513880          | 0.894422            | 0.518177            |</pre>"
      ],
      "text/plain": [
       "| 1         | 0.371507     | 0.906687          | 0.513880          | 0.894422            | 0.518177            |"
      ]
     },
     "metadata": {},
     "output_type": "display_data"
    },
    {
     "data": {
      "text/html": [
       "<pre>| 2         | 0.723152     | 0.908167          | 0.416551          | 0.897410            | 0.424971            |</pre>"
      ],
      "text/plain": [
       "| 2         | 0.723152     | 0.908167          | 0.416551          | 0.897410            | 0.424971            |"
      ]
     },
     "metadata": {},
     "output_type": "display_data"
    },
    {
     "data": {
      "text/html": [
       "<pre>| 3         | 1.121408     | 0.909035          | 0.358208          | 0.898406            | 0.367687            |</pre>"
      ],
      "text/plain": [
       "| 3         | 1.121408     | 0.909035          | 0.358208          | 0.898406            | 0.367687            |"
      ]
     },
     "metadata": {},
     "output_type": "display_data"
    },
    {
     "data": {
      "text/html": [
       "<pre>| 4         | 1.502393     | 0.909648          | 0.321132          | 0.891434            | 0.332011            |</pre>"
      ],
      "text/plain": [
       "| 4         | 1.502393     | 0.909648          | 0.321132          | 0.891434            | 0.332011            |"
      ]
     },
     "metadata": {},
     "output_type": "display_data"
    },
    {
     "data": {
      "text/html": [
       "<pre>| 5         | 1.863628     | 0.909393          | 0.297110          | 0.892430            | 0.309859            |</pre>"
      ],
      "text/plain": [
       "| 5         | 1.863628     | 0.909393          | 0.297110          | 0.892430            | 0.309859            |"
      ]
     },
     "metadata": {},
     "output_type": "display_data"
    },
    {
     "data": {
      "text/html": [
       "<pre>| 6         | 2.235585     | 0.909546          | 0.281510          | 0.895418            | 0.296247            |</pre>"
      ],
      "text/plain": [
       "| 6         | 2.235585     | 0.909546          | 0.281510          | 0.895418            | 0.296247            |"
      ]
     },
     "metadata": {},
     "output_type": "display_data"
    },
    {
     "data": {
      "text/html": [
       "<pre>| 10        | 3.863795     | 0.910720          | 0.255432          | 0.896414            | 0.274298            |</pre>"
      ],
      "text/plain": [
       "| 10        | 3.863795     | 0.910720          | 0.255432          | 0.896414            | 0.274298            |"
      ]
     },
     "metadata": {},
     "output_type": "display_data"
    },
    {
     "data": {
      "text/html": [
       "<pre>+-----------+--------------+-------------------+-------------------+---------------------+---------------------+</pre>"
      ],
      "text/plain": [
       "+-----------+--------------+-------------------+-------------------+---------------------+---------------------+"
      ]
     },
     "metadata": {},
     "output_type": "display_data"
    },
    {
     "data": {
      "text/html": [
       "<pre>External memory mode: 1 batches</pre>"
      ],
      "text/plain": [
       "External memory mode: 1 batches"
      ]
     },
     "metadata": {},
     "output_type": "display_data"
    },
    {
     "data": {
      "text/html": [
       "<pre>External memory mode: 1 batches</pre>"
      ],
      "text/plain": [
       "External memory mode: 1 batches"
      ]
     },
     "metadata": {},
     "output_type": "display_data"
    },
    {
     "data": {
      "text/html": [
       "<pre>Random forest classifier:</pre>"
      ],
      "text/plain": [
       "Random forest classifier:"
      ]
     },
     "metadata": {},
     "output_type": "display_data"
    },
    {
     "data": {
      "text/html": [
       "<pre>--------------------------------------------------------</pre>"
      ],
      "text/plain": [
       "--------------------------------------------------------"
      ]
     },
     "metadata": {},
     "output_type": "display_data"
    },
    {
     "data": {
      "text/html": [
       "<pre>Number of examples          : 19590</pre>"
      ],
      "text/plain": [
       "Number of examples          : 19590"
      ]
     },
     "metadata": {},
     "output_type": "display_data"
    },
    {
     "data": {
      "text/html": [
       "<pre>Number of classes           : 2</pre>"
      ],
      "text/plain": [
       "Number of classes           : 2"
      ]
     },
     "metadata": {},
     "output_type": "display_data"
    },
    {
     "data": {
      "text/html": [
       "<pre>Number of feature columns   : 19</pre>"
      ],
      "text/plain": [
       "Number of feature columns   : 19"
      ]
     },
     "metadata": {},
     "output_type": "display_data"
    },
    {
     "data": {
      "text/html": [
       "<pre>Number of unpacked features : 19</pre>"
      ],
      "text/plain": [
       "Number of unpacked features : 19"
      ]
     },
     "metadata": {},
     "output_type": "display_data"
    },
    {
     "data": {
      "text/html": [
       "<pre>Create disk column page 1/1</pre>"
      ],
      "text/plain": [
       "Create disk column page 1/1"
      ]
     },
     "metadata": {},
     "output_type": "display_data"
    },
    {
     "data": {
      "text/html": [
       "<pre>+-----------+--------------+-------------------+-------------------+---------------------+---------------------+</pre>"
      ],
      "text/plain": [
       "+-----------+--------------+-------------------+-------------------+---------------------+---------------------+"
      ]
     },
     "metadata": {},
     "output_type": "display_data"
    },
    {
     "data": {
      "text/html": [
       "<pre>| Iteration | Elapsed Time | Training-accuracy | Training-log_loss | Validation-accuracy | Validation-log_loss |</pre>"
      ],
      "text/plain": [
       "| Iteration | Elapsed Time | Training-accuracy | Training-log_loss | Validation-accuracy | Validation-log_loss |"
      ]
     },
     "metadata": {},
     "output_type": "display_data"
    },
    {
     "data": {
      "text/html": [
       "<pre>+-----------+--------------+-------------------+-------------------+---------------------+---------------------+</pre>"
      ],
      "text/plain": [
       "+-----------+--------------+-------------------+-------------------+---------------------+---------------------+"
      ]
     },
     "metadata": {},
     "output_type": "display_data"
    },
    {
     "data": {
      "text/html": [
       "<pre>| 1         | 0.315220     | 0.904390          | 0.307124          | 0.894422            | 0.319115            |</pre>"
      ],
      "text/plain": [
       "| 1         | 0.315220     | 0.904390          | 0.307124          | 0.894422            | 0.319115            |"
      ]
     },
     "metadata": {},
     "output_type": "display_data"
    },
    {
     "data": {
      "text/html": [
       "<pre>| 2         | 0.654153     | 0.906381          | 0.304510          | 0.898406            | 0.317740            |</pre>"
      ],
      "text/plain": [
       "| 2         | 0.654153     | 0.906381          | 0.304510          | 0.898406            | 0.317740            |"
      ]
     },
     "metadata": {},
     "output_type": "display_data"
    },
    {
     "data": {
      "text/html": [
       "<pre>| 3         | 0.983775     | 0.906177          | 0.303580          | 0.897410            | 0.316289            |</pre>"
      ],
      "text/plain": [
       "| 3         | 0.983775     | 0.906177          | 0.303580          | 0.897410            | 0.316289            |"
      ]
     },
     "metadata": {},
     "output_type": "display_data"
    },
    {
     "data": {
      "text/html": [
       "<pre>| 4         | 1.309633     | 0.907198          | 0.303119          | 0.892430            | 0.316431            |</pre>"
      ],
      "text/plain": [
       "| 4         | 1.309633     | 0.907198          | 0.303119          | 0.892430            | 0.316431            |"
      ]
     },
     "metadata": {},
     "output_type": "display_data"
    },
    {
     "data": {
      "text/html": [
       "<pre>| 5         | 1.622859     | 0.906840          | 0.303355          | 0.892430            | 0.315837            |</pre>"
      ],
      "text/plain": [
       "| 5         | 1.622859     | 0.906840          | 0.303355          | 0.892430            | 0.315837            |"
      ]
     },
     "metadata": {},
     "output_type": "display_data"
    },
    {
     "data": {
      "text/html": [
       "<pre>| 6         | 1.955672     | 0.907044          | 0.303177          | 0.893426            | 0.315777            |</pre>"
      ],
      "text/plain": [
       "| 6         | 1.955672     | 0.907044          | 0.303177          | 0.893426            | 0.315777            |"
      ]
     },
     "metadata": {},
     "output_type": "display_data"
    },
    {
     "data": {
      "text/html": [
       "<pre>| 10        | 3.255839     | 0.906585          | 0.302888          | 0.896414            | 0.315177            |</pre>"
      ],
      "text/plain": [
       "| 10        | 3.255839     | 0.906585          | 0.302888          | 0.896414            | 0.315177            |"
      ]
     },
     "metadata": {},
     "output_type": "display_data"
    },
    {
     "data": {
      "text/html": [
       "<pre>+-----------+--------------+-------------------+-------------------+---------------------+---------------------+</pre>"
      ],
      "text/plain": [
       "+-----------+--------------+-------------------+-------------------+---------------------+---------------------+"
      ]
     },
     "metadata": {},
     "output_type": "display_data"
    },
    {
     "data": {
      "text/html": [
       "<pre>External memory mode: 1 batches</pre>"
      ],
      "text/plain": [
       "External memory mode: 1 batches"
      ]
     },
     "metadata": {},
     "output_type": "display_data"
    },
    {
     "data": {
      "text/html": [
       "<pre>External memory mode: 1 batches</pre>"
      ],
      "text/plain": [
       "External memory mode: 1 batches"
      ]
     },
     "metadata": {},
     "output_type": "display_data"
    },
    {
     "data": {
      "text/html": [
       "<pre>Decision tree classifier:</pre>"
      ],
      "text/plain": [
       "Decision tree classifier:"
      ]
     },
     "metadata": {},
     "output_type": "display_data"
    },
    {
     "data": {
      "text/html": [
       "<pre>--------------------------------------------------------</pre>"
      ],
      "text/plain": [
       "--------------------------------------------------------"
      ]
     },
     "metadata": {},
     "output_type": "display_data"
    },
    {
     "data": {
      "text/html": [
       "<pre>Number of examples          : 19590</pre>"
      ],
      "text/plain": [
       "Number of examples          : 19590"
      ]
     },
     "metadata": {},
     "output_type": "display_data"
    },
    {
     "data": {
      "text/html": [
       "<pre>Number of classes           : 2</pre>"
      ],
      "text/plain": [
       "Number of classes           : 2"
      ]
     },
     "metadata": {},
     "output_type": "display_data"
    },
    {
     "data": {
      "text/html": [
       "<pre>Number of feature columns   : 19</pre>"
      ],
      "text/plain": [
       "Number of feature columns   : 19"
      ]
     },
     "metadata": {},
     "output_type": "display_data"
    },
    {
     "data": {
      "text/html": [
       "<pre>Number of unpacked features : 19</pre>"
      ],
      "text/plain": [
       "Number of unpacked features : 19"
      ]
     },
     "metadata": {},
     "output_type": "display_data"
    },
    {
     "data": {
      "text/html": [
       "<pre>Create disk column page 1/1</pre>"
      ],
      "text/plain": [
       "Create disk column page 1/1"
      ]
     },
     "metadata": {},
     "output_type": "display_data"
    },
    {
     "data": {
      "text/html": [
       "<pre>+-----------+--------------+-------------------+-------------------+---------------------+---------------------+</pre>"
      ],
      "text/plain": [
       "+-----------+--------------+-------------------+-------------------+---------------------+---------------------+"
      ]
     },
     "metadata": {},
     "output_type": "display_data"
    },
    {
     "data": {
      "text/html": [
       "<pre>| Iteration | Elapsed Time | Training-accuracy | Training-log_loss | Validation-accuracy | Validation-log_loss |</pre>"
      ],
      "text/plain": [
       "| Iteration | Elapsed Time | Training-accuracy | Training-log_loss | Validation-accuracy | Validation-log_loss |"
      ]
     },
     "metadata": {},
     "output_type": "display_data"
    },
    {
     "data": {
      "text/html": [
       "<pre>+-----------+--------------+-------------------+-------------------+---------------------+---------------------+</pre>"
      ],
      "text/plain": [
       "+-----------+--------------+-------------------+-------------------+---------------------+---------------------+"
      ]
     },
     "metadata": {},
     "output_type": "display_data"
    },
    {
     "data": {
      "text/html": [
       "<pre>| 1         | 0.366580     | 0.906687          | 0.513880          | 0.894422            | 0.518177            |</pre>"
      ],
      "text/plain": [
       "| 1         | 0.366580     | 0.906687          | 0.513880          | 0.894422            | 0.518177            |"
      ]
     },
     "metadata": {},
     "output_type": "display_data"
    },
    {
     "data": {
      "text/html": [
       "<pre>+-----------+--------------+-------------------+-------------------+---------------------+---------------------+</pre>"
      ],
      "text/plain": [
       "+-----------+--------------+-------------------+-------------------+---------------------+---------------------+"
      ]
     },
     "metadata": {},
     "output_type": "display_data"
    },
    {
     "data": {
      "text/html": [
       "<pre>SVM:</pre>"
      ],
      "text/plain": [
       "SVM:"
      ]
     },
     "metadata": {},
     "output_type": "display_data"
    },
    {
     "data": {
      "text/html": [
       "<pre>--------------------------------------------------------</pre>"
      ],
      "text/plain": [
       "--------------------------------------------------------"
      ]
     },
     "metadata": {},
     "output_type": "display_data"
    },
    {
     "data": {
      "text/html": [
       "<pre>Number of examples          : 19590</pre>"
      ],
      "text/plain": [
       "Number of examples          : 19590"
      ]
     },
     "metadata": {},
     "output_type": "display_data"
    },
    {
     "data": {
      "text/html": [
       "<pre>Number of classes           : 2</pre>"
      ],
      "text/plain": [
       "Number of classes           : 2"
      ]
     },
     "metadata": {},
     "output_type": "display_data"
    },
    {
     "data": {
      "text/html": [
       "<pre>Number of feature columns   : 19</pre>"
      ],
      "text/plain": [
       "Number of feature columns   : 19"
      ]
     },
     "metadata": {},
     "output_type": "display_data"
    },
    {
     "data": {
      "text/html": [
       "<pre>Number of unpacked features : 19</pre>"
      ],
      "text/plain": [
       "Number of unpacked features : 19"
      ]
     },
     "metadata": {},
     "output_type": "display_data"
    },
    {
     "data": {
      "text/html": [
       "<pre>Number of coefficients    : 53</pre>"
      ],
      "text/plain": [
       "Number of coefficients    : 53"
      ]
     },
     "metadata": {},
     "output_type": "display_data"
    },
    {
     "data": {
      "text/html": [
       "<pre>Starting L-BFGS</pre>"
      ],
      "text/plain": [
       "Starting L-BFGS"
      ]
     },
     "metadata": {},
     "output_type": "display_data"
    },
    {
     "data": {
      "text/html": [
       "<pre>--------------------------------------------------------</pre>"
      ],
      "text/plain": [
       "--------------------------------------------------------"
      ]
     },
     "metadata": {},
     "output_type": "display_data"
    },
    {
     "data": {
      "text/html": [
       "<pre>+-----------+----------+-----------+--------------+-------------------+---------------------+</pre>"
      ],
      "text/plain": [
       "+-----------+----------+-----------+--------------+-------------------+---------------------+"
      ]
     },
     "metadata": {},
     "output_type": "display_data"
    },
    {
     "data": {
      "text/html": [
       "<pre>| Iteration | Passes   | Step size | Elapsed Time | Training-accuracy | Validation-accuracy |</pre>"
      ],
      "text/plain": [
       "| Iteration | Passes   | Step size | Elapsed Time | Training-accuracy | Validation-accuracy |"
      ]
     },
     "metadata": {},
     "output_type": "display_data"
    },
    {
     "data": {
      "text/html": [
       "<pre>+-----------+----------+-----------+--------------+-------------------+---------------------+</pre>"
      ],
      "text/plain": [
       "+-----------+----------+-----------+--------------+-------------------+---------------------+"
      ]
     },
     "metadata": {},
     "output_type": "display_data"
    },
    {
     "data": {
      "text/html": [
       "<pre>| 1         | 4        | 0.000026  | 0.130114     | 0.887034          | 0.893426            |</pre>"
      ],
      "text/plain": [
       "| 1         | 4        | 0.000026  | 0.130114     | 0.887034          | 0.893426            |"
      ]
     },
     "metadata": {},
     "output_type": "display_data"
    },
    {
     "data": {
      "text/html": [
       "<pre>| 2         | 7        | 5.000000  | 0.223343     | 0.894232          | 0.882470            |</pre>"
      ],
      "text/plain": [
       "| 2         | 7        | 5.000000  | 0.223343     | 0.894232          | 0.882470            |"
      ]
     },
     "metadata": {},
     "output_type": "display_data"
    },
    {
     "data": {
      "text/html": [
       "<pre>| 3         | 8        | 5.000000  | 0.274143     | 0.113017          | 0.106574            |</pre>"
      ],
      "text/plain": [
       "| 3         | 8        | 5.000000  | 0.274143     | 0.113017          | 0.106574            |"
      ]
     },
     "metadata": {},
     "output_type": "display_data"
    },
    {
     "data": {
      "text/html": [
       "<pre>| 4         | 10       | 1.000000  | 0.357703     | 0.893466          | 0.887450            |</pre>"
      ],
      "text/plain": [
       "| 4         | 10       | 1.000000  | 0.357703     | 0.893466          | 0.887450            |"
      ]
     },
     "metadata": {},
     "output_type": "display_data"
    },
    {
     "data": {
      "text/html": [
       "<pre>| 5         | 11       | 1.000000  | 0.418430     | 0.887443          | 0.894422            |</pre>"
      ],
      "text/plain": [
       "| 5         | 11       | 1.000000  | 0.418430     | 0.887443          | 0.894422            |"
      ]
     },
     "metadata": {},
     "output_type": "display_data"
    },
    {
     "data": {
      "text/html": [
       "<pre>| 6         | 16       | 2.000000  | 0.556632     | 0.895661          | 0.892430            |</pre>"
      ],
      "text/plain": [
       "| 6         | 16       | 2.000000  | 0.556632     | 0.895661          | 0.892430            |"
      ]
     },
     "metadata": {},
     "output_type": "display_data"
    },
    {
     "data": {
      "text/html": [
       "<pre>+-----------+----------+-----------+--------------+-------------------+---------------------+</pre>"
      ],
      "text/plain": [
       "+-----------+----------+-----------+--------------+-------------------+---------------------+"
      ]
     },
     "metadata": {},
     "output_type": "display_data"
    },
    {
     "data": {
      "text/html": [
       "<pre>TERMINATED: Iteration limit reached.</pre>"
      ],
      "text/plain": [
       "TERMINATED: Iteration limit reached."
      ]
     },
     "metadata": {},
     "output_type": "display_data"
    },
    {
     "data": {
      "text/html": [
       "<pre>This model may not be optimal. To improve it, consider increasing `max_iterations`.</pre>"
      ],
      "text/plain": [
       "This model may not be optimal. To improve it, consider increasing `max_iterations`."
      ]
     },
     "metadata": {},
     "output_type": "display_data"
    },
    {
     "data": {
      "text/html": [
       "<pre>Logistic regression:</pre>"
      ],
      "text/plain": [
       "Logistic regression:"
      ]
     },
     "metadata": {},
     "output_type": "display_data"
    },
    {
     "data": {
      "text/html": [
       "<pre>--------------------------------------------------------</pre>"
      ],
      "text/plain": [
       "--------------------------------------------------------"
      ]
     },
     "metadata": {},
     "output_type": "display_data"
    },
    {
     "data": {
      "text/html": [
       "<pre>Number of examples          : 19590</pre>"
      ],
      "text/plain": [
       "Number of examples          : 19590"
      ]
     },
     "metadata": {},
     "output_type": "display_data"
    },
    {
     "data": {
      "text/html": [
       "<pre>Number of classes           : 2</pre>"
      ],
      "text/plain": [
       "Number of classes           : 2"
      ]
     },
     "metadata": {},
     "output_type": "display_data"
    },
    {
     "data": {
      "text/html": [
       "<pre>Number of feature columns   : 19</pre>"
      ],
      "text/plain": [
       "Number of feature columns   : 19"
      ]
     },
     "metadata": {},
     "output_type": "display_data"
    },
    {
     "data": {
      "text/html": [
       "<pre>Number of unpacked features : 19</pre>"
      ],
      "text/plain": [
       "Number of unpacked features : 19"
      ]
     },
     "metadata": {},
     "output_type": "display_data"
    },
    {
     "data": {
      "text/html": [
       "<pre>Number of coefficients    : 53</pre>"
      ],
      "text/plain": [
       "Number of coefficients    : 53"
      ]
     },
     "metadata": {},
     "output_type": "display_data"
    },
    {
     "data": {
      "text/html": [
       "<pre>Starting Newton Method</pre>"
      ],
      "text/plain": [
       "Starting Newton Method"
      ]
     },
     "metadata": {},
     "output_type": "display_data"
    },
    {
     "data": {
      "text/html": [
       "<pre>--------------------------------------------------------</pre>"
      ],
      "text/plain": [
       "--------------------------------------------------------"
      ]
     },
     "metadata": {},
     "output_type": "display_data"
    },
    {
     "data": {
      "text/html": [
       "<pre>+-----------+----------+--------------+-------------------+---------------------+</pre>"
      ],
      "text/plain": [
       "+-----------+----------+--------------+-------------------+---------------------+"
      ]
     },
     "metadata": {},
     "output_type": "display_data"
    },
    {
     "data": {
      "text/html": [
       "<pre>| Iteration | Passes   | Elapsed Time | Training-accuracy | Validation-accuracy |</pre>"
      ],
      "text/plain": [
       "| Iteration | Passes   | Elapsed Time | Training-accuracy | Validation-accuracy |"
      ]
     },
     "metadata": {},
     "output_type": "display_data"
    },
    {
     "data": {
      "text/html": [
       "<pre>+-----------+----------+--------------+-------------------+---------------------+</pre>"
      ],
      "text/plain": [
       "+-----------+----------+--------------+-------------------+---------------------+"
      ]
     },
     "metadata": {},
     "output_type": "display_data"
    },
    {
     "data": {
      "text/html": [
       "<pre>| 1         | 2        | 0.493707     | 0.901072          | 0.896414            |</pre>"
      ],
      "text/plain": [
       "| 1         | 2        | 0.493707     | 0.901072          | 0.896414            |"
      ]
     },
     "metadata": {},
     "output_type": "display_data"
    },
    {
     "data": {
      "text/html": [
       "<pre>| 2         | 3        | 0.728375     | 0.901174          | 0.896414            |</pre>"
      ],
      "text/plain": [
       "| 2         | 3        | 0.728375     | 0.901174          | 0.896414            |"
      ]
     },
     "metadata": {},
     "output_type": "display_data"
    },
    {
     "data": {
      "text/html": [
       "<pre>| 3         | 4        | 0.972774     | 0.901225          | 0.895418            |</pre>"
      ],
      "text/plain": [
       "| 3         | 4        | 0.972774     | 0.901225          | 0.895418            |"
      ]
     },
     "metadata": {},
     "output_type": "display_data"
    },
    {
     "data": {
      "text/html": [
       "<pre>| 4         | 5        | 1.212193     | 0.901174          | 0.896414            |</pre>"
      ],
      "text/plain": [
       "| 4         | 5        | 1.212193     | 0.901174          | 0.896414            |"
      ]
     },
     "metadata": {},
     "output_type": "display_data"
    },
    {
     "data": {
      "text/html": [
       "<pre>| 5         | 6        | 1.448106     | 0.901174          | 0.896414            |</pre>"
      ],
      "text/plain": [
       "| 5         | 6        | 1.448106     | 0.901174          | 0.896414            |"
      ]
     },
     "metadata": {},
     "output_type": "display_data"
    },
    {
     "data": {
      "text/html": [
       "<pre>| 6         | 7        | 1.693367     | 0.901174          | 0.896414            |</pre>"
      ],
      "text/plain": [
       "| 6         | 7        | 1.693367     | 0.901174          | 0.896414            |"
      ]
     },
     "metadata": {},
     "output_type": "display_data"
    },
    {
     "data": {
      "text/html": [
       "<pre>+-----------+----------+--------------+-------------------+---------------------+</pre>"
      ],
      "text/plain": [
       "+-----------+----------+--------------+-------------------+---------------------+"
      ]
     },
     "metadata": {},
     "output_type": "display_data"
    },
    {
     "data": {
      "text/html": [
       "<pre>SUCCESS: Optimal solution found.</pre>"
      ],
      "text/plain": [
       "SUCCESS: Optimal solution found."
      ]
     },
     "metadata": {},
     "output_type": "display_data"
    },
    {
     "data": {
      "text/html": [
       "<pre></pre>"
      ],
      "text/plain": []
     },
     "metadata": {},
     "output_type": "display_data"
    },
    {
     "name": "stdout",
     "output_type": "stream",
     "text": [
      "PROGRESS: Creating a validation set from 5 percent of training data. This may take a while.\n",
      "          You can set ``validation_set=None`` to disable validation tracking.\n",
      "\n",
      "PROGRESS: The following methods are available for this type of problem.\n",
      "PROGRESS: BoostedTreesClassifier, RandomForestClassifier, DecisionTreeClassifier, SVMClassifier, LogisticClassifier\n",
      "PROGRESS: The returned model will be chosen according to validation accuracy.\n",
      "PROGRESS: Model selection based on validation accuracy:\n",
      "PROGRESS: ---------------------------------------------\n",
      "PROGRESS: BoostedTreesClassifier          : 0.896414339542\n",
      "PROGRESS: RandomForestClassifier          : 0.896414339542\n",
      "PROGRESS: DecisionTreeClassifier          : 0.894422292709\n",
      "PROGRESS: SVMClassifier                   : 0.891434\n",
      "PROGRESS: LogisticClassifier              : 0.896414\n",
      "PROGRESS: ---------------------------------------------\n",
      "PROGRESS: Selecting BoostedTreesClassifier based on validation set performance.\n"
     ]
    }
   ],
   "source": [
    "## remove features that introduce noise in ML prediction\n",
    "features = train.column_names()\n",
    "features.remove('duration')\n",
    "features.remove('y')\n",
    "features.remove('month_nr')\n",
    "features.remove('wkday_nr')\n",
    "features.remove('year')\n",
    "\n",
    "## GLC AutoML Classifier\n",
    "toolkit_model = gl.classifier.create(train, features=features, target='y')"
   ]
  },
  {
   "cell_type": "markdown",
   "metadata": {},
   "source": [
    "The toolkit *automatically* evaluates several types of algorithms, including: **Boosted Trees**, **Random Forests**, **Decision Trees**, **Support Vector Machines**, **Logistic regression** - with intelligent default paramters. Based on a **validation set**, it chooses the *most accurate model* which in our case is a **Boosted Trees Classifier**. We can then evaluate this model on the **`test`** data set."
   ]
  },
  {
   "cell_type": "code",
   "execution_count": 24,
   "metadata": {
    "collapsed": false
   },
   "outputs": [
    {
     "data": {
      "text/html": [
       "<pre>External memory mode: 1 batches</pre>"
      ],
      "text/plain": [
       "External memory mode: 1 batches"
      ]
     },
     "metadata": {},
     "output_type": "display_data"
    },
    {
     "name": "stdout",
     "output_type": "stream",
     "text": [
      "accuracy: 0.90026, precision: 0.65947, recall: 0.23707\n"
     ]
    }
   ],
   "source": [
    "results = toolkit_model.evaluate(test)\n",
    "print \"accuracy: %.5f, precision: %.5f, recall: %.5f\" % (results['accuracy'], results['precision'], results['recall'])"
   ]
  },
  {
   "cell_type": "markdown",
   "metadata": {},
   "source": [
    "This initial model can be considered accurate given that it correctly predicts the purchasing decisions of ~90% of the contacts. However, the **`toolkit_model`** leaves room for improvement. Specifically only ~66% of predicted sales actually convert to sales. Furthermore, only ~24% of actual sales were actually predicted by the model. In order to better understand the model we can review the importance of the input features."
   ]
  },
  {
   "cell_type": "code",
   "execution_count": 25,
   "metadata": {
    "collapsed": false,
    "scrolled": true
   },
   "outputs": [
    {
     "data": {
      "text/html": [
       "<div style=\"max-height:1000px;max-width:1500px;overflow:auto;\"><table frame=\"box\" rules=\"cols\">\n",
       "    <tr>\n",
       "        <th style=\"padding-left: 1em; padding-right: 1em; text-align: center\">name</th>\n",
       "        <th style=\"padding-left: 1em; padding-right: 1em; text-align: center\">index</th>\n",
       "        <th style=\"padding-left: 1em; padding-right: 1em; text-align: center\">count</th>\n",
       "    </tr>\n",
       "    <tr>\n",
       "        <td style=\"padding-left: 1em; padding-right: 1em; text-align: center; vertical-align: top\">age</td>\n",
       "        <td style=\"padding-left: 1em; padding-right: 1em; text-align: center; vertical-align: top\">None</td>\n",
       "        <td style=\"padding-left: 1em; padding-right: 1em; text-align: center; vertical-align: top\">104</td>\n",
       "    </tr>\n",
       "    <tr>\n",
       "        <td style=\"padding-left: 1em; padding-right: 1em; text-align: center; vertical-align: top\">euribor3m</td>\n",
       "        <td style=\"padding-left: 1em; padding-right: 1em; text-align: center; vertical-align: top\">None</td>\n",
       "        <td style=\"padding-left: 1em; padding-right: 1em; text-align: center; vertical-align: top\">60</td>\n",
       "    </tr>\n",
       "    <tr>\n",
       "        <td style=\"padding-left: 1em; padding-right: 1em; text-align: center; vertical-align: top\">campaign</td>\n",
       "        <td style=\"padding-left: 1em; padding-right: 1em; text-align: center; vertical-align: top\">None</td>\n",
       "        <td style=\"padding-left: 1em; padding-right: 1em; text-align: center; vertical-align: top\">39</td>\n",
       "    </tr>\n",
       "    <tr>\n",
       "        <td style=\"padding-left: 1em; padding-right: 1em; text-align: center; vertical-align: top\">pdays</td>\n",
       "        <td style=\"padding-left: 1em; padding-right: 1em; text-align: center; vertical-align: top\">None</td>\n",
       "        <td style=\"padding-left: 1em; padding-right: 1em; text-align: center; vertical-align: top\">21</td>\n",
       "    </tr>\n",
       "    <tr>\n",
       "        <td style=\"padding-left: 1em; padding-right: 1em; text-align: center; vertical-align: top\">day_of_week</td>\n",
       "        <td style=\"padding-left: 1em; padding-right: 1em; text-align: center; vertical-align: top\">mon</td>\n",
       "        <td style=\"padding-left: 1em; padding-right: 1em; text-align: center; vertical-align: top\">19</td>\n",
       "    </tr>\n",
       "    <tr>\n",
       "        <td style=\"padding-left: 1em; padding-right: 1em; text-align: center; vertical-align: top\">contact</td>\n",
       "        <td style=\"padding-left: 1em; padding-right: 1em; text-align: center; vertical-align: top\">telephone</td>\n",
       "        <td style=\"padding-left: 1em; padding-right: 1em; text-align: center; vertical-align: top\">18</td>\n",
       "    </tr>\n",
       "    <tr>\n",
       "        <td style=\"padding-left: 1em; padding-right: 1em; text-align: center; vertical-align: top\">previous</td>\n",
       "        <td style=\"padding-left: 1em; padding-right: 1em; text-align: center; vertical-align: top\">None</td>\n",
       "        <td style=\"padding-left: 1em; padding-right: 1em; text-align: center; vertical-align: top\">15</td>\n",
       "    </tr>\n",
       "    <tr>\n",
       "        <td style=\"padding-left: 1em; padding-right: 1em; text-align: center; vertical-align: top\">cons.price.idx</td>\n",
       "        <td style=\"padding-left: 1em; padding-right: 1em; text-align: center; vertical-align: top\">None</td>\n",
       "        <td style=\"padding-left: 1em; padding-right: 1em; text-align: center; vertical-align: top\">15</td>\n",
       "    </tr>\n",
       "    <tr>\n",
       "        <td style=\"padding-left: 1em; padding-right: 1em; text-align: center; vertical-align: top\">education</td>\n",
       "        <td style=\"padding-left: 1em; padding-right: 1em; text-align: center; vertical-align: top\">university.degree</td>\n",
       "        <td style=\"padding-left: 1em; padding-right: 1em; text-align: center; vertical-align: top\">14</td>\n",
       "    </tr>\n",
       "    <tr>\n",
       "        <td style=\"padding-left: 1em; padding-right: 1em; text-align: center; vertical-align: top\">nr.employed</td>\n",
       "        <td style=\"padding-left: 1em; padding-right: 1em; text-align: center; vertical-align: top\">None</td>\n",
       "        <td style=\"padding-left: 1em; padding-right: 1em; text-align: center; vertical-align: top\">13</td>\n",
       "    </tr>\n",
       "</table>\n",
       "[62 rows x 3 columns]<br/>Note: Only the head of the SFrame is printed.<br/>You can use print_rows(num_rows=m, num_columns=n) to print more rows and columns.\n",
       "</div>"
      ],
      "text/plain": [
       "Columns:\n",
       "\tname\tstr\n",
       "\tindex\tstr\n",
       "\tcount\tint\n",
       "\n",
       "Rows: 62\n",
       "\n",
       "Data:\n",
       "+----------------+-------------------+-------+\n",
       "|      name      |       index       | count |\n",
       "+----------------+-------------------+-------+\n",
       "|      age       |        None       |  104  |\n",
       "|   euribor3m    |        None       |   60  |\n",
       "|    campaign    |        None       |   39  |\n",
       "|     pdays      |        None       |   21  |\n",
       "|  day_of_week   |        mon        |   19  |\n",
       "|    contact     |     telephone     |   18  |\n",
       "|    previous    |        None       |   15  |\n",
       "| cons.price.idx |        None       |   15  |\n",
       "|   education    | university.degree |   14  |\n",
       "|  nr.employed   |        None       |   13  |\n",
       "+----------------+-------------------+-------+\n",
       "[62 rows x 3 columns]\n",
       "Note: Only the head of the SFrame is printed.\n",
       "You can use print_rows(num_rows=m, num_columns=n) to print more rows and columns."
      ]
     },
     "execution_count": 25,
     "metadata": {},
     "output_type": "execute_result"
    }
   ],
   "source": [
    "toolkit_model.get_feature_importance()"
   ]
  },
  {
   "cell_type": "markdown",
   "metadata": {},
   "source": [
    "### Lead score the contact list and measure our ROI: Major improvement again, 34.87%\n",
    "\n",
    "After scoring the list by probability to purchase, the ROI for calling the top 20% of the list is:"
   ]
  },
  {
   "cell_type": "code",
   "execution_count": 26,
   "metadata": {
    "collapsed": false
   },
   "outputs": [
    {
     "data": {
      "text/html": [
       "<pre>External memory mode: 1 batches</pre>"
      ],
      "text/plain": [
       "External memory mode: 1 batches"
      ]
     },
     "metadata": {},
     "output_type": "display_data"
    },
    {
     "name": "stdout",
     "output_type": "stream",
     "text": [
      "ROI for calling 20% of highest predicted contacts: 34.87%\n"
     ]
    }
   ],
   "source": [
    "toolkit_leadscore = toolkit_model.predict(test,output_type='probability')\n",
    "toolkit_roi = calc_call_roi(test, toolkit_leadscore, 0.2 )\n",
    "print 'ROI for calling 20%% of highest predicted contacts: %.2f%%' % toolkit_roi"
   ]
  },
  {
   "cell_type": "markdown",
   "metadata": {},
   "source": [
    "**Result:**\n",
    "\n",
    "* **ROI for 20% of contacts as sorted by the descending lead score which was returned by the AutoML Classifier: 34.87%.** \n",
    "* **Huge improvement (3x greater) over the ROI achieved by calling EVERYONE in list.**\n",
    "* **Improved ROI (6.12% greater) than the ROI achieved by calling 20% of the targeted contacts of Part 1 above (employed, middle-aged people).**"
   ]
  },
  {
   "cell_type": "markdown",
   "metadata": {
    "collapsed": false
   },
   "source": [
    "## Part 3: Tweak the ML Classifier\n",
    "\n",
    "## Adding quadratic interactions, tweak parameters"
   ]
  },
  {
   "cell_type": "markdown",
   "metadata": {},
   "source": [
    "The scatter plots diagrams among the various **`int`** and **`float`** **variables** of the **`train`** data set, and more specifically the four plots below, suggest to investigate if interactions between these features exist:\n",
    "\n",
    "```python\n",
    "qfeatures0 = ['emp.var.rate','cons.price.idx','cons.conf.idx','euribor3m']\n",
    "```"
   ]
  },
  {
   "cell_type": "code",
   "execution_count": 26,
   "metadata": {
    "collapsed": false
   },
   "outputs": [
    {
     "data": {
      "image/png": "[encoded data removed]",
      "text/plain": [
       "<matplotlib.figure.Figure at 0x7fdc9fd62350>"
      ]
     },
     "metadata": {},
     "output_type": "display_data"
    }
   ],
   "source": [
    "import matplotlib.pyplot as plt\n",
    "%matplotlib inline\n",
    "\n",
    "qfeatures0 = ['emp.var.rate','cons.price.idx','cons.conf.idx','euribor3m']\n",
    "\n",
    "plt.figure(figsize=(10,10))\n",
    "subplot_idx = 1\n",
    "for attrib1 in qfeatures0:\n",
    "    for attrib2 in qfeatures0:\n",
    "        if(attrib2 != attrib1):\n",
    "            if subplot_idx < 5:\n",
    "                plt.subplot(2,2,subplot_idx)\n",
    "                plt.scatter(train[attrib1], train[attrib2])\n",
    "                plt.xlabel(attrib1)\n",
    "                plt.ylabel(attrib2)\n",
    "                plt.title('\\'%s\\' vs \\'%s\\'' % (attrib1, attrib2))\n",
    "                subplot_idx +=1\n",
    "plt.show()"
   ]
  },
  {
   "cell_type": "markdown",
   "metadata": {},
   "source": [
    "Next we add **quadratic interactions** between the four features below:\n",
    "\n",
    "```python\n",
    "qfeatures0 = ['emp.var.rate','cons.price.idx','cons.conf.idx','euribor3m']\n",
    "```"
   ]
  },
  {
   "cell_type": "code",
   "execution_count": 27,
   "metadata": {
    "collapsed": false
   },
   "outputs": [],
   "source": [
    "## define a quadratic transformer object\n",
    "quadratic_transformer = gl.feature_engineering.QuadraticFeatures(features=qfeatures0)\n",
    "\n",
    "## fit the quadratic transformer object over the train set\n",
    "quadratic = gl.feature_engineering.create(train, quadratic_transformer)\n",
    "\n",
    "## transform the train data set\n",
    "qtrain = quadratic.transform(train)\n",
    "\n",
    "## remove the features that may worse our predictions\n",
    "qfeatures = qtrain.column_names()\n",
    "qfeatures.remove('duration')\n",
    "qfeatures.remove('y')\n",
    "qfeatures.remove('month_nr')\n",
    "qfeatures.remove('wkday_nr')\n",
    "qfeatures.remove('year')"
   ]
  },
  {
   "cell_type": "code",
   "execution_count": 28,
   "metadata": {
    "collapsed": false
   },
   "outputs": [
    {
     "data": {
      "text/html": [
       "<div style=\"max-height:1000px;max-width:1500px;overflow:auto;\"><table frame=\"box\" rules=\"cols\">\n",
       "    <tr>\n",
       "        <th style=\"padding-left: 1em; padding-right: 1em; text-align: center\">age</th>\n",
       "        <th style=\"padding-left: 1em; padding-right: 1em; text-align: center\">job</th>\n",
       "        <th style=\"padding-left: 1em; padding-right: 1em; text-align: center\">marital</th>\n",
       "        <th style=\"padding-left: 1em; padding-right: 1em; text-align: center\">education</th>\n",
       "        <th style=\"padding-left: 1em; padding-right: 1em; text-align: center\">default</th>\n",
       "        <th style=\"padding-left: 1em; padding-right: 1em; text-align: center\">housing</th>\n",
       "        <th style=\"padding-left: 1em; padding-right: 1em; text-align: center\">loan</th>\n",
       "        <th style=\"padding-left: 1em; padding-right: 1em; text-align: center\">contact</th>\n",
       "        <th style=\"padding-left: 1em; padding-right: 1em; text-align: center\">month</th>\n",
       "        <th style=\"padding-left: 1em; padding-right: 1em; text-align: center\">day_of_week</th>\n",
       "        <th style=\"padding-left: 1em; padding-right: 1em; text-align: center\">duration</th>\n",
       "    </tr>\n",
       "    <tr>\n",
       "        <td style=\"padding-left: 1em; padding-right: 1em; text-align: center; vertical-align: top\">56</td>\n",
       "        <td style=\"padding-left: 1em; padding-right: 1em; text-align: center; vertical-align: top\">housemaid</td>\n",
       "        <td style=\"padding-left: 1em; padding-right: 1em; text-align: center; vertical-align: top\">married</td>\n",
       "        <td style=\"padding-left: 1em; padding-right: 1em; text-align: center; vertical-align: top\">basic.4y</td>\n",
       "        <td style=\"padding-left: 1em; padding-right: 1em; text-align: center; vertical-align: top\">no</td>\n",
       "        <td style=\"padding-left: 1em; padding-right: 1em; text-align: center; vertical-align: top\">no</td>\n",
       "        <td style=\"padding-left: 1em; padding-right: 1em; text-align: center; vertical-align: top\">no</td>\n",
       "        <td style=\"padding-left: 1em; padding-right: 1em; text-align: center; vertical-align: top\">telephone</td>\n",
       "        <td style=\"padding-left: 1em; padding-right: 1em; text-align: center; vertical-align: top\">may</td>\n",
       "        <td style=\"padding-left: 1em; padding-right: 1em; text-align: center; vertical-align: top\">mon</td>\n",
       "        <td style=\"padding-left: 1em; padding-right: 1em; text-align: center; vertical-align: top\">261</td>\n",
       "    </tr>\n",
       "    <tr>\n",
       "        <td style=\"padding-left: 1em; padding-right: 1em; text-align: center; vertical-align: top\">37</td>\n",
       "        <td style=\"padding-left: 1em; padding-right: 1em; text-align: center; vertical-align: top\">services</td>\n",
       "        <td style=\"padding-left: 1em; padding-right: 1em; text-align: center; vertical-align: top\">married</td>\n",
       "        <td style=\"padding-left: 1em; padding-right: 1em; text-align: center; vertical-align: top\">high.school</td>\n",
       "        <td style=\"padding-left: 1em; padding-right: 1em; text-align: center; vertical-align: top\">no</td>\n",
       "        <td style=\"padding-left: 1em; padding-right: 1em; text-align: center; vertical-align: top\">yes</td>\n",
       "        <td style=\"padding-left: 1em; padding-right: 1em; text-align: center; vertical-align: top\">no</td>\n",
       "        <td style=\"padding-left: 1em; padding-right: 1em; text-align: center; vertical-align: top\">telephone</td>\n",
       "        <td style=\"padding-left: 1em; padding-right: 1em; text-align: center; vertical-align: top\">may</td>\n",
       "        <td style=\"padding-left: 1em; padding-right: 1em; text-align: center; vertical-align: top\">mon</td>\n",
       "        <td style=\"padding-left: 1em; padding-right: 1em; text-align: center; vertical-align: top\">226</td>\n",
       "    </tr>\n",
       "    <tr>\n",
       "        <td style=\"padding-left: 1em; padding-right: 1em; text-align: center; vertical-align: top\">40</td>\n",
       "        <td style=\"padding-left: 1em; padding-right: 1em; text-align: center; vertical-align: top\">admin.</td>\n",
       "        <td style=\"padding-left: 1em; padding-right: 1em; text-align: center; vertical-align: top\">married</td>\n",
       "        <td style=\"padding-left: 1em; padding-right: 1em; text-align: center; vertical-align: top\">basic.6y</td>\n",
       "        <td style=\"padding-left: 1em; padding-right: 1em; text-align: center; vertical-align: top\">no</td>\n",
       "        <td style=\"padding-left: 1em; padding-right: 1em; text-align: center; vertical-align: top\">no</td>\n",
       "        <td style=\"padding-left: 1em; padding-right: 1em; text-align: center; vertical-align: top\">no</td>\n",
       "        <td style=\"padding-left: 1em; padding-right: 1em; text-align: center; vertical-align: top\">telephone</td>\n",
       "        <td style=\"padding-left: 1em; padding-right: 1em; text-align: center; vertical-align: top\">may</td>\n",
       "        <td style=\"padding-left: 1em; padding-right: 1em; text-align: center; vertical-align: top\">mon</td>\n",
       "        <td style=\"padding-left: 1em; padding-right: 1em; text-align: center; vertical-align: top\">151</td>\n",
       "    </tr>\n",
       "    <tr>\n",
       "        <td style=\"padding-left: 1em; padding-right: 1em; text-align: center; vertical-align: top\">56</td>\n",
       "        <td style=\"padding-left: 1em; padding-right: 1em; text-align: center; vertical-align: top\">services</td>\n",
       "        <td style=\"padding-left: 1em; padding-right: 1em; text-align: center; vertical-align: top\">married</td>\n",
       "        <td style=\"padding-left: 1em; padding-right: 1em; text-align: center; vertical-align: top\">high.school</td>\n",
       "        <td style=\"padding-left: 1em; padding-right: 1em; text-align: center; vertical-align: top\">no</td>\n",
       "        <td style=\"padding-left: 1em; padding-right: 1em; text-align: center; vertical-align: top\">no</td>\n",
       "        <td style=\"padding-left: 1em; padding-right: 1em; text-align: center; vertical-align: top\">yes</td>\n",
       "        <td style=\"padding-left: 1em; padding-right: 1em; text-align: center; vertical-align: top\">telephone</td>\n",
       "        <td style=\"padding-left: 1em; padding-right: 1em; text-align: center; vertical-align: top\">may</td>\n",
       "        <td style=\"padding-left: 1em; padding-right: 1em; text-align: center; vertical-align: top\">mon</td>\n",
       "        <td style=\"padding-left: 1em; padding-right: 1em; text-align: center; vertical-align: top\">307</td>\n",
       "    </tr>\n",
       "    <tr>\n",
       "        <td style=\"padding-left: 1em; padding-right: 1em; text-align: center; vertical-align: top\">59</td>\n",
       "        <td style=\"padding-left: 1em; padding-right: 1em; text-align: center; vertical-align: top\">admin.</td>\n",
       "        <td style=\"padding-left: 1em; padding-right: 1em; text-align: center; vertical-align: top\">married</td>\n",
       "        <td style=\"padding-left: 1em; padding-right: 1em; text-align: center; vertical-align: top\">professional.course</td>\n",
       "        <td style=\"padding-left: 1em; padding-right: 1em; text-align: center; vertical-align: top\">no</td>\n",
       "        <td style=\"padding-left: 1em; padding-right: 1em; text-align: center; vertical-align: top\">no</td>\n",
       "        <td style=\"padding-left: 1em; padding-right: 1em; text-align: center; vertical-align: top\">no</td>\n",
       "        <td style=\"padding-left: 1em; padding-right: 1em; text-align: center; vertical-align: top\">telephone</td>\n",
       "        <td style=\"padding-left: 1em; padding-right: 1em; text-align: center; vertical-align: top\">may</td>\n",
       "        <td style=\"padding-left: 1em; padding-right: 1em; text-align: center; vertical-align: top\">mon</td>\n",
       "        <td style=\"padding-left: 1em; padding-right: 1em; text-align: center; vertical-align: top\">139</td>\n",
       "    </tr>\n",
       "</table>\n",
       "<table frame=\"box\" rules=\"cols\">\n",
       "    <tr>\n",
       "        <th style=\"padding-left: 1em; padding-right: 1em; text-align: center\">campaign</th>\n",
       "        <th style=\"padding-left: 1em; padding-right: 1em; text-align: center\">pdays</th>\n",
       "        <th style=\"padding-left: 1em; padding-right: 1em; text-align: center\">previous</th>\n",
       "        <th style=\"padding-left: 1em; padding-right: 1em; text-align: center\">poutcome</th>\n",
       "        <th style=\"padding-left: 1em; padding-right: 1em; text-align: center\">emp.var.rate</th>\n",
       "        <th style=\"padding-left: 1em; padding-right: 1em; text-align: center\">cons.price.idx</th>\n",
       "        <th style=\"padding-left: 1em; padding-right: 1em; text-align: center\">cons.conf.idx</th>\n",
       "        <th style=\"padding-left: 1em; padding-right: 1em; text-align: center\">euribor3m</th>\n",
       "        <th style=\"padding-left: 1em; padding-right: 1em; text-align: center\">nr.employed</th>\n",
       "    </tr>\n",
       "    <tr>\n",
       "        <td style=\"padding-left: 1em; padding-right: 1em; text-align: center; vertical-align: top\">1</td>\n",
       "        <td style=\"padding-left: 1em; padding-right: 1em; text-align: center; vertical-align: top\">999</td>\n",
       "        <td style=\"padding-left: 1em; padding-right: 1em; text-align: center; vertical-align: top\">0</td>\n",
       "        <td style=\"padding-left: 1em; padding-right: 1em; text-align: center; vertical-align: top\">nonexistent</td>\n",
       "        <td style=\"padding-left: 1em; padding-right: 1em; text-align: center; vertical-align: top\">1.1</td>\n",
       "        <td style=\"padding-left: 1em; padding-right: 1em; text-align: center; vertical-align: top\">93.994</td>\n",
       "        <td style=\"padding-left: 1em; padding-right: 1em; text-align: center; vertical-align: top\">-36.4</td>\n",
       "        <td style=\"padding-left: 1em; padding-right: 1em; text-align: center; vertical-align: top\">4.857</td>\n",
       "        <td style=\"padding-left: 1em; padding-right: 1em; text-align: center; vertical-align: top\">5191</td>\n",
       "    </tr>\n",
       "    <tr>\n",
       "        <td style=\"padding-left: 1em; padding-right: 1em; text-align: center; vertical-align: top\">1</td>\n",
       "        <td style=\"padding-left: 1em; padding-right: 1em; text-align: center; vertical-align: top\">999</td>\n",
       "        <td style=\"padding-left: 1em; padding-right: 1em; text-align: center; vertical-align: top\">0</td>\n",
       "        <td style=\"padding-left: 1em; padding-right: 1em; text-align: center; vertical-align: top\">nonexistent</td>\n",
       "        <td style=\"padding-left: 1em; padding-right: 1em; text-align: center; vertical-align: top\">1.1</td>\n",
       "        <td style=\"padding-left: 1em; padding-right: 1em; text-align: center; vertical-align: top\">93.994</td>\n",
       "        <td style=\"padding-left: 1em; padding-right: 1em; text-align: center; vertical-align: top\">-36.4</td>\n",
       "        <td style=\"padding-left: 1em; padding-right: 1em; text-align: center; vertical-align: top\">4.857</td>\n",
       "        <td style=\"padding-left: 1em; padding-right: 1em; text-align: center; vertical-align: top\">5191</td>\n",
       "    </tr>\n",
       "    <tr>\n",
       "        <td style=\"padding-left: 1em; padding-right: 1em; text-align: center; vertical-align: top\">1</td>\n",
       "        <td style=\"padding-left: 1em; padding-right: 1em; text-align: center; vertical-align: top\">999</td>\n",
       "        <td style=\"padding-left: 1em; padding-right: 1em; text-align: center; vertical-align: top\">0</td>\n",
       "        <td style=\"padding-left: 1em; padding-right: 1em; text-align: center; vertical-align: top\">nonexistent</td>\n",
       "        <td style=\"padding-left: 1em; padding-right: 1em; text-align: center; vertical-align: top\">1.1</td>\n",
       "        <td style=\"padding-left: 1em; padding-right: 1em; text-align: center; vertical-align: top\">93.994</td>\n",
       "        <td style=\"padding-left: 1em; padding-right: 1em; text-align: center; vertical-align: top\">-36.4</td>\n",
       "        <td style=\"padding-left: 1em; padding-right: 1em; text-align: center; vertical-align: top\">4.857</td>\n",
       "        <td style=\"padding-left: 1em; padding-right: 1em; text-align: center; vertical-align: top\">5191</td>\n",
       "    </tr>\n",
       "    <tr>\n",
       "        <td style=\"padding-left: 1em; padding-right: 1em; text-align: center; vertical-align: top\">1</td>\n",
       "        <td style=\"padding-left: 1em; padding-right: 1em; text-align: center; vertical-align: top\">999</td>\n",
       "        <td style=\"padding-left: 1em; padding-right: 1em; text-align: center; vertical-align: top\">0</td>\n",
       "        <td style=\"padding-left: 1em; padding-right: 1em; text-align: center; vertical-align: top\">nonexistent</td>\n",
       "        <td style=\"padding-left: 1em; padding-right: 1em; text-align: center; vertical-align: top\">1.1</td>\n",
       "        <td style=\"padding-left: 1em; padding-right: 1em; text-align: center; vertical-align: top\">93.994</td>\n",
       "        <td style=\"padding-left: 1em; padding-right: 1em; text-align: center; vertical-align: top\">-36.4</td>\n",
       "        <td style=\"padding-left: 1em; padding-right: 1em; text-align: center; vertical-align: top\">4.857</td>\n",
       "        <td style=\"padding-left: 1em; padding-right: 1em; text-align: center; vertical-align: top\">5191</td>\n",
       "    </tr>\n",
       "    <tr>\n",
       "        <td style=\"padding-left: 1em; padding-right: 1em; text-align: center; vertical-align: top\">1</td>\n",
       "        <td style=\"padding-left: 1em; padding-right: 1em; text-align: center; vertical-align: top\">999</td>\n",
       "        <td style=\"padding-left: 1em; padding-right: 1em; text-align: center; vertical-align: top\">0</td>\n",
       "        <td style=\"padding-left: 1em; padding-right: 1em; text-align: center; vertical-align: top\">nonexistent</td>\n",
       "        <td style=\"padding-left: 1em; padding-right: 1em; text-align: center; vertical-align: top\">1.1</td>\n",
       "        <td style=\"padding-left: 1em; padding-right: 1em; text-align: center; vertical-align: top\">93.994</td>\n",
       "        <td style=\"padding-left: 1em; padding-right: 1em; text-align: center; vertical-align: top\">-36.4</td>\n",
       "        <td style=\"padding-left: 1em; padding-right: 1em; text-align: center; vertical-align: top\">4.857</td>\n",
       "        <td style=\"padding-left: 1em; padding-right: 1em; text-align: center; vertical-align: top\">5191</td>\n",
       "    </tr>\n",
       "</table>\n",
       "<table frame=\"box\" rules=\"cols\">\n",
       "    <tr>\n",
       "        <th style=\"padding-left: 1em; padding-right: 1em; text-align: center\">y</th>\n",
       "        <th style=\"padding-left: 1em; padding-right: 1em; text-align: center\">month_nr</th>\n",
       "        <th style=\"padding-left: 1em; padding-right: 1em; text-align: center\">wkday_nr</th>\n",
       "        <th style=\"padding-left: 1em; padding-right: 1em; text-align: center\">year</th>\n",
       "        <th style=\"padding-left: 1em; padding-right: 1em; text-align: center\">quadratic_features</th>\n",
       "    </tr>\n",
       "    <tr>\n",
       "        <td style=\"padding-left: 1em; padding-right: 1em; text-align: center; vertical-align: top\">0</td>\n",
       "        <td style=\"padding-left: 1em; padding-right: 1em; text-align: center; vertical-align: top\">05</td>\n",
       "        <td style=\"padding-left: 1em; padding-right: 1em; text-align: center; vertical-align: top\">1</td>\n",
       "        <td style=\"padding-left: 1em; padding-right: 1em; text-align: center; vertical-align: top\">2008</td>\n",
       "        <td style=\"padding-left: 1em; padding-right: 1em; text-align: center; vertical-align: top\">{'cons.price.idx,<br>euribor3m': 456.528858, ...</td>\n",
       "    </tr>\n",
       "    <tr>\n",
       "        <td style=\"padding-left: 1em; padding-right: 1em; text-align: center; vertical-align: top\">0</td>\n",
       "        <td style=\"padding-left: 1em; padding-right: 1em; text-align: center; vertical-align: top\">05</td>\n",
       "        <td style=\"padding-left: 1em; padding-right: 1em; text-align: center; vertical-align: top\">1</td>\n",
       "        <td style=\"padding-left: 1em; padding-right: 1em; text-align: center; vertical-align: top\">2008</td>\n",
       "        <td style=\"padding-left: 1em; padding-right: 1em; text-align: center; vertical-align: top\">{'cons.price.idx,<br>euribor3m': 456.528858, ...</td>\n",
       "    </tr>\n",
       "    <tr>\n",
       "        <td style=\"padding-left: 1em; padding-right: 1em; text-align: center; vertical-align: top\">0</td>\n",
       "        <td style=\"padding-left: 1em; padding-right: 1em; text-align: center; vertical-align: top\">05</td>\n",
       "        <td style=\"padding-left: 1em; padding-right: 1em; text-align: center; vertical-align: top\">1</td>\n",
       "        <td style=\"padding-left: 1em; padding-right: 1em; text-align: center; vertical-align: top\">2008</td>\n",
       "        <td style=\"padding-left: 1em; padding-right: 1em; text-align: center; vertical-align: top\">{'cons.price.idx,<br>euribor3m': 456.528858, ...</td>\n",
       "    </tr>\n",
       "    <tr>\n",
       "        <td style=\"padding-left: 1em; padding-right: 1em; text-align: center; vertical-align: top\">0</td>\n",
       "        <td style=\"padding-left: 1em; padding-right: 1em; text-align: center; vertical-align: top\">05</td>\n",
       "        <td style=\"padding-left: 1em; padding-right: 1em; text-align: center; vertical-align: top\">1</td>\n",
       "        <td style=\"padding-left: 1em; padding-right: 1em; text-align: center; vertical-align: top\">2008</td>\n",
       "        <td style=\"padding-left: 1em; padding-right: 1em; text-align: center; vertical-align: top\">{'cons.price.idx,<br>euribor3m': 456.528858, ...</td>\n",
       "    </tr>\n",
       "    <tr>\n",
       "        <td style=\"padding-left: 1em; padding-right: 1em; text-align: center; vertical-align: top\">0</td>\n",
       "        <td style=\"padding-left: 1em; padding-right: 1em; text-align: center; vertical-align: top\">05</td>\n",
       "        <td style=\"padding-left: 1em; padding-right: 1em; text-align: center; vertical-align: top\">1</td>\n",
       "        <td style=\"padding-left: 1em; padding-right: 1em; text-align: center; vertical-align: top\">2008</td>\n",
       "        <td style=\"padding-left: 1em; padding-right: 1em; text-align: center; vertical-align: top\">{'cons.price.idx,<br>euribor3m': 456.528858, ...</td>\n",
       "    </tr>\n",
       "</table>\n",
       "[5 rows x 25 columns]<br/>\n",
       "</div>"
      ],
      "text/plain": [
       "Columns:\n",
       "\tage\tint\n",
       "\tjob\tstr\n",
       "\tmarital\tstr\n",
       "\teducation\tstr\n",
       "\tdefault\tstr\n",
       "\thousing\tstr\n",
       "\tloan\tstr\n",
       "\tcontact\tstr\n",
       "\tmonth\tstr\n",
       "\tday_of_week\tstr\n",
       "\tduration\tint\n",
       "\tcampaign\tint\n",
       "\tpdays\tint\n",
       "\tprevious\tint\n",
       "\tpoutcome\tstr\n",
       "\temp.var.rate\tfloat\n",
       "\tcons.price.idx\tfloat\n",
       "\tcons.conf.idx\tfloat\n",
       "\teuribor3m\tfloat\n",
       "\tnr.employed\tint\n",
       "\ty\tint\n",
       "\tmonth_nr\tstr\n",
       "\twkday_nr\tstr\n",
       "\tyear\tint\n",
       "\tquadratic_features\tdict\n",
       "\n",
       "Rows: 5\n",
       "\n",
       "Data:\n",
       "+-----+-----------+---------+---------------------+---------+---------+------+\n",
       "| age |    job    | marital |      education      | default | housing | loan |\n",
       "+-----+-----------+---------+---------------------+---------+---------+------+\n",
       "|  56 | housemaid | married |       basic.4y      |    no   |    no   |  no  |\n",
       "|  37 |  services | married |     high.school     |    no   |   yes   |  no  |\n",
       "|  40 |   admin.  | married |       basic.6y      |    no   |    no   |  no  |\n",
       "|  56 |  services | married |     high.school     |    no   |    no   | yes  |\n",
       "|  59 |   admin.  | married | professional.course |    no   |    no   |  no  |\n",
       "+-----+-----------+---------+---------------------+---------+---------+------+\n",
       "+-----------+-------+-------------+----------+----------+-------+----------+\n",
       "|  contact  | month | day_of_week | duration | campaign | pdays | previous |\n",
       "+-----------+-------+-------------+----------+----------+-------+----------+\n",
       "| telephone |  may  |     mon     |   261    |    1     |  999  |    0     |\n",
       "| telephone |  may  |     mon     |   226    |    1     |  999  |    0     |\n",
       "| telephone |  may  |     mon     |   151    |    1     |  999  |    0     |\n",
       "| telephone |  may  |     mon     |   307    |    1     |  999  |    0     |\n",
       "| telephone |  may  |     mon     |   139    |    1     |  999  |    0     |\n",
       "+-----------+-------+-------------+----------+----------+-------+----------+\n",
       "+-------------+--------------+----------------+---------------+-----------+-------------+-----+\n",
       "|   poutcome  | emp.var.rate | cons.price.idx | cons.conf.idx | euribor3m | nr.employed | ... |\n",
       "+-------------+--------------+----------------+---------------+-----------+-------------+-----+\n",
       "| nonexistent |     1.1      |     93.994     |     -36.4     |   4.857   |     5191    | ... |\n",
       "| nonexistent |     1.1      |     93.994     |     -36.4     |   4.857   |     5191    | ... |\n",
       "| nonexistent |     1.1      |     93.994     |     -36.4     |   4.857   |     5191    | ... |\n",
       "| nonexistent |     1.1      |     93.994     |     -36.4     |   4.857   |     5191    | ... |\n",
       "| nonexistent |     1.1      |     93.994     |     -36.4     |   4.857   |     5191    | ... |\n",
       "+-------------+--------------+----------------+---------------+-----------+-------------+-----+\n",
       "[5 rows x 25 columns]"
      ]
     },
     "execution_count": 28,
     "metadata": {},
     "output_type": "execute_result"
    }
   ],
   "source": [
    "qtrain.head(5)"
   ]
  },
  {
   "cell_type": "markdown",
   "metadata": {},
   "source": [
    "and *re-train* the **GraphLab Create AutoML Classifier** for this new data set **qtrain**."
   ]
  },
  {
   "cell_type": "code",
   "execution_count": 38,
   "metadata": {
    "collapsed": false
   },
   "outputs": [
    {
     "data": {
      "text/html": [
       "<pre>External memory mode: 1 batches</pre>"
      ],
      "text/plain": [
       "External memory mode: 1 batches"
      ]
     },
     "metadata": {},
     "output_type": "display_data"
    },
    {
     "data": {
      "text/html": [
       "<pre>External memory mode: 1 batches</pre>"
      ],
      "text/plain": [
       "External memory mode: 1 batches"
      ]
     },
     "metadata": {},
     "output_type": "display_data"
    },
    {
     "data": {
      "text/html": [
       "<pre>Boosted trees classifier:</pre>"
      ],
      "text/plain": [
       "Boosted trees classifier:"
      ]
     },
     "metadata": {},
     "output_type": "display_data"
    },
    {
     "data": {
      "text/html": [
       "<pre>--------------------------------------------------------</pre>"
      ],
      "text/plain": [
       "--------------------------------------------------------"
      ]
     },
     "metadata": {},
     "output_type": "display_data"
    },
    {
     "data": {
      "text/html": [
       "<pre>Number of examples          : 19555</pre>"
      ],
      "text/plain": [
       "Number of examples          : 19555"
      ]
     },
     "metadata": {},
     "output_type": "display_data"
    },
    {
     "data": {
      "text/html": [
       "<pre>Number of classes           : 2</pre>"
      ],
      "text/plain": [
       "Number of classes           : 2"
      ]
     },
     "metadata": {},
     "output_type": "display_data"
    },
    {
     "data": {
      "text/html": [
       "<pre>Number of feature columns   : 20</pre>"
      ],
      "text/plain": [
       "Number of feature columns   : 20"
      ]
     },
     "metadata": {},
     "output_type": "display_data"
    },
    {
     "data": {
      "text/html": [
       "<pre>Number of unpacked features : 29</pre>"
      ],
      "text/plain": [
       "Number of unpacked features : 29"
      ]
     },
     "metadata": {},
     "output_type": "display_data"
    },
    {
     "data": {
      "text/html": [
       "<pre>Create disk column page 1/1</pre>"
      ],
      "text/plain": [
       "Create disk column page 1/1"
      ]
     },
     "metadata": {},
     "output_type": "display_data"
    },
    {
     "data": {
      "text/html": [
       "<pre>+-----------+--------------+-------------------+-------------------+---------------------+---------------------+</pre>"
      ],
      "text/plain": [
       "+-----------+--------------+-------------------+-------------------+---------------------+---------------------+"
      ]
     },
     "metadata": {},
     "output_type": "display_data"
    },
    {
     "data": {
      "text/html": [
       "<pre>| Iteration | Elapsed Time | Training-accuracy | Training-log_loss | Validation-accuracy | Validation-log_loss |</pre>"
      ],
      "text/plain": [
       "| Iteration | Elapsed Time | Training-accuracy | Training-log_loss | Validation-accuracy | Validation-log_loss |"
      ]
     },
     "metadata": {},
     "output_type": "display_data"
    },
    {
     "data": {
      "text/html": [
       "<pre>+-----------+--------------+-------------------+-------------------+---------------------+---------------------+</pre>"
      ],
      "text/plain": [
       "+-----------+--------------+-------------------+-------------------+---------------------+---------------------+"
      ]
     },
     "metadata": {},
     "output_type": "display_data"
    },
    {
     "data": {
      "text/html": [
       "<pre>| 1         | 0.581459     | 0.905651          | 0.514996          | 0.901829            | 0.515365            |</pre>"
      ],
      "text/plain": [
       "| 1         | 0.581459     | 0.905651          | 0.514996          | 0.901829            | 0.515365            |"
      ]
     },
     "metadata": {},
     "output_type": "display_data"
    },
    {
     "data": {
      "text/html": [
       "<pre>| 2         | 1.166788     | 0.907543          | 0.417796          | 0.904716            | 0.417690            |</pre>"
      ],
      "text/plain": [
       "| 2         | 1.166788     | 0.907543          | 0.417796          | 0.904716            | 0.417690            |"
      ]
     },
     "metadata": {},
     "output_type": "display_data"
    },
    {
     "data": {
      "text/html": [
       "<pre>| 3         | 1.724620     | 0.909588          | 0.358957          | 0.906641            | 0.358746            |</pre>"
      ],
      "text/plain": [
       "| 3         | 1.724620     | 0.909588          | 0.358957          | 0.906641            | 0.358746            |"
      ]
     },
     "metadata": {},
     "output_type": "display_data"
    },
    {
     "data": {
      "text/html": [
       "<pre>| 4         | 2.241803     | 0.909588          | 0.321567          | 0.905679            | 0.320723            |</pre>"
      ],
      "text/plain": [
       "| 4         | 2.241803     | 0.909588          | 0.321567          | 0.905679            | 0.320723            |"
      ]
     },
     "metadata": {},
     "output_type": "display_data"
    },
    {
     "data": {
      "text/html": [
       "<pre>| 5         | 2.800809     | 0.909793          | 0.296847          | 0.903754            | 0.294955            |</pre>"
      ],
      "text/plain": [
       "| 5         | 2.800809     | 0.909793          | 0.296847          | 0.903754            | 0.294955            |"
      ]
     },
     "metadata": {},
     "output_type": "display_data"
    },
    {
     "data": {
      "text/html": [
       "<pre>| 6         | 3.385532     | 0.909997          | 0.280859          | 0.909528            | 0.279289            |</pre>"
      ],
      "text/plain": [
       "| 6         | 3.385532     | 0.909997          | 0.280859          | 0.909528            | 0.279289            |"
      ]
     },
     "metadata": {},
     "output_type": "display_data"
    },
    {
     "data": {
      "text/html": [
       "<pre>| 10        | 5.639960     | 0.911020          | 0.254782          | 0.909528            | 0.258142            |</pre>"
      ],
      "text/plain": [
       "| 10        | 5.639960     | 0.911020          | 0.254782          | 0.909528            | 0.258142            |"
      ]
     },
     "metadata": {},
     "output_type": "display_data"
    },
    {
     "data": {
      "text/html": [
       "<pre>+-----------+--------------+-------------------+-------------------+---------------------+---------------------+</pre>"
      ],
      "text/plain": [
       "+-----------+--------------+-------------------+-------------------+---------------------+---------------------+"
      ]
     },
     "metadata": {},
     "output_type": "display_data"
    },
    {
     "data": {
      "text/html": [
       "<pre>External memory mode: 1 batches</pre>"
      ],
      "text/plain": [
       "External memory mode: 1 batches"
      ]
     },
     "metadata": {},
     "output_type": "display_data"
    },
    {
     "data": {
      "text/html": [
       "<pre>External memory mode: 1 batches</pre>"
      ],
      "text/plain": [
       "External memory mode: 1 batches"
      ]
     },
     "metadata": {},
     "output_type": "display_data"
    },
    {
     "data": {
      "text/html": [
       "<pre>Random forest classifier:</pre>"
      ],
      "text/plain": [
       "Random forest classifier:"
      ]
     },
     "metadata": {},
     "output_type": "display_data"
    },
    {
     "data": {
      "text/html": [
       "<pre>--------------------------------------------------------</pre>"
      ],
      "text/plain": [
       "--------------------------------------------------------"
      ]
     },
     "metadata": {},
     "output_type": "display_data"
    },
    {
     "data": {
      "text/html": [
       "<pre>Number of examples          : 19555</pre>"
      ],
      "text/plain": [
       "Number of examples          : 19555"
      ]
     },
     "metadata": {},
     "output_type": "display_data"
    },
    {
     "data": {
      "text/html": [
       "<pre>Number of classes           : 2</pre>"
      ],
      "text/plain": [
       "Number of classes           : 2"
      ]
     },
     "metadata": {},
     "output_type": "display_data"
    },
    {
     "data": {
      "text/html": [
       "<pre>Number of feature columns   : 20</pre>"
      ],
      "text/plain": [
       "Number of feature columns   : 20"
      ]
     },
     "metadata": {},
     "output_type": "display_data"
    },
    {
     "data": {
      "text/html": [
       "<pre>Number of unpacked features : 29</pre>"
      ],
      "text/plain": [
       "Number of unpacked features : 29"
      ]
     },
     "metadata": {},
     "output_type": "display_data"
    },
    {
     "data": {
      "text/html": [
       "<pre>Create disk column page 1/1</pre>"
      ],
      "text/plain": [
       "Create disk column page 1/1"
      ]
     },
     "metadata": {},
     "output_type": "display_data"
    },
    {
     "data": {
      "text/html": [
       "<pre>+-----------+--------------+-------------------+-------------------+---------------------+---------------------+</pre>"
      ],
      "text/plain": [
       "+-----------+--------------+-------------------+-------------------+---------------------+---------------------+"
      ]
     },
     "metadata": {},
     "output_type": "display_data"
    },
    {
     "data": {
      "text/html": [
       "<pre>| Iteration | Elapsed Time | Training-accuracy | Training-log_loss | Validation-accuracy | Validation-log_loss |</pre>"
      ],
      "text/plain": [
       "| Iteration | Elapsed Time | Training-accuracy | Training-log_loss | Validation-accuracy | Validation-log_loss |"
      ]
     },
     "metadata": {},
     "output_type": "display_data"
    },
    {
     "data": {
      "text/html": [
       "<pre>+-----------+--------------+-------------------+-------------------+---------------------+---------------------+</pre>"
      ],
      "text/plain": [
       "+-----------+--------------+-------------------+-------------------+---------------------+---------------------+"
      ]
     },
     "metadata": {},
     "output_type": "display_data"
    },
    {
     "data": {
      "text/html": [
       "<pre>| 1         | 0.492449     | 0.905293          | 0.306434          | 0.907603            | 0.296367            |</pre>"
      ],
      "text/plain": [
       "| 1         | 0.492449     | 0.905293          | 0.306434          | 0.907603            | 0.296367            |"
      ]
     },
     "metadata": {},
     "output_type": "display_data"
    },
    {
     "data": {
      "text/html": [
       "<pre>| 2         | 1.010088     | 0.907236          | 0.303651          | 0.900866            | 0.297267            |</pre>"
      ],
      "text/plain": [
       "| 2         | 1.010088     | 0.907236          | 0.303651          | 0.900866            | 0.297267            |"
      ]
     },
     "metadata": {},
     "output_type": "display_data"
    },
    {
     "data": {
      "text/html": [
       "<pre>| 3         | 1.534677     | 0.907441          | 0.303144          | 0.906641            | 0.296146            |</pre>"
      ],
      "text/plain": [
       "| 3         | 1.534677     | 0.907441          | 0.303144          | 0.906641            | 0.296146            |"
      ]
     },
     "metadata": {},
     "output_type": "display_data"
    },
    {
     "data": {
      "text/html": [
       "<pre>| 4         | 2.068758     | 0.907747          | 0.303054          | 0.905679            | 0.297135            |</pre>"
      ],
      "text/plain": [
       "| 4         | 2.068758     | 0.907747          | 0.303054          | 0.905679            | 0.297135            |"
      ]
     },
     "metadata": {},
     "output_type": "display_data"
    },
    {
     "data": {
      "text/html": [
       "<pre>| 5         | 2.633881     | 0.907031          | 0.303153          | 0.907603            | 0.297140            |</pre>"
      ],
      "text/plain": [
       "| 5         | 2.633881     | 0.907031          | 0.303153          | 0.907603            | 0.297140            |"
      ]
     },
     "metadata": {},
     "output_type": "display_data"
    },
    {
     "data": {
      "text/html": [
       "<pre>| 6         | 3.176735     | 0.906009          | 0.303430          | 0.907603            | 0.296610            |</pre>"
      ],
      "text/plain": [
       "| 6         | 3.176735     | 0.906009          | 0.303430          | 0.907603            | 0.296610            |"
      ]
     },
     "metadata": {},
     "output_type": "display_data"
    },
    {
     "data": {
      "text/html": [
       "<pre>| 10        | 5.243992     | 0.905753          | 0.303351          | 0.907603            | 0.297765            |</pre>"
      ],
      "text/plain": [
       "| 10        | 5.243992     | 0.905753          | 0.303351          | 0.907603            | 0.297765            |"
      ]
     },
     "metadata": {},
     "output_type": "display_data"
    },
    {
     "data": {
      "text/html": [
       "<pre>+-----------+--------------+-------------------+-------------------+---------------------+---------------------+</pre>"
      ],
      "text/plain": [
       "+-----------+--------------+-------------------+-------------------+---------------------+---------------------+"
      ]
     },
     "metadata": {},
     "output_type": "display_data"
    },
    {
     "data": {
      "text/html": [
       "<pre>External memory mode: 1 batches</pre>"
      ],
      "text/plain": [
       "External memory mode: 1 batches"
      ]
     },
     "metadata": {},
     "output_type": "display_data"
    },
    {
     "data": {
      "text/html": [
       "<pre>External memory mode: 1 batches</pre>"
      ],
      "text/plain": [
       "External memory mode: 1 batches"
      ]
     },
     "metadata": {},
     "output_type": "display_data"
    },
    {
     "data": {
      "text/html": [
       "<pre>Decision tree classifier:</pre>"
      ],
      "text/plain": [
       "Decision tree classifier:"
      ]
     },
     "metadata": {},
     "output_type": "display_data"
    },
    {
     "data": {
      "text/html": [
       "<pre>--------------------------------------------------------</pre>"
      ],
      "text/plain": [
       "--------------------------------------------------------"
      ]
     },
     "metadata": {},
     "output_type": "display_data"
    },
    {
     "data": {
      "text/html": [
       "<pre>Number of examples          : 19555</pre>"
      ],
      "text/plain": [
       "Number of examples          : 19555"
      ]
     },
     "metadata": {},
     "output_type": "display_data"
    },
    {
     "data": {
      "text/html": [
       "<pre>Number of classes           : 2</pre>"
      ],
      "text/plain": [
       "Number of classes           : 2"
      ]
     },
     "metadata": {},
     "output_type": "display_data"
    },
    {
     "data": {
      "text/html": [
       "<pre>Number of feature columns   : 20</pre>"
      ],
      "text/plain": [
       "Number of feature columns   : 20"
      ]
     },
     "metadata": {},
     "output_type": "display_data"
    },
    {
     "data": {
      "text/html": [
       "<pre>Number of unpacked features : 29</pre>"
      ],
      "text/plain": [
       "Number of unpacked features : 29"
      ]
     },
     "metadata": {},
     "output_type": "display_data"
    },
    {
     "data": {
      "text/html": [
       "<pre>Create disk column page 1/1</pre>"
      ],
      "text/plain": [
       "Create disk column page 1/1"
      ]
     },
     "metadata": {},
     "output_type": "display_data"
    },
    {
     "data": {
      "text/html": [
       "<pre>+-----------+--------------+-------------------+-------------------+---------------------+---------------------+</pre>"
      ],
      "text/plain": [
       "+-----------+--------------+-------------------+-------------------+---------------------+---------------------+"
      ]
     },
     "metadata": {},
     "output_type": "display_data"
    },
    {
     "data": {
      "text/html": [
       "<pre>| Iteration | Elapsed Time | Training-accuracy | Training-log_loss | Validation-accuracy | Validation-log_loss |</pre>"
      ],
      "text/plain": [
       "| Iteration | Elapsed Time | Training-accuracy | Training-log_loss | Validation-accuracy | Validation-log_loss |"
      ]
     },
     "metadata": {},
     "output_type": "display_data"
    },
    {
     "data": {
      "text/html": [
       "<pre>+-----------+--------------+-------------------+-------------------+---------------------+---------------------+</pre>"
      ],
      "text/plain": [
       "+-----------+--------------+-------------------+-------------------+---------------------+---------------------+"
      ]
     },
     "metadata": {},
     "output_type": "display_data"
    },
    {
     "data": {
      "text/html": [
       "<pre>| 1         | 0.607973     | 0.905651          | 0.514996          | 0.901829            | 0.515365            |</pre>"
      ],
      "text/plain": [
       "| 1         | 0.607973     | 0.905651          | 0.514996          | 0.901829            | 0.515365            |"
      ]
     },
     "metadata": {},
     "output_type": "display_data"
    },
    {
     "data": {
      "text/html": [
       "<pre>+-----------+--------------+-------------------+-------------------+---------------------+---------------------+</pre>"
      ],
      "text/plain": [
       "+-----------+--------------+-------------------+-------------------+---------------------+---------------------+"
      ]
     },
     "metadata": {},
     "output_type": "display_data"
    },
    {
     "data": {
      "text/html": [
       "<pre>SVM:</pre>"
      ],
      "text/plain": [
       "SVM:"
      ]
     },
     "metadata": {},
     "output_type": "display_data"
    },
    {
     "data": {
      "text/html": [
       "<pre>--------------------------------------------------------</pre>"
      ],
      "text/plain": [
       "--------------------------------------------------------"
      ]
     },
     "metadata": {},
     "output_type": "display_data"
    },
    {
     "data": {
      "text/html": [
       "<pre>Number of examples          : 19555</pre>"
      ],
      "text/plain": [
       "Number of examples          : 19555"
      ]
     },
     "metadata": {},
     "output_type": "display_data"
    },
    {
     "data": {
      "text/html": [
       "<pre>Number of classes           : 2</pre>"
      ],
      "text/plain": [
       "Number of classes           : 2"
      ]
     },
     "metadata": {},
     "output_type": "display_data"
    },
    {
     "data": {
      "text/html": [
       "<pre>Number of feature columns   : 20</pre>"
      ],
      "text/plain": [
       "Number of feature columns   : 20"
      ]
     },
     "metadata": {},
     "output_type": "display_data"
    },
    {
     "data": {
      "text/html": [
       "<pre>Number of unpacked features : 29</pre>"
      ],
      "text/plain": [
       "Number of unpacked features : 29"
      ]
     },
     "metadata": {},
     "output_type": "display_data"
    },
    {
     "data": {
      "text/html": [
       "<pre>Number of coefficients    : 63</pre>"
      ],
      "text/plain": [
       "Number of coefficients    : 63"
      ]
     },
     "metadata": {},
     "output_type": "display_data"
    },
    {
     "data": {
      "text/html": [
       "<pre>Starting L-BFGS</pre>"
      ],
      "text/plain": [
       "Starting L-BFGS"
      ]
     },
     "metadata": {},
     "output_type": "display_data"
    },
    {
     "data": {
      "text/html": [
       "<pre>--------------------------------------------------------</pre>"
      ],
      "text/plain": [
       "--------------------------------------------------------"
      ]
     },
     "metadata": {},
     "output_type": "display_data"
    },
    {
     "data": {
      "text/html": [
       "<pre>+-----------+----------+-----------+--------------+-------------------+---------------------+</pre>"
      ],
      "text/plain": [
       "+-----------+----------+-----------+--------------+-------------------+---------------------+"
      ]
     },
     "metadata": {},
     "output_type": "display_data"
    },
    {
     "data": {
      "text/html": [
       "<pre>| Iteration | Passes   | Step size | Elapsed Time | Training-accuracy | Validation-accuracy |</pre>"
      ],
      "text/plain": [
       "| Iteration | Passes   | Step size | Elapsed Time | Training-accuracy | Validation-accuracy |"
      ]
     },
     "metadata": {},
     "output_type": "display_data"
    },
    {
     "data": {
      "text/html": [
       "<pre>+-----------+----------+-----------+--------------+-------------------+---------------------+</pre>"
      ],
      "text/plain": [
       "+-----------+----------+-----------+--------------+-------------------+---------------------+"
      ]
     },
     "metadata": {},
     "output_type": "display_data"
    },
    {
     "data": {
      "text/html": [
       "<pre>| 1         | 4        | 0.000026  | 0.278351     | 0.887343          | 0.887392            |</pre>"
      ],
      "text/plain": [
       "| 1         | 4        | 0.000026  | 0.278351     | 0.887343          | 0.887392            |"
      ]
     },
     "metadata": {},
     "output_type": "display_data"
    },
    {
     "data": {
      "text/html": [
       "<pre>| 2         | 7        | 5.000000  | 0.491244     | 0.889900          | 0.895091            |</pre>"
      ],
      "text/plain": [
       "| 2         | 7        | 5.000000  | 0.491244     | 0.889900          | 0.895091            |"
      ]
     },
     "metadata": {},
     "output_type": "display_data"
    },
    {
     "data": {
      "text/html": [
       "<pre>| 3         | 8        | 5.000000  | 0.602432     | 0.286167          | 0.306064            |</pre>"
      ],
      "text/plain": [
       "| 3         | 8        | 5.000000  | 0.602432     | 0.286167          | 0.306064            |"
      ]
     },
     "metadata": {},
     "output_type": "display_data"
    },
    {
     "data": {
      "text/html": [
       "<pre>| 4         | 10       | 1.000000  | 0.762487     | 0.895525          | 0.898941            |</pre>"
      ],
      "text/plain": [
       "| 4         | 10       | 1.000000  | 0.762487     | 0.895525          | 0.898941            |"
      ]
     },
     "metadata": {},
     "output_type": "display_data"
    },
    {
     "data": {
      "text/html": [
       "<pre>| 5         | 11       | 1.000000  | 0.873770     | 0.895883          | 0.898941            |</pre>"
      ],
      "text/plain": [
       "| 5         | 11       | 1.000000  | 0.873770     | 0.895883          | 0.898941            |"
      ]
     },
     "metadata": {},
     "output_type": "display_data"
    },
    {
     "data": {
      "text/html": [
       "<pre>| 6         | 12       | 1.000000  | 0.986148     | 0.778829          | 0.780558            |</pre>"
      ],
      "text/plain": [
       "| 6         | 12       | 1.000000  | 0.986148     | 0.778829          | 0.780558            |"
      ]
     },
     "metadata": {},
     "output_type": "display_data"
    },
    {
     "data": {
      "text/html": [
       "<pre>| 10        | 18       | 1.000000  | 1.475051     | 0.897929          | 0.902791            |</pre>"
      ],
      "text/plain": [
       "| 10        | 18       | 1.000000  | 1.475051     | 0.897929          | 0.902791            |"
      ]
     },
     "metadata": {},
     "output_type": "display_data"
    },
    {
     "data": {
      "text/html": [
       "<pre>+-----------+----------+-----------+--------------+-------------------+---------------------+</pre>"
      ],
      "text/plain": [
       "+-----------+----------+-----------+--------------+-------------------+---------------------+"
      ]
     },
     "metadata": {},
     "output_type": "display_data"
    },
    {
     "data": {
      "text/html": [
       "<pre>TERMINATED: Iteration limit reached.</pre>"
      ],
      "text/plain": [
       "TERMINATED: Iteration limit reached."
      ]
     },
     "metadata": {},
     "output_type": "display_data"
    },
    {
     "data": {
      "text/html": [
       "<pre>This model may not be optimal. To improve it, consider increasing `max_iterations`.</pre>"
      ],
      "text/plain": [
       "This model may not be optimal. To improve it, consider increasing `max_iterations`."
      ]
     },
     "metadata": {},
     "output_type": "display_data"
    },
    {
     "data": {
      "text/html": [
       "<pre>Logistic regression:</pre>"
      ],
      "text/plain": [
       "Logistic regression:"
      ]
     },
     "metadata": {},
     "output_type": "display_data"
    },
    {
     "data": {
      "text/html": [
       "<pre>--------------------------------------------------------</pre>"
      ],
      "text/plain": [
       "--------------------------------------------------------"
      ]
     },
     "metadata": {},
     "output_type": "display_data"
    },
    {
     "data": {
      "text/html": [
       "<pre>Number of examples          : 19555</pre>"
      ],
      "text/plain": [
       "Number of examples          : 19555"
      ]
     },
     "metadata": {},
     "output_type": "display_data"
    },
    {
     "data": {
      "text/html": [
       "<pre>Number of classes           : 2</pre>"
      ],
      "text/plain": [
       "Number of classes           : 2"
      ]
     },
     "metadata": {},
     "output_type": "display_data"
    },
    {
     "data": {
      "text/html": [
       "<pre>Number of feature columns   : 20</pre>"
      ],
      "text/plain": [
       "Number of feature columns   : 20"
      ]
     },
     "metadata": {},
     "output_type": "display_data"
    },
    {
     "data": {
      "text/html": [
       "<pre>Number of unpacked features : 29</pre>"
      ],
      "text/plain": [
       "Number of unpacked features : 29"
      ]
     },
     "metadata": {},
     "output_type": "display_data"
    },
    {
     "data": {
      "text/html": [
       "<pre>Number of coefficients    : 63</pre>"
      ],
      "text/plain": [
       "Number of coefficients    : 63"
      ]
     },
     "metadata": {},
     "output_type": "display_data"
    },
    {
     "data": {
      "text/html": [
       "<pre>Starting Newton Method</pre>"
      ],
      "text/plain": [
       "Starting Newton Method"
      ]
     },
     "metadata": {},
     "output_type": "display_data"
    },
    {
     "data": {
      "text/html": [
       "<pre>--------------------------------------------------------</pre>"
      ],
      "text/plain": [
       "--------------------------------------------------------"
      ]
     },
     "metadata": {},
     "output_type": "display_data"
    },
    {
     "data": {
      "text/html": [
       "<pre>+-----------+----------+--------------+-------------------+---------------------+</pre>"
      ],
      "text/plain": [
       "+-----------+----------+--------------+-------------------+---------------------+"
      ]
     },
     "metadata": {},
     "output_type": "display_data"
    },
    {
     "data": {
      "text/html": [
       "<pre>| Iteration | Passes   | Elapsed Time | Training-accuracy | Validation-accuracy |</pre>"
      ],
      "text/plain": [
       "| Iteration | Passes   | Elapsed Time | Training-accuracy | Validation-accuracy |"
      ]
     },
     "metadata": {},
     "output_type": "display_data"
    },
    {
     "data": {
      "text/html": [
       "<pre>+-----------+----------+--------------+-------------------+---------------------+</pre>"
      ],
      "text/plain": [
       "+-----------+----------+--------------+-------------------+---------------------+"
      ]
     },
     "metadata": {},
     "output_type": "display_data"
    },
    {
     "data": {
      "text/html": [
       "<pre>| 1         | 2        | 0.378109     | 0.900997          | 0.905679            |</pre>"
      ],
      "text/plain": [
       "| 1         | 2        | 0.378109     | 0.900997          | 0.905679            |"
      ]
     },
     "metadata": {},
     "output_type": "display_data"
    },
    {
     "data": {
      "text/html": [
       "<pre>| 2         | 3        | 0.587097     | 0.901048          | 0.905679            |</pre>"
      ],
      "text/plain": [
       "| 2         | 3        | 0.587097     | 0.901048          | 0.905679            |"
      ]
     },
     "metadata": {},
     "output_type": "display_data"
    },
    {
     "data": {
      "text/html": [
       "<pre>| 3         | 4        | 0.811631     | 0.901662          | 0.905679            |</pre>"
      ],
      "text/plain": [
       "| 3         | 4        | 0.811631     | 0.901662          | 0.905679            |"
      ]
     },
     "metadata": {},
     "output_type": "display_data"
    },
    {
     "data": {
      "text/html": [
       "<pre>| 4         | 5        | 1.014935     | 0.901969          | 0.905679            |</pre>"
      ],
      "text/plain": [
       "| 4         | 5        | 1.014935     | 0.901969          | 0.905679            |"
      ]
     },
     "metadata": {},
     "output_type": "display_data"
    },
    {
     "data": {
      "text/html": [
       "<pre>| 5         | 6        | 1.212924     | 0.901918          | 0.905679            |</pre>"
      ],
      "text/plain": [
       "| 5         | 6        | 1.212924     | 0.901918          | 0.905679            |"
      ]
     },
     "metadata": {},
     "output_type": "display_data"
    },
    {
     "data": {
      "text/html": [
       "<pre>| 6         | 7        | 1.414642     | 0.901918          | 0.905679            |</pre>"
      ],
      "text/plain": [
       "| 6         | 7        | 1.414642     | 0.901918          | 0.905679            |"
      ]
     },
     "metadata": {},
     "output_type": "display_data"
    },
    {
     "data": {
      "text/html": [
       "<pre>+-----------+----------+--------------+-------------------+---------------------+</pre>"
      ],
      "text/plain": [
       "+-----------+----------+--------------+-------------------+---------------------+"
      ]
     },
     "metadata": {},
     "output_type": "display_data"
    },
    {
     "data": {
      "text/html": [
       "<pre>SUCCESS: Optimal solution found.</pre>"
      ],
      "text/plain": [
       "SUCCESS: Optimal solution found."
      ]
     },
     "metadata": {},
     "output_type": "display_data"
    },
    {
     "data": {
      "text/html": [
       "<pre></pre>"
      ],
      "text/plain": []
     },
     "metadata": {},
     "output_type": "display_data"
    },
    {
     "name": "stdout",
     "output_type": "stream",
     "text": [
      "PROGRESS: Creating a validation set from 5 percent of training data. This may take a while.\n",
      "          You can set ``validation_set=None`` to disable validation tracking.\n",
      "\n",
      "PROGRESS: The following methods are available for this type of problem.\n",
      "PROGRESS: BoostedTreesClassifier, RandomForestClassifier, DecisionTreeClassifier, SVMClassifier, LogisticClassifier\n",
      "PROGRESS: The returned model will be chosen according to validation accuracy.\n",
      "PROGRESS: Model selection based on validation accuracy:\n",
      "PROGRESS: ---------------------------------------------\n",
      "PROGRESS: BoostedTreesClassifier          : 0.909528374672\n",
      "PROGRESS: RandomForestClassifier          : 0.907603442669\n",
      "PROGRESS: DecisionTreeClassifier          : 0.901828706264\n",
      "PROGRESS: SVMClassifier                   : 0.902791\n",
      "PROGRESS: LogisticClassifier              : 0.905679\n",
      "PROGRESS: ---------------------------------------------\n",
      "PROGRESS: Selecting BoostedTreesClassifier based on validation set performance.\n"
     ]
    }
   ],
   "source": [
    "new_toolkit_model = gl.classifier.create(qtrain, target='y', features=qfeatures)"
   ]
  },
  {
   "cell_type": "markdown",
   "metadata": {},
   "source": [
    "Next, we evaluate the new **AutoML Classifier**, **`new_toolkit_model`**, on the **`test`** data set."
   ]
  },
  {
   "cell_type": "code",
   "execution_count": 39,
   "metadata": {
    "collapsed": false
   },
   "outputs": [
    {
     "data": {
      "text/html": [
       "<pre>External memory mode: 1 batches</pre>"
      ],
      "text/plain": [
       "External memory mode: 1 batches"
      ]
     },
     "metadata": {},
     "output_type": "display_data"
    },
    {
     "name": "stdout",
     "output_type": "stream",
     "text": [
      "accuracy: 0.90012, precision: 0.65862, recall: 0.23534\n"
     ]
    }
   ],
   "source": [
    "results = new_toolkit_model.evaluate(quadratic.transform(test))\n",
    "print \"accuracy: %.5f, precision: %.5f, recall: %.5f\" % (results['accuracy'], results['precision'], results['recall'])    "
   ]
  },
  {
   "cell_type": "markdown",
   "metadata": {},
   "source": [
    "Note that this model is almost as accurate as the previous one, with similar precision (~66% of the predicted sales were actually converted to sales) and recall (~24% of actual sales were actually predicted by the model). However, to have a better feeling of the model just trained (**`newtoolkit_model`**) and how this differs from the previous one (**`toolkit_model`**), we can review the importance of the input features in these two cases."
   ]
  },
  {
   "cell_type": "code",
   "execution_count": 40,
   "metadata": {
    "collapsed": false
   },
   "outputs": [
    {
     "name": "stdout",
     "output_type": "stream",
     "text": [
      "'newtoolkit_model'\n",
      "[GLC AutoML Classifier wt quadratic interactions]:\n",
      "\n",
      "+--------------------+--------------------------+-------+\n",
      "|        name        |          index           | count |\n",
      "+--------------------+--------------------------+-------+\n",
      "|        age         |           None           |   96  |\n",
      "|     euribor3m      |           None           |   54  |\n",
      "|      campaign      |           None           |   39  |\n",
      "| quadratic_features | emp.var.rate, euribor3m  |   25  |\n",
      "| quadratic_features | cons.conf.idx, euribor3m |   25  |\n",
      "|       pdays        |           None           |   20  |\n",
      "|    day_of_week     |           mon            |   18  |\n",
      "|      contact       |        telephone         |   16  |\n",
      "|      previous      |           None           |   12  |\n",
      "|        job         |         unknown          |   10  |\n",
      "+--------------------+--------------------------+-------+\n",
      "[72 rows x 3 columns]\n",
      "Note: Only the head of the SFrame is printed.\n",
      "You can use print_rows(num_rows=m, num_columns=n) to print more rows and columns.\n"
     ]
    }
   ],
   "source": [
    "print '\\'newtoolkit_model\\'\\n[GLC AutoML Classifier wt quadratic interactions]:\\n'\n",
    "print new_toolkit_model.get_feature_importance()"
   ]
  },
  {
   "cell_type": "code",
   "execution_count": 41,
   "metadata": {
    "collapsed": false
   },
   "outputs": [
    {
     "name": "stdout",
     "output_type": "stream",
     "text": [
      "'toolkit_model'\n",
      "[GLC AutoML Classifier wo quadratic interactions]:\n",
      "\n",
      "+----------------+-------------------+-------+\n",
      "|      name      |       index       | count |\n",
      "+----------------+-------------------+-------+\n",
      "|      age       |        None       |  104  |\n",
      "|   euribor3m    |        None       |   60  |\n",
      "|    campaign    |        None       |   39  |\n",
      "|     pdays      |        None       |   21  |\n",
      "|  day_of_week   |        mon        |   19  |\n",
      "|    contact     |     telephone     |   18  |\n",
      "|    previous    |        None       |   15  |\n",
      "| cons.price.idx |        None       |   15  |\n",
      "|   education    | university.degree |   14  |\n",
      "|  nr.employed   |        None       |   13  |\n",
      "+----------------+-------------------+-------+\n",
      "[62 rows x 3 columns]\n",
      "Note: Only the head of the SFrame is printed.\n",
      "You can use print_rows(num_rows=m, num_columns=n) to print more rows and columns.\n"
     ]
    }
   ],
   "source": [
    "print '\\'toolkit_model\\'\\n[GLC AutoML Classifier wo quadratic interactions]:\\n'\n",
    "print toolkit_model.get_feature_importance()"
   ]
  },
  {
   "cell_type": "markdown",
   "metadata": {},
   "source": [
    "By comparing these two models we note that:\n",
    "\n",
    "1. The **quadratic interactions:**\n",
    "\n",
    "    * **`emp.var.rate`** &lowast; **`euribor3m`**\n",
    "    * **`cons.conf.idx`** &lowast; **`euribor3m`**\n",
    "    \n",
    "    seems to be important if we want to build a more accurate model and they should not be neglected.\n",
    "2. **`age`**, **`euribor3m`** and **`campaign`** features are significant in both cases.\n",
    "3. The number of days that passed by after the client was last contacted from a previous campaign (**`pdays`**), the number of contacts performed before this campaign and for this client (**`previous`**), as well as the channel through which the contact has been made (**`contact: 'telephone'`**) are important for both models.\n",
    "4. The specific **`day_of_week` (`'mon'`)** that the contact has been made seems to be important for both models."
   ]
  },
  {
   "cell_type": "markdown",
   "metadata": {},
   "source": [
    "### Lead score the contact list and measure our ROI: New Improvement achieved, 35.01%\n",
    "\n",
    "As a last step of evaluating the **`newtoolkit_model`**, lets compute our ROI if we again contact the 20% of the leads that this new model scored."
   ]
  },
  {
   "cell_type": "code",
   "execution_count": 42,
   "metadata": {
    "collapsed": false
   },
   "outputs": [
    {
     "data": {
      "text/html": [
       "<pre>External memory mode: 1 batches</pre>"
      ],
      "text/plain": [
       "External memory mode: 1 batches"
      ]
     },
     "metadata": {},
     "output_type": "display_data"
    },
    {
     "name": "stdout",
     "output_type": "stream",
     "text": [
      "ROI for calling predicted contacts: 35.01%\n"
     ]
    }
   ],
   "source": [
    "## show ROI for experimentation model\n",
    "newtoolkit_leadscore = new_toolkit_model.predict(quadratic.transform(test),output_type='probability')\n",
    "newtoolkit_roi = calc_call_roi(quadratic.transform(test), newtoolkit_leadscore, 0.2)\n",
    "print 'ROI for calling predicted contacts: %.2f%%' % newtoolkit_roi"
   ]
  },
  {
   "cell_type": "markdown",
   "metadata": {},
   "source": [
    "**Result:**\n",
    "\n",
    "* **ROI for 20% of the leads returned by the AutoML Classifier [wt quadratic interactions]: 34.87%.**\n",
    "* **Improved ROI (0.14% greater) than the ROI achieved by calling 20% of the leads returned by the AutoML Classifier [wo quadratic interactions].**"
   ]
  },
  {
   "cell_type": "markdown",
   "metadata": {},
   "source": [
    "### GraphLab Create Boosted Trees Classifier: \n",
    "\n",
    "### Contacts' `age` grouping, hyperparameters fine-tuning\n",
    "\n",
    "As it is obvious from the histogram below most of our contacts were between 30 to 36 years old, 4518 contacts were between 36 to 43, 2931 people between 43 to 50 and about 2500 people between 23 to 30 and 50 to 56 years old. The remaining contacts were either younger or older than these ages, but certainly not more than 1000 cases or so in a specific age group. Therefore, grouping the **`age`** values of our contacts into a pre-defined number of bins may be beneficial for the learning algorithm of choice, and may improve the ROI of our telemarketing campaign even further."
   ]
  },
  {
   "cell_type": "code",
   "execution_count": 35,
   "metadata": {
    "collapsed": false
   },
   "outputs": [
    {
     "data": {
      "application/javascript": [
       "$(\"head\").append($(\"<link/>\").attr({\n",
       "  rel:  \"stylesheet\",\n",
       "  type: \"text/css\",\n",
       "  href: \"//cdnjs.cloudflare.com/ajax/libs/font-awesome/4.1.0/css/font-awesome.min.css\"\n",
       "}));\n",
       "$(\"head\").append($(\"<link/>\").attr({\n",
       "  rel:  \"stylesheet\",\n",
       "  type: \"text/css\",\n",
       "  href: \"//dato.com/files/canvas/1.9/css/canvas.css\"\n",
       "}));\n",
       "\n",
       "            (function(){\n",
       "\n",
       "                var e = null;\n",
       "                if (typeof element == 'undefined') {\n",
       "                    var scripts = document.getElementsByTagName('script');\n",
       "                    var thisScriptTag = scripts[scripts.length-1];\n",
       "                    var parentDiv = thisScriptTag.parentNode;\n",
       "                    e = document.createElement('div');\n",
       "                    parentDiv.appendChild(e);\n",
       "                } else {\n",
       "                    e = element[0];\n",
       "                }\n",
       "\n",
       "                if (typeof requirejs !== 'undefined') {\n",
       "                    // disable load timeout; ipython_app.js is large and can take a while to load.\n",
       "                    requirejs.config({waitSeconds: 0});\n",
       "                }\n",
       "\n",
       "                require(['//dato.com/files/canvas/1.9/js/ipython_app.js'], function(IPythonApp){\n",
       "                    var app = new IPythonApp();\n",
       "                    app.attachView('sarray','Numeric', {\"ipython\": true, \"sketch\": {\"std\": 10.426618074732781, \"complete\": true, \"min\": 17.0, \"max\": 95.0, \"quantile\": [17.0, 23.0, 24.0, 25.0, 26.0, 26.0, 27.0, 27.0, 28.0, 28.0, 28.0, 29.0, 29.0, 29.0, 30.0, 30.0, 30.0, 30.0, 31.0, 31.0, 31.0, 31.0, 31.0, 32.0, 32.0, 32.0, 32.0, 33.0, 33.0, 33.0, 33.0, 33.0, 34.0, 34.0, 34.0, 34.0, 35.0, 35.0, 35.0, 35.0, 36.0, 36.0, 36.0, 36.0, 36.0, 37.0, 37.0, 37.0, 38.0, 38.0, 38.0, 38.0, 39.0, 39.0, 39.0, 40.0, 40.0, 40.0, 41.0, 41.0, 41.0, 42.0, 42.0, 42.0, 43.0, 43.0, 44.0, 44.0, 44.0, 45.0, 45.0, 45.0, 46.0, 46.0, 47.0, 47.0, 48.0, 48.0, 48.0, 49.0, 49.0, 50.0, 50.0, 51.0, 51.0, 52.0, 52.0, 53.0, 53.0, 54.0, 55.0, 55.0, 56.0, 57.0, 57.0, 58.0, 59.0, 59.0, 62.0, 70.0, 95.0], \"median\": 38.0, \"numeric\": true, \"num_unique\": 77, \"num_undefined\": 0, \"var\": 108.71436447634431, \"progress\": 1.0, \"size\": 20594, \"frequent_items\": {\"17\": {\"frequency\": 2, \"value\": 17}, \"18\": {\"frequency\": 14, \"value\": 18}, \"19\": {\"frequency\": 18, \"value\": 19}, \"20\": {\"frequency\": 28, \"value\": 20}, \"21\": {\"frequency\": 46, \"value\": 21}, \"22\": {\"frequency\": 75, \"value\": 22}, \"23\": {\"frequency\": 122, \"value\": 23}, \"24\": {\"frequency\": 225, \"value\": 24}, \"25\": {\"frequency\": 289, \"value\": 25}, \"26\": {\"frequency\": 351, \"value\": 26}, \"27\": {\"frequency\": 407, \"value\": 27}, \"28\": {\"frequency\": 503, \"value\": 28}, \"29\": {\"frequency\": 698, \"value\": 29}, \"30\": {\"frequency\": 901, \"value\": 30}, \"31\": {\"frequency\": 930, \"value\": 31}, \"32\": {\"frequency\": 922, \"value\": 32}, \"33\": {\"frequency\": 910, \"value\": 33}, \"34\": {\"frequency\": 892, \"value\": 34}, \"35\": {\"frequency\": 855, \"value\": 35}, \"36\": {\"frequency\": 892, \"value\": 36}, \"37\": {\"frequency\": 726, \"value\": 37}, \"38\": {\"frequency\": 714, \"value\": 38}, \"39\": {\"frequency\": 716, \"value\": 39}, \"40\": {\"frequency\": 589, \"value\": 40}, \"41\": {\"frequency\": 660, \"value\": 41}, \"42\": {\"frequency\": 580, \"value\": 42}, \"43\": {\"frequency\": 533, \"value\": 43}, \"44\": {\"frequency\": 496, \"value\": 44}, \"45\": {\"frequency\": 549, \"value\": 45}, \"46\": {\"frequency\": 518, \"value\": 46}, \"47\": {\"frequency\": 471, \"value\": 47}, \"48\": {\"frequency\": 488, \"value\": 48}, \"49\": {\"frequency\": 409, \"value\": 49}, \"50\": {\"frequency\": 435, \"value\": 50}, \"51\": {\"frequency\": 377, \"value\": 51}, \"52\": {\"frequency\": 405, \"value\": 52}, \"53\": {\"frequency\": 390, \"value\": 53}, \"54\": {\"frequency\": 340, \"value\": 54}, \"55\": {\"frequency\": 321, \"value\": 55}, \"56\": {\"frequency\": 341, \"value\": 56}, \"57\": {\"frequency\": 323, \"value\": 57}, \"58\": {\"frequency\": 292, \"value\": 58}, \"59\": {\"frequency\": 235, \"value\": 59}, \"60\": {\"frequency\": 149, \"value\": 60}, \"61\": {\"frequency\": 36, \"value\": 61}, \"62\": {\"frequency\": 38, \"value\": 62}, \"63\": {\"frequency\": 26, \"value\": 63}, \"64\": {\"frequency\": 26, \"value\": 64}, \"65\": {\"frequency\": 19, \"value\": 65}, \"66\": {\"frequency\": 41, \"value\": 66}, \"67\": {\"frequency\": 10, \"value\": 67}, \"68\": {\"frequency\": 17, \"value\": 68}, \"69\": {\"frequency\": 14, \"value\": 69}, \"70\": {\"frequency\": 24, \"value\": 70}, \"71\": {\"frequency\": 21, \"value\": 71}, \"72\": {\"frequency\": 20, \"value\": 72}, \"73\": {\"frequency\": 14, \"value\": 73}, \"74\": {\"frequency\": 13, \"value\": 74}, \"75\": {\"frequency\": 11, \"value\": 75}, \"76\": {\"frequency\": 17, \"value\": 76}, \"77\": {\"frequency\": 8, \"value\": 77}, \"78\": {\"frequency\": 12, \"value\": 78}, \"79\": {\"frequency\": 5, \"value\": 79}, \"80\": {\"frequency\": 16, \"value\": 80}, \"81\": {\"frequency\": 12, \"value\": 81}, \"82\": {\"frequency\": 9, \"value\": 82}, \"83\": {\"frequency\": 10, \"value\": 83}, \"84\": {\"frequency\": 3, \"value\": 84}, \"85\": {\"frequency\": 8, \"value\": 85}, \"86\": {\"frequency\": 7, \"value\": 86}, \"87\": {\"frequency\": 1, \"value\": 87}, \"88\": {\"frequency\": 12, \"value\": 88}, \"89\": {\"frequency\": 2, \"value\": 89}, \"91\": {\"frequency\": 1, \"value\": 91}, \"92\": {\"frequency\": 2, \"value\": 92}, \"94\": {\"frequency\": 1, \"value\": 94}, \"95\": {\"frequency\": 1, \"value\": 95}}, \"mean\": 40.08769544527527}, \"selected_variable\": {\"name\": [\"<SArray>\"], \"dtype\": \"int\", \"view_component\": \"Numeric\", \"view_file\": \"sarray\", \"descriptives\": {\"rows\": 20594}, \"type\": \"SArray\", \"view_components\": [\"Numeric\", \"Categorical\"]}, \"histogram\": {\"progress\": 1.0, \"histogram\": {\"max\": 95.29199999999999, \"bins\": [305, 2473, 6302, 4518, 2931, 2609, 1073, 153, 103, 79, 41, 7], \"min\": 16.86}, \"min\": 17, \"complete\": 1, \"max\": 95}}, e);\n",
       "                });\n",
       "            })();\n",
       "        "
      ]
     },
     "metadata": {},
     "output_type": "display_data"
    }
   ],
   "source": [
    "qtrain['age'].show()"
   ]
  },
  {
   "cell_type": "markdown",
   "metadata": {},
   "source": [
    "To group the **`age`** values of our contacts we leverage the **`FeatureBinner`** method of the **`feature_engineering`**  toolkit of **GraphLab Create** as shown below."
   ]
  },
  {
   "cell_type": "code",
   "execution_count": 45,
   "metadata": {
    "collapsed": false
   },
   "outputs": [],
   "source": [
    "## define a binning transformer for the age attribute of contacts\n",
    "age_binning_transformer = gl.feature_engineering.FeatureBinner(features='age', strategy='quantile', num_bins=12)\n",
    "\n",
    "## fit the age binning transformer over the train set\n",
    "age_binning = gl.feature_engineering.create(train, age_binning_transformer)\n",
    "\n",
    "## transform the train data set\n",
    "qtrain1 = age_binning.transform(qtrain)\n",
    "\n",
    "## remove the features that may worse our predictions\n",
    "qfeatures1 = qtrain1.column_names()\n",
    "qfeatures1.remove('duration')\n",
    "qfeatures1.remove('y')\n",
    "qfeatures1.remove('month_nr')\n",
    "qfeatures1.remove('wkday_nr')\n",
    "qfeatures1.remove('year')"
   ]
  },
  {
   "cell_type": "code",
   "execution_count": 46,
   "metadata": {
    "collapsed": false
   },
   "outputs": [
    {
     "data": {
      "application/javascript": [
       "$(\"head\").append($(\"<link/>\").attr({\n",
       "  rel:  \"stylesheet\",\n",
       "  type: \"text/css\",\n",
       "  href: \"//cdnjs.cloudflare.com/ajax/libs/font-awesome/4.1.0/css/font-awesome.min.css\"\n",
       "}));\n",
       "$(\"head\").append($(\"<link/>\").attr({\n",
       "  rel:  \"stylesheet\",\n",
       "  type: \"text/css\",\n",
       "  href: \"//dato.com/files/canvas/1.9/css/canvas.css\"\n",
       "}));\n",
       "\n",
       "            (function(){\n",
       "\n",
       "                var e = null;\n",
       "                if (typeof element == 'undefined') {\n",
       "                    var scripts = document.getElementsByTagName('script');\n",
       "                    var thisScriptTag = scripts[scripts.length-1];\n",
       "                    var parentDiv = thisScriptTag.parentNode;\n",
       "                    e = document.createElement('div');\n",
       "                    parentDiv.appendChild(e);\n",
       "                } else {\n",
       "                    e = element[0];\n",
       "                }\n",
       "\n",
       "                if (typeof requirejs !== 'undefined') {\n",
       "                    // disable load timeout; ipython_app.js is large and can take a while to load.\n",
       "                    requirejs.config({waitSeconds: 0});\n",
       "                }\n",
       "\n",
       "                require(['//dato.com/files/canvas/1.9/js/ipython_app.js'], function(IPythonApp){\n",
       "                    var app = new IPythonApp();\n",
       "                    app.attachView('sarray','Categorical', {\"ipython\": true, \"sketch\": {\"complete\": true, \"numeric\": false, \"num_unique\": 12, \"num_undefined\": 0, \"progress\": 1.0, \"frequent_items\": {\"age_11\": {\"frequency\": 3253, \"value\": \"age_11\"}, \"age_10\": {\"frequency\": 1709, \"value\": \"age_10\"}, \"age_9\": {\"frequency\": 1538, \"value\": \"age_9\"}, \"age_8\": {\"frequency\": 1609, \"value\": \"age_8\"}, \"age_1\": {\"frequency\": 2078, \"value\": \"age_1\"}, \"age_0\": {\"frequency\": 2, \"value\": \"age_0\"}, \"age_3\": {\"frequency\": 1852, \"value\": \"age_3\"}, \"age_2\": {\"frequency\": 1599, \"value\": \"age_2\"}, \"age_5\": {\"frequency\": 1747, \"value\": \"age_5\"}, \"age_4\": {\"frequency\": 1802, \"value\": \"age_4\"}, \"age_7\": {\"frequency\": 1965, \"value\": \"age_7\"}, \"age_6\": {\"frequency\": 1440, \"value\": \"age_6\"}}, \"size\": 20594}, \"selected_variable\": {\"name\": [\"<SArray>\"], \"dtype\": \"str\", \"view_component\": \"Categorical\", \"view_file\": \"sarray\", \"descriptives\": {\"rows\": 20594}, \"type\": \"SArray\", \"view_components\": [\"Categorical\"]}, \"histogram\": null}, e);\n",
       "                });\n",
       "            })();\n",
       "        "
      ]
     },
     "metadata": {},
     "output_type": "display_data"
    }
   ],
   "source": [
    "qtrain1['age'].show()"
   ]
  },
  {
   "cell_type": "markdown",
   "metadata": {},
   "source": [
    "Lets now train a **boosted trees classifier** model using this enriched data set, **`qtrain1`**. We have also tweak its parameters to achieve better predictive performance."
   ]
  },
  {
   "cell_type": "code",
   "execution_count": 148,
   "metadata": {
    "collapsed": false
   },
   "outputs": [
    {
     "data": {
      "text/html": [
       "<pre>External memory mode: 1 batches</pre>"
      ],
      "text/plain": [
       "External memory mode: 1 batches"
      ]
     },
     "metadata": {},
     "output_type": "display_data"
    },
    {
     "data": {
      "text/html": [
       "<pre>External memory mode: 1 batches</pre>"
      ],
      "text/plain": [
       "External memory mode: 1 batches"
      ]
     },
     "metadata": {},
     "output_type": "display_data"
    },
    {
     "data": {
      "text/html": [
       "<pre>Boosted trees classifier:</pre>"
      ],
      "text/plain": [
       "Boosted trees classifier:"
      ]
     },
     "metadata": {},
     "output_type": "display_data"
    },
    {
     "data": {
      "text/html": [
       "<pre>--------------------------------------------------------</pre>"
      ],
      "text/plain": [
       "--------------------------------------------------------"
      ]
     },
     "metadata": {},
     "output_type": "display_data"
    },
    {
     "data": {
      "text/html": [
       "<pre>Number of examples          : 19573</pre>"
      ],
      "text/plain": [
       "Number of examples          : 19573"
      ]
     },
     "metadata": {},
     "output_type": "display_data"
    },
    {
     "data": {
      "text/html": [
       "<pre>Number of classes           : 2</pre>"
      ],
      "text/plain": [
       "Number of classes           : 2"
      ]
     },
     "metadata": {},
     "output_type": "display_data"
    },
    {
     "data": {
      "text/html": [
       "<pre>Number of feature columns   : 20</pre>"
      ],
      "text/plain": [
       "Number of feature columns   : 20"
      ]
     },
     "metadata": {},
     "output_type": "display_data"
    },
    {
     "data": {
      "text/html": [
       "<pre>Number of unpacked features : 29</pre>"
      ],
      "text/plain": [
       "Number of unpacked features : 29"
      ]
     },
     "metadata": {},
     "output_type": "display_data"
    },
    {
     "data": {
      "text/html": [
       "<pre>Create disk column page 1/1</pre>"
      ],
      "text/plain": [
       "Create disk column page 1/1"
      ]
     },
     "metadata": {},
     "output_type": "display_data"
    },
    {
     "data": {
      "text/html": [
       "<pre>+-----------+--------------+-------------------+-------------------+---------------------+---------------------+</pre>"
      ],
      "text/plain": [
       "+-----------+--------------+-------------------+-------------------+---------------------+---------------------+"
      ]
     },
     "metadata": {},
     "output_type": "display_data"
    },
    {
     "data": {
      "text/html": [
       "<pre>| Iteration | Elapsed Time | Training-accuracy | Training-log_loss | Validation-accuracy | Validation-log_loss |</pre>"
      ],
      "text/plain": [
       "| Iteration | Elapsed Time | Training-accuracy | Training-log_loss | Validation-accuracy | Validation-log_loss |"
      ]
     },
     "metadata": {},
     "output_type": "display_data"
    },
    {
     "data": {
      "text/html": [
       "<pre>+-----------+--------------+-------------------+-------------------+---------------------+---------------------+</pre>"
      ],
      "text/plain": [
       "+-----------+--------------+-------------------+-------------------+---------------------+---------------------+"
      ]
     },
     "metadata": {},
     "output_type": "display_data"
    },
    {
     "data": {
      "text/html": [
       "<pre>| 1         | 0.547360     | 0.902723          | 0.627169          | 0.894221            | 0.629272            |</pre>"
      ],
      "text/plain": [
       "| 1         | 0.547360     | 0.902723          | 0.627169          | 0.894221            | 0.629272            |"
      ]
     },
     "metadata": {},
     "output_type": "display_data"
    },
    {
     "data": {
      "text/html": [
       "<pre>| 2         | 1.063238     | 0.905073          | 0.573160          | 0.890304            | 0.577245            |</pre>"
      ],
      "text/plain": [
       "| 2         | 1.063238     | 0.905073          | 0.573160          | 0.890304            | 0.577245            |"
      ]
     },
     "metadata": {},
     "output_type": "display_data"
    },
    {
     "data": {
      "text/html": [
       "<pre>| 3         | 1.518069     | 0.905073          | 0.528401          | 0.890304            | 0.534260            |</pre>"
      ],
      "text/plain": [
       "| 3         | 1.518069     | 0.905073          | 0.528401          | 0.890304            | 0.534260            |"
      ]
     },
     "metadata": {},
     "output_type": "display_data"
    },
    {
     "data": {
      "text/html": [
       "<pre>| 4         | 2.045868     | 0.905278          | 0.490751          | 0.892262            | 0.497720            |</pre>"
      ],
      "text/plain": [
       "| 4         | 2.045868     | 0.905278          | 0.490751          | 0.892262            | 0.497720            |"
      ]
     },
     "metadata": {},
     "output_type": "display_data"
    },
    {
     "data": {
      "text/html": [
       "<pre>| 5         | 2.579916     | 0.905380          | 0.458904          | 0.892262            | 0.467423            |</pre>"
      ],
      "text/plain": [
       "| 5         | 2.579916     | 0.905380          | 0.458904          | 0.892262            | 0.467423            |"
      ]
     },
     "metadata": {},
     "output_type": "display_data"
    },
    {
     "data": {
      "text/html": [
       "<pre>| 6         | 3.028595     | 0.905482          | 0.431841          | 0.892262            | 0.441796            |</pre>"
      ],
      "text/plain": [
       "| 6         | 3.028595     | 0.905482          | 0.431841          | 0.892262            | 0.441796            |"
      ]
     },
     "metadata": {},
     "output_type": "display_data"
    },
    {
     "data": {
      "text/html": [
       "<pre>| 10        | 4.814942     | 0.905840          | 0.356626          | 0.892262            | 0.370684            |</pre>"
      ],
      "text/plain": [
       "| 10        | 4.814942     | 0.905840          | 0.356626          | 0.892262            | 0.370684            |"
      ]
     },
     "metadata": {},
     "output_type": "display_data"
    },
    {
     "data": {
      "text/html": [
       "<pre>| 11        | 5.302796     | 0.905942          | 0.343778          | 0.891283            | 0.358383            |</pre>"
      ],
      "text/plain": [
       "| 11        | 5.302796     | 0.905942          | 0.343778          | 0.891283            | 0.358383            |"
      ]
     },
     "metadata": {},
     "output_type": "display_data"
    },
    {
     "data": {
      "text/html": [
       "<pre>| 15        | 7.094960     | 0.905891          | 0.307105          | 0.894221            | 0.325404            |</pre>"
      ],
      "text/plain": [
       "| 15        | 7.094960     | 0.905891          | 0.307105          | 0.894221            | 0.325404            |"
      ]
     },
     "metadata": {},
     "output_type": "display_data"
    },
    {
     "data": {
      "text/html": [
       "<pre>| 20        | 9.471095     | 0.906351          | 0.282037          | 0.895201            | 0.305777            |</pre>"
      ],
      "text/plain": [
       "| 20        | 9.471095     | 0.906351          | 0.282037          | 0.895201            | 0.305777            |"
      ]
     },
     "metadata": {},
     "output_type": "display_data"
    },
    {
     "data": {
      "text/html": [
       "<pre>| 25        | 11.696247    | 0.906657          | 0.269412          | 0.896180            | 0.297596            |</pre>"
      ],
      "text/plain": [
       "| 25        | 11.696247    | 0.906657          | 0.269412          | 0.896180            | 0.297596            |"
      ]
     },
     "metadata": {},
     "output_type": "display_data"
    },
    {
     "data": {
      "text/html": [
       "<pre>| 30        | 13.950028    | 0.907066          | 0.262629          | 0.896180            | 0.294010            |</pre>"
      ],
      "text/plain": [
       "| 30        | 13.950028    | 0.907066          | 0.262629          | 0.896180            | 0.294010            |"
      ]
     },
     "metadata": {},
     "output_type": "display_data"
    },
    {
     "data": {
      "text/html": [
       "<pre>| 35        | 16.213339    | 0.907730          | 0.258599          | 0.895201            | 0.293437            |</pre>"
      ],
      "text/plain": [
       "| 35        | 16.213339    | 0.907730          | 0.258599          | 0.895201            | 0.293437            |"
      ]
     },
     "metadata": {},
     "output_type": "display_data"
    },
    {
     "data": {
      "text/html": [
       "<pre>| 40        | 18.409352    | 0.908241          | 0.255685          | 0.896180            | 0.292832            |</pre>"
      ],
      "text/plain": [
       "| 40        | 18.409352    | 0.908241          | 0.255685          | 0.896180            | 0.292832            |"
      ]
     },
     "metadata": {},
     "output_type": "display_data"
    },
    {
     "data": {
      "text/html": [
       "<pre>| 45        | 20.572792    | 0.909161          | 0.253490          | 0.898139            | 0.292911            |</pre>"
      ],
      "text/plain": [
       "| 45        | 20.572792    | 0.909161          | 0.253490          | 0.898139            | 0.292911            |"
      ]
     },
     "metadata": {},
     "output_type": "display_data"
    },
    {
     "data": {
      "text/html": [
       "<pre>| 50        | 22.812334    | 0.909723          | 0.251676          | 0.895201            | 0.292992            |</pre>"
      ],
      "text/plain": [
       "| 50        | 22.812334    | 0.909723          | 0.251676          | 0.895201            | 0.292992            |"
      ]
     },
     "metadata": {},
     "output_type": "display_data"
    },
    {
     "data": {
      "text/html": [
       "<pre>| 51        | 23.263687    | 0.909518          | 0.251416          | 0.895201            | 0.293003            |</pre>"
      ],
      "text/plain": [
       "| 51        | 23.263687    | 0.909518          | 0.251416          | 0.895201            | 0.293003            |"
      ]
     },
     "metadata": {},
     "output_type": "display_data"
    },
    {
     "data": {
      "text/html": [
       "<pre>+-----------+--------------+-------------------+-------------------+---------------------+---------------------+</pre>"
      ],
      "text/plain": [
       "+-----------+--------------+-------------------+-------------------+---------------------+---------------------+"
      ]
     },
     "metadata": {},
     "output_type": "display_data"
    },
    {
     "data": {
      "text/html": [
       "<pre>Early stop triggered. Returning the best model at iteration: 42</pre>"
      ],
      "text/plain": [
       "Early stop triggered. Returning the best model at iteration: 42"
      ]
     },
     "metadata": {},
     "output_type": "display_data"
    },
    {
     "name": "stdout",
     "output_type": "stream",
     "text": [
      "PROGRESS: Creating a validation set from 5 percent of training data. This may take a while.\n",
      "          You can set ``validation_set=None`` to disable validation tracking.\n",
      "\n"
     ]
    }
   ],
   "source": [
    "## We create a boosted trees classifier with the enriched dataset.\n",
    "new_boostedtrees_model = gl.boosted_trees_classifier.create(qtrain1, target='y', features = qfeatures1,\n",
    "                                                            max_iterations = 100,\n",
    "                                                            max_depth=5,\n",
    "                                                            step_size=0.1,\n",
    "                                                            min_child_weight=0.06,\n",
    "                                                            random_seed=1,\n",
    "                                                            early_stopping_rounds=10)"
   ]
  },
  {
   "cell_type": "markdown",
   "metadata": {},
   "source": [
    "Next we evaluate the **`new_boostedtrees_model`** on the **test** data set."
   ]
  },
  {
   "cell_type": "code",
   "execution_count": 159,
   "metadata": {
    "collapsed": false
   },
   "outputs": [
    {
     "data": {
      "text/html": [
       "<pre>External memory mode: 1 batches</pre>"
      ],
      "text/plain": [
       "External memory mode: 1 batches"
      ]
     },
     "metadata": {},
     "output_type": "display_data"
    },
    {
     "name": "stdout",
     "output_type": "stream",
     "text": [
      "accuracy: 0.90012, precision: 0.66255, recall: 0.23103\n"
     ]
    }
   ],
   "source": [
    "results = new_boostedtrees_model.evaluate(age_binning.transform(quadratic.transform(test)))\n",
    "print \"accuracy: %.5f, precision: %.5f, recall: %.5f\" % (results['accuracy'], results['precision'], results['recall'])"
   ]
  },
  {
   "cell_type": "markdown",
   "metadata": {},
   "source": [
    "This new model (**`new_boostedtrees_model`**) is almost as accurate as the previous one, has higher precision (~66% of the predicted sales were actually converted to sales) and similar recall (~23% of actual sales were actually predicted by the model). To have a better feeling of the model just trained (**`newtoolkit_model`**) and how this differs from the previous one (**`new_toolkit_model`**), we can review the importance of the input features in these two cases."
   ]
  },
  {
   "cell_type": "code",
   "execution_count": 161,
   "metadata": {
    "collapsed": false
   },
   "outputs": [
    {
     "name": "stdout",
     "output_type": "stream",
     "text": [
      "'new_boostedtrees_model'\n",
      "[GLC Boosted Trees Classifier wt quadratic interactions,age grouping & hyperparams tuned]:\n",
      "\n",
      "+--------------------+------------------------------+-------+\n",
      "|        name        |            index             | count |\n",
      "+--------------------+------------------------------+-------+\n",
      "|     euribor3m      |             None             |  105  |\n",
      "| quadratic_features |   emp.var.rate, euribor3m    |   91  |\n",
      "|      campaign      |             None             |   89  |\n",
      "| quadratic_features |   cons.conf.idx, euribor3m   |   64  |\n",
      "|      contact       |          telephone           |   53  |\n",
      "|       pdays        |             None             |   39  |\n",
      "| quadratic_features |  cons.price.idx, euribor3m   |   33  |\n",
      "|    day_of_week     |             mon              |   31  |\n",
      "|      previous      |             None             |   27  |\n",
      "| quadratic_features | cons.price.idx, emp.var.rate |   26  |\n",
      "|        loan        |             yes              |   25  |\n",
      "|    nr.employed     |             None             |   24  |\n",
      "|      default       |              no              |   22  |\n",
      "|   cons.price.idx   |             None             |   22  |\n",
      "|     education      |           basic.6y           |   22  |\n",
      "|        job         |           student            |   20  |\n",
      "|      poutcome      |           failure            |   19  |\n",
      "|        job         |          technician          |   18  |\n",
      "|        job         |           unknown            |   18  |\n",
      "|    day_of_week     |             fri              |   18  |\n",
      "+--------------------+------------------------------+-------+\n",
      "[83 rows x 3 columns]\n",
      "\n"
     ]
    }
   ],
   "source": [
    "print '\\'new_boostedtrees_model\\'\\n[GLC Boosted Trees Classifier wt quadratic interactions,\\\n",
    "age grouping & hyperparams tuned]:\\n'\n",
    "new_boostedtrees_model.get_feature_importance().print_rows(num_rows=20)"
   ]
  },
  {
   "cell_type": "code",
   "execution_count": 46,
   "metadata": {
    "collapsed": false
   },
   "outputs": [
    {
     "name": "stdout",
     "output_type": "stream",
     "text": [
      "'newtoolkit_model'\n",
      "[GLC AutoML Classifier wt quadratic interactions]:\n",
      "\n",
      "+--------------------+--------------------------+-------+\n",
      "|        name        |          index           | count |\n",
      "+--------------------+--------------------------+-------+\n",
      "|        age         |           None           |   96  |\n",
      "|     euribor3m      |           None           |   54  |\n",
      "|      campaign      |           None           |   39  |\n",
      "| quadratic_features | emp.var.rate, euribor3m  |   25  |\n",
      "| quadratic_features | cons.conf.idx, euribor3m |   25  |\n",
      "|       pdays        |           None           |   20  |\n",
      "|    day_of_week     |           mon            |   18  |\n",
      "|      contact       |        telephone         |   16  |\n",
      "|      previous      |           None           |   12  |\n",
      "|        job         |         unknown          |   10  |\n",
      "+--------------------+--------------------------+-------+\n",
      "[72 rows x 3 columns]\n",
      "Note: Only the head of the SFrame is printed.\n",
      "You can use print_rows(num_rows=m, num_columns=n) to print more rows and columns.\n"
     ]
    }
   ],
   "source": [
    "print '\\'newtoolkit_model\\'\\n[GLC AutoML Classifier wt quadratic interactions]:\\n'\n",
    "print new_toolkit_model.get_feature_importance()"
   ]
  },
  {
   "cell_type": "markdown",
   "metadata": {},
   "source": [
    "By comparing these two cases, we note that:\n",
    "\n",
    "1. These two quadratic interactions:\n",
    "    * **`cons.price.idx`** &lowast; **`euribor3m`** \n",
    "    * **`cons.price.idx`** &lowast; **`emp.var.rate`**\n",
    "    enters the **`new_boostedtrees_model`** as significant attributes.\n",
    "2.  **`euribor3m`** and **`campaign`** features are significant in both cases whereas **`age`** is far less important in this new tweaked model.\n",
    "3. Various characteristics concerning the campaign, such as the number of days that passed by after the client was last contacted from a previous campaign (**`pdays`**), the number of contacts performed before this campaign and for this client (**`previous`**), the channel through which the contact has been made (**`contact: 'telephone'`**), as well as the specific **`day_of_week` (`'mon'`)** that this contact occured seems to be important for both models.\n",
    "4. In this tweaked **`new_boostedtrees_model`**, attributes describing if the contact has a personal loan (**`loan`**) or credit in default (**`default`**), his/her educational (**`education`**) and employment status (**`job`**), as well as the outcome of the previous marketing campaign (**`poutcome`**) gets greater importance than before."
   ]
  },
  {
   "cell_type": "markdown",
   "metadata": {},
   "source": [
    "### Lead score the contact list and measure our ROI: New Improvement achieved, 35.13%\n",
    "\n",
    "As a last step of evaluating the **`new_boostedtrees_model`**, lets compute our ROI if we again contact 20% of the contact leads as scored by this new model."
   ]
  },
  {
   "cell_type": "code",
   "execution_count": 176,
   "metadata": {
    "collapsed": false
   },
   "outputs": [
    {
     "data": {
      "text/html": [
       "<pre>External memory mode: 1 batches</pre>"
      ],
      "text/plain": [
       "External memory mode: 1 batches"
      ]
     },
     "metadata": {},
     "output_type": "display_data"
    },
    {
     "name": "stdout",
     "output_type": "stream",
     "text": [
      "ROI for calling predicted contacts: 35.13%\n"
     ]
    }
   ],
   "source": [
    "## show ROI for experimentation model\n",
    "test1 = age_binning.transform(quadratic.transform(test))\n",
    "boostedtrees_leadscore = new_boostedtrees_model.predict(test1, output_type='probability')\n",
    "boostedtrees_roi = calc_call_roi(test1, boostedtrees_leadscore, 0.2)\n",
    "print 'ROI for calling predicted contacts: %.2f%%' % boostedtrees_roi"
   ]
  },
  {
   "cell_type": "markdown",
   "metadata": {},
   "source": [
    ">### Conclusion:\n",
    ">\n",
    ">**We will choose the `new_boostedtrees_model` to lead score the contact list. By doing so, we can achieve a 35.13% ROI by only contacting 20% of the people in this list. Assuming we had the budget and time to contact everyone in list, we will have an ROI of only 10.27%, a fact that emphasize the importance of lead scoring as a method. Furthermore, the ROI achieved by our tuned `new_boostedtrees_model` is significantly greater than the ROI returned by simply targeting employed, middle-aged people which was found to be 28.75%.**"
   ]
  },
  {
   "cell_type": "markdown",
   "metadata": {},
   "source": [
    "## Ranked List for Marketing / Sales Teams as returned by the best ML Model\n",
    "\n",
    "## Who should be prioritized to be called next!"
   ]
  },
  {
   "cell_type": "markdown",
   "metadata": {},
   "source": [
    "Assuming we have time and resources to call 20% of the lead scored contact list, these would be the first 30 people that we should call first:"
   ]
  },
  {
   "cell_type": "code",
   "execution_count": 183,
   "metadata": {
    "collapsed": false
   },
   "outputs": [
    {
     "name": "stdout",
     "output_type": "stream",
     "text": [
      "Assuming we have time and resources to call 20% of the lead scored contact list, weneed to make 4118 phone calls.\n",
      "\n",
      "Lead Scored Contact List:\n",
      "+----------------+--------+----------+-----------+--------------+---------+---------+-------------+\n",
      "|   lead_score   |  age   | campaign | euribor3m |     job      |   loan  | default |   poutcome  |\n",
      "+----------------+--------+----------+-----------+--------------+---------+---------+-------------+\n",
      "| 0.89590626955  | age_1  |    2     |   0.697   |   student    |    no   |    no   |   success   |\n",
      "| 0.893145561218 | age_1  |    1     |   0.635   |   student    |    no   |    no   |   success   |\n",
      "| 0.88779938221  | age_11 |    1     |   0.683   |   retired    |    no   |    no   |   success   |\n",
      "| 0.88158929348  | age_11 |    3     |   0.683   |  management  |    no   |    no   |   success   |\n",
      "| 0.881256341934 | age_11 |    1     |   0.654   |    admin.    |    no   |    no   |   success   |\n",
      "| 0.876329660416 | age_1  |    1     |   0.677   |   student    |    no   |    no   |   success   |\n",
      "| 0.874877750874 | age_1  |    1     |    0.69   |   student    |   yes   |    no   |   success   |\n",
      "| 0.873768091202 | age_10 |    1     |   0.682   |  unemployed  |    no   |    no   |   success   |\n",
      "| 0.87301582098  | age_1  |    2     |   0.654   |    admin.    |    no   |    no   |   success   |\n",
      "| 0.869783163071 | age_7  |    1     |   0.886   |    admin.    |    no   |    no   |   success   |\n",
      "| 0.868861794472 | age_2  |    1     |   0.637   |   student    |   yes   |    no   |   success   |\n",
      "| 0.866572499275 | age_10 |    2     |   0.682   |    admin.    |    no   |    no   |   success   |\n",
      "| 0.864928901196 | age_11 |    1     |   0.635   |   retired    |    no   |    no   |   success   |\n",
      "| 0.863789141178 | age_7  |    1     |   0.683   |  unemployed  |    no   |    no   |   success   |\n",
      "| 0.859906673431 | age_1  |    2     |   0.697   |    admin.    |    no   |    no   |   success   |\n",
      "| 0.855010688305 | age_1  |    1     |   0.672   |   student    |    no   |    no   |   success   |\n",
      "| 0.854702830315 | age_7  |    1     |   0.879   |  unemployed  |    no   |    no   |   success   |\n",
      "| 0.854349732399 | age_1  |    1     |   0.886   |   student    |   yes   |    no   |   success   |\n",
      "| 0.852990269661 | age_1  |    1     |   0.715   |   student    |    no   |    no   |   success   |\n",
      "| 0.851285815239 | age_1  |    1     |   0.668   |   student    |    no   |    no   |   success   |\n",
      "| 0.849584102631 | age_11 |    1     |   0.683   |   retired    |    no   |    no   |   success   |\n",
      "| 0.849163770676 | age_1  |    2     |   0.697   |   student    |    no   |    no   |   success   |\n",
      "| 0.847567379475 | age_11 |    2     |   0.715   |  management  |    no   |    no   |   success   |\n",
      "| 0.846033811569 | age_11 |    1     |   0.683   |  management  |    no   |    no   |   success   |\n",
      "| 0.844187736511 | age_1  |    3     |   0.695   |   student    | unknown |    no   |   success   |\n",
      "| 0.83983206749  | age_1  |    2     |   0.876   |   student    |    no   |    no   |   success   |\n",
      "| 0.837950348854 | age_11 |    1     |   0.682   |   retired    |    no   |    no   |   success   |\n",
      "| 0.836923480034 | age_11 |    1     |   0.644   |  unemployed  |    no   |    no   |   success   |\n",
      "| 0.836337089539 | age_11 |    1     |   0.682   |    admin.    |    no   |    no   |   success   |\n",
      "| 0.836242616177 | age_11 |    1     |   0.877   |   retired    |    no   | unknown |   success   |\n",
      "| 0.835946619511 | age_7  |    1     |   0.668   |    admin.    |    no   |    no   |   success   |\n",
      "| 0.835621356964 | age_4  |    3     |   0.655   |    admin.    |    no   |    no   |   success   |\n",
      "| 0.835405290127 | age_1  |    1     |   0.809   |   student    |   yes   |    no   |   success   |\n",
      "| 0.835044801235 | age_11 |    2     |   0.697   |   retired    |    no   |    no   |   success   |\n",
      "| 0.834344148636 | age_11 |    1     |   0.904   |   retired    |   yes   |    no   |   success   |\n",
      "| 0.831603586674 | age_11 |    1     |   0.714   |   retired    |    no   |    no   |   success   |\n",
      "| 0.829086363316 | age_11 |    1     |   0.715   |   retired    |    no   |    no   |   success   |\n",
      "| 0.828834116459 | age_1  |    1     |   0.876   |   student    |    no   |    no   |   success   |\n",
      "| 0.827469944954 | age_4  |    1     |   0.715   |    admin.    |    no   |    no   |   success   |\n",
      "| 0.827027261257 | age_11 |    1     |    0.84   | blue-collar  |    no   |    no   |   success   |\n",
      "| 0.826835155487 | age_3  |    1     |   0.646   |  unemployed  |    no   |    no   |   success   |\n",
      "| 0.826539635658 | age_11 |    3     |   0.684   |  management  |    no   |    no   |   success   |\n",
      "| 0.82630443573  | age_11 |    2     |   0.642   |  housemaid   |    no   |    no   |   success   |\n",
      "| 0.825475215912 | age_1  |    1     |   0.655   |   student    |    no   |    no   |   success   |\n",
      "| 0.825361669064 | age_11 |    2     |   0.652   |   retired    |    no   |    no   |   success   |\n",
      "| 0.824987411499 | age_9  |    2     |   0.886   |  management  |    no   |    no   |   success   |\n",
      "| 0.823891580105 | age_6  |    1     |    4.76   | entrepreneur |    no   |    no   | nonexistent |\n",
      "| 0.823034882545 | age_11 |    2     |   0.903   |   retired    |    no   |    no   |   success   |\n",
      "| 0.822913229465 | age_5  |    1     |   0.879   |  unemployed  |    no   |    no   |   success   |\n",
      "| 0.821351528168 | age_8  |    1     |    0.88   |  management  |    no   |    no   |   success   |\n",
      "+----------------+--------+----------+-----------+--------------+---------+---------+-------------+\n",
      "[20594 rows x 8 columns]\n",
      "\n"
     ]
    }
   ],
   "source": [
    "pct_tocall = 0.2\n",
    "boostedtrees_list = test1.sort('lead_score', ascending=False)\n",
    "num_calls = int(len(boostedtrees_list)*pct_tocall)\n",
    "\n",
    "print 'Assuming we have time and resources to call %d%% of the lead scored contact list, we\\\n",
    "need to make %d phone calls.\\n' % (pct_tocall*100, num_calls)\n",
    "\n",
    "print 'Lead Scored Contact List:'\n",
    "boostedtrees_list['lead_score', 'age','campaign','euribor3m','job','loan', 'default', 'poutcome'].\\\n",
    "print_rows(num_rows=50, max_row_width=100)"
   ]
  },
  {
   "cell_type": "markdown",
   "metadata": {},
   "source": [
    "Note, that quite differently from our informed decision of Part 1, this new tweaked **`new_boostedtrees_model`** predicts high lead scores for students and retired people who have no a personal loan or credit in default. As a result, the model suggests to include them in our target contacts."
   ]
  },
  {
   "cell_type": "code",
   "execution_count": null,
   "metadata": {
    "collapsed": true
   },
   "outputs": [],
   "source": []
  }
 ],
 "metadata": {
  "kernelspec": {
   "display_name": "Python 2",
   "language": "python",
   "name": "python2"
  },
  "language_info": {
   "codemirror_mode": {
    "name": "ipython",
    "version": 2
   },
   "file_extension": ".py",
   "mimetype": "text/x-python",
   "name": "python",
   "nbconvert_exporter": "python",
   "pygments_lexer": "ipython2",
   "version": "2.7.11"
  }
 },
 "nbformat": 4,
 "nbformat_minor": 0
}
