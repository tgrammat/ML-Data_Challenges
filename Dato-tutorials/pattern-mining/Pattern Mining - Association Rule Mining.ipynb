{
 "cells": [
  {
   "cell_type": "markdown",
   "metadata": {},
   "source": [
    "# Pattern Mining - Association Rule Mining\n",
    "\n",
    "A *frequent pattern* is a substructure that appears frequently in a dataset. Finding the frequent patterns of a dataset is a essential step in data mining tasks such as *feature extraction* and a necessary ingredient of *association rule learning*. This kind of algorithms are extremely useful in the field of *Market Basket Analysis*, which in turn provide retailers with invaluable information about their customer shopping habbits and needs. \n",
    "\n",
    "Here, I will shortly describe the **GraphLab Create frequent pattern mining toolkit**, the tools it provides and its functionality. Major advantage of this high-level ML toolkit is the ease it provides to train an association rule mining algorithm, as well as the high interpretability of the returned results. Under the hood the GLG frequent pattern mining toolkit runs a [TFP-Growth algorithm](https://www.computer.org/csdl/trans/tk/2005/05/k0652-abs.html), introduced by Wang, Jianyong, et al. in 2005. For a recent review of the various directions in the field consult [Han, Jiawei, et al. \"Frequent pattern mining: current status and future directions.\", Data Mining and Knowledge Discovery 15.1 (2007): 55-86](http://link.springer.com/article/10.1007%2Fs10618-006-0059-1)."
   ]
  },
  {
   "cell_type": "markdown",
   "metadata": {},
   "source": [
    "## Load GraphLab Create and Necessary Helper Functions"
   ]
  },
  {
   "cell_type": "code",
   "execution_count": 1,
   "metadata": {
    "collapsed": false
   },
   "outputs": [
    {
     "name": "stderr",
     "output_type": "stream",
     "text": [
      "[INFO] graphlab.cython.cy_server: GraphLab Create v1.10.1 started. Logging: /tmp/graphlab_server_1467121295.log\n",
      "INFO:graphlab.cython.cy_server:GraphLab Create v1.10.1 started. Logging: /tmp/graphlab_server_1467121295.log\n"
     ]
    },
    {
     "name": "stdout",
     "output_type": "stream",
     "text": [
      "This non-commercial license of GraphLab Create is assigned to tgrammat@gmail.com and will expire on September 21, 2016. For commercial licensing options, visit https://dato.com/buy/.\n"
     ]
    }
   ],
   "source": [
    "import graphlab as gl\n",
    "from graphlab import aggregate as agg\n",
    "from visualization_helper_functions import *"
   ]
  },
  {
   "cell_type": "markdown",
   "metadata": {},
   "source": [
    "## A simple retailer example: Loading Data, Exploratory Data Analysis\n",
    "\n",
    "Here we discuss a simple example of receipt data from a bakery. The dataset consists of items like `'ApplePie'` and `'GanacheCookie'`. The task is to identify sets of items that are frequently bought together. The dataset consists of *266209 rows* and *6 columns* which look like the following. The dataset was constructed by modifying the [Extended BAKERY dataset](https://wiki.csc.calpoly.edu/datasets/wiki/ExtendedBakery)."
   ]
  },
  {
   "cell_type": "code",
   "execution_count": 2,
   "metadata": {
    "collapsed": false
   },
   "outputs": [
    {
     "data": {
      "text/html": [
       "<div style=\"max-height:1000px;max-width:1500px;overflow:auto;\"><table frame=\"box\" rules=\"cols\">\n",
       "    <tr>\n",
       "        <th style=\"padding-left: 1em; padding-right: 1em; text-align: center\">Receipt</th>\n",
       "        <th style=\"padding-left: 1em; padding-right: 1em; text-align: center\">SaleDate</th>\n",
       "        <th style=\"padding-left: 1em; padding-right: 1em; text-align: center\">EmpId</th>\n",
       "        <th style=\"padding-left: 1em; padding-right: 1em; text-align: center\">StoreNum</th>\n",
       "        <th style=\"padding-left: 1em; padding-right: 1em; text-align: center\">Quantity</th>\n",
       "        <th style=\"padding-left: 1em; padding-right: 1em; text-align: center\">Item</th>\n",
       "    </tr>\n",
       "    <tr>\n",
       "        <td style=\"padding-left: 1em; padding-right: 1em; text-align: center; vertical-align: top\">1</td>\n",
       "        <td style=\"padding-left: 1em; padding-right: 1em; text-align: center; vertical-align: top\">12-JAN-2000</td>\n",
       "        <td style=\"padding-left: 1em; padding-right: 1em; text-align: center; vertical-align: top\">20</td>\n",
       "        <td style=\"padding-left: 1em; padding-right: 1em; text-align: center; vertical-align: top\">20</td>\n",
       "        <td style=\"padding-left: 1em; padding-right: 1em; text-align: center; vertical-align: top\">1</td>\n",
       "        <td style=\"padding-left: 1em; padding-right: 1em; text-align: center; vertical-align: top\">GanacheCookie</td>\n",
       "    </tr>\n",
       "    <tr>\n",
       "        <td style=\"padding-left: 1em; padding-right: 1em; text-align: center; vertical-align: top\">1</td>\n",
       "        <td style=\"padding-left: 1em; padding-right: 1em; text-align: center; vertical-align: top\">12-JAN-2000</td>\n",
       "        <td style=\"padding-left: 1em; padding-right: 1em; text-align: center; vertical-align: top\">20</td>\n",
       "        <td style=\"padding-left: 1em; padding-right: 1em; text-align: center; vertical-align: top\">20</td>\n",
       "        <td style=\"padding-left: 1em; padding-right: 1em; text-align: center; vertical-align: top\">5</td>\n",
       "        <td style=\"padding-left: 1em; padding-right: 1em; text-align: center; vertical-align: top\">ApplePie</td>\n",
       "    </tr>\n",
       "    <tr>\n",
       "        <td style=\"padding-left: 1em; padding-right: 1em; text-align: center; vertical-align: top\">2</td>\n",
       "        <td style=\"padding-left: 1em; padding-right: 1em; text-align: center; vertical-align: top\">15-JAN-2000</td>\n",
       "        <td style=\"padding-left: 1em; padding-right: 1em; text-align: center; vertical-align: top\">35</td>\n",
       "        <td style=\"padding-left: 1em; padding-right: 1em; text-align: center; vertical-align: top\">10</td>\n",
       "        <td style=\"padding-left: 1em; padding-right: 1em; text-align: center; vertical-align: top\">1</td>\n",
       "        <td style=\"padding-left: 1em; padding-right: 1em; text-align: center; vertical-align: top\">CoffeeEclair</td>\n",
       "    </tr>\n",
       "    <tr>\n",
       "        <td style=\"padding-left: 1em; padding-right: 1em; text-align: center; vertical-align: top\">2</td>\n",
       "        <td style=\"padding-left: 1em; padding-right: 1em; text-align: center; vertical-align: top\">15-JAN-2000</td>\n",
       "        <td style=\"padding-left: 1em; padding-right: 1em; text-align: center; vertical-align: top\">35</td>\n",
       "        <td style=\"padding-left: 1em; padding-right: 1em; text-align: center; vertical-align: top\">10</td>\n",
       "        <td style=\"padding-left: 1em; padding-right: 1em; text-align: center; vertical-align: top\">3</td>\n",
       "        <td style=\"padding-left: 1em; padding-right: 1em; text-align: center; vertical-align: top\">ApplePie</td>\n",
       "    </tr>\n",
       "    <tr>\n",
       "        <td style=\"padding-left: 1em; padding-right: 1em; text-align: center; vertical-align: top\">2</td>\n",
       "        <td style=\"padding-left: 1em; padding-right: 1em; text-align: center; vertical-align: top\">15-JAN-2000</td>\n",
       "        <td style=\"padding-left: 1em; padding-right: 1em; text-align: center; vertical-align: top\">35</td>\n",
       "        <td style=\"padding-left: 1em; padding-right: 1em; text-align: center; vertical-align: top\">10</td>\n",
       "        <td style=\"padding-left: 1em; padding-right: 1em; text-align: center; vertical-align: top\">4</td>\n",
       "        <td style=\"padding-left: 1em; padding-right: 1em; text-align: center; vertical-align: top\">AlmondTwist</td>\n",
       "    </tr>\n",
       "    <tr>\n",
       "        <td style=\"padding-left: 1em; padding-right: 1em; text-align: center; vertical-align: top\">2</td>\n",
       "        <td style=\"padding-left: 1em; padding-right: 1em; text-align: center; vertical-align: top\">15-JAN-2000</td>\n",
       "        <td style=\"padding-left: 1em; padding-right: 1em; text-align: center; vertical-align: top\">35</td>\n",
       "        <td style=\"padding-left: 1em; padding-right: 1em; text-align: center; vertical-align: top\">10</td>\n",
       "        <td style=\"padding-left: 1em; padding-right: 1em; text-align: center; vertical-align: top\">3</td>\n",
       "        <td style=\"padding-left: 1em; padding-right: 1em; text-align: center; vertical-align: top\">HotCoffee</td>\n",
       "    </tr>\n",
       "    <tr>\n",
       "        <td style=\"padding-left: 1em; padding-right: 1em; text-align: center; vertical-align: top\">3</td>\n",
       "        <td style=\"padding-left: 1em; padding-right: 1em; text-align: center; vertical-align: top\">8-JAN-2000</td>\n",
       "        <td style=\"padding-left: 1em; padding-right: 1em; text-align: center; vertical-align: top\">13</td>\n",
       "        <td style=\"padding-left: 1em; padding-right: 1em; text-align: center; vertical-align: top\">13</td>\n",
       "        <td style=\"padding-left: 1em; padding-right: 1em; text-align: center; vertical-align: top\">5</td>\n",
       "        <td style=\"padding-left: 1em; padding-right: 1em; text-align: center; vertical-align: top\">OperaCake</td>\n",
       "    </tr>\n",
       "    <tr>\n",
       "        <td style=\"padding-left: 1em; padding-right: 1em; text-align: center; vertical-align: top\">3</td>\n",
       "        <td style=\"padding-left: 1em; padding-right: 1em; text-align: center; vertical-align: top\">8-JAN-2000</td>\n",
       "        <td style=\"padding-left: 1em; padding-right: 1em; text-align: center; vertical-align: top\">13</td>\n",
       "        <td style=\"padding-left: 1em; padding-right: 1em; text-align: center; vertical-align: top\">13</td>\n",
       "        <td style=\"padding-left: 1em; padding-right: 1em; text-align: center; vertical-align: top\">3</td>\n",
       "        <td style=\"padding-left: 1em; padding-right: 1em; text-align: center; vertical-align: top\">OrangeJuice</td>\n",
       "    </tr>\n",
       "    <tr>\n",
       "        <td style=\"padding-left: 1em; padding-right: 1em; text-align: center; vertical-align: top\">3</td>\n",
       "        <td style=\"padding-left: 1em; padding-right: 1em; text-align: center; vertical-align: top\">8-JAN-2000</td>\n",
       "        <td style=\"padding-left: 1em; padding-right: 1em; text-align: center; vertical-align: top\">13</td>\n",
       "        <td style=\"padding-left: 1em; padding-right: 1em; text-align: center; vertical-align: top\">13</td>\n",
       "        <td style=\"padding-left: 1em; padding-right: 1em; text-align: center; vertical-align: top\">3</td>\n",
       "        <td style=\"padding-left: 1em; padding-right: 1em; text-align: center; vertical-align: top\">CheeseCroissant</td>\n",
       "    </tr>\n",
       "    <tr>\n",
       "        <td style=\"padding-left: 1em; padding-right: 1em; text-align: center; vertical-align: top\">4</td>\n",
       "        <td style=\"padding-left: 1em; padding-right: 1em; text-align: center; vertical-align: top\">24-JAN-2000</td>\n",
       "        <td style=\"padding-left: 1em; padding-right: 1em; text-align: center; vertical-align: top\">16</td>\n",
       "        <td style=\"padding-left: 1em; padding-right: 1em; text-align: center; vertical-align: top\">16</td>\n",
       "        <td style=\"padding-left: 1em; padding-right: 1em; text-align: center; vertical-align: top\">1</td>\n",
       "        <td style=\"padding-left: 1em; padding-right: 1em; text-align: center; vertical-align: top\">TruffleCake</td>\n",
       "    </tr>\n",
       "</table>\n",
       "[266209 rows x 6 columns]<br/>Note: Only the head of the SFrame is printed.<br/>You can use print_rows(num_rows=m, num_columns=n) to print more rows and columns.\n",
       "</div>"
      ],
      "text/plain": [
       "Columns:\n",
       "\tReceipt\tint\n",
       "\tSaleDate\tstr\n",
       "\tEmpId\tint\n",
       "\tStoreNum\tint\n",
       "\tQuantity\tint\n",
       "\tItem\tstr\n",
       "\n",
       "Rows: 266209\n",
       "\n",
       "Data:\n",
       "+---------+-------------+-------+----------+----------+-----------------+\n",
       "| Receipt |   SaleDate  | EmpId | StoreNum | Quantity |       Item      |\n",
       "+---------+-------------+-------+----------+----------+-----------------+\n",
       "|    1    | 12-JAN-2000 |   20  |    20    |    1     |  GanacheCookie  |\n",
       "|    1    | 12-JAN-2000 |   20  |    20    |    5     |     ApplePie    |\n",
       "|    2    | 15-JAN-2000 |   35  |    10    |    1     |   CoffeeEclair  |\n",
       "|    2    | 15-JAN-2000 |   35  |    10    |    3     |     ApplePie    |\n",
       "|    2    | 15-JAN-2000 |   35  |    10    |    4     |   AlmondTwist   |\n",
       "|    2    | 15-JAN-2000 |   35  |    10    |    3     |    HotCoffee    |\n",
       "|    3    |  8-JAN-2000 |   13  |    13    |    5     |    OperaCake    |\n",
       "|    3    |  8-JAN-2000 |   13  |    13    |    3     |   OrangeJuice   |\n",
       "|    3    |  8-JAN-2000 |   13  |    13    |    3     | CheeseCroissant |\n",
       "|    4    | 24-JAN-2000 |   16  |    16    |    1     |   TruffleCake   |\n",
       "+---------+-------------+-------+----------+----------+-----------------+\n",
       "[266209 rows x 6 columns]\n",
       "Note: Only the head of the SFrame is printed.\n",
       "You can use print_rows(num_rows=m, num_columns=n) to print more rows and columns."
      ]
     },
     "execution_count": 2,
     "metadata": {},
     "output_type": "execute_result"
    }
   ],
   "source": [
    "bakery_sf = gl.SFrame('./bakery_sf')\n",
    "bakery_sf"
   ]
  },
  {
   "cell_type": "markdown",
   "metadata": {},
   "source": [
    "As we can see below, all the coffee products have similar sale frequencies and there is no some particular subset of products that is more preferred than the remaining ones."
   ]
  },
  {
   "cell_type": "code",
   "execution_count": 3,
   "metadata": {
    "collapsed": false
   },
   "outputs": [
    {
     "name": "stdout",
     "output_type": "stream",
     "text": [
      "Number of Unique Items: 50\n",
      "Number of Most Frequent Items, Visualized: 30\n"
     ]
    },
    {
     "data": {
      "image/png": "[encoded data removed]",
      "text/plain": [
       "<matplotlib.figure.Figure at 0x7fead2c06810>"
      ]
     },
     "metadata": {},
     "output_type": "display_data"
    }
   ],
   "source": [
    "%matplotlib inline\n",
    "item_freq_plot(bakery_sf, 'Item', ndigits=3, topk=30, \n",
    "               seaborn_style='whitegrid', seaborn_palette='deep', color='b')"
   ]
  },
  {
   "cell_type": "markdown",
   "metadata": {},
   "source": [
    "Next, we split the **`bakery_sf`** data set in a **training** and a **test part**."
   ]
  },
  {
   "cell_type": "code",
   "execution_count": 4,
   "metadata": {
    "collapsed": true
   },
   "outputs": [],
   "source": [
    "(train, test) = bakery_sf.random_split(0.8, seed=1)"
   ]
  },
  {
   "cell_type": "code",
   "execution_count": 5,
   "metadata": {
    "collapsed": false
   },
   "outputs": [
    {
     "name": "stdout",
     "output_type": "stream",
     "text": [
      "Number of Rows in training set [80pct of Known Examples]: 212930\n",
      "Number of Rows in test set [20pct of Known Examples]: 53279\n"
     ]
    }
   ],
   "source": [
    "print 'Number of Rows in training set [80pct of Known Examples]: %d'   % train.num_rows()\n",
    "print 'Number of Rows in test set [20pct of Known Examples]: %d'   % test.num_rows()"
   ]
  },
  {
   "cell_type": "markdown",
   "metadata": {},
   "source": [
    "In order to run a frequent pattern mining algorithm, we require an **item column**, (the column **`'Item'`** in this example), and a set of **feature columns** that *uniquely identify* a transaction (the columns **`['Receipt', 'StoreNum']`** in this example, since we need to take in account the geophraphical location of each store and the accompanied social-economic criteria that may exist).\n",
    "\n",
    "In addition we need to specify the 3 basic parameters of the **FP-Growth algorithm** which is called by the high-level GraphLab Create (GLC) function. These are:\n",
    "\n",
    "* **`min_support`:** The minimum number of times that a pattern must occur in order to be considered a *frequent* one. Here, we choose a threshold of 1&permil; of total transactions in record to be the `min_support`.\n",
    "* **`max_patterns`:** The maximum number of frequent patterns to be mined.\n",
    "* **`min_length`:** The minimum size (number of elements in the set) of each pattern being mined."
   ]
  },
  {
   "cell_type": "code",
   "execution_count": 6,
   "metadata": {
    "collapsed": false
   },
   "outputs": [
    {
     "data": {
      "text/html": [
       "<pre>Indexing complete. Found 50 unique items.</pre>"
      ],
      "text/plain": [
       "Indexing complete. Found 50 unique items."
      ]
     },
     "metadata": {},
     "output_type": "display_data"
    },
    {
     "data": {
      "text/html": [
       "<pre>Preprocessing complete. Found 73566 unique transactions.</pre>"
      ],
      "text/plain": [
       "Preprocessing complete. Found 73566 unique transactions."
      ]
     },
     "metadata": {},
     "output_type": "display_data"
    },
    {
     "data": {
      "text/html": [
       "<pre>Building frequent pattern tree.</pre>"
      ],
      "text/plain": [
       "Building frequent pattern tree."
      ]
     },
     "metadata": {},
     "output_type": "display_data"
    },
    {
     "data": {
      "text/html": [
       "<pre>+-----------+----------------+------------+----------------------+------------------+</pre>"
      ],
      "text/plain": [
       "+-----------+----------------+------------+----------------------+------------------+"
      ]
     },
     "metadata": {},
     "output_type": "display_data"
    },
    {
     "data": {
      "text/html": [
       "<pre>| Iteration | Num. Patterns  | Support    | Current Min Support  | Elapsed Time     |</pre>"
      ],
      "text/plain": [
       "| Iteration | Num. Patterns  | Support    | Current Min Support  | Elapsed Time     |"
      ]
     },
     "metadata": {},
     "output_type": "display_data"
    },
    {
     "data": {
      "text/html": [
       "<pre>+-----------+----------------+------------+----------------------+------------------+</pre>"
      ],
      "text/plain": [
       "+-----------+----------------+------------+----------------------+------------------+"
      ]
     },
     "metadata": {},
     "output_type": "display_data"
    },
    {
     "data": {
      "text/html": [
       "<pre>| 0         | 0              | 6550       | 212                  | 323us            |</pre>"
      ],
      "text/plain": [
       "| 0         | 0              | 6550       | 212                  | 323us            |"
      ]
     },
     "metadata": {},
     "output_type": "display_data"
    },
    {
     "data": {
      "text/html": [
       "<pre>| 1         | 0              | 6167       | 212                  | 506us            |</pre>"
      ],
      "text/plain": [
       "| 1         | 0              | 6167       | 212                  | 506us            |"
      ]
     },
     "metadata": {},
     "output_type": "display_data"
    },
    {
     "data": {
      "text/html": [
       "<pre>| 2         | 0              | 6050       | 212                  | 667us            |</pre>"
      ],
      "text/plain": [
       "| 2         | 0              | 6050       | 212                  | 667us            |"
      ]
     },
     "metadata": {},
     "output_type": "display_data"
    },
    {
     "data": {
      "text/html": [
       "<pre>| 3         | 0              | 5587       | 212                  | 900us            |</pre>"
      ],
      "text/plain": [
       "| 3         | 0              | 5587       | 212                  | 900us            |"
      ]
     },
     "metadata": {},
     "output_type": "display_data"
    },
    {
     "data": {
      "text/html": [
       "<pre>| 4         | 0              | 5563       | 212                  | 1.027ms          |</pre>"
      ],
      "text/plain": [
       "| 4         | 0              | 5563       | 212                  | 1.027ms          |"
      ]
     },
     "metadata": {},
     "output_type": "display_data"
    },
    {
     "data": {
      "text/html": [
       "<pre>| 5         | 0              | 5548       | 212                  | 1.223ms          |</pre>"
      ],
      "text/plain": [
       "| 5         | 0              | 5548       | 212                  | 1.223ms          |"
      ]
     },
     "metadata": {},
     "output_type": "display_data"
    },
    {
     "data": {
      "text/html": [
       "<pre>| 6         | 0              | 5495       | 212                  | 1.43ms           |</pre>"
      ],
      "text/plain": [
       "| 6         | 0              | 5495       | 212                  | 1.43ms           |"
      ]
     },
     "metadata": {},
     "output_type": "display_data"
    },
    {
     "data": {
      "text/html": [
       "<pre>| 7         | 0              | 5438       | 212                  | 1.721ms          |</pre>"
      ],
      "text/plain": [
       "| 7         | 0              | 5438       | 212                  | 1.721ms          |"
      ]
     },
     "metadata": {},
     "output_type": "display_data"
    },
    {
     "data": {
      "text/html": [
       "<pre>| 8         | 0              | 5376       | 212                  | 2.114ms          |</pre>"
      ],
      "text/plain": [
       "| 8         | 0              | 5376       | 212                  | 2.114ms          |"
      ]
     },
     "metadata": {},
     "output_type": "display_data"
    },
    {
     "data": {
      "text/html": [
       "<pre>| 9         | 0              | 5088       | 212                  | 6.003ms          |</pre>"
      ],
      "text/plain": [
       "| 9         | 0              | 5088       | 212                  | 6.003ms          |"
      ]
     },
     "metadata": {},
     "output_type": "display_data"
    },
    {
     "data": {
      "text/html": [
       "<pre>| 10        | 0              | 5071       | 212                  | 6.46ms           |</pre>"
      ],
      "text/plain": [
       "| 10        | 0              | 5071       | 212                  | 6.46ms           |"
      ]
     },
     "metadata": {},
     "output_type": "display_data"
    },
    {
     "data": {
      "text/html": [
       "<pre>| 11        | 0              | 5040       | 212                  | 7.079ms          |</pre>"
      ],
      "text/plain": [
       "| 11        | 0              | 5040       | 212                  | 7.079ms          |"
      ]
     },
     "metadata": {},
     "output_type": "display_data"
    },
    {
     "data": {
      "text/html": [
       "<pre>| 12        | 0              | 4994       | 212                  | 8.143ms          |</pre>"
      ],
      "text/plain": [
       "| 12        | 0              | 4994       | 212                  | 8.143ms          |"
      ]
     },
     "metadata": {},
     "output_type": "display_data"
    },
    {
     "data": {
      "text/html": [
       "<pre>| 13        | 0              | 4981       | 212                  | 8.866ms          |</pre>"
      ],
      "text/plain": [
       "| 13        | 0              | 4981       | 212                  | 8.866ms          |"
      ]
     },
     "metadata": {},
     "output_type": "display_data"
    },
    {
     "data": {
      "text/html": [
       "<pre>| 14        | 0              | 4949       | 212                  | 9.647ms          |</pre>"
      ],
      "text/plain": [
       "| 14        | 0              | 4949       | 212                  | 9.647ms          |"
      ]
     },
     "metadata": {},
     "output_type": "display_data"
    },
    {
     "data": {
      "text/html": [
       "<pre>| 15        | 0              | 4948       | 212                  | 10.626ms         |</pre>"
      ],
      "text/plain": [
       "| 15        | 0              | 4948       | 212                  | 10.626ms         |"
      ]
     },
     "metadata": {},
     "output_type": "display_data"
    },
    {
     "data": {
      "text/html": [
       "<pre>| 16        | 0              | 4932       | 212                  | 14.178ms         |</pre>"
      ],
      "text/plain": [
       "| 16        | 0              | 4932       | 212                  | 14.178ms         |"
      ]
     },
     "metadata": {},
     "output_type": "display_data"
    },
    {
     "data": {
      "text/html": [
       "<pre>| 17        | 0              | 4914       | 212                  | 15.751ms         |</pre>"
      ],
      "text/plain": [
       "| 17        | 0              | 4914       | 212                  | 15.751ms         |"
      ]
     },
     "metadata": {},
     "output_type": "display_data"
    },
    {
     "data": {
      "text/html": [
       "<pre>| 18        | 0              | 4913       | 212                  | 16.448ms         |</pre>"
      ],
      "text/plain": [
       "| 18        | 0              | 4913       | 212                  | 16.448ms         |"
      ]
     },
     "metadata": {},
     "output_type": "display_data"
    },
    {
     "data": {
      "text/html": [
       "<pre>| 19        | 0              | 4690       | 212                  | 17.215ms         |</pre>"
      ],
      "text/plain": [
       "| 19        | 0              | 4690       | 212                  | 17.215ms         |"
      ]
     },
     "metadata": {},
     "output_type": "display_data"
    },
    {
     "data": {
      "text/html": [
       "<pre>| 20        | 0              | 4681       | 212                  | 17.919ms         |</pre>"
      ],
      "text/plain": [
       "| 20        | 0              | 4681       | 212                  | 17.919ms         |"
      ]
     },
     "metadata": {},
     "output_type": "display_data"
    },
    {
     "data": {
      "text/html": [
       "<pre>| 21        | 0              | 4613       | 212                  | 18.667ms         |</pre>"
      ],
      "text/plain": [
       "| 21        | 0              | 4613       | 212                  | 18.667ms         |"
      ]
     },
     "metadata": {},
     "output_type": "display_data"
    },
    {
     "data": {
      "text/html": [
       "<pre>| 22        | 0              | 4592       | 212                  | 19.765ms         |</pre>"
      ],
      "text/plain": [
       "| 22        | 0              | 4592       | 212                  | 19.765ms         |"
      ]
     },
     "metadata": {},
     "output_type": "display_data"
    },
    {
     "data": {
      "text/html": [
       "<pre>| 23        | 1              | 4568       | 212                  | 20.513ms         |</pre>"
      ],
      "text/plain": [
       "| 23        | 1              | 4568       | 212                  | 20.513ms         |"
      ]
     },
     "metadata": {},
     "output_type": "display_data"
    },
    {
     "data": {
      "text/html": [
       "<pre>| 24        | 1              | 4506       | 212                  | 21.43ms          |</pre>"
      ],
      "text/plain": [
       "| 24        | 1              | 4506       | 212                  | 21.43ms          |"
      ]
     },
     "metadata": {},
     "output_type": "display_data"
    },
    {
     "data": {
      "text/html": [
       "<pre>| 25        | 1              | 4496       | 212                  | 26.342ms         |</pre>"
      ],
      "text/plain": [
       "| 25        | 1              | 4496       | 212                  | 26.342ms         |"
      ]
     },
     "metadata": {},
     "output_type": "display_data"
    },
    {
     "data": {
      "text/html": [
       "<pre>| 26        | 1              | 4398       | 212                  | 27.556ms         |</pre>"
      ],
      "text/plain": [
       "| 26        | 1              | 4398       | 212                  | 27.556ms         |"
      ]
     },
     "metadata": {},
     "output_type": "display_data"
    },
    {
     "data": {
      "text/html": [
       "<pre>| 27        | 1              | 4122       | 212                  | 28.757ms         |</pre>"
      ],
      "text/plain": [
       "| 27        | 1              | 4122       | 212                  | 28.757ms         |"
      ]
     },
     "metadata": {},
     "output_type": "display_data"
    },
    {
     "data": {
      "text/html": [
       "<pre>| 28        | 1              | 4101       | 212                  | 29.566ms         |</pre>"
      ],
      "text/plain": [
       "| 28        | 1              | 4101       | 212                  | 29.566ms         |"
      ]
     },
     "metadata": {},
     "output_type": "display_data"
    },
    {
     "data": {
      "text/html": [
       "<pre>| 29        | 1              | 4074       | 212                  | 30.541ms         |</pre>"
      ],
      "text/plain": [
       "| 29        | 1              | 4074       | 212                  | 30.541ms         |"
      ]
     },
     "metadata": {},
     "output_type": "display_data"
    },
    {
     "data": {
      "text/html": [
       "<pre>| 30        | 1              | 4071       | 212                  | 31.547ms         |</pre>"
      ],
      "text/plain": [
       "| 30        | 1              | 4071       | 212                  | 31.547ms         |"
      ]
     },
     "metadata": {},
     "output_type": "display_data"
    },
    {
     "data": {
      "text/html": [
       "<pre>| 31        | 1              | 4057       | 212                  | 35.024ms         |</pre>"
      ],
      "text/plain": [
       "| 31        | 1              | 4057       | 212                  | 35.024ms         |"
      ]
     },
     "metadata": {},
     "output_type": "display_data"
    },
    {
     "data": {
      "text/html": [
       "<pre>| 32        | 1              | 4056       | 212                  | 37.9ms           |</pre>"
      ],
      "text/plain": [
       "| 32        | 1              | 4056       | 212                  | 37.9ms           |"
      ]
     },
     "metadata": {},
     "output_type": "display_data"
    },
    {
     "data": {
      "text/html": [
       "<pre>| 33        | 1              | 4055       | 212                  | 39.225ms         |</pre>"
      ],
      "text/plain": [
       "| 33        | 1              | 4055       | 212                  | 39.225ms         |"
      ]
     },
     "metadata": {},
     "output_type": "display_data"
    },
    {
     "data": {
      "text/html": [
       "<pre>| 34        | 1              | 4042       | 212                  | 40.44ms          |</pre>"
      ],
      "text/plain": [
       "| 34        | 1              | 4042       | 212                  | 40.44ms          |"
      ]
     },
     "metadata": {},
     "output_type": "display_data"
    },
    {
     "data": {
      "text/html": [
       "<pre>| 35        | 2              | 4014       | 212                  | 41.841ms         |</pre>"
      ],
      "text/plain": [
       "| 35        | 2              | 4014       | 212                  | 41.841ms         |"
      ]
     },
     "metadata": {},
     "output_type": "display_data"
    },
    {
     "data": {
      "text/html": [
       "<pre>| 36        | 2              | 3711       | 212                  | 47.035ms         |</pre>"
      ],
      "text/plain": [
       "| 36        | 2              | 3711       | 212                  | 47.035ms         |"
      ]
     },
     "metadata": {},
     "output_type": "display_data"
    },
    {
     "data": {
      "text/html": [
       "<pre>| 37        | 3              | 3707       | 212                  | 48.709ms         |</pre>"
      ],
      "text/plain": [
       "| 37        | 3              | 3707       | 212                  | 48.709ms         |"
      ]
     },
     "metadata": {},
     "output_type": "display_data"
    },
    {
     "data": {
      "text/html": [
       "<pre>| 38        | 8              | 2661       | 212                  | 50.497ms         |</pre>"
      ],
      "text/plain": [
       "| 38        | 8              | 2661       | 212                  | 50.497ms         |"
      ]
     },
     "metadata": {},
     "output_type": "display_data"
    },
    {
     "data": {
      "text/html": [
       "<pre>| 39        | 8              | 2619       | 212                  | 54.198ms         |</pre>"
      ],
      "text/plain": [
       "| 39        | 8              | 2619       | 212                  | 54.198ms         |"
      ]
     },
     "metadata": {},
     "output_type": "display_data"
    },
    {
     "data": {
      "text/html": [
       "<pre>| 40        | 8              | 2595       | 212                  | 58.03ms          |</pre>"
      ],
      "text/plain": [
       "| 40        | 8              | 2595       | 212                  | 58.03ms          |"
      ]
     },
     "metadata": {},
     "output_type": "display_data"
    },
    {
     "data": {
      "text/html": [
       "<pre>| 41        | 8              | 2593       | 212                  | 59.483ms         |</pre>"
      ],
      "text/plain": [
       "| 41        | 8              | 2593       | 212                  | 59.483ms         |"
      ]
     },
     "metadata": {},
     "output_type": "display_data"
    },
    {
     "data": {
      "text/html": [
       "<pre>| 42        | 8              | 2576       | 212                  | 60.878ms         |</pre>"
      ],
      "text/plain": [
       "| 42        | 8              | 2576       | 212                  | 60.878ms         |"
      ]
     },
     "metadata": {},
     "output_type": "display_data"
    },
    {
     "data": {
      "text/html": [
       "<pre>| 43        | 8              | 2551       | 212                  | 63.732ms         |</pre>"
      ],
      "text/plain": [
       "| 43        | 8              | 2551       | 212                  | 63.732ms         |"
      ]
     },
     "metadata": {},
     "output_type": "display_data"
    },
    {
     "data": {
      "text/html": [
       "<pre>| 44        | 8              | 2544       | 212                  | 67.785ms         |</pre>"
      ],
      "text/plain": [
       "| 44        | 8              | 2544       | 212                  | 67.785ms         |"
      ]
     },
     "metadata": {},
     "output_type": "display_data"
    },
    {
     "data": {
      "text/html": [
       "<pre>| 45        | 8              | 2538       | 212                  | 74.226ms         |</pre>"
      ],
      "text/plain": [
       "| 45        | 8              | 2538       | 212                  | 74.226ms         |"
      ]
     },
     "metadata": {},
     "output_type": "display_data"
    },
    {
     "data": {
      "text/html": [
       "<pre>| 46        | 8              | 2533       | 212                  | 79.034ms         |</pre>"
      ],
      "text/plain": [
       "| 46        | 8              | 2533       | 212                  | 79.034ms         |"
      ]
     },
     "metadata": {},
     "output_type": "display_data"
    },
    {
     "data": {
      "text/html": [
       "<pre>| 47        | 8              | 2530       | 212                  | 87.432ms         |</pre>"
      ],
      "text/plain": [
       "| 47        | 8              | 2530       | 212                  | 87.432ms         |"
      ]
     },
     "metadata": {},
     "output_type": "display_data"
    },
    {
     "data": {
      "text/html": [
       "<pre>| 48        | 8              | 2521       | 212                  | 90.564ms         |</pre>"
      ],
      "text/plain": [
       "| 48        | 8              | 2521       | 212                  | 90.564ms         |"
      ]
     },
     "metadata": {},
     "output_type": "display_data"
    },
    {
     "data": {
      "text/html": [
       "<pre>| 49        | 8              | 2511       | 212                  | 94.818ms         |</pre>"
      ],
      "text/plain": [
       "| 49        | 8              | 2511       | 212                  | 94.818ms         |"
      ]
     },
     "metadata": {},
     "output_type": "display_data"
    },
    {
     "data": {
      "text/html": [
       "<pre>| Final     | 8              | -          | 212                  | 97.766ms         |</pre>"
      ],
      "text/plain": [
       "| Final     | 8              | -          | 212                  | 97.766ms         |"
      ]
     },
     "metadata": {},
     "output_type": "display_data"
    },
    {
     "data": {
      "text/html": [
       "<pre>+-----------+----------------+------------+----------------------+------------------+</pre>"
      ],
      "text/plain": [
       "+-----------+----------------+------------+----------------------+------------------+"
      ]
     },
     "metadata": {},
     "output_type": "display_data"
    },
    {
     "data": {
      "text/html": [
       "<pre>Pattern mining complete. Found 8 unique closed patterns.</pre>"
      ],
      "text/plain": [
       "Pattern mining complete. Found 8 unique closed patterns."
      ]
     },
     "metadata": {},
     "output_type": "display_data"
    }
   ],
   "source": [
    "min_support = int(train.num_rows()*0.001)\n",
    "\n",
    "model = gl.frequent_pattern_mining.create(train, 'Item', \n",
    "                                          features=['Receipt', 'StoreNum'], \n",
    "                                          min_support=min_support,\n",
    "                                          max_patterns=500, \n",
    "                                          min_length=4)"
   ]
  },
  {
   "cell_type": "markdown",
   "metadata": {},
   "source": [
    "Here, we obtain the most frequent feature patterns."
   ]
  },
  {
   "cell_type": "code",
   "execution_count": 7,
   "metadata": {
    "collapsed": false
   },
   "outputs": [
    {
     "name": "stdout",
     "output_type": "stream",
     "text": [
      "The most frequent feature patters are:\n",
      "-----------------------------------------\n",
      "+----------------------------------------------------------------------------+---------+\n",
      "|                                  pattern                                   | support |\n",
      "+----------------------------------------------------------------------------+---------+\n",
      "|              [CoffeeEclair, HotCoffee, ApplePie, AlmondTwist]              |   877   |\n",
      "|      [LemonLemonade, RaspberryCookie, LemonCookie, RaspberryLemonade]      |   813   |\n",
      "|          [LemonLemonade, RaspberryCookie, LemonCookie, GreenTea]           |   649   |\n",
      "|        [RaspberryCookie, LemonCookie, RaspberryLemonade, GreenTea]         |   645   |\n",
      "|            [AppleTart, AppleDanish, AppleCroissant, CherrySoda]            |   640   |\n",
      "|         [LemonLemonade, LemonCookie, RaspberryLemonade, GreenTea]          |   630   |\n",
      "|       [LemonLemonade, RaspberryCookie, RaspberryLemonade, GreenTea]        |   620   |\n",
      "| [LemonLemonade, RaspberryCookie, LemonCookie, RaspberryLemonade, GreenTea] |   512   |\n",
      "+----------------------------------------------------------------------------+---------+\n",
      "[8 rows x 2 columns]\n",
      "\n"
     ]
    }
   ],
   "source": [
    "print 'The most frequent feature patters are:'\n",
    "print '-----------------------------------------'\n",
    "model.frequent_patterns.print_rows(max_column_width=80, max_row_width=90)"
   ]
  },
  {
   "cell_type": "markdown",
   "metadata": {},
   "source": [
    "Note that the **`'pattern'`** column contains the patterns that occur frequently together, whereas the **`'support'`** column contains the number of times these patterns occur together in the entire dataset. \n",
    "\n",
    "In this example, the pattern:\n",
    "```\n",
    "[CoffeeEclair, HotCoffee, ApplePie, AlmondTwist]\n",
    "```\n",
    "occurred 877 times in the training data.\n",
    "\n",
    "\n",
    "**Definition**\n",
    "\n",
    "> A **frequent pattern** is a *set of items* with a *support greater than* user-specified **minimum support threshold**.\n",
    "\n",
    "However, there is significant redundancy in mining frequent patterns; every subset of a frequent pattern is also frequent (e.g. `'CoffeeEclair'` must be frequent if `['CoffeeEclair'`, `'HotCoffee']` is frequent). The frequent pattern mining toolkit avoids this redundancy by mining the closed frequent patterns, i.e. *frequent patterns with no superset of the same support*. This is achieved by the very design of the [TFP-Growth Algorithm](https://www.computer.org/csdl/trans/tk/2005/05/k0652-abs.html).\n",
    "\n",
    "Note, that by relaxing the **`min_length`** requirement, one can obtain more frequent patterns of sold coffe products."
   ]
  },
  {
   "cell_type": "code",
   "execution_count": 8,
   "metadata": {
    "collapsed": false
   },
   "outputs": [
    {
     "data": {
      "text/html": [
       "<pre>Indexing complete. Found 50 unique items.</pre>"
      ],
      "text/plain": [
       "Indexing complete. Found 50 unique items."
      ]
     },
     "metadata": {},
     "output_type": "display_data"
    },
    {
     "data": {
      "text/html": [
       "<pre>Preprocessing complete. Found 73566 unique transactions.</pre>"
      ],
      "text/plain": [
       "Preprocessing complete. Found 73566 unique transactions."
      ]
     },
     "metadata": {},
     "output_type": "display_data"
    },
    {
     "data": {
      "text/html": [
       "<pre>Building frequent pattern tree.</pre>"
      ],
      "text/plain": [
       "Building frequent pattern tree."
      ]
     },
     "metadata": {},
     "output_type": "display_data"
    },
    {
     "data": {
      "text/html": [
       "<pre>+-----------+----------------+------------+----------------------+------------------+</pre>"
      ],
      "text/plain": [
       "+-----------+----------------+------------+----------------------+------------------+"
      ]
     },
     "metadata": {},
     "output_type": "display_data"
    },
    {
     "data": {
      "text/html": [
       "<pre>| Iteration | Num. Patterns  | Support    | Current Min Support  | Elapsed Time     |</pre>"
      ],
      "text/plain": [
       "| Iteration | Num. Patterns  | Support    | Current Min Support  | Elapsed Time     |"
      ]
     },
     "metadata": {},
     "output_type": "display_data"
    },
    {
     "data": {
      "text/html": [
       "<pre>+-----------+----------------+------------+----------------------+------------------+</pre>"
      ],
      "text/plain": [
       "+-----------+----------------+------------+----------------------+------------------+"
      ]
     },
     "metadata": {},
     "output_type": "display_data"
    },
    {
     "data": {
      "text/html": [
       "<pre>| 0         | 0              | 6550       | 212                  | 136us            |</pre>"
      ],
      "text/plain": [
       "| 0         | 0              | 6550       | 212                  | 136us            |"
      ]
     },
     "metadata": {},
     "output_type": "display_data"
    },
    {
     "data": {
      "text/html": [
       "<pre>| 1         | 0              | 6167       | 212                  | 197us            |</pre>"
      ],
      "text/plain": [
       "| 1         | 0              | 6167       | 212                  | 197us            |"
      ]
     },
     "metadata": {},
     "output_type": "display_data"
    },
    {
     "data": {
      "text/html": [
       "<pre>| 2         | 0              | 6050       | 212                  | 236us            |</pre>"
      ],
      "text/plain": [
       "| 2         | 0              | 6050       | 212                  | 236us            |"
      ]
     },
     "metadata": {},
     "output_type": "display_data"
    },
    {
     "data": {
      "text/html": [
       "<pre>| 3         | 0              | 5587       | 212                  | 281us            |</pre>"
      ],
      "text/plain": [
       "| 3         | 0              | 5587       | 212                  | 281us            |"
      ]
     },
     "metadata": {},
     "output_type": "display_data"
    },
    {
     "data": {
      "text/html": [
       "<pre>| 4         | 0              | 5563       | 212                  | 327us            |</pre>"
      ],
      "text/plain": [
       "| 4         | 0              | 5563       | 212                  | 327us            |"
      ]
     },
     "metadata": {},
     "output_type": "display_data"
    },
    {
     "data": {
      "text/html": [
       "<pre>| 5         | 0              | 5548       | 212                  | 426us            |</pre>"
      ],
      "text/plain": [
       "| 5         | 0              | 5548       | 212                  | 426us            |"
      ]
     },
     "metadata": {},
     "output_type": "display_data"
    },
    {
     "data": {
      "text/html": [
       "<pre>| 6         | 0              | 5495       | 212                  | 505us            |</pre>"
      ],
      "text/plain": [
       "| 6         | 0              | 5495       | 212                  | 505us            |"
      ]
     },
     "metadata": {},
     "output_type": "display_data"
    },
    {
     "data": {
      "text/html": [
       "<pre>| 7         | 0              | 5438       | 212                  | 608us            |</pre>"
      ],
      "text/plain": [
       "| 7         | 0              | 5438       | 212                  | 608us            |"
      ]
     },
     "metadata": {},
     "output_type": "display_data"
    },
    {
     "data": {
      "text/html": [
       "<pre>| 8         | 0              | 5376       | 212                  | 756us            |</pre>"
      ],
      "text/plain": [
       "| 8         | 0              | 5376       | 212                  | 756us            |"
      ]
     },
     "metadata": {},
     "output_type": "display_data"
    },
    {
     "data": {
      "text/html": [
       "<pre>| 9         | 0              | 5088       | 212                  | 980us            |</pre>"
      ],
      "text/plain": [
       "| 9         | 0              | 5088       | 212                  | 980us            |"
      ]
     },
     "metadata": {},
     "output_type": "display_data"
    },
    {
     "data": {
      "text/html": [
       "<pre>| 10        | 0              | 5071       | 212                  | 1.127ms          |</pre>"
      ],
      "text/plain": [
       "| 10        | 0              | 5071       | 212                  | 1.127ms          |"
      ]
     },
     "metadata": {},
     "output_type": "display_data"
    },
    {
     "data": {
      "text/html": [
       "<pre>| 11        | 0              | 5040       | 212                  | 1.349ms          |</pre>"
      ],
      "text/plain": [
       "| 11        | 0              | 5040       | 212                  | 1.349ms          |"
      ]
     },
     "metadata": {},
     "output_type": "display_data"
    },
    {
     "data": {
      "text/html": [
       "<pre>| 12        | 0              | 4994       | 212                  | 1.738ms          |</pre>"
      ],
      "text/plain": [
       "| 12        | 0              | 4994       | 212                  | 1.738ms          |"
      ]
     },
     "metadata": {},
     "output_type": "display_data"
    },
    {
     "data": {
      "text/html": [
       "<pre>| 13        | 0              | 4981       | 212                  | 2.006ms          |</pre>"
      ],
      "text/plain": [
       "| 13        | 0              | 4981       | 212                  | 2.006ms          |"
      ]
     },
     "metadata": {},
     "output_type": "display_data"
    },
    {
     "data": {
      "text/html": [
       "<pre>| 14        | 0              | 4949       | 212                  | 2.301ms          |</pre>"
      ],
      "text/plain": [
       "| 14        | 0              | 4949       | 212                  | 2.301ms          |"
      ]
     },
     "metadata": {},
     "output_type": "display_data"
    },
    {
     "data": {
      "text/html": [
       "<pre>| 15        | 1              | 4948       | 212                  | 2.666ms          |</pre>"
      ],
      "text/plain": [
       "| 15        | 1              | 4948       | 212                  | 2.666ms          |"
      ]
     },
     "metadata": {},
     "output_type": "display_data"
    },
    {
     "data": {
      "text/html": [
       "<pre>| 16        | 2              | 4932       | 212                  | 3.176ms          |</pre>"
      ],
      "text/plain": [
       "| 16        | 2              | 4932       | 212                  | 3.176ms          |"
      ]
     },
     "metadata": {},
     "output_type": "display_data"
    },
    {
     "data": {
      "text/html": [
       "<pre>| 17        | 2              | 4914       | 212                  | 8.244ms          |</pre>"
      ],
      "text/plain": [
       "| 17        | 2              | 4914       | 212                  | 8.244ms          |"
      ]
     },
     "metadata": {},
     "output_type": "display_data"
    },
    {
     "data": {
      "text/html": [
       "<pre>| 18        | 2              | 4913       | 212                  | 9.03ms           |</pre>"
      ],
      "text/plain": [
       "| 18        | 2              | 4913       | 212                  | 9.03ms           |"
      ]
     },
     "metadata": {},
     "output_type": "display_data"
    },
    {
     "data": {
      "text/html": [
       "<pre>| 19        | 2              | 4690       | 212                  | 10.509ms         |</pre>"
      ],
      "text/plain": [
       "| 19        | 2              | 4690       | 212                  | 10.509ms         |"
      ]
     },
     "metadata": {},
     "output_type": "display_data"
    },
    {
     "data": {
      "text/html": [
       "<pre>| 20        | 3              | 4681       | 212                  | 11.23ms          |</pre>"
      ],
      "text/plain": [
       "| 20        | 3              | 4681       | 212                  | 11.23ms          |"
      ]
     },
     "metadata": {},
     "output_type": "display_data"
    },
    {
     "data": {
      "text/html": [
       "<pre>| 21        | 3              | 4613       | 212                  | 12ms             |</pre>"
      ],
      "text/plain": [
       "| 21        | 3              | 4613       | 212                  | 12ms             |"
      ]
     },
     "metadata": {},
     "output_type": "display_data"
    },
    {
     "data": {
      "text/html": [
       "<pre>| 22        | 3              | 4592       | 212                  | 13.167ms         |</pre>"
      ],
      "text/plain": [
       "| 22        | 3              | 4592       | 212                  | 13.167ms         |"
      ]
     },
     "metadata": {},
     "output_type": "display_data"
    },
    {
     "data": {
      "text/html": [
       "<pre>| 23        | 7              | 4568       | 212                  | 17.006ms         |</pre>"
      ],
      "text/plain": [
       "| 23        | 7              | 4568       | 212                  | 17.006ms         |"
      ]
     },
     "metadata": {},
     "output_type": "display_data"
    },
    {
     "data": {
      "text/html": [
       "<pre>| 24        | 7              | 4506       | 212                  | 17.991ms         |</pre>"
      ],
      "text/plain": [
       "| 24        | 7              | 4506       | 212                  | 17.991ms         |"
      ]
     },
     "metadata": {},
     "output_type": "display_data"
    },
    {
     "data": {
      "text/html": [
       "<pre>| 25        | 7              | 4496       | 212                  | 19.307ms         |</pre>"
      ],
      "text/plain": [
       "| 25        | 7              | 4496       | 212                  | 19.307ms         |"
      ]
     },
     "metadata": {},
     "output_type": "display_data"
    },
    {
     "data": {
      "text/html": [
       "<pre>| 26        | 8              | 4398       | 212                  | 22.386ms         |</pre>"
      ],
      "text/plain": [
       "| 26        | 8              | 4398       | 212                  | 22.386ms         |"
      ]
     },
     "metadata": {},
     "output_type": "display_data"
    },
    {
     "data": {
      "text/html": [
       "<pre>| 27        | 8              | 4122       | 212                  | 23.603ms         |</pre>"
      ],
      "text/plain": [
       "| 27        | 8              | 4122       | 212                  | 23.603ms         |"
      ]
     },
     "metadata": {},
     "output_type": "display_data"
    },
    {
     "data": {
      "text/html": [
       "<pre>| 28        | 8              | 4101       | 212                  | 25.248ms         |</pre>"
      ],
      "text/plain": [
       "| 28        | 8              | 4101       | 212                  | 25.248ms         |"
      ]
     },
     "metadata": {},
     "output_type": "display_data"
    },
    {
     "data": {
      "text/html": [
       "<pre>| 29        | 9              | 4074       | 212                  | 27.619ms         |</pre>"
      ],
      "text/plain": [
       "| 29        | 9              | 4074       | 212                  | 27.619ms         |"
      ]
     },
     "metadata": {},
     "output_type": "display_data"
    },
    {
     "data": {
      "text/html": [
       "<pre>| 30        | 9              | 4071       | 212                  | 28.657ms         |</pre>"
      ],
      "text/plain": [
       "| 30        | 9              | 4071       | 212                  | 28.657ms         |"
      ]
     },
     "metadata": {},
     "output_type": "display_data"
    },
    {
     "data": {
      "text/html": [
       "<pre>| 31        | 9              | 4057       | 212                  | 31.523ms         |</pre>"
      ],
      "text/plain": [
       "| 31        | 9              | 4057       | 212                  | 31.523ms         |"
      ]
     },
     "metadata": {},
     "output_type": "display_data"
    },
    {
     "data": {
      "text/html": [
       "<pre>| 32        | 9              | 4056       | 212                  | 32.597ms         |</pre>"
      ],
      "text/plain": [
       "| 32        | 9              | 4056       | 212                  | 32.597ms         |"
      ]
     },
     "metadata": {},
     "output_type": "display_data"
    },
    {
     "data": {
      "text/html": [
       "<pre>| 33        | 10             | 4055       | 212                  | 34.037ms         |</pre>"
      ],
      "text/plain": [
       "| 33        | 10             | 4055       | 212                  | 34.037ms         |"
      ]
     },
     "metadata": {},
     "output_type": "display_data"
    },
    {
     "data": {
      "text/html": [
       "<pre>| 34        | 11             | 4042       | 212                  | 35.372ms         |</pre>"
      ],
      "text/plain": [
       "| 34        | 11             | 4042       | 212                  | 35.372ms         |"
      ]
     },
     "metadata": {},
     "output_type": "display_data"
    },
    {
     "data": {
      "text/html": [
       "<pre>| 35        | 15             | 4014       | 212                  | 39.88ms          |</pre>"
      ],
      "text/plain": [
       "| 35        | 15             | 4014       | 212                  | 39.88ms          |"
      ]
     },
     "metadata": {},
     "output_type": "display_data"
    },
    {
     "data": {
      "text/html": [
       "<pre>| 36        | 16             | 3711       | 212                  | 42.295ms         |</pre>"
      ],
      "text/plain": [
       "| 36        | 16             | 3711       | 212                  | 42.295ms         |"
      ]
     },
     "metadata": {},
     "output_type": "display_data"
    },
    {
     "data": {
      "text/html": [
       "<pre>| 37        | 20             | 3707       | 212                  | 43.932ms         |</pre>"
      ],
      "text/plain": [
       "| 37        | 20             | 3707       | 212                  | 43.932ms         |"
      ]
     },
     "metadata": {},
     "output_type": "display_data"
    },
    {
     "data": {
      "text/html": [
       "<pre>| 38        | 31             | 2661       | 212                  | 45.544ms         |</pre>"
      ],
      "text/plain": [
       "| 38        | 31             | 2661       | 212                  | 45.544ms         |"
      ]
     },
     "metadata": {},
     "output_type": "display_data"
    },
    {
     "data": {
      "text/html": [
       "<pre>| 39        | 31             | 2619       | 212                  | 50.274ms         |</pre>"
      ],
      "text/plain": [
       "| 39        | 31             | 2619       | 212                  | 50.274ms         |"
      ]
     },
     "metadata": {},
     "output_type": "display_data"
    },
    {
     "data": {
      "text/html": [
       "<pre>| 40        | 31             | 2595       | 212                  | 53.028ms         |</pre>"
      ],
      "text/plain": [
       "| 40        | 31             | 2595       | 212                  | 53.028ms         |"
      ]
     },
     "metadata": {},
     "output_type": "display_data"
    },
    {
     "data": {
      "text/html": [
       "<pre>| 41        | 31             | 2593       | 212                  | 54.466ms         |</pre>"
      ],
      "text/plain": [
       "| 41        | 31             | 2593       | 212                  | 54.466ms         |"
      ]
     },
     "metadata": {},
     "output_type": "display_data"
    },
    {
     "data": {
      "text/html": [
       "<pre>| 42        | 31             | 2576       | 212                  | 57.166ms         |</pre>"
      ],
      "text/plain": [
       "| 42        | 31             | 2576       | 212                  | 57.166ms         |"
      ]
     },
     "metadata": {},
     "output_type": "display_data"
    },
    {
     "data": {
      "text/html": [
       "<pre>| 43        | 31             | 2551       | 212                  | 59.702ms         |</pre>"
      ],
      "text/plain": [
       "| 43        | 31             | 2551       | 212                  | 59.702ms         |"
      ]
     },
     "metadata": {},
     "output_type": "display_data"
    },
    {
     "data": {
      "text/html": [
       "<pre>| 44        | 31             | 2544       | 212                  | 61.346ms         |</pre>"
      ],
      "text/plain": [
       "| 44        | 31             | 2544       | 212                  | 61.346ms         |"
      ]
     },
     "metadata": {},
     "output_type": "display_data"
    },
    {
     "data": {
      "text/html": [
       "<pre>| 45        | 31             | 2538       | 212                  | 66.165ms         |</pre>"
      ],
      "text/plain": [
       "| 45        | 31             | 2538       | 212                  | 66.165ms         |"
      ]
     },
     "metadata": {},
     "output_type": "display_data"
    },
    {
     "data": {
      "text/html": [
       "<pre>| 46        | 31             | 2533       | 212                  | 68.72ms          |</pre>"
      ],
      "text/plain": [
       "| 46        | 31             | 2533       | 212                  | 68.72ms          |"
      ]
     },
     "metadata": {},
     "output_type": "display_data"
    },
    {
     "data": {
      "text/html": [
       "<pre>| 47        | 31             | 2530       | 212                  | 70.495ms         |</pre>"
      ],
      "text/plain": [
       "| 47        | 31             | 2530       | 212                  | 70.495ms         |"
      ]
     },
     "metadata": {},
     "output_type": "display_data"
    },
    {
     "data": {
      "text/html": [
       "<pre>| 48        | 31             | 2521       | 212                  | 72.128ms         |</pre>"
      ],
      "text/plain": [
       "| 48        | 31             | 2521       | 212                  | 72.128ms         |"
      ]
     },
     "metadata": {},
     "output_type": "display_data"
    },
    {
     "data": {
      "text/html": [
       "<pre>| 49        | 31             | 2511       | 212                  | 75.187ms         |</pre>"
      ],
      "text/plain": [
       "| 49        | 31             | 2511       | 212                  | 75.187ms         |"
      ]
     },
     "metadata": {},
     "output_type": "display_data"
    },
    {
     "data": {
      "text/html": [
       "<pre>| Final     | 31             | -          | 212                  | 79.399ms         |</pre>"
      ],
      "text/plain": [
       "| Final     | 31             | -          | 212                  | 79.399ms         |"
      ]
     },
     "metadata": {},
     "output_type": "display_data"
    },
    {
     "data": {
      "text/html": [
       "<pre>+-----------+----------------+------------+----------------------+------------------+</pre>"
      ],
      "text/plain": [
       "+-----------+----------------+------------+----------------------+------------------+"
      ]
     },
     "metadata": {},
     "output_type": "display_data"
    },
    {
     "data": {
      "text/html": [
       "<pre>Pattern mining complete. Found 31 unique closed patterns.</pre>"
      ],
      "text/plain": [
       "Pattern mining complete. Found 31 unique closed patterns."
      ]
     },
     "metadata": {},
     "output_type": "display_data"
    }
   ],
   "source": [
    "min_support = int(train.num_rows()*0.001)\n",
    "\n",
    "model = gl.frequent_pattern_mining.create(train, 'Item', \n",
    "                                          features=['Receipt', 'StoreNum'], \n",
    "                                          min_support=min_support, \n",
    "                                          max_patterns=500, \n",
    "                                          min_length=3)"
   ]
  },
  {
   "cell_type": "code",
   "execution_count": 9,
   "metadata": {
    "collapsed": false
   },
   "outputs": [
    {
     "name": "stdout",
     "output_type": "stream",
     "text": [
      "The most frequent feature patters are:\n",
      "-----------------------------------------\n",
      "+----------------------------------------------------------------------------+---------+\n",
      "|                                  pattern                                   | support |\n",
      "+----------------------------------------------------------------------------+---------+\n",
      "|                   [CherryTart, ApricotDanish, OperaCake]                   |   1561  |\n",
      "|                   [CoffeeEclair, ApplePie, AlmondTwist]                    |   1351  |\n",
      "|                [ChocolateCake, ChocolateCoffee, CasinoCake]                |   1308  |\n",
      "|                [HotCoffee, ApricotCroissant, BlueberryTart]                |   1220  |\n",
      "|                    [CoffeeEclair, HotCoffee, ApplePie]                     |   1109  |\n",
      "|                     [HotCoffee, ApplePie, AlmondTwist]                     |   1100  |\n",
      "|                   [CoffeeEclair, HotCoffee, AlmondTwist]                   |   1086  |\n",
      "|               [CoffeeEclair, BlackberryTart, SingleEspresso]               |   1023  |\n",
      "|               [LemonLemonade, RaspberryCookie, LemonCookie]                |   1021  |\n",
      "|             [VanillaFrappuccino, ChocolateTart, WalnutCookie]              |   1016  |\n",
      "|             [RaspberryCookie, LemonCookie, RaspberryLemonade]              |   1012  |\n",
      "|            [LemonLemonade, RaspberryCookie, RaspberryLemonade]             |   1012  |\n",
      "|              [LemonLemonade, LemonCookie, RaspberryLemonade]               |   1001  |\n",
      "|                  [AppleTart, AppleDanish, AppleCroissant]                  |   1000  |\n",
      "|              [CoffeeEclair, HotCoffee, ApplePie, AlmondTwist]              |   877   |\n",
      "|                  [RaspberryCookie, LemonCookie, GreenTea]                  |   814   |\n",
      "|      [LemonLemonade, RaspberryCookie, LemonCookie, RaspberryLemonade]      |   813   |\n",
      "|                 [AppleDanish, AppleCroissant, CherrySoda]                  |   809   |\n",
      "|                   [LemonLemonade, LemonCookie, GreenTea]                   |   804   |\n",
      "|                 [LemonCookie, RaspberryLemonade, GreenTea]                 |   803   |\n",
      "|                    [AppleTart, AppleDanish, CherrySoda]                    |   798   |\n",
      "|                 [LemonLemonade, RaspberryCookie, GreenTea]                 |   795   |\n",
      "|               [RaspberryCookie, RaspberryLemonade, GreenTea]               |   787   |\n",
      "|                  [AppleTart, AppleCroissant, CherrySoda]                   |   783   |\n",
      "|                [LemonLemonade, RaspberryLemonade, GreenTea]                |   769   |\n",
      "|          [LemonLemonade, RaspberryCookie, LemonCookie, GreenTea]           |   649   |\n",
      "|        [RaspberryCookie, LemonCookie, RaspberryLemonade, GreenTea]         |   645   |\n",
      "|            [AppleTart, AppleDanish, AppleCroissant, CherrySoda]            |   640   |\n",
      "|         [LemonLemonade, LemonCookie, RaspberryLemonade, GreenTea]          |   630   |\n",
      "|       [LemonLemonade, RaspberryCookie, RaspberryLemonade, GreenTea]        |   620   |\n",
      "| [LemonLemonade, RaspberryCookie, LemonCookie, RaspberryLemonade, GreenTea] |   512   |\n",
      "+----------------------------------------------------------------------------+---------+\n",
      "[31 rows x 2 columns]\n",
      "\n"
     ]
    }
   ],
   "source": [
    "print 'The most frequent feature patters are:'\n",
    "print '-----------------------------------------'\n",
    "model.frequent_patterns.print_rows(num_rows=35, max_column_width=80, max_row_width=90)"
   ]
  },
  {
   "cell_type": "markdown",
   "metadata": {},
   "source": [
    "Alternatively, by decreasing the **`min_support`** one can obtain more patterns of sold coffee products which are again assumed frequent but with respect to this new threshold."
   ]
  },
  {
   "cell_type": "code",
   "execution_count": 10,
   "metadata": {
    "collapsed": false
   },
   "outputs": [
    {
     "data": {
      "text/html": [
       "<pre>Indexing complete. Found 50 unique items.</pre>"
      ],
      "text/plain": [
       "Indexing complete. Found 50 unique items."
      ]
     },
     "metadata": {},
     "output_type": "display_data"
    },
    {
     "data": {
      "text/html": [
       "<pre>Preprocessing complete. Found 73566 unique transactions.</pre>"
      ],
      "text/plain": [
       "Preprocessing complete. Found 73566 unique transactions."
      ]
     },
     "metadata": {},
     "output_type": "display_data"
    },
    {
     "data": {
      "text/html": [
       "<pre>Building frequent pattern tree.</pre>"
      ],
      "text/plain": [
       "Building frequent pattern tree."
      ]
     },
     "metadata": {},
     "output_type": "display_data"
    },
    {
     "data": {
      "text/html": [
       "<pre>+-----------+----------------+------------+----------------------+------------------+</pre>"
      ],
      "text/plain": [
       "+-----------+----------------+------------+----------------------+------------------+"
      ]
     },
     "metadata": {},
     "output_type": "display_data"
    },
    {
     "data": {
      "text/html": [
       "<pre>| Iteration | Num. Patterns  | Support    | Current Min Support  | Elapsed Time     |</pre>"
      ],
      "text/plain": [
       "| Iteration | Num. Patterns  | Support    | Current Min Support  | Elapsed Time     |"
      ]
     },
     "metadata": {},
     "output_type": "display_data"
    },
    {
     "data": {
      "text/html": [
       "<pre>+-----------+----------------+------------+----------------------+------------------+</pre>"
      ],
      "text/plain": [
       "+-----------+----------------+------------+----------------------+------------------+"
      ]
     },
     "metadata": {},
     "output_type": "display_data"
    },
    {
     "data": {
      "text/html": [
       "<pre>| 0         | 0              | 6550       | 21                   | 133us            |</pre>"
      ],
      "text/plain": [
       "| 0         | 0              | 6550       | 21                   | 133us            |"
      ]
     },
     "metadata": {},
     "output_type": "display_data"
    },
    {
     "data": {
      "text/html": [
       "<pre>| 1         | 0              | 6167       | 21                   | 195us            |</pre>"
      ],
      "text/plain": [
       "| 1         | 0              | 6167       | 21                   | 195us            |"
      ]
     },
     "metadata": {},
     "output_type": "display_data"
    },
    {
     "data": {
      "text/html": [
       "<pre>| 2         | 0              | 6050       | 21                   | 236us            |</pre>"
      ],
      "text/plain": [
       "| 2         | 0              | 6050       | 21                   | 236us            |"
      ]
     },
     "metadata": {},
     "output_type": "display_data"
    },
    {
     "data": {
      "text/html": [
       "<pre>| 3         | 0              | 5587       | 21                   | 281us            |</pre>"
      ],
      "text/plain": [
       "| 3         | 0              | 5587       | 21                   | 281us            |"
      ]
     },
     "metadata": {},
     "output_type": "display_data"
    },
    {
     "data": {
      "text/html": [
       "<pre>| 4         | 0              | 5563       | 21                   | 338us            |</pre>"
      ],
      "text/plain": [
       "| 4         | 0              | 5563       | 21                   | 338us            |"
      ]
     },
     "metadata": {},
     "output_type": "display_data"
    },
    {
     "data": {
      "text/html": [
       "<pre>| 5         | 0              | 5548       | 21                   | 408us            |</pre>"
      ],
      "text/plain": [
       "| 5         | 0              | 5548       | 21                   | 408us            |"
      ]
     },
     "metadata": {},
     "output_type": "display_data"
    },
    {
     "data": {
      "text/html": [
       "<pre>| 6         | 0              | 5495       | 21                   | 527us            |</pre>"
      ],
      "text/plain": [
       "| 6         | 0              | 5495       | 21                   | 527us            |"
      ]
     },
     "metadata": {},
     "output_type": "display_data"
    },
    {
     "data": {
      "text/html": [
       "<pre>| 7         | 0              | 5438       | 21                   | 657us            |</pre>"
      ],
      "text/plain": [
       "| 7         | 0              | 5438       | 21                   | 657us            |"
      ]
     },
     "metadata": {},
     "output_type": "display_data"
    },
    {
     "data": {
      "text/html": [
       "<pre>| 8         | 0              | 5376       | 21                   | 815us            |</pre>"
      ],
      "text/plain": [
       "| 8         | 0              | 5376       | 21                   | 815us            |"
      ]
     },
     "metadata": {},
     "output_type": "display_data"
    },
    {
     "data": {
      "text/html": [
       "<pre>| 9         | 0              | 5088       | 21                   | 1.091ms          |</pre>"
      ],
      "text/plain": [
       "| 9         | 0              | 5088       | 21                   | 1.091ms          |"
      ]
     },
     "metadata": {},
     "output_type": "display_data"
    },
    {
     "data": {
      "text/html": [
       "<pre>| 10        | 0              | 5071       | 21                   | 1.345ms          |</pre>"
      ],
      "text/plain": [
       "| 10        | 0              | 5071       | 21                   | 1.345ms          |"
      ]
     },
     "metadata": {},
     "output_type": "display_data"
    },
    {
     "data": {
      "text/html": [
       "<pre>| 11        | 0              | 5040       | 21                   | 1.659ms          |</pre>"
      ],
      "text/plain": [
       "| 11        | 0              | 5040       | 21                   | 1.659ms          |"
      ]
     },
     "metadata": {},
     "output_type": "display_data"
    },
    {
     "data": {
      "text/html": [
       "<pre>| 12        | 0              | 4994       | 21                   | 2.092ms          |</pre>"
      ],
      "text/plain": [
       "| 12        | 0              | 4994       | 21                   | 2.092ms          |"
      ]
     },
     "metadata": {},
     "output_type": "display_data"
    },
    {
     "data": {
      "text/html": [
       "<pre>| 13        | 0              | 4981       | 21                   | 2.65ms           |</pre>"
      ],
      "text/plain": [
       "| 13        | 0              | 4981       | 21                   | 2.65ms           |"
      ]
     },
     "metadata": {},
     "output_type": "display_data"
    },
    {
     "data": {
      "text/html": [
       "<pre>| 14        | 0              | 4949       | 21                   | 3.267ms          |</pre>"
      ],
      "text/plain": [
       "| 14        | 0              | 4949       | 21                   | 3.267ms          |"
      ]
     },
     "metadata": {},
     "output_type": "display_data"
    },
    {
     "data": {
      "text/html": [
       "<pre>| 15        | 7              | 4948       | 21                   | 4.675ms          |</pre>"
      ],
      "text/plain": [
       "| 15        | 7              | 4948       | 21                   | 4.675ms          |"
      ]
     },
     "metadata": {},
     "output_type": "display_data"
    },
    {
     "data": {
      "text/html": [
       "<pre>| 16        | 10             | 4932       | 21                   | 5.868ms          |</pre>"
      ],
      "text/plain": [
       "| 16        | 10             | 4932       | 21                   | 5.868ms          |"
      ]
     },
     "metadata": {},
     "output_type": "display_data"
    },
    {
     "data": {
      "text/html": [
       "<pre>| 17        | 11             | 4914       | 21                   | 7.117ms          |</pre>"
      ],
      "text/plain": [
       "| 17        | 11             | 4914       | 21                   | 7.117ms          |"
      ]
     },
     "metadata": {},
     "output_type": "display_data"
    },
    {
     "data": {
      "text/html": [
       "<pre>| 18        | 12             | 4913       | 21                   | 8.5ms            |</pre>"
      ],
      "text/plain": [
       "| 18        | 12             | 4913       | 21                   | 8.5ms            |"
      ]
     },
     "metadata": {},
     "output_type": "display_data"
    },
    {
     "data": {
      "text/html": [
       "<pre>| 19        | 13             | 4690       | 21                   | 10.128ms         |</pre>"
      ],
      "text/plain": [
       "| 19        | 13             | 4690       | 21                   | 10.128ms         |"
      ]
     },
     "metadata": {},
     "output_type": "display_data"
    },
    {
     "data": {
      "text/html": [
       "<pre>| 20        | 14             | 4681       | 21                   | 13.328ms         |</pre>"
      ],
      "text/plain": [
       "| 20        | 14             | 4681       | 21                   | 13.328ms         |"
      ]
     },
     "metadata": {},
     "output_type": "display_data"
    },
    {
     "data": {
      "text/html": [
       "<pre>| 21        | 15             | 4613       | 21                   | 15.204ms         |</pre>"
      ],
      "text/plain": [
       "| 21        | 15             | 4613       | 21                   | 15.204ms         |"
      ]
     },
     "metadata": {},
     "output_type": "display_data"
    },
    {
     "data": {
      "text/html": [
       "<pre>| 22        | 15             | 4592       | 21                   | 17.977ms         |</pre>"
      ],
      "text/plain": [
       "| 22        | 15             | 4592       | 21                   | 17.977ms         |"
      ]
     },
     "metadata": {},
     "output_type": "display_data"
    },
    {
     "data": {
      "text/html": [
       "<pre>| 23        | 16             | 4568       | 21                   | 20.65ms          |</pre>"
      ],
      "text/plain": [
       "| 23        | 16             | 4568       | 21                   | 20.65ms          |"
      ]
     },
     "metadata": {},
     "output_type": "display_data"
    },
    {
     "data": {
      "text/html": [
       "<pre>| 24        | 17             | 4506       | 21                   | 23.564ms         |</pre>"
      ],
      "text/plain": [
       "| 24        | 17             | 4506       | 21                   | 23.564ms         |"
      ]
     },
     "metadata": {},
     "output_type": "display_data"
    },
    {
     "data": {
      "text/html": [
       "<pre>| 25        | 18             | 4496       | 21                   | 29.893ms         |</pre>"
      ],
      "text/plain": [
       "| 25        | 18             | 4496       | 21                   | 29.893ms         |"
      ]
     },
     "metadata": {},
     "output_type": "display_data"
    },
    {
     "data": {
      "text/html": [
       "<pre>| 26        | 25             | 4398       | 21                   | 35.87ms          |</pre>"
      ],
      "text/plain": [
       "| 26        | 25             | 4398       | 21                   | 35.87ms          |"
      ]
     },
     "metadata": {},
     "output_type": "display_data"
    },
    {
     "data": {
      "text/html": [
       "<pre>| 27        | 26             | 4122       | 21                   | 42.676ms         |</pre>"
      ],
      "text/plain": [
       "| 27        | 26             | 4122       | 21                   | 42.676ms         |"
      ]
     },
     "metadata": {},
     "output_type": "display_data"
    },
    {
     "data": {
      "text/html": [
       "<pre>| 28        | 28             | 4101       | 21                   | 45.593ms         |</pre>"
      ],
      "text/plain": [
       "| 28        | 28             | 4101       | 21                   | 45.593ms         |"
      ]
     },
     "metadata": {},
     "output_type": "display_data"
    },
    {
     "data": {
      "text/html": [
       "<pre>| 29        | 28             | 4074       | 21                   | 54.203ms         |</pre>"
      ],
      "text/plain": [
       "| 29        | 28             | 4074       | 21                   | 54.203ms         |"
      ]
     },
     "metadata": {},
     "output_type": "display_data"
    },
    {
     "data": {
      "text/html": [
       "<pre>| 30        | 28             | 4071       | 21                   | 57.821ms         |</pre>"
      ],
      "text/plain": [
       "| 30        | 28             | 4071       | 21                   | 57.821ms         |"
      ]
     },
     "metadata": {},
     "output_type": "display_data"
    },
    {
     "data": {
      "text/html": [
       "<pre>| 31        | 29             | 4057       | 21                   | 63.617ms         |</pre>"
      ],
      "text/plain": [
       "| 31        | 29             | 4057       | 21                   | 63.617ms         |"
      ]
     },
     "metadata": {},
     "output_type": "display_data"
    },
    {
     "data": {
      "text/html": [
       "<pre>| 32        | 31             | 4056       | 21                   | 68.993ms         |</pre>"
      ],
      "text/plain": [
       "| 32        | 31             | 4056       | 21                   | 68.993ms         |"
      ]
     },
     "metadata": {},
     "output_type": "display_data"
    },
    {
     "data": {
      "text/html": [
       "<pre>| 33        | 33             | 4055       | 21                   | 74.018ms         |</pre>"
      ],
      "text/plain": [
       "| 33        | 33             | 4055       | 21                   | 74.018ms         |"
      ]
     },
     "metadata": {},
     "output_type": "display_data"
    },
    {
     "data": {
      "text/html": [
       "<pre>| 34        | 35             | 4042       | 21                   | 80.425ms         |</pre>"
      ],
      "text/plain": [
       "| 34        | 35             | 4042       | 21                   | 80.425ms         |"
      ]
     },
     "metadata": {},
     "output_type": "display_data"
    },
    {
     "data": {
      "text/html": [
       "<pre>| 35        | 37             | 4014       | 21                   | 88.261ms         |</pre>"
      ],
      "text/plain": [
       "| 35        | 37             | 4014       | 21                   | 88.261ms         |"
      ]
     },
     "metadata": {},
     "output_type": "display_data"
    },
    {
     "data": {
      "text/html": [
       "<pre>| 36        | 40             | 3711       | 21                   | 97.456ms         |</pre>"
      ],
      "text/plain": [
       "| 36        | 40             | 3711       | 21                   | 97.456ms         |"
      ]
     },
     "metadata": {},
     "output_type": "display_data"
    },
    {
     "data": {
      "text/html": [
       "<pre>| 37        | 42             | 3707       | 21                   | 105.653ms        |</pre>"
      ],
      "text/plain": [
       "| 37        | 42             | 3707       | 21                   | 105.653ms        |"
      ]
     },
     "metadata": {},
     "output_type": "display_data"
    },
    {
     "data": {
      "text/html": [
       "<pre>| 38        | 47             | 2661       | 21                   | 113.801ms        |</pre>"
      ],
      "text/plain": [
       "| 38        | 47             | 2661       | 21                   | 113.801ms        |"
      ]
     },
     "metadata": {},
     "output_type": "display_data"
    },
    {
     "data": {
      "text/html": [
       "<pre>| 39        | 49             | 2619       | 21                   | 122.732ms        |</pre>"
      ],
      "text/plain": [
       "| 39        | 49             | 2619       | 21                   | 122.732ms        |"
      ]
     },
     "metadata": {},
     "output_type": "display_data"
    },
    {
     "data": {
      "text/html": [
       "<pre>| 40        | 51             | 2595       | 21                   | 130.796ms        |</pre>"
      ],
      "text/plain": [
       "| 40        | 51             | 2595       | 21                   | 130.796ms        |"
      ]
     },
     "metadata": {},
     "output_type": "display_data"
    },
    {
     "data": {
      "text/html": [
       "<pre>| 41        | 51             | 2593       | 21                   | 138.608ms        |</pre>"
      ],
      "text/plain": [
       "| 41        | 51             | 2593       | 21                   | 138.608ms        |"
      ]
     },
     "metadata": {},
     "output_type": "display_data"
    },
    {
     "data": {
      "text/html": [
       "<pre>| 42        | 51             | 2576       | 21                   | 146.674ms        |</pre>"
      ],
      "text/plain": [
       "| 42        | 51             | 2576       | 21                   | 146.674ms        |"
      ]
     },
     "metadata": {},
     "output_type": "display_data"
    },
    {
     "data": {
      "text/html": [
       "<pre>| 43        | 52             | 2551       | 21                   | 154.631ms        |</pre>"
      ],
      "text/plain": [
       "| 43        | 52             | 2551       | 21                   | 154.631ms        |"
      ]
     },
     "metadata": {},
     "output_type": "display_data"
    },
    {
     "data": {
      "text/html": [
       "<pre>| 44        | 53             | 2544       | 21                   | 163.21ms         |</pre>"
      ],
      "text/plain": [
       "| 44        | 53             | 2544       | 21                   | 163.21ms         |"
      ]
     },
     "metadata": {},
     "output_type": "display_data"
    },
    {
     "data": {
      "text/html": [
       "<pre>| 45        | 55             | 2538       | 21                   | 171.723ms        |</pre>"
      ],
      "text/plain": [
       "| 45        | 55             | 2538       | 21                   | 171.723ms        |"
      ]
     },
     "metadata": {},
     "output_type": "display_data"
    },
    {
     "data": {
      "text/html": [
       "<pre>| 46        | 56             | 2533       | 21                   | 180.705ms        |</pre>"
      ],
      "text/plain": [
       "| 46        | 56             | 2533       | 21                   | 180.705ms        |"
      ]
     },
     "metadata": {},
     "output_type": "display_data"
    },
    {
     "data": {
      "text/html": [
       "<pre>| 47        | 56             | 2530       | 21                   | 190.218ms        |</pre>"
      ],
      "text/plain": [
       "| 47        | 56             | 2530       | 21                   | 190.218ms        |"
      ]
     },
     "metadata": {},
     "output_type": "display_data"
    },
    {
     "data": {
      "text/html": [
       "<pre>| 48        | 57             | 2521       | 21                   | 201.882ms        |</pre>"
      ],
      "text/plain": [
       "| 48        | 57             | 2521       | 21                   | 201.882ms        |"
      ]
     },
     "metadata": {},
     "output_type": "display_data"
    },
    {
     "data": {
      "text/html": [
       "<pre>| 49        | 58             | 2511       | 21                   | 213.301ms        |</pre>"
      ],
      "text/plain": [
       "| 49        | 58             | 2511       | 21                   | 213.301ms        |"
      ]
     },
     "metadata": {},
     "output_type": "display_data"
    },
    {
     "data": {
      "text/html": [
       "<pre>| Final     | 59             | -          | 21                   | 225.476ms        |</pre>"
      ],
      "text/plain": [
       "| Final     | 59             | -          | 21                   | 225.476ms        |"
      ]
     },
     "metadata": {},
     "output_type": "display_data"
    },
    {
     "data": {
      "text/html": [
       "<pre>+-----------+----------------+------------+----------------------+------------------+</pre>"
      ],
      "text/plain": [
       "+-----------+----------------+------------+----------------------+------------------+"
      ]
     },
     "metadata": {},
     "output_type": "display_data"
    },
    {
     "data": {
      "text/html": [
       "<pre>Pattern mining complete. Found 59 unique closed patterns.</pre>"
      ],
      "text/plain": [
       "Pattern mining complete. Found 59 unique closed patterns."
      ]
     },
     "metadata": {},
     "output_type": "display_data"
    }
   ],
   "source": [
    "min_support = int(train.num_rows()*(1e-04))\n",
    "\n",
    "model = gl.frequent_pattern_mining.create(train, 'Item', \n",
    "                                          features=['Receipt', 'StoreNum'], \n",
    "                                          min_support=min_support, \n",
    "                                          max_patterns=500, \n",
    "                                          min_length=4)"
   ]
  },
  {
   "cell_type": "code",
   "execution_count": 11,
   "metadata": {
    "collapsed": false
   },
   "outputs": [
    {
     "name": "stdout",
     "output_type": "stream",
     "text": [
      "The most frequent feature patters are:\n",
      "-----------------------------------------\n",
      "+----------------------------------------------------------------------------+---------+\n",
      "|                                  pattern                                   | support |\n",
      "+----------------------------------------------------------------------------+---------+\n",
      "|              [CoffeeEclair, HotCoffee, ApplePie, AlmondTwist]              |   877   |\n",
      "|      [LemonLemonade, RaspberryCookie, LemonCookie, RaspberryLemonade]      |   813   |\n",
      "|          [LemonLemonade, RaspberryCookie, LemonCookie, GreenTea]           |   649   |\n",
      "|        [RaspberryCookie, LemonCookie, RaspberryLemonade, GreenTea]         |   645   |\n",
      "|            [AppleTart, AppleDanish, AppleCroissant, CherrySoda]            |   640   |\n",
      "|         [LemonLemonade, LemonCookie, RaspberryLemonade, GreenTea]          |   630   |\n",
      "|       [LemonLemonade, RaspberryCookie, RaspberryLemonade, GreenTea]        |   620   |\n",
      "| [LemonLemonade, RaspberryCookie, LemonCookie, RaspberryLemonade, GreenTea] |   512   |\n",
      "|             [HotCoffee, CherryTart, ApricotDanish, OperaCake]              |    29   |\n",
      "|          [CherryTart, ApricotDanish, OperaCake, AlmondBear Claw]           |    29   |\n",
      "|           [CherryTart, ApricotDanish, ChocolateCake, OperaCake]            |    28   |\n",
      "|             [CherryTart, ApricotDanish, BerryTart, OperaCake]              |    28   |\n",
      "|          [CherryTart, ApricotDanish, OperaCake, CheeseCroissant]           |    28   |\n",
      "|          [CherryTart, ApricotDanish, ApricotCroissant, OperaCake]          |    27   |\n",
      "|            [CoffeeEclair, CherryTart, ApricotDanish, OperaCake]            |    27   |\n",
      "|         [HotCoffee, ApricotCroissant, BlueberryTart, LemonCookie]          |    27   |\n",
      "|         [ChocolateCake, ChocolateCoffee, CasinoCake, AppleDanish]          |    27   |\n",
      "|            [CherryTart, ApricotDanish, OperaCake, ApricotTart]             |    27   |\n",
      "|           [CherryTart, ApricotDanish, OperaCake, GanacheCookie]            |    27   |\n",
      "|            [CherryTart, ApricotDanish, OperaCake, LemonCookie]             |    27   |\n",
      "|             [CherryTart, ApricotDanish, OperaCake, AppleTart]              |    27   |\n",
      "|           [CherryTart, ApricotDanish, OperaCake, ChocolateTart]            |    27   |\n",
      "|         [CherryTart, ApricotDanish, OperaCake, RaspberryLemonade]          |    26   |\n",
      "|            [CherryTart, ApricotDanish, OperaCake, AppleDanish]             |    26   |\n",
      "|            [CherryTart, ApricotDanish, OperaCake, TruffleCake]             |    26   |\n",
      "|       [HotCoffee, ApricotCroissant, BlueberryTart, AlmondBear Claw]        |    25   |\n",
      "|          [HotCoffee, ApricotCroissant, BlueberryTart, CasinoCake]          |    25   |\n",
      "|          [CherryTart, ApricotDanish, OperaCake, ChocolateEclair]           |    25   |\n",
      "|             [CherryTart, ApricotDanish, OperaCake, PecanTart]              |    25   |\n",
      "|          [CherryTart, ApricotDanish, OperaCake, BlueberryDanish]           |    25   |\n",
      "|             [CherryTart, ApricotDanish, OperaCake, CasinoCake]             |    25   |\n",
      "|         [CherryTart, ApricotDanish, OperaCake, VanillaFrappuccino]         |    25   |\n",
      "|            [CherryTart, ApricotDanish, OperaCake, NapoleonCake]            |    25   |\n",
      "|          [ChocolateCake, BerryTart, ChocolateCoffee, CasinoCake]           |    24   |\n",
      "|           [CherryTart, ApricotDanish, OperaCake, BlackberryTart]           |    24   |\n",
      "|          [CherryTart, ApricotDanish, GongolaisCookie, OperaCake]           |    23   |\n",
      "|          [ChocolateCake, ChocolateCoffee, CasinoCake, PecanTart]           |    23   |\n",
      "|       [ChocolateCake, ChocolateCoffee, CasinoCake, BlueberryDanish]        |    23   |\n",
      "|         [CherryTart, ApricotDanish, OperaCake, ChocolateMeringue]          |    23   |\n",
      "|           [CherryTart, ApricotDanish, OperaCake, VanillaEclair]            |    23   |\n",
      "|           [CherryTart, StrawberryCake, ApricotDanish, OperaCake]           |    22   |\n",
      "|          [CherryTart, ApricotDanish, OperaCake, VanillaMeringue]           |    22   |\n",
      "|           [CherryTart, ApricotDanish, OperaCake, SingleEspresso]           |    22   |\n",
      "|           [CherryTart, ApricotDanish, OperaCake, LemonLemonade]            |    22   |\n",
      "|         [HotCoffee, OrangeJuice, ApricotCroissant, BlueberryTart]          |    21   |\n",
      "|         [CoffeeEclair, BlackberryTart, AppleTart, SingleEspresso]          |    21   |\n",
      "|        [ApricotDanish, ChocolateCake, ChocolateCoffee, CasinoCake]         |    21   |\n",
      "|        [HotCoffee, ChocolateCake, ApricotCroissant, BlueberryTart]         |    21   |\n",
      "|        [HotCoffee, MarzipanCookie, ApricotCroissant, BlueberryTart]        |    21   |\n",
      "|          [HotCoffee, ChocolateCake, ChocolateCoffee, CasinoCake]           |    21   |\n",
      "|       [ChocolateCake, ChocolateCoffee, ApricotCroissant, CasinoCake]       |    21   |\n",
      "|        [ChocolateCake, ChocolateCoffee, BlackberryTart, CasinoCake]        |    21   |\n",
      "|          [CoffeeEclair, ApplePie, BlackberryTart, SingleEspresso]          |    21   |\n",
      "|     [VanillaFrappuccino, ChocolateTart, WalnutCookie, AppleCroissant]      |    21   |\n",
      "|          [HotCoffee, ApricotCroissant, BlueberryTart, CherrySoda]          |    21   |\n",
      "|           [HotCoffee, ApricotCroissant, BlueberryTart, ApplePie]           |    21   |\n",
      "|        [ChocolateCake, ChocolateCoffee, CasinoCake, LemonLemonade]         |    21   |\n",
      "|           [CherryTart, ApricotDanish, OperaCake, AppleCroissant]           |    21   |\n",
      "|            [CherryTart, ApricotDanish, OperaCake, BottledWater]            |    21   |\n",
      "+----------------------------------------------------------------------------+---------+\n",
      "[59 rows x 2 columns]\n",
      "\n"
     ]
    }
   ],
   "source": [
    "print 'The most frequent feature patters are:'\n",
    "print '-----------------------------------------'\n",
    "model.frequent_patterns.print_rows(num_rows=60, max_row_width=90, max_column_width=80)"
   ]
  },
  {
   "cell_type": "markdown",
   "metadata": {},
   "source": [
    "To see some details of the trained model:"
   ]
  },
  {
   "cell_type": "code",
   "execution_count": 12,
   "metadata": {
    "collapsed": false
   },
   "outputs": [
    {
     "name": "stdout",
     "output_type": "stream",
     "text": [
      "Class                         : FrequentPatternMiner\n",
      "\n",
      "Model fields\n",
      "------------\n",
      "Min support                   : 21\n",
      "Max patterns                  : 500\n",
      "Min pattern length            : 4\n",
      "\n",
      "Most frequent patterns\n",
      "----------------------\n",
      "['CoffeeEclair', 'HotCoffee', 'ApplePie', 'AlmondTwist']: 877\n",
      "['LemonLemonade', 'RaspberryCookie', 'LemonCookie', 'RaspberryLemonade']: 813\n",
      "['LemonLemonade', 'RaspberryCookie', 'LemonCookie', 'GreenTea']: 649\n",
      "['RaspberryCookie', 'LemonCookie', 'RaspberryLemonade', 'GreenTea']: 645\n",
      "['AppleTart', 'AppleDanish', 'AppleCroissant', 'CherrySoda']: 640\n",
      "['LemonLemonade', 'LemonCookie', 'RaspberryLemonade', 'GreenTea']: 630\n",
      "['LemonLemonade', 'RaspberryCookie', 'RaspberryLemonade', 'GreenTea']: 620\n",
      "['LemonLemonade', 'RaspberryCookie', 'LemonCookie', 'RaspberryLemonade', 'GreenTea']: 512\n",
      "['HotCoffee', 'CherryTart', 'ApricotDanish', 'OperaCake']: 29\n",
      "['CherryTart', 'ApricotDanish', 'OperaCake', 'AlmondBear Claw']: 29\n",
      "\n"
     ]
    }
   ],
   "source": [
    "print model"
   ]
  },
  {
   "cell_type": "markdown",
   "metadata": {},
   "source": [
    "## Top-k frequent patterns\n",
    "\n",
    "In practice, we rarely know the appropriate **`min_support`** threshold to use. As an alternative to specifying a minimum support, we can specify a **maximum number of patterns** to mine using the **`max_patterns`** parameter. Instead of mining all patterns above a minimum support threshold, we mine the most frequent patterns until the maximum number of closed patterns are found. For large data sets, this mining process can be time-consuming. We recommend specifying a somehow *large initial minimum support* bound to speed up the mining."
   ]
  },
  {
   "cell_type": "code",
   "execution_count": 13,
   "metadata": {
    "collapsed": false
   },
   "outputs": [
    {
     "data": {
      "text/html": [
       "<pre>Indexing complete. Found 50 unique items.</pre>"
      ],
      "text/plain": [
       "Indexing complete. Found 50 unique items."
      ]
     },
     "metadata": {},
     "output_type": "display_data"
    },
    {
     "data": {
      "text/html": [
       "<pre>Preprocessing complete. Found 73566 unique transactions.</pre>"
      ],
      "text/plain": [
       "Preprocessing complete. Found 73566 unique transactions."
      ]
     },
     "metadata": {},
     "output_type": "display_data"
    },
    {
     "data": {
      "text/html": [
       "<pre>Building frequent pattern tree.</pre>"
      ],
      "text/plain": [
       "Building frequent pattern tree."
      ]
     },
     "metadata": {},
     "output_type": "display_data"
    },
    {
     "data": {
      "text/html": [
       "<pre>+-----------+----------------+------------+----------------------+------------------+</pre>"
      ],
      "text/plain": [
       "+-----------+----------------+------------+----------------------+------------------+"
      ]
     },
     "metadata": {},
     "output_type": "display_data"
    },
    {
     "data": {
      "text/html": [
       "<pre>| Iteration | Num. Patterns  | Support    | Current Min Support  | Elapsed Time     |</pre>"
      ],
      "text/plain": [
       "| Iteration | Num. Patterns  | Support    | Current Min Support  | Elapsed Time     |"
      ]
     },
     "metadata": {},
     "output_type": "display_data"
    },
    {
     "data": {
      "text/html": [
       "<pre>+-----------+----------------+------------+----------------------+------------------+</pre>"
      ],
      "text/plain": [
       "+-----------+----------------+------------+----------------------+------------------+"
      ]
     },
     "metadata": {},
     "output_type": "display_data"
    },
    {
     "data": {
      "text/html": [
       "<pre>| 0         | 0              | 6550       | 212                  | 132us            |</pre>"
      ],
      "text/plain": [
       "| 0         | 0              | 6550       | 212                  | 132us            |"
      ]
     },
     "metadata": {},
     "output_type": "display_data"
    },
    {
     "data": {
      "text/html": [
       "<pre>| 1         | 0              | 6167       | 212                  | 189us            |</pre>"
      ],
      "text/plain": [
       "| 1         | 0              | 6167       | 212                  | 189us            |"
      ]
     },
     "metadata": {},
     "output_type": "display_data"
    },
    {
     "data": {
      "text/html": [
       "<pre>| 2         | 0              | 6050       | 212                  | 229us            |</pre>"
      ],
      "text/plain": [
       "| 2         | 0              | 6050       | 212                  | 229us            |"
      ]
     },
     "metadata": {},
     "output_type": "display_data"
    },
    {
     "data": {
      "text/html": [
       "<pre>| 3         | 0              | 5587       | 212                  | 273us            |</pre>"
      ],
      "text/plain": [
       "| 3         | 0              | 5587       | 212                  | 273us            |"
      ]
     },
     "metadata": {},
     "output_type": "display_data"
    },
    {
     "data": {
      "text/html": [
       "<pre>| 4         | 0              | 5563       | 212                  | 318us            |</pre>"
      ],
      "text/plain": [
       "| 4         | 0              | 5563       | 212                  | 318us            |"
      ]
     },
     "metadata": {},
     "output_type": "display_data"
    },
    {
     "data": {
      "text/html": [
       "<pre>| 5         | 0              | 5548       | 212                  | 388us            |</pre>"
      ],
      "text/plain": [
       "| 5         | 0              | 5548       | 212                  | 388us            |"
      ]
     },
     "metadata": {},
     "output_type": "display_data"
    },
    {
     "data": {
      "text/html": [
       "<pre>| 6         | 0              | 5495       | 212                  | 463us            |</pre>"
      ],
      "text/plain": [
       "| 6         | 0              | 5495       | 212                  | 463us            |"
      ]
     },
     "metadata": {},
     "output_type": "display_data"
    },
    {
     "data": {
      "text/html": [
       "<pre>| 7         | 0              | 5438       | 212                  | 561us            |</pre>"
      ],
      "text/plain": [
       "| 7         | 0              | 5438       | 212                  | 561us            |"
      ]
     },
     "metadata": {},
     "output_type": "display_data"
    },
    {
     "data": {
      "text/html": [
       "<pre>| 8         | 0              | 5376       | 212                  | 703us            |</pre>"
      ],
      "text/plain": [
       "| 8         | 0              | 5376       | 212                  | 703us            |"
      ]
     },
     "metadata": {},
     "output_type": "display_data"
    },
    {
     "data": {
      "text/html": [
       "<pre>| 9         | 0              | 5088       | 212                  | 917us            |</pre>"
      ],
      "text/plain": [
       "| 9         | 0              | 5088       | 212                  | 917us            |"
      ]
     },
     "metadata": {},
     "output_type": "display_data"
    },
    {
     "data": {
      "text/html": [
       "<pre>| 10        | 0              | 5071       | 212                  | 1.06ms           |</pre>"
      ],
      "text/plain": [
       "| 10        | 0              | 5071       | 212                  | 1.06ms           |"
      ]
     },
     "metadata": {},
     "output_type": "display_data"
    },
    {
     "data": {
      "text/html": [
       "<pre>| 11        | 0              | 5040       | 212                  | 1.286ms          |</pre>"
      ],
      "text/plain": [
       "| 11        | 0              | 5040       | 212                  | 1.286ms          |"
      ]
     },
     "metadata": {},
     "output_type": "display_data"
    },
    {
     "data": {
      "text/html": [
       "<pre>| 12        | 0              | 4994       | 212                  | 1.664ms          |</pre>"
      ],
      "text/plain": [
       "| 12        | 0              | 4994       | 212                  | 1.664ms          |"
      ]
     },
     "metadata": {},
     "output_type": "display_data"
    },
    {
     "data": {
      "text/html": [
       "<pre>| 13        | 0              | 4981       | 212                  | 1.921ms          |</pre>"
      ],
      "text/plain": [
       "| 13        | 0              | 4981       | 212                  | 1.921ms          |"
      ]
     },
     "metadata": {},
     "output_type": "display_data"
    },
    {
     "data": {
      "text/html": [
       "<pre>| 14        | 0              | 4949       | 212                  | 2.205ms          |</pre>"
      ],
      "text/plain": [
       "| 14        | 0              | 4949       | 212                  | 2.205ms          |"
      ]
     },
     "metadata": {},
     "output_type": "display_data"
    },
    {
     "data": {
      "text/html": [
       "<pre>| 15        | 0              | 4948       | 212                  | 2.551ms          |</pre>"
      ],
      "text/plain": [
       "| 15        | 0              | 4948       | 212                  | 2.551ms          |"
      ]
     },
     "metadata": {},
     "output_type": "display_data"
    },
    {
     "data": {
      "text/html": [
       "<pre>| 16        | 0              | 4932       | 212                  | 3.056ms          |</pre>"
      ],
      "text/plain": [
       "| 16        | 0              | 4932       | 212                  | 3.056ms          |"
      ]
     },
     "metadata": {},
     "output_type": "display_data"
    },
    {
     "data": {
      "text/html": [
       "<pre>| 17        | 0              | 4914       | 212                  | 3.857ms          |</pre>"
      ],
      "text/plain": [
       "| 17        | 0              | 4914       | 212                  | 3.857ms          |"
      ]
     },
     "metadata": {},
     "output_type": "display_data"
    },
    {
     "data": {
      "text/html": [
       "<pre>| 18        | 0              | 4913       | 212                  | 4.494ms          |</pre>"
      ],
      "text/plain": [
       "| 18        | 0              | 4913       | 212                  | 4.494ms          |"
      ]
     },
     "metadata": {},
     "output_type": "display_data"
    },
    {
     "data": {
      "text/html": [
       "<pre>| 19        | 0              | 4690       | 212                  | 5.22ms           |</pre>"
      ],
      "text/plain": [
       "| 19        | 0              | 4690       | 212                  | 5.22ms           |"
      ]
     },
     "metadata": {},
     "output_type": "display_data"
    },
    {
     "data": {
      "text/html": [
       "<pre>| 20        | 0              | 4681       | 212                  | 5.899ms          |</pre>"
      ],
      "text/plain": [
       "| 20        | 0              | 4681       | 212                  | 5.899ms          |"
      ]
     },
     "metadata": {},
     "output_type": "display_data"
    },
    {
     "data": {
      "text/html": [
       "<pre>| 21        | 0              | 4613       | 212                  | 6.618ms          |</pre>"
      ],
      "text/plain": [
       "| 21        | 0              | 4613       | 212                  | 6.618ms          |"
      ]
     },
     "metadata": {},
     "output_type": "display_data"
    },
    {
     "data": {
      "text/html": [
       "<pre>| 22        | 0              | 4592       | 212                  | 7.708ms          |</pre>"
      ],
      "text/plain": [
       "| 22        | 0              | 4592       | 212                  | 7.708ms          |"
      ]
     },
     "metadata": {},
     "output_type": "display_data"
    },
    {
     "data": {
      "text/html": [
       "<pre>| 23        | 1              | 4568       | 212                  | 8.475ms          |</pre>"
      ],
      "text/plain": [
       "| 23        | 1              | 4568       | 212                  | 8.475ms          |"
      ]
     },
     "metadata": {},
     "output_type": "display_data"
    },
    {
     "data": {
      "text/html": [
       "<pre>| 24        | 1              | 4506       | 212                  | 9.324ms          |</pre>"
      ],
      "text/plain": [
       "| 24        | 1              | 4506       | 212                  | 9.324ms          |"
      ]
     },
     "metadata": {},
     "output_type": "display_data"
    },
    {
     "data": {
      "text/html": [
       "<pre>| 25        | 1              | 4496       | 212                  | 10.522ms         |</pre>"
      ],
      "text/plain": [
       "| 25        | 1              | 4496       | 212                  | 10.522ms         |"
      ]
     },
     "metadata": {},
     "output_type": "display_data"
    },
    {
     "data": {
      "text/html": [
       "<pre>| 26        | 1              | 4398       | 212                  | 11.521ms         |</pre>"
      ],
      "text/plain": [
       "| 26        | 1              | 4398       | 212                  | 11.521ms         |"
      ]
     },
     "metadata": {},
     "output_type": "display_data"
    },
    {
     "data": {
      "text/html": [
       "<pre>| 27        | 1              | 4122       | 212                  | 12.693ms         |</pre>"
      ],
      "text/plain": [
       "| 27        | 1              | 4122       | 212                  | 12.693ms         |"
      ]
     },
     "metadata": {},
     "output_type": "display_data"
    },
    {
     "data": {
      "text/html": [
       "<pre>| 28        | 1              | 4101       | 212                  | 13.547ms         |</pre>"
      ],
      "text/plain": [
       "| 28        | 1              | 4101       | 212                  | 13.547ms         |"
      ]
     },
     "metadata": {},
     "output_type": "display_data"
    },
    {
     "data": {
      "text/html": [
       "<pre>| 29        | 1              | 4074       | 212                  | 14.591ms         |</pre>"
      ],
      "text/plain": [
       "| 29        | 1              | 4074       | 212                  | 14.591ms         |"
      ]
     },
     "metadata": {},
     "output_type": "display_data"
    },
    {
     "data": {
      "text/html": [
       "<pre>| 30        | 1              | 4071       | 212                  | 15.567ms         |</pre>"
      ],
      "text/plain": [
       "| 30        | 1              | 4071       | 212                  | 15.567ms         |"
      ]
     },
     "metadata": {},
     "output_type": "display_data"
    },
    {
     "data": {
      "text/html": [
       "<pre>| 31        | 1              | 4057       | 212                  | 16.549ms         |</pre>"
      ],
      "text/plain": [
       "| 31        | 1              | 4057       | 212                  | 16.549ms         |"
      ]
     },
     "metadata": {},
     "output_type": "display_data"
    },
    {
     "data": {
      "text/html": [
       "<pre>| 32        | 1              | 4056       | 212                  | 17.594ms         |</pre>"
      ],
      "text/plain": [
       "| 32        | 1              | 4056       | 212                  | 17.594ms         |"
      ]
     },
     "metadata": {},
     "output_type": "display_data"
    },
    {
     "data": {
      "text/html": [
       "<pre>| 33        | 1              | 4055       | 212                  | 19.075ms         |</pre>"
      ],
      "text/plain": [
       "| 33        | 1              | 4055       | 212                  | 19.075ms         |"
      ]
     },
     "metadata": {},
     "output_type": "display_data"
    },
    {
     "data": {
      "text/html": [
       "<pre>| 34        | 1              | 4042       | 212                  | 20.368ms         |</pre>"
      ],
      "text/plain": [
       "| 34        | 1              | 4042       | 212                  | 20.368ms         |"
      ]
     },
     "metadata": {},
     "output_type": "display_data"
    },
    {
     "data": {
      "text/html": [
       "<pre>| 35        | 2              | 4014       | 212                  | 21.721ms         |</pre>"
      ],
      "text/plain": [
       "| 35        | 2              | 4014       | 212                  | 21.721ms         |"
      ]
     },
     "metadata": {},
     "output_type": "display_data"
    },
    {
     "data": {
      "text/html": [
       "<pre>| 36        | 2              | 3711       | 212                  | 23.369ms         |</pre>"
      ],
      "text/plain": [
       "| 36        | 2              | 3711       | 212                  | 23.369ms         |"
      ]
     },
     "metadata": {},
     "output_type": "display_data"
    },
    {
     "data": {
      "text/html": [
       "<pre>| 37        | 3              | 3707       | 212                  | 25.109ms         |</pre>"
      ],
      "text/plain": [
       "| 37        | 3              | 3707       | 212                  | 25.109ms         |"
      ]
     },
     "metadata": {},
     "output_type": "display_data"
    },
    {
     "data": {
      "text/html": [
       "<pre>| 38        | 5              | 2661       | 640                  | 26.908ms         |</pre>"
      ],
      "text/plain": [
       "| 38        | 5              | 2661       | 640                  | 26.908ms         |"
      ]
     },
     "metadata": {},
     "output_type": "display_data"
    },
    {
     "data": {
      "text/html": [
       "<pre>| 39        | 5              | 2619       | 640                  | 28.217ms         |</pre>"
      ],
      "text/plain": [
       "| 39        | 5              | 2619       | 640                  | 28.217ms         |"
      ]
     },
     "metadata": {},
     "output_type": "display_data"
    },
    {
     "data": {
      "text/html": [
       "<pre>| 40        | 5              | 2595       | 640                  | 29.544ms         |</pre>"
      ],
      "text/plain": [
       "| 40        | 5              | 2595       | 640                  | 29.544ms         |"
      ]
     },
     "metadata": {},
     "output_type": "display_data"
    },
    {
     "data": {
      "text/html": [
       "<pre>| 41        | 5              | 2593       | 640                  | 30.872ms         |</pre>"
      ],
      "text/plain": [
       "| 41        | 5              | 2593       | 640                  | 30.872ms         |"
      ]
     },
     "metadata": {},
     "output_type": "display_data"
    },
    {
     "data": {
      "text/html": [
       "<pre>| 42        | 5              | 2576       | 640                  | 32.285ms         |</pre>"
      ],
      "text/plain": [
       "| 42        | 5              | 2576       | 640                  | 32.285ms         |"
      ]
     },
     "metadata": {},
     "output_type": "display_data"
    },
    {
     "data": {
      "text/html": [
       "<pre>| 43        | 5              | 2551       | 640                  | 33.733ms         |</pre>"
      ],
      "text/plain": [
       "| 43        | 5              | 2551       | 640                  | 33.733ms         |"
      ]
     },
     "metadata": {},
     "output_type": "display_data"
    },
    {
     "data": {
      "text/html": [
       "<pre>| 44        | 5              | 2544       | 640                  | 35.259ms         |</pre>"
      ],
      "text/plain": [
       "| 44        | 5              | 2544       | 640                  | 35.259ms         |"
      ]
     },
     "metadata": {},
     "output_type": "display_data"
    },
    {
     "data": {
      "text/html": [
       "<pre>| 45        | 5              | 2538       | 640                  | 36.945ms         |</pre>"
      ],
      "text/plain": [
       "| 45        | 5              | 2538       | 640                  | 36.945ms         |"
      ]
     },
     "metadata": {},
     "output_type": "display_data"
    },
    {
     "data": {
      "text/html": [
       "<pre>| 46        | 5              | 2533       | 640                  | 38.554ms         |</pre>"
      ],
      "text/plain": [
       "| 46        | 5              | 2533       | 640                  | 38.554ms         |"
      ]
     },
     "metadata": {},
     "output_type": "display_data"
    },
    {
     "data": {
      "text/html": [
       "<pre>| 47        | 5              | 2530       | 640                  | 40.203ms         |</pre>"
      ],
      "text/plain": [
       "| 47        | 5              | 2530       | 640                  | 40.203ms         |"
      ]
     },
     "metadata": {},
     "output_type": "display_data"
    },
    {
     "data": {
      "text/html": [
       "<pre>| 48        | 5              | 2521       | 640                  | 41.847ms         |</pre>"
      ],
      "text/plain": [
       "| 48        | 5              | 2521       | 640                  | 41.847ms         |"
      ]
     },
     "metadata": {},
     "output_type": "display_data"
    },
    {
     "data": {
      "text/html": [
       "<pre>| 49        | 5              | 2511       | 640                  | 43.647ms         |</pre>"
      ],
      "text/plain": [
       "| 49        | 5              | 2511       | 640                  | 43.647ms         |"
      ]
     },
     "metadata": {},
     "output_type": "display_data"
    },
    {
     "data": {
      "text/html": [
       "<pre>| Final     | 5              | -          | 640                  | 45.439ms         |</pre>"
      ],
      "text/plain": [
       "| Final     | 5              | -          | 640                  | 45.439ms         |"
      ]
     },
     "metadata": {},
     "output_type": "display_data"
    },
    {
     "data": {
      "text/html": [
       "<pre>+-----------+----------------+------------+----------------------+------------------+</pre>"
      ],
      "text/plain": [
       "+-----------+----------------+------------+----------------------+------------------+"
      ]
     },
     "metadata": {},
     "output_type": "display_data"
    },
    {
     "data": {
      "text/html": [
       "<pre>Pattern mining complete. Found 5 unique closed patterns.</pre>"
      ],
      "text/plain": [
       "Pattern mining complete. Found 5 unique closed patterns."
      ]
     },
     "metadata": {},
     "output_type": "display_data"
    }
   ],
   "source": [
    "min_support = int(train.num_rows()*1e-03)\n",
    "\n",
    "top5_freq_patterns = gl.frequent_pattern_mining.create(train, 'Item',\n",
    "                                                       features=['Receipt', 'StoreNum'],\n",
    "                                                       min_support=min_support,\n",
    "                                                       max_patterns=5,\n",
    "                                                       min_length=4)"
   ]
  },
  {
   "cell_type": "markdown",
   "metadata": {},
   "source": [
    "The top-5 most frequent patterns are:"
   ]
  },
  {
   "cell_type": "code",
   "execution_count": 14,
   "metadata": {
    "collapsed": false
   },
   "outputs": [
    {
     "name": "stdout",
     "output_type": "stream",
     "text": [
      "Class                         : FrequentPatternMiner\n",
      "\n",
      "Model fields\n",
      "------------\n",
      "Min support                   : 212\n",
      "Max patterns                  : 5\n",
      "Min pattern length            : 4\n",
      "\n",
      "Most frequent patterns\n",
      "----------------------\n",
      "['CoffeeEclair', 'HotCoffee', 'ApplePie', 'AlmondTwist']: 877\n",
      "['LemonLemonade', 'RaspberryCookie', 'LemonCookie', 'RaspberryLemonade']: 813\n",
      "['LemonLemonade', 'RaspberryCookie', 'LemonCookie', 'GreenTea']: 649\n",
      "['RaspberryCookie', 'LemonCookie', 'RaspberryLemonade', 'GreenTea']: 645\n",
      "['AppleTart', 'AppleDanish', 'AppleCroissant', 'CherrySoda']: 640\n",
      "\n"
     ]
    }
   ],
   "source": [
    "print top5_freq_patterns"
   ]
  },
  {
   "cell_type": "markdown",
   "metadata": {},
   "source": [
    "We can always save the trained model by calling:"
   ]
  },
  {
   "cell_type": "code",
   "execution_count": 15,
   "metadata": {
    "collapsed": true
   },
   "outputs": [],
   "source": [
    "top5_freq_patterns.save('./top5_freq_patterns_model')"
   ]
  },
  {
   "cell_type": "markdown",
   "metadata": {},
   "source": [
    "## Business Use Case: Compute Association Rules and Make Predictions\n",
    "\n",
    "An association rule is an ordered pair of item sets (prefix \\\\( A \\\\), prediction \\\\( B \\\\)) denoted \\\\( A\\Rightarrow B \\\\) such that \\\\( A \\\\) and \\\\( B \\\\)  are disjoint whereas \\\\( A\\cup B \\\\) is frequent. The most popular criteria for scoring association rules is to measure the **confidence of the rule**: the ratio of the support of \\\\( A\\cup B \\\\) to the support of \\\\( A \\\\).\n",
    "\n",
    "\\\\[ \\textrm{Confidence}(A\\Rightarrow B) = \\frac{\\textrm{Supp}(A\\cup B)}{\\textrm{Supp}(A)}. \\\\]\n",
    "\n",
    "The confidence of the rule \\\\( A\\Rightarrow B \\\\) is our empirical estimate of the conditional probability for \\\\( B \\\\) given \\\\( A \\\\).\n",
    "\n",
    "One can make predictions using the **`predict()`** or **`predict_topk()`** method for single and multiple predictions respectively. The output of both the methods is an **SFrame** with the following columns:\n",
    "\n",
    "* **prefix**: The antecedent or left-hand side of an association rule. It must be a frequent pattern and a subset of the associated pattern.\n",
    "* **prediction**: The consequent or right-hand side of the association rule. It must be disjoint of the prefix.\n",
    "* **confidence**: The confidence of the association rule as defined above.\n",
    "* **prefix support**: The frequency of the prefix pattern in the training data.\n",
    "* **joint support**: The frequency of the co-occurrence ( prefix + prediction) in the training data"
   ]
  },
  {
   "cell_type": "code",
   "execution_count": 16,
   "metadata": {
    "collapsed": false
   },
   "outputs": [
    {
     "data": {
      "text/html": [
       "<pre>Preprocessing complete. Found 39293 unique transactions.</pre>"
      ],
      "text/plain": [
       "Preprocessing complete. Found 39293 unique transactions."
      ]
     },
     "metadata": {},
     "output_type": "display_data"
    }
   ],
   "source": [
    "predictions = top5_freq_patterns.predict(test)"
   ]
  },
  {
   "cell_type": "code",
   "execution_count": 17,
   "metadata": {
    "collapsed": false
   },
   "outputs": [
    {
     "name": "stdout",
     "output_type": "stream",
     "text": [
      "+---------+----------+----------------------------+--------------------+-----------------+----------------+\n",
      "| Receipt | StoreNum |           prefix           |     prediction     |    confidence   | prefix support |\n",
      "+---------+----------+----------------------------+--------------------+-----------------+----------------+\n",
      "|  35020  |    14    |             []             |   [CoffeeEclair]   | 0.0890356958378 |     73566      |\n",
      "|   6447  |    5     | [BlueberryTart, HotCoffee] | [ApricotCroissant] |  0.728793309438 |      1674      |\n",
      "|  12900  |    10    |      [BlueberryTart]       | [ApricotCroissant] |  0.412691996766 |      4948      |\n",
      "|  49658  |    20    |      [BlueberryTart]       | [ApricotCroissant] |  0.412691996766 |      4948      |\n",
      "|  20227  |    19    |    [RaspberryLemonade]     | [RaspberryCookie]  |  0.334982681841 |      4042      |\n",
      "|  30891  |    12    |      [BlueberryTart]       | [ApricotCroissant] |  0.412691996766 |      4948      |\n",
      "|  47850  |    2     |       [TuileCookie]        |  [MarzipanCookie]  |  0.399834710744 |      6050      |\n",
      "|  26659  |    3     |        [CasinoCake]        |  [ChocolateCake]   |  0.379670818505 |      4496      |\n",
      "|  28397  |    3     |        [CasinoCake]        |  [ChocolateCake]   |  0.379670818505 |      4496      |\n",
      "|  71521  |    3     |      [ApricotDanish]       |    [CherryTart]    |  0.458183129056 |      5548      |\n",
      "+---------+----------+----------------------------+--------------------+-----------------+----------------+\n",
      "+---------------+\n",
      "| joint support |\n",
      "+---------------+\n",
      "|      6550     |\n",
      "|      1220     |\n",
      "|      2042     |\n",
      "|      2042     |\n",
      "|      1354     |\n",
      "|      2042     |\n",
      "|      2419     |\n",
      "|      1707     |\n",
      "|      1707     |\n",
      "|      2542     |\n",
      "+---------------+\n",
      "[39293 rows x 7 columns]\n",
      "\n"
     ]
    }
   ],
   "source": [
    "predictions.print_rows(max_row_width=100)"
   ]
  },
  {
   "cell_type": "markdown",
   "metadata": {},
   "source": [
    "## Feature Engineering to help other ML Tasks in Pipeline \n",
    "\n",
    "### The `.extract_feature()` method\n",
    "\n",
    "Using the set of closed patterns, we can convert pattern data to binary features vectors. These feature vectors can be used for other machine learning tasks, such as **clustering** or **classification**. For each input pattern `x`, the `j-th` extracted feature `f_{x}[j]` is a binary indicator of whether the `j-th` closed pattern is contained in `x`.\n",
    "\n",
    "First, we train the **`top100_freq_patterns`** model as shown below:"
   ]
  },
  {
   "cell_type": "code",
   "execution_count": 18,
   "metadata": {
    "collapsed": false
   },
   "outputs": [
    {
     "data": {
      "text/html": [
       "<pre>Indexing complete. Found 50 unique items.</pre>"
      ],
      "text/plain": [
       "Indexing complete. Found 50 unique items."
      ]
     },
     "metadata": {},
     "output_type": "display_data"
    },
    {
     "data": {
      "text/html": [
       "<pre>Preprocessing complete. Found 73566 unique transactions.</pre>"
      ],
      "text/plain": [
       "Preprocessing complete. Found 73566 unique transactions."
      ]
     },
     "metadata": {},
     "output_type": "display_data"
    },
    {
     "data": {
      "text/html": [
       "<pre>Building frequent pattern tree.</pre>"
      ],
      "text/plain": [
       "Building frequent pattern tree."
      ]
     },
     "metadata": {},
     "output_type": "display_data"
    },
    {
     "data": {
      "text/html": [
       "<pre>+-----------+----------------+------------+----------------------+------------------+</pre>"
      ],
      "text/plain": [
       "+-----------+----------------+------------+----------------------+------------------+"
      ]
     },
     "metadata": {},
     "output_type": "display_data"
    },
    {
     "data": {
      "text/html": [
       "<pre>| Iteration | Num. Patterns  | Support    | Current Min Support  | Elapsed Time     |</pre>"
      ],
      "text/plain": [
       "| Iteration | Num. Patterns  | Support    | Current Min Support  | Elapsed Time     |"
      ]
     },
     "metadata": {},
     "output_type": "display_data"
    },
    {
     "data": {
      "text/html": [
       "<pre>+-----------+----------------+------------+----------------------+------------------+</pre>"
      ],
      "text/plain": [
       "+-----------+----------------+------------+----------------------+------------------+"
      ]
     },
     "metadata": {},
     "output_type": "display_data"
    },
    {
     "data": {
      "text/html": [
       "<pre>| 0         | 0              | 6550       | 126                  | 128us            |</pre>"
      ],
      "text/plain": [
       "| 0         | 0              | 6550       | 126                  | 128us            |"
      ]
     },
     "metadata": {},
     "output_type": "display_data"
    },
    {
     "data": {
      "text/html": [
       "<pre>| 1         | 0              | 6167       | 126                  | 197us            |</pre>"
      ],
      "text/plain": [
       "| 1         | 0              | 6167       | 126                  | 197us            |"
      ]
     },
     "metadata": {},
     "output_type": "display_data"
    },
    {
     "data": {
      "text/html": [
       "<pre>| 2         | 1              | 6050       | 126                  | 239us            |</pre>"
      ],
      "text/plain": [
       "| 2         | 1              | 6050       | 126                  | 239us            |"
      ]
     },
     "metadata": {},
     "output_type": "display_data"
    },
    {
     "data": {
      "text/html": [
       "<pre>| 3         | 3              | 5587       | 126                  | 311us            |</pre>"
      ],
      "text/plain": [
       "| 3         | 3              | 5587       | 126                  | 311us            |"
      ]
     },
     "metadata": {},
     "output_type": "display_data"
    },
    {
     "data": {
      "text/html": [
       "<pre>| 4         | 6              | 5563       | 126                  | 371us            |</pre>"
      ],
      "text/plain": [
       "| 4         | 6              | 5563       | 126                  | 371us            |"
      ]
     },
     "metadata": {},
     "output_type": "display_data"
    },
    {
     "data": {
      "text/html": [
       "<pre>| 5         | 10             | 5548       | 126                  | 449us            |</pre>"
      ],
      "text/plain": [
       "| 5         | 10             | 5548       | 126                  | 449us            |"
      ]
     },
     "metadata": {},
     "output_type": "display_data"
    },
    {
     "data": {
      "text/html": [
       "<pre>| 6         | 15             | 5495       | 126                  | 552us            |</pre>"
      ],
      "text/plain": [
       "| 6         | 15             | 5495       | 126                  | 552us            |"
      ]
     },
     "metadata": {},
     "output_type": "display_data"
    },
    {
     "data": {
      "text/html": [
       "<pre>| 7         | 21             | 5438       | 126                  | 688us            |</pre>"
      ],
      "text/plain": [
       "| 7         | 21             | 5438       | 126                  | 688us            |"
      ]
     },
     "metadata": {},
     "output_type": "display_data"
    },
    {
     "data": {
      "text/html": [
       "<pre>| 8         | 28             | 5376       | 126                  | 854us            |</pre>"
      ],
      "text/plain": [
       "| 8         | 28             | 5376       | 126                  | 854us            |"
      ]
     },
     "metadata": {},
     "output_type": "display_data"
    },
    {
     "data": {
      "text/html": [
       "<pre>| 9         | 36             | 5088       | 126                  | 1.097ms          |</pre>"
      ],
      "text/plain": [
       "| 9         | 36             | 5088       | 126                  | 1.097ms          |"
      ]
     },
     "metadata": {},
     "output_type": "display_data"
    },
    {
     "data": {
      "text/html": [
       "<pre>| 10        | 45             | 5071       | 126                  | 1.503ms          |</pre>"
      ],
      "text/plain": [
       "| 10        | 45             | 5071       | 126                  | 1.503ms          |"
      ]
     },
     "metadata": {},
     "output_type": "display_data"
    },
    {
     "data": {
      "text/html": [
       "<pre>| 11        | 55             | 5040       | 126                  | 1.845ms          |</pre>"
      ],
      "text/plain": [
       "| 11        | 55             | 5040       | 126                  | 1.845ms          |"
      ]
     },
     "metadata": {},
     "output_type": "display_data"
    },
    {
     "data": {
      "text/html": [
       "<pre>| 12        | 66             | 4994       | 126                  | 2.66ms           |</pre>"
      ],
      "text/plain": [
       "| 12        | 66             | 4994       | 126                  | 2.66ms           |"
      ]
     },
     "metadata": {},
     "output_type": "display_data"
    },
    {
     "data": {
      "text/html": [
       "<pre>| 13        | 78             | 4981       | 126                  | 3.273ms          |</pre>"
      ],
      "text/plain": [
       "| 13        | 78             | 4981       | 126                  | 3.273ms          |"
      ]
     },
     "metadata": {},
     "output_type": "display_data"
    },
    {
     "data": {
      "text/html": [
       "<pre>| 14        | 91             | 4949       | 126                  | 3.891ms          |</pre>"
      ],
      "text/plain": [
       "| 14        | 91             | 4949       | 126                  | 3.891ms          |"
      ]
     },
     "metadata": {},
     "output_type": "display_data"
    },
    {
     "data": {
      "text/html": [
       "<pre>| 15        | 100            | 4948       | 183                  | 4.709ms          |</pre>"
      ],
      "text/plain": [
       "| 15        | 100            | 4948       | 183                  | 4.709ms          |"
      ]
     },
     "metadata": {},
     "output_type": "display_data"
    },
    {
     "data": {
      "text/html": [
       "<pre>| 16        | 100            | 4932       | 199                  | 5.664ms          |</pre>"
      ],
      "text/plain": [
       "| 16        | 100            | 4932       | 199                  | 5.664ms          |"
      ]
     },
     "metadata": {},
     "output_type": "display_data"
    },
    {
     "data": {
      "text/html": [
       "<pre>| 17        | 100            | 4914       | 212                  | 6.998ms          |</pre>"
      ],
      "text/plain": [
       "| 17        | 100            | 4914       | 212                  | 6.998ms          |"
      ]
     },
     "metadata": {},
     "output_type": "display_data"
    },
    {
     "data": {
      "text/html": [
       "<pre>| 18        | 100            | 4913       | 219                  | 7.81ms           |</pre>"
      ],
      "text/plain": [
       "| 18        | 100            | 4913       | 219                  | 7.81ms           |"
      ]
     },
     "metadata": {},
     "output_type": "display_data"
    },
    {
     "data": {
      "text/html": [
       "<pre>| 19        | 100            | 4690       | 221                  | 8.643ms          |</pre>"
      ],
      "text/plain": [
       "| 19        | 100            | 4690       | 221                  | 8.643ms          |"
      ]
     },
     "metadata": {},
     "output_type": "display_data"
    },
    {
     "data": {
      "text/html": [
       "<pre>| 20        | 100            | 4681       | 223                  | 9.296ms          |</pre>"
      ],
      "text/plain": [
       "| 20        | 100            | 4681       | 223                  | 9.296ms          |"
      ]
     },
     "metadata": {},
     "output_type": "display_data"
    },
    {
     "data": {
      "text/html": [
       "<pre>| 21        | 100            | 4613       | 225                  | 10.092ms         |</pre>"
      ],
      "text/plain": [
       "| 21        | 100            | 4613       | 225                  | 10.092ms         |"
      ]
     },
     "metadata": {},
     "output_type": "display_data"
    },
    {
     "data": {
      "text/html": [
       "<pre>| 22        | 100            | 4592       | 227                  | 11.236ms         |</pre>"
      ],
      "text/plain": [
       "| 22        | 100            | 4592       | 227                  | 11.236ms         |"
      ]
     },
     "metadata": {},
     "output_type": "display_data"
    },
    {
     "data": {
      "text/html": [
       "<pre>| 23        | 100            | 4568       | 229                  | 12.139ms         |</pre>"
      ],
      "text/plain": [
       "| 23        | 100            | 4568       | 229                  | 12.139ms         |"
      ]
     },
     "metadata": {},
     "output_type": "display_data"
    },
    {
     "data": {
      "text/html": [
       "<pre>| 24        | 100            | 4506       | 230                  | 12.977ms         |</pre>"
      ],
      "text/plain": [
       "| 24        | 100            | 4506       | 230                  | 12.977ms         |"
      ]
     },
     "metadata": {},
     "output_type": "display_data"
    },
    {
     "data": {
      "text/html": [
       "<pre>| 25        | 100            | 4496       | 233                  | 14.184ms         |</pre>"
      ],
      "text/plain": [
       "| 25        | 100            | 4496       | 233                  | 14.184ms         |"
      ]
     },
     "metadata": {},
     "output_type": "display_data"
    },
    {
     "data": {
      "text/html": [
       "<pre>| 26        | 100            | 4398       | 236                  | 15.339ms         |</pre>"
      ],
      "text/plain": [
       "| 26        | 100            | 4398       | 236                  | 15.339ms         |"
      ]
     },
     "metadata": {},
     "output_type": "display_data"
    },
    {
     "data": {
      "text/html": [
       "<pre>| 27        | 100            | 4122       | 237                  | 16.361ms         |</pre>"
      ],
      "text/plain": [
       "| 27        | 100            | 4122       | 237                  | 16.361ms         |"
      ]
     },
     "metadata": {},
     "output_type": "display_data"
    },
    {
     "data": {
      "text/html": [
       "<pre>| 28        | 100            | 4101       | 237                  | 17.09ms          |</pre>"
      ],
      "text/plain": [
       "| 28        | 100            | 4101       | 237                  | 17.09ms          |"
      ]
     },
     "metadata": {},
     "output_type": "display_data"
    },
    {
     "data": {
      "text/html": [
       "<pre>| 29        | 100            | 4074       | 240                  | 18.212ms         |</pre>"
      ],
      "text/plain": [
       "| 29        | 100            | 4074       | 240                  | 18.212ms         |"
      ]
     },
     "metadata": {},
     "output_type": "display_data"
    },
    {
     "data": {
      "text/html": [
       "<pre>| 30        | 100            | 4071       | 241                  | 19.21ms          |</pre>"
      ],
      "text/plain": [
       "| 30        | 100            | 4071       | 241                  | 19.21ms          |"
      ]
     },
     "metadata": {},
     "output_type": "display_data"
    },
    {
     "data": {
      "text/html": [
       "<pre>| 31        | 100            | 4057       | 241                  | 20.154ms         |</pre>"
      ],
      "text/plain": [
       "| 31        | 100            | 4057       | 241                  | 20.154ms         |"
      ]
     },
     "metadata": {},
     "output_type": "display_data"
    },
    {
     "data": {
      "text/html": [
       "<pre>| 32        | 100            | 4056       | 241                  | 21.253ms         |</pre>"
      ],
      "text/plain": [
       "| 32        | 100            | 4056       | 241                  | 21.253ms         |"
      ]
     },
     "metadata": {},
     "output_type": "display_data"
    },
    {
     "data": {
      "text/html": [
       "<pre>| 33        | 100            | 4055       | 242                  | 22.558ms         |</pre>"
      ],
      "text/plain": [
       "| 33        | 100            | 4055       | 242                  | 22.558ms         |"
      ]
     },
     "metadata": {},
     "output_type": "display_data"
    },
    {
     "data": {
      "text/html": [
       "<pre>| 34        | 100            | 4042       | 243                  | 23.978ms         |</pre>"
      ],
      "text/plain": [
       "| 34        | 100            | 4042       | 243                  | 23.978ms         |"
      ]
     },
     "metadata": {},
     "output_type": "display_data"
    },
    {
     "data": {
      "text/html": [
       "<pre>| 35        | 100            | 4014       | 246                  | 25.507ms         |</pre>"
      ],
      "text/plain": [
       "| 35        | 100            | 4014       | 246                  | 25.507ms         |"
      ]
     },
     "metadata": {},
     "output_type": "display_data"
    },
    {
     "data": {
      "text/html": [
       "<pre>| 36        | 100            | 3711       | 247                  | 27.112ms         |</pre>"
      ],
      "text/plain": [
       "| 36        | 100            | 3711       | 247                  | 27.112ms         |"
      ]
     },
     "metadata": {},
     "output_type": "display_data"
    },
    {
     "data": {
      "text/html": [
       "<pre>| 37        | 100            | 3707       | 250                  | 28.944ms         |</pre>"
      ],
      "text/plain": [
       "| 37        | 100            | 3707       | 250                  | 28.944ms         |"
      ]
     },
     "metadata": {},
     "output_type": "display_data"
    },
    {
     "data": {
      "text/html": [
       "<pre>| 38        | 100            | 2661       | 259                  | 30.847ms         |</pre>"
      ],
      "text/plain": [
       "| 38        | 100            | 2661       | 259                  | 30.847ms         |"
      ]
     },
     "metadata": {},
     "output_type": "display_data"
    },
    {
     "data": {
      "text/html": [
       "<pre>| 39        | 100            | 2619       | 259                  | 32.212ms         |</pre>"
      ],
      "text/plain": [
       "| 39        | 100            | 2619       | 259                  | 32.212ms         |"
      ]
     },
     "metadata": {},
     "output_type": "display_data"
    },
    {
     "data": {
      "text/html": [
       "<pre>| 40        | 100            | 2595       | 259                  | 33.59ms          |</pre>"
      ],
      "text/plain": [
       "| 40        | 100            | 2595       | 259                  | 33.59ms          |"
      ]
     },
     "metadata": {},
     "output_type": "display_data"
    },
    {
     "data": {
      "text/html": [
       "<pre>| 41        | 100            | 2593       | 259                  | 35.071ms         |</pre>"
      ],
      "text/plain": [
       "| 41        | 100            | 2593       | 259                  | 35.071ms         |"
      ]
     },
     "metadata": {},
     "output_type": "display_data"
    },
    {
     "data": {
      "text/html": [
       "<pre>| 42        | 100            | 2576       | 259                  | 36.617ms         |</pre>"
      ],
      "text/plain": [
       "| 42        | 100            | 2576       | 259                  | 36.617ms         |"
      ]
     },
     "metadata": {},
     "output_type": "display_data"
    },
    {
     "data": {
      "text/html": [
       "<pre>| 43        | 100            | 2551       | 259                  | 38.187ms         |</pre>"
      ],
      "text/plain": [
       "| 43        | 100            | 2551       | 259                  | 38.187ms         |"
      ]
     },
     "metadata": {},
     "output_type": "display_data"
    },
    {
     "data": {
      "text/html": [
       "<pre>| 44        | 100            | 2544       | 259                  | 39.781ms         |</pre>"
      ],
      "text/plain": [
       "| 44        | 100            | 2544       | 259                  | 39.781ms         |"
      ]
     },
     "metadata": {},
     "output_type": "display_data"
    },
    {
     "data": {
      "text/html": [
       "<pre>| 45        | 100            | 2538       | 259                  | 41.431ms         |</pre>"
      ],
      "text/plain": [
       "| 45        | 100            | 2538       | 259                  | 41.431ms         |"
      ]
     },
     "metadata": {},
     "output_type": "display_data"
    },
    {
     "data": {
      "text/html": [
       "<pre>| 46        | 100            | 2533       | 259                  | 43.043ms         |</pre>"
      ],
      "text/plain": [
       "| 46        | 100            | 2533       | 259                  | 43.043ms         |"
      ]
     },
     "metadata": {},
     "output_type": "display_data"
    },
    {
     "data": {
      "text/html": [
       "<pre>| 47        | 100            | 2530       | 259                  | 49.919ms         |</pre>"
      ],
      "text/plain": [
       "| 47        | 100            | 2530       | 259                  | 49.919ms         |"
      ]
     },
     "metadata": {},
     "output_type": "display_data"
    },
    {
     "data": {
      "text/html": [
       "<pre>| 48        | 100            | 2521       | 259                  | 51.721ms         |</pre>"
      ],
      "text/plain": [
       "| 48        | 100            | 2521       | 259                  | 51.721ms         |"
      ]
     },
     "metadata": {},
     "output_type": "display_data"
    },
    {
     "data": {
      "text/html": [
       "<pre>| 49        | 100            | 2511       | 259                  | 58.393ms         |</pre>"
      ],
      "text/plain": [
       "| 49        | 100            | 2511       | 259                  | 58.393ms         |"
      ]
     },
     "metadata": {},
     "output_type": "display_data"
    },
    {
     "data": {
      "text/html": [
       "<pre>| Final     | 100            | -          | 259                  | 60.306ms         |</pre>"
      ],
      "text/plain": [
       "| Final     | 100            | -          | 259                  | 60.306ms         |"
      ]
     },
     "metadata": {},
     "output_type": "display_data"
    },
    {
     "data": {
      "text/html": [
       "<pre>+-----------+----------------+------------+----------------------+------------------+</pre>"
      ],
      "text/plain": [
       "+-----------+----------------+------------+----------------------+------------------+"
      ]
     },
     "metadata": {},
     "output_type": "display_data"
    },
    {
     "data": {
      "text/html": [
       "<pre>Pattern mining complete. Found 100 unique closed patterns.</pre>"
      ],
      "text/plain": [
       "Pattern mining complete. Found 100 unique closed patterns."
      ]
     },
     "metadata": {},
     "output_type": "display_data"
    }
   ],
   "source": [
    "top100_freq_patterns = gl.frequent_pattern_mining.\\\n",
    "create(train, 'Item',\n",
    "       features=['Receipt', 'StoreNum'],\n",
    "       # occurs at least once in our data record\n",
    "       min_support=1, \n",
    "       # do not search for more than 100 patterns\n",
    "       max_patterns = 100, \n",
    "       # test data have only one coffee product sold per tid .\n",
    "       # We search for patterns of at least 2 coffee products\n",
    "       min_length=2)"
   ]
  },
  {
   "cell_type": "markdown",
   "metadata": {},
   "source": [
    "Here are the 100 unique closed patterns which are found frequent:"
   ]
  },
  {
   "cell_type": "code",
   "execution_count": 19,
   "metadata": {
    "collapsed": false
   },
   "outputs": [
    {
     "name": "stdout",
     "output_type": "stream",
     "text": [
      "+----------------------------------------------------------------------------+---------+\n",
      "|                                  pattern                                   | support |\n",
      "+----------------------------------------------------------------------------+---------+\n",
      "|                        [CherryTart, ApricotDanish]                         |   2542  |\n",
      "|                       [TuileCookie, MarzipanCookie]                        |   2419  |\n",
      "|                      [ChocolateCake, ChocolateCoffee]                      |   2176  |\n",
      "|                       [GongolaisCookie, TruffleCake]                       |   2131  |\n",
      "|                       [OrangeJuice, CheeseCroissant]                       |   2079  |\n",
      "|                          [CherryTart, OperaCake]                           |   2067  |\n",
      "|                         [ApricotDanish, OperaCake]                         |   2046  |\n",
      "|                     [ApricotCroissant, BlueberryTart]                      |   2042  |\n",
      "|                       [StrawberryCake, NapoleonCake]                       |   2032  |\n",
      "|                          [CoffeeEclair, ApplePie]                          |   1816  |\n",
      "|                        [CoffeeEclair, AlmondTwist]                         |   1788  |\n",
      "|                          [ApplePie, AlmondTwist]                           |   1785  |\n",
      "|                         [BerryTart, BottledWater]                          |   1784  |\n",
      "|                           [LemonCake, LemonTart]                           |   1779  |\n",
      "|                       [CoffeeEclair, BlackberryTart]                       |   1726  |\n",
      "|                    [VanillaFrappuccino, ChocolateTart]                     |   1723  |\n",
      "|                        [ChocolateCake, CasinoCake]                         |   1707  |\n",
      "|                       [ChocolateCoffee, CasinoCake]                        |   1702  |\n",
      "|                         [HotCoffee, BlueberryTart]                         |   1674  |\n",
      "|                       [HotCoffee, ApricotCroissant]                        |   1636  |\n",
      "|                   [CherryTart, ApricotDanish, OperaCake]                   |   1561  |\n",
      "|                         [CoffeeEclair, HotCoffee]                          |   1526  |\n",
      "|                           [HotCoffee, ApplePie]                            |   1522  |\n",
      "|                          [HotCoffee, AlmondTwist]                          |   1490  |\n",
      "|                      [BlackberryTart, SingleEspresso]                      |   1406  |\n",
      "|                     [VanillaFrappuccino, WalnutCookie]                     |   1381  |\n",
      "|                       [CoffeeEclair, SingleEspresso]                       |   1376  |\n",
      "|                      [LemonLemonade, RaspberryCookie]                      |   1366  |\n",
      "|                       [RaspberryCookie, LemonCookie]                       |   1363  |\n",
      "|                        [LemonLemonade, LemonCookie]                        |   1358  |\n",
      "|                       [ChocolateTart, WalnutCookie]                        |   1357  |\n",
      "|                    [RaspberryCookie, RaspberryLemonade]                    |   1354  |\n",
      "|                   [CoffeeEclair, ApplePie, AlmondTwist]                    |   1351  |\n",
      "|                       [AppleDanish, AppleCroissant]                        |   1349  |\n",
      "|                      [LemonCookie, RaspberryLemonade]                      |   1345  |\n",
      "|                          [AppleTart, AppleDanish]                          |   1344  |\n",
      "|                        [AppleTart, AppleCroissant]                         |   1343  |\n",
      "|                     [LemonLemonade, RaspberryLemonade]                     |   1333  |\n",
      "|                [ChocolateCake, ChocolateCoffee, CasinoCake]                |   1308  |\n",
      "|                [HotCoffee, ApricotCroissant, BlueberryTart]                |   1220  |\n",
      "|                          [LemonCookie, GreenTea]                           |   1117  |\n",
      "|                         [AppleDanish, CherrySoda]                          |   1112  |\n",
      "|                    [CoffeeEclair, HotCoffee, ApplePie]                     |   1109  |\n",
      "|                        [RaspberryCookie, GreenTea]                         |   1106  |\n",
      "|                     [HotCoffee, ApplePie, AlmondTwist]                     |   1100  |\n",
      "|                         [LemonLemonade, GreenTea]                          |   1092  |\n",
      "|                        [AppleCroissant, CherrySoda]                        |   1087  |\n",
      "|                   [CoffeeEclair, HotCoffee, AlmondTwist]                   |   1086  |\n",
      "|                       [RaspberryLemonade, GreenTea]                        |   1074  |\n",
      "|                          [AppleTart, CherrySoda]                           |   1065  |\n",
      "|               [CoffeeEclair, BlackberryTart, SingleEspresso]               |   1023  |\n",
      "|               [LemonLemonade, RaspberryCookie, LemonCookie]                |   1021  |\n",
      "|             [VanillaFrappuccino, ChocolateTart, WalnutCookie]              |   1016  |\n",
      "|             [RaspberryCookie, LemonCookie, RaspberryLemonade]              |   1012  |\n",
      "|            [LemonLemonade, RaspberryCookie, RaspberryLemonade]             |   1012  |\n",
      "|              [LemonLemonade, LemonCookie, RaspberryLemonade]               |   1001  |\n",
      "|                  [AppleTart, AppleDanish, AppleCroissant]                  |   1000  |\n",
      "|              [CoffeeEclair, HotCoffee, ApplePie, AlmondTwist]              |   877   |\n",
      "|                  [RaspberryCookie, LemonCookie, GreenTea]                  |   814   |\n",
      "|      [LemonLemonade, RaspberryCookie, LemonCookie, RaspberryLemonade]      |   813   |\n",
      "|                 [AppleDanish, AppleCroissant, CherrySoda]                  |   809   |\n",
      "|                   [LemonLemonade, LemonCookie, GreenTea]                   |   804   |\n",
      "|                 [LemonCookie, RaspberryLemonade, GreenTea]                 |   803   |\n",
      "|                    [AppleTart, AppleDanish, CherrySoda]                    |   798   |\n",
      "|                 [LemonLemonade, RaspberryCookie, GreenTea]                 |   795   |\n",
      "|               [RaspberryCookie, RaspberryLemonade, GreenTea]               |   787   |\n",
      "|                  [AppleTart, AppleCroissant, CherrySoda]                   |   783   |\n",
      "|                [LemonLemonade, RaspberryLemonade, GreenTea]                |   769   |\n",
      "|          [LemonLemonade, RaspberryCookie, LemonCookie, GreenTea]           |   649   |\n",
      "|        [RaspberryCookie, LemonCookie, RaspberryLemonade, GreenTea]         |   645   |\n",
      "|            [AppleTart, AppleDanish, AppleCroissant, CherrySoda]            |   640   |\n",
      "|         [LemonLemonade, LemonCookie, RaspberryLemonade, GreenTea]          |   630   |\n",
      "|       [LemonLemonade, RaspberryCookie, RaspberryLemonade, GreenTea]        |   620   |\n",
      "| [LemonLemonade, RaspberryCookie, LemonCookie, RaspberryLemonade, GreenTea] |   512   |\n",
      "|                       [TuileCookie, StrawberryCake]                        |   300   |\n",
      "|                     [StrawberryCake, GongolaisCookie]                      |   293   |\n",
      "|                       [TuileCookie, GongolaisCookie]                       |   293   |\n",
      "|                          [TuileCookie, LemonCake]                          |   284   |\n",
      "|                          [TuileCookie, LemonTart]                          |   283   |\n",
      "|                        [TuileCookie, ChocolateCake]                        |   281   |\n",
      "|                          [OrangeJuice, LemonCake]                          |   280   |\n",
      "|                          [TuileCookie, BerryTart]                          |   279   |\n",
      "|                           [BerryTart, LemonCake]                           |   274   |\n",
      "|                         [TuileCookie, OrangeJuice]                         |   274   |\n",
      "|                        [CherryTart, StrawberryCake]                        |   273   |\n",
      "|                     [GongolaisCookie, MarzipanCookie]                      |   271   |\n",
      "|                     [OrangeJuice, VanillaFrappuccino]                      |   271   |\n",
      "|                         [TuileCookie, TruffleCake]                         |   271   |\n",
      "|                        [OrangeJuice, BottledWater]                         |   270   |\n",
      "|                        [GongolaisCookie, LemonCake]                        |   268   |\n",
      "|                      [TuileCookie, ApricotCroissant]                       |   267   |\n",
      "|                        [StrawberryCake, BerryTart]                         |   266   |\n",
      "|                       [TruffleCake, CheeseCroissant]                       |   261   |\n",
      "|                        [BerryTart, CheeseCroissant]                        |   261   |\n",
      "|                        [MarzipanCookie, BerryTart]                         |   261   |\n",
      "|                          [OrangeJuice, BerryTart]                          |   260   |\n",
      "|                      [StrawberryCake, MarzipanCookie]                      |   260   |\n",
      "|                          [CherryTart, LemonCake]                           |   260   |\n",
      "|                        [StrawberryCake, LemonCake]                         |   259   |\n",
      "|                         [CherryTart, OrangeJuice]                          |   259   |\n",
      "+----------------------------------------------------------------------------+---------+\n",
      "[100 rows x 2 columns]\n",
      "\n"
     ]
    }
   ],
   "source": [
    "top100_freq_patterns.frequent_patterns.\\\n",
    "print_rows(num_rows=100, max_row_width=90, max_column_width=80)"
   ]
  },
  {
   "cell_type": "markdown",
   "metadata": {},
   "source": [
    "Next, we apply the **`extract_features()`** method of this newly trained **`top100_freq_patterns`** model on the **`test`** data set."
   ]
  },
  {
   "cell_type": "code",
   "execution_count": 20,
   "metadata": {
    "collapsed": false
   },
   "outputs": [
    {
     "data": {
      "text/html": [
       "<pre>Preprocessing complete. Found 73566 unique transactions.</pre>"
      ],
      "text/plain": [
       "Preprocessing complete. Found 73566 unique transactions."
      ]
     },
     "metadata": {},
     "output_type": "display_data"
    }
   ],
   "source": [
    "features = top100_freq_patterns.extract_features(train)"
   ]
  },
  {
   "cell_type": "markdown",
   "metadata": {},
   "source": [
    "Once the features are extracted, we can use them downstream in other applications such as **clustering**, **classification**, **churn prediction**, **recommender systems** etc."
   ]
  },
  {
   "cell_type": "code",
   "execution_count": 21,
   "metadata": {
    "collapsed": false
   },
   "outputs": [
    {
     "name": "stdout",
     "output_type": "stream",
     "text": [
      "+---------+----------+\n",
      "| Receipt | StoreNum |\n",
      "+---------+----------+\n",
      "|   8829  |    7     |\n",
      "|  35020  |    14    |\n",
      "|  38810  |    20    |\n",
      "|   6015  |    7     |\n",
      "|  68521  |    3     |\n",
      "|   6447  |    5     |\n",
      "|  12900  |    10    |\n",
      "|  49658  |    20    |\n",
      "|  20227  |    19    |\n",
      "|  47850  |    2     |\n",
      "+---------+----------+\n",
      "+-----------------------------------------------------------------------------------------------------+\n",
      "|                                          extracted_features                                         |\n",
      "+-----------------------------------------------------------------------------------------------------+\n",
      "| [0.0, 0.0, 0.0, 0.0, 0.0, 0.0, 0.0, 0.0, 0.0, 0.0, 0.0, 0.0, 0.0, 1.0, 0.0, 0.0, 0.0, 0.0, 0.0, ... |\n",
      "| [0.0, 0.0, 0.0, 0.0, 0.0, 0.0, 0.0, 0.0, 0.0, 0.0, 0.0, 0.0, 0.0, 0.0, 0.0, 0.0, 0.0, 0.0, 0.0, ... |\n",
      "| [0.0, 1.0, 0.0, 0.0, 0.0, 0.0, 0.0, 0.0, 0.0, 0.0, 0.0, 0.0, 0.0, 0.0, 0.0, 0.0, 0.0, 0.0, 0.0, ... |\n",
      "| [0.0, 0.0, 0.0, 0.0, 0.0, 0.0, 0.0, 0.0, 0.0, 0.0, 0.0, 0.0, 0.0, 0.0, 0.0, 0.0, 0.0, 0.0, 0.0, ... |\n",
      "| [0.0, 0.0, 0.0, 0.0, 0.0, 0.0, 0.0, 0.0, 0.0, 0.0, 0.0, 0.0, 0.0, 0.0, 0.0, 0.0, 0.0, 0.0, 0.0, ... |\n",
      "| [0.0, 0.0, 0.0, 0.0, 0.0, 0.0, 0.0, 0.0, 0.0, 0.0, 0.0, 0.0, 0.0, 0.0, 0.0, 0.0, 0.0, 0.0, 0.0, ... |\n",
      "| [0.0, 0.0, 0.0, 0.0, 0.0, 0.0, 0.0, 0.0, 0.0, 0.0, 0.0, 0.0, 0.0, 0.0, 0.0, 0.0, 0.0, 0.0, 0.0, ... |\n",
      "| [0.0, 0.0, 0.0, 0.0, 0.0, 0.0, 0.0, 0.0, 0.0, 0.0, 0.0, 0.0, 0.0, 0.0, 0.0, 0.0, 0.0, 0.0, 0.0, ... |\n",
      "| [0.0, 0.0, 0.0, 0.0, 0.0, 0.0, 0.0, 0.0, 0.0, 0.0, 0.0, 0.0, 0.0, 0.0, 0.0, 0.0, 0.0, 0.0, 0.0, ... |\n",
      "| [0.0, 0.0, 0.0, 0.0, 0.0, 0.0, 0.0, 0.0, 0.0, 0.0, 0.0, 0.0, 1.0, 0.0, 0.0, 0.0, 0.0, 0.0, 0.0, ... |\n",
      "+-----------------------------------------------------------------------------------------------------+\n",
      "[73566 rows x 3 columns]\n",
      "\n"
     ]
    }
   ],
   "source": [
    "features.print_rows(num_rows=10, max_row_width=90, max_column_width=100)"
   ]
  },
  {
   "cell_type": "markdown",
   "metadata": {},
   "source": [
    "### Example: Employee Space Clustering by using occurrences of frequency patterns\n",
    "\n",
    "First, we provide an aggregated form of our data by selecting one **Selling Employee (`EmpId`)** at random."
   ]
  },
  {
   "cell_type": "code",
   "execution_count": 22,
   "metadata": {
    "collapsed": false
   },
   "outputs": [
    {
     "data": {
      "text/html": [
       "<div style=\"max-height:1000px;max-width:1500px;overflow:auto;\"><table frame=\"box\" rules=\"cols\">\n",
       "    <tr>\n",
       "        <th style=\"padding-left: 1em; padding-right: 1em; text-align: center\">Receipt</th>\n",
       "        <th style=\"padding-left: 1em; padding-right: 1em; text-align: center\">StoreNum</th>\n",
       "        <th style=\"padding-left: 1em; padding-right: 1em; text-align: center\">EmpId</th>\n",
       "    </tr>\n",
       "    <tr>\n",
       "        <td style=\"padding-left: 1em; padding-right: 1em; text-align: center; vertical-align: top\">8829</td>\n",
       "        <td style=\"padding-left: 1em; padding-right: 1em; text-align: center; vertical-align: top\">7</td>\n",
       "        <td style=\"padding-left: 1em; padding-right: 1em; text-align: center; vertical-align: top\">7</td>\n",
       "    </tr>\n",
       "    <tr>\n",
       "        <td style=\"padding-left: 1em; padding-right: 1em; text-align: center; vertical-align: top\">35020</td>\n",
       "        <td style=\"padding-left: 1em; padding-right: 1em; text-align: center; vertical-align: top\">14</td>\n",
       "        <td style=\"padding-left: 1em; padding-right: 1em; text-align: center; vertical-align: top\">14</td>\n",
       "    </tr>\n",
       "    <tr>\n",
       "        <td style=\"padding-left: 1em; padding-right: 1em; text-align: center; vertical-align: top\">38810</td>\n",
       "        <td style=\"padding-left: 1em; padding-right: 1em; text-align: center; vertical-align: top\">20</td>\n",
       "        <td style=\"padding-left: 1em; padding-right: 1em; text-align: center; vertical-align: top\">20</td>\n",
       "    </tr>\n",
       "    <tr>\n",
       "        <td style=\"padding-left: 1em; padding-right: 1em; text-align: center; vertical-align: top\">6015</td>\n",
       "        <td style=\"padding-left: 1em; padding-right: 1em; text-align: center; vertical-align: top\">7</td>\n",
       "        <td style=\"padding-left: 1em; padding-right: 1em; text-align: center; vertical-align: top\">7</td>\n",
       "    </tr>\n",
       "    <tr>\n",
       "        <td style=\"padding-left: 1em; padding-right: 1em; text-align: center; vertical-align: top\">68521</td>\n",
       "        <td style=\"padding-left: 1em; padding-right: 1em; text-align: center; vertical-align: top\">3</td>\n",
       "        <td style=\"padding-left: 1em; padding-right: 1em; text-align: center; vertical-align: top\">3</td>\n",
       "    </tr>\n",
       "    <tr>\n",
       "        <td style=\"padding-left: 1em; padding-right: 1em; text-align: center; vertical-align: top\">6447</td>\n",
       "        <td style=\"padding-left: 1em; padding-right: 1em; text-align: center; vertical-align: top\">5</td>\n",
       "        <td style=\"padding-left: 1em; padding-right: 1em; text-align: center; vertical-align: top\">5</td>\n",
       "    </tr>\n",
       "    <tr>\n",
       "        <td style=\"padding-left: 1em; padding-right: 1em; text-align: center; vertical-align: top\">12900</td>\n",
       "        <td style=\"padding-left: 1em; padding-right: 1em; text-align: center; vertical-align: top\">10</td>\n",
       "        <td style=\"padding-left: 1em; padding-right: 1em; text-align: center; vertical-align: top\">35</td>\n",
       "    </tr>\n",
       "    <tr>\n",
       "        <td style=\"padding-left: 1em; padding-right: 1em; text-align: center; vertical-align: top\">49658</td>\n",
       "        <td style=\"padding-left: 1em; padding-right: 1em; text-align: center; vertical-align: top\">20</td>\n",
       "        <td style=\"padding-left: 1em; padding-right: 1em; text-align: center; vertical-align: top\">20</td>\n",
       "    </tr>\n",
       "    <tr>\n",
       "        <td style=\"padding-left: 1em; padding-right: 1em; text-align: center; vertical-align: top\">20227</td>\n",
       "        <td style=\"padding-left: 1em; padding-right: 1em; text-align: center; vertical-align: top\">19</td>\n",
       "        <td style=\"padding-left: 1em; padding-right: 1em; text-align: center; vertical-align: top\">50</td>\n",
       "    </tr>\n",
       "    <tr>\n",
       "        <td style=\"padding-left: 1em; padding-right: 1em; text-align: center; vertical-align: top\">47850</td>\n",
       "        <td style=\"padding-left: 1em; padding-right: 1em; text-align: center; vertical-align: top\">2</td>\n",
       "        <td style=\"padding-left: 1em; padding-right: 1em; text-align: center; vertical-align: top\">23</td>\n",
       "    </tr>\n",
       "</table>\n",
       "[73566 rows x 3 columns]<br/>Note: Only the head of the SFrame is printed.<br/>You can use print_rows(num_rows=m, num_columns=n) to print more rows and columns.\n",
       "</div>"
      ],
      "text/plain": [
       "Columns:\n",
       "\tReceipt\tint\n",
       "\tStoreNum\tint\n",
       "\tEmpId\tint\n",
       "\n",
       "Rows: 73566\n",
       "\n",
       "Data:\n",
       "+---------+----------+-------+\n",
       "| Receipt | StoreNum | EmpId |\n",
       "+---------+----------+-------+\n",
       "|   8829  |    7     |   7   |\n",
       "|  35020  |    14    |   14  |\n",
       "|  38810  |    20    |   20  |\n",
       "|   6015  |    7     |   7   |\n",
       "|  68521  |    3     |   3   |\n",
       "|   6447  |    5     |   5   |\n",
       "|  12900  |    10    |   35  |\n",
       "|  49658  |    20    |   20  |\n",
       "|  20227  |    19    |   50  |\n",
       "|  47850  |    2     |   23  |\n",
       "+---------+----------+-------+\n",
       "[73566 rows x 3 columns]\n",
       "Note: Only the head of the SFrame is printed.\n",
       "You can use print_rows(num_rows=m, num_columns=n) to print more rows and columns."
      ]
     },
     "execution_count": 22,
     "metadata": {},
     "output_type": "execute_result"
    }
   ],
   "source": [
    "emps = train.groupby(['Receipt', 'StoreNum'],\n",
    "                     {'EmpId': agg.SELECT_ONE('EmpId')})\n",
    "emps"
   ]
  },
  {
   "cell_type": "markdown",
   "metadata": {},
   "source": [
    "Next, we count the instances that each of the **`top100_freq_patterns`** occurs per **`EmpId`**."
   ]
  },
  {
   "cell_type": "code",
   "execution_count": 23,
   "metadata": {
    "collapsed": false
   },
   "outputs": [
    {
     "data": {
      "text/html": [
       "<div style=\"max-height:1000px;max-width:1500px;overflow:auto;\"><table frame=\"box\" rules=\"cols\">\n",
       "    <tr>\n",
       "        <th style=\"padding-left: 1em; padding-right: 1em; text-align: center\">EmpId</th>\n",
       "        <th style=\"padding-left: 1em; padding-right: 1em; text-align: center\">all_features</th>\n",
       "    </tr>\n",
       "    <tr>\n",
       "        <td style=\"padding-left: 1em; padding-right: 1em; text-align: center; vertical-align: top\">49</td>\n",
       "        <td style=\"padding-left: 1em; padding-right: 1em; text-align: center; vertical-align: top\">[41.0, 53.0, 35.0, 42.0,<br>45.0, 30.0, 30.0, 31.0, ...</td>\n",
       "    </tr>\n",
       "    <tr>\n",
       "        <td style=\"padding-left: 1em; padding-right: 1em; text-align: center; vertical-align: top\">13</td>\n",
       "        <td style=\"padding-left: 1em; padding-right: 1em; text-align: center; vertical-align: top\">[126.0, 130.0, 95.0,<br>77.0, 91.0, 100.0, 10 ...</td>\n",
       "    </tr>\n",
       "    <tr>\n",
       "        <td style=\"padding-left: 1em; padding-right: 1em; text-align: center; vertical-align: top\">14</td>\n",
       "        <td style=\"padding-left: 1em; padding-right: 1em; text-align: center; vertical-align: top\">[140.0, 113.0, 107.0,<br>101.0, 116.0, 121.0, ...</td>\n",
       "    </tr>\n",
       "    <tr>\n",
       "        <td style=\"padding-left: 1em; padding-right: 1em; text-align: center; vertical-align: top\">48</td>\n",
       "        <td style=\"padding-left: 1em; padding-right: 1em; text-align: center; vertical-align: top\">[28.0, 34.0, 28.0, 23.0,<br>29.0, 23.0, 19.0, 23.0, ...</td>\n",
       "    </tr>\n",
       "    <tr>\n",
       "        <td style=\"padding-left: 1em; padding-right: 1em; text-align: center; vertical-align: top\">20</td>\n",
       "        <td style=\"padding-left: 1em; padding-right: 1em; text-align: center; vertical-align: top\">[133.0, 129.0, 123.0,<br>110.0, 109.0, 108.0, ...</td>\n",
       "    </tr>\n",
       "    <tr>\n",
       "        <td style=\"padding-left: 1em; padding-right: 1em; text-align: center; vertical-align: top\">12</td>\n",
       "        <td style=\"padding-left: 1em; padding-right: 1em; text-align: center; vertical-align: top\">[15.0, 19.0, 16.0, 14.0,<br>16.0, 11.0, 14.0, 13.0, ...</td>\n",
       "    </tr>\n",
       "    <tr>\n",
       "        <td style=\"padding-left: 1em; padding-right: 1em; text-align: center; vertical-align: top\">22</td>\n",
       "        <td style=\"padding-left: 1em; padding-right: 1em; text-align: center; vertical-align: top\">[52.0, 48.0, 37.0, 45.0,<br>46.0, 41.0, 35.0, 36.0, ...</td>\n",
       "    </tr>\n",
       "    <tr>\n",
       "        <td style=\"padding-left: 1em; padding-right: 1em; text-align: center; vertical-align: top\">36</td>\n",
       "        <td style=\"padding-left: 1em; padding-right: 1em; text-align: center; vertical-align: top\">[35.0, 35.0, 46.0, 38.0,<br>33.0, 30.0, 22.0, 32.0, ...</td>\n",
       "    </tr>\n",
       "    <tr>\n",
       "        <td style=\"padding-left: 1em; padding-right: 1em; text-align: center; vertical-align: top\">10</td>\n",
       "        <td style=\"padding-left: 1em; padding-right: 1em; text-align: center; vertical-align: top\">[38.0, 40.0, 35.0, 40.0,<br>38.0, 36.0, 36.0, 29.0, ...</td>\n",
       "    </tr>\n",
       "    <tr>\n",
       "        <td style=\"padding-left: 1em; padding-right: 1em; text-align: center; vertical-align: top\">29</td>\n",
       "        <td style=\"padding-left: 1em; padding-right: 1em; text-align: center; vertical-align: top\">[17.0, 10.0, 13.0, 19.0,<br>16.0, 13.0, 16.0, 19.0, ...</td>\n",
       "    </tr>\n",
       "</table>\n",
       "[50 rows x 2 columns]<br/>Note: Only the head of the SFrame is printed.<br/>You can use print_rows(num_rows=m, num_columns=n) to print more rows and columns.\n",
       "</div>"
      ],
      "text/plain": [
       "Columns:\n",
       "\tEmpId\tint\n",
       "\tall_features\tarray\n",
       "\n",
       "Rows: 50\n",
       "\n",
       "Data:\n",
       "+-------+-------------------------------+\n",
       "| EmpId |          all_features         |\n",
       "+-------+-------------------------------+\n",
       "|   49  | [41.0, 53.0, 35.0, 42.0, 4... |\n",
       "|   13  | [126.0, 130.0, 95.0, 77.0,... |\n",
       "|   14  | [140.0, 113.0, 107.0, 101.... |\n",
       "|   48  | [28.0, 34.0, 28.0, 23.0, 2... |\n",
       "|   20  | [133.0, 129.0, 123.0, 110.... |\n",
       "|   12  | [15.0, 19.0, 16.0, 14.0, 1... |\n",
       "|   22  | [52.0, 48.0, 37.0, 45.0, 4... |\n",
       "|   36  | [35.0, 35.0, 46.0, 38.0, 3... |\n",
       "|   10  | [38.0, 40.0, 35.0, 40.0, 3... |\n",
       "|   29  | [17.0, 10.0, 13.0, 19.0, 1... |\n",
       "+-------+-------------------------------+\n",
       "[50 rows x 2 columns]\n",
       "Note: Only the head of the SFrame is printed.\n",
       "You can use print_rows(num_rows=m, num_columns=n) to print more rows and columns."
      ]
     },
     "execution_count": 23,
     "metadata": {},
     "output_type": "execute_result"
    }
   ],
   "source": [
    "emp_space = emps.join(features).\\\n",
    "groupby('EmpId', {'all_features': agg.SUM('extracted_features')})\n",
    "\n",
    "emp_space"
   ]
  },
  {
   "cell_type": "markdown",
   "metadata": {},
   "source": [
    "Finally, we train a **kmeans** algorithm to produce a **3 centered cluster**."
   ]
  },
  {
   "cell_type": "code",
   "execution_count": 24,
   "metadata": {
    "collapsed": false
   },
   "outputs": [
    {
     "data": {
      "text/html": [
       "<pre>Batch size is larger than the input dataset. Switching to an exact Kmeans method.</pre>"
      ],
      "text/plain": [
       "Batch size is larger than the input dataset. Switching to an exact Kmeans method."
      ]
     },
     "metadata": {},
     "output_type": "display_data"
    },
    {
     "data": {
      "text/html": [
       "<pre>Choosing initial cluster centers with Kmeans++.</pre>"
      ],
      "text/plain": [
       "Choosing initial cluster centers with Kmeans++."
      ]
     },
     "metadata": {},
     "output_type": "display_data"
    },
    {
     "data": {
      "text/html": [
       "<pre>+---------------+-----------+</pre>"
      ],
      "text/plain": [
       "+---------------+-----------+"
      ]
     },
     "metadata": {},
     "output_type": "display_data"
    },
    {
     "data": {
      "text/html": [
       "<pre>| Center number | Row index |</pre>"
      ],
      "text/plain": [
       "| Center number | Row index |"
      ]
     },
     "metadata": {},
     "output_type": "display_data"
    },
    {
     "data": {
      "text/html": [
       "<pre>+---------------+-----------+</pre>"
      ],
      "text/plain": [
       "+---------------+-----------+"
      ]
     },
     "metadata": {},
     "output_type": "display_data"
    },
    {
     "data": {
      "text/html": [
       "<pre>| 0             | 47        |</pre>"
      ],
      "text/plain": [
       "| 0             | 47        |"
      ]
     },
     "metadata": {},
     "output_type": "display_data"
    },
    {
     "data": {
      "text/html": [
       "<pre>| 1             | 25        |</pre>"
      ],
      "text/plain": [
       "| 1             | 25        |"
      ]
     },
     "metadata": {},
     "output_type": "display_data"
    },
    {
     "data": {
      "text/html": [
       "<pre>| 2             | 49        |</pre>"
      ],
      "text/plain": [
       "| 2             | 49        |"
      ]
     },
     "metadata": {},
     "output_type": "display_data"
    },
    {
     "data": {
      "text/html": [
       "<pre>+---------------+-----------+</pre>"
      ],
      "text/plain": [
       "+---------------+-----------+"
      ]
     },
     "metadata": {},
     "output_type": "display_data"
    },
    {
     "data": {
      "text/html": [
       "<pre>Starting kmeans model training.</pre>"
      ],
      "text/plain": [
       "Starting kmeans model training."
      ]
     },
     "metadata": {},
     "output_type": "display_data"
    },
    {
     "data": {
      "text/html": [
       "<pre>Assigning points to initial cluster centers.</pre>"
      ],
      "text/plain": [
       "Assigning points to initial cluster centers."
      ]
     },
     "metadata": {},
     "output_type": "display_data"
    },
    {
     "data": {
      "text/html": [
       "<pre>+-----------+-------------------------------+</pre>"
      ],
      "text/plain": [
       "+-----------+-------------------------------+"
      ]
     },
     "metadata": {},
     "output_type": "display_data"
    },
    {
     "data": {
      "text/html": [
       "<pre>| Iteration | Number of changed assignments |</pre>"
      ],
      "text/plain": [
       "| Iteration | Number of changed assignments |"
      ]
     },
     "metadata": {},
     "output_type": "display_data"
    },
    {
     "data": {
      "text/html": [
       "<pre>+-----------+-------------------------------+</pre>"
      ],
      "text/plain": [
       "+-----------+-------------------------------+"
      ]
     },
     "metadata": {},
     "output_type": "display_data"
    },
    {
     "data": {
      "text/html": [
       "<pre>| 1         | 0                             |</pre>"
      ],
      "text/plain": [
       "| 1         | 0                             |"
      ]
     },
     "metadata": {},
     "output_type": "display_data"
    },
    {
     "data": {
      "text/html": [
       "<pre>+-----------+-------------------------------+</pre>"
      ],
      "text/plain": [
       "+-----------+-------------------------------+"
      ]
     },
     "metadata": {},
     "output_type": "display_data"
    }
   ],
   "source": [
    "cl_model = gl.kmeans.create(emp_space, \n",
    "                            features = ['all_features'], \n",
    "                            num_clusters=3)"
   ]
  },
  {
   "cell_type": "code",
   "execution_count": 25,
   "metadata": {
    "collapsed": false
   },
   "outputs": [
    {
     "data": {
      "text/html": [
       "<div style=\"max-height:1000px;max-width:1500px;overflow:auto;\"><table frame=\"box\" rules=\"cols\">\n",
       "    <tr>\n",
       "        <th style=\"padding-left: 1em; padding-right: 1em; text-align: center\">EmpId</th>\n",
       "        <th style=\"padding-left: 1em; padding-right: 1em; text-align: center\">all_features</th>\n",
       "        <th style=\"padding-left: 1em; padding-right: 1em; text-align: center\">cluster_id</th>\n",
       "    </tr>\n",
       "    <tr>\n",
       "        <td style=\"padding-left: 1em; padding-right: 1em; text-align: center; vertical-align: top\">49</td>\n",
       "        <td style=\"padding-left: 1em; padding-right: 1em; text-align: center; vertical-align: top\">[41.0, 53.0, 35.0, 42.0,<br>45.0, 30.0, 30.0, 31.0, ...</td>\n",
       "        <td style=\"padding-left: 1em; padding-right: 1em; text-align: center; vertical-align: top\">0</td>\n",
       "    </tr>\n",
       "    <tr>\n",
       "        <td style=\"padding-left: 1em; padding-right: 1em; text-align: center; vertical-align: top\">13</td>\n",
       "        <td style=\"padding-left: 1em; padding-right: 1em; text-align: center; vertical-align: top\">[126.0, 130.0, 95.0,<br>77.0, 91.0, 100.0, 10 ...</td>\n",
       "        <td style=\"padding-left: 1em; padding-right: 1em; text-align: center; vertical-align: top\">1</td>\n",
       "    </tr>\n",
       "    <tr>\n",
       "        <td style=\"padding-left: 1em; padding-right: 1em; text-align: center; vertical-align: top\">14</td>\n",
       "        <td style=\"padding-left: 1em; padding-right: 1em; text-align: center; vertical-align: top\">[140.0, 113.0, 107.0,<br>101.0, 116.0, 121.0, ...</td>\n",
       "        <td style=\"padding-left: 1em; padding-right: 1em; text-align: center; vertical-align: top\">1</td>\n",
       "    </tr>\n",
       "    <tr>\n",
       "        <td style=\"padding-left: 1em; padding-right: 1em; text-align: center; vertical-align: top\">48</td>\n",
       "        <td style=\"padding-left: 1em; padding-right: 1em; text-align: center; vertical-align: top\">[28.0, 34.0, 28.0, 23.0,<br>29.0, 23.0, 19.0, 23.0, ...</td>\n",
       "        <td style=\"padding-left: 1em; padding-right: 1em; text-align: center; vertical-align: top\">0</td>\n",
       "    </tr>\n",
       "    <tr>\n",
       "        <td style=\"padding-left: 1em; padding-right: 1em; text-align: center; vertical-align: top\">20</td>\n",
       "        <td style=\"padding-left: 1em; padding-right: 1em; text-align: center; vertical-align: top\">[133.0, 129.0, 123.0,<br>110.0, 109.0, 108.0, ...</td>\n",
       "        <td style=\"padding-left: 1em; padding-right: 1em; text-align: center; vertical-align: top\">1</td>\n",
       "    </tr>\n",
       "    <tr>\n",
       "        <td style=\"padding-left: 1em; padding-right: 1em; text-align: center; vertical-align: top\">12</td>\n",
       "        <td style=\"padding-left: 1em; padding-right: 1em; text-align: center; vertical-align: top\">[15.0, 19.0, 16.0, 14.0,<br>16.0, 11.0, 14.0, 13.0, ...</td>\n",
       "        <td style=\"padding-left: 1em; padding-right: 1em; text-align: center; vertical-align: top\">2</td>\n",
       "    </tr>\n",
       "    <tr>\n",
       "        <td style=\"padding-left: 1em; padding-right: 1em; text-align: center; vertical-align: top\">22</td>\n",
       "        <td style=\"padding-left: 1em; padding-right: 1em; text-align: center; vertical-align: top\">[52.0, 48.0, 37.0, 45.0,<br>46.0, 41.0, 35.0, 36.0, ...</td>\n",
       "        <td style=\"padding-left: 1em; padding-right: 1em; text-align: center; vertical-align: top\">0</td>\n",
       "    </tr>\n",
       "    <tr>\n",
       "        <td style=\"padding-left: 1em; padding-right: 1em; text-align: center; vertical-align: top\">36</td>\n",
       "        <td style=\"padding-left: 1em; padding-right: 1em; text-align: center; vertical-align: top\">[35.0, 35.0, 46.0, 38.0,<br>33.0, 30.0, 22.0, 32.0, ...</td>\n",
       "        <td style=\"padding-left: 1em; padding-right: 1em; text-align: center; vertical-align: top\">0</td>\n",
       "    </tr>\n",
       "    <tr>\n",
       "        <td style=\"padding-left: 1em; padding-right: 1em; text-align: center; vertical-align: top\">10</td>\n",
       "        <td style=\"padding-left: 1em; padding-right: 1em; text-align: center; vertical-align: top\">[38.0, 40.0, 35.0, 40.0,<br>38.0, 36.0, 36.0, 29.0, ...</td>\n",
       "        <td style=\"padding-left: 1em; padding-right: 1em; text-align: center; vertical-align: top\">0</td>\n",
       "    </tr>\n",
       "    <tr>\n",
       "        <td style=\"padding-left: 1em; padding-right: 1em; text-align: center; vertical-align: top\">29</td>\n",
       "        <td style=\"padding-left: 1em; padding-right: 1em; text-align: center; vertical-align: top\">[17.0, 10.0, 13.0, 19.0,<br>16.0, 13.0, 16.0, 19.0, ...</td>\n",
       "        <td style=\"padding-left: 1em; padding-right: 1em; text-align: center; vertical-align: top\">2</td>\n",
       "    </tr>\n",
       "</table>\n",
       "[50 rows x 3 columns]<br/>Note: Only the head of the SFrame is printed.<br/>You can use print_rows(num_rows=m, num_columns=n) to print more rows and columns.\n",
       "</div>"
      ],
      "text/plain": [
       "Columns:\n",
       "\tEmpId\tint\n",
       "\tall_features\tarray\n",
       "\tcluster_id\tint\n",
       "\n",
       "Rows: 50\n",
       "\n",
       "Data:\n",
       "+-------+-------------------------------+------------+\n",
       "| EmpId |          all_features         | cluster_id |\n",
       "+-------+-------------------------------+------------+\n",
       "|   49  | [41.0, 53.0, 35.0, 42.0, 4... |     0      |\n",
       "|   13  | [126.0, 130.0, 95.0, 77.0,... |     1      |\n",
       "|   14  | [140.0, 113.0, 107.0, 101.... |     1      |\n",
       "|   48  | [28.0, 34.0, 28.0, 23.0, 2... |     0      |\n",
       "|   20  | [133.0, 129.0, 123.0, 110.... |     1      |\n",
       "|   12  | [15.0, 19.0, 16.0, 14.0, 1... |     2      |\n",
       "|   22  | [52.0, 48.0, 37.0, 45.0, 4... |     0      |\n",
       "|   36  | [35.0, 35.0, 46.0, 38.0, 3... |     0      |\n",
       "|   10  | [38.0, 40.0, 35.0, 40.0, 3... |     0      |\n",
       "|   29  | [17.0, 10.0, 13.0, 19.0, 1... |     2      |\n",
       "+-------+-------------------------------+------------+\n",
       "[50 rows x 3 columns]\n",
       "Note: Only the head of the SFrame is printed.\n",
       "You can use print_rows(num_rows=m, num_columns=n) to print more rows and columns."
      ]
     },
     "execution_count": 25,
     "metadata": {},
     "output_type": "execute_result"
    }
   ],
   "source": [
    "emp_space['cluster_id'] = cl_model['cluster_id']['cluster_id']\n",
    "emp_space"
   ]
  },
  {
   "cell_type": "markdown",
   "metadata": {},
   "source": [
    "And we can provide a countplot of the **Number of Stores** per **Cluster Id** as below."
   ]
  },
  {
   "cell_type": "code",
   "execution_count": 26,
   "metadata": {
    "collapsed": false
   },
   "outputs": [
    {
     "data": {
      "image/png": "[encoded data removed]",
      "text/plain": [
       "<matplotlib.figure.Figure at 0x7fead2bd9c10>"
      ]
     },
     "metadata": {},
     "output_type": "display_data"
    }
   ],
   "source": [
    "%matplotlib inline\n",
    "segments_countplot(emp_space, x='cluster_id', \n",
    "                   figsize_tuple=(12,7), title='Number of Stores per Cluster ID')"
   ]
  },
  {
   "cell_type": "code",
   "execution_count": null,
   "metadata": {
    "collapsed": true
   },
   "outputs": [],
   "source": []
  }
 ],
 "metadata": {
  "kernelspec": {
   "display_name": "Python 2",
   "language": "python",
   "name": "python2"
  },
  "language_info": {
   "codemirror_mode": {
    "name": "ipython",
    "version": 2
   },
   "file_extension": ".py",
   "mimetype": "text/x-python",
   "name": "python",
   "nbconvert_exporter": "python",
   "pygments_lexer": "ipython2",
   "version": "2.7.11"
  }
 },
 "nbformat": 4,
 "nbformat_minor": 0
}
