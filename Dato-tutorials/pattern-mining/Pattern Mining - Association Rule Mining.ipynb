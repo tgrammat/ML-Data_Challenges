{
 "cells": [
  {
   "cell_type": "markdown",
   "metadata": {},
   "source": [
    "# Pattern Mining - Association Rule Mining\n",
    "\n",
    "A *frequent pattern* is a substructure that appears frequently in a dataset. Finding the frequent patterns of a dataset is a essential step in data mining tasks such as *feature extraction* and a necessary ingredient of *association rule learning*. This kind of algorithms are extremely useful in the field of *Market Basket Analysis*, which in turn provide retailers with invaluable information about their customer shopping habbits and needs. \n",
    "\n",
    "Here, I will shortly describe the *GLC frequent pattern mining toolkit*, the tools it provides and its functionality. Major advantage of this high-level ML toolkit is the ease it provides to train an association rule mining algorithm, as well as the high interpretability of the returned results. Under the hood the GLG frequent pattern mining toolkit runs a *[TFP-Growth algorithm](https://www.computer.org/csdl/trans/tk/2005/05/k0652-abs.html)*, introduced by Wang, Jianyong, et al. in 2005. For a recent review of the various directions in the field consult *[Han, Jiawei, et al. \"Frequent pattern mining: current status and future directions.\", Data Mining and Knowledge Discovery 15.1 (2007): 55-86](http://link.springer.com/article/10.1007%2Fs10618-006-0059-1)*."
   ]
  },
  {
   "cell_type": "markdown",
   "metadata": {},
   "source": [
    "## Fire up GraphLab Create"
   ]
  },
  {
   "cell_type": "code",
   "execution_count": 1,
   "metadata": {
    "collapsed": false
   },
   "outputs": [],
   "source": [
    "import graphlab as gl\n",
    "from graphlab import aggregate as agg"
   ]
  },
  {
   "cell_type": "markdown",
   "metadata": {},
   "source": [
    "## A simple retailer example\n",
    "\n",
    "Here we discuss a simple example of receipt data from a bakery. The dataset consists of items like `'ApplePie'` and `'GanacheCookie'`. The task is to identify sets of items that are frequently bought together. The dataset consists of *266209 rows* and *6 columns* which look like the following. The dataset was constructed by modifying the *[Extended BAKERY dataset](https://wiki.csc.calpoly.edu/datasets/wiki/ExtendedBakery)*."
   ]
  },
  {
   "cell_type": "code",
   "execution_count": 2,
   "metadata": {
    "collapsed": false
   },
   "outputs": [
    {
     "name": "stderr",
     "output_type": "stream",
     "text": [
      "2016-05-09 01:13:58,787 [INFO] graphlab.cython.cy_server, 176: GraphLab Create v1.9 started. Logging: /tmp/graphlab_server_1462745636.log\n"
     ]
    },
    {
     "name": "stdout",
     "output_type": "stream",
     "text": [
      "This non-commercial license of GraphLab Create is assigned to tgrammat@gmail.com and will expire on September 21, 2016. For commercial licensing options, visit https://dato.com/buy/.\n"
     ]
    },
    {
     "data": {
      "text/html": [
       "<div style=\"max-height:1000px;max-width:1500px;overflow:auto;\"><table frame=\"box\" rules=\"cols\">\n",
       "    <tr>\n",
       "        <th style=\"padding-left: 1em; padding-right: 1em; text-align: center\">Receipt</th>\n",
       "        <th style=\"padding-left: 1em; padding-right: 1em; text-align: center\">SaleDate</th>\n",
       "        <th style=\"padding-left: 1em; padding-right: 1em; text-align: center\">EmpId</th>\n",
       "        <th style=\"padding-left: 1em; padding-right: 1em; text-align: center\">StoreNum</th>\n",
       "        <th style=\"padding-left: 1em; padding-right: 1em; text-align: center\">Quantity</th>\n",
       "        <th style=\"padding-left: 1em; padding-right: 1em; text-align: center\">Item</th>\n",
       "    </tr>\n",
       "    <tr>\n",
       "        <td style=\"padding-left: 1em; padding-right: 1em; text-align: center; vertical-align: top\">1</td>\n",
       "        <td style=\"padding-left: 1em; padding-right: 1em; text-align: center; vertical-align: top\">12-JAN-2000</td>\n",
       "        <td style=\"padding-left: 1em; padding-right: 1em; text-align: center; vertical-align: top\">20</td>\n",
       "        <td style=\"padding-left: 1em; padding-right: 1em; text-align: center; vertical-align: top\">20</td>\n",
       "        <td style=\"padding-left: 1em; padding-right: 1em; text-align: center; vertical-align: top\">1</td>\n",
       "        <td style=\"padding-left: 1em; padding-right: 1em; text-align: center; vertical-align: top\">GanacheCookie</td>\n",
       "    </tr>\n",
       "    <tr>\n",
       "        <td style=\"padding-left: 1em; padding-right: 1em; text-align: center; vertical-align: top\">1</td>\n",
       "        <td style=\"padding-left: 1em; padding-right: 1em; text-align: center; vertical-align: top\">12-JAN-2000</td>\n",
       "        <td style=\"padding-left: 1em; padding-right: 1em; text-align: center; vertical-align: top\">20</td>\n",
       "        <td style=\"padding-left: 1em; padding-right: 1em; text-align: center; vertical-align: top\">20</td>\n",
       "        <td style=\"padding-left: 1em; padding-right: 1em; text-align: center; vertical-align: top\">5</td>\n",
       "        <td style=\"padding-left: 1em; padding-right: 1em; text-align: center; vertical-align: top\">ApplePie</td>\n",
       "    </tr>\n",
       "    <tr>\n",
       "        <td style=\"padding-left: 1em; padding-right: 1em; text-align: center; vertical-align: top\">2</td>\n",
       "        <td style=\"padding-left: 1em; padding-right: 1em; text-align: center; vertical-align: top\">15-JAN-2000</td>\n",
       "        <td style=\"padding-left: 1em; padding-right: 1em; text-align: center; vertical-align: top\">35</td>\n",
       "        <td style=\"padding-left: 1em; padding-right: 1em; text-align: center; vertical-align: top\">10</td>\n",
       "        <td style=\"padding-left: 1em; padding-right: 1em; text-align: center; vertical-align: top\">1</td>\n",
       "        <td style=\"padding-left: 1em; padding-right: 1em; text-align: center; vertical-align: top\">CoffeeEclair</td>\n",
       "    </tr>\n",
       "    <tr>\n",
       "        <td style=\"padding-left: 1em; padding-right: 1em; text-align: center; vertical-align: top\">2</td>\n",
       "        <td style=\"padding-left: 1em; padding-right: 1em; text-align: center; vertical-align: top\">15-JAN-2000</td>\n",
       "        <td style=\"padding-left: 1em; padding-right: 1em; text-align: center; vertical-align: top\">35</td>\n",
       "        <td style=\"padding-left: 1em; padding-right: 1em; text-align: center; vertical-align: top\">10</td>\n",
       "        <td style=\"padding-left: 1em; padding-right: 1em; text-align: center; vertical-align: top\">3</td>\n",
       "        <td style=\"padding-left: 1em; padding-right: 1em; text-align: center; vertical-align: top\">ApplePie</td>\n",
       "    </tr>\n",
       "    <tr>\n",
       "        <td style=\"padding-left: 1em; padding-right: 1em; text-align: center; vertical-align: top\">2</td>\n",
       "        <td style=\"padding-left: 1em; padding-right: 1em; text-align: center; vertical-align: top\">15-JAN-2000</td>\n",
       "        <td style=\"padding-left: 1em; padding-right: 1em; text-align: center; vertical-align: top\">35</td>\n",
       "        <td style=\"padding-left: 1em; padding-right: 1em; text-align: center; vertical-align: top\">10</td>\n",
       "        <td style=\"padding-left: 1em; padding-right: 1em; text-align: center; vertical-align: top\">4</td>\n",
       "        <td style=\"padding-left: 1em; padding-right: 1em; text-align: center; vertical-align: top\">AlmondTwist</td>\n",
       "    </tr>\n",
       "    <tr>\n",
       "        <td style=\"padding-left: 1em; padding-right: 1em; text-align: center; vertical-align: top\">2</td>\n",
       "        <td style=\"padding-left: 1em; padding-right: 1em; text-align: center; vertical-align: top\">15-JAN-2000</td>\n",
       "        <td style=\"padding-left: 1em; padding-right: 1em; text-align: center; vertical-align: top\">35</td>\n",
       "        <td style=\"padding-left: 1em; padding-right: 1em; text-align: center; vertical-align: top\">10</td>\n",
       "        <td style=\"padding-left: 1em; padding-right: 1em; text-align: center; vertical-align: top\">3</td>\n",
       "        <td style=\"padding-left: 1em; padding-right: 1em; text-align: center; vertical-align: top\">HotCoffee</td>\n",
       "    </tr>\n",
       "    <tr>\n",
       "        <td style=\"padding-left: 1em; padding-right: 1em; text-align: center; vertical-align: top\">3</td>\n",
       "        <td style=\"padding-left: 1em; padding-right: 1em; text-align: center; vertical-align: top\">8-JAN-2000</td>\n",
       "        <td style=\"padding-left: 1em; padding-right: 1em; text-align: center; vertical-align: top\">13</td>\n",
       "        <td style=\"padding-left: 1em; padding-right: 1em; text-align: center; vertical-align: top\">13</td>\n",
       "        <td style=\"padding-left: 1em; padding-right: 1em; text-align: center; vertical-align: top\">5</td>\n",
       "        <td style=\"padding-left: 1em; padding-right: 1em; text-align: center; vertical-align: top\">OperaCake</td>\n",
       "    </tr>\n",
       "    <tr>\n",
       "        <td style=\"padding-left: 1em; padding-right: 1em; text-align: center; vertical-align: top\">3</td>\n",
       "        <td style=\"padding-left: 1em; padding-right: 1em; text-align: center; vertical-align: top\">8-JAN-2000</td>\n",
       "        <td style=\"padding-left: 1em; padding-right: 1em; text-align: center; vertical-align: top\">13</td>\n",
       "        <td style=\"padding-left: 1em; padding-right: 1em; text-align: center; vertical-align: top\">13</td>\n",
       "        <td style=\"padding-left: 1em; padding-right: 1em; text-align: center; vertical-align: top\">3</td>\n",
       "        <td style=\"padding-left: 1em; padding-right: 1em; text-align: center; vertical-align: top\">OrangeJuice</td>\n",
       "    </tr>\n",
       "    <tr>\n",
       "        <td style=\"padding-left: 1em; padding-right: 1em; text-align: center; vertical-align: top\">3</td>\n",
       "        <td style=\"padding-left: 1em; padding-right: 1em; text-align: center; vertical-align: top\">8-JAN-2000</td>\n",
       "        <td style=\"padding-left: 1em; padding-right: 1em; text-align: center; vertical-align: top\">13</td>\n",
       "        <td style=\"padding-left: 1em; padding-right: 1em; text-align: center; vertical-align: top\">13</td>\n",
       "        <td style=\"padding-left: 1em; padding-right: 1em; text-align: center; vertical-align: top\">3</td>\n",
       "        <td style=\"padding-left: 1em; padding-right: 1em; text-align: center; vertical-align: top\">CheeseCroissant</td>\n",
       "    </tr>\n",
       "    <tr>\n",
       "        <td style=\"padding-left: 1em; padding-right: 1em; text-align: center; vertical-align: top\">4</td>\n",
       "        <td style=\"padding-left: 1em; padding-right: 1em; text-align: center; vertical-align: top\">24-JAN-2000</td>\n",
       "        <td style=\"padding-left: 1em; padding-right: 1em; text-align: center; vertical-align: top\">16</td>\n",
       "        <td style=\"padding-left: 1em; padding-right: 1em; text-align: center; vertical-align: top\">16</td>\n",
       "        <td style=\"padding-left: 1em; padding-right: 1em; text-align: center; vertical-align: top\">1</td>\n",
       "        <td style=\"padding-left: 1em; padding-right: 1em; text-align: center; vertical-align: top\">TruffleCake</td>\n",
       "    </tr>\n",
       "</table>\n",
       "[266209 rows x 6 columns]<br/>Note: Only the head of the SFrame is printed.<br/>You can use print_rows(num_rows=m, num_columns=n) to print more rows and columns.\n",
       "</div>"
      ],
      "text/plain": [
       "Columns:\n",
       "\tReceipt\tint\n",
       "\tSaleDate\tstr\n",
       "\tEmpId\tint\n",
       "\tStoreNum\tint\n",
       "\tQuantity\tint\n",
       "\tItem\tstr\n",
       "\n",
       "Rows: 266209\n",
       "\n",
       "Data:\n",
       "+---------+-------------+-------+----------+----------+-----------------+\n",
       "| Receipt |   SaleDate  | EmpId | StoreNum | Quantity |       Item      |\n",
       "+---------+-------------+-------+----------+----------+-----------------+\n",
       "|    1    | 12-JAN-2000 |   20  |    20    |    1     |  GanacheCookie  |\n",
       "|    1    | 12-JAN-2000 |   20  |    20    |    5     |     ApplePie    |\n",
       "|    2    | 15-JAN-2000 |   35  |    10    |    1     |   CoffeeEclair  |\n",
       "|    2    | 15-JAN-2000 |   35  |    10    |    3     |     ApplePie    |\n",
       "|    2    | 15-JAN-2000 |   35  |    10    |    4     |   AlmondTwist   |\n",
       "|    2    | 15-JAN-2000 |   35  |    10    |    3     |    HotCoffee    |\n",
       "|    3    |  8-JAN-2000 |   13  |    13    |    5     |    OperaCake    |\n",
       "|    3    |  8-JAN-2000 |   13  |    13    |    3     |   OrangeJuice   |\n",
       "|    3    |  8-JAN-2000 |   13  |    13    |    3     | CheeseCroissant |\n",
       "|    4    | 24-JAN-2000 |   16  |    16    |    1     |   TruffleCake   |\n",
       "+---------+-------------+-------+----------+----------+-----------------+\n",
       "[266209 rows x 6 columns]\n",
       "Note: Only the head of the SFrame is printed.\n",
       "You can use print_rows(num_rows=m, num_columns=n) to print more rows and columns."
      ]
     },
     "execution_count": 2,
     "metadata": {},
     "output_type": "execute_result"
    }
   ],
   "source": [
    "bakery_sf = gl.SFrame('./bakery_sf')\n",
    "bakery_sf"
   ]
  },
  {
   "cell_type": "markdown",
   "metadata": {},
   "source": [
    "As we can see below, all the coffee products have similar sale frequencies and there is no some particular subset of products that is more preferred than the remaining ones."
   ]
  },
  {
   "cell_type": "code",
   "execution_count": 3,
   "metadata": {
    "collapsed": false
   },
   "outputs": [
    {
     "data": {
      "application/javascript": [
       "$(\"head\").append($(\"<link/>\").attr({\n",
       "  rel:  \"stylesheet\",\n",
       "  type: \"text/css\",\n",
       "  href: \"//cdnjs.cloudflare.com/ajax/libs/font-awesome/4.1.0/css/font-awesome.min.css\"\n",
       "}));\n",
       "$(\"head\").append($(\"<link/>\").attr({\n",
       "  rel:  \"stylesheet\",\n",
       "  type: \"text/css\",\n",
       "  href: \"//dato.com/files/canvas/1.9/css/canvas.css\"\n",
       "}));\n",
       "\n",
       "            (function(){\n",
       "\n",
       "                var e = null;\n",
       "                if (typeof element == 'undefined') {\n",
       "                    var scripts = document.getElementsByTagName('script');\n",
       "                    var thisScriptTag = scripts[scripts.length-1];\n",
       "                    var parentDiv = thisScriptTag.parentNode;\n",
       "                    e = document.createElement('div');\n",
       "                    parentDiv.appendChild(e);\n",
       "                } else {\n",
       "                    e = element[0];\n",
       "                }\n",
       "\n",
       "                if (typeof requirejs !== 'undefined') {\n",
       "                    // disable load timeout; ipython_app.js is large and can take a while to load.\n",
       "                    requirejs.config({waitSeconds: 0});\n",
       "                }\n",
       "\n",
       "                require(['//dato.com/files/canvas/1.9/js/ipython_app.js'], function(IPythonApp){\n",
       "                    var app = new IPythonApp();\n",
       "                    app.attachView('sarray','Categorical', {\"ipython\": true, \"sketch\": {\"complete\": true, \"numeric\": false, \"num_unique\": 50, \"num_undefined\": 0, \"progress\": 1.0, \"frequent_items\": {\"BerryTart\": {\"frequency\": 6362, \"value\": \"BerryTart\"}, \"LemonCookie\": {\"frequency\": 5101, \"value\": \"LemonCookie\"}, \"CheeseCroissant\": {\"frequency\": 6166, \"value\": \"CheeseCroissant\"}, \"OperaCake\": {\"frequency\": 6157, \"value\": \"OperaCake\"}, \"VanillaEclair\": {\"frequency\": 3189, \"value\": \"VanillaEclair\"}, \"TuileCookie\": {\"frequency\": 7556, \"value\": \"TuileCookie\"}, \"RaspberryCookie\": {\"frequency\": 5073, \"value\": \"RaspberryCookie\"}, \"ApricotCroissant\": {\"frequency\": 6299, \"value\": \"ApricotCroissant\"}, \"AlmondTart\": {\"frequency\": 3153, \"value\": \"AlmondTart\"}, \"BlueberryTart\": {\"frequency\": 6221, \"value\": \"BlueberryTart\"}, \"CoffeeEclair\": {\"frequency\": 8193, \"value\": \"CoffeeEclair\"}, \"ChocolateEclair\": {\"frequency\": 3178, \"value\": \"ChocolateEclair\"}, \"ChocolateTart\": {\"frequency\": 5529, \"value\": \"ChocolateTart\"}, \"GongolaisCookie\": {\"frequency\": 6783, \"value\": \"GongolaisCookie\"}, \"ApplePie\": {\"frequency\": 5784, \"value\": \"ApplePie\"}, \"SingleEspresso\": {\"frequency\": 5098, \"value\": \"SingleEspresso\"}, \"AppleTart\": {\"frequency\": 5117, \"value\": \"AppleTart\"}, \"LemonLemonade\": {\"frequency\": 5118, \"value\": \"LemonLemonade\"}, \"ApricotDanish\": {\"frequency\": 6943, \"value\": \"ApricotDanish\"}, \"CherryTart\": {\"frequency\": 6987, \"value\": \"CherryTart\"}, \"AlmondBear Claw\": {\"frequency\": 3183, \"value\": \"AlmondBear Claw\"}, \"VanillaMeringue\": {\"frequency\": 3179, \"value\": \"VanillaMeringue\"}, \"MarzipanCookie\": {\"frequency\": 6733, \"value\": \"MarzipanCookie\"}, \"CasinoCake\": {\"frequency\": 5626, \"value\": \"CasinoCake\"}, \"AppleDanish\": {\"frequency\": 5077, \"value\": \"AppleDanish\"}, \"AlmondTwist\": {\"frequency\": 5790, \"value\": \"AlmondTwist\"}, \"PecanTart\": {\"frequency\": 3253, \"value\": \"PecanTart\"}, \"GanacheCookie\": {\"frequency\": 3243, \"value\": \"GanacheCookie\"}, \"VanillaFrappuccino\": {\"frequency\": 5810, \"value\": \"VanillaFrappuccino\"}, \"RaspberryLemonade\": {\"frequency\": 5081, \"value\": \"RaspberryLemonade\"}, \"ChocolateCoffee\": {\"frequency\": 6236, \"value\": \"ChocolateCoffee\"}, \"ApricotTart\": {\"frequency\": 3177, \"value\": \"ApricotTart\"}, \"GreenTea\": {\"frequency\": 4685, \"value\": \"GreenTea\"}, \"OrangeJuice\": {\"frequency\": 6871, \"value\": \"OrangeJuice\"}, \"ChocolateCake\": {\"frequency\": 6265, \"value\": \"ChocolateCake\"}, \"StrawberryCake\": {\"frequency\": 6948, \"value\": \"StrawberryCake\"}, \"TruffleCake\": {\"frequency\": 6168, \"value\": \"TruffleCake\"}, \"NapoleonCake\": {\"frequency\": 6206, \"value\": \"NapoleonCake\"}, \"LemonTart\": {\"frequency\": 5685, \"value\": \"LemonTart\"}, \"HotCoffee\": {\"frequency\": 7700, \"value\": \"HotCoffee\"}, \"AppleCroissant\": {\"frequency\": 5047, \"value\": \"AppleCroissant\"}, \"BlackberryTart\": {\"frequency\": 5690, \"value\": \"BlackberryTart\"}, \"ChocolateMeringue\": {\"frequency\": 3145, \"value\": \"ChocolateMeringue\"}, \"LemonCake\": {\"frequency\": 6271, \"value\": \"LemonCake\"}, \"BottledWater\": {\"frequency\": 5640, \"value\": \"BottledWater\"}, \"ChocolateCroissant\": {\"frequency\": 3243, \"value\": \"ChocolateCroissant\"}, \"BlueberryDanish\": {\"frequency\": 3307, \"value\": \"BlueberryDanish\"}, \"WalnutCookie\": {\"frequency\": 5089, \"value\": \"WalnutCookie\"}, \"AlmondCroissant\": {\"frequency\": 3205, \"value\": \"AlmondCroissant\"}, \"CherrySoda\": {\"frequency\": 4649, \"value\": \"CherrySoda\"}}, \"size\": 266209}, \"selected_variable\": {\"name\": [\"<SArray>\"], \"dtype\": \"str\", \"view_component\": \"Categorical\", \"view_file\": \"sarray\", \"descriptives\": {\"rows\": 266209}, \"type\": \"SArray\", \"view_components\": [\"Categorical\"]}, \"histogram\": null}, e);\n",
       "                });\n",
       "            })();\n",
       "        "
      ]
     },
     "metadata": {},
     "output_type": "display_data"
    }
   ],
   "source": [
    "gl.canvas.set_target('ipynb')\n",
    "bakery_sf['Item'].show()"
   ]
  },
  {
   "cell_type": "markdown",
   "metadata": {},
   "source": [
    "Next, we split the **`bakery_sf`** data set in a **training** and a **test part**."
   ]
  },
  {
   "cell_type": "code",
   "execution_count": 4,
   "metadata": {
    "collapsed": true
   },
   "outputs": [],
   "source": [
    "(train, test) = bakery_sf.random_split(0.8, seed=1)"
   ]
  },
  {
   "cell_type": "code",
   "execution_count": 5,
   "metadata": {
    "collapsed": false
   },
   "outputs": [
    {
     "name": "stdout",
     "output_type": "stream",
     "text": [
      "Number of Rows in training set [80pct of Known Examples]: 212930\n",
      "Number of Rows in test set [20pct of Known Examples]: 53279\n"
     ]
    }
   ],
   "source": [
    "print 'Number of Rows in training set [80pct of Known Examples]: %d'   % train.num_rows()\n",
    "print 'Number of Rows in test set [20pct of Known Examples]: %d'   % test.num_rows()"
   ]
  },
  {
   "cell_type": "markdown",
   "metadata": {},
   "source": [
    "In order to run a frequent pattern mining algorithm, we require an **item column**, (the column **`'Item'`** in this example), and a set of **feature columns** that *uniquely identify* a transaction (the columns **`['Receipt', 'StoreNum']`** in this example, since we need to take in account the geophraphical location of each store and the accompanied social-economic criteria that may exist).\n",
    "\n",
    "In addition we need to specify the 3 basic parameters of the **FP-Growth algorithm** which is called by the high-level GraphLab Create (GLC) function. These are:\n",
    "\n",
    "* **`min_support`:** The minimum number of times that a pattern must occur in order to be considered a *frequent* one. Here, we choose a threshold of 1&permil; of total transactions in record to be the `min_support`.\n",
    "* **`max_patterns`:** The maximum number of frequent patterns to be mined.\n",
    "* **`min_length`:** The minimum size (number of elements in the set) of each pattern being mined."
   ]
  },
  {
   "cell_type": "code",
   "execution_count": 6,
   "metadata": {
    "collapsed": false
   },
   "outputs": [
    {
     "data": {
      "text/html": [
       "<pre>Indexing complete. Found 50 unique items.</pre>"
      ],
      "text/plain": [
       "Indexing complete. Found 50 unique items."
      ]
     },
     "metadata": {},
     "output_type": "display_data"
    },
    {
     "data": {
      "text/html": [
       "<pre>Preprocessing complete. Found 73566 unique transactions.</pre>"
      ],
      "text/plain": [
       "Preprocessing complete. Found 73566 unique transactions."
      ]
     },
     "metadata": {},
     "output_type": "display_data"
    },
    {
     "data": {
      "text/html": [
       "<pre>Building frequent pattern tree.</pre>"
      ],
      "text/plain": [
       "Building frequent pattern tree."
      ]
     },
     "metadata": {},
     "output_type": "display_data"
    },
    {
     "data": {
      "text/html": [
       "<pre>+-----------+----------------+------------+----------------------+------------------+</pre>"
      ],
      "text/plain": [
       "+-----------+----------------+------------+----------------------+------------------+"
      ]
     },
     "metadata": {},
     "output_type": "display_data"
    },
    {
     "data": {
      "text/html": [
       "<pre>| Iteration | Num. Patterns  | Support    | Current Min Support  | Elapsed Time     |</pre>"
      ],
      "text/plain": [
       "| Iteration | Num. Patterns  | Support    | Current Min Support  | Elapsed Time     |"
      ]
     },
     "metadata": {},
     "output_type": "display_data"
    },
    {
     "data": {
      "text/html": [
       "<pre>+-----------+----------------+------------+----------------------+------------------+</pre>"
      ],
      "text/plain": [
       "+-----------+----------------+------------+----------------------+------------------+"
      ]
     },
     "metadata": {},
     "output_type": "display_data"
    },
    {
     "data": {
      "text/html": [
       "<pre>| 0         | 0              | 6550       | 212                  | 153us            |</pre>"
      ],
      "text/plain": [
       "| 0         | 0              | 6550       | 212                  | 153us            |"
      ]
     },
     "metadata": {},
     "output_type": "display_data"
    },
    {
     "data": {
      "text/html": [
       "<pre>| 1         | 0              | 6167       | 212                  | 216us            |</pre>"
      ],
      "text/plain": [
       "| 1         | 0              | 6167       | 212                  | 216us            |"
      ]
     },
     "metadata": {},
     "output_type": "display_data"
    },
    {
     "data": {
      "text/html": [
       "<pre>| 2         | 0              | 6050       | 212                  | 258us            |</pre>"
      ],
      "text/plain": [
       "| 2         | 0              | 6050       | 212                  | 258us            |"
      ]
     },
     "metadata": {},
     "output_type": "display_data"
    },
    {
     "data": {
      "text/html": [
       "<pre>| 3         | 0              | 5587       | 212                  | 304us            |</pre>"
      ],
      "text/plain": [
       "| 3         | 0              | 5587       | 212                  | 304us            |"
      ]
     },
     "metadata": {},
     "output_type": "display_data"
    },
    {
     "data": {
      "text/html": [
       "<pre>| 4         | 0              | 5563       | 212                  | 352us            |</pre>"
      ],
      "text/plain": [
       "| 4         | 0              | 5563       | 212                  | 352us            |"
      ]
     },
     "metadata": {},
     "output_type": "display_data"
    },
    {
     "data": {
      "text/html": [
       "<pre>| 5         | 0              | 5548       | 212                  | 426us            |</pre>"
      ],
      "text/plain": [
       "| 5         | 0              | 5548       | 212                  | 426us            |"
      ]
     },
     "metadata": {},
     "output_type": "display_data"
    },
    {
     "data": {
      "text/html": [
       "<pre>| 6         | 0              | 5495       | 212                  | 520us            |</pre>"
      ],
      "text/plain": [
       "| 6         | 0              | 5495       | 212                  | 520us            |"
      ]
     },
     "metadata": {},
     "output_type": "display_data"
    },
    {
     "data": {
      "text/html": [
       "<pre>| 7         | 0              | 5438       | 212                  | 625us            |</pre>"
      ],
      "text/plain": [
       "| 7         | 0              | 5438       | 212                  | 625us            |"
      ]
     },
     "metadata": {},
     "output_type": "display_data"
    },
    {
     "data": {
      "text/html": [
       "<pre>| 8         | 0              | 5376       | 212                  | 774us            |</pre>"
      ],
      "text/plain": [
       "| 8         | 0              | 5376       | 212                  | 774us            |"
      ]
     },
     "metadata": {},
     "output_type": "display_data"
    },
    {
     "data": {
      "text/html": [
       "<pre>| 9         | 0              | 5088       | 212                  | 983us            |</pre>"
      ],
      "text/plain": [
       "| 9         | 0              | 5088       | 212                  | 983us            |"
      ]
     },
     "metadata": {},
     "output_type": "display_data"
    },
    {
     "data": {
      "text/html": [
       "<pre>| 10        | 0              | 5071       | 212                  | 1.152ms          |</pre>"
      ],
      "text/plain": [
       "| 10        | 0              | 5071       | 212                  | 1.152ms          |"
      ]
     },
     "metadata": {},
     "output_type": "display_data"
    },
    {
     "data": {
      "text/html": [
       "<pre>| 11        | 0              | 5040       | 212                  | 1.378ms          |</pre>"
      ],
      "text/plain": [
       "| 11        | 0              | 5040       | 212                  | 1.378ms          |"
      ]
     },
     "metadata": {},
     "output_type": "display_data"
    },
    {
     "data": {
      "text/html": [
       "<pre>| 12        | 0              | 4994       | 212                  | 1.775ms          |</pre>"
      ],
      "text/plain": [
       "| 12        | 0              | 4994       | 212                  | 1.775ms          |"
      ]
     },
     "metadata": {},
     "output_type": "display_data"
    },
    {
     "data": {
      "text/html": [
       "<pre>| 13        | 0              | 4981       | 212                  | 2.033ms          |</pre>"
      ],
      "text/plain": [
       "| 13        | 0              | 4981       | 212                  | 2.033ms          |"
      ]
     },
     "metadata": {},
     "output_type": "display_data"
    },
    {
     "data": {
      "text/html": [
       "<pre>| 14        | 0              | 4949       | 212                  | 2.323ms          |</pre>"
      ],
      "text/plain": [
       "| 14        | 0              | 4949       | 212                  | 2.323ms          |"
      ]
     },
     "metadata": {},
     "output_type": "display_data"
    },
    {
     "data": {
      "text/html": [
       "<pre>| 15        | 0              | 4948       | 212                  | 2.688ms          |</pre>"
      ],
      "text/plain": [
       "| 15        | 0              | 4948       | 212                  | 2.688ms          |"
      ]
     },
     "metadata": {},
     "output_type": "display_data"
    },
    {
     "data": {
      "text/html": [
       "<pre>| 16        | 0              | 4932       | 212                  | 3.178ms          |</pre>"
      ],
      "text/plain": [
       "| 16        | 0              | 4932       | 212                  | 3.178ms          |"
      ]
     },
     "metadata": {},
     "output_type": "display_data"
    },
    {
     "data": {
      "text/html": [
       "<pre>| 17        | 0              | 4914       | 212                  | 7.875ms          |</pre>"
      ],
      "text/plain": [
       "| 17        | 0              | 4914       | 212                  | 7.875ms          |"
      ]
     },
     "metadata": {},
     "output_type": "display_data"
    },
    {
     "data": {
      "text/html": [
       "<pre>| 18        | 0              | 4913       | 212                  | 8.852ms          |</pre>"
      ],
      "text/plain": [
       "| 18        | 0              | 4913       | 212                  | 8.852ms          |"
      ]
     },
     "metadata": {},
     "output_type": "display_data"
    },
    {
     "data": {
      "text/html": [
       "<pre>| 19        | 0              | 4690       | 212                  | 9.647ms          |</pre>"
      ],
      "text/plain": [
       "| 19        | 0              | 4690       | 212                  | 9.647ms          |"
      ]
     },
     "metadata": {},
     "output_type": "display_data"
    },
    {
     "data": {
      "text/html": [
       "<pre>| 20        | 0              | 4681       | 212                  | 10.335ms         |</pre>"
      ],
      "text/plain": [
       "| 20        | 0              | 4681       | 212                  | 10.335ms         |"
      ]
     },
     "metadata": {},
     "output_type": "display_data"
    },
    {
     "data": {
      "text/html": [
       "<pre>| 21        | 0              | 4613       | 212                  | 11.093ms         |</pre>"
      ],
      "text/plain": [
       "| 21        | 0              | 4613       | 212                  | 11.093ms         |"
      ]
     },
     "metadata": {},
     "output_type": "display_data"
    },
    {
     "data": {
      "text/html": [
       "<pre>| 22        | 0              | 4592       | 212                  | 15.207ms         |</pre>"
      ],
      "text/plain": [
       "| 22        | 0              | 4592       | 212                  | 15.207ms         |"
      ]
     },
     "metadata": {},
     "output_type": "display_data"
    },
    {
     "data": {
      "text/html": [
       "<pre>| 23        | 1              | 4568       | 212                  | 18.231ms         |</pre>"
      ],
      "text/plain": [
       "| 23        | 1              | 4568       | 212                  | 18.231ms         |"
      ]
     },
     "metadata": {},
     "output_type": "display_data"
    },
    {
     "data": {
      "text/html": [
       "<pre>| 24        | 1              | 4506       | 212                  | 20.094ms         |</pre>"
      ],
      "text/plain": [
       "| 24        | 1              | 4506       | 212                  | 20.094ms         |"
      ]
     },
     "metadata": {},
     "output_type": "display_data"
    },
    {
     "data": {
      "text/html": [
       "<pre>| 25        | 1              | 4496       | 212                  | 21.479ms         |</pre>"
      ],
      "text/plain": [
       "| 25        | 1              | 4496       | 212                  | 21.479ms         |"
      ]
     },
     "metadata": {},
     "output_type": "display_data"
    },
    {
     "data": {
      "text/html": [
       "<pre>| 26        | 1              | 4398       | 212                  | 22.568ms         |</pre>"
      ],
      "text/plain": [
       "| 26        | 1              | 4398       | 212                  | 22.568ms         |"
      ]
     },
     "metadata": {},
     "output_type": "display_data"
    },
    {
     "data": {
      "text/html": [
       "<pre>| 27        | 1              | 4122       | 212                  | 26.167ms         |</pre>"
      ],
      "text/plain": [
       "| 27        | 1              | 4122       | 212                  | 26.167ms         |"
      ]
     },
     "metadata": {},
     "output_type": "display_data"
    },
    {
     "data": {
      "text/html": [
       "<pre>| 28        | 1              | 4101       | 212                  | 27.718ms         |</pre>"
      ],
      "text/plain": [
       "| 28        | 1              | 4101       | 212                  | 27.718ms         |"
      ]
     },
     "metadata": {},
     "output_type": "display_data"
    },
    {
     "data": {
      "text/html": [
       "<pre>| 29        | 1              | 4074       | 212                  | 28.808ms         |</pre>"
      ],
      "text/plain": [
       "| 29        | 1              | 4074       | 212                  | 28.808ms         |"
      ]
     },
     "metadata": {},
     "output_type": "display_data"
    },
    {
     "data": {
      "text/html": [
       "<pre>| 30        | 1              | 4071       | 212                  | 29.861ms         |</pre>"
      ],
      "text/plain": [
       "| 30        | 1              | 4071       | 212                  | 29.861ms         |"
      ]
     },
     "metadata": {},
     "output_type": "display_data"
    },
    {
     "data": {
      "text/html": [
       "<pre>| 31        | 1              | 4057       | 212                  | 30.824ms         |</pre>"
      ],
      "text/plain": [
       "| 31        | 1              | 4057       | 212                  | 30.824ms         |"
      ]
     },
     "metadata": {},
     "output_type": "display_data"
    },
    {
     "data": {
      "text/html": [
       "<pre>| 32        | 1              | 4056       | 212                  | 31.828ms         |</pre>"
      ],
      "text/plain": [
       "| 32        | 1              | 4056       | 212                  | 31.828ms         |"
      ]
     },
     "metadata": {},
     "output_type": "display_data"
    },
    {
     "data": {
      "text/html": [
       "<pre>| 33        | 1              | 4055       | 212                  | 33.113ms         |</pre>"
      ],
      "text/plain": [
       "| 33        | 1              | 4055       | 212                  | 33.113ms         |"
      ]
     },
     "metadata": {},
     "output_type": "display_data"
    },
    {
     "data": {
      "text/html": [
       "<pre>| 34        | 1              | 4042       | 212                  | 38.03ms          |</pre>"
      ],
      "text/plain": [
       "| 34        | 1              | 4042       | 212                  | 38.03ms          |"
      ]
     },
     "metadata": {},
     "output_type": "display_data"
    },
    {
     "data": {
      "text/html": [
       "<pre>| 35        | 2              | 4014       | 212                  | 40.764ms         |</pre>"
      ],
      "text/plain": [
       "| 35        | 2              | 4014       | 212                  | 40.764ms         |"
      ]
     },
     "metadata": {},
     "output_type": "display_data"
    },
    {
     "data": {
      "text/html": [
       "<pre>| 36        | 2              | 3711       | 212                  | 42.374ms         |</pre>"
      ],
      "text/plain": [
       "| 36        | 2              | 3711       | 212                  | 42.374ms         |"
      ]
     },
     "metadata": {},
     "output_type": "display_data"
    },
    {
     "data": {
      "text/html": [
       "<pre>| 37        | 3              | 3707       | 212                  | 43.949ms         |</pre>"
      ],
      "text/plain": [
       "| 37        | 3              | 3707       | 212                  | 43.949ms         |"
      ]
     },
     "metadata": {},
     "output_type": "display_data"
    },
    {
     "data": {
      "text/html": [
       "<pre>| 38        | 8              | 2661       | 212                  | 48.01ms          |</pre>"
      ],
      "text/plain": [
       "| 38        | 8              | 2661       | 212                  | 48.01ms          |"
      ]
     },
     "metadata": {},
     "output_type": "display_data"
    },
    {
     "data": {
      "text/html": [
       "<pre>| 39        | 8              | 2619       | 212                  | 51.163ms         |</pre>"
      ],
      "text/plain": [
       "| 39        | 8              | 2619       | 212                  | 51.163ms         |"
      ]
     },
     "metadata": {},
     "output_type": "display_data"
    },
    {
     "data": {
      "text/html": [
       "<pre>| 40        | 8              | 2595       | 212                  | 52.532ms         |</pre>"
      ],
      "text/plain": [
       "| 40        | 8              | 2595       | 212                  | 52.532ms         |"
      ]
     },
     "metadata": {},
     "output_type": "display_data"
    },
    {
     "data": {
      "text/html": [
       "<pre>| 41        | 8              | 2593       | 212                  | 53.917ms         |</pre>"
      ],
      "text/plain": [
       "| 41        | 8              | 2593       | 212                  | 53.917ms         |"
      ]
     },
     "metadata": {},
     "output_type": "display_data"
    },
    {
     "data": {
      "text/html": [
       "<pre>| 42        | 8              | 2576       | 212                  | 55.296ms         |</pre>"
      ],
      "text/plain": [
       "| 42        | 8              | 2576       | 212                  | 55.296ms         |"
      ]
     },
     "metadata": {},
     "output_type": "display_data"
    },
    {
     "data": {
      "text/html": [
       "<pre>| 43        | 8              | 2551       | 212                  | 60.564ms         |</pre>"
      ],
      "text/plain": [
       "| 43        | 8              | 2551       | 212                  | 60.564ms         |"
      ]
     },
     "metadata": {},
     "output_type": "display_data"
    },
    {
     "data": {
      "text/html": [
       "<pre>| 44        | 8              | 2544       | 212                  | 62.095ms         |</pre>"
      ],
      "text/plain": [
       "| 44        | 8              | 2544       | 212                  | 62.095ms         |"
      ]
     },
     "metadata": {},
     "output_type": "display_data"
    },
    {
     "data": {
      "text/html": [
       "<pre>| 45        | 8              | 2538       | 212                  | 66.237ms         |</pre>"
      ],
      "text/plain": [
       "| 45        | 8              | 2538       | 212                  | 66.237ms         |"
      ]
     },
     "metadata": {},
     "output_type": "display_data"
    },
    {
     "data": {
      "text/html": [
       "<pre>| 46        | 8              | 2533       | 212                  | 68.018ms         |</pre>"
      ],
      "text/plain": [
       "| 46        | 8              | 2533       | 212                  | 68.018ms         |"
      ]
     },
     "metadata": {},
     "output_type": "display_data"
    },
    {
     "data": {
      "text/html": [
       "<pre>| 47        | 8              | 2530       | 212                  | 69.937ms         |</pre>"
      ],
      "text/plain": [
       "| 47        | 8              | 2530       | 212                  | 69.937ms         |"
      ]
     },
     "metadata": {},
     "output_type": "display_data"
    },
    {
     "data": {
      "text/html": [
       "<pre>| 48        | 8              | 2521       | 212                  | 71.781ms         |</pre>"
      ],
      "text/plain": [
       "| 48        | 8              | 2521       | 212                  | 71.781ms         |"
      ]
     },
     "metadata": {},
     "output_type": "display_data"
    },
    {
     "data": {
      "text/html": [
       "<pre>| 49        | 8              | 2511       | 212                  | 77.793ms         |</pre>"
      ],
      "text/plain": [
       "| 49        | 8              | 2511       | 212                  | 77.793ms         |"
      ]
     },
     "metadata": {},
     "output_type": "display_data"
    },
    {
     "data": {
      "text/html": [
       "<pre>| Final     | 8              | -          | 212                  | 79.672ms         |</pre>"
      ],
      "text/plain": [
       "| Final     | 8              | -          | 212                  | 79.672ms         |"
      ]
     },
     "metadata": {},
     "output_type": "display_data"
    },
    {
     "data": {
      "text/html": [
       "<pre>+-----------+----------------+------------+----------------------+------------------+</pre>"
      ],
      "text/plain": [
       "+-----------+----------------+------------+----------------------+------------------+"
      ]
     },
     "metadata": {},
     "output_type": "display_data"
    },
    {
     "data": {
      "text/html": [
       "<pre>Pattern mining complete. Found 8 unique closed patterns.</pre>"
      ],
      "text/plain": [
       "Pattern mining complete. Found 8 unique closed patterns."
      ]
     },
     "metadata": {},
     "output_type": "display_data"
    }
   ],
   "source": [
    "min_support = int(train.num_rows()*0.001)\n",
    "model = gl.frequent_pattern_mining.create(train, 'Item', features=['Receipt', 'StoreNum'], \n",
    "                                          min_support=min_support, max_patterns=500, min_length=4)"
   ]
  },
  {
   "cell_type": "markdown",
   "metadata": {},
   "source": [
    "Here, we obtain the most frequent feature patterns."
   ]
  },
  {
   "cell_type": "code",
   "execution_count": 7,
   "metadata": {
    "collapsed": false
   },
   "outputs": [
    {
     "name": "stdout",
     "output_type": "stream",
     "text": [
      "The most frequent feature patters are:\n",
      "-----------------------------------------\n",
      "+-----------------------------------------------------------------------+---------+\n",
      "|                                pattern                                | support |\n",
      "+-----------------------------------------------------------------------+---------+\n",
      "|            [CoffeeEclair, HotCoffee, ApplePie, AlmondTwist]           |   877   |\n",
      "|    [LemonLemonade, RaspberryCookie, LemonCookie, RaspberryLemonade]   |   813   |\n",
      "|        [LemonLemonade, RaspberryCookie, LemonCookie, GreenTea]        |   649   |\n",
      "|      [RaspberryCookie, LemonCookie, RaspberryLemonade, GreenTea]      |   645   |\n",
      "|          [AppleTart, AppleDanish, AppleCroissant, CherrySoda]         |   640   |\n",
      "|       [LemonLemonade, LemonCookie, RaspberryLemonade, GreenTea]       |   630   |\n",
      "|     [LemonLemonade, RaspberryCookie, RaspberryLemonade, GreenTea]     |   620   |\n",
      "| [LemonLemonade, RaspberryCookie, LemonCookie, RaspberryLemonade, G... |   512   |\n",
      "+-----------------------------------------------------------------------+---------+\n",
      "[8 rows x 2 columns]\n",
      "\n"
     ]
    }
   ],
   "source": [
    "print 'The most frequent feature patters are:'\n",
    "print '-----------------------------------------'\n",
    "model.frequent_patterns.print_rows(max_column_width=70)"
   ]
  },
  {
   "cell_type": "markdown",
   "metadata": {},
   "source": [
    "Note that the **`'pattern'`** column contains the patterns that occur frequently together, whereas the **`'support'`** column contains the number of times these patterns occur together in the entire dataset. \n",
    "\n",
    "In this example, the pattern:\n",
    "```\n",
    "[CoffeeEclair, HotCoffee, ApplePie, AlmondTwist]\n",
    "```\n",
    "occurred 877 times in the training data.\n",
    "\n",
    "\n",
    "**Definition**\n",
    "\n",
    "> A **frequent pattern** is a *set of items* with a *support greater than* user-specified **minimum support threshold**.\n",
    "\n",
    "However, there is significant redundancy in mining frequent patterns; every subset of a frequent pattern is also frequent (e.g. `'CoffeeEclair'` must be frequent if `['CoffeeEclair'`, `'HotCoffee']` is frequent). The frequent pattern mining toolkit avoids this redundancy by mining the closed frequent patterns, i.e. *frequent patterns with no superset of the same support*. This is achieved by the very design of the **FP-Growth Algorithm**.\n",
    "\n",
    "Note, that by relaxing the **`min_length`** requirement, one can obtain more frequent patterns of sold coffe products."
   ]
  },
  {
   "cell_type": "code",
   "execution_count": 8,
   "metadata": {
    "collapsed": false
   },
   "outputs": [
    {
     "data": {
      "text/html": [
       "<pre>Indexing complete. Found 50 unique items.</pre>"
      ],
      "text/plain": [
       "Indexing complete. Found 50 unique items."
      ]
     },
     "metadata": {},
     "output_type": "display_data"
    },
    {
     "data": {
      "text/html": [
       "<pre>Preprocessing complete. Found 73566 unique transactions.</pre>"
      ],
      "text/plain": [
       "Preprocessing complete. Found 73566 unique transactions."
      ]
     },
     "metadata": {},
     "output_type": "display_data"
    },
    {
     "data": {
      "text/html": [
       "<pre>Building frequent pattern tree.</pre>"
      ],
      "text/plain": [
       "Building frequent pattern tree."
      ]
     },
     "metadata": {},
     "output_type": "display_data"
    },
    {
     "data": {
      "text/html": [
       "<pre>+-----------+----------------+------------+----------------------+------------------+</pre>"
      ],
      "text/plain": [
       "+-----------+----------------+------------+----------------------+------------------+"
      ]
     },
     "metadata": {},
     "output_type": "display_data"
    },
    {
     "data": {
      "text/html": [
       "<pre>| Iteration | Num. Patterns  | Support    | Current Min Support  | Elapsed Time     |</pre>"
      ],
      "text/plain": [
       "| Iteration | Num. Patterns  | Support    | Current Min Support  | Elapsed Time     |"
      ]
     },
     "metadata": {},
     "output_type": "display_data"
    },
    {
     "data": {
      "text/html": [
       "<pre>+-----------+----------------+------------+----------------------+------------------+</pre>"
      ],
      "text/plain": [
       "+-----------+----------------+------------+----------------------+------------------+"
      ]
     },
     "metadata": {},
     "output_type": "display_data"
    },
    {
     "data": {
      "text/html": [
       "<pre>| 0         | 0              | 6550       | 212                  | 148us            |</pre>"
      ],
      "text/plain": [
       "| 0         | 0              | 6550       | 212                  | 148us            |"
      ]
     },
     "metadata": {},
     "output_type": "display_data"
    },
    {
     "data": {
      "text/html": [
       "<pre>| 1         | 0              | 6167       | 212                  | 205us            |</pre>"
      ],
      "text/plain": [
       "| 1         | 0              | 6167       | 212                  | 205us            |"
      ]
     },
     "metadata": {},
     "output_type": "display_data"
    },
    {
     "data": {
      "text/html": [
       "<pre>| 2         | 0              | 6050       | 212                  | 246us            |</pre>"
      ],
      "text/plain": [
       "| 2         | 0              | 6050       | 212                  | 246us            |"
      ]
     },
     "metadata": {},
     "output_type": "display_data"
    },
    {
     "data": {
      "text/html": [
       "<pre>| 3         | 0              | 5587       | 212                  | 291us            |</pre>"
      ],
      "text/plain": [
       "| 3         | 0              | 5587       | 212                  | 291us            |"
      ]
     },
     "metadata": {},
     "output_type": "display_data"
    },
    {
     "data": {
      "text/html": [
       "<pre>| 4         | 0              | 5563       | 212                  | 338us            |</pre>"
      ],
      "text/plain": [
       "| 4         | 0              | 5563       | 212                  | 338us            |"
      ]
     },
     "metadata": {},
     "output_type": "display_data"
    },
    {
     "data": {
      "text/html": [
       "<pre>| 5         | 0              | 5548       | 212                  | 411us            |</pre>"
      ],
      "text/plain": [
       "| 5         | 0              | 5548       | 212                  | 411us            |"
      ]
     },
     "metadata": {},
     "output_type": "display_data"
    },
    {
     "data": {
      "text/html": [
       "<pre>| 6         | 0              | 5495       | 212                  | 491us            |</pre>"
      ],
      "text/plain": [
       "| 6         | 0              | 5495       | 212                  | 491us            |"
      ]
     },
     "metadata": {},
     "output_type": "display_data"
    },
    {
     "data": {
      "text/html": [
       "<pre>| 7         | 0              | 5438       | 212                  | 593us            |</pre>"
      ],
      "text/plain": [
       "| 7         | 0              | 5438       | 212                  | 593us            |"
      ]
     },
     "metadata": {},
     "output_type": "display_data"
    },
    {
     "data": {
      "text/html": [
       "<pre>| 8         | 0              | 5376       | 212                  | 741us            |</pre>"
      ],
      "text/plain": [
       "| 8         | 0              | 5376       | 212                  | 741us            |"
      ]
     },
     "metadata": {},
     "output_type": "display_data"
    },
    {
     "data": {
      "text/html": [
       "<pre>| 9         | 0              | 5088       | 212                  | 963us            |</pre>"
      ],
      "text/plain": [
       "| 9         | 0              | 5088       | 212                  | 963us            |"
      ]
     },
     "metadata": {},
     "output_type": "display_data"
    },
    {
     "data": {
      "text/html": [
       "<pre>| 10        | 0              | 5071       | 212                  | 1.114ms          |</pre>"
      ],
      "text/plain": [
       "| 10        | 0              | 5071       | 212                  | 1.114ms          |"
      ]
     },
     "metadata": {},
     "output_type": "display_data"
    },
    {
     "data": {
      "text/html": [
       "<pre>| 11        | 0              | 5040       | 212                  | 1.344ms          |</pre>"
      ],
      "text/plain": [
       "| 11        | 0              | 5040       | 212                  | 1.344ms          |"
      ]
     },
     "metadata": {},
     "output_type": "display_data"
    },
    {
     "data": {
      "text/html": [
       "<pre>| 12        | 0              | 4994       | 212                  | 1.733ms          |</pre>"
      ],
      "text/plain": [
       "| 12        | 0              | 4994       | 212                  | 1.733ms          |"
      ]
     },
     "metadata": {},
     "output_type": "display_data"
    },
    {
     "data": {
      "text/html": [
       "<pre>| 13        | 0              | 4981       | 212                  | 2.001ms          |</pre>"
      ],
      "text/plain": [
       "| 13        | 0              | 4981       | 212                  | 2.001ms          |"
      ]
     },
     "metadata": {},
     "output_type": "display_data"
    },
    {
     "data": {
      "text/html": [
       "<pre>| 14        | 0              | 4949       | 212                  | 2.298ms          |</pre>"
      ],
      "text/plain": [
       "| 14        | 0              | 4949       | 212                  | 2.298ms          |"
      ]
     },
     "metadata": {},
     "output_type": "display_data"
    },
    {
     "data": {
      "text/html": [
       "<pre>| 15        | 1              | 4948       | 212                  | 2.664ms          |</pre>"
      ],
      "text/plain": [
       "| 15        | 1              | 4948       | 212                  | 2.664ms          |"
      ]
     },
     "metadata": {},
     "output_type": "display_data"
    },
    {
     "data": {
      "text/html": [
       "<pre>| 16        | 2              | 4932       | 212                  | 3.176ms          |</pre>"
      ],
      "text/plain": [
       "| 16        | 2              | 4932       | 212                  | 3.176ms          |"
      ]
     },
     "metadata": {},
     "output_type": "display_data"
    },
    {
     "data": {
      "text/html": [
       "<pre>| 17        | 2              | 4914       | 212                  | 9.403ms          |</pre>"
      ],
      "text/plain": [
       "| 17        | 2              | 4914       | 212                  | 9.403ms          |"
      ]
     },
     "metadata": {},
     "output_type": "display_data"
    },
    {
     "data": {
      "text/html": [
       "<pre>| 18        | 2              | 4913       | 212                  | 10.19ms          |</pre>"
      ],
      "text/plain": [
       "| 18        | 2              | 4913       | 212                  | 10.19ms          |"
      ]
     },
     "metadata": {},
     "output_type": "display_data"
    },
    {
     "data": {
      "text/html": [
       "<pre>| 19        | 2              | 4690       | 212                  | 10.995ms         |</pre>"
      ],
      "text/plain": [
       "| 19        | 2              | 4690       | 212                  | 10.995ms         |"
      ]
     },
     "metadata": {},
     "output_type": "display_data"
    },
    {
     "data": {
      "text/html": [
       "<pre>| 20        | 3              | 4681       | 212                  | 11.731ms         |</pre>"
      ],
      "text/plain": [
       "| 20        | 3              | 4681       | 212                  | 11.731ms         |"
      ]
     },
     "metadata": {},
     "output_type": "display_data"
    },
    {
     "data": {
      "text/html": [
       "<pre>| 21        | 3              | 4613       | 212                  | 12.517ms         |</pre>"
      ],
      "text/plain": [
       "| 21        | 3              | 4613       | 212                  | 12.517ms         |"
      ]
     },
     "metadata": {},
     "output_type": "display_data"
    },
    {
     "data": {
      "text/html": [
       "<pre>| 22        | 3              | 4592       | 212                  | 13.692ms         |</pre>"
      ],
      "text/plain": [
       "| 22        | 3              | 4592       | 212                  | 13.692ms         |"
      ]
     },
     "metadata": {},
     "output_type": "display_data"
    },
    {
     "data": {
      "text/html": [
       "<pre>| 23        | 7              | 4568       | 212                  | 14.531ms         |</pre>"
      ],
      "text/plain": [
       "| 23        | 7              | 4568       | 212                  | 14.531ms         |"
      ]
     },
     "metadata": {},
     "output_type": "display_data"
    },
    {
     "data": {
      "text/html": [
       "<pre>| 24        | 7              | 4506       | 212                  | 19.159ms         |</pre>"
      ],
      "text/plain": [
       "| 24        | 7              | 4506       | 212                  | 19.159ms         |"
      ]
     },
     "metadata": {},
     "output_type": "display_data"
    },
    {
     "data": {
      "text/html": [
       "<pre>| 25        | 7              | 4496       | 212                  | 20.558ms         |</pre>"
      ],
      "text/plain": [
       "| 25        | 7              | 4496       | 212                  | 20.558ms         |"
      ]
     },
     "metadata": {},
     "output_type": "display_data"
    },
    {
     "data": {
      "text/html": [
       "<pre>| 26        | 8              | 4398       | 212                  | 22.477ms         |</pre>"
      ],
      "text/plain": [
       "| 26        | 8              | 4398       | 212                  | 22.477ms         |"
      ]
     },
     "metadata": {},
     "output_type": "display_data"
    },
    {
     "data": {
      "text/html": [
       "<pre>| 27        | 8              | 4122       | 212                  | 23.717ms         |</pre>"
      ],
      "text/plain": [
       "| 27        | 8              | 4122       | 212                  | 23.717ms         |"
      ]
     },
     "metadata": {},
     "output_type": "display_data"
    },
    {
     "data": {
      "text/html": [
       "<pre>| 28        | 8              | 4101       | 212                  | 26.617ms         |</pre>"
      ],
      "text/plain": [
       "| 28        | 8              | 4101       | 212                  | 26.617ms         |"
      ]
     },
     "metadata": {},
     "output_type": "display_data"
    },
    {
     "data": {
      "text/html": [
       "<pre>| 29        | 9              | 4074       | 212                  | 28.513ms         |</pre>"
      ],
      "text/plain": [
       "| 29        | 9              | 4074       | 212                  | 28.513ms         |"
      ]
     },
     "metadata": {},
     "output_type": "display_data"
    },
    {
     "data": {
      "text/html": [
       "<pre>| 30        | 9              | 4071       | 212                  | 29.498ms         |</pre>"
      ],
      "text/plain": [
       "| 30        | 9              | 4071       | 212                  | 29.498ms         |"
      ]
     },
     "metadata": {},
     "output_type": "display_data"
    },
    {
     "data": {
      "text/html": [
       "<pre>| 31        | 9              | 4057       | 212                  | 30.41ms          |</pre>"
      ],
      "text/plain": [
       "| 31        | 9              | 4057       | 212                  | 30.41ms          |"
      ]
     },
     "metadata": {},
     "output_type": "display_data"
    },
    {
     "data": {
      "text/html": [
       "<pre>| 32        | 9              | 4056       | 212                  | 31.413ms         |</pre>"
      ],
      "text/plain": [
       "| 32        | 9              | 4056       | 212                  | 31.413ms         |"
      ]
     },
     "metadata": {},
     "output_type": "display_data"
    },
    {
     "data": {
      "text/html": [
       "<pre>| 33        | 10             | 4055       | 212                  | 32.858ms         |</pre>"
      ],
      "text/plain": [
       "| 33        | 10             | 4055       | 212                  | 32.858ms         |"
      ]
     },
     "metadata": {},
     "output_type": "display_data"
    },
    {
     "data": {
      "text/html": [
       "<pre>| 34        | 11             | 4042       | 212                  | 36.599ms         |</pre>"
      ],
      "text/plain": [
       "| 34        | 11             | 4042       | 212                  | 36.599ms         |"
      ]
     },
     "metadata": {},
     "output_type": "display_data"
    },
    {
     "data": {
      "text/html": [
       "<pre>| 35        | 15             | 4014       | 212                  | 39.82ms          |</pre>"
      ],
      "text/plain": [
       "| 35        | 15             | 4014       | 212                  | 39.82ms          |"
      ]
     },
     "metadata": {},
     "output_type": "display_data"
    },
    {
     "data": {
      "text/html": [
       "<pre>| 36        | 16             | 3711       | 212                  | 41.412ms         |</pre>"
      ],
      "text/plain": [
       "| 36        | 16             | 3711       | 212                  | 41.412ms         |"
      ]
     },
     "metadata": {},
     "output_type": "display_data"
    },
    {
     "data": {
      "text/html": [
       "<pre>| 37        | 20             | 3707       | 212                  | 42.989ms         |</pre>"
      ],
      "text/plain": [
       "| 37        | 20             | 3707       | 212                  | 42.989ms         |"
      ]
     },
     "metadata": {},
     "output_type": "display_data"
    },
    {
     "data": {
      "text/html": [
       "<pre>| 38        | 31             | 2661       | 212                  | 48.438ms         |</pre>"
      ],
      "text/plain": [
       "| 38        | 31             | 2661       | 212                  | 48.438ms         |"
      ]
     },
     "metadata": {},
     "output_type": "display_data"
    },
    {
     "data": {
      "text/html": [
       "<pre>| 39        | 31             | 2619       | 212                  | 50.493ms         |</pre>"
      ],
      "text/plain": [
       "| 39        | 31             | 2619       | 212                  | 50.493ms         |"
      ]
     },
     "metadata": {},
     "output_type": "display_data"
    },
    {
     "data": {
      "text/html": [
       "<pre>| 40        | 31             | 2595       | 212                  | 51.86ms          |</pre>"
      ],
      "text/plain": [
       "| 40        | 31             | 2595       | 212                  | 51.86ms          |"
      ]
     },
     "metadata": {},
     "output_type": "display_data"
    },
    {
     "data": {
      "text/html": [
       "<pre>| 41        | 31             | 2593       | 212                  | 53.233ms         |</pre>"
      ],
      "text/plain": [
       "| 41        | 31             | 2593       | 212                  | 53.233ms         |"
      ]
     },
     "metadata": {},
     "output_type": "display_data"
    },
    {
     "data": {
      "text/html": [
       "<pre>| 42        | 31             | 2576       | 212                  | 54.621ms         |</pre>"
      ],
      "text/plain": [
       "| 42        | 31             | 2576       | 212                  | 54.621ms         |"
      ]
     },
     "metadata": {},
     "output_type": "display_data"
    },
    {
     "data": {
      "text/html": [
       "<pre>| 43        | 31             | 2551       | 212                  | 60.232ms         |</pre>"
      ],
      "text/plain": [
       "| 43        | 31             | 2551       | 212                  | 60.232ms         |"
      ]
     },
     "metadata": {},
     "output_type": "display_data"
    },
    {
     "data": {
      "text/html": [
       "<pre>| 44        | 31             | 2544       | 212                  | 61.927ms         |</pre>"
      ],
      "text/plain": [
       "| 44        | 31             | 2544       | 212                  | 61.927ms         |"
      ]
     },
     "metadata": {},
     "output_type": "display_data"
    },
    {
     "data": {
      "text/html": [
       "<pre>| 45        | 31             | 2538       | 212                  | 63.684ms         |</pre>"
      ],
      "text/plain": [
       "| 45        | 31             | 2538       | 212                  | 63.684ms         |"
      ]
     },
     "metadata": {},
     "output_type": "display_data"
    },
    {
     "data": {
      "text/html": [
       "<pre>| 46        | 31             | 2533       | 212                  | 67.747ms         |</pre>"
      ],
      "text/plain": [
       "| 46        | 31             | 2533       | 212                  | 67.747ms         |"
      ]
     },
     "metadata": {},
     "output_type": "display_data"
    },
    {
     "data": {
      "text/html": [
       "<pre>| 47        | 31             | 2530       | 212                  | 69.606ms         |</pre>"
      ],
      "text/plain": [
       "| 47        | 31             | 2530       | 212                  | 69.606ms         |"
      ]
     },
     "metadata": {},
     "output_type": "display_data"
    },
    {
     "data": {
      "text/html": [
       "<pre>| 48        | 31             | 2521       | 212                  | 71.269ms         |</pre>"
      ],
      "text/plain": [
       "| 48        | 31             | 2521       | 212                  | 71.269ms         |"
      ]
     },
     "metadata": {},
     "output_type": "display_data"
    },
    {
     "data": {
      "text/html": [
       "<pre>| 49        | 31             | 2511       | 212                  | 72.901ms         |</pre>"
      ],
      "text/plain": [
       "| 49        | 31             | 2511       | 212                  | 72.901ms         |"
      ]
     },
     "metadata": {},
     "output_type": "display_data"
    },
    {
     "data": {
      "text/html": [
       "<pre>| Final     | 31             | -          | 212                  | 77.761ms         |</pre>"
      ],
      "text/plain": [
       "| Final     | 31             | -          | 212                  | 77.761ms         |"
      ]
     },
     "metadata": {},
     "output_type": "display_data"
    },
    {
     "data": {
      "text/html": [
       "<pre>+-----------+----------------+------------+----------------------+------------------+</pre>"
      ],
      "text/plain": [
       "+-----------+----------------+------------+----------------------+------------------+"
      ]
     },
     "metadata": {},
     "output_type": "display_data"
    },
    {
     "data": {
      "text/html": [
       "<pre>Pattern mining complete. Found 31 unique closed patterns.</pre>"
      ],
      "text/plain": [
       "Pattern mining complete. Found 31 unique closed patterns."
      ]
     },
     "metadata": {},
     "output_type": "display_data"
    }
   ],
   "source": [
    "min_support = int(train.num_rows()*0.001)\n",
    "model = gl.frequent_pattern_mining.create(train, 'Item', features=['Receipt', 'StoreNum'], \n",
    "                                          min_support=min_support, max_patterns=500, min_length=3)"
   ]
  },
  {
   "cell_type": "code",
   "execution_count": 9,
   "metadata": {
    "collapsed": false
   },
   "outputs": [
    {
     "name": "stdout",
     "output_type": "stream",
     "text": [
      "The most frequent feature patters are:\n",
      "-----------------------------------------\n",
      "+-----------------------------------------------------------------------+---------+\n",
      "|                                pattern                                | support |\n",
      "+-----------------------------------------------------------------------+---------+\n",
      "|                 [CherryTart, ApricotDanish, OperaCake]                |   1561  |\n",
      "|                 [CoffeeEclair, ApplePie, AlmondTwist]                 |   1351  |\n",
      "|              [ChocolateCake, ChocolateCoffee, CasinoCake]             |   1308  |\n",
      "|              [HotCoffee, ApricotCroissant, BlueberryTart]             |   1220  |\n",
      "|                  [CoffeeEclair, HotCoffee, ApplePie]                  |   1109  |\n",
      "|                   [HotCoffee, ApplePie, AlmondTwist]                  |   1100  |\n",
      "|                 [CoffeeEclair, HotCoffee, AlmondTwist]                |   1086  |\n",
      "|             [CoffeeEclair, BlackberryTart, SingleEspresso]            |   1023  |\n",
      "|             [LemonLemonade, RaspberryCookie, LemonCookie]             |   1021  |\n",
      "|           [VanillaFrappuccino, ChocolateTart, WalnutCookie]           |   1016  |\n",
      "|           [RaspberryCookie, LemonCookie, RaspberryLemonade]           |   1012  |\n",
      "|          [LemonLemonade, RaspberryCookie, RaspberryLemonade]          |   1012  |\n",
      "|            [LemonLemonade, LemonCookie, RaspberryLemonade]            |   1001  |\n",
      "|                [AppleTart, AppleDanish, AppleCroissant]               |   1000  |\n",
      "|            [CoffeeEclair, HotCoffee, ApplePie, AlmondTwist]           |   877   |\n",
      "|                [RaspberryCookie, LemonCookie, GreenTea]               |   814   |\n",
      "|    [LemonLemonade, RaspberryCookie, LemonCookie, RaspberryLemonade]   |   813   |\n",
      "|               [AppleDanish, AppleCroissant, CherrySoda]               |   809   |\n",
      "|                 [LemonLemonade, LemonCookie, GreenTea]                |   804   |\n",
      "|               [LemonCookie, RaspberryLemonade, GreenTea]              |   803   |\n",
      "|                  [AppleTart, AppleDanish, CherrySoda]                 |   798   |\n",
      "|               [LemonLemonade, RaspberryCookie, GreenTea]              |   795   |\n",
      "|             [RaspberryCookie, RaspberryLemonade, GreenTea]            |   787   |\n",
      "|                [AppleTart, AppleCroissant, CherrySoda]                |   783   |\n",
      "|              [LemonLemonade, RaspberryLemonade, GreenTea]             |   769   |\n",
      "|        [LemonLemonade, RaspberryCookie, LemonCookie, GreenTea]        |   649   |\n",
      "|      [RaspberryCookie, LemonCookie, RaspberryLemonade, GreenTea]      |   645   |\n",
      "|          [AppleTart, AppleDanish, AppleCroissant, CherrySoda]         |   640   |\n",
      "|       [LemonLemonade, LemonCookie, RaspberryLemonade, GreenTea]       |   630   |\n",
      "|     [LemonLemonade, RaspberryCookie, RaspberryLemonade, GreenTea]     |   620   |\n",
      "| [LemonLemonade, RaspberryCookie, LemonCookie, RaspberryLemonade, G... |   512   |\n",
      "+-----------------------------------------------------------------------+---------+\n",
      "[31 rows x 2 columns]\n",
      "\n"
     ]
    }
   ],
   "source": [
    "print 'The most frequent feature patters are:'\n",
    "print '-----------------------------------------'\n",
    "model.frequent_patterns.print_rows(num_rows=35, max_column_width=70)"
   ]
  },
  {
   "cell_type": "markdown",
   "metadata": {},
   "source": [
    "Alternatively, by decreasing the **`min_support`** one can obtain more patterns of sold coffee products which are again assumed frequent but with respect to this new threshold."
   ]
  },
  {
   "cell_type": "code",
   "execution_count": 10,
   "metadata": {
    "collapsed": false
   },
   "outputs": [
    {
     "data": {
      "text/html": [
       "<pre>Indexing complete. Found 50 unique items.</pre>"
      ],
      "text/plain": [
       "Indexing complete. Found 50 unique items."
      ]
     },
     "metadata": {},
     "output_type": "display_data"
    },
    {
     "data": {
      "text/html": [
       "<pre>Preprocessing complete. Found 73566 unique transactions.</pre>"
      ],
      "text/plain": [
       "Preprocessing complete. Found 73566 unique transactions."
      ]
     },
     "metadata": {},
     "output_type": "display_data"
    },
    {
     "data": {
      "text/html": [
       "<pre>Building frequent pattern tree.</pre>"
      ],
      "text/plain": [
       "Building frequent pattern tree."
      ]
     },
     "metadata": {},
     "output_type": "display_data"
    },
    {
     "data": {
      "text/html": [
       "<pre>+-----------+----------------+------------+----------------------+------------------+</pre>"
      ],
      "text/plain": [
       "+-----------+----------------+------------+----------------------+------------------+"
      ]
     },
     "metadata": {},
     "output_type": "display_data"
    },
    {
     "data": {
      "text/html": [
       "<pre>| Iteration | Num. Patterns  | Support    | Current Min Support  | Elapsed Time     |</pre>"
      ],
      "text/plain": [
       "| Iteration | Num. Patterns  | Support    | Current Min Support  | Elapsed Time     |"
      ]
     },
     "metadata": {},
     "output_type": "display_data"
    },
    {
     "data": {
      "text/html": [
       "<pre>+-----------+----------------+------------+----------------------+------------------+</pre>"
      ],
      "text/plain": [
       "+-----------+----------------+------------+----------------------+------------------+"
      ]
     },
     "metadata": {},
     "output_type": "display_data"
    },
    {
     "data": {
      "text/html": [
       "<pre>| 0         | 0              | 6550       | 21                   | 139us            |</pre>"
      ],
      "text/plain": [
       "| 0         | 0              | 6550       | 21                   | 139us            |"
      ]
     },
     "metadata": {},
     "output_type": "display_data"
    },
    {
     "data": {
      "text/html": [
       "<pre>| 1         | 0              | 6167       | 21                   | 197us            |</pre>"
      ],
      "text/plain": [
       "| 1         | 0              | 6167       | 21                   | 197us            |"
      ]
     },
     "metadata": {},
     "output_type": "display_data"
    },
    {
     "data": {
      "text/html": [
       "<pre>| 2         | 0              | 6050       | 21                   | 238us            |</pre>"
      ],
      "text/plain": [
       "| 2         | 0              | 6050       | 21                   | 238us            |"
      ]
     },
     "metadata": {},
     "output_type": "display_data"
    },
    {
     "data": {
      "text/html": [
       "<pre>| 3         | 0              | 5587       | 21                   | 282us            |</pre>"
      ],
      "text/plain": [
       "| 3         | 0              | 5587       | 21                   | 282us            |"
      ]
     },
     "metadata": {},
     "output_type": "display_data"
    },
    {
     "data": {
      "text/html": [
       "<pre>| 4         | 0              | 5563       | 21                   | 337us            |</pre>"
      ],
      "text/plain": [
       "| 4         | 0              | 5563       | 21                   | 337us            |"
      ]
     },
     "metadata": {},
     "output_type": "display_data"
    },
    {
     "data": {
      "text/html": [
       "<pre>| 5         | 0              | 5548       | 21                   | 408us            |</pre>"
      ],
      "text/plain": [
       "| 5         | 0              | 5548       | 21                   | 408us            |"
      ]
     },
     "metadata": {},
     "output_type": "display_data"
    },
    {
     "data": {
      "text/html": [
       "<pre>| 6         | 0              | 5495       | 21                   | 527us            |</pre>"
      ],
      "text/plain": [
       "| 6         | 0              | 5495       | 21                   | 527us            |"
      ]
     },
     "metadata": {},
     "output_type": "display_data"
    },
    {
     "data": {
      "text/html": [
       "<pre>| 7         | 0              | 5438       | 21                   | 657us            |</pre>"
      ],
      "text/plain": [
       "| 7         | 0              | 5438       | 21                   | 657us            |"
      ]
     },
     "metadata": {},
     "output_type": "display_data"
    },
    {
     "data": {
      "text/html": [
       "<pre>| 8         | 0              | 5376       | 21                   | 815us            |</pre>"
      ],
      "text/plain": [
       "| 8         | 0              | 5376       | 21                   | 815us            |"
      ]
     },
     "metadata": {},
     "output_type": "display_data"
    },
    {
     "data": {
      "text/html": [
       "<pre>| 9         | 0              | 5088       | 21                   | 1.09ms           |</pre>"
      ],
      "text/plain": [
       "| 9         | 0              | 5088       | 21                   | 1.09ms           |"
      ]
     },
     "metadata": {},
     "output_type": "display_data"
    },
    {
     "data": {
      "text/html": [
       "<pre>| 10        | 0              | 5071       | 21                   | 1.506ms          |</pre>"
      ],
      "text/plain": [
       "| 10        | 0              | 5071       | 21                   | 1.506ms          |"
      ]
     },
     "metadata": {},
     "output_type": "display_data"
    },
    {
     "data": {
      "text/html": [
       "<pre>| 11        | 0              | 5040       | 21                   | 1.808ms          |</pre>"
      ],
      "text/plain": [
       "| 11        | 0              | 5040       | 21                   | 1.808ms          |"
      ]
     },
     "metadata": {},
     "output_type": "display_data"
    },
    {
     "data": {
      "text/html": [
       "<pre>| 12        | 0              | 4994       | 21                   | 2.307ms          |</pre>"
      ],
      "text/plain": [
       "| 12        | 0              | 4994       | 21                   | 2.307ms          |"
      ]
     },
     "metadata": {},
     "output_type": "display_data"
    },
    {
     "data": {
      "text/html": [
       "<pre>| 13        | 0              | 4981       | 21                   | 2.872ms          |</pre>"
      ],
      "text/plain": [
       "| 13        | 0              | 4981       | 21                   | 2.872ms          |"
      ]
     },
     "metadata": {},
     "output_type": "display_data"
    },
    {
     "data": {
      "text/html": [
       "<pre>| 14        | 0              | 4949       | 21                   | 3.658ms          |</pre>"
      ],
      "text/plain": [
       "| 14        | 0              | 4949       | 21                   | 3.658ms          |"
      ]
     },
     "metadata": {},
     "output_type": "display_data"
    },
    {
     "data": {
      "text/html": [
       "<pre>| 15        | 7              | 4948       | 21                   | 6.375ms          |</pre>"
      ],
      "text/plain": [
       "| 15        | 7              | 4948       | 21                   | 6.375ms          |"
      ]
     },
     "metadata": {},
     "output_type": "display_data"
    },
    {
     "data": {
      "text/html": [
       "<pre>| 16        | 10             | 4932       | 21                   | 7.598ms          |</pre>"
      ],
      "text/plain": [
       "| 16        | 10             | 4932       | 21                   | 7.598ms          |"
      ]
     },
     "metadata": {},
     "output_type": "display_data"
    },
    {
     "data": {
      "text/html": [
       "<pre>| 17        | 11             | 4914       | 21                   | 11.079ms         |</pre>"
      ],
      "text/plain": [
       "| 17        | 11             | 4914       | 21                   | 11.079ms         |"
      ]
     },
     "metadata": {},
     "output_type": "display_data"
    },
    {
     "data": {
      "text/html": [
       "<pre>| 18        | 12             | 4913       | 21                   | 14.42ms          |</pre>"
      ],
      "text/plain": [
       "| 18        | 12             | 4913       | 21                   | 14.42ms          |"
      ]
     },
     "metadata": {},
     "output_type": "display_data"
    },
    {
     "data": {
      "text/html": [
       "<pre>| 19        | 13             | 4690       | 21                   | 19.791ms         |</pre>"
      ],
      "text/plain": [
       "| 19        | 13             | 4690       | 21                   | 19.791ms         |"
      ]
     },
     "metadata": {},
     "output_type": "display_data"
    },
    {
     "data": {
      "text/html": [
       "<pre>| 20        | 14             | 4681       | 21                   | 23.49ms          |</pre>"
      ],
      "text/plain": [
       "| 20        | 14             | 4681       | 21                   | 23.49ms          |"
      ]
     },
     "metadata": {},
     "output_type": "display_data"
    },
    {
     "data": {
      "text/html": [
       "<pre>| 21        | 15             | 4613       | 21                   | 27.218ms         |</pre>"
      ],
      "text/plain": [
       "| 21        | 15             | 4613       | 21                   | 27.218ms         |"
      ]
     },
     "metadata": {},
     "output_type": "display_data"
    },
    {
     "data": {
      "text/html": [
       "<pre>| 22        | 15             | 4592       | 21                   | 33.589ms         |</pre>"
      ],
      "text/plain": [
       "| 22        | 15             | 4592       | 21                   | 33.589ms         |"
      ]
     },
     "metadata": {},
     "output_type": "display_data"
    },
    {
     "data": {
      "text/html": [
       "<pre>| 23        | 16             | 4568       | 21                   | 41.8ms           |</pre>"
      ],
      "text/plain": [
       "| 23        | 16             | 4568       | 21                   | 41.8ms           |"
      ]
     },
     "metadata": {},
     "output_type": "display_data"
    },
    {
     "data": {
      "text/html": [
       "<pre>| 24        | 17             | 4506       | 21                   | 47.385ms         |</pre>"
      ],
      "text/plain": [
       "| 24        | 17             | 4506       | 21                   | 47.385ms         |"
      ]
     },
     "metadata": {},
     "output_type": "display_data"
    },
    {
     "data": {
      "text/html": [
       "<pre>| 25        | 18             | 4496       | 21                   | 50.504ms         |</pre>"
      ],
      "text/plain": [
       "| 25        | 18             | 4496       | 21                   | 50.504ms         |"
      ]
     },
     "metadata": {},
     "output_type": "display_data"
    },
    {
     "data": {
      "text/html": [
       "<pre>| 26        | 25             | 4398       | 21                   | 62.404ms         |</pre>"
      ],
      "text/plain": [
       "| 26        | 25             | 4398       | 21                   | 62.404ms         |"
      ]
     },
     "metadata": {},
     "output_type": "display_data"
    },
    {
     "data": {
      "text/html": [
       "<pre>| 27        | 26             | 4122       | 21                   | 68.23ms          |</pre>"
      ],
      "text/plain": [
       "| 27        | 26             | 4122       | 21                   | 68.23ms          |"
      ]
     },
     "metadata": {},
     "output_type": "display_data"
    },
    {
     "data": {
      "text/html": [
       "<pre>| 28        | 28             | 4101       | 21                   | 73.959ms         |</pre>"
      ],
      "text/plain": [
       "| 28        | 28             | 4101       | 21                   | 73.959ms         |"
      ]
     },
     "metadata": {},
     "output_type": "display_data"
    },
    {
     "data": {
      "text/html": [
       "<pre>| 29        | 28             | 4074       | 21                   | 79.732ms         |</pre>"
      ],
      "text/plain": [
       "| 29        | 28             | 4074       | 21                   | 79.732ms         |"
      ]
     },
     "metadata": {},
     "output_type": "display_data"
    },
    {
     "data": {
      "text/html": [
       "<pre>| 30        | 28             | 4071       | 21                   | 85.089ms         |</pre>"
      ],
      "text/plain": [
       "| 30        | 28             | 4071       | 21                   | 85.089ms         |"
      ]
     },
     "metadata": {},
     "output_type": "display_data"
    },
    {
     "data": {
      "text/html": [
       "<pre>| 31        | 29             | 4057       | 21                   | 90.266ms         |</pre>"
      ],
      "text/plain": [
       "| 31        | 29             | 4057       | 21                   | 90.266ms         |"
      ]
     },
     "metadata": {},
     "output_type": "display_data"
    },
    {
     "data": {
      "text/html": [
       "<pre>| 32        | 31             | 4056       | 21                   | 96.116ms         |</pre>"
      ],
      "text/plain": [
       "| 32        | 31             | 4056       | 21                   | 96.116ms         |"
      ]
     },
     "metadata": {},
     "output_type": "display_data"
    },
    {
     "data": {
      "text/html": [
       "<pre>| 33        | 33             | 4055       | 21                   | 101.783ms        |</pre>"
      ],
      "text/plain": [
       "| 33        | 33             | 4055       | 21                   | 101.783ms        |"
      ]
     },
     "metadata": {},
     "output_type": "display_data"
    },
    {
     "data": {
      "text/html": [
       "<pre>| 34        | 35             | 4042       | 21                   | 108.571ms        |</pre>"
      ],
      "text/plain": [
       "| 34        | 35             | 4042       | 21                   | 108.571ms        |"
      ]
     },
     "metadata": {},
     "output_type": "display_data"
    },
    {
     "data": {
      "text/html": [
       "<pre>| 35        | 37             | 4014       | 21                   | 116.118ms        |</pre>"
      ],
      "text/plain": [
       "| 35        | 37             | 4014       | 21                   | 116.118ms        |"
      ]
     },
     "metadata": {},
     "output_type": "display_data"
    },
    {
     "data": {
      "text/html": [
       "<pre>| 36        | 40             | 3711       | 21                   | 125.313ms        |</pre>"
      ],
      "text/plain": [
       "| 36        | 40             | 3711       | 21                   | 125.313ms        |"
      ]
     },
     "metadata": {},
     "output_type": "display_data"
    },
    {
     "data": {
      "text/html": [
       "<pre>| 37        | 42             | 3707       | 21                   | 133.405ms        |</pre>"
      ],
      "text/plain": [
       "| 37        | 42             | 3707       | 21                   | 133.405ms        |"
      ]
     },
     "metadata": {},
     "output_type": "display_data"
    },
    {
     "data": {
      "text/html": [
       "<pre>| 38        | 47             | 2661       | 21                   | 141.554ms        |</pre>"
      ],
      "text/plain": [
       "| 38        | 47             | 2661       | 21                   | 141.554ms        |"
      ]
     },
     "metadata": {},
     "output_type": "display_data"
    },
    {
     "data": {
      "text/html": [
       "<pre>| 39        | 49             | 2619       | 21                   | 150.142ms        |</pre>"
      ],
      "text/plain": [
       "| 39        | 49             | 2619       | 21                   | 150.142ms        |"
      ]
     },
     "metadata": {},
     "output_type": "display_data"
    },
    {
     "data": {
      "text/html": [
       "<pre>| 40        | 51             | 2595       | 21                   | 158.276ms        |</pre>"
      ],
      "text/plain": [
       "| 40        | 51             | 2595       | 21                   | 158.276ms        |"
      ]
     },
     "metadata": {},
     "output_type": "display_data"
    },
    {
     "data": {
      "text/html": [
       "<pre>| 41        | 51             | 2593       | 21                   | 167.16ms         |</pre>"
      ],
      "text/plain": [
       "| 41        | 51             | 2593       | 21                   | 167.16ms         |"
      ]
     },
     "metadata": {},
     "output_type": "display_data"
    },
    {
     "data": {
      "text/html": [
       "<pre>| 42        | 51             | 2576       | 21                   | 175.629ms        |</pre>"
      ],
      "text/plain": [
       "| 42        | 51             | 2576       | 21                   | 175.629ms        |"
      ]
     },
     "metadata": {},
     "output_type": "display_data"
    },
    {
     "data": {
      "text/html": [
       "<pre>| 43        | 52             | 2551       | 21                   | 184.835ms        |</pre>"
      ],
      "text/plain": [
       "| 43        | 52             | 2551       | 21                   | 184.835ms        |"
      ]
     },
     "metadata": {},
     "output_type": "display_data"
    },
    {
     "data": {
      "text/html": [
       "<pre>| 44        | 53             | 2544       | 21                   | 194.06ms         |</pre>"
      ],
      "text/plain": [
       "| 44        | 53             | 2544       | 21                   | 194.06ms         |"
      ]
     },
     "metadata": {},
     "output_type": "display_data"
    },
    {
     "data": {
      "text/html": [
       "<pre>| 45        | 55             | 2538       | 21                   | 204.208ms        |</pre>"
      ],
      "text/plain": [
       "| 45        | 55             | 2538       | 21                   | 204.208ms        |"
      ]
     },
     "metadata": {},
     "output_type": "display_data"
    },
    {
     "data": {
      "text/html": [
       "<pre>| 46        | 56             | 2533       | 21                   | 214.367ms        |</pre>"
      ],
      "text/plain": [
       "| 46        | 56             | 2533       | 21                   | 214.367ms        |"
      ]
     },
     "metadata": {},
     "output_type": "display_data"
    },
    {
     "data": {
      "text/html": [
       "<pre>| 47        | 56             | 2530       | 21                   | 224.494ms        |</pre>"
      ],
      "text/plain": [
       "| 47        | 56             | 2530       | 21                   | 224.494ms        |"
      ]
     },
     "metadata": {},
     "output_type": "display_data"
    },
    {
     "data": {
      "text/html": [
       "<pre>| 48        | 57             | 2521       | 21                   | 234.381ms        |</pre>"
      ],
      "text/plain": [
       "| 48        | 57             | 2521       | 21                   | 234.381ms        |"
      ]
     },
     "metadata": {},
     "output_type": "display_data"
    },
    {
     "data": {
      "text/html": [
       "<pre>| 49        | 58             | 2511       | 21                   | 244.784ms        |</pre>"
      ],
      "text/plain": [
       "| 49        | 58             | 2511       | 21                   | 244.784ms        |"
      ]
     },
     "metadata": {},
     "output_type": "display_data"
    },
    {
     "data": {
      "text/html": [
       "<pre>| Final     | 59             | -          | 21                   | 255.337ms        |</pre>"
      ],
      "text/plain": [
       "| Final     | 59             | -          | 21                   | 255.337ms        |"
      ]
     },
     "metadata": {},
     "output_type": "display_data"
    },
    {
     "data": {
      "text/html": [
       "<pre>+-----------+----------------+------------+----------------------+------------------+</pre>"
      ],
      "text/plain": [
       "+-----------+----------------+------------+----------------------+------------------+"
      ]
     },
     "metadata": {},
     "output_type": "display_data"
    },
    {
     "data": {
      "text/html": [
       "<pre>Pattern mining complete. Found 59 unique closed patterns.</pre>"
      ],
      "text/plain": [
       "Pattern mining complete. Found 59 unique closed patterns."
      ]
     },
     "metadata": {},
     "output_type": "display_data"
    }
   ],
   "source": [
    "min_support = int(train.num_rows()*(1e-04))\n",
    "model = gl.frequent_pattern_mining.create(train, 'Item', features=['Receipt', 'StoreNum'], \n",
    "                                          min_support=min_support, max_patterns=500, min_length=4)"
   ]
  },
  {
   "cell_type": "code",
   "execution_count": 11,
   "metadata": {
    "collapsed": false
   },
   "outputs": [
    {
     "name": "stdout",
     "output_type": "stream",
     "text": [
      "The most frequent feature patters are:\n",
      "-----------------------------------------\n",
      "+-----------------------------------------------------------------------+---------+\n",
      "|                                pattern                                | support |\n",
      "+-----------------------------------------------------------------------+---------+\n",
      "|            [CoffeeEclair, HotCoffee, ApplePie, AlmondTwist]           |   877   |\n",
      "|    [LemonLemonade, RaspberryCookie, LemonCookie, RaspberryLemonade]   |   813   |\n",
      "|        [LemonLemonade, RaspberryCookie, LemonCookie, GreenTea]        |   649   |\n",
      "|      [RaspberryCookie, LemonCookie, RaspberryLemonade, GreenTea]      |   645   |\n",
      "|          [AppleTart, AppleDanish, AppleCroissant, CherrySoda]         |   640   |\n",
      "|       [LemonLemonade, LemonCookie, RaspberryLemonade, GreenTea]       |   630   |\n",
      "|     [LemonLemonade, RaspberryCookie, RaspberryLemonade, GreenTea]     |   620   |\n",
      "| [LemonLemonade, RaspberryCookie, LemonCookie, RaspberryLemonade, G... |   512   |\n",
      "|           [HotCoffee, CherryTart, ApricotDanish, OperaCake]           |    29   |\n",
      "|        [CherryTart, ApricotDanish, OperaCake, AlmondBear Claw]        |    29   |\n",
      "|         [CherryTart, ApricotDanish, ChocolateCake, OperaCake]         |    28   |\n",
      "|           [CherryTart, ApricotDanish, BerryTart, OperaCake]           |    28   |\n",
      "|        [CherryTart, ApricotDanish, OperaCake, CheeseCroissant]        |    28   |\n",
      "|        [CherryTart, ApricotDanish, ApricotCroissant, OperaCake]       |    27   |\n",
      "|          [CoffeeEclair, CherryTart, ApricotDanish, OperaCake]         |    27   |\n",
      "|       [HotCoffee, ApricotCroissant, BlueberryTart, LemonCookie]       |    27   |\n",
      "|       [ChocolateCake, ChocolateCoffee, CasinoCake, AppleDanish]       |    27   |\n",
      "|          [CherryTart, ApricotDanish, OperaCake, ApricotTart]          |    27   |\n",
      "|         [CherryTart, ApricotDanish, OperaCake, GanacheCookie]         |    27   |\n",
      "|          [CherryTart, ApricotDanish, OperaCake, LemonCookie]          |    27   |\n",
      "|           [CherryTart, ApricotDanish, OperaCake, AppleTart]           |    27   |\n",
      "|         [CherryTart, ApricotDanish, OperaCake, ChocolateTart]         |    27   |\n",
      "|       [CherryTart, ApricotDanish, OperaCake, RaspberryLemonade]       |    26   |\n",
      "|          [CherryTart, ApricotDanish, OperaCake, AppleDanish]          |    26   |\n",
      "|          [CherryTart, ApricotDanish, OperaCake, TruffleCake]          |    26   |\n",
      "|     [HotCoffee, ApricotCroissant, BlueberryTart, AlmondBear Claw]     |    25   |\n",
      "|        [HotCoffee, ApricotCroissant, BlueberryTart, CasinoCake]       |    25   |\n",
      "|        [CherryTart, ApricotDanish, OperaCake, ChocolateEclair]        |    25   |\n",
      "|           [CherryTart, ApricotDanish, OperaCake, PecanTart]           |    25   |\n",
      "|        [CherryTart, ApricotDanish, OperaCake, BlueberryDanish]        |    25   |\n",
      "|           [CherryTart, ApricotDanish, OperaCake, CasinoCake]          |    25   |\n",
      "|       [CherryTart, ApricotDanish, OperaCake, VanillaFrappuccino]      |    25   |\n",
      "|          [CherryTart, ApricotDanish, OperaCake, NapoleonCake]         |    25   |\n",
      "|        [ChocolateCake, BerryTart, ChocolateCoffee, CasinoCake]        |    24   |\n",
      "|         [CherryTart, ApricotDanish, OperaCake, BlackberryTart]        |    24   |\n",
      "|        [CherryTart, ApricotDanish, GongolaisCookie, OperaCake]        |    23   |\n",
      "|        [ChocolateCake, ChocolateCoffee, CasinoCake, PecanTart]        |    23   |\n",
      "|     [ChocolateCake, ChocolateCoffee, CasinoCake, BlueberryDanish]     |    23   |\n",
      "|       [CherryTart, ApricotDanish, OperaCake, ChocolateMeringue]       |    23   |\n",
      "|         [CherryTart, ApricotDanish, OperaCake, VanillaEclair]         |    23   |\n",
      "|         [CherryTart, StrawberryCake, ApricotDanish, OperaCake]        |    22   |\n",
      "|        [CherryTart, ApricotDanish, OperaCake, VanillaMeringue]        |    22   |\n",
      "|         [CherryTart, ApricotDanish, OperaCake, SingleEspresso]        |    22   |\n",
      "|         [CherryTart, ApricotDanish, OperaCake, LemonLemonade]         |    22   |\n",
      "|       [HotCoffee, OrangeJuice, ApricotCroissant, BlueberryTart]       |    21   |\n",
      "|       [CoffeeEclair, BlackberryTart, AppleTart, SingleEspresso]       |    21   |\n",
      "|      [ApricotDanish, ChocolateCake, ChocolateCoffee, CasinoCake]      |    21   |\n",
      "|      [HotCoffee, ChocolateCake, ApricotCroissant, BlueberryTart]      |    21   |\n",
      "|      [HotCoffee, MarzipanCookie, ApricotCroissant, BlueberryTart]     |    21   |\n",
      "|        [HotCoffee, ChocolateCake, ChocolateCoffee, CasinoCake]        |    21   |\n",
      "|     [ChocolateCake, ChocolateCoffee, ApricotCroissant, CasinoCake]    |    21   |\n",
      "|      [ChocolateCake, ChocolateCoffee, BlackberryTart, CasinoCake]     |    21   |\n",
      "|        [CoffeeEclair, ApplePie, BlackberryTart, SingleEspresso]       |    21   |\n",
      "|   [VanillaFrappuccino, ChocolateTart, WalnutCookie, AppleCroissant]   |    21   |\n",
      "|        [HotCoffee, ApricotCroissant, BlueberryTart, CherrySoda]       |    21   |\n",
      "|         [HotCoffee, ApricotCroissant, BlueberryTart, ApplePie]        |    21   |\n",
      "|      [ChocolateCake, ChocolateCoffee, CasinoCake, LemonLemonade]      |    21   |\n",
      "|         [CherryTart, ApricotDanish, OperaCake, AppleCroissant]        |    21   |\n",
      "|          [CherryTart, ApricotDanish, OperaCake, BottledWater]         |    21   |\n",
      "+-----------------------------------------------------------------------+---------+\n",
      "[59 rows x 2 columns]\n",
      "\n"
     ]
    }
   ],
   "source": [
    "print 'The most frequent feature patters are:'\n",
    "print '-----------------------------------------'\n",
    "model.frequent_patterns.print_rows(num_rows=60, max_column_width=70)"
   ]
  },
  {
   "cell_type": "markdown",
   "metadata": {},
   "source": [
    "To see some details of the trained model:"
   ]
  },
  {
   "cell_type": "code",
   "execution_count": 12,
   "metadata": {
    "collapsed": false
   },
   "outputs": [
    {
     "name": "stdout",
     "output_type": "stream",
     "text": [
      "Class                         : FrequentPatternMiner\n",
      "\n",
      "Model fields\n",
      "------------\n",
      "Min support                   : 21\n",
      "Max patterns                  : 500\n",
      "Min pattern length            : 4\n",
      "\n",
      "Most frequent patterns\n",
      "----------------------\n",
      "['CoffeeEclair', 'HotCoffee', 'ApplePie', 'AlmondTwist']: 877\n",
      "['LemonLemonade', 'RaspberryCookie', 'LemonCookie', 'RaspberryLemonade']: 813\n",
      "['LemonLemonade', 'RaspberryCookie', 'LemonCookie', 'GreenTea']: 649\n",
      "['RaspberryCookie', 'LemonCookie', 'RaspberryLemonade', 'GreenTea']: 645\n",
      "['AppleTart', 'AppleDanish', 'AppleCroissant', 'CherrySoda']: 640\n",
      "['LemonLemonade', 'LemonCookie', 'RaspberryLemonade', 'GreenTea']: 630\n",
      "['LemonLemonade', 'RaspberryCookie', 'RaspberryLemonade', 'GreenTea']: 620\n",
      "['LemonLemonade', 'RaspberryCookie', 'LemonCookie', 'RaspberryLemonade', 'GreenTea']: 512\n",
      "['HotCoffee', 'CherryTart', 'ApricotDanish', 'OperaCake']: 29\n",
      "['CherryTart', 'ApricotDanish', 'OperaCake', 'AlmondBear Claw']: 29\n",
      "\n"
     ]
    }
   ],
   "source": [
    "print model"
   ]
  },
  {
   "cell_type": "markdown",
   "metadata": {},
   "source": [
    "## Top-k frequent patterns\n",
    "\n",
    "In practice, we rarely know the appropriate **`min_support`** threshold to use. As an alternative to specifying a minimum support, we can specify a **maximum number of patterns** to mine using the **`max_patterns`** parameter. Instead of mining all patterns above a minimum support threshold, we mine the most frequent patterns until the maximum number of closed patterns are round. For large data sets, this mining process can be time-consuming. We recommend specifying a somehow *large initial minimum support* bound to speed up the mining."
   ]
  },
  {
   "cell_type": "code",
   "execution_count": 13,
   "metadata": {
    "collapsed": false
   },
   "outputs": [
    {
     "data": {
      "text/html": [
       "<pre>Indexing complete. Found 50 unique items.</pre>"
      ],
      "text/plain": [
       "Indexing complete. Found 50 unique items."
      ]
     },
     "metadata": {},
     "output_type": "display_data"
    },
    {
     "data": {
      "text/html": [
       "<pre>Preprocessing complete. Found 73566 unique transactions.</pre>"
      ],
      "text/plain": [
       "Preprocessing complete. Found 73566 unique transactions."
      ]
     },
     "metadata": {},
     "output_type": "display_data"
    },
    {
     "data": {
      "text/html": [
       "<pre>Building frequent pattern tree.</pre>"
      ],
      "text/plain": [
       "Building frequent pattern tree."
      ]
     },
     "metadata": {},
     "output_type": "display_data"
    },
    {
     "data": {
      "text/html": [
       "<pre>+-----------+----------------+------------+----------------------+------------------+</pre>"
      ],
      "text/plain": [
       "+-----------+----------------+------------+----------------------+------------------+"
      ]
     },
     "metadata": {},
     "output_type": "display_data"
    },
    {
     "data": {
      "text/html": [
       "<pre>| Iteration | Num. Patterns  | Support    | Current Min Support  | Elapsed Time     |</pre>"
      ],
      "text/plain": [
       "| Iteration | Num. Patterns  | Support    | Current Min Support  | Elapsed Time     |"
      ]
     },
     "metadata": {},
     "output_type": "display_data"
    },
    {
     "data": {
      "text/html": [
       "<pre>+-----------+----------------+------------+----------------------+------------------+</pre>"
      ],
      "text/plain": [
       "+-----------+----------------+------------+----------------------+------------------+"
      ]
     },
     "metadata": {},
     "output_type": "display_data"
    },
    {
     "data": {
      "text/html": [
       "<pre>| 0         | 0              | 6550       | 212                  | 126us            |</pre>"
      ],
      "text/plain": [
       "| 0         | 0              | 6550       | 212                  | 126us            |"
      ]
     },
     "metadata": {},
     "output_type": "display_data"
    },
    {
     "data": {
      "text/html": [
       "<pre>| 1         | 0              | 6167       | 212                  | 184us            |</pre>"
      ],
      "text/plain": [
       "| 1         | 0              | 6167       | 212                  | 184us            |"
      ]
     },
     "metadata": {},
     "output_type": "display_data"
    },
    {
     "data": {
      "text/html": [
       "<pre>| 2         | 0              | 6050       | 212                  | 224us            |</pre>"
      ],
      "text/plain": [
       "| 2         | 0              | 6050       | 212                  | 224us            |"
      ]
     },
     "metadata": {},
     "output_type": "display_data"
    },
    {
     "data": {
      "text/html": [
       "<pre>| 3         | 0              | 5587       | 212                  | 268us            |</pre>"
      ],
      "text/plain": [
       "| 3         | 0              | 5587       | 212                  | 268us            |"
      ]
     },
     "metadata": {},
     "output_type": "display_data"
    },
    {
     "data": {
      "text/html": [
       "<pre>| 4         | 0              | 5563       | 212                  | 313us            |</pre>"
      ],
      "text/plain": [
       "| 4         | 0              | 5563       | 212                  | 313us            |"
      ]
     },
     "metadata": {},
     "output_type": "display_data"
    },
    {
     "data": {
      "text/html": [
       "<pre>| 5         | 0              | 5548       | 212                  | 383us            |</pre>"
      ],
      "text/plain": [
       "| 5         | 0              | 5548       | 212                  | 383us            |"
      ]
     },
     "metadata": {},
     "output_type": "display_data"
    },
    {
     "data": {
      "text/html": [
       "<pre>| 6         | 0              | 5495       | 212                  | 458us            |</pre>"
      ],
      "text/plain": [
       "| 6         | 0              | 5495       | 212                  | 458us            |"
      ]
     },
     "metadata": {},
     "output_type": "display_data"
    },
    {
     "data": {
      "text/html": [
       "<pre>| 7         | 0              | 5438       | 212                  | 557us            |</pre>"
      ],
      "text/plain": [
       "| 7         | 0              | 5438       | 212                  | 557us            |"
      ]
     },
     "metadata": {},
     "output_type": "display_data"
    },
    {
     "data": {
      "text/html": [
       "<pre>| 8         | 0              | 5376       | 212                  | 698us            |</pre>"
      ],
      "text/plain": [
       "| 8         | 0              | 5376       | 212                  | 698us            |"
      ]
     },
     "metadata": {},
     "output_type": "display_data"
    },
    {
     "data": {
      "text/html": [
       "<pre>| 9         | 0              | 5088       | 212                  | 916us            |</pre>"
      ],
      "text/plain": [
       "| 9         | 0              | 5088       | 212                  | 916us            |"
      ]
     },
     "metadata": {},
     "output_type": "display_data"
    },
    {
     "data": {
      "text/html": [
       "<pre>| 10        | 0              | 5071       | 212                  | 1.061ms          |</pre>"
      ],
      "text/plain": [
       "| 10        | 0              | 5071       | 212                  | 1.061ms          |"
      ]
     },
     "metadata": {},
     "output_type": "display_data"
    },
    {
     "data": {
      "text/html": [
       "<pre>| 11        | 0              | 5040       | 212                  | 1.289ms          |</pre>"
      ],
      "text/plain": [
       "| 11        | 0              | 5040       | 212                  | 1.289ms          |"
      ]
     },
     "metadata": {},
     "output_type": "display_data"
    },
    {
     "data": {
      "text/html": [
       "<pre>| 12        | 0              | 4994       | 212                  | 1.667ms          |</pre>"
      ],
      "text/plain": [
       "| 12        | 0              | 4994       | 212                  | 1.667ms          |"
      ]
     },
     "metadata": {},
     "output_type": "display_data"
    },
    {
     "data": {
      "text/html": [
       "<pre>| 13        | 0              | 4981       | 212                  | 1.927ms          |</pre>"
      ],
      "text/plain": [
       "| 13        | 0              | 4981       | 212                  | 1.927ms          |"
      ]
     },
     "metadata": {},
     "output_type": "display_data"
    },
    {
     "data": {
      "text/html": [
       "<pre>| 14        | 0              | 4949       | 212                  | 2.214ms          |</pre>"
      ],
      "text/plain": [
       "| 14        | 0              | 4949       | 212                  | 2.214ms          |"
      ]
     },
     "metadata": {},
     "output_type": "display_data"
    },
    {
     "data": {
      "text/html": [
       "<pre>| 15        | 0              | 4948       | 212                  | 2.563ms          |</pre>"
      ],
      "text/plain": [
       "| 15        | 0              | 4948       | 212                  | 2.563ms          |"
      ]
     },
     "metadata": {},
     "output_type": "display_data"
    },
    {
     "data": {
      "text/html": [
       "<pre>| 16        | 0              | 4932       | 212                  | 3.054ms          |</pre>"
      ],
      "text/plain": [
       "| 16        | 0              | 4932       | 212                  | 3.054ms          |"
      ]
     },
     "metadata": {},
     "output_type": "display_data"
    },
    {
     "data": {
      "text/html": [
       "<pre>| 17        | 0              | 4914       | 212                  | 3.82ms           |</pre>"
      ],
      "text/plain": [
       "| 17        | 0              | 4914       | 212                  | 3.82ms           |"
      ]
     },
     "metadata": {},
     "output_type": "display_data"
    },
    {
     "data": {
      "text/html": [
       "<pre>| 18        | 0              | 4913       | 212                  | 4.456ms          |</pre>"
      ],
      "text/plain": [
       "| 18        | 0              | 4913       | 212                  | 4.456ms          |"
      ]
     },
     "metadata": {},
     "output_type": "display_data"
    },
    {
     "data": {
      "text/html": [
       "<pre>| 19        | 0              | 4690       | 212                  | 5.202ms          |</pre>"
      ],
      "text/plain": [
       "| 19        | 0              | 4690       | 212                  | 5.202ms          |"
      ]
     },
     "metadata": {},
     "output_type": "display_data"
    },
    {
     "data": {
      "text/html": [
       "<pre>| 20        | 0              | 4681       | 212                  | 5.872ms          |</pre>"
      ],
      "text/plain": [
       "| 20        | 0              | 4681       | 212                  | 5.872ms          |"
      ]
     },
     "metadata": {},
     "output_type": "display_data"
    },
    {
     "data": {
      "text/html": [
       "<pre>| 21        | 0              | 4613       | 212                  | 6.583ms          |</pre>"
      ],
      "text/plain": [
       "| 21        | 0              | 4613       | 212                  | 6.583ms          |"
      ]
     },
     "metadata": {},
     "output_type": "display_data"
    },
    {
     "data": {
      "text/html": [
       "<pre>| 22        | 0              | 4592       | 212                  | 7.688ms          |</pre>"
      ],
      "text/plain": [
       "| 22        | 0              | 4592       | 212                  | 7.688ms          |"
      ]
     },
     "metadata": {},
     "output_type": "display_data"
    },
    {
     "data": {
      "text/html": [
       "<pre>| 23        | 1              | 4568       | 212                  | 8.467ms          |</pre>"
      ],
      "text/plain": [
       "| 23        | 1              | 4568       | 212                  | 8.467ms          |"
      ]
     },
     "metadata": {},
     "output_type": "display_data"
    },
    {
     "data": {
      "text/html": [
       "<pre>| 24        | 1              | 4506       | 212                  | 9.335ms          |</pre>"
      ],
      "text/plain": [
       "| 24        | 1              | 4506       | 212                  | 9.335ms          |"
      ]
     },
     "metadata": {},
     "output_type": "display_data"
    },
    {
     "data": {
      "text/html": [
       "<pre>| 25        | 1              | 4496       | 212                  | 10.57ms          |</pre>"
      ],
      "text/plain": [
       "| 25        | 1              | 4496       | 212                  | 10.57ms          |"
      ]
     },
     "metadata": {},
     "output_type": "display_data"
    },
    {
     "data": {
      "text/html": [
       "<pre>| 26        | 1              | 4398       | 212                  | 11.645ms         |</pre>"
      ],
      "text/plain": [
       "| 26        | 1              | 4398       | 212                  | 11.645ms         |"
      ]
     },
     "metadata": {},
     "output_type": "display_data"
    },
    {
     "data": {
      "text/html": [
       "<pre>| 27        | 1              | 4122       | 212                  | 12.801ms         |</pre>"
      ],
      "text/plain": [
       "| 27        | 1              | 4122       | 212                  | 12.801ms         |"
      ]
     },
     "metadata": {},
     "output_type": "display_data"
    },
    {
     "data": {
      "text/html": [
       "<pre>| 28        | 1              | 4101       | 212                  | 13.625ms         |</pre>"
      ],
      "text/plain": [
       "| 28        | 1              | 4101       | 212                  | 13.625ms         |"
      ]
     },
     "metadata": {},
     "output_type": "display_data"
    },
    {
     "data": {
      "text/html": [
       "<pre>| 29        | 1              | 4074       | 212                  | 14.626ms         |</pre>"
      ],
      "text/plain": [
       "| 29        | 1              | 4074       | 212                  | 14.626ms         |"
      ]
     },
     "metadata": {},
     "output_type": "display_data"
    },
    {
     "data": {
      "text/html": [
       "<pre>| 30        | 1              | 4071       | 212                  | 15.654ms         |</pre>"
      ],
      "text/plain": [
       "| 30        | 1              | 4071       | 212                  | 15.654ms         |"
      ]
     },
     "metadata": {},
     "output_type": "display_data"
    },
    {
     "data": {
      "text/html": [
       "<pre>| 31        | 1              | 4057       | 212                  | 16.642ms         |</pre>"
      ],
      "text/plain": [
       "| 31        | 1              | 4057       | 212                  | 16.642ms         |"
      ]
     },
     "metadata": {},
     "output_type": "display_data"
    },
    {
     "data": {
      "text/html": [
       "<pre>| 32        | 1              | 4056       | 212                  | 17.735ms         |</pre>"
      ],
      "text/plain": [
       "| 32        | 1              | 4056       | 212                  | 17.735ms         |"
      ]
     },
     "metadata": {},
     "output_type": "display_data"
    },
    {
     "data": {
      "text/html": [
       "<pre>| 33        | 1              | 4055       | 212                  | 19.332ms         |</pre>"
      ],
      "text/plain": [
       "| 33        | 1              | 4055       | 212                  | 19.332ms         |"
      ]
     },
     "metadata": {},
     "output_type": "display_data"
    },
    {
     "data": {
      "text/html": [
       "<pre>| 34        | 1              | 4042       | 212                  | 20.706ms         |</pre>"
      ],
      "text/plain": [
       "| 34        | 1              | 4042       | 212                  | 20.706ms         |"
      ]
     },
     "metadata": {},
     "output_type": "display_data"
    },
    {
     "data": {
      "text/html": [
       "<pre>| 35        | 2              | 4014       | 212                  | 22.113ms         |</pre>"
      ],
      "text/plain": [
       "| 35        | 2              | 4014       | 212                  | 22.113ms         |"
      ]
     },
     "metadata": {},
     "output_type": "display_data"
    },
    {
     "data": {
      "text/html": [
       "<pre>| 36        | 2              | 3711       | 212                  | 23.685ms         |</pre>"
      ],
      "text/plain": [
       "| 36        | 2              | 3711       | 212                  | 23.685ms         |"
      ]
     },
     "metadata": {},
     "output_type": "display_data"
    },
    {
     "data": {
      "text/html": [
       "<pre>| 37        | 3              | 3707       | 212                  | 25.331ms         |</pre>"
      ],
      "text/plain": [
       "| 37        | 3              | 3707       | 212                  | 25.331ms         |"
      ]
     },
     "metadata": {},
     "output_type": "display_data"
    },
    {
     "data": {
      "text/html": [
       "<pre>| 38        | 5              | 2661       | 640                  | 27.118ms         |</pre>"
      ],
      "text/plain": [
       "| 38        | 5              | 2661       | 640                  | 27.118ms         |"
      ]
     },
     "metadata": {},
     "output_type": "display_data"
    },
    {
     "data": {
      "text/html": [
       "<pre>| 39        | 5              | 2619       | 640                  | 28.411ms         |</pre>"
      ],
      "text/plain": [
       "| 39        | 5              | 2619       | 640                  | 28.411ms         |"
      ]
     },
     "metadata": {},
     "output_type": "display_data"
    },
    {
     "data": {
      "text/html": [
       "<pre>| 40        | 5              | 2595       | 640                  | 29.833ms         |</pre>"
      ],
      "text/plain": [
       "| 40        | 5              | 2595       | 640                  | 29.833ms         |"
      ]
     },
     "metadata": {},
     "output_type": "display_data"
    },
    {
     "data": {
      "text/html": [
       "<pre>| 41        | 5              | 2593       | 640                  | 31.224ms         |</pre>"
      ],
      "text/plain": [
       "| 41        | 5              | 2593       | 640                  | 31.224ms         |"
      ]
     },
     "metadata": {},
     "output_type": "display_data"
    },
    {
     "data": {
      "text/html": [
       "<pre>| 42        | 5              | 2576       | 640                  | 32.85ms          |</pre>"
      ],
      "text/plain": [
       "| 42        | 5              | 2576       | 640                  | 32.85ms          |"
      ]
     },
     "metadata": {},
     "output_type": "display_data"
    },
    {
     "data": {
      "text/html": [
       "<pre>| 43        | 5              | 2551       | 640                  | 34.47ms          |</pre>"
      ],
      "text/plain": [
       "| 43        | 5              | 2551       | 640                  | 34.47ms          |"
      ]
     },
     "metadata": {},
     "output_type": "display_data"
    },
    {
     "data": {
      "text/html": [
       "<pre>| 44        | 5              | 2544       | 640                  | 36.051ms         |</pre>"
      ],
      "text/plain": [
       "| 44        | 5              | 2544       | 640                  | 36.051ms         |"
      ]
     },
     "metadata": {},
     "output_type": "display_data"
    },
    {
     "data": {
      "text/html": [
       "<pre>| 45        | 5              | 2538       | 640                  | 37.627ms         |</pre>"
      ],
      "text/plain": [
       "| 45        | 5              | 2538       | 640                  | 37.627ms         |"
      ]
     },
     "metadata": {},
     "output_type": "display_data"
    },
    {
     "data": {
      "text/html": [
       "<pre>| 46        | 5              | 2533       | 640                  | 39.176ms         |</pre>"
      ],
      "text/plain": [
       "| 46        | 5              | 2533       | 640                  | 39.176ms         |"
      ]
     },
     "metadata": {},
     "output_type": "display_data"
    },
    {
     "data": {
      "text/html": [
       "<pre>| 47        | 5              | 2530       | 640                  | 40.797ms         |</pre>"
      ],
      "text/plain": [
       "| 47        | 5              | 2530       | 640                  | 40.797ms         |"
      ]
     },
     "metadata": {},
     "output_type": "display_data"
    },
    {
     "data": {
      "text/html": [
       "<pre>| 48        | 5              | 2521       | 640                  | 42.609ms         |</pre>"
      ],
      "text/plain": [
       "| 48        | 5              | 2521       | 640                  | 42.609ms         |"
      ]
     },
     "metadata": {},
     "output_type": "display_data"
    },
    {
     "data": {
      "text/html": [
       "<pre>| 49        | 5              | 2511       | 640                  | 44.434ms         |</pre>"
      ],
      "text/plain": [
       "| 49        | 5              | 2511       | 640                  | 44.434ms         |"
      ]
     },
     "metadata": {},
     "output_type": "display_data"
    },
    {
     "data": {
      "text/html": [
       "<pre>| Final     | 5              | -          | 640                  | 46.272ms         |</pre>"
      ],
      "text/plain": [
       "| Final     | 5              | -          | 640                  | 46.272ms         |"
      ]
     },
     "metadata": {},
     "output_type": "display_data"
    },
    {
     "data": {
      "text/html": [
       "<pre>+-----------+----------------+------------+----------------------+------------------+</pre>"
      ],
      "text/plain": [
       "+-----------+----------------+------------+----------------------+------------------+"
      ]
     },
     "metadata": {},
     "output_type": "display_data"
    },
    {
     "data": {
      "text/html": [
       "<pre>Pattern mining complete. Found 5 unique closed patterns.</pre>"
      ],
      "text/plain": [
       "Pattern mining complete. Found 5 unique closed patterns."
      ]
     },
     "metadata": {},
     "output_type": "display_data"
    }
   ],
   "source": [
    "min_support = int(train.num_rows()*1e-03)\n",
    "top5_freq_patterns = gl.frequent_pattern_mining.create(train, 'Item',\n",
    "                                                       features=['Receipt', 'StoreNum'],\n",
    "                                                       min_support=min_support,\n",
    "                                                       max_patterns=5,\n",
    "                                                       min_length=4)"
   ]
  },
  {
   "cell_type": "code",
   "execution_count": 14,
   "metadata": {
    "collapsed": false
   },
   "outputs": [
    {
     "name": "stdout",
     "output_type": "stream",
     "text": [
      "Class                         : FrequentPatternMiner\n",
      "\n",
      "Model fields\n",
      "------------\n",
      "Min support                   : 212\n",
      "Max patterns                  : 5\n",
      "Min pattern length            : 4\n",
      "\n",
      "Most frequent patterns\n",
      "----------------------\n",
      "['CoffeeEclair', 'HotCoffee', 'ApplePie', 'AlmondTwist']: 877\n",
      "['LemonLemonade', 'RaspberryCookie', 'LemonCookie', 'RaspberryLemonade']: 813\n",
      "['LemonLemonade', 'RaspberryCookie', 'LemonCookie', 'GreenTea']: 649\n",
      "['RaspberryCookie', 'LemonCookie', 'RaspberryLemonade', 'GreenTea']: 645\n",
      "['AppleTart', 'AppleDanish', 'AppleCroissant', 'CherrySoda']: 640\n",
      "\n"
     ]
    }
   ],
   "source": [
    "print top5_freq_patterns"
   ]
  },
  {
   "cell_type": "markdown",
   "metadata": {},
   "source": [
    "We can always save the trained model by calling:"
   ]
  },
  {
   "cell_type": "code",
   "execution_count": 15,
   "metadata": {
    "collapsed": true
   },
   "outputs": [],
   "source": [
    "top5_freq_patterns.save('top5_freq_patterns_model')"
   ]
  },
  {
   "cell_type": "markdown",
   "metadata": {},
   "source": [
    "### Business Application: Compute Association Rules and Make Predictions\n",
    "\n",
    "An association rule is an ordered pair of item sets (prefix $A$, prediction $B$) denoted $A\\Rightarrow B$ such that A and B are disjoint whereas $A\\cup B$ is frequent. The most popular criteria for scoring association rules is to measure the **confidence of the rule**: *the ratio of the support of $A\\cup B$ to the support of $A$*.\n",
    "\n",
    "$$\n",
    "Confidence(A\\Rightarrow B) = \\fraq{\\textrm{Supp}(A\\cup B)}{\\textrm{Supp}(A)}.\n",
    "$$\n",
    "\n",
    "The confidence of the rule $A\\Rightarrow B$ is our empirical estimate of the conditional probability for $B$ given $A$.\n",
    "\n",
    "One can make predictions using the **`predict()`** or **`predict_topk()`** method for single and multiple predictions respectively. The output of both the methods is an **SFrame** with the following columns:\n",
    "\n",
    "* **prefix**: The antecedent or left-hand side of an association rule. It must be a frequent pattern and a subset of the associated pattern.\n",
    "* **prediction**: The consequent or right-hand side of the association rule. It must be disjoint of the prefix.\n",
    "* **confidence**: The confidence of the association rule as defined above.\n",
    "* **prefix support**: The frequency of the prefix pattern in the training data.\n",
    "* **joint support**: The frequency of the co-occurrence ( prefix + prediction) in the training data"
   ]
  },
  {
   "cell_type": "code",
   "execution_count": 16,
   "metadata": {
    "collapsed": false
   },
   "outputs": [
    {
     "data": {
      "text/html": [
       "<pre>Preprocessing complete. Found 39293 unique transactions.</pre>"
      ],
      "text/plain": [
       "Preprocessing complete. Found 39293 unique transactions."
      ]
     },
     "metadata": {},
     "output_type": "display_data"
    }
   ],
   "source": [
    "predictions = top5_freq_patterns.predict(test)"
   ]
  },
  {
   "cell_type": "code",
   "execution_count": 17,
   "metadata": {
    "collapsed": false
   },
   "outputs": [
    {
     "name": "stdout",
     "output_type": "stream",
     "text": [
      "+---------+----------+----------------------------+--------------------+-----------------+----------------+\n",
      "| Receipt | StoreNum |           prefix           |     prediction     |    confidence   | prefix support |\n",
      "+---------+----------+----------------------------+--------------------+-----------------+----------------+\n",
      "|  35020  |    14    |             []             |   [CoffeeEclair]   | 0.0890356958378 |     73566      |\n",
      "|   6447  |    5     | [BlueberryTart, HotCoffee] | [ApricotCroissant] |  0.728793309438 |      1674      |\n",
      "|  12900  |    10    |      [BlueberryTart]       | [ApricotCroissant] |  0.412691996766 |      4948      |\n",
      "|  49658  |    20    |      [BlueberryTart]       | [ApricotCroissant] |  0.412691996766 |      4948      |\n",
      "|  20227  |    19    |    [RaspberryLemonade]     | [RaspberryCookie]  |  0.334982681841 |      4042      |\n",
      "|  30891  |    12    |      [BlueberryTart]       | [ApricotCroissant] |  0.412691996766 |      4948      |\n",
      "|  47850  |    2     |       [TuileCookie]        |  [MarzipanCookie]  |  0.399834710744 |      6050      |\n",
      "|  26659  |    3     |        [CasinoCake]        |  [ChocolateCake]   |  0.379670818505 |      4496      |\n",
      "|  28397  |    3     |        [CasinoCake]        |  [ChocolateCake]   |  0.379670818505 |      4496      |\n",
      "|  71521  |    3     |      [ApricotDanish]       |    [CherryTart]    |  0.458183129056 |      5548      |\n",
      "+---------+----------+----------------------------+--------------------+-----------------+----------------+\n",
      "+---------------+\n",
      "| joint support |\n",
      "+---------------+\n",
      "|      6550     |\n",
      "|      1220     |\n",
      "|      2042     |\n",
      "|      2042     |\n",
      "|      1354     |\n",
      "|      2042     |\n",
      "|      2419     |\n",
      "|      1707     |\n",
      "|      1707     |\n",
      "|      2542     |\n",
      "+---------------+\n",
      "[39293 rows x 7 columns]\n",
      "\n"
     ]
    }
   ],
   "source": [
    "predictions.print_rows(max_column_width=100)"
   ]
  },
  {
   "cell_type": "markdown",
   "metadata": {},
   "source": [
    "## Feature Engineering to help other ML Tasks in Pipeline \n",
    "\n",
    "### The `.extract_feature()` method\n",
    "\n",
    "Using the set of closed patterns, we can convert pattern data to binary features vectors. These feature vectors can be used for other machine learning tasks, such as **clustering** or **classification**. For each input pattern `x`, the `j-th` extracted feature `f_{x}[j]` is a binary indicator of whether the `j-th` closed pattern is contained in `x`.\n",
    "\n",
    "First, we train the **`top100_freq_patterns`** model as shown below:"
   ]
  },
  {
   "cell_type": "code",
   "execution_count": 18,
   "metadata": {
    "collapsed": false
   },
   "outputs": [
    {
     "data": {
      "text/html": [
       "<pre>Indexing complete. Found 50 unique items.</pre>"
      ],
      "text/plain": [
       "Indexing complete. Found 50 unique items."
      ]
     },
     "metadata": {},
     "output_type": "display_data"
    },
    {
     "data": {
      "text/html": [
       "<pre>Preprocessing complete. Found 73566 unique transactions.</pre>"
      ],
      "text/plain": [
       "Preprocessing complete. Found 73566 unique transactions."
      ]
     },
     "metadata": {},
     "output_type": "display_data"
    },
    {
     "data": {
      "text/html": [
       "<pre>Building frequent pattern tree.</pre>"
      ],
      "text/plain": [
       "Building frequent pattern tree."
      ]
     },
     "metadata": {},
     "output_type": "display_data"
    },
    {
     "data": {
      "text/html": [
       "<pre>+-----------+----------------+------------+----------------------+------------------+</pre>"
      ],
      "text/plain": [
       "+-----------+----------------+------------+----------------------+------------------+"
      ]
     },
     "metadata": {},
     "output_type": "display_data"
    },
    {
     "data": {
      "text/html": [
       "<pre>| Iteration | Num. Patterns  | Support    | Current Min Support  | Elapsed Time     |</pre>"
      ],
      "text/plain": [
       "| Iteration | Num. Patterns  | Support    | Current Min Support  | Elapsed Time     |"
      ]
     },
     "metadata": {},
     "output_type": "display_data"
    },
    {
     "data": {
      "text/html": [
       "<pre>+-----------+----------------+------------+----------------------+------------------+</pre>"
      ],
      "text/plain": [
       "+-----------+----------------+------------+----------------------+------------------+"
      ]
     },
     "metadata": {},
     "output_type": "display_data"
    },
    {
     "data": {
      "text/html": [
       "<pre>| 0         | 0              | 6550       | 126                  | 128us            |</pre>"
      ],
      "text/plain": [
       "| 0         | 0              | 6550       | 126                  | 128us            |"
      ]
     },
     "metadata": {},
     "output_type": "display_data"
    },
    {
     "data": {
      "text/html": [
       "<pre>| 1         | 0              | 6167       | 126                  | 183us            |</pre>"
      ],
      "text/plain": [
       "| 1         | 0              | 6167       | 126                  | 183us            |"
      ]
     },
     "metadata": {},
     "output_type": "display_data"
    },
    {
     "data": {
      "text/html": [
       "<pre>| 2         | 1              | 6050       | 126                  | 226us            |</pre>"
      ],
      "text/plain": [
       "| 2         | 1              | 6050       | 126                  | 226us            |"
      ]
     },
     "metadata": {},
     "output_type": "display_data"
    },
    {
     "data": {
      "text/html": [
       "<pre>| 3         | 3              | 5587       | 126                  | 272us            |</pre>"
      ],
      "text/plain": [
       "| 3         | 3              | 5587       | 126                  | 272us            |"
      ]
     },
     "metadata": {},
     "output_type": "display_data"
    },
    {
     "data": {
      "text/html": [
       "<pre>| 4         | 6              | 5563       | 126                  | 439us            |</pre>"
      ],
      "text/plain": [
       "| 4         | 6              | 5563       | 126                  | 439us            |"
      ]
     },
     "metadata": {},
     "output_type": "display_data"
    },
    {
     "data": {
      "text/html": [
       "<pre>| 5         | 10             | 5548       | 126                  | 522us            |</pre>"
      ],
      "text/plain": [
       "| 5         | 10             | 5548       | 126                  | 522us            |"
      ]
     },
     "metadata": {},
     "output_type": "display_data"
    },
    {
     "data": {
      "text/html": [
       "<pre>| 6         | 15             | 5495       | 126                  | 628us            |</pre>"
      ],
      "text/plain": [
       "| 6         | 15             | 5495       | 126                  | 628us            |"
      ]
     },
     "metadata": {},
     "output_type": "display_data"
    },
    {
     "data": {
      "text/html": [
       "<pre>| 7         | 21             | 5438       | 126                  | 765us            |</pre>"
      ],
      "text/plain": [
       "| 7         | 21             | 5438       | 126                  | 765us            |"
      ]
     },
     "metadata": {},
     "output_type": "display_data"
    },
    {
     "data": {
      "text/html": [
       "<pre>| 8         | 28             | 5376       | 126                  | 932us            |</pre>"
      ],
      "text/plain": [
       "| 8         | 28             | 5376       | 126                  | 932us            |"
      ]
     },
     "metadata": {},
     "output_type": "display_data"
    },
    {
     "data": {
      "text/html": [
       "<pre>| 9         | 36             | 5088       | 126                  | 10.29ms          |</pre>"
      ],
      "text/plain": [
       "| 9         | 36             | 5088       | 126                  | 10.29ms          |"
      ]
     },
     "metadata": {},
     "output_type": "display_data"
    },
    {
     "data": {
      "text/html": [
       "<pre>| 10        | 45             | 5071       | 126                  | 11.468ms         |</pre>"
      ],
      "text/plain": [
       "| 10        | 45             | 5071       | 126                  | 11.468ms         |"
      ]
     },
     "metadata": {},
     "output_type": "display_data"
    },
    {
     "data": {
      "text/html": [
       "<pre>| 11        | 55             | 5040       | 126                  | 11.843ms         |</pre>"
      ],
      "text/plain": [
       "| 11        | 55             | 5040       | 126                  | 11.843ms         |"
      ]
     },
     "metadata": {},
     "output_type": "display_data"
    },
    {
     "data": {
      "text/html": [
       "<pre>| 12        | 66             | 4994       | 126                  | 12.698ms         |</pre>"
      ],
      "text/plain": [
       "| 12        | 66             | 4994       | 126                  | 12.698ms         |"
      ]
     },
     "metadata": {},
     "output_type": "display_data"
    },
    {
     "data": {
      "text/html": [
       "<pre>| 13        | 78             | 4981       | 126                  | 13.277ms         |</pre>"
      ],
      "text/plain": [
       "| 13        | 78             | 4981       | 126                  | 13.277ms         |"
      ]
     },
     "metadata": {},
     "output_type": "display_data"
    },
    {
     "data": {
      "text/html": [
       "<pre>| 14        | 91             | 4949       | 126                  | 15.952ms         |</pre>"
      ],
      "text/plain": [
       "| 14        | 91             | 4949       | 126                  | 15.952ms         |"
      ]
     },
     "metadata": {},
     "output_type": "display_data"
    },
    {
     "data": {
      "text/html": [
       "<pre>| 15        | 100            | 4948       | 183                  | 17.642ms         |</pre>"
      ],
      "text/plain": [
       "| 15        | 100            | 4948       | 183                  | 17.642ms         |"
      ]
     },
     "metadata": {},
     "output_type": "display_data"
    },
    {
     "data": {
      "text/html": [
       "<pre>| 16        | 100            | 4932       | 199                  | 18.557ms         |</pre>"
      ],
      "text/plain": [
       "| 16        | 100            | 4932       | 199                  | 18.557ms         |"
      ]
     },
     "metadata": {},
     "output_type": "display_data"
    },
    {
     "data": {
      "text/html": [
       "<pre>| 17        | 100            | 4914       | 212                  | 19.854ms         |</pre>"
      ],
      "text/plain": [
       "| 17        | 100            | 4914       | 212                  | 19.854ms         |"
      ]
     },
     "metadata": {},
     "output_type": "display_data"
    },
    {
     "data": {
      "text/html": [
       "<pre>| 18        | 100            | 4913       | 219                  | 24.856ms         |</pre>"
      ],
      "text/plain": [
       "| 18        | 100            | 4913       | 219                  | 24.856ms         |"
      ]
     },
     "metadata": {},
     "output_type": "display_data"
    },
    {
     "data": {
      "text/html": [
       "<pre>| 19        | 100            | 4690       | 221                  | 25.693ms         |</pre>"
      ],
      "text/plain": [
       "| 19        | 100            | 4690       | 221                  | 25.693ms         |"
      ]
     },
     "metadata": {},
     "output_type": "display_data"
    },
    {
     "data": {
      "text/html": [
       "<pre>| 20        | 100            | 4681       | 223                  | 26.401ms         |</pre>"
      ],
      "text/plain": [
       "| 20        | 100            | 4681       | 223                  | 26.401ms         |"
      ]
     },
     "metadata": {},
     "output_type": "display_data"
    },
    {
     "data": {
      "text/html": [
       "<pre>| 21        | 100            | 4613       | 225                  | 27.211ms         |</pre>"
      ],
      "text/plain": [
       "| 21        | 100            | 4613       | 225                  | 27.211ms         |"
      ]
     },
     "metadata": {},
     "output_type": "display_data"
    },
    {
     "data": {
      "text/html": [
       "<pre>| 22        | 100            | 4592       | 227                  | 28.355ms         |</pre>"
      ],
      "text/plain": [
       "| 22        | 100            | 4592       | 227                  | 28.355ms         |"
      ]
     },
     "metadata": {},
     "output_type": "display_data"
    },
    {
     "data": {
      "text/html": [
       "<pre>| 23        | 100            | 4568       | 229                  | 29.26ms          |</pre>"
      ],
      "text/plain": [
       "| 23        | 100            | 4568       | 229                  | 29.26ms          |"
      ]
     },
     "metadata": {},
     "output_type": "display_data"
    },
    {
     "data": {
      "text/html": [
       "<pre>| 24        | 100            | 4506       | 230                  | 33.81ms          |</pre>"
      ],
      "text/plain": [
       "| 24        | 100            | 4506       | 230                  | 33.81ms          |"
      ]
     },
     "metadata": {},
     "output_type": "display_data"
    },
    {
     "data": {
      "text/html": [
       "<pre>| 25        | 100            | 4496       | 233                  | 37.653ms         |</pre>"
      ],
      "text/plain": [
       "| 25        | 100            | 4496       | 233                  | 37.653ms         |"
      ]
     },
     "metadata": {},
     "output_type": "display_data"
    },
    {
     "data": {
      "text/html": [
       "<pre>| 26        | 100            | 4398       | 236                  | 38.668ms         |</pre>"
      ],
      "text/plain": [
       "| 26        | 100            | 4398       | 236                  | 38.668ms         |"
      ]
     },
     "metadata": {},
     "output_type": "display_data"
    },
    {
     "data": {
      "text/html": [
       "<pre>| 27        | 100            | 4122       | 237                  | 39.631ms         |</pre>"
      ],
      "text/plain": [
       "| 27        | 100            | 4122       | 237                  | 39.631ms         |"
      ]
     },
     "metadata": {},
     "output_type": "display_data"
    },
    {
     "data": {
      "text/html": [
       "<pre>| 28        | 100            | 4101       | 237                  | 40.378ms         |</pre>"
      ],
      "text/plain": [
       "| 28        | 100            | 4101       | 237                  | 40.378ms         |"
      ]
     },
     "metadata": {},
     "output_type": "display_data"
    },
    {
     "data": {
      "text/html": [
       "<pre>| 29        | 100            | 4074       | 240                  | 45.482ms         |</pre>"
      ],
      "text/plain": [
       "| 29        | 100            | 4074       | 240                  | 45.482ms         |"
      ]
     },
     "metadata": {},
     "output_type": "display_data"
    },
    {
     "data": {
      "text/html": [
       "<pre>| 30        | 100            | 4071       | 241                  | 47.503ms         |</pre>"
      ],
      "text/plain": [
       "| 30        | 100            | 4071       | 241                  | 47.503ms         |"
      ]
     },
     "metadata": {},
     "output_type": "display_data"
    },
    {
     "data": {
      "text/html": [
       "<pre>| 31        | 100            | 4057       | 241                  | 49.41ms          |</pre>"
      ],
      "text/plain": [
       "| 31        | 100            | 4057       | 241                  | 49.41ms          |"
      ]
     },
     "metadata": {},
     "output_type": "display_data"
    },
    {
     "data": {
      "text/html": [
       "<pre>| 32        | 100            | 4056       | 241                  | 51.466ms         |</pre>"
      ],
      "text/plain": [
       "| 32        | 100            | 4056       | 241                  | 51.466ms         |"
      ]
     },
     "metadata": {},
     "output_type": "display_data"
    },
    {
     "data": {
      "text/html": [
       "<pre>| 33        | 100            | 4055       | 242                  | 53.697ms         |</pre>"
      ],
      "text/plain": [
       "| 33        | 100            | 4055       | 242                  | 53.697ms         |"
      ]
     },
     "metadata": {},
     "output_type": "display_data"
    },
    {
     "data": {
      "text/html": [
       "<pre>| 34        | 100            | 4042       | 243                  | 56.195ms         |</pre>"
      ],
      "text/plain": [
       "| 34        | 100            | 4042       | 243                  | 56.195ms         |"
      ]
     },
     "metadata": {},
     "output_type": "display_data"
    },
    {
     "data": {
      "text/html": [
       "<pre>| 35        | 100            | 4014       | 246                  | 59.074ms         |</pre>"
      ],
      "text/plain": [
       "| 35        | 100            | 4014       | 246                  | 59.074ms         |"
      ]
     },
     "metadata": {},
     "output_type": "display_data"
    },
    {
     "data": {
      "text/html": [
       "<pre>| 36        | 100            | 3711       | 247                  | 61.956ms         |</pre>"
      ],
      "text/plain": [
       "| 36        | 100            | 3711       | 247                  | 61.956ms         |"
      ]
     },
     "metadata": {},
     "output_type": "display_data"
    },
    {
     "data": {
      "text/html": [
       "<pre>| 37        | 100            | 3707       | 250                  | 68.373ms         |</pre>"
      ],
      "text/plain": [
       "| 37        | 100            | 3707       | 250                  | 68.373ms         |"
      ]
     },
     "metadata": {},
     "output_type": "display_data"
    },
    {
     "data": {
      "text/html": [
       "<pre>| 38        | 100            | 2661       | 259                  | 72.229ms         |</pre>"
      ],
      "text/plain": [
       "| 38        | 100            | 2661       | 259                  | 72.229ms         |"
      ]
     },
     "metadata": {},
     "output_type": "display_data"
    },
    {
     "data": {
      "text/html": [
       "<pre>| 39        | 100            | 2619       | 259                  | 75.719ms         |</pre>"
      ],
      "text/plain": [
       "| 39        | 100            | 2619       | 259                  | 75.719ms         |"
      ]
     },
     "metadata": {},
     "output_type": "display_data"
    },
    {
     "data": {
      "text/html": [
       "<pre>| 40        | 100            | 2595       | 259                  | 78.49ms          |</pre>"
      ],
      "text/plain": [
       "| 40        | 100            | 2595       | 259                  | 78.49ms          |"
      ]
     },
     "metadata": {},
     "output_type": "display_data"
    },
    {
     "data": {
      "text/html": [
       "<pre>| 41        | 100            | 2593       | 259                  | 81.046ms         |</pre>"
      ],
      "text/plain": [
       "| 41        | 100            | 2593       | 259                  | 81.046ms         |"
      ]
     },
     "metadata": {},
     "output_type": "display_data"
    },
    {
     "data": {
      "text/html": [
       "<pre>| 42        | 100            | 2576       | 259                  | 83.581ms         |</pre>"
      ],
      "text/plain": [
       "| 42        | 100            | 2576       | 259                  | 83.581ms         |"
      ]
     },
     "metadata": {},
     "output_type": "display_data"
    },
    {
     "data": {
      "text/html": [
       "<pre>| 43        | 100            | 2551       | 259                  | 86.333ms         |</pre>"
      ],
      "text/plain": [
       "| 43        | 100            | 2551       | 259                  | 86.333ms         |"
      ]
     },
     "metadata": {},
     "output_type": "display_data"
    },
    {
     "data": {
      "text/html": [
       "<pre>| 44        | 100            | 2544       | 259                  | 89.284ms         |</pre>"
      ],
      "text/plain": [
       "| 44        | 100            | 2544       | 259                  | 89.284ms         |"
      ]
     },
     "metadata": {},
     "output_type": "display_data"
    },
    {
     "data": {
      "text/html": [
       "<pre>| 45        | 100            | 2538       | 259                  | 92.283ms         |</pre>"
      ],
      "text/plain": [
       "| 45        | 100            | 2538       | 259                  | 92.283ms         |"
      ]
     },
     "metadata": {},
     "output_type": "display_data"
    },
    {
     "data": {
      "text/html": [
       "<pre>| 46        | 100            | 2533       | 259                  | 95.372ms         |</pre>"
      ],
      "text/plain": [
       "| 46        | 100            | 2533       | 259                  | 95.372ms         |"
      ]
     },
     "metadata": {},
     "output_type": "display_data"
    },
    {
     "data": {
      "text/html": [
       "<pre>| 47        | 100            | 2530       | 259                  | 98.393ms         |</pre>"
      ],
      "text/plain": [
       "| 47        | 100            | 2530       | 259                  | 98.393ms         |"
      ]
     },
     "metadata": {},
     "output_type": "display_data"
    },
    {
     "data": {
      "text/html": [
       "<pre>| 48        | 100            | 2521       | 259                  | 101.47ms         |</pre>"
      ],
      "text/plain": [
       "| 48        | 100            | 2521       | 259                  | 101.47ms         |"
      ]
     },
     "metadata": {},
     "output_type": "display_data"
    },
    {
     "data": {
      "text/html": [
       "<pre>| 49        | 100            | 2511       | 259                  | 104.547ms        |</pre>"
      ],
      "text/plain": [
       "| 49        | 100            | 2511       | 259                  | 104.547ms        |"
      ]
     },
     "metadata": {},
     "output_type": "display_data"
    },
    {
     "data": {
      "text/html": [
       "<pre>| Final     | 100            | -          | 259                  | 107.66ms         |</pre>"
      ],
      "text/plain": [
       "| Final     | 100            | -          | 259                  | 107.66ms         |"
      ]
     },
     "metadata": {},
     "output_type": "display_data"
    },
    {
     "data": {
      "text/html": [
       "<pre>+-----------+----------------+------------+----------------------+------------------+</pre>"
      ],
      "text/plain": [
       "+-----------+----------------+------------+----------------------+------------------+"
      ]
     },
     "metadata": {},
     "output_type": "display_data"
    },
    {
     "data": {
      "text/html": [
       "<pre>Pattern mining complete. Found 100 unique closed patterns.</pre>"
      ],
      "text/plain": [
       "Pattern mining complete. Found 100 unique closed patterns."
      ]
     },
     "metadata": {},
     "output_type": "display_data"
    }
   ],
   "source": [
    "top100_freq_patterns = gl.frequent_pattern_mining.create(train, 'Item',\n",
    "                                                         features=['Receipt', 'StoreNum'],\n",
    "                                                         min_support=1, # occurs at least once in our data record\n",
    "                                                         max_patterns = 100, # do not search for more than 100 patterns\n",
    "                                                         min_length=2) # test data have only one coffee product sold per tid . We search for patterns of at least 2 coffee products"
   ]
  },
  {
   "cell_type": "markdown",
   "metadata": {},
   "source": [
    "Here are the 100 unique closed patterns which are found frequent:"
   ]
  },
  {
   "cell_type": "code",
   "execution_count": 19,
   "metadata": {
    "collapsed": false
   },
   "outputs": [
    {
     "name": "stdout",
     "output_type": "stream",
     "text": [
      "+---------------------------------------------------+---------+\n",
      "|                      pattern                      | support |\n",
      "+---------------------------------------------------+---------+\n",
      "|            [CherryTart, ApricotDanish]            |   2542  |\n",
      "|           [TuileCookie, MarzipanCookie]           |   2419  |\n",
      "|          [ChocolateCake, ChocolateCoffee]         |   2176  |\n",
      "|           [GongolaisCookie, TruffleCake]          |   2131  |\n",
      "|           [OrangeJuice, CheeseCroissant]          |   2079  |\n",
      "|              [CherryTart, OperaCake]              |   2067  |\n",
      "|             [ApricotDanish, OperaCake]            |   2046  |\n",
      "|         [ApricotCroissant, BlueberryTart]         |   2042  |\n",
      "|           [StrawberryCake, NapoleonCake]          |   2032  |\n",
      "|              [CoffeeEclair, ApplePie]             |   1816  |\n",
      "|            [CoffeeEclair, AlmondTwist]            |   1788  |\n",
      "|              [ApplePie, AlmondTwist]              |   1785  |\n",
      "|             [BerryTart, BottledWater]             |   1784  |\n",
      "|               [LemonCake, LemonTart]              |   1779  |\n",
      "|           [CoffeeEclair, BlackberryTart]          |   1726  |\n",
      "|        [VanillaFrappuccino, ChocolateTart]        |   1723  |\n",
      "|            [ChocolateCake, CasinoCake]            |   1707  |\n",
      "|           [ChocolateCoffee, CasinoCake]           |   1702  |\n",
      "|             [HotCoffee, BlueberryTart]            |   1674  |\n",
      "|           [HotCoffee, ApricotCroissant]           |   1636  |\n",
      "|       [CherryTart, ApricotDanish, OperaCake]      |   1561  |\n",
      "|             [CoffeeEclair, HotCoffee]             |   1526  |\n",
      "|               [HotCoffee, ApplePie]               |   1522  |\n",
      "|              [HotCoffee, AlmondTwist]             |   1490  |\n",
      "|          [BlackberryTart, SingleEspresso]         |   1406  |\n",
      "|         [VanillaFrappuccino, WalnutCookie]        |   1381  |\n",
      "|           [CoffeeEclair, SingleEspresso]          |   1376  |\n",
      "|          [LemonLemonade, RaspberryCookie]         |   1366  |\n",
      "|           [RaspberryCookie, LemonCookie]          |   1363  |\n",
      "|            [LemonLemonade, LemonCookie]           |   1358  |\n",
      "|           [ChocolateTart, WalnutCookie]           |   1357  |\n",
      "|        [RaspberryCookie, RaspberryLemonade]       |   1354  |\n",
      "|       [CoffeeEclair, ApplePie, AlmondTwist]       |   1351  |\n",
      "|           [AppleDanish, AppleCroissant]           |   1349  |\n",
      "|          [LemonCookie, RaspberryLemonade]         |   1345  |\n",
      "|              [AppleTart, AppleDanish]             |   1344  |\n",
      "|            [AppleTart, AppleCroissant]            |   1343  |\n",
      "|         [LemonLemonade, RaspberryLemonade]        |   1333  |\n",
      "|    [ChocolateCake, ChocolateCoffee, CasinoCake]   |   1308  |\n",
      "|    [HotCoffee, ApricotCroissant, BlueberryTart]   |   1220  |\n",
      "|              [LemonCookie, GreenTea]              |   1117  |\n",
      "|             [AppleDanish, CherrySoda]             |   1112  |\n",
      "|        [CoffeeEclair, HotCoffee, ApplePie]        |   1109  |\n",
      "|            [RaspberryCookie, GreenTea]            |   1106  |\n",
      "|         [HotCoffee, ApplePie, AlmondTwist]        |   1100  |\n",
      "|             [LemonLemonade, GreenTea]             |   1092  |\n",
      "|            [AppleCroissant, CherrySoda]           |   1087  |\n",
      "|       [CoffeeEclair, HotCoffee, AlmondTwist]      |   1086  |\n",
      "|           [RaspberryLemonade, GreenTea]           |   1074  |\n",
      "|              [AppleTart, CherrySoda]              |   1065  |\n",
      "|   [CoffeeEclair, BlackberryTart, SingleEspresso]  |   1023  |\n",
      "|   [LemonLemonade, RaspberryCookie, LemonCookie]   |   1021  |\n",
      "| [VanillaFrappuccino, ChocolateTart, WalnutCookie] |   1016  |\n",
      "| [RaspberryCookie, LemonCookie, RaspberryLemonade] |   1012  |\n",
      "| [LemonLemonade, RaspberryCookie, RaspberryLemo... |   1012  |\n",
      "|  [LemonLemonade, LemonCookie, RaspberryLemonade]  |   1001  |\n",
      "|      [AppleTart, AppleDanish, AppleCroissant]     |   1000  |\n",
      "|  [CoffeeEclair, HotCoffee, ApplePie, AlmondTwist] |   877   |\n",
      "|      [RaspberryCookie, LemonCookie, GreenTea]     |   814   |\n",
      "| [LemonLemonade, RaspberryCookie, LemonCookie, ... |   813   |\n",
      "|     [AppleDanish, AppleCroissant, CherrySoda]     |   809   |\n",
      "|       [LemonLemonade, LemonCookie, GreenTea]      |   804   |\n",
      "|     [LemonCookie, RaspberryLemonade, GreenTea]    |   803   |\n",
      "|        [AppleTart, AppleDanish, CherrySoda]       |   798   |\n",
      "|     [LemonLemonade, RaspberryCookie, GreenTea]    |   795   |\n",
      "|   [RaspberryCookie, RaspberryLemonade, GreenTea]  |   787   |\n",
      "|      [AppleTart, AppleCroissant, CherrySoda]      |   783   |\n",
      "|    [LemonLemonade, RaspberryLemonade, GreenTea]   |   769   |\n",
      "| [LemonLemonade, RaspberryCookie, LemonCookie, ... |   649   |\n",
      "| [RaspberryCookie, LemonCookie, RaspberryLemona... |   645   |\n",
      "| [AppleTart, AppleDanish, AppleCroissant, Cherr... |   640   |\n",
      "| [LemonLemonade, LemonCookie, RaspberryLemonade... |   630   |\n",
      "| [LemonLemonade, RaspberryCookie, RaspberryLemo... |   620   |\n",
      "| [LemonLemonade, RaspberryCookie, LemonCookie, ... |   512   |\n",
      "|           [TuileCookie, StrawberryCake]           |   300   |\n",
      "|         [StrawberryCake, GongolaisCookie]         |   293   |\n",
      "|           [TuileCookie, GongolaisCookie]          |   293   |\n",
      "|              [TuileCookie, LemonCake]             |   284   |\n",
      "|              [TuileCookie, LemonTart]             |   283   |\n",
      "|            [TuileCookie, ChocolateCake]           |   281   |\n",
      "|              [OrangeJuice, LemonCake]             |   280   |\n",
      "|              [TuileCookie, BerryTart]             |   279   |\n",
      "|               [BerryTart, LemonCake]              |   274   |\n",
      "|             [TuileCookie, OrangeJuice]            |   274   |\n",
      "|            [CherryTart, StrawberryCake]           |   273   |\n",
      "|         [GongolaisCookie, MarzipanCookie]         |   271   |\n",
      "|         [OrangeJuice, VanillaFrappuccino]         |   271   |\n",
      "|             [TuileCookie, TruffleCake]            |   271   |\n",
      "|            [OrangeJuice, BottledWater]            |   270   |\n",
      "|            [GongolaisCookie, LemonCake]           |   268   |\n",
      "|          [TuileCookie, ApricotCroissant]          |   267   |\n",
      "|            [StrawberryCake, BerryTart]            |   266   |\n",
      "|           [TruffleCake, CheeseCroissant]          |   261   |\n",
      "|            [BerryTart, CheeseCroissant]           |   261   |\n",
      "|            [MarzipanCookie, BerryTart]            |   261   |\n",
      "|              [OrangeJuice, BerryTart]             |   260   |\n",
      "|          [StrawberryCake, MarzipanCookie]         |   260   |\n",
      "|              [CherryTart, LemonCake]              |   260   |\n",
      "|            [StrawberryCake, LemonCake]            |   259   |\n",
      "|             [CherryTart, OrangeJuice]             |   259   |\n",
      "+---------------------------------------------------+---------+\n",
      "[100 rows x 2 columns]\n",
      "\n"
     ]
    }
   ],
   "source": [
    "top100_freq_patterns.frequent_patterns.print_rows(num_rows=100, max_column_width=50)"
   ]
  },
  {
   "cell_type": "markdown",
   "metadata": {},
   "source": [
    "Next, we apply the **`extract_features()`** method of this newly trained **`top100_freq_patterns`** model on the **`test`** data set."
   ]
  },
  {
   "cell_type": "code",
   "execution_count": 20,
   "metadata": {
    "collapsed": false
   },
   "outputs": [
    {
     "data": {
      "text/html": [
       "<pre>Preprocessing complete. Found 73566 unique transactions.</pre>"
      ],
      "text/plain": [
       "Preprocessing complete. Found 73566 unique transactions."
      ]
     },
     "metadata": {},
     "output_type": "display_data"
    }
   ],
   "source": [
    "features = top100_freq_patterns.extract_features(train)"
   ]
  },
  {
   "cell_type": "markdown",
   "metadata": {},
   "source": [
    "Once the features are extracted, we can use them downstream in other applications such as **clustering**, **classification**, **churn prediction**, **recommender systems** etc."
   ]
  },
  {
   "cell_type": "code",
   "execution_count": 23,
   "metadata": {
    "collapsed": false
   },
   "outputs": [
    {
     "name": "stdout",
     "output_type": "stream",
     "text": [
      "+---------+----------+\n",
      "| Receipt | StoreNum |\n",
      "+---------+----------+\n",
      "|   8829  |    7     |\n",
      "|  35020  |    14    |\n",
      "|  38810  |    20    |\n",
      "|   6015  |    7     |\n",
      "|  68521  |    3     |\n",
      "|   6447  |    5     |\n",
      "|  12900  |    10    |\n",
      "|  49658  |    20    |\n",
      "|  20227  |    19    |\n",
      "|  47850  |    2     |\n",
      "+---------+----------+\n",
      "+-----------------------------------------------------------------------------------------------------+\n",
      "|                                          extracted_features                                         |\n",
      "+-----------------------------------------------------------------------------------------------------+\n",
      "| [0.0, 0.0, 0.0, 0.0, 0.0, 0.0, 0.0, 0.0, 0.0, 0.0, 0.0, 0.0, 0.0, 1.0, 0.0, 0.0, 0.0, 0.0, 0.0, ... |\n",
      "| [0.0, 0.0, 0.0, 0.0, 0.0, 0.0, 0.0, 0.0, 0.0, 0.0, 0.0, 0.0, 0.0, 0.0, 0.0, 0.0, 0.0, 0.0, 0.0, ... |\n",
      "| [0.0, 1.0, 0.0, 0.0, 0.0, 0.0, 0.0, 0.0, 0.0, 0.0, 0.0, 0.0, 0.0, 0.0, 0.0, 0.0, 0.0, 0.0, 0.0, ... |\n",
      "| [0.0, 0.0, 0.0, 0.0, 0.0, 0.0, 0.0, 0.0, 0.0, 0.0, 0.0, 0.0, 0.0, 0.0, 0.0, 0.0, 0.0, 0.0, 0.0, ... |\n",
      "| [0.0, 0.0, 0.0, 0.0, 0.0, 0.0, 0.0, 0.0, 0.0, 0.0, 0.0, 0.0, 0.0, 0.0, 0.0, 0.0, 0.0, 0.0, 0.0, ... |\n",
      "| [0.0, 0.0, 0.0, 0.0, 0.0, 0.0, 0.0, 0.0, 0.0, 0.0, 0.0, 0.0, 0.0, 0.0, 0.0, 0.0, 0.0, 0.0, 0.0, ... |\n",
      "| [0.0, 0.0, 0.0, 0.0, 0.0, 0.0, 0.0, 0.0, 0.0, 0.0, 0.0, 0.0, 0.0, 0.0, 0.0, 0.0, 0.0, 0.0, 0.0, ... |\n",
      "| [0.0, 0.0, 0.0, 0.0, 0.0, 0.0, 0.0, 0.0, 0.0, 0.0, 0.0, 0.0, 0.0, 0.0, 0.0, 0.0, 0.0, 0.0, 0.0, ... |\n",
      "| [0.0, 0.0, 0.0, 0.0, 0.0, 0.0, 0.0, 0.0, 0.0, 0.0, 0.0, 0.0, 0.0, 0.0, 0.0, 0.0, 0.0, 0.0, 0.0, ... |\n",
      "| [0.0, 0.0, 0.0, 0.0, 0.0, 0.0, 0.0, 0.0, 0.0, 0.0, 0.0, 0.0, 1.0, 0.0, 0.0, 0.0, 0.0, 0.0, 0.0, ... |\n",
      "+-----------------------------------------------------------------------------------------------------+\n",
      "[73566 rows x 3 columns]\n",
      "\n"
     ]
    }
   ],
   "source": [
    "features.print_rows(num_rows=10, max_row_width=120, max_column_width=100)"
   ]
  },
  {
   "cell_type": "markdown",
   "metadata": {},
   "source": [
    "### Example: Employee Space Clustering by using occurrences of frequency patterns\n",
    "\n",
    "First we provide an aggregated form of our data by selecting one **Selling Employee (`EmpId`)** at random."
   ]
  },
  {
   "cell_type": "code",
   "execution_count": 24,
   "metadata": {
    "collapsed": false
   },
   "outputs": [
    {
     "data": {
      "text/html": [
       "<div style=\"max-height:1000px;max-width:1500px;overflow:auto;\"><table frame=\"box\" rules=\"cols\">\n",
       "    <tr>\n",
       "        <th style=\"padding-left: 1em; padding-right: 1em; text-align: center\">Receipt</th>\n",
       "        <th style=\"padding-left: 1em; padding-right: 1em; text-align: center\">StoreNum</th>\n",
       "        <th style=\"padding-left: 1em; padding-right: 1em; text-align: center\">EmpId</th>\n",
       "    </tr>\n",
       "    <tr>\n",
       "        <td style=\"padding-left: 1em; padding-right: 1em; text-align: center; vertical-align: top\">8829</td>\n",
       "        <td style=\"padding-left: 1em; padding-right: 1em; text-align: center; vertical-align: top\">7</td>\n",
       "        <td style=\"padding-left: 1em; padding-right: 1em; text-align: center; vertical-align: top\">7</td>\n",
       "    </tr>\n",
       "    <tr>\n",
       "        <td style=\"padding-left: 1em; padding-right: 1em; text-align: center; vertical-align: top\">35020</td>\n",
       "        <td style=\"padding-left: 1em; padding-right: 1em; text-align: center; vertical-align: top\">14</td>\n",
       "        <td style=\"padding-left: 1em; padding-right: 1em; text-align: center; vertical-align: top\">14</td>\n",
       "    </tr>\n",
       "    <tr>\n",
       "        <td style=\"padding-left: 1em; padding-right: 1em; text-align: center; vertical-align: top\">38810</td>\n",
       "        <td style=\"padding-left: 1em; padding-right: 1em; text-align: center; vertical-align: top\">20</td>\n",
       "        <td style=\"padding-left: 1em; padding-right: 1em; text-align: center; vertical-align: top\">20</td>\n",
       "    </tr>\n",
       "    <tr>\n",
       "        <td style=\"padding-left: 1em; padding-right: 1em; text-align: center; vertical-align: top\">6015</td>\n",
       "        <td style=\"padding-left: 1em; padding-right: 1em; text-align: center; vertical-align: top\">7</td>\n",
       "        <td style=\"padding-left: 1em; padding-right: 1em; text-align: center; vertical-align: top\">7</td>\n",
       "    </tr>\n",
       "    <tr>\n",
       "        <td style=\"padding-left: 1em; padding-right: 1em; text-align: center; vertical-align: top\">68521</td>\n",
       "        <td style=\"padding-left: 1em; padding-right: 1em; text-align: center; vertical-align: top\">3</td>\n",
       "        <td style=\"padding-left: 1em; padding-right: 1em; text-align: center; vertical-align: top\">3</td>\n",
       "    </tr>\n",
       "    <tr>\n",
       "        <td style=\"padding-left: 1em; padding-right: 1em; text-align: center; vertical-align: top\">6447</td>\n",
       "        <td style=\"padding-left: 1em; padding-right: 1em; text-align: center; vertical-align: top\">5</td>\n",
       "        <td style=\"padding-left: 1em; padding-right: 1em; text-align: center; vertical-align: top\">5</td>\n",
       "    </tr>\n",
       "    <tr>\n",
       "        <td style=\"padding-left: 1em; padding-right: 1em; text-align: center; vertical-align: top\">12900</td>\n",
       "        <td style=\"padding-left: 1em; padding-right: 1em; text-align: center; vertical-align: top\">10</td>\n",
       "        <td style=\"padding-left: 1em; padding-right: 1em; text-align: center; vertical-align: top\">35</td>\n",
       "    </tr>\n",
       "    <tr>\n",
       "        <td style=\"padding-left: 1em; padding-right: 1em; text-align: center; vertical-align: top\">49658</td>\n",
       "        <td style=\"padding-left: 1em; padding-right: 1em; text-align: center; vertical-align: top\">20</td>\n",
       "        <td style=\"padding-left: 1em; padding-right: 1em; text-align: center; vertical-align: top\">20</td>\n",
       "    </tr>\n",
       "    <tr>\n",
       "        <td style=\"padding-left: 1em; padding-right: 1em; text-align: center; vertical-align: top\">20227</td>\n",
       "        <td style=\"padding-left: 1em; padding-right: 1em; text-align: center; vertical-align: top\">19</td>\n",
       "        <td style=\"padding-left: 1em; padding-right: 1em; text-align: center; vertical-align: top\">50</td>\n",
       "    </tr>\n",
       "    <tr>\n",
       "        <td style=\"padding-left: 1em; padding-right: 1em; text-align: center; vertical-align: top\">47850</td>\n",
       "        <td style=\"padding-left: 1em; padding-right: 1em; text-align: center; vertical-align: top\">2</td>\n",
       "        <td style=\"padding-left: 1em; padding-right: 1em; text-align: center; vertical-align: top\">23</td>\n",
       "    </tr>\n",
       "</table>\n",
       "[73566 rows x 3 columns]<br/>Note: Only the head of the SFrame is printed.<br/>You can use print_rows(num_rows=m, num_columns=n) to print more rows and columns.\n",
       "</div>"
      ],
      "text/plain": [
       "Columns:\n",
       "\tReceipt\tint\n",
       "\tStoreNum\tint\n",
       "\tEmpId\tint\n",
       "\n",
       "Rows: 73566\n",
       "\n",
       "Data:\n",
       "+---------+----------+-------+\n",
       "| Receipt | StoreNum | EmpId |\n",
       "+---------+----------+-------+\n",
       "|   8829  |    7     |   7   |\n",
       "|  35020  |    14    |   14  |\n",
       "|  38810  |    20    |   20  |\n",
       "|   6015  |    7     |   7   |\n",
       "|  68521  |    3     |   3   |\n",
       "|   6447  |    5     |   5   |\n",
       "|  12900  |    10    |   35  |\n",
       "|  49658  |    20    |   20  |\n",
       "|  20227  |    19    |   50  |\n",
       "|  47850  |    2     |   23  |\n",
       "+---------+----------+-------+\n",
       "[73566 rows x 3 columns]\n",
       "Note: Only the head of the SFrame is printed.\n",
       "You can use print_rows(num_rows=m, num_columns=n) to print more rows and columns."
      ]
     },
     "execution_count": 24,
     "metadata": {},
     "output_type": "execute_result"
    }
   ],
   "source": [
    "emps = train.groupby(['Receipt', 'StoreNum'],\n",
    "                     {'EmpId': agg.SELECT_ONE('EmpId')})\n",
    "emps"
   ]
  },
  {
   "cell_type": "markdown",
   "metadata": {},
   "source": [
    "Next, we count the instances that each of the **`top100_freq_patterns`** occurs per **`EmpId`**."
   ]
  },
  {
   "cell_type": "code",
   "execution_count": 25,
   "metadata": {
    "collapsed": false
   },
   "outputs": [
    {
     "data": {
      "text/html": [
       "<div style=\"max-height:1000px;max-width:1500px;overflow:auto;\"><table frame=\"box\" rules=\"cols\">\n",
       "    <tr>\n",
       "        <th style=\"padding-left: 1em; padding-right: 1em; text-align: center\">EmpId</th>\n",
       "        <th style=\"padding-left: 1em; padding-right: 1em; text-align: center\">all_features</th>\n",
       "    </tr>\n",
       "    <tr>\n",
       "        <td style=\"padding-left: 1em; padding-right: 1em; text-align: center; vertical-align: top\">49</td>\n",
       "        <td style=\"padding-left: 1em; padding-right: 1em; text-align: center; vertical-align: top\">[41.0, 53.0, 35.0, 42.0,<br>45.0, 30.0, 30.0, 31.0, ...</td>\n",
       "    </tr>\n",
       "    <tr>\n",
       "        <td style=\"padding-left: 1em; padding-right: 1em; text-align: center; vertical-align: top\">13</td>\n",
       "        <td style=\"padding-left: 1em; padding-right: 1em; text-align: center; vertical-align: top\">[126.0, 130.0, 95.0,<br>77.0, 91.0, 100.0, 10 ...</td>\n",
       "    </tr>\n",
       "    <tr>\n",
       "        <td style=\"padding-left: 1em; padding-right: 1em; text-align: center; vertical-align: top\">14</td>\n",
       "        <td style=\"padding-left: 1em; padding-right: 1em; text-align: center; vertical-align: top\">[140.0, 113.0, 107.0,<br>101.0, 116.0, 121.0, ...</td>\n",
       "    </tr>\n",
       "    <tr>\n",
       "        <td style=\"padding-left: 1em; padding-right: 1em; text-align: center; vertical-align: top\">48</td>\n",
       "        <td style=\"padding-left: 1em; padding-right: 1em; text-align: center; vertical-align: top\">[28.0, 34.0, 28.0, 23.0,<br>29.0, 23.0, 19.0, 23.0, ...</td>\n",
       "    </tr>\n",
       "    <tr>\n",
       "        <td style=\"padding-left: 1em; padding-right: 1em; text-align: center; vertical-align: top\">20</td>\n",
       "        <td style=\"padding-left: 1em; padding-right: 1em; text-align: center; vertical-align: top\">[133.0, 129.0, 123.0,<br>110.0, 109.0, 108.0, ...</td>\n",
       "    </tr>\n",
       "    <tr>\n",
       "        <td style=\"padding-left: 1em; padding-right: 1em; text-align: center; vertical-align: top\">12</td>\n",
       "        <td style=\"padding-left: 1em; padding-right: 1em; text-align: center; vertical-align: top\">[15.0, 19.0, 16.0, 14.0,<br>16.0, 11.0, 14.0, 13.0, ...</td>\n",
       "    </tr>\n",
       "    <tr>\n",
       "        <td style=\"padding-left: 1em; padding-right: 1em; text-align: center; vertical-align: top\">22</td>\n",
       "        <td style=\"padding-left: 1em; padding-right: 1em; text-align: center; vertical-align: top\">[52.0, 48.0, 37.0, 45.0,<br>46.0, 41.0, 35.0, 36.0, ...</td>\n",
       "    </tr>\n",
       "    <tr>\n",
       "        <td style=\"padding-left: 1em; padding-right: 1em; text-align: center; vertical-align: top\">36</td>\n",
       "        <td style=\"padding-left: 1em; padding-right: 1em; text-align: center; vertical-align: top\">[35.0, 35.0, 46.0, 38.0,<br>33.0, 30.0, 22.0, 32.0, ...</td>\n",
       "    </tr>\n",
       "    <tr>\n",
       "        <td style=\"padding-left: 1em; padding-right: 1em; text-align: center; vertical-align: top\">10</td>\n",
       "        <td style=\"padding-left: 1em; padding-right: 1em; text-align: center; vertical-align: top\">[38.0, 40.0, 35.0, 40.0,<br>38.0, 36.0, 36.0, 29.0, ...</td>\n",
       "    </tr>\n",
       "    <tr>\n",
       "        <td style=\"padding-left: 1em; padding-right: 1em; text-align: center; vertical-align: top\">29</td>\n",
       "        <td style=\"padding-left: 1em; padding-right: 1em; text-align: center; vertical-align: top\">[17.0, 10.0, 13.0, 19.0,<br>16.0, 13.0, 16.0, 19.0, ...</td>\n",
       "    </tr>\n",
       "</table>\n",
       "[50 rows x 2 columns]<br/>Note: Only the head of the SFrame is printed.<br/>You can use print_rows(num_rows=m, num_columns=n) to print more rows and columns.\n",
       "</div>"
      ],
      "text/plain": [
       "Columns:\n",
       "\tEmpId\tint\n",
       "\tall_features\tarray\n",
       "\n",
       "Rows: 50\n",
       "\n",
       "Data:\n",
       "+-------+-------------------------------+\n",
       "| EmpId |          all_features         |\n",
       "+-------+-------------------------------+\n",
       "|   49  | [41.0, 53.0, 35.0, 42.0, 4... |\n",
       "|   13  | [126.0, 130.0, 95.0, 77.0,... |\n",
       "|   14  | [140.0, 113.0, 107.0, 101.... |\n",
       "|   48  | [28.0, 34.0, 28.0, 23.0, 2... |\n",
       "|   20  | [133.0, 129.0, 123.0, 110.... |\n",
       "|   12  | [15.0, 19.0, 16.0, 14.0, 1... |\n",
       "|   22  | [52.0, 48.0, 37.0, 45.0, 4... |\n",
       "|   36  | [35.0, 35.0, 46.0, 38.0, 3... |\n",
       "|   10  | [38.0, 40.0, 35.0, 40.0, 3... |\n",
       "|   29  | [17.0, 10.0, 13.0, 19.0, 1... |\n",
       "+-------+-------------------------------+\n",
       "[50 rows x 2 columns]\n",
       "Note: Only the head of the SFrame is printed.\n",
       "You can use print_rows(num_rows=m, num_columns=n) to print more rows and columns."
      ]
     },
     "execution_count": 25,
     "metadata": {},
     "output_type": "execute_result"
    }
   ],
   "source": [
    "emp_space = emps.join(features).groupby('EmpId', {'all_features': agg.SUM('extracted_features')})\n",
    "emp_space"
   ]
  },
  {
   "cell_type": "markdown",
   "metadata": {},
   "source": [
    "Finally, we train a **kmeans** algorithm to produce a **3 centered cluster**."
   ]
  },
  {
   "cell_type": "code",
   "execution_count": 26,
   "metadata": {
    "collapsed": false
   },
   "outputs": [
    {
     "data": {
      "text/html": [
       "<pre>Batch size is larger than the input dataset. Switching to an exact Kmeans method.</pre>"
      ],
      "text/plain": [
       "Batch size is larger than the input dataset. Switching to an exact Kmeans method."
      ]
     },
     "metadata": {},
     "output_type": "display_data"
    },
    {
     "data": {
      "text/html": [
       "<pre>Choosing initial cluster centers with Kmeans++.</pre>"
      ],
      "text/plain": [
       "Choosing initial cluster centers with Kmeans++."
      ]
     },
     "metadata": {},
     "output_type": "display_data"
    },
    {
     "data": {
      "text/html": [
       "<pre>+---------------+-----------+</pre>"
      ],
      "text/plain": [
       "+---------------+-----------+"
      ]
     },
     "metadata": {},
     "output_type": "display_data"
    },
    {
     "data": {
      "text/html": [
       "<pre>| Center number | Row index |</pre>"
      ],
      "text/plain": [
       "| Center number | Row index |"
      ]
     },
     "metadata": {},
     "output_type": "display_data"
    },
    {
     "data": {
      "text/html": [
       "<pre>+---------------+-----------+</pre>"
      ],
      "text/plain": [
       "+---------------+-----------+"
      ]
     },
     "metadata": {},
     "output_type": "display_data"
    },
    {
     "data": {
      "text/html": [
       "<pre>| 0             | 43        |</pre>"
      ],
      "text/plain": [
       "| 0             | 43        |"
      ]
     },
     "metadata": {},
     "output_type": "display_data"
    },
    {
     "data": {
      "text/html": [
       "<pre>| 1             | 35        |</pre>"
      ],
      "text/plain": [
       "| 1             | 35        |"
      ]
     },
     "metadata": {},
     "output_type": "display_data"
    },
    {
     "data": {
      "text/html": [
       "<pre>| 2             | 4         |</pre>"
      ],
      "text/plain": [
       "| 2             | 4         |"
      ]
     },
     "metadata": {},
     "output_type": "display_data"
    },
    {
     "data": {
      "text/html": [
       "<pre>+---------------+-----------+</pre>"
      ],
      "text/plain": [
       "+---------------+-----------+"
      ]
     },
     "metadata": {},
     "output_type": "display_data"
    },
    {
     "data": {
      "text/html": [
       "<pre>Starting kmeans model training.</pre>"
      ],
      "text/plain": [
       "Starting kmeans model training."
      ]
     },
     "metadata": {},
     "output_type": "display_data"
    },
    {
     "data": {
      "text/html": [
       "<pre>Assigning points to initial cluster centers.</pre>"
      ],
      "text/plain": [
       "Assigning points to initial cluster centers."
      ]
     },
     "metadata": {},
     "output_type": "display_data"
    },
    {
     "data": {
      "text/html": [
       "<pre>+-----------+-------------------------------+</pre>"
      ],
      "text/plain": [
       "+-----------+-------------------------------+"
      ]
     },
     "metadata": {},
     "output_type": "display_data"
    },
    {
     "data": {
      "text/html": [
       "<pre>| Iteration | Number of changed assignments |</pre>"
      ],
      "text/plain": [
       "| Iteration | Number of changed assignments |"
      ]
     },
     "metadata": {},
     "output_type": "display_data"
    },
    {
     "data": {
      "text/html": [
       "<pre>+-----------+-------------------------------+</pre>"
      ],
      "text/plain": [
       "+-----------+-------------------------------+"
      ]
     },
     "metadata": {},
     "output_type": "display_data"
    },
    {
     "data": {
      "text/html": [
       "<pre>| 1         | 0                             |</pre>"
      ],
      "text/plain": [
       "| 1         | 0                             |"
      ]
     },
     "metadata": {},
     "output_type": "display_data"
    },
    {
     "data": {
      "text/html": [
       "<pre>+-----------+-------------------------------+</pre>"
      ],
      "text/plain": [
       "+-----------+-------------------------------+"
      ]
     },
     "metadata": {},
     "output_type": "display_data"
    }
   ],
   "source": [
    "cl_model = gl.kmeans.create(emp_space, \n",
    "                            features = ['all_features'], \n",
    "                            num_clusters=3)"
   ]
  },
  {
   "cell_type": "code",
   "execution_count": 27,
   "metadata": {
    "collapsed": false
   },
   "outputs": [
    {
     "data": {
      "text/html": [
       "<div style=\"max-height:1000px;max-width:1500px;overflow:auto;\"><table frame=\"box\" rules=\"cols\">\n",
       "    <tr>\n",
       "        <th style=\"padding-left: 1em; padding-right: 1em; text-align: center\">EmpId</th>\n",
       "        <th style=\"padding-left: 1em; padding-right: 1em; text-align: center\">all_features</th>\n",
       "        <th style=\"padding-left: 1em; padding-right: 1em; text-align: center\">cluster_id</th>\n",
       "    </tr>\n",
       "    <tr>\n",
       "        <td style=\"padding-left: 1em; padding-right: 1em; text-align: center; vertical-align: top\">49</td>\n",
       "        <td style=\"padding-left: 1em; padding-right: 1em; text-align: center; vertical-align: top\">[41.0, 53.0, 35.0, 42.0,<br>45.0, 30.0, 30.0, 31.0, ...</td>\n",
       "        <td style=\"padding-left: 1em; padding-right: 1em; text-align: center; vertical-align: top\">1</td>\n",
       "    </tr>\n",
       "    <tr>\n",
       "        <td style=\"padding-left: 1em; padding-right: 1em; text-align: center; vertical-align: top\">13</td>\n",
       "        <td style=\"padding-left: 1em; padding-right: 1em; text-align: center; vertical-align: top\">[126.0, 130.0, 95.0,<br>77.0, 91.0, 100.0, 10 ...</td>\n",
       "        <td style=\"padding-left: 1em; padding-right: 1em; text-align: center; vertical-align: top\">0</td>\n",
       "    </tr>\n",
       "    <tr>\n",
       "        <td style=\"padding-left: 1em; padding-right: 1em; text-align: center; vertical-align: top\">14</td>\n",
       "        <td style=\"padding-left: 1em; padding-right: 1em; text-align: center; vertical-align: top\">[140.0, 113.0, 107.0,<br>101.0, 116.0, 121.0, ...</td>\n",
       "        <td style=\"padding-left: 1em; padding-right: 1em; text-align: center; vertical-align: top\">2</td>\n",
       "    </tr>\n",
       "    <tr>\n",
       "        <td style=\"padding-left: 1em; padding-right: 1em; text-align: center; vertical-align: top\">48</td>\n",
       "        <td style=\"padding-left: 1em; padding-right: 1em; text-align: center; vertical-align: top\">[28.0, 34.0, 28.0, 23.0,<br>29.0, 23.0, 19.0, 23.0, ...</td>\n",
       "        <td style=\"padding-left: 1em; padding-right: 1em; text-align: center; vertical-align: top\">1</td>\n",
       "    </tr>\n",
       "    <tr>\n",
       "        <td style=\"padding-left: 1em; padding-right: 1em; text-align: center; vertical-align: top\">20</td>\n",
       "        <td style=\"padding-left: 1em; padding-right: 1em; text-align: center; vertical-align: top\">[133.0, 129.0, 123.0,<br>110.0, 109.0, 108.0, ...</td>\n",
       "        <td style=\"padding-left: 1em; padding-right: 1em; text-align: center; vertical-align: top\">2</td>\n",
       "    </tr>\n",
       "    <tr>\n",
       "        <td style=\"padding-left: 1em; padding-right: 1em; text-align: center; vertical-align: top\">12</td>\n",
       "        <td style=\"padding-left: 1em; padding-right: 1em; text-align: center; vertical-align: top\">[15.0, 19.0, 16.0, 14.0,<br>16.0, 11.0, 14.0, 13.0, ...</td>\n",
       "        <td style=\"padding-left: 1em; padding-right: 1em; text-align: center; vertical-align: top\">1</td>\n",
       "    </tr>\n",
       "    <tr>\n",
       "        <td style=\"padding-left: 1em; padding-right: 1em; text-align: center; vertical-align: top\">22</td>\n",
       "        <td style=\"padding-left: 1em; padding-right: 1em; text-align: center; vertical-align: top\">[52.0, 48.0, 37.0, 45.0,<br>46.0, 41.0, 35.0, 36.0, ...</td>\n",
       "        <td style=\"padding-left: 1em; padding-right: 1em; text-align: center; vertical-align: top\">1</td>\n",
       "    </tr>\n",
       "    <tr>\n",
       "        <td style=\"padding-left: 1em; padding-right: 1em; text-align: center; vertical-align: top\">36</td>\n",
       "        <td style=\"padding-left: 1em; padding-right: 1em; text-align: center; vertical-align: top\">[35.0, 35.0, 46.0, 38.0,<br>33.0, 30.0, 22.0, 32.0, ...</td>\n",
       "        <td style=\"padding-left: 1em; padding-right: 1em; text-align: center; vertical-align: top\">1</td>\n",
       "    </tr>\n",
       "    <tr>\n",
       "        <td style=\"padding-left: 1em; padding-right: 1em; text-align: center; vertical-align: top\">10</td>\n",
       "        <td style=\"padding-left: 1em; padding-right: 1em; text-align: center; vertical-align: top\">[38.0, 40.0, 35.0, 40.0,<br>38.0, 36.0, 36.0, 29.0, ...</td>\n",
       "        <td style=\"padding-left: 1em; padding-right: 1em; text-align: center; vertical-align: top\">1</td>\n",
       "    </tr>\n",
       "    <tr>\n",
       "        <td style=\"padding-left: 1em; padding-right: 1em; text-align: center; vertical-align: top\">29</td>\n",
       "        <td style=\"padding-left: 1em; padding-right: 1em; text-align: center; vertical-align: top\">[17.0, 10.0, 13.0, 19.0,<br>16.0, 13.0, 16.0, 19.0, ...</td>\n",
       "        <td style=\"padding-left: 1em; padding-right: 1em; text-align: center; vertical-align: top\">1</td>\n",
       "    </tr>\n",
       "</table>\n",
       "[50 rows x 3 columns]<br/>Note: Only the head of the SFrame is printed.<br/>You can use print_rows(num_rows=m, num_columns=n) to print more rows and columns.\n",
       "</div>"
      ],
      "text/plain": [
       "Columns:\n",
       "\tEmpId\tint\n",
       "\tall_features\tarray\n",
       "\tcluster_id\tint\n",
       "\n",
       "Rows: 50\n",
       "\n",
       "Data:\n",
       "+-------+-------------------------------+------------+\n",
       "| EmpId |          all_features         | cluster_id |\n",
       "+-------+-------------------------------+------------+\n",
       "|   49  | [41.0, 53.0, 35.0, 42.0, 4... |     1      |\n",
       "|   13  | [126.0, 130.0, 95.0, 77.0,... |     0      |\n",
       "|   14  | [140.0, 113.0, 107.0, 101.... |     2      |\n",
       "|   48  | [28.0, 34.0, 28.0, 23.0, 2... |     1      |\n",
       "|   20  | [133.0, 129.0, 123.0, 110.... |     2      |\n",
       "|   12  | [15.0, 19.0, 16.0, 14.0, 1... |     1      |\n",
       "|   22  | [52.0, 48.0, 37.0, 45.0, 4... |     1      |\n",
       "|   36  | [35.0, 35.0, 46.0, 38.0, 3... |     1      |\n",
       "|   10  | [38.0, 40.0, 35.0, 40.0, 3... |     1      |\n",
       "|   29  | [17.0, 10.0, 13.0, 19.0, 1... |     1      |\n",
       "+-------+-------------------------------+------------+\n",
       "[50 rows x 3 columns]\n",
       "Note: Only the head of the SFrame is printed.\n",
       "You can use print_rows(num_rows=m, num_columns=n) to print more rows and columns."
      ]
     },
     "execution_count": 27,
     "metadata": {},
     "output_type": "execute_result"
    }
   ],
   "source": [
    "emp_space['cluster_id'] = cl_model['cluster_id']['cluster_id']\n",
    "emp_space"
   ]
  },
  {
   "cell_type": "code",
   "execution_count": 29,
   "metadata": {
    "collapsed": false
   },
   "outputs": [
    {
     "data": {
      "application/javascript": [
       "$(\"head\").append($(\"<link/>\").attr({\n",
       "  rel:  \"stylesheet\",\n",
       "  type: \"text/css\",\n",
       "  href: \"//cdnjs.cloudflare.com/ajax/libs/font-awesome/4.1.0/css/font-awesome.min.css\"\n",
       "}));\n",
       "$(\"head\").append($(\"<link/>\").attr({\n",
       "  rel:  \"stylesheet\",\n",
       "  type: \"text/css\",\n",
       "  href: \"//dato.com/files/canvas/1.9/css/canvas.css\"\n",
       "}));\n",
       "\n",
       "            (function(){\n",
       "\n",
       "                var e = null;\n",
       "                if (typeof element == 'undefined') {\n",
       "                    var scripts = document.getElementsByTagName('script');\n",
       "                    var thisScriptTag = scripts[scripts.length-1];\n",
       "                    var parentDiv = thisScriptTag.parentNode;\n",
       "                    e = document.createElement('div');\n",
       "                    parentDiv.appendChild(e);\n",
       "                } else {\n",
       "                    e = element[0];\n",
       "                }\n",
       "\n",
       "                if (typeof requirejs !== 'undefined') {\n",
       "                    // disable load timeout; ipython_app.js is large and can take a while to load.\n",
       "                    requirejs.config({waitSeconds: 0});\n",
       "                }\n",
       "\n",
       "                require(['//dato.com/files/canvas/1.9/js/ipython_app.js'], function(IPythonApp){\n",
       "                    var app = new IPythonApp();\n",
       "                    app.attachView('sframe','Plots', {\"selected_variable\": {\"name\": [\"emp_space\"], \"descriptives\": {\"rows\": 50, \"columns\": 3}, \"view_component\": \"Plots\", \"view_file\": \"sframe\", \"view_params\": {\"y\": \"StoreNum\", \"x\": \"cluster_id\", \"columns\": [\"EmpId\", \"all_features\", \"cluster_id\"], \"view\": \"Bar Chart\"}, \"view_components\": [\"Summary\", \"Table\", \"Bar Chart\", \"BoxWhisker Plot\", \"Line Chart\", \"Scatter Plot\", \"Heat Map\", \"Plots\"], \"type\": \"SFrame\", \"columns\": [{\"dtype\": \"int\", \"name\": \"EmpId\"}, {\"dtype\": \"array\", \"name\": \"all_features\"}, {\"dtype\": \"int\", \"name\": \"cluster_id\"}], \"column_identifiers\": [\"EmpId\", \"cluster_id\", \"all_features\"]}, \"complete\": 1, \"ipython\": true, \"progress\": 1.0, \"data\": {\"grouped\": [[0, {\"count\": 6, \"std\": 4.988876515698588, \"min\": 3, \"max\": 18, \"sum\": 56, \"var\": 24.88888888888889, \"mean\": 9.333333333333334}], [1, {\"count\": 39, \"std\": 13.768633898155374, \"min\": 1, \"max\": 50, \"sum\": 1147, \"var\": 189.57527942143324, \"mean\": 29.41025641025641}], [2, {\"count\": 5, \"std\": 4.223742416388576, \"min\": 7, \"max\": 20, \"sum\": 72, \"var\": 17.840000000000003, \"mean\": 14.4}]], \"omitted\": 0}, \"columns\": [{\"dtype\": \"int\", \"name\": \"EmpId\"}, {\"dtype\": \"array\", \"name\": \"all_features\"}, {\"dtype\": \"int\", \"name\": \"cluster_id\"}]}, e);\n",
       "                });\n",
       "            })();\n",
       "        "
      ]
     },
     "metadata": {},
     "output_type": "display_data"
    }
   ],
   "source": [
    "gl.canvas.set_target('ipynb')\n",
    "emp_space.show(x='cluster_id', y = 'StoreNum', view='Bar Chart')"
   ]
  }
 ],
 "metadata": {
  "kernelspec": {
   "display_name": "Python 2",
   "language": "python",
   "name": "python2"
  },
  "language_info": {
   "codemirror_mode": {
    "name": "ipython",
    "version": 2
   },
   "file_extension": ".py",
   "mimetype": "text/x-python",
   "name": "python",
   "nbconvert_exporter": "python",
   "pygments_lexer": "ipython2",
   "version": "2.7.11"
  }
 },
 "nbformat": 4,
 "nbformat_minor": 0
}
