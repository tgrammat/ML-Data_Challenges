{
 "cells": [
  {
   "cell_type": "markdown",
   "metadata": {},
   "source": [
    "# Products Reviews: Analyzing unstructured text\n",
    "\n",
    "Data scientists are often faced with data sets that contain unstructured text in product review data, and must employ **natural language processing (NLP) techniques** in order to make it useful. **Sentiment analysis** refers to the use of NLP techniques to extract subjective information such as the *polarity of the text*, e.g., whether or not the author is speaking *positively* or *negatively* about some topic.\n",
    "\n",
    "Companies often have useful data which are hidden in large volumes of text such as:\n",
    "\n",
    "- **online reviews**\n",
    "- **social media posts** and **tweets**\n",
    "- **interactions with customers**, such as emails and call center transcripts\n",
    "\n",
    "For example, when shopping it can be challenging to decide between products with the same star rating. When this happens, shoppers often sift through the raw text of reviews to understand the strengths and weaknesses of each option.\n",
    "\n",
    "In this short note, we will show how to use **GraphLab Create's** **`sentiment_analysis`** toolkit to apply pre-trained models to predict sentiment for text data in these situations. More specifically, we are going to automate the task of determining product strengths and weaknesses from review text by following the steps below:\n",
    "\n",
    "1. Split the provided Amazon review text into sentences and applying a sentiment analysis model\n",
    "2. Tag documents that mention aspects of interest\n",
    "3. extract adjectives from raw text, and compare their use in positive and negative reviews\n",
    "4. summarizing the use of adjectives for tagged documents\n",
    "\n",
    "We w \n",
    "\n",
    "**Important Note:**\n",
    "\n",
    "***GraphLab Create*** *includes feature engineering objects that leverage **`spaCy`**, a high performance NLP package. Here we use it for extracting parts of speech and parsing reviews into sentences.*"
   ]
  },
  {
   "cell_type": "markdown",
   "metadata": {},
   "source": [
    "## Fire Up GraphLab Create"
   ]
  },
  {
   "cell_type": "code",
   "execution_count": 1,
   "metadata": {
    "collapsed": false
   },
   "outputs": [],
   "source": [
    "import graphlab as gl"
   ]
  },
  {
   "cell_type": "markdown",
   "metadata": {},
   "source": [
    "## Feature engineering: Applying NLP Pipeline"
   ]
  },
  {
   "cell_type": "code",
   "execution_count": 2,
   "metadata": {
    "collapsed": false
   },
   "outputs": [],
   "source": [
    "def nlp_pipeline(reviews, title, aspects):\n",
    "    \n",
    "    from graphlab.toolkits.text_analytics import trim_rare_words, split_by_sentence, extract_parts_of_speech, stopwords, PartOfSpeech\n",
    "    \n",
    "    print(title)\n",
    "    \n",
    "    print('1. Get reviews for this product')\n",
    "    reviews = reviews.filter_by(title, 'name')\n",
    "\n",
    "    print('2. Splitting reviews into sentences')\n",
    "    reviews['sentences'] = split_by_sentence(reviews['review'])\n",
    "    sentences = reviews.stack('sentences', 'sentence').dropna()\n",
    "\n",
    "    print('3. Tagging relevant reviews')\n",
    "    tags = gl.SFrame({'tag': aspects})\n",
    "    tagger_model = gl.data_matching.autotagger.create(tags, verbose=False)\n",
    "    tagged = tagger_model.tag(sentences, query_name='sentence', similarity_threshold=.3, verbose=False)\\\n",
    "                         .join(sentences, on='sentence')\n",
    "\n",
    "    print('4. Extracting adjectives')\n",
    "    tagged['cleaned']    = trim_rare_words(tagged['sentence'], stopwords=list(stopwords()))\n",
    "    tagged['adjectives'] = extract_parts_of_speech(tagged['cleaned'], [PartOfSpeech.ADJ])\n",
    "\n",
    "    print('5. Predicting sentence-level sentiment')\n",
    "    model = gl.sentiment_analysis.create(tagged, target=None, features=['review'])\n",
    "    tagged['sentiment']  = model.predict(tagged)\n",
    "    return tagged"
   ]
  },
  {
   "cell_type": "code",
   "execution_count": 3,
   "metadata": {
    "collapsed": false
   },
   "outputs": [
    {
     "name": "stderr",
     "output_type": "stream",
     "text": [
      "2016-05-25 14:48:11,533 [INFO] graphlab.cython.cy_server, 176: GraphLab Create v1.9 started. Logging: /tmp/graphlab_server_1464176888.log\n"
     ]
    },
    {
     "name": "stdout",
     "output_type": "stream",
     "text": [
      "This non-commercial license of GraphLab Create is assigned to tgrammat@gmail.com and will expire on September 21, 2016. For commercial licensing options, visit https://dato.com/buy/.\n"
     ]
    }
   ],
   "source": [
    "reviews = gl.SFrame('./amazon_baby.gl/')"
   ]
  },
  {
   "cell_type": "code",
   "execution_count": 4,
   "metadata": {
    "collapsed": false
   },
   "outputs": [
    {
     "data": {
      "text/html": [
       "<div style=\"max-height:1000px;max-width:1500px;overflow:auto;\"><table frame=\"box\" rules=\"cols\">\n",
       "    <tr>\n",
       "        <th style=\"padding-left: 1em; padding-right: 1em; text-align: center\">name</th>\n",
       "        <th style=\"padding-left: 1em; padding-right: 1em; text-align: center\">review</th>\n",
       "        <th style=\"padding-left: 1em; padding-right: 1em; text-align: center\">rating</th>\n",
       "    </tr>\n",
       "    <tr>\n",
       "        <td style=\"padding-left: 1em; padding-right: 1em; text-align: center; vertical-align: top\">Planetwise Flannel Wipes</td>\n",
       "        <td style=\"padding-left: 1em; padding-right: 1em; text-align: center; vertical-align: top\">These flannel wipes are<br>OK, but in my opinion ...</td>\n",
       "        <td style=\"padding-left: 1em; padding-right: 1em; text-align: center; vertical-align: top\">3.0</td>\n",
       "    </tr>\n",
       "    <tr>\n",
       "        <td style=\"padding-left: 1em; padding-right: 1em; text-align: center; vertical-align: top\">Planetwise Wipe Pouch</td>\n",
       "        <td style=\"padding-left: 1em; padding-right: 1em; text-align: center; vertical-align: top\">it came early and was not<br>disappointed. i love ...</td>\n",
       "        <td style=\"padding-left: 1em; padding-right: 1em; text-align: center; vertical-align: top\">5.0</td>\n",
       "    </tr>\n",
       "    <tr>\n",
       "        <td style=\"padding-left: 1em; padding-right: 1em; text-align: center; vertical-align: top\">Annas Dream Full Quilt<br>with 2 Shams ...</td>\n",
       "        <td style=\"padding-left: 1em; padding-right: 1em; text-align: center; vertical-align: top\">Very soft and comfortable<br>and warmer than it ...</td>\n",
       "        <td style=\"padding-left: 1em; padding-right: 1em; text-align: center; vertical-align: top\">5.0</td>\n",
       "    </tr>\n",
       "    <tr>\n",
       "        <td style=\"padding-left: 1em; padding-right: 1em; text-align: center; vertical-align: top\">Stop Pacifier Sucking<br>without tears with ...</td>\n",
       "        <td style=\"padding-left: 1em; padding-right: 1em; text-align: center; vertical-align: top\">This is a product well<br>worth the purchase.  I ...</td>\n",
       "        <td style=\"padding-left: 1em; padding-right: 1em; text-align: center; vertical-align: top\">5.0</td>\n",
       "    </tr>\n",
       "    <tr>\n",
       "        <td style=\"padding-left: 1em; padding-right: 1em; text-align: center; vertical-align: top\">Stop Pacifier Sucking<br>without tears with ...</td>\n",
       "        <td style=\"padding-left: 1em; padding-right: 1em; text-align: center; vertical-align: top\">All of my kids have cried<br>non-stop when I tried to ...</td>\n",
       "        <td style=\"padding-left: 1em; padding-right: 1em; text-align: center; vertical-align: top\">5.0</td>\n",
       "    </tr>\n",
       "    <tr>\n",
       "        <td style=\"padding-left: 1em; padding-right: 1em; text-align: center; vertical-align: top\">Stop Pacifier Sucking<br>without tears with ...</td>\n",
       "        <td style=\"padding-left: 1em; padding-right: 1em; text-align: center; vertical-align: top\">When the Binky Fairy came<br>to our house, we didn't ...</td>\n",
       "        <td style=\"padding-left: 1em; padding-right: 1em; text-align: center; vertical-align: top\">5.0</td>\n",
       "    </tr>\n",
       "    <tr>\n",
       "        <td style=\"padding-left: 1em; padding-right: 1em; text-align: center; vertical-align: top\">A Tale of Baby's Days<br>with Peter Rabbit ...</td>\n",
       "        <td style=\"padding-left: 1em; padding-right: 1em; text-align: center; vertical-align: top\">Lovely book, it's bound<br>tightly so you may no ...</td>\n",
       "        <td style=\"padding-left: 1em; padding-right: 1em; text-align: center; vertical-align: top\">4.0</td>\n",
       "    </tr>\n",
       "    <tr>\n",
       "        <td style=\"padding-left: 1em; padding-right: 1em; text-align: center; vertical-align: top\">Baby Tracker&amp;reg; - Daily<br>Childcare Journal, ...</td>\n",
       "        <td style=\"padding-left: 1em; padding-right: 1em; text-align: center; vertical-align: top\">Perfect for new parents.<br>We were able to keep ...</td>\n",
       "        <td style=\"padding-left: 1em; padding-right: 1em; text-align: center; vertical-align: top\">5.0</td>\n",
       "    </tr>\n",
       "    <tr>\n",
       "        <td style=\"padding-left: 1em; padding-right: 1em; text-align: center; vertical-align: top\">Baby Tracker&amp;reg; - Daily<br>Childcare Journal, ...</td>\n",
       "        <td style=\"padding-left: 1em; padding-right: 1em; text-align: center; vertical-align: top\">A friend of mine pinned<br>this product on Pinte ...</td>\n",
       "        <td style=\"padding-left: 1em; padding-right: 1em; text-align: center; vertical-align: top\">5.0</td>\n",
       "    </tr>\n",
       "    <tr>\n",
       "        <td style=\"padding-left: 1em; padding-right: 1em; text-align: center; vertical-align: top\">Baby Tracker&amp;reg; - Daily<br>Childcare Journal, ...</td>\n",
       "        <td style=\"padding-left: 1em; padding-right: 1em; text-align: center; vertical-align: top\">This has been an easy way<br>for my nanny to record ...</td>\n",
       "        <td style=\"padding-left: 1em; padding-right: 1em; text-align: center; vertical-align: top\">4.0</td>\n",
       "    </tr>\n",
       "</table>\n",
       "[183531 rows x 3 columns]<br/>Note: Only the head of the SFrame is printed.<br/>You can use print_rows(num_rows=m, num_columns=n) to print more rows and columns.\n",
       "</div>"
      ],
      "text/plain": [
       "Columns:\n",
       "\tname\tstr\n",
       "\treview\tstr\n",
       "\trating\tfloat\n",
       "\n",
       "Rows: 183531\n",
       "\n",
       "Data:\n",
       "+-------------------------------+-------------------------------+--------+\n",
       "|              name             |             review            | rating |\n",
       "+-------------------------------+-------------------------------+--------+\n",
       "|    Planetwise Flannel Wipes   | These flannel wipes are OK... |  3.0   |\n",
       "|     Planetwise Wipe Pouch     | it came early and was not ... |  5.0   |\n",
       "| Annas Dream Full Quilt wit... | Very soft and comfortable ... |  5.0   |\n",
       "| Stop Pacifier Sucking with... | This is a product well wor... |  5.0   |\n",
       "| Stop Pacifier Sucking with... | All of my kids have cried ... |  5.0   |\n",
       "| Stop Pacifier Sucking with... | When the Binky Fairy came ... |  5.0   |\n",
       "| A Tale of Baby's Days with... | Lovely book, it's bound ti... |  4.0   |\n",
       "| Baby Tracker&reg; - Daily ... | Perfect for new parents. W... |  5.0   |\n",
       "| Baby Tracker&reg; - Daily ... | A friend of mine pinned th... |  5.0   |\n",
       "| Baby Tracker&reg; - Daily ... | This has been an easy way ... |  4.0   |\n",
       "+-------------------------------+-------------------------------+--------+\n",
       "[183531 rows x 3 columns]\n",
       "Note: Only the head of the SFrame is printed.\n",
       "You can use print_rows(num_rows=m, num_columns=n) to print more rows and columns."
      ]
     },
     "execution_count": 4,
     "metadata": {},
     "output_type": "execute_result"
    }
   ],
   "source": [
    "reviews"
   ]
  },
  {
   "cell_type": "markdown",
   "metadata": {},
   "source": [
    "## Focus on chosen aspects about baby monitors\n",
    "\n",
    "First, we import helper function from **`helper_util.py`** file."
   ]
  },
  {
   "cell_type": "code",
   "execution_count": 5,
   "metadata": {
    "collapsed": false
   },
   "outputs": [],
   "source": [
    "from helper_util import *"
   ]
  },
  {
   "cell_type": "markdown",
   "metadata": {},
   "source": [
    "Next, we collect the baby monitor reviews:"
   ]
  },
  {
   "cell_type": "code",
   "execution_count": 6,
   "metadata": {
    "collapsed": false
   },
   "outputs": [
    {
     "data": {
      "text/html": [
       "<pre>Tokenizing...</pre>"
      ],
      "text/plain": [
       "Tokenizing..."
      ]
     },
     "metadata": {},
     "output_type": "display_data"
    },
    {
     "data": {
      "text/html": [
       "<pre>TF-IDF transform...</pre>"
      ],
      "text/plain": [
       "TF-IDF transform..."
      ]
     },
     "metadata": {},
     "output_type": "display_data"
    },
    {
     "data": {
      "text/html": [
       "<pre>Creating inverted index...</pre>"
      ],
      "text/plain": [
       "Creating inverted index..."
      ]
     },
     "metadata": {},
     "output_type": "display_data"
    },
    {
     "data": {
      "text/html": [
       "<pre>Creating query expansion model...</pre>"
      ],
      "text/plain": [
       "Creating query expansion model..."
      ]
     },
     "metadata": {},
     "output_type": "display_data"
    },
    {
     "data": {
      "text/html": [
       "<pre>Saving data for querying...</pre>"
      ],
      "text/plain": [
       "Saving data for querying..."
      ]
     },
     "metadata": {},
     "output_type": "display_data"
    }
   ],
   "source": [
    "reviews = search(reviews, 'monitor')"
   ]
  },
  {
   "cell_type": "code",
   "execution_count": 7,
   "metadata": {
    "collapsed": false
   },
   "outputs": [
    {
     "name": "stdout",
     "output_type": "stream",
     "text": [
      "+-------------------------------+-------------------------------+--------+\n",
      "|              name             |             review            | rating |\n",
      "+-------------------------------+-------------------------------+--------+\n",
      "| Baby Monitor - Direct Link... | Considering how horrible t... |  3.0   |\n",
      "| Graco ultraclear baby monitor | Only being able to compare... |  5.0   |\n",
      "| Graco ultraclear baby monitor | I am currently looking for... |  1.0   |\n",
      "| Graco ultraclear baby monitor | Love this monitor!  This m... |  5.0   |\n",
      "| Graco ultraclear baby monitor | I can't tell you how clear... |  5.0   |\n",
      "| Graco ultraclear baby monitor | After reading the reviews ... |  5.0   |\n",
      "| Graco ultraclear baby monitor | I'm a fan of Graco product... |  5.0   |\n",
      "| Graco ultraclear baby monitor | After trying 2 other monit... |  5.0   |\n",
      "|   900mhz Attachable Monitor   | First the pros:1.  The ran... |  2.0   |\n",
      "|   900mhz Attachable Monitor   | I have had my monitor for ... |  5.0   |\n",
      "|   900mhz Attachable Monitor   | I love this monitor. I can... |  5.0   |\n",
      "|   900mhz Attachable Monitor   | As a electrical engineer a... |  1.0   |\n",
      "|   900mhz Attachable Monitor   | Unless you are listening f... |  2.0   |\n",
      "| Fisher-Price Aquarium Monitor | This monitor is a great id... |  2.0   |\n",
      "| Fisher-Price Aquarium Monitor | This monitor was terrible!... |  2.0   |\n",
      "| Fisher-Price Aquarium Monitor | I BOUGHT THIS MONITOR THIN... |  1.0   |\n",
      "| Fisher-Price Aquarium Monitor | This monitor is horrible a... |  1.0   |\n",
      "| Fisher-Price Aquarium Monitor | I recieved this monitor as... |  4.0   |\n",
      "| Fisher-Price Aquarium Monitor | Great concept but really b... |  1.0   |\n",
      "| Fisher-Price Aquarium Monitor | I was disappointed to find... |  1.0   |\n",
      "| Fisher-Price Aquarium Monitor | My husband and I bought th... |  1.0   |\n",
      "| Fisher-Price Aquarium Monitor | This monitor is horrible a... |  1.0   |\n",
      "| Fisher-Price Aquarium Monitor | I LOVE THIS LIGHT SHOW!  M... |  5.0   |\n",
      "| Fisher-Price Aquarium Monitor | I am incredibly disappoint... |  1.0   |\n",
      "| Fisher-Price Aquarium Monitor | Even though I had read poo... |  1.0   |\n",
      "|     So Close Crib Monitor     | I think this monitor is ex... |  4.0   |\n",
      "|     So Close Crib Monitor     | My husband and I bought th... |  1.0   |\n",
      "|    Graco Decor Baby Monitor   | This is a good baby monito... |  5.0   |\n",
      "|  Samsung Ezview Baby Monitor  | So, like a fellow reviewer... |  4.0   |\n",
      "|  Samsung Ezview Baby Monitor  | I love this monitor. Discr... |  5.0   |\n",
      "|  Samsung Ezview Baby Monitor  | This monitor is great. I l... |  5.0   |\n",
      "|  Samsung Ezview Baby Monitor  | My mother purchased this m... |  1.0   |\n",
      "|  Samsung Ezview Baby Monitor  | Had this monitor for 2 yea... |  2.0   |\n",
      "|  Samsung Ezview Baby Monitor  | This product worked at fir... |  1.0   |\n",
      "|  Samsung Ezview Baby Monitor  | We received this monitor a... |  1.0   |\n",
      "|  Samsung Ezview Baby Monitor  | We were given this monitor... |  4.0   |\n",
      "|  Samsung Ezview Baby Monitor  | We received the monitor, S... |  1.0   |\n",
      "|  Samsung Ezview Baby Monitor  | I just wanted to point out... |  3.0   |\n",
      "|  Samsung Ezview Baby Monitor  | We received this as a gift... |  2.0   |\n",
      "|    Snuza Baby Monitor, Hero   | I really wanted to like th... |  2.0   |\n",
      "|    Snuza Baby Monitor, Hero   | I have no insights as to w... |  5.0   |\n",
      "|    Snuza Baby Monitor, Hero   | I can finally sleep when m... |  5.0   |\n",
      "|    Snuza Baby Monitor, Hero   | Read about this item to mo... |  5.0   |\n",
      "|    Snuza Baby Monitor, Hero   | After having a premature b... |  5.0   |\n",
      "|    Snuza Baby Monitor, Hero   | We bought one for each of ... |  3.0   |\n",
      "|    Snuza Baby Monitor, Hero   | If the battery lasted long... |  2.0   |\n",
      "|    Snuza Baby Monitor, Hero   | The monitor has put my min... |  5.0   |\n",
      "|    Snuza Baby Monitor, Hero   | It sounded good in concept... |  2.0   |\n",
      "|    Snuza Baby Monitor, Hero   | This little thing is SO do... |  5.0   |\n",
      "|    Snuza Baby Monitor, Hero   | Love it! Gives me peace of... |  5.0   |\n",
      "|    Snuza Baby Monitor, Hero   | We got nothing but false a... |  1.0   |\n",
      "|    Snuza Baby Monitor, Hero   | This is what folks should ... |  5.0   |\n",
      "|    Snuza Baby Monitor, Hero   | We loved the simplicity of... |  4.0   |\n",
      "|    Snuza Baby Monitor, Hero   | I love this product and us... |  4.0   |\n",
      "|    Snuza Baby Monitor, Hero   | I purchased this little mo... |  5.0   |\n",
      "|    Snuza Baby Monitor, Hero   | Monitor:We had no major pr... |  5.0   |\n",
      "|    Snuza Baby Monitor, Hero   | Whether it is just a place... |  5.0   |\n",
      "|    Snuza Baby Monitor, Hero   | I bought this product beca... |  5.0   |\n",
      "|    Snuza Baby Monitor, Hero   | This has helped me turn my... |  5.0   |\n",
      "|    Snuza Baby Monitor, Hero   | I finally decided to use t... |  5.0   |\n",
      "|    Snuza Baby Monitor, Hero   | I read a lot of reviews be... |  4.0   |\n",
      "|    Snuza Baby Monitor, Hero   | I gave this as a gift to a... |  5.0   |\n",
      "|    Snuza Baby Monitor, Hero   | Best investment ever! With... |  5.0   |\n",
      "|    Snuza Baby Monitor, Hero   | Our baby had really bad re... |  5.0   |\n",
      "|    Snuza Baby Monitor, Hero   | As new, first-time parents... |  5.0   |\n",
      "|    Snuza Baby Monitor, Hero   | My baby was ten weeks earl... |  5.0   |\n",
      "|    Snuza Baby Monitor, Hero   | Fabulous item. I'm a first... |  5.0   |\n",
      "|    Snuza Baby Monitor, Hero   | This item is a must have!!... |  5.0   |\n",
      "|    Snuza Baby Monitor, Hero   | Almost every night there w... |  2.0   |\n",
      "|    Snuza Baby Monitor, Hero   | So my daughter is a tummy ... |  5.0   |\n",
      "|    Snuza Baby Monitor, Hero   | We love the Snuza, it real... |  4.0   |\n",
      "|    Snuza Baby Monitor, Hero   | Best $100 we've ever spent... |  5.0   |\n",
      "|    Snuza Baby Monitor, Hero   | We tried to use this devic... |  1.0   |\n",
      "|    Snuza Baby Monitor, Hero   | I swear if I could only ke... |  5.0   |\n",
      "|    Snuza Baby Monitor, Hero   | Got this for my 3 mos son.... |  5.0   |\n",
      "|    Snuza Baby Monitor, Hero   | I purchased this Item afte... |  5.0   |\n",
      "|    Snuza Baby Monitor, Hero   | This is a great product an... |  5.0   |\n",
      "|    Snuza Baby Monitor, Hero   | My little guy only likes t... |  5.0   |\n",
      "|    Snuza Baby Monitor, Hero   | I have used the Snuza Hero... |  5.0   |\n",
      "|    Snuza Baby Monitor, Hero   | Three words: Peace of Mind... |  5.0   |\n",
      "|    Snuza Baby Monitor, Hero   | The reason I say you canno... |  5.0   |\n",
      "|    Snuza Baby Monitor, Hero   | My wife and I are Having A... |  5.0   |\n",
      "|    Snuza Baby Monitor, Hero   | I have not used the produc... |  3.0   |\n",
      "|    Snuza Baby Monitor, Hero   | The idea is good since the... |  2.0   |\n",
      "|    Snuza Baby Monitor, Hero   | I was struggling to put my... |  5.0   |\n",
      "|    Snuza Baby Monitor, Hero   | After I had my son I was a... |  5.0   |\n",
      "|    Snuza Baby Monitor, Hero   | My son has worn this every... |  5.0   |\n",
      "|    Snuza Baby Monitor, Hero   | This is a great product an... |  4.0   |\n",
      "|    Snuza Baby Monitor, Hero   | We set up our room with an... |  5.0   |\n",
      "|    Snuza Baby Monitor, Hero   | I was hesitant at first to... |  5.0   |\n",
      "|    Snuza Baby Monitor, Hero   | This is my first review of... |  5.0   |\n",
      "|    Snuza Baby Monitor, Hero   | Although I've had some fal... |  5.0   |\n",
      "|    Snuza Baby Monitor, Hero   | I had to play with it for ... |  5.0   |\n",
      "|    Snuza Baby Monitor, Hero   | My daughter's pediatrician... |  5.0   |\n",
      "|    Snuza Baby Monitor, Hero   | Purchased this for my frie... |  5.0   |\n",
      "|    Snuza Baby Monitor, Hero   | This is the older version,... |  5.0   |\n",
      "| 900MHz Baby Monitor 900MHz... | Super quiet unlike other m... |  5.0   |\n",
      "|    Lorex Video Baby Monitor   | Bought months ago and have... |  4.0   |\n",
      "+-------------------------------+-------------------------------+--------+\n",
      "[98 rows x 3 columns]\n",
      "\n"
     ]
    }
   ],
   "source": [
    "reviews.print_rows(num_rows=100,max_row_width=300)"
   ]
  },
  {
   "cell_type": "code",
   "execution_count": 8,
   "metadata": {
    "collapsed": false
   },
   "outputs": [
    {
     "name": "stdout",
     "output_type": "stream",
     "text": [
      "Considering how horrible the selection is these days for choosing a quality baby monitor that doesn't transmit to anyone and everyone who may be listening in, intentionally or unintentionally, this seems to be one of the best choices to make.  Your scrambled voice will sound like Donald Duck on a regular analog 46-49 mhz cordless phone or radio scanner, so it's at least a moderate roadblock for the average signal interceptor.  However, why on earth there is no 900 mhz (or higher) digital-spread-spectrum baby monitor on the market is beyond me.  So, this unit is one of the better compromises out there, and at ... on amazon.com, it is amazingly affordable. \n",
      "\n",
      "Only being able to compare this product with an old Fisher Price monitor I can say that this monitor is crystal clear. The old Fisher Price one gave out a constant fussy hum and picked up far to much noise around the room (eg the wind blowing past our windows). I'm confused though about the packaging between this Graco Ultra Clear Monitor and with the 'Graco Clear Range Monitor' the only apparent difference being 'microchip technology' while both are using 'telephone technology'. However I guess the extra $10 is worth it because this is definately crystal clear, without hissing and without interference. It genuinely only picks up our babies sounds. It is not interfering with our 2.4Ghz cordless phone and I have no idea about the review which says 'it's too loud'. Turn the volume all the way up and only when you put a monitor to your ear can you hear hissing, which is why you only need the volume set down to 2 or 3 (out of 4). It has two channels and so far I've not even had need to try a different channel due to static or interference. Who needs 2.4Ghz monitors (for greater range) like the Sony one- unless you plan on mowing the grass outside while monitoring? And the advantage here is you're provided with two monitors not just one. \n",
      "\n",
      "I am currently looking for a monitor for our second child.  We bought this one for our first child 2 years ago.  We thought we were buying quality, but this thing started getting more static at 3 months...then [just like the reader from MA] it stopped working completely.  What a waste of money!! \n",
      "\n",
      "Love this monitor!  This monitor is so clear... I can hear my baby move in his crib and the base is across the room from his crib.  From the day we brought him home from the hospital we have used this monitor and it has never failed us!  We recently traveled to another state to visit friends and took the monitor to use while we were there... our friends live in a condo complex with a pool.  This monitor worked from the pool... which was 4 units away from their unit and on the opposite side of the building.  (Don't worry... my friend was in the kitchen the whole time because her kids were sleeping in another room.)  My friends were so impressed that they gave away their monitor after we left and bought a GRACO Ultra Clear Monitor to use for their two boys.  So glad we have this one!  Highly recommend!!! \n",
      "\n",
      "I can't tell you how clear this monitor is!  I could hear my preemie baby sucking his pacifier with the base across the room from his crib, and that's not even something I normally hear when I'm with him.  Having two receivers is wonderful, I don't have to move one from room to room depending on where I'll be.  And not having batteries in the base really doesn't matter, because if the electricity is out, there's nothing else in the house to make noise that would prevent you from hearing baby.  It's not interrupted by our high powered cordless phones or the video monitor, either.  I highly recommend it! \n",
      "\n",
      "After reading the reviews I was very worried about all of the problems I read about.  I have not however encountered any of these with this monitor.  This monitor comes in very clear you can even hear the baby breathing!  I like the dual monitors I leave one in a stationary location and the other I carry around with me.  This way I have one on with the electricity but can also use a battery in the mobile one.  Once I read the reviews and decided on this monitor I did have trouble finding it.  I found it at Target.  I would definitly buy this product again. \n",
      "\n",
      "I'm a fan of Graco products in general, and this monitor does not disappoint.  The base is very sensitive, so it transmits even the smallest sounds from your baby's room.  The dual receivers work even when on different floors from the transmitter - in our 3-level, 2,400 sq ft house there's no spot I've found that doesn't get reception.  Best of all, the frequency doesn't cross our phones, computer network or any of our other electronics.  Highly recommended!! \n",
      "\n",
      "After trying 2 other monitors, this one is wonderful.  It gets great reception inside and out (I can get some yard work done!).  I have a 2-story house with a basement and get reception on all 3 levels.  Excellent product! \n",
      "\n",
      "First the pros:1.  The range on this monitor is fabulous.  We can pick up the sound from five houses away, down a city block.  All I really wanted to do was get a good signal deep in the backyard; this monitor has made it possible to take my toddler outside while the baby sleeps in his crib.2. I really like the graduated lights - green, yellow and red.  If there is some background noise in your room and you're not sure what you heard, the progressive lights help to confirm activity.3. I LOVE the portability! When packing up baby to go to a friends' house, there is no need to bring any power supplies!4. The manufacturer has great service.Now the bad:  It's true...this monitor stinks, mechanically.1. Upon opening the box, the parent unit picked up no sound, and the charging stand for the child unit did not light up, giving me no assurance that the child unit was being powered by the power supply.  A call to the manufacturer resulted in no-fuss delivery of new parts.2. Now, 6 months later, one of the child unit channels has gone defunct.  There are two channels, and we're using the only remaining channel.  Not comforting.  I will call the manufacturer again, not sure what the warranty is.Even if they do replace the latest part that has malfunctioned, it's hard for me to recommend this monitor despite the pluses. However, I hope they keep sending me replacement parts, because I really like the features of this monitor! \n",
      "\n",
      "I have had my monitor for 8 months now and I love it!! I have had no probelms with it what-so-ever! The best feature is the portable baby unit that attaches to her crib. I don't know what you'd do without that! So conveinent! I keep it on the charger durring the day, and attach it to her crib at night. It lasts all night, and the few times I've forgotten to turn it off and put it back in the morning, it's still working off the charger that next night! I do wish the parent unit was like this too, however, I haven't found it necessary...only for my own forgetful conveinence!I leave the parent unit plugged in by my bedside, but the few times I've used the battery and walked with it clipped to me, it was very easy, well heard, never cut in and out, and lasted a long time.I like the light gaging system too. As she is getting older, she has fussed more in her sleep without it being a true wake. Therefore, I can turn the monitor down low enough that the sleeping noises she makes do not keep me up all night, but if she truly wakes, I can hear it and look up to see I'm not dreaming! (which I have done quite a few times!) It's also nice if you are entertaining and purhaps, watching a movie. Being able to monitor the baby with the lights, without the interuptions of a noisy monitor is very nice. However, if you want to turn it up and hear every breath, it is very sensitive, and works this way attached to the crib rail no problem!I am very happy with this monitor and only hope it lasts for all the children I plan to have. I reccomend it to all my friends! \n",
      "\n"
     ]
    }
   ],
   "source": [
    "for review in reviews['review'][0:10]:\n",
    "    print review, '\\n'"
   ]
  },
  {
   "cell_type": "markdown",
   "metadata": {},
   "source": [
    "## Process reviews for the most common product"
   ]
  },
  {
   "cell_type": "markdown",
   "metadata": {},
   "source": [
    "First, we define the aspects of our current interest:"
   ]
  },
  {
   "cell_type": "code",
   "execution_count": 9,
   "metadata": {
    "collapsed": false
   },
   "outputs": [],
   "source": [
    "aspects = ['audio', 'price', 'signal', 'range', 'battery life']"
   ]
  },
  {
   "cell_type": "code",
   "execution_count": 7,
   "metadata": {
    "collapsed": false,
    "scrolled": false
   },
   "outputs": [
    {
     "name": "stdout",
     "output_type": "stream",
     "text": [
      "Snuza Baby Monitor, Hero\n",
      "1. Get reviews for this product\n",
      "2. Splitting reviews into sentences\n",
      "3. Tagging relevant reviews\n",
      "4. Extracting adjectives\n",
      "5. Predicting sentence-level sentiment"
     ]
    },
    {
     "data": {
      "text/html": [
       "<pre>WARNING: The number of feature dimensions in this problem is very large in comparison with the number of examples. Unless an appropriate regularization value is set, this model may not provide accurate predictions for a validation/test set.</pre>"
      ],
      "text/plain": [
       "WARNING: The number of feature dimensions in this problem is very large in comparison with the number of examples. Unless an appropriate regularization value is set, this model may not provide accurate predictions for a validation/test set."
      ]
     },
     "metadata": {},
     "output_type": "display_data"
    },
    {
     "data": {
      "text/html": [
       "<pre>Logistic regression:</pre>"
      ],
      "text/plain": [
       "Logistic regression:"
      ]
     },
     "metadata": {},
     "output_type": "display_data"
    },
    {
     "data": {
      "text/html": [
       "<pre>--------------------------------------------------------</pre>"
      ],
      "text/plain": [
       "--------------------------------------------------------"
      ]
     },
     "metadata": {},
     "output_type": "display_data"
    },
    {
     "data": {
      "text/html": [
       "<pre>Number of examples          : 27</pre>"
      ],
      "text/plain": [
       "Number of examples          : 27"
      ]
     },
     "metadata": {},
     "output_type": "display_data"
    },
    {
     "data": {
      "text/html": [
       "<pre>Number of classes           : 2</pre>"
      ],
      "text/plain": [
       "Number of classes           : 2"
      ]
     },
     "metadata": {},
     "output_type": "display_data"
    },
    {
     "data": {
      "text/html": [
       "<pre>Number of feature columns   : 1</pre>"
      ],
      "text/plain": [
       "Number of feature columns   : 1"
      ]
     },
     "metadata": {},
     "output_type": "display_data"
    },
    {
     "data": {
      "text/html": [
       "<pre>Number of unpacked features : 829</pre>"
      ],
      "text/plain": [
       "Number of unpacked features : 829"
      ]
     },
     "metadata": {},
     "output_type": "display_data"
    },
    {
     "data": {
      "text/html": [
       "<pre>Number of coefficients    : 830</pre>"
      ],
      "text/plain": [
       "Number of coefficients    : 830"
      ]
     },
     "metadata": {},
     "output_type": "display_data"
    },
    {
     "data": {
      "text/html": [
       "<pre>Starting L-BFGS</pre>"
      ],
      "text/plain": [
       "Starting L-BFGS"
      ]
     },
     "metadata": {},
     "output_type": "display_data"
    },
    {
     "data": {
      "text/html": [
       "<pre>--------------------------------------------------------</pre>"
      ],
      "text/plain": [
       "--------------------------------------------------------"
      ]
     },
     "metadata": {},
     "output_type": "display_data"
    },
    {
     "data": {
      "text/html": [
       "<pre>+-----------+----------+-----------+--------------+-------------------+</pre>"
      ],
      "text/plain": [
       "+-----------+----------+-----------+--------------+-------------------+"
      ]
     },
     "metadata": {},
     "output_type": "display_data"
    },
    {
     "data": {
      "text/html": [
       "<pre>| Iteration | Passes   | Step size | Elapsed Time | Training-accuracy |</pre>"
      ],
      "text/plain": [
       "| Iteration | Passes   | Step size | Elapsed Time | Training-accuracy |"
      ]
     },
     "metadata": {},
     "output_type": "display_data"
    },
    {
     "data": {
      "text/html": [
       "<pre>+-----------+----------+-----------+--------------+-------------------+</pre>"
      ],
      "text/plain": [
       "+-----------+----------+-----------+--------------+-------------------+"
      ]
     },
     "metadata": {},
     "output_type": "display_data"
    },
    {
     "data": {
      "text/html": [
       "<pre>| 1         | 3        | 0.037037  | 0.177281     | 1.000000          |</pre>"
      ],
      "text/plain": [
       "| 1         | 3        | 0.037037  | 0.177281     | 1.000000          |"
      ]
     },
     "metadata": {},
     "output_type": "display_data"
    },
    {
     "data": {
      "text/html": [
       "<pre>| 2         | 5        | 1.000000  | 0.193714     | 1.000000          |</pre>"
      ],
      "text/plain": [
       "| 2         | 5        | 1.000000  | 0.193714     | 1.000000          |"
      ]
     },
     "metadata": {},
     "output_type": "display_data"
    },
    {
     "data": {
      "text/html": [
       "<pre>| 3         | 6        | 1.000000  | 0.194641     | 1.000000          |</pre>"
      ],
      "text/plain": [
       "| 3         | 6        | 1.000000  | 0.194641     | 1.000000          |"
      ]
     },
     "metadata": {},
     "output_type": "display_data"
    },
    {
     "data": {
      "text/html": [
       "<pre>| 4         | 7        | 1.000000  | 0.195554     | 0.037037          |</pre>"
      ],
      "text/plain": [
       "| 4         | 7        | 1.000000  | 0.195554     | 0.037037          |"
      ]
     },
     "metadata": {},
     "output_type": "display_data"
    },
    {
     "data": {
      "text/html": [
       "<pre>| 5         | 9        | 1.000000  | 0.196850     | 1.000000          |</pre>"
      ],
      "text/plain": [
       "| 5         | 9        | 1.000000  | 0.196850     | 1.000000          |"
      ]
     },
     "metadata": {},
     "output_type": "display_data"
    },
    {
     "data": {
      "text/html": [
       "<pre>| 6         | 10       | 1.000000  | 0.197749     | 1.000000          |</pre>"
      ],
      "text/plain": [
       "| 6         | 10       | 1.000000  | 0.197749     | 1.000000          |"
      ]
     },
     "metadata": {},
     "output_type": "display_data"
    },
    {
     "data": {
      "text/html": [
       "<pre>+-----------+----------+-----------+--------------+-------------------+</pre>"
      ],
      "text/plain": [
       "+-----------+----------+-----------+--------------+-------------------+"
      ]
     },
     "metadata": {},
     "output_type": "display_data"
    },
    {
     "data": {
      "text/html": [
       "<pre>TERMINATED: Iteration limit reached.</pre>"
      ],
      "text/plain": [
       "TERMINATED: Iteration limit reached."
      ]
     },
     "metadata": {},
     "output_type": "display_data"
    },
    {
     "data": {
      "text/html": [
       "<pre>This model may not be optimal. To improve it, consider increasing `max_iterations`.</pre>"
      ],
      "text/plain": [
       "This model may not be optimal. To improve it, consider increasing `max_iterations`."
      ]
     },
     "metadata": {},
     "output_type": "display_data"
    },
    {
     "name": "stdout",
     "output_type": "stream",
     "text": [
      "\n"
     ]
    }
   ],
   "source": [
    "item_a = 'Snuza Baby Monitor, Hero'\n",
    "reviews_a = nlp_pipeline(reviews, item_a, aspects)"
   ]
  },
  {
   "cell_type": "code",
   "execution_count": 8,
   "metadata": {
    "collapsed": false
   },
   "outputs": [
    {
     "data": {
      "text/html": [
       "<div style=\"max-height:1000px;max-width:1500px;overflow:auto;\"><table frame=\"box\" rules=\"cols\">\n",
       "    <tr>\n",
       "        <th style=\"padding-left: 1em; padding-right: 1em; text-align: center\">sentence_id</th>\n",
       "        <th style=\"padding-left: 1em; padding-right: 1em; text-align: center\">sentence</th>\n",
       "        <th style=\"padding-left: 1em; padding-right: 1em; text-align: center\">tag</th>\n",
       "        <th style=\"padding-left: 1em; padding-right: 1em; text-align: center\">score</th>\n",
       "        <th style=\"padding-left: 1em; padding-right: 1em; text-align: center\">name</th>\n",
       "    </tr>\n",
       "    <tr>\n",
       "        <td style=\"padding-left: 1em; padding-right: 1em; text-align: center; vertical-align: top\">23</td>\n",
       "        <td style=\"padding-left: 1em; padding-right: 1em; text-align: center; vertical-align: top\">I know from experience<br>that just seconds can ...</td>\n",
       "        <td style=\"padding-left: 1em; padding-right: 1em; text-align: center; vertical-align: top\">range</td>\n",
       "        <td style=\"padding-left: 1em; padding-right: 1em; text-align: center; vertical-align: top\">0.333333333333</td>\n",
       "        <td style=\"padding-left: 1em; padding-right: 1em; text-align: center; vertical-align: top\">Snuza Baby Monitor, Hero</td>\n",
       "    </tr>\n",
       "    <tr>\n",
       "        <td style=\"padding-left: 1em; padding-right: 1em; text-align: center; vertical-align: top\">44</td>\n",
       "        <td style=\"padding-left: 1em; padding-right: 1em; text-align: center; vertical-align: top\">If the battery lasted<br>longer or was easier to ...</td>\n",
       "        <td style=\"padding-left: 1em; padding-right: 1em; text-align: center; vertical-align: top\">battery life</td>\n",
       "        <td style=\"padding-left: 1em; padding-right: 1em; text-align: center; vertical-align: top\">0.545454545455</td>\n",
       "        <td style=\"padding-left: 1em; padding-right: 1em; text-align: center; vertical-align: top\">Snuza Baby Monitor, Hero</td>\n",
       "    </tr>\n",
       "    <tr>\n",
       "        <td style=\"padding-left: 1em; padding-right: 1em; text-align: center; vertical-align: top\">45</td>\n",
       "        <td style=\"padding-left: 1em; padding-right: 1em; text-align: center; vertical-align: top\"> It works great and no<br>false alarms but it only ...</td>\n",
       "        <td style=\"padding-left: 1em; padding-right: 1em; text-align: center; vertical-align: top\">battery life</td>\n",
       "        <td style=\"padding-left: 1em; padding-right: 1em; text-align: center; vertical-align: top\">0.454545454545</td>\n",
       "        <td style=\"padding-left: 1em; padding-right: 1em; text-align: center; vertical-align: top\">Snuza Baby Monitor, Hero</td>\n",
       "    </tr>\n",
       "    <tr>\n",
       "        <td style=\"padding-left: 1em; padding-right: 1em; text-align: center; vertical-align: top\">71</td>\n",
       "        <td style=\"padding-left: 1em; padding-right: 1em; text-align: center; vertical-align: top\"> The big problem for me<br>was after the first ...</td>\n",
       "        <td style=\"padding-left: 1em; padding-right: 1em; text-align: center; vertical-align: top\">battery life</td>\n",
       "        <td style=\"padding-left: 1em; padding-right: 1em; text-align: center; vertical-align: top\">0.333333333333</td>\n",
       "        <td style=\"padding-left: 1em; padding-right: 1em; text-align: center; vertical-align: top\">Snuza Baby Monitor, Hero</td>\n",
       "    </tr>\n",
       "    <tr>\n",
       "        <td style=\"padding-left: 1em; padding-right: 1em; text-align: center; vertical-align: top\">72</td>\n",
       "        <td style=\"padding-left: 1em; padding-right: 1em; text-align: center; vertical-align: top\">I even tried to order one<br>directly from snuza ( ...</td>\n",
       "        <td style=\"padding-left: 1em; padding-right: 1em; text-align: center; vertical-align: top\">battery life</td>\n",
       "        <td style=\"padding-left: 1em; padding-right: 1em; text-align: center; vertical-align: top\">0.454545454545</td>\n",
       "        <td style=\"padding-left: 1em; padding-right: 1em; text-align: center; vertical-align: top\">Snuza Baby Monitor, Hero</td>\n",
       "    </tr>\n",
       "    <tr>\n",
       "        <td style=\"padding-left: 1em; padding-right: 1em; text-align: center; vertical-align: top\">74</td>\n",
       "        <td style=\"padding-left: 1em; padding-right: 1em; text-align: center; vertical-align: top\"> While it works perfect<br>when powered and the ...</td>\n",
       "        <td style=\"padding-left: 1em; padding-right: 1em; text-align: center; vertical-align: top\">battery life</td>\n",
       "        <td style=\"padding-left: 1em; padding-right: 1em; text-align: center; vertical-align: top\">0.357142857143</td>\n",
       "        <td style=\"padding-left: 1em; padding-right: 1em; text-align: center; vertical-align: top\">Snuza Baby Monitor, Hero</td>\n",
       "    </tr>\n",
       "    <tr>\n",
       "        <td style=\"padding-left: 1em; padding-right: 1em; text-align: center; vertical-align: top\">122</td>\n",
       "        <td style=\"padding-left: 1em; padding-right: 1em; text-align: center; vertical-align: top\">As a note for future<br>purchasers, read the ...</td>\n",
       "        <td style=\"padding-left: 1em; padding-right: 1em; text-align: center; vertical-align: top\">audio</td>\n",
       "        <td style=\"padding-left: 1em; padding-right: 1em; text-align: center; vertical-align: top\">0.333333333333</td>\n",
       "        <td style=\"padding-left: 1em; padding-right: 1em; text-align: center; vertical-align: top\">Snuza Baby Monitor, Hero</td>\n",
       "    </tr>\n",
       "    <tr>\n",
       "        <td style=\"padding-left: 1em; padding-right: 1em; text-align: center; vertical-align: top\">123</td>\n",
       "        <td style=\"padding-left: 1em; padding-right: 1em; text-align: center; vertical-align: top\"> The audible sound really<br>helps when the kid is in ...</td>\n",
       "        <td style=\"padding-left: 1em; padding-right: 1em; text-align: center; vertical-align: top\">audio</td>\n",
       "        <td style=\"padding-left: 1em; padding-right: 1em; text-align: center; vertical-align: top\">0.333333333333</td>\n",
       "        <td style=\"padding-left: 1em; padding-right: 1em; text-align: center; vertical-align: top\">Snuza Baby Monitor, Hero</td>\n",
       "    </tr>\n",
       "    <tr>\n",
       "        <td style=\"padding-left: 1em; padding-right: 1em; text-align: center; vertical-align: top\">184</td>\n",
       "        <td style=\"padding-left: 1em; padding-right: 1em; text-align: center; vertical-align: top\">That, and the price was<br>right. ...</td>\n",
       "        <td style=\"padding-left: 1em; padding-right: 1em; text-align: center; vertical-align: top\">price</td>\n",
       "        <td style=\"padding-left: 1em; padding-right: 1em; text-align: center; vertical-align: top\">1.0</td>\n",
       "        <td style=\"padding-left: 1em; padding-right: 1em; text-align: center; vertical-align: top\">Snuza Baby Monitor, Hero</td>\n",
       "    </tr>\n",
       "    <tr>\n",
       "        <td style=\"padding-left: 1em; padding-right: 1em; text-align: center; vertical-align: top\">199</td>\n",
       "        <td style=\"padding-left: 1em; padding-right: 1em; text-align: center; vertical-align: top\">But it was well worth the<br>price for peace of mind. ...</td>\n",
       "        <td style=\"padding-left: 1em; padding-right: 1em; text-align: center; vertical-align: top\">price</td>\n",
       "        <td style=\"padding-left: 1em; padding-right: 1em; text-align: center; vertical-align: top\">1.0</td>\n",
       "        <td style=\"padding-left: 1em; padding-right: 1em; text-align: center; vertical-align: top\">Snuza Baby Monitor, Hero</td>\n",
       "    </tr>\n",
       "</table>\n",
       "<table frame=\"box\" rules=\"cols\">\n",
       "    <tr>\n",
       "        <th style=\"padding-left: 1em; padding-right: 1em; text-align: center\">review</th>\n",
       "        <th style=\"padding-left: 1em; padding-right: 1em; text-align: center\">rating</th>\n",
       "        <th style=\"padding-left: 1em; padding-right: 1em; text-align: center\">cleaned</th>\n",
       "        <th style=\"padding-left: 1em; padding-right: 1em; text-align: center\">adjectives</th>\n",
       "        <th style=\"padding-left: 1em; padding-right: 1em; text-align: center\">sentiment</th>\n",
       "    </tr>\n",
       "    <tr>\n",
       "        <td style=\"padding-left: 1em; padding-right: 1em; text-align: center; vertical-align: top\">After having a premature<br>baby and dealing with ...</td>\n",
       "        <td style=\"padding-left: 1em; padding-right: 1em; text-align: center; vertical-align: top\">5.0</td>\n",
       "        <td style=\"padding-left: 1em; padding-right: 1em; text-align: center; vertical-align: top\">baby</td>\n",
       "        <td style=\"padding-left: 1em; padding-right: 1em; text-align: center; vertical-align: top\">{'ADJ': {}}</td>\n",
       "        <td style=\"padding-left: 1em; padding-right: 1em; text-align: center; vertical-align: top\">0.99855793166</td>\n",
       "    </tr>\n",
       "    <tr>\n",
       "        <td style=\"padding-left: 1em; padding-right: 1em; text-align: center; vertical-align: top\">If the battery lasted<br>longer or was easier to ...</td>\n",
       "        <td style=\"padding-left: 1em; padding-right: 1em; text-align: center; vertical-align: top\">2.0</td>\n",
       "        <td style=\"padding-left: 1em; padding-right: 1em; text-align: center; vertical-align: top\">battery lasted replace</td>\n",
       "        <td style=\"padding-left: 1em; padding-right: 1em; text-align: center; vertical-align: top\">{'ADJ': {}}</td>\n",
       "        <td style=\"padding-left: 1em; padding-right: 1em; text-align: center; vertical-align: top\">9.55858128398e-06</td>\n",
       "    </tr>\n",
       "    <tr>\n",
       "        <td style=\"padding-left: 1em; padding-right: 1em; text-align: center; vertical-align: top\">If the battery lasted<br>longer or was easier to ...</td>\n",
       "        <td style=\"padding-left: 1em; padding-right: 1em; text-align: center; vertical-align: top\">2.0</td>\n",
       "        <td style=\"padding-left: 1em; padding-right: 1em; text-align: center; vertical-align: top\">works great lasted<br>battery replacement ...</td>\n",
       "        <td style=\"padding-left: 1em; padding-right: 1em; text-align: center; vertical-align: top\">{'ADJ': {'great': 1}}</td>\n",
       "        <td style=\"padding-left: 1em; padding-right: 1em; text-align: center; vertical-align: top\">9.55858128398e-06</td>\n",
       "    </tr>\n",
       "    <tr>\n",
       "        <td style=\"padding-left: 1em; padding-right: 1em; text-align: center; vertical-align: top\">We loved the simplicity<br>of the snuza! We decided ...</td>\n",
       "        <td style=\"padding-left: 1em; padding-right: 1em; text-align: center; vertical-align: top\">4.0</td>\n",
       "        <td style=\"padding-left: 1em; padding-right: 1em; text-align: center; vertical-align: top\">battery days so.</td>\n",
       "        <td style=\"padding-left: 1em; padding-right: 1em; text-align: center; vertical-align: top\">{'ADJ': {}}</td>\n",
       "        <td style=\"padding-left: 1em; padding-right: 1em; text-align: center; vertical-align: top\">0.99451792208</td>\n",
       "    </tr>\n",
       "    <tr>\n",
       "        <td style=\"padding-left: 1em; padding-right: 1em; text-align: center; vertical-align: top\">We loved the simplicity<br>of the snuza! We decided ...</td>\n",
       "        <td style=\"padding-left: 1em; padding-right: 1em; text-align: center; vertical-align: top\">4.0</td>\n",
       "        <td style=\"padding-left: 1em; padding-right: 1em; text-align: center; vertical-align: top\">snuza days battery lasted</td>\n",
       "        <td style=\"padding-left: 1em; padding-right: 1em; text-align: center; vertical-align: top\">{'ADJ': {'snuza': 1}}</td>\n",
       "        <td style=\"padding-left: 1em; padding-right: 1em; text-align: center; vertical-align: top\">0.99451792208</td>\n",
       "    </tr>\n",
       "    <tr>\n",
       "        <td style=\"padding-left: 1em; padding-right: 1em; text-align: center; vertical-align: top\">We loved the simplicity<br>of the snuza! We decided ...</td>\n",
       "        <td style=\"padding-left: 1em; padding-right: 1em; text-align: center; vertical-align: top\">4.0</td>\n",
       "        <td style=\"padding-left: 1em; padding-right: 1em; text-align: center; vertical-align: top\">works angelcare angelcare<br>battery ...</td>\n",
       "        <td style=\"padding-left: 1em; padding-right: 1em; text-align: center; vertical-align: top\">{'ADJ': {'angelcare': 1}}</td>\n",
       "        <td style=\"padding-left: 1em; padding-right: 1em; text-align: center; vertical-align: top\">0.99451792208</td>\n",
       "    </tr>\n",
       "    <tr>\n",
       "        <td style=\"padding-left: 1em; padding-right: 1em; text-align: center; vertical-align: top\">Whether it is just a<br>placebo or not, putting ...</td>\n",
       "        <td style=\"padding-left: 1em; padding-right: 1em; text-align: center; vertical-align: top\">5.0</td>\n",
       "        <td style=\"padding-left: 1em; padding-right: 1em; text-align: center; vertical-align: top\">make make audible baby</td>\n",
       "        <td style=\"padding-left: 1em; padding-right: 1em; text-align: center; vertical-align: top\">{'ADJ': {'audible': 1}}</td>\n",
       "        <td style=\"padding-left: 1em; padding-right: 1em; text-align: center; vertical-align: top\">0.998973574468</td>\n",
       "    </tr>\n",
       "    <tr>\n",
       "        <td style=\"padding-left: 1em; padding-right: 1em; text-align: center; vertical-align: top\">Whether it is just a<br>placebo or not, putting ...</td>\n",
       "        <td style=\"padding-left: 1em; padding-right: 1em; text-align: center; vertical-align: top\">5.0</td>\n",
       "        <td style=\"padding-left: 1em; padding-right: 1em; text-align: center; vertical-align: top\">audible</td>\n",
       "        <td style=\"padding-left: 1em; padding-right: 1em; text-align: center; vertical-align: top\">{'ADJ': {'audible': 1}}</td>\n",
       "        <td style=\"padding-left: 1em; padding-right: 1em; text-align: center; vertical-align: top\">0.998973574468</td>\n",
       "    </tr>\n",
       "    <tr>\n",
       "        <td style=\"padding-left: 1em; padding-right: 1em; text-align: center; vertical-align: top\">As new, first-time<br>parents, we were 99.9% ...</td>\n",
       "        <td style=\"padding-left: 1em; padding-right: 1em; text-align: center; vertical-align: top\">5.0</td>\n",
       "        <td style=\"padding-left: 1em; padding-right: 1em; text-align: center; vertical-align: top\">price</td>\n",
       "        <td style=\"padding-left: 1em; padding-right: 1em; text-align: center; vertical-align: top\">{'ADJ': {}}</td>\n",
       "        <td style=\"padding-left: 1em; padding-right: 1em; text-align: center; vertical-align: top\">0.999999969114</td>\n",
       "    </tr>\n",
       "    <tr>\n",
       "        <td style=\"padding-left: 1em; padding-right: 1em; text-align: center; vertical-align: top\">Fabulous item. I'm a<br>first time mom, my ...</td>\n",
       "        <td style=\"padding-left: 1em; padding-right: 1em; text-align: center; vertical-align: top\">5.0</td>\n",
       "        <td style=\"padding-left: 1em; padding-right: 1em; text-align: center; vertical-align: top\">worth price</td>\n",
       "        <td style=\"padding-left: 1em; padding-right: 1em; text-align: center; vertical-align: top\">{'ADJ': {'worth': 1}}</td>\n",
       "        <td style=\"padding-left: 1em; padding-right: 1em; text-align: center; vertical-align: top\">0.998414415867</td>\n",
       "    </tr>\n",
       "</table>\n",
       "[28 rows x 10 columns]<br/>Note: Only the head of the SFrame is printed.<br/>You can use print_rows(num_rows=m, num_columns=n) to print more rows and columns.\n",
       "</div>"
      ],
      "text/plain": [
       "Columns:\n",
       "\tsentence_id\tint\n",
       "\tsentence\tstr\n",
       "\ttag\tstr\n",
       "\tscore\tfloat\n",
       "\tname\tstr\n",
       "\treview\tstr\n",
       "\trating\tfloat\n",
       "\tcleaned\tstr\n",
       "\tadjectives\tdict\n",
       "\tsentiment\tfloat\n",
       "\n",
       "Rows: 28\n",
       "\n",
       "Data:\n",
       "+-------------+--------------------------------+--------------+----------------+\n",
       "| sentence_id |            sentence            |     tag      |     score      |\n",
       "+-------------+--------------------------------+--------------+----------------+\n",
       "|      23     | I know from experience tha...  |    range     | 0.333333333333 |\n",
       "|      44     | If the battery lasted long...  | battery life | 0.545454545455 |\n",
       "|      45     |  It works great and no fal...  | battery life | 0.454545454545 |\n",
       "|      71     |  The big problem for me wa...  | battery life | 0.333333333333 |\n",
       "|      72     | I even tried to order one ...  | battery life | 0.454545454545 |\n",
       "|      74     |  While it works perfect wh...  | battery life | 0.357142857143 |\n",
       "|     122     | As a note for future purch...  |    audio     | 0.333333333333 |\n",
       "|     123     |  The audible sound really ...  |    audio     | 0.333333333333 |\n",
       "|     184     | That, and the price was right. |    price     |      1.0       |\n",
       "|     199     | But it was well worth the ...  |    price     |      1.0       |\n",
       "+-------------+--------------------------------+--------------+----------------+\n",
       "+--------------------------+-------------------------------+--------+\n",
       "|           name           |             review            | rating |\n",
       "+--------------------------+-------------------------------+--------+\n",
       "| Snuza Baby Monitor, Hero | After having a premature b... |  5.0   |\n",
       "| Snuza Baby Monitor, Hero | If the battery lasted long... |  2.0   |\n",
       "| Snuza Baby Monitor, Hero | If the battery lasted long... |  2.0   |\n",
       "| Snuza Baby Monitor, Hero | We loved the simplicity of... |  4.0   |\n",
       "| Snuza Baby Monitor, Hero | We loved the simplicity of... |  4.0   |\n",
       "| Snuza Baby Monitor, Hero | We loved the simplicity of... |  4.0   |\n",
       "| Snuza Baby Monitor, Hero | Whether it is just a place... |  5.0   |\n",
       "| Snuza Baby Monitor, Hero | Whether it is just a place... |  5.0   |\n",
       "| Snuza Baby Monitor, Hero | As new, first-time parents... |  5.0   |\n",
       "| Snuza Baby Monitor, Hero | Fabulous item. I'm a first... |  5.0   |\n",
       "+--------------------------+-------------------------------+--------+\n",
       "+-------------------------------+---------------------------+-------------------+\n",
       "|            cleaned            |         adjectives        |     sentiment     |\n",
       "+-------------------------------+---------------------------+-------------------+\n",
       "|              baby             |        {'ADJ': {}}        |   0.99855793166   |\n",
       "|     battery lasted replace    |        {'ADJ': {}}        | 9.55858128398e-06 |\n",
       "| works great lasted battery... |   {'ADJ': {'great': 1}}   | 9.55858128398e-06 |\n",
       "|        battery days so.       |        {'ADJ': {}}        |   0.99451792208   |\n",
       "|   snuza days battery lasted   |   {'ADJ': {'snuza': 1}}   |   0.99451792208   |\n",
       "| works angelcare angelcare ... | {'ADJ': {'angelcare': 1}} |   0.99451792208   |\n",
       "|     make make audible baby    |  {'ADJ': {'audible': 1}}  |   0.998973574468  |\n",
       "|            audible            |  {'ADJ': {'audible': 1}}  |   0.998973574468  |\n",
       "|             price             |        {'ADJ': {}}        |   0.999999969114  |\n",
       "|          worth price          |   {'ADJ': {'worth': 1}}   |   0.998414415867  |\n",
       "+-------------------------------+---------------------------+-------------------+\n",
       "[28 rows x 10 columns]\n",
       "Note: Only the head of the SFrame is printed.\n",
       "You can use print_rows(num_rows=m, num_columns=n) to print more rows and columns."
      ]
     },
     "execution_count": 8,
     "metadata": {},
     "output_type": "execute_result"
    }
   ],
   "source": [
    "reviews_a"
   ]
  },
  {
   "cell_type": "markdown",
   "metadata": {},
   "source": [
    "## Comparing to another product"
   ]
  },
  {
   "cell_type": "code",
   "execution_count": 8,
   "metadata": {
    "collapsed": false
   },
   "outputs": [],
   "source": [
    "dropdown = get_dropdown(reviews)\n",
    "display(dropdown)"
   ]
  },
  {
   "cell_type": "code",
   "execution_count": 11,
   "metadata": {
    "collapsed": false
   },
   "outputs": [
    {
     "name": "stdout",
     "output_type": "stream",
     "text": [
      "Comparing reviews with '900mhz Attachable Monitor':\n",
      "\n",
      "900mhz Attachable Monitor\n",
      "1. Get reviews for this product\n",
      "2. Splitting reviews into sentences\n",
      "3. Tagging relevant reviews\n",
      "4. Extracting adjectives\n",
      "5. Predicting sentence-level sentiment"
     ]
    },
    {
     "data": {
      "text/html": [
       "<pre>WARNING: The number of feature dimensions in this problem is very large in comparison with the number of examples. Unless an appropriate regularization value is set, this model may not provide accurate predictions for a validation/test set.</pre>"
      ],
      "text/plain": [
       "WARNING: The number of feature dimensions in this problem is very large in comparison with the number of examples. Unless an appropriate regularization value is set, this model may not provide accurate predictions for a validation/test set."
      ]
     },
     "metadata": {},
     "output_type": "display_data"
    },
    {
     "data": {
      "text/html": [
       "<pre>WARNING: Detected extremely low variance for feature(s) 'review' because all entries are nearly the same.\n",
       "Proceeding with model training using all features. If the model does not provide results of adequate quality, exclude the above mentioned feature(s) from the input dataset.</pre>"
      ],
      "text/plain": [
       "WARNING: Detected extremely low variance for feature(s) 'review' because all entries are nearly the same.\n",
       "Proceeding with model training using all features. If the model does not provide results of adequate quality, exclude the above mentioned feature(s) from the input dataset."
      ]
     },
     "metadata": {},
     "output_type": "display_data"
    },
    {
     "data": {
      "text/html": [
       "<pre>Logistic regression:</pre>"
      ],
      "text/plain": [
       "Logistic regression:"
      ]
     },
     "metadata": {},
     "output_type": "display_data"
    },
    {
     "data": {
      "text/html": [
       "<pre>--------------------------------------------------------</pre>"
      ],
      "text/plain": [
       "--------------------------------------------------------"
      ]
     },
     "metadata": {},
     "output_type": "display_data"
    },
    {
     "data": {
      "text/html": [
       "<pre>Number of examples          : 5</pre>"
      ],
      "text/plain": [
       "Number of examples          : 5"
      ]
     },
     "metadata": {},
     "output_type": "display_data"
    },
    {
     "data": {
      "text/html": [
       "<pre>Number of classes           : 2</pre>"
      ],
      "text/plain": [
       "Number of classes           : 2"
      ]
     },
     "metadata": {},
     "output_type": "display_data"
    },
    {
     "data": {
      "text/html": [
       "<pre>Number of feature columns   : 1</pre>"
      ],
      "text/plain": [
       "Number of feature columns   : 1"
      ]
     },
     "metadata": {},
     "output_type": "display_data"
    },
    {
     "data": {
      "text/html": [
       "<pre>Number of unpacked features : 332</pre>"
      ],
      "text/plain": [
       "Number of unpacked features : 332"
      ]
     },
     "metadata": {},
     "output_type": "display_data"
    },
    {
     "data": {
      "text/html": [
       "<pre>Number of coefficients    : 333</pre>"
      ],
      "text/plain": [
       "Number of coefficients    : 333"
      ]
     },
     "metadata": {},
     "output_type": "display_data"
    },
    {
     "data": {
      "text/html": [
       "<pre>Starting Newton Method</pre>"
      ],
      "text/plain": [
       "Starting Newton Method"
      ]
     },
     "metadata": {},
     "output_type": "display_data"
    },
    {
     "data": {
      "text/html": [
       "<pre>--------------------------------------------------------</pre>"
      ],
      "text/plain": [
       "--------------------------------------------------------"
      ]
     },
     "metadata": {},
     "output_type": "display_data"
    },
    {
     "data": {
      "text/html": [
       "<pre>+-----------+----------+--------------+-------------------+</pre>"
      ],
      "text/plain": [
       "+-----------+----------+--------------+-------------------+"
      ]
     },
     "metadata": {},
     "output_type": "display_data"
    },
    {
     "data": {
      "text/html": [
       "<pre>| Iteration | Passes   | Elapsed Time | Training-accuracy |</pre>"
      ],
      "text/plain": [
       "| Iteration | Passes   | Elapsed Time | Training-accuracy |"
      ]
     },
     "metadata": {},
     "output_type": "display_data"
    },
    {
     "data": {
      "text/html": [
       "<pre>+-----------+----------+--------------+-------------------+</pre>"
      ],
      "text/plain": [
       "+-----------+----------+--------------+-------------------+"
      ]
     },
     "metadata": {},
     "output_type": "display_data"
    },
    {
     "data": {
      "text/html": [
       "<pre>| 1         | 2        | 1.861877     | 1.000000          |</pre>"
      ],
      "text/plain": [
       "| 1         | 2        | 1.861877     | 1.000000          |"
      ]
     },
     "metadata": {},
     "output_type": "display_data"
    },
    {
     "data": {
      "text/html": [
       "<pre>| 2         | 3        | 1.925254     | 1.000000          |</pre>"
      ],
      "text/plain": [
       "| 2         | 3        | 1.925254     | 1.000000          |"
      ]
     },
     "metadata": {},
     "output_type": "display_data"
    },
    {
     "data": {
      "text/html": [
       "<pre>| 3         | 4        | 1.936655     | 1.000000          |</pre>"
      ],
      "text/plain": [
       "| 3         | 4        | 1.936655     | 1.000000          |"
      ]
     },
     "metadata": {},
     "output_type": "display_data"
    },
    {
     "data": {
      "text/html": [
       "<pre>| 4         | 5        | 1.947300     | 1.000000          |</pre>"
      ],
      "text/plain": [
       "| 4         | 5        | 1.947300     | 1.000000          |"
      ]
     },
     "metadata": {},
     "output_type": "display_data"
    },
    {
     "data": {
      "text/html": [
       "<pre>| 5         | 6        | 1.962897     | 1.000000          |</pre>"
      ],
      "text/plain": [
       "| 5         | 6        | 1.962897     | 1.000000          |"
      ]
     },
     "metadata": {},
     "output_type": "display_data"
    },
    {
     "data": {
      "text/html": [
       "<pre>+-----------+----------+--------------+-------------------+</pre>"
      ],
      "text/plain": [
       "+-----------+----------+--------------+-------------------+"
      ]
     },
     "metadata": {},
     "output_type": "display_data"
    },
    {
     "data": {
      "text/html": [
       "<pre>SUCCESS: Optimal solution found.</pre>"
      ],
      "text/plain": [
       "SUCCESS: Optimal solution found."
      ]
     },
     "metadata": {},
     "output_type": "display_data"
    },
    {
     "data": {
      "text/html": [
       "<pre></pre>"
      ],
      "text/plain": []
     },
     "metadata": {},
     "output_type": "display_data"
    },
    {
     "name": "stdout",
     "output_type": "stream",
     "text": [
      "\n"
     ]
    }
   ],
   "source": [
    "reviews_a = gl.load_sframe('./reviews_a/')\n",
    "item_b = dropdown.value\n",
    "print 'Comparing reviews with \\'%s\\':\\n' % item_b\n",
    "reviews_b = nlp_pipeline(reviews, item_b, aspects)"
   ]
  },
  {
   "cell_type": "code",
   "execution_count": 14,
   "metadata": {
    "collapsed": false
   },
   "outputs": [],
   "source": [
    "counts, sentiment, adjectives = get_comparisons(reviews_a, reviews_b, item_a, item_b, aspects)"
   ]
  },
  {
   "cell_type": "markdown",
   "metadata": {},
   "source": [
    "Comparing the **number of sentences** that mention **each aspect**:"
   ]
  },
  {
   "cell_type": "code",
   "execution_count": 15,
   "metadata": {
    "collapsed": false
   },
   "outputs": [
    {
     "data": {
      "text/html": [
       "<div style=\"max-height:1000px;max-width:1500px;overflow:auto;\"><table frame=\"box\" rules=\"cols\">\n",
       "    <tr>\n",
       "        <th style=\"padding-left: 1em; padding-right: 1em; text-align: center\">tag</th>\n",
       "        <th style=\"padding-left: 1em; padding-right: 1em; text-align: center\">Snuza Baby Monitor, Hero</th>\n",
       "        <th style=\"padding-left: 1em; padding-right: 1em; text-align: center\">900mhz Attachable Monitor</th>\n",
       "    </tr>\n",
       "    <tr>\n",
       "        <td style=\"padding-left: 1em; padding-right: 1em; text-align: center; vertical-align: top\">range</td>\n",
       "        <td style=\"padding-left: 1em; padding-right: 1em; text-align: center; vertical-align: top\">9</td>\n",
       "        <td style=\"padding-left: 1em; padding-right: 1em; text-align: center; vertical-align: top\">2</td>\n",
       "    </tr>\n",
       "    <tr>\n",
       "        <td style=\"padding-left: 1em; padding-right: 1em; text-align: center; vertical-align: top\">battery life</td>\n",
       "        <td style=\"padding-left: 1em; padding-right: 1em; text-align: center; vertical-align: top\">10</td>\n",
       "        <td style=\"padding-left: 1em; padding-right: 1em; text-align: center; vertical-align: top\">2</td>\n",
       "    </tr>\n",
       "</table>\n",
       "[2 rows x 3 columns]<br/>\n",
       "</div>"
      ],
      "text/plain": [
       "Columns:\n",
       "\ttag\tstr\n",
       "\tSnuza Baby Monitor, Hero\tint\n",
       "\t900mhz Attachable Monitor\tint\n",
       "\n",
       "Rows: 2\n",
       "\n",
       "Data:\n",
       "+--------------+--------------------------+---------------------------+\n",
       "|     tag      | Snuza Baby Monitor, Hero | 900mhz Attachable Monitor |\n",
       "+--------------+--------------------------+---------------------------+\n",
       "|    range     |            9             |             2             |\n",
       "| battery life |            10            |             2             |\n",
       "+--------------+--------------------------+---------------------------+\n",
       "[2 rows x 3 columns]"
      ]
     },
     "execution_count": 15,
     "metadata": {},
     "output_type": "execute_result"
    }
   ],
   "source": [
    "counts"
   ]
  },
  {
   "cell_type": "markdown",
   "metadata": {},
   "source": [
    "Comparing the **sentence-level sentiment** for **each aspect** of **each product**:"
   ]
  },
  {
   "cell_type": "code",
   "execution_count": 16,
   "metadata": {
    "collapsed": false
   },
   "outputs": [
    {
     "data": {
      "text/html": [
       "<div style=\"max-height:1000px;max-width:1500px;overflow:auto;\"><table frame=\"box\" rules=\"cols\">\n",
       "    <tr>\n",
       "        <th style=\"padding-left: 1em; padding-right: 1em; text-align: center\">tag</th>\n",
       "        <th style=\"padding-left: 1em; padding-right: 1em; text-align: center\">Snuza Baby Monitor, Hero</th>\n",
       "        <th style=\"padding-left: 1em; padding-right: 1em; text-align: center\">900mhz Attachable Monitor</th>\n",
       "    </tr>\n",
       "    <tr>\n",
       "        <td style=\"padding-left: 1em; padding-right: 1em; text-align: center; vertical-align: top\">range</td>\n",
       "        <td style=\"padding-left: 1em; padding-right: 1em; text-align: center; vertical-align: top\">0.993788285437</td>\n",
       "        <td style=\"padding-left: 1em; padding-right: 1em; text-align: center; vertical-align: top\">0.0031214413625</td>\n",
       "    </tr>\n",
       "    <tr>\n",
       "        <td style=\"padding-left: 1em; padding-right: 1em; text-align: center; vertical-align: top\">battery life</td>\n",
       "        <td style=\"padding-left: 1em; padding-right: 1em; text-align: center; vertical-align: top\">0.797985423815</td>\n",
       "        <td style=\"padding-left: 1em; padding-right: 1em; text-align: center; vertical-align: top\">0.49800239056</td>\n",
       "    </tr>\n",
       "</table>\n",
       "[2 rows x 3 columns]<br/>\n",
       "</div>"
      ],
      "text/plain": [
       "Columns:\n",
       "\ttag\tstr\n",
       "\tSnuza Baby Monitor, Hero\tfloat\n",
       "\t900mhz Attachable Monitor\tfloat\n",
       "\n",
       "Rows: 2\n",
       "\n",
       "Data:\n",
       "+--------------+--------------------------+---------------------------+\n",
       "|     tag      | Snuza Baby Monitor, Hero | 900mhz Attachable Monitor |\n",
       "+--------------+--------------------------+---------------------------+\n",
       "|    range     |      0.993788285437      |      0.0031214413625      |\n",
       "| battery life |      0.797985423815      |       0.49800239056       |\n",
       "+--------------+--------------------------+---------------------------+\n",
       "[2 rows x 3 columns]"
      ]
     },
     "execution_count": 16,
     "metadata": {},
     "output_type": "execute_result"
    }
   ],
   "source": [
    "sentiment"
   ]
  },
  {
   "cell_type": "markdown",
   "metadata": {},
   "source": [
    "Comparing the **use of adjectives** for **each aspect**:"
   ]
  },
  {
   "cell_type": "code",
   "execution_count": 17,
   "metadata": {
    "collapsed": false
   },
   "outputs": [
    {
     "data": {
      "text/html": [
       "<div style=\"max-height:1000px;max-width:1500px;overflow:auto;\"><table frame=\"box\" rules=\"cols\">\n",
       "    <tr>\n",
       "        <th style=\"padding-left: 1em; padding-right: 1em; text-align: center\">tag</th>\n",
       "        <th style=\"padding-left: 1em; padding-right: 1em; text-align: center\">Snuza Baby Monitor, Hero</th>\n",
       "        <th style=\"padding-left: 1em; padding-right: 1em; text-align: center\">900mhz Attachable Monitor</th>\n",
       "    </tr>\n",
       "    <tr>\n",
       "        <td style=\"padding-left: 1em; padding-right: 1em; text-align: center; vertical-align: top\">range</td>\n",
       "        <td style=\"padding-left: 1em; padding-right: 1em; text-align: center; vertical-align: top\">[hard, snuza, angelcare]</td>\n",
       "        <td style=\"padding-left: 1em; padding-right: 1em; text-align: center; vertical-align: top\">[aaas]</td>\n",
       "    </tr>\n",
       "    <tr>\n",
       "        <td style=\"padding-left: 1em; padding-right: 1em; text-align: center; vertical-align: top\">battery life</td>\n",
       "        <td style=\"padding-left: 1em; padding-right: 1em; text-align: center; vertical-align: top\">[great, snuza, angelcare]</td>\n",
       "        <td style=\"padding-left: 1em; padding-right: 1em; text-align: center; vertical-align: top\">[aaas]</td>\n",
       "    </tr>\n",
       "</table>\n",
       "[2 rows x 3 columns]<br/>\n",
       "</div>"
      ],
      "text/plain": [
       "Columns:\n",
       "\ttag\tstr\n",
       "\tSnuza Baby Monitor, Hero\tlist\n",
       "\t900mhz Attachable Monitor\tlist\n",
       "\n",
       "Rows: 2\n",
       "\n",
       "Data:\n",
       "+--------------+---------------------------+---------------------------+\n",
       "|     tag      |  Snuza Baby Monitor, Hero | 900mhz Attachable Monitor |\n",
       "+--------------+---------------------------+---------------------------+\n",
       "|    range     |  [hard, snuza, angelcare] |           [aaas]          |\n",
       "| battery life | [great, snuza, angelcare] |           [aaas]          |\n",
       "+--------------+---------------------------+---------------------------+\n",
       "[2 rows x 3 columns]"
      ]
     },
     "execution_count": 17,
     "metadata": {},
     "output_type": "execute_result"
    }
   ],
   "source": [
    "adjectives"
   ]
  },
  {
   "cell_type": "markdown",
   "metadata": {},
   "source": [
    "## Investigating good and bad sentences"
   ]
  },
  {
   "cell_type": "code",
   "execution_count": 18,
   "metadata": {
    "collapsed": false
   },
   "outputs": [],
   "source": [
    "good, bad = get_extreme_sentences(reviews_a)"
   ]
  },
  {
   "cell_type": "markdown",
   "metadata": {},
   "source": [
    "Print **<font color='green'>good sentences</font>** for the **first item**, where <font color='green'>adjectives</font> and <font color='green'>aspects</font> are *highlighted*."
   ]
  },
  {
   "cell_type": "code",
   "execution_count": 20,
   "metadata": {
    "collapsed": false
   },
   "outputs": [
    {
     "data": {
      "text/html": [
       " The Hero has been <span style=\"color:green\">great</span> for our baby because she likes to sleep in her fisher <span style=\"color:green\">price</span> rock and play sleeper, so I can just attach it to her diaper at night and rest easy.<p/>We originally were given an angelcare monitor, but couldn't use the <span style=\"color:green\">hard</span> mat b/c our baby slept in a contoured Newborn Nappy in his Pack n Play for the first 2 months or so.<p/>The reason I chose the Snuza style monitor over an Angel Care style monitor is because of size and portability.<p/>As a note for future purchasers, read the instructions carefully to know what the blinking lights mean, and how to make it both blink and make an <span style=\"color:green\">audible</span> click every time the baby breathes.<p/> The <span style=\"color:green\">audible</span> sound really helps when the kid is in his straight-jacket...errr....swaddle.<p/> I was <span style=\"color:green\">hesitant</span> about the <span style=\"color:green\">price</span>, but bit the bullet and could not be happier.<p/>But it was well <span style=\"color:green\">worth</span> the <span style=\"color:green\">price</span> for peace of mind.<p/>I was <span style=\"color:green\">hesitant</span> at first to purchase this item because of it's <span style=\"color:green\">price</span> tag, but now that we have one, I'd never go without it.<p/>We set up our room with an Arms Reach co-sleeper and and Angelcare motion mat before our son was born.<p/> While it works perfect when powered and the mobility of it is better than <span style=\"color:green\">angelcare</span> I don't think I would reccomend this over the <span style=\"color:green\">angelcare</span> because of the battery issue.<p/>I even tried to order one directly from <span style=\"color:green\">snuza</span> (took 11 days to get) and it was just a generic battery that lasted a week.<p/>Worth the <span style=\"color:green\">price</span> for sure<p/> It works <span style=\"color:green\">great</span> and no false alarms but it only lasted a week before it started beeping the battery was low and I haven't found a replacement at any local stores."
      ],
      "text/plain": [
       "<IPython.core.display.HTML object>"
      ]
     },
     "metadata": {},
     "output_type": "display_data"
    }
   ],
   "source": [
    "print_sentences(good['highlighted'])"
   ]
  },
  {
   "cell_type": "markdown",
   "metadata": {},
   "source": [
    "Print **<font color='red'>bad sentences</font>** for the **first item**, where <font color='red'>adjectives</font> and <font color='green'>aspects</font> are *highlighted*."
   ]
  },
  {
   "cell_type": "code",
   "execution_count": 21,
   "metadata": {
    "collapsed": false
   },
   "outputs": [
    {
     "data": {
      "text/html": [
       " It works <span style=\"color:red\">great</span> and no false alarms but it only lasted a week before it started beeping the battery was low and I haven't found a replacement at any local stores.<p/>Worth the <span style=\"color:green\">price</span> for sure<p/> While it works perfect when powered and the mobility of it is better than <span style=\"color:red\">angelcare</span> I don't think I would reccomend this over the <span style=\"color:red\">angelcare</span> because of the battery issue.<p/>I even tried to order one directly from <span style=\"color:red\">snuza</span> (took 11 days to get) and it was just a generic battery that lasted a week.<p/>We set up our room with an Arms Reach co-sleeper and and Angelcare motion mat before our son was born.<p/>I was <span style=\"color:red\">hesitant</span> at first to purchase this item because of it's <span style=\"color:green\">price</span> tag, but now that we have one, I'd never go without it.<p/>But it was well <span style=\"color:red\">worth</span> the <span style=\"color:green\">price</span> for peace of mind.<p/> I was <span style=\"color:red\">hesitant</span> about the <span style=\"color:green\">price</span>, but bit the bullet and could not be happier.<p/> The <span style=\"color:red\">audible</span> sound really helps when the kid is in his straight-jacket...errr....swaddle.<p/>As a note for future purchasers, read the instructions carefully to know what the blinking lights mean, and how to make it both blink and make an <span style=\"color:red\">audible</span> click every time the baby breathes.<p/>The reason I chose the Snuza style monitor over an Angel Care style monitor is because of size and portability.<p/>We originally were given an angelcare monitor, but couldn't use the <span style=\"color:red\">hard</span> mat b/c our baby slept in a contoured Newborn Nappy in his Pack n Play for the first 2 months or so.<p/> The Hero has been <span style=\"color:red\">great</span> for our baby because she likes to sleep in her fisher <span style=\"color:green\">price</span> rock and play sleeper, so I can just attach it to her diaper at night and rest easy."
      ],
      "text/plain": [
       "<IPython.core.display.HTML object>"
      ]
     },
     "metadata": {},
     "output_type": "display_data"
    }
   ],
   "source": [
    "print_sentences(bad['highlighted'])"
   ]
  },
  {
   "cell_type": "markdown",
   "metadata": {},
   "source": [
    "## Summarizing sentiment with GLC `product_sentiment.create()`\n",
    "\n",
    "One can even summarize the sentiment of the product reviews we saw earlier by utilizing **GraphLab Create's `product_sentiment`** toolkit. The toolkit enables to search for aspects of interest and obtain summaries of the reviews or sentences with the most positive (or negative) predicted sentiment."
   ]
  },
  {
   "cell_type": "code",
   "execution_count": 11,
   "metadata": {
    "collapsed": false
   },
   "outputs": [
    {
     "data": {
      "text/html": [
       "<pre>WARNING: Column '__review_id' is excluded due to invalid column type (integer).</pre>"
      ],
      "text/plain": [
       "WARNING: Column '__review_id' is excluded due to invalid column type (integer)."
      ]
     },
     "metadata": {},
     "output_type": "display_data"
    },
    {
     "data": {
      "text/html": [
       "<pre>WARNING: Column 'rating' is excluded due to invalid column type (float).</pre>"
      ],
      "text/plain": [
       "WARNING: Column 'rating' is excluded due to invalid column type (float)."
      ]
     },
     "metadata": {},
     "output_type": "display_data"
    },
    {
     "data": {
      "text/html": [
       "<pre>WARNING: Column 'sentiment_score' is excluded due to invalid column type (float).</pre>"
      ],
      "text/plain": [
       "WARNING: Column 'sentiment_score' is excluded due to invalid column type (float)."
      ]
     },
     "metadata": {},
     "output_type": "display_data"
    },
    {
     "data": {
      "text/html": [
       "<pre>Tokenizing...</pre>"
      ],
      "text/plain": [
       "Tokenizing..."
      ]
     },
     "metadata": {},
     "output_type": "display_data"
    },
    {
     "data": {
      "text/html": [
       "<pre>TF-IDF transform...</pre>"
      ],
      "text/plain": [
       "TF-IDF transform..."
      ]
     },
     "metadata": {},
     "output_type": "display_data"
    },
    {
     "data": {
      "text/html": [
       "<pre>Creating inverted index...</pre>"
      ],
      "text/plain": [
       "Creating inverted index..."
      ]
     },
     "metadata": {},
     "output_type": "display_data"
    },
    {
     "data": {
      "text/html": [
       "<pre>Creating query expansion model...</pre>"
      ],
      "text/plain": [
       "Creating query expansion model..."
      ]
     },
     "metadata": {},
     "output_type": "display_data"
    },
    {
     "data": {
      "text/html": [
       "<pre>Saving data for querying...</pre>"
      ],
      "text/plain": [
       "Saving data for querying..."
      ]
     },
     "metadata": {},
     "output_type": "display_data"
    }
   ],
   "source": [
    "reviews_sentiment = gl.product_sentiment.create(reviews, \n",
    "                                                target=None, #'rating', \n",
    "                                                features=['review'], \n",
    "                                                method='auto',\n",
    "                                                splitby='review')"
   ]
  },
  {
   "cell_type": "code",
   "execution_count": 81,
   "metadata": {
    "collapsed": false
   },
   "outputs": [
    {
     "data": {
      "text/plain": [
       "['features',\n",
       " 'splitby',\n",
       " 'feature_column',\n",
       " 'sentiment_score_column',\n",
       " 'reviews',\n",
       " 'num_reviews',\n",
       " 'review_searcher',\n",
       " 'sentiment_scorer',\n",
       " 'review_id_column',\n",
       " 'method',\n",
       " 'target']"
      ]
     },
     "execution_count": 81,
     "metadata": {},
     "output_type": "execute_result"
    }
   ],
   "source": [
    "reviews_sentiment."
   ]
  },
  {
   "cell_type": "code",
   "execution_count": 59,
   "metadata": {
    "collapsed": false
   },
   "outputs": [
    {
     "data": {
      "text/html": [
       "<div style=\"max-height:1000px;max-width:1500px;overflow:auto;\"><table frame=\"box\" rules=\"cols\">\n",
       "    <tr>\n",
       "        <th style=\"padding-left: 1em; padding-right: 1em; text-align: center\">keyword</th>\n",
       "        <th style=\"padding-left: 1em; padding-right: 1em; text-align: center\">name</th>\n",
       "        <th style=\"padding-left: 1em; padding-right: 1em; text-align: center\">mean_sentiment</th>\n",
       "        <th style=\"padding-left: 1em; padding-right: 1em; text-align: center\">sd_sentiment</th>\n",
       "        <th style=\"padding-left: 1em; padding-right: 1em; text-align: center\">review_count</th>\n",
       "    </tr>\n",
       "    <tr>\n",
       "        <td style=\"padding-left: 1em; padding-right: 1em; text-align: center; vertical-align: top\">battery life</td>\n",
       "        <td style=\"padding-left: 1em; padding-right: 1em; text-align: center; vertical-align: top\">Snuza Baby Monitor, Hero</td>\n",
       "        <td style=\"padding-left: 1em; padding-right: 1em; text-align: center; vertical-align: top\">0.663579537023</td>\n",
       "        <td style=\"padding-left: 1em; padding-right: 1em; text-align: center; vertical-align: top\">0.322874099963</td>\n",
       "        <td style=\"padding-left: 1em; padding-right: 1em; text-align: center; vertical-align: top\">7</td>\n",
       "    </tr>\n",
       "    <tr>\n",
       "        <td style=\"padding-left: 1em; padding-right: 1em; text-align: center; vertical-align: top\">price</td>\n",
       "        <td style=\"padding-left: 1em; padding-right: 1em; text-align: center; vertical-align: top\">Snuza Baby Monitor, Hero</td>\n",
       "        <td style=\"padding-left: 1em; padding-right: 1em; text-align: center; vertical-align: top\">0.977244026731</td>\n",
       "        <td style=\"padding-left: 1em; padding-right: 1em; text-align: center; vertical-align: top\">0.0140913309791</td>\n",
       "        <td style=\"padding-left: 1em; padding-right: 1em; text-align: center; vertical-align: top\">4</td>\n",
       "    </tr>\n",
       "    <tr>\n",
       "        <td style=\"padding-left: 1em; padding-right: 1em; text-align: center; vertical-align: top\">price</td>\n",
       "        <td style=\"padding-left: 1em; padding-right: 1em; text-align: center; vertical-align: top\">Fisher-Price Aquarium<br>Monitor ...</td>\n",
       "        <td style=\"padding-left: 1em; padding-right: 1em; text-align: center; vertical-align: top\">0.305380831961</td>\n",
       "        <td style=\"padding-left: 1em; padding-right: 1em; text-align: center; vertical-align: top\">0.196483541825</td>\n",
       "        <td style=\"padding-left: 1em; padding-right: 1em; text-align: center; vertical-align: top\">4</td>\n",
       "    </tr>\n",
       "    <tr>\n",
       "        <td style=\"padding-left: 1em; padding-right: 1em; text-align: center; vertical-align: top\">range</td>\n",
       "        <td style=\"padding-left: 1em; padding-right: 1em; text-align: center; vertical-align: top\">900mhz Attachable Monitor</td>\n",
       "        <td style=\"padding-left: 1em; padding-right: 1em; text-align: center; vertical-align: top\">0.969815398071</td>\n",
       "        <td style=\"padding-left: 1em; padding-right: 1em; text-align: center; vertical-align: top\">0.00267362259556</td>\n",
       "        <td style=\"padding-left: 1em; padding-right: 1em; text-align: center; vertical-align: top\">2</td>\n",
       "    </tr>\n",
       "    <tr>\n",
       "        <td style=\"padding-left: 1em; padding-right: 1em; text-align: center; vertical-align: top\">range</td>\n",
       "        <td style=\"padding-left: 1em; padding-right: 1em; text-align: center; vertical-align: top\">Samsung Ezview Baby<br>Monitor ...</td>\n",
       "        <td style=\"padding-left: 1em; padding-right: 1em; text-align: center; vertical-align: top\">0.626363802641</td>\n",
       "        <td style=\"padding-left: 1em; padding-right: 1em; text-align: center; vertical-align: top\">0.347454141285</td>\n",
       "        <td style=\"padding-left: 1em; padding-right: 1em; text-align: center; vertical-align: top\">4</td>\n",
       "    </tr>\n",
       "</table>\n",
       "[5 rows x 5 columns]<br/>\n",
       "</div>"
      ],
      "text/plain": [
       "Columns:\n",
       "\tkeyword\tstr\n",
       "\tname\tstr\n",
       "\tmean_sentiment\tfloat\n",
       "\tsd_sentiment\tfloat\n",
       "\treview_count\tint\n",
       "\n",
       "Rows: 5\n",
       "\n",
       "Data:\n",
       "+--------------+-------------------------------+----------------+\n",
       "|   keyword    |              name             | mean_sentiment |\n",
       "+--------------+-------------------------------+----------------+\n",
       "| battery life |    Snuza Baby Monitor, Hero   | 0.663579537023 |\n",
       "|    price     |    Snuza Baby Monitor, Hero   | 0.977244026731 |\n",
       "|    price     | Fisher-Price Aquarium Monitor | 0.305380831961 |\n",
       "|    range     |   900mhz Attachable Monitor   | 0.969815398071 |\n",
       "|    range     |  Samsung Ezview Baby Monitor  | 0.626363802641 |\n",
       "+--------------+-------------------------------+----------------+\n",
       "+------------------+--------------+\n",
       "|   sd_sentiment   | review_count |\n",
       "+------------------+--------------+\n",
       "|  0.322874099963  |      7       |\n",
       "| 0.0140913309791  |      4       |\n",
       "|  0.196483541825  |      4       |\n",
       "| 0.00267362259556 |      2       |\n",
       "|  0.347454141285  |      4       |\n",
       "+------------------+--------------+\n",
       "[5 rows x 5 columns]"
      ]
     },
     "execution_count": 59,
     "metadata": {},
     "output_type": "execute_result"
    }
   ],
   "source": [
    "reviews_sentiment.sentiment_summary(keywords=aspects, groupby='name', k=10, threshold=2)"
   ]
  },
  {
   "cell_type": "code",
   "execution_count": 61,
   "metadata": {
    "collapsed": false
   },
   "outputs": [
    {
     "data": {
      "text/plain": [
       "Class                           : SentimentAnalysisModel\n",
       "\n",
       "Data\n",
       "----\n",
       "Number of rows                  : 98\n",
       "\n",
       "Model\n",
       "-----\n",
       "Score column                    : None\n",
       "Features                        : ['review']\n",
       "Method                          : bow-logistic"
      ]
     },
     "execution_count": 61,
     "metadata": {},
     "output_type": "execute_result"
    }
   ],
   "source": [
    "reviews_sentiment.sentiment_scorer"
   ]
  },
  {
   "cell_type": "code",
   "execution_count": 62,
   "metadata": {
    "collapsed": false
   },
   "outputs": [
    {
     "data": {
      "text/plain": [
       "Class                           : SearchModel\n",
       "\n",
       "Corpus\n",
       "------\n",
       "Number of documents             : 98\n",
       "Average tokens/document         : {'review': 121.09183673469387, 'name': 3.989795918367347}\n",
       "\n",
       "Indexing settings\n",
       "-----------------\n",
       "BM25 k1                         : 1.5\n",
       "BM25 b                          : 0.75\n",
       "TF-IDF threshold                : 0.01\n",
       "\n",
       "Index\n",
       "-----\n",
       "Number of unique tokens indexed : 1787\n",
       "Preprocessing time (s)          : 0.4926\n",
       "Indexing time (s)               : 0.8869"
      ]
     },
     "execution_count": 62,
     "metadata": {},
     "output_type": "execute_result"
    }
   ],
   "source": [
    "reviews_sentiment.review_searcher"
   ]
  },
  {
   "cell_type": "code",
   "execution_count": 65,
   "metadata": {
    "collapsed": true
   },
   "outputs": [],
   "source": [
    "item_a = 'Snuza Baby Monitor, Hero'"
   ]
  },
  {
   "cell_type": "code",
   "execution_count": 78,
   "metadata": {
    "collapsed": false
   },
   "outputs": [
    {
     "name": "stdout",
     "output_type": "stream",
     "text": [
      "Top-3 positive reviews for \"Snuza Baby Monitor, Hero\" per 'aspect' of interest:\n",
      "\n"
     ]
    },
    {
     "data": {
      "text/html": [
       "Got this for my 3 mos son. Love this product! !! Great for travel as well. Worth the <span style=\"color:green\">price</span> for sure"
      ],
      "text/plain": [
       "<IPython.core.display.HTML object>"
      ]
     },
     "metadata": {},
     "output_type": "display_data"
    },
    {
     "data": {
      "text/html": [
       "My wife and I are Having A baby soon, and purchased this item just for peace of mind. You cant put a <span style=\"color:green\">price</span> on a newborns life. A must have for anyone having a newborn."
      ],
      "text/plain": [
       "<IPython.core.display.HTML object>"
      ]
     },
     "metadata": {},
     "output_type": "display_data"
    },
    {
     "data": {
      "text/html": [
       "Fabulous item. I'm a first time mom, my friend's daughter passed away from SIDS so I was really paranoid, getting up multiple times a night and not sleeping to check on my daughter. The snuza helped give me peace of mind to finally get some sleep and trust that if something happened, it would alert me. I've only had a couple false alarms since my four month old moves a lot in her sleep and the snuza came loose. But it was well worth the <span style=\"color:green\">price</span> for peace of mind."
      ],
      "text/plain": [
       "<IPython.core.display.HTML object>"
      ]
     },
     "metadata": {},
     "output_type": "display_data"
    },
    {
     "data": {
      "text/html": [
       "I have used the Snuza Hero with my youngest two children. I only wish I had known about this product when my other kids were young.With our first Snuza, the battery lasted a full year. With our most recent Snuza, the battery needed to be replaced after nine months. Either way, that's a pretty good <span style=\"color:green\">battery life</span> for something that is used every day for hours at a time.We had very few false alarms with either unit. With my daughter, it was mostly operator error. We did see a slight increase in false alarms when she began sleeping on her stomach, so we began to clip the unit to the back of her diaper and the false alarms stopped. With our son, he is a much more restless baby when going to sleep, so the unit has on occasion become dislodged.The reason I chose the Snuza style monitor over an Angel Care style monitor is because of size and portability. We travel a lot and we camp quite a bit. Because the Snuza simply clips to the diaper or pants, we can take it anywhere easily, in the crib at home, in the playpen camping, at my mother-in-law's house in her guest bed, etc."
      ],
      "text/plain": [
       "<IPython.core.display.HTML object>"
      ]
     },
     "metadata": {},
     "output_type": "display_data"
    },
    {
     "data": {
      "text/html": [
       "My wife and I are Having A baby soon, and purchased this item just for peace of mind. You cant put a <span style=\"color:green\">price</span> on a newborns life. A must have for anyone having a newborn."
      ],
      "text/plain": [
       "<IPython.core.display.HTML object>"
      ]
     },
     "metadata": {},
     "output_type": "display_data"
    },
    {
     "data": {
      "text/html": [
       "Best $100 we've ever spent!!! In 6 months, we've only had to replace the battery one time.My only negative feedback is that I hate that you need a special better for it. It really should take an AA or AAA."
      ],
      "text/plain": [
       "<IPython.core.display.HTML object>"
      ]
     },
     "metadata": {},
     "output_type": "display_data"
    },
    {
     "name": "stdout",
     "output_type": "stream",
     "text": [
      "\n",
      "Relevance and sentiment scores for these most positive reviews:\n",
      "\n",
      "+-------------+-----------------+--------------+---------------------+-----------------+---------------------+\n",
      "| __review_id | relevance_score |   keyword    |        review       | sentiment_score |         name        |\n",
      "+-------------+-----------------+--------------+---------------------+-----------------+---------------------+\n",
      "|      74     |  4.87557555332  |    price     | Got this for my ... |  0.992401856737 | Snuza Baby Monit... |\n",
      "|      81     |  4.47594068884  |    price     | My wife and I ar... |  0.988045651138 | Snuza Baby Monit... |\n",
      "|      66     |   3.3987484123  |    price     | Fabulous item. I... |  0.971710133865 | Snuza Baby Monit... |\n",
      "|      78     |  7.91497773439  | battery life | I have used the ... |  0.995889919562 | Snuza Baby Monit... |\n",
      "|      81     |  6.24912353626  | battery life | My wife and I ar... |  0.988045651138 | Snuza Baby Monit... |\n",
      "|      71     |  4.73998147821  | battery life | Best $100 we've ... |  0.884638404325 | Snuza Baby Monit... |\n",
      "+-------------+-----------------+--------------+---------------------+-----------------+---------------------+\n",
      "[6 rows x 6 columns]\n",
      "\n"
     ]
    }
   ],
   "source": [
    "most_positive_monitor_reviews = reviews_sentiment.get_most_positive(keywords=aspects, groupby='name', k=3)\n",
    "\n",
    "most_positive_monitor_reviews = most_positive_monitor_reviews.filter_by(item_a, 'name')\n",
    "\n",
    "print 'Top-3 positive reviews for \\\"%s\\\" per \\'aspect\\' of interest:\\n' % item_a\n",
    "\n",
    "for review in most_positive_monitor_reviews['review']:\n",
    "    highlighted_review = highlight(review, aspects, 'green')\n",
    "    display(HTML(highlighted_review))\n",
    "\n",
    "print '\\nRelevance and sentiment scores for these most positive reviews:\\n'\n",
    "most_positive_monitor_reviews.print_rows(num_rows=30, max_column_width=20, max_row_width=180)"
   ]
  },
  {
   "cell_type": "code",
   "execution_count": 82,
   "metadata": {
    "collapsed": false
   },
   "outputs": [
    {
     "name": "stdout",
     "output_type": "stream",
     "text": [
      "Top-3 negative reviews for \"Snuza Baby Monitor, Hero\" per 'aspect' of interest:\n",
      "\n"
     ]
    },
    {
     "data": {
      "text/html": [
       "I was hesitant at first to purchase this item because of it's <span style=\"color:green\">price</span> tag, but now that we have one, I'd never go without it. I have had a few &#34;false alarms&#34; and I've noticed that if I don't get it clipped on to her diaper just right, that's when we have the alarm go off. It gives me the peace of mind when we go to sleep at night that everything is ok. The alarm is loud enough that it wakes me up right away. I highly recommend this product to everyone!!"
      ],
      "text/plain": [
       "<IPython.core.display.HTML object>"
      ]
     },
     "metadata": {},
     "output_type": "display_data"
    },
    {
     "data": {
      "text/html": [
       "Fabulous item. I'm a first time mom, my friend's daughter passed away from SIDS so I was really paranoid, getting up multiple times a night and not sleeping to check on my daughter. The snuza helped give me peace of mind to finally get some sleep and trust that if something happened, it would alert me. I've only had a couple false alarms since my four month old moves a lot in her sleep and the snuza came loose. But it was well worth the <span style=\"color:green\">price</span> for peace of mind."
      ],
      "text/plain": [
       "<IPython.core.display.HTML object>"
      ]
     },
     "metadata": {},
     "output_type": "display_data"
    },
    {
     "data": {
      "text/html": [
       "My wife and I are Having A baby soon, and purchased this item just for peace of mind. You cant put a <span style=\"color:green\">price</span> on a newborns life. A must have for anyone having a newborn."
      ],
      "text/plain": [
       "<IPython.core.display.HTML object>"
      ]
     },
     "metadata": {},
     "output_type": "display_data"
    },
    {
     "data": {
      "text/html": [
       "The idea is good since the under-mattress monitors may not capture everything.  However the size is an issue, especially early on when the umbilical cord is still in way.Also, until you get it installed / set up correctly, expect false alarms.  Those will surprise the baby into crying while you frantically remove the blanket, swaddle and/or clothing to turn off the smoke-detector-decibel alarm.We'll use ours for a few months until he is out of the risk from SIDS, then give it away so that it can maybe save a life."
      ],
      "text/plain": [
       "<IPython.core.display.HTML object>"
      ]
     },
     "metadata": {},
     "output_type": "display_data"
    },
    {
     "data": {
      "text/html": [
       "If the battery lasted longer or was easier to replace I would have given it four stars.  It works great and no false alarms but it only lasted a week before it started beeping the battery was low and I haven't found a replacement at any local stores. Will need to order it online I guess. For the money that is a shame"
      ],
      "text/plain": [
       "<IPython.core.display.HTML object>"
      ]
     },
     "metadata": {},
     "output_type": "display_data"
    },
    {
     "data": {
      "text/html": [
       "I bought this product because my 4 month old would continually roll over on her stomach while sleeping.  When I mentioned this to the Pediatrician, he told me to roll her back to her back.  This was impossible.  As soon as I rolled to her back, she would roll to her stomach again.  I was so worried about SIDS that I got online and found this product.  It had good ratings and it was exactly what I was looking for.I was a little worried about using it while she was on her stomach.  It doesn't seem to bother her at all.  We attach it to the front of her diaper as described in the instructions.  Ever since we have been using it, I have slept better.  I used to wake up several times a night to check her breathing and now I don't have to.The alarm has sounded 3 times.  2 times she stopped breathing.  She had a cold and was congested both times.  The third time was a false alarm - the monitor was not securely attached to the diaper.  When I picked her up, the monitor was hanging on by a little bit.  I am so glad I decided to get this device.  It might have saved her life.  I would recommend this to everyone, especially if you are worried about SIDS.  My daughter is now 6 months old and I plan on using this until she is at least one year old."
      ],
      "text/plain": [
       "<IPython.core.display.HTML object>"
      ]
     },
     "metadata": {},
     "output_type": "display_data"
    },
    {
     "name": "stdout",
     "output_type": "stream",
     "text": [
      "\n",
      "Relevance and sentiment scores for these most negative reviews:\n",
      "\n",
      "+-------------+-----------------+--------------+---------------------+-----------------+---------------------+\n",
      "| __review_id | relevance_score |   keyword    |        review       | sentiment_score |         name        |\n",
      "+-------------+-----------------+--------------+---------------------+-----------------+---------------------+\n",
      "|      89     |  3.30281643601  |    price     | I was hesitant a... |  0.956818465185 | Snuza Baby Monit... |\n",
      "|      66     |   3.3987484123  |    price     | Fabulous item. I... |  0.971710133865 | Snuza Baby Monit... |\n",
      "|      81     |  4.47594068884  |    price     | My wife and I ar... |  0.988045651138 | Snuza Baby Monit... |\n",
      "|      83     |  4.68684991156  | battery life | The idea is good... |  0.175443937193 | Snuza Baby Monit... |\n",
      "|      45     |  5.66478907044  | battery life | If the battery l... |  0.211681056814 | Snuza Baby Monit... |\n",
      "|      57     |  2.88786216689  | battery life | I bought this pr... |  0.592857045143 | Snuza Baby Monit... |\n",
      "+-------------+-----------------+--------------+---------------------+-----------------+---------------------+\n",
      "[6 rows x 6 columns]\n",
      "\n"
     ]
    }
   ],
   "source": [
    "most_negative_monitor_reviews = reviews_sentiment.get_most_negative(keywords=aspects, groupby='name', k=3)\n",
    "\n",
    "most_negative_monitor_reviews = most_negative_monitor_reviews.filter_by(item_a, 'name')\n",
    "\n",
    "print 'Top-3 negative reviews for \\\"%s\\\" per \\'aspect\\' of interest:\\n' % item_a\n",
    "\n",
    "for review in most_negative_monitor_reviews['review']:\n",
    "    highlighted_review = highlight(review, aspects, 'green')\n",
    "    display(HTML(highlighted_review))\n",
    "\n",
    "print '\\nRelevance and sentiment scores for these most negative reviews:\\n'\n",
    "most_negative_monitor_reviews.print_rows(num_rows=30, max_column_width=20, max_row_width=180)"
   ]
  },
  {
   "cell_type": "code",
   "execution_count": null,
   "metadata": {
    "collapsed": true
   },
   "outputs": [],
   "source": []
  }
 ],
 "metadata": {
  "kernelspec": {
   "display_name": "Python 2",
   "language": "python",
   "name": "python2"
  },
  "language_info": {
   "codemirror_mode": {
    "name": "ipython",
    "version": 2
   },
   "file_extension": ".py",
   "mimetype": "text/x-python",
   "name": "python",
   "nbconvert_exporter": "python",
   "pygments_lexer": "ipython2",
   "version": "2.7.11"
  }
 },
 "nbformat": 4,
 "nbformat_minor": 0
}
