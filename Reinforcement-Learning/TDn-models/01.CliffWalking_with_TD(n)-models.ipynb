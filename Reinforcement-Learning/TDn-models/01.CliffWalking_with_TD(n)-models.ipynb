{
 "cells": [
  {
   "cell_type": "markdown",
   "metadata": {},
   "source": [
    "# Cliff Walking Problem solved with TD(n) Algorithms: Implementation & Comparisons"
   ]
  },
  {
   "cell_type": "markdown",
   "metadata": {},
   "source": [
    "## 1. Load Libraries & Define Environment"
   ]
  },
  {
   "cell_type": "code",
   "execution_count": 1,
   "metadata": {},
   "outputs": [],
   "source": [
    "import gym\n",
    "import random\n",
    "import numpy as np\n",
    "import pandas as pd\n",
    "import seaborn as sns\n",
    "from matplotlib import pyplot as plt\n",
    "from collections import OrderedDict"
   ]
  },
  {
   "cell_type": "markdown",
   "metadata": {},
   "source": [
    "The **OpenAI Gym toolkit** includes the below environment for the **\"Cliff-Walking\"** problem:"
   ]
  },
  {
   "cell_type": "code",
   "execution_count": 2,
   "metadata": {},
   "outputs": [
    {
     "name": "stdout",
     "output_type": "stream",
     "text": [
      "OpenAI Gym environments for Cliff Walking Problem:\n"
     ]
    },
    {
     "data": {
      "text/plain": [
       "['CliffWalking-v0']"
      ]
     },
     "execution_count": 2,
     "metadata": {},
     "output_type": "execute_result"
    }
   ],
   "source": [
    "print('OpenAI Gym environments for Cliff Walking Problem:')\n",
    "[k for k in gym.envs.registry.env_specs.keys() if k.find('Cliff' , 0) >=0]"
   ]
  },
  {
   "cell_type": "markdown",
   "metadata": {},
   "source": [
    "Load the **Cliff-Walking** environment:"
   ]
  },
  {
   "cell_type": "code",
   "execution_count": 3,
   "metadata": {},
   "outputs": [],
   "source": [
    "env = gym.make('CliffWalking-v0')"
   ]
  },
  {
   "cell_type": "markdown",
   "metadata": {},
   "source": [
    "This environment has to do about gridworld shown below, where the traveller initial position (**`x`**) and the target to achieve (reach **`T`**) has been flagged appropriately. In addition in a one of the edge of this gridwordld example there is a \"Cliff\" denoted with **`C`**. Reward is $-1$ on all transitions except those into the cliff region. Steppping into this region incurs a reward of $-100$ and sends the agent instantly back to the start. \n",
    "\n",
    "Once the environment is initialized you get the situation below. This is an episodic (undiscounted) task with start at traveller's starting point, and it is completed either when the goal is achieved, that is the traveller manage to reach the target location, **`T`**, or she may happen to step into the cliff. In this case the environment is reseted in each initial state."
   ]
  },
  {
   "cell_type": "code",
   "execution_count": 4,
   "metadata": {},
   "outputs": [
    {
     "name": "stdout",
     "output_type": "stream",
     "text": [
      "o  o  o  o  o  o  o  o  o  o  o  o\n",
      "o  o  o  o  o  o  o  o  o  o  o  o\n",
      "o  o  o  o  o  o  o  o  o  o  o  o\n",
      "x  C  C  C  C  C  C  C  C  C  C  T\n",
      "\n"
     ]
    }
   ],
   "source": [
    "env.render()"
   ]
  },
  {
   "cell_type": "markdown",
   "metadata": {},
   "source": [
    "Possible *traveller's actions* are of course her movements in this grid:\n",
    "- **\"UP\"**:  denoted by 0\n",
    "- **\"RIGHT\"**: denoted by 1\n",
    "- **\"DOWN\"**: denoted by 2\n",
    "- **\"LEFT\"**: denoted by 3\n",
    "\n",
    "To get the *new state* at *every next step of an episode*, you may pass the current action into the `.step()` method of the environment. The environment then will return a tuple **(observation, reward, done, info)** each of which are explained as below:\n",
    "- **observation (object):** agent's observation of the current environment\n",
    "- **reward (float):** amount of reward returned after previous action\n",
    "- **done (bool):** whether the episode has ended, in which case further step() calls will return undefined results\n",
    "- **info (dict):** contains auxiliary diagnostic information (helpful for debugging, and sometimes learning)\n",
    "\n",
    "***Note:*** *At termination of each episode, the programmer is responsible to reset the environment.*\n",
    "\n",
    "For further details concerning the `CliffWalking-v0` environment of **OpenAI Gym toolkit** consult the docstring below."
   ]
  },
  {
   "cell_type": "code",
   "execution_count": 23,
   "metadata": {},
   "outputs": [
    {
     "name": "stdout",
     "output_type": "stream",
     "text": [
      "Help on CliffWalkingEnv in module gym.envs.toy_text.cliffwalking object:\n",
      "\n",
      "class CliffWalkingEnv(gym.envs.toy_text.discrete.DiscreteEnv)\n",
      " |  This is a simple implementation of the Gridworld Cliff\n",
      " |  reinforcement learning task.\n",
      " |  \n",
      " |  Adapted from Example 6.6 (page 106) from Reinforcement Learning: An Introduction\n",
      " |  by Sutton and Barto:\n",
      " |  http://incompleteideas.net/book/bookdraft2018jan1.pdf\n",
      " |  \n",
      " |  With inspiration from:\n",
      " |  https://github.com/dennybritz/reinforcement-learning/blob/master/lib/envs/cliff_walking.py\n",
      " |  \n",
      " |  The board is a 4x12 matrix, with (using NumPy matrix indexing):\n",
      " |      [3, 0] as the start at bottom-left\n",
      " |      [3, 11] as the goal at bottom-right\n",
      " |      [3, 1..10] as the cliff at bottom-center\n",
      " |  \n",
      " |  Each time step incurs -1 reward, and stepping into the cliff incurs -100 reward\n",
      " |  and a reset to the start. An episode terminates when the agent reaches the goal.\n",
      " |  \n",
      " |  Method resolution order:\n",
      " |      CliffWalkingEnv\n",
      " |      gym.envs.toy_text.discrete.DiscreteEnv\n",
      " |      gym.core.Env\n",
      " |      builtins.object\n",
      " |  \n",
      " |  Methods defined here:\n",
      " |  \n",
      " |  __init__(self)\n",
      " |      Initialize self.  See help(type(self)) for accurate signature.\n",
      " |  \n",
      " |  render(self, mode='human')\n",
      " |      Renders the environment.\n",
      " |      \n",
      " |      The set of supported modes varies per environment. (And some\n",
      " |      environments do not support rendering at all.) By convention,\n",
      " |      if mode is:\n",
      " |      \n",
      " |      - human: render to the current display or terminal and\n",
      " |        return nothing. Usually for human consumption.\n",
      " |      - rgb_array: Return an numpy.ndarray with shape (x, y, 3),\n",
      " |        representing RGB values for an x-by-y pixel image, suitable\n",
      " |        for turning into a video.\n",
      " |      - ansi: Return a string (str) or StringIO.StringIO containing a\n",
      " |        terminal-style text representation. The text can include newlines\n",
      " |        and ANSI escape sequences (e.g. for colors).\n",
      " |      \n",
      " |      Note:\n",
      " |          Make sure that your class's metadata 'render.modes' key includes\n",
      " |            the list of supported modes. It's recommended to call super()\n",
      " |            in implementations to use the functionality of this method.\n",
      " |      \n",
      " |      Args:\n",
      " |          mode (str): the mode to render with\n",
      " |      \n",
      " |      Example:\n",
      " |      \n",
      " |      class MyEnv(Env):\n",
      " |          metadata = {'render.modes': ['human', 'rgb_array']}\n",
      " |      \n",
      " |          def render(self, mode='human'):\n",
      " |              if mode == 'rgb_array':\n",
      " |                  return np.array(...) # return RGB frame suitable for video\n",
      " |              elif mode == 'human':\n",
      " |                  ... # pop up a window and render\n",
      " |              else:\n",
      " |                  super(MyEnv, self).render(mode=mode) # just raise an exception\n",
      " |  \n",
      " |  ----------------------------------------------------------------------\n",
      " |  Data and other attributes defined here:\n",
      " |  \n",
      " |  metadata = {'render.modes': ['human', 'ansi']}\n",
      " |  \n",
      " |  ----------------------------------------------------------------------\n",
      " |  Methods inherited from gym.envs.toy_text.discrete.DiscreteEnv:\n",
      " |  \n",
      " |  reset(self)\n",
      " |      Resets the environment to an initial state and returns an initial\n",
      " |      observation.\n",
      " |      \n",
      " |      Note that this function should not reset the environment's random\n",
      " |      number generator(s); random variables in the environment's state should\n",
      " |      be sampled independently between multiple calls to `reset()`. In other\n",
      " |      words, each call of `reset()` should yield an environment suitable for\n",
      " |      a new episode, independent of previous episodes.\n",
      " |      \n",
      " |      Returns:\n",
      " |          observation (object): the initial observation.\n",
      " |  \n",
      " |  seed(self, seed=None)\n",
      " |      Sets the seed for this env's random number generator(s).\n",
      " |      \n",
      " |      Note:\n",
      " |          Some environments use multiple pseudorandom number generators.\n",
      " |          We want to capture all such seeds used in order to ensure that\n",
      " |          there aren't accidental correlations between multiple generators.\n",
      " |      \n",
      " |      Returns:\n",
      " |          list<bigint>: Returns the list of seeds used in this env's random\n",
      " |            number generators. The first value in the list should be the\n",
      " |            \"main\" seed, or the value which a reproducer should pass to\n",
      " |            'seed'. Often, the main seed equals the provided 'seed', but\n",
      " |            this won't be true if seed=None, for example.\n",
      " |  \n",
      " |  step(self, a)\n",
      " |      Run one timestep of the environment's dynamics. When end of\n",
      " |      episode is reached, you are responsible for calling `reset()`\n",
      " |      to reset this environment's state.\n",
      " |      \n",
      " |      Accepts an action and returns a tuple (observation, reward, done, info).\n",
      " |      \n",
      " |      Args:\n",
      " |          action (object): an action provided by the agent\n",
      " |      \n",
      " |      Returns:\n",
      " |          observation (object): agent's observation of the current environment\n",
      " |          reward (float) : amount of reward returned after previous action\n",
      " |          done (bool): whether the episode has ended, in which case further step() calls will return undefined results\n",
      " |          info (dict): contains auxiliary diagnostic information (helpful for debugging, and sometimes learning)\n",
      " |  \n",
      " |  ----------------------------------------------------------------------\n",
      " |  Methods inherited from gym.core.Env:\n",
      " |  \n",
      " |  __enter__(self)\n",
      " |      Support with-statement for the environment.\n",
      " |  \n",
      " |  __exit__(self, *args)\n",
      " |      Support with-statement for the environment.\n",
      " |  \n",
      " |  __str__(self)\n",
      " |      Return str(self).\n",
      " |  \n",
      " |  close(self)\n",
      " |      Override close in your subclass to perform any necessary cleanup.\n",
      " |      \n",
      " |      Environments will automatically close() themselves when\n",
      " |      garbage collected or when the program exits.\n",
      " |  \n",
      " |  ----------------------------------------------------------------------\n",
      " |  Readonly properties inherited from gym.core.Env:\n",
      " |  \n",
      " |  unwrapped\n",
      " |      Completely unwrap this env.\n",
      " |      \n",
      " |      Returns:\n",
      " |          gym.Env: The base non-wrapped gym.Env instance\n",
      " |  \n",
      " |  ----------------------------------------------------------------------\n",
      " |  Data descriptors inherited from gym.core.Env:\n",
      " |  \n",
      " |  __dict__\n",
      " |      dictionary for instance variables (if defined)\n",
      " |  \n",
      " |  __weakref__\n",
      " |      list of weak references to the object (if defined)\n",
      " |  \n",
      " |  ----------------------------------------------------------------------\n",
      " |  Data and other attributes inherited from gym.core.Env:\n",
      " |  \n",
      " |  action_space = None\n",
      " |  \n",
      " |  observation_space = None\n",
      " |  \n",
      " |  reward_range = (-inf, inf)\n",
      " |  \n",
      " |  spec = None\n",
      "\n"
     ]
    }
   ],
   "source": [
    "help(env)"
   ]
  },
  {
   "cell_type": "markdown",
   "metadata": {},
   "source": [
    "## 2. RL-Algorithms based on Temporal Difference TD(n): Prediction Problem\n",
    "\n",
    "### 2a. Load the \"Temporal Difference\" Python class"
   ]
  },
  {
   "cell_type": "markdown",
   "metadata": {},
   "source": [
    "Load the Python class `PlotUtils()` which provides various plotting utilities and start a new instance."
   ]
  },
  {
   "cell_type": "code",
   "execution_count": 5,
   "metadata": {},
   "outputs": [],
   "source": [
    "%run ../PlotUtils.py"
   ]
  },
  {
   "cell_type": "code",
   "execution_count": 6,
   "metadata": {},
   "outputs": [],
   "source": [
    "plotutls = PlotUtils()"
   ]
  },
  {
   "cell_type": "markdown",
   "metadata": {},
   "source": [
    "Load the **Temporal Difference Python class**, `TemporalDifferenceUtils()`:"
   ]
  },
  {
   "cell_type": "code",
   "execution_count": 7,
   "metadata": {},
   "outputs": [],
   "source": [
    "%run ../TDn_Utils.py"
   ]
  },
  {
   "cell_type": "markdown",
   "metadata": {},
   "source": [
    "Instantiate the class for the environment of interest:"
   ]
  },
  {
   "cell_type": "code",
   "execution_count": 8,
   "metadata": {},
   "outputs": [],
   "source": [
    "TD = TemporalDifferenceUtils(env)"
   ]
  },
  {
   "cell_type": "markdown",
   "metadata": {},
   "source": [
    "### 2b. n-step TD Prediction (estimating $V \\approx v_{\\pi}$)"
   ]
  },
  {
   "cell_type": "markdown",
   "metadata": {},
   "source": [
    "We define the functions below to help:\n",
    "1. *compute* the **optimal state-action values** of this problem, \n",
    "2. *provide* the **optimal policy** which is expected to be learned by the agent, and\n",
    "3. *visualize* the **result** to *verify* that everything have been configured correctly."
   ]
  },
  {
   "cell_type": "code",
   "execution_count": 12,
   "metadata": {},
   "outputs": [],
   "source": [
    "def cliff_walking_optimal_q_values(grid_height=4, grid_width=12, cliff_index = np.s_[:,:,:]):\n",
    "    \n",
    "    # Define the start position\n",
    "    start = [grid_height - 1, 0] \n",
    "\n",
    "    # Define the position of target dstination\n",
    "    goal = [grid_height - 1, grid_width - 1]\n",
    "\n",
    "    # Define a dictionary of possible actions\n",
    "    actions_dict = {}\n",
    "    actions = ['UP', 'RIGHT', 'DOWN', 'LEFT']\n",
    "    for k, v in zip(actions, range(0, len(actions))):\n",
    "        actions_dict[k] = v\n",
    "\n",
    "    # Define a \"q_values\" array for grid-world of interest\n",
    "    n_states = grid_height * grid_width\n",
    "    n_actions = len(actions_dict)\n",
    "    q_values =  np.full((grid_height, grid_width, n_actions), fill_value=-100.)\n",
    "\n",
    "    # Determine \"q_values\" of optimal policy\n",
    "    n_steps = grid_width\n",
    "    q_values[:cliff_index[0],:,actions_dict['RIGHT']] = np.arange(0, n_steps, 1)\n",
    "    q_values[start[0], start[1], actions_dict['UP']] = 0.5\n",
    "    q_values[:goal[0],goal[1],actions_dict['DOWN']] = n_steps\n",
    "    \n",
    "    return q_values\n",
    "\n",
    "\n",
    "def cliff_walking_optimal_policy(env, state):\n",
    "    active_q = cliff_walking_optimal_q_values(grid_height=4, grid_width=12, cliff_index = np.s_[3,1:12,:])\n",
    "    active_q = active_q.reshape((env.observation_space.n, env.action_space.n))\n",
    "    return TD.epsilon_greedy_policy(env, active_q, state, epsilon=0.)\n",
    "\n",
    "\n",
    "# print optimal policy\n",
    "def print_optimal_policy(q_values, grid_height=4, grid_width=12):\n",
    "    # Define a helper dictionary of actions\n",
    "    actions_dict = {}\n",
    "    actions = ['UP', 'RIGHT', 'DOWN', 'LEFT']\n",
    "    for k, v in zip(actions, range(0, len(actions))):\n",
    "        actions_dict[k] = v\n",
    "        \n",
    "    # Define the position of target dstination\n",
    "    GOAL = [3, 11]\n",
    "        \n",
    "    # Reshape the \"q_values\" table to follow grid-world dimensionality\n",
    "    q_values = q_values.reshape((grid_height, grid_width, len(actions)))\n",
    "        \n",
    "    optimal_policy = []\n",
    "    for i in range(0, grid_height):\n",
    "        optimal_policy.append([])\n",
    "        for j in range(0, grid_width):\n",
    "            if [i, j] == GOAL:\n",
    "                optimal_policy[-1].append('G')\n",
    "                continue\n",
    "            bestAction = np.argmax(q_values[i, j, :])\n",
    "            if bestAction == actions_dict['UP']:\n",
    "                optimal_policy[-1].append('\\U00002191')\n",
    "            elif bestAction == actions_dict['RIGHT']:\n",
    "                optimal_policy[-1].append('\\U00002192')\n",
    "            elif bestAction == actions_dict['DOWN']:\n",
    "                optimal_policy[-1].append('\\U00002193')\n",
    "            elif bestAction == actions_dict['LEFT']:\n",
    "                optimal_policy[-1].append('\\U00002190')\n",
    "    for row in optimal_policy:\n",
    "        print(*row)"
   ]
  },
  {
   "cell_type": "markdown",
   "metadata": {},
   "source": [
    "Verify that the optimal policy has been configured correctly."
   ]
  },
  {
   "cell_type": "code",
   "execution_count": 10,
   "metadata": {},
   "outputs": [
    {
     "name": "stdout",
     "output_type": "stream",
     "text": [
      "→ → → → → → → → → → → ↓\n",
      "→ → → → → → → → → → → ↓\n",
      "→ → → → → → → → → → → ↓\n",
      "↑ ↑ ↑ ↑ ↑ ↑ ↑ ↑ ↑ ↑ ↑ G\n"
     ]
    }
   ],
   "source": [
    "active_q = cliff_walking_optimal_q_values(grid_height=4, grid_width=12, cliff_index = np.s_[3,1:12,:])\n",
    "print_optimal_policy(active_q, grid_height=4, grid_width=12)"
   ]
  },
  {
   "cell_type": "markdown",
   "metadata": {},
   "source": [
    "Use the `temporal_difference_prediction()` method to predict the **state values** if the agent let to follow a **5-step TD** learning path."
   ]
  },
  {
   "cell_type": "code",
   "execution_count": 11,
   "metadata": {},
   "outputs": [
    {
     "name": "stderr",
     "output_type": "stream",
     "text": [
      "Independent Runs:   0%|\u001b[38;2;3;53;0m          \u001b[0m| 0/10 [00:00<?, ?it/s]"
     ]
    },
    {
     "name": "stdout",
     "output_type": "stream",
     "text": [
      "Estimating state values for TD(5)...\n"
     ]
    },
    {
     "name": "stderr",
     "output_type": "stream",
     "text": [
      "Episodes: 100%|\u001b[38;2;132;0;0m██████████\u001b[0m| 100/100 [00:00<00:00, 479.61it/s]\n",
      "Episodes: 100%|\u001b[38;2;132;0;0m██████████\u001b[0m| 100/100 [00:00<00:00, 430.57it/s]it]\n",
      "Episodes: 100%|\u001b[38;2;132;0;0m██████████\u001b[0m| 100/100 [00:00<00:00, 507.74it/s]it]\n",
      "Episodes: 100%|\u001b[38;2;132;0;0m██████████\u001b[0m| 100/100 [00:00<00:00, 504.14it/s]it]\n",
      "Episodes: 100%|\u001b[38;2;132;0;0m██████████\u001b[0m| 100/100 [00:00<00:00, 432.86it/s]it]\n",
      "Episodes: 100%|\u001b[38;2;132;0;0m██████████\u001b[0m| 100/100 [00:00<00:00, 294.62it/s]it]\n",
      "Episodes: 100%|\u001b[38;2;132;0;0m██████████\u001b[0m| 100/100 [00:00<00:00, 446.72it/s]it]\n",
      "Episodes: 100%|\u001b[38;2;132;0;0m██████████\u001b[0m| 100/100 [00:00<00:00, 345.32it/s]it]\n",
      "Episodes: 100%|\u001b[38;2;132;0;0m██████████\u001b[0m| 100/100 [00:00<00:00, 504.68it/s]it]\n",
      "Episodes: 100%|\u001b[38;2;132;0;0m██████████\u001b[0m| 100/100 [00:00<00:00, 426.37it/s]it]\n",
      "Independent Runs: 100%|\u001b[38;2;3;53;0m██████████\u001b[0m| 10/10 [00:32<00:00,  3.24s/it]\n"
     ]
    }
   ],
   "source": [
    "runs=10; n_episodes = 100\n",
    "s_values = TD.temporal_difference_prediction(env, cliff_walking_optimal_policy,\n",
    "                                             runs=runs, n_episodes=n_episodes, decimals=2,\n",
    "                                             n_step=6, step_size=0.3, discount=1., epsilon=0.1)"
   ]
  },
  {
   "cell_type": "code",
   "execution_count": 12,
   "metadata": {},
   "outputs": [
    {
     "data": {
      "image/png": "[encoded data removed]",
      "text/plain": [
       "<Figure size 720x720 with 2 Axes>"
      ]
     },
     "metadata": {
      "needs_background": "light"
     },
     "output_type": "display_data"
    }
   ],
   "source": [
    "title = 'State-value Predictions\\n[Cliff-Walking task]'\n",
    "plotutls.plot_state_values(s_values, grid_height=4, grid_width=12, title=title)"
   ]
  },
  {
   "cell_type": "markdown",
   "metadata": {},
   "source": [
    "## 3. RL-Algorithms based on Temporal Difference TD(n): Control Problem"
   ]
  },
  {
   "cell_type": "markdown",
   "metadata": {},
   "source": [
    "### 3a. SARSA: On-Policy TD(n) Control"
   ]
  },
  {
   "cell_type": "code",
   "execution_count": 13,
   "metadata": {},
   "outputs": [
    {
     "name": "stderr",
     "output_type": "stream",
     "text": [
      "Independent Runs:   0%|\u001b[38;2;3;53;0m          \u001b[0m| 0/10 [00:00<?, ?it/s]"
     ]
    },
    {
     "name": "stdout",
     "output_type": "stream",
     "text": [
      "Determine the n-steps your are interested to explore...\n",
      "\n",
      "n_steps: [2 3 4 5 6] \n",
      "\n",
      "Determine a fixed discount factor: 1.0\n",
      "\n",
      "Determine a fixed step-size: 0.3\n",
      "\n",
      "Determine a fixed epsilon: 0.1\n",
      "\n",
      "Create a dictionary of the RL-models of interest...\n",
      "\n",
      "Number of RL-models to try: 6\n",
      "\n",
      "Let all RL-models to be trained for 100 episodes and 10 independent runs...\n",
      "\n",
      "Training RL-model: sarsa(0)...\n"
     ]
    },
    {
     "name": "stderr",
     "output_type": "stream",
     "text": [
      "Episodes: 100%|\u001b[38;2;132;0;0m██████████\u001b[0m| 100/100 [00:00<00:00, 231.52it/s]\n",
      "Episodes: 100%|\u001b[38;2;132;0;0m██████████\u001b[0m| 100/100 [00:00<00:00, 211.42it/s]it]\n",
      "Episodes: 100%|\u001b[38;2;132;0;0m██████████\u001b[0m| 100/100 [00:00<00:00, 175.15it/s]it]\n",
      "Episodes: 100%|\u001b[38;2;132;0;0m██████████\u001b[0m| 100/100 [00:00<00:00, 215.33it/s]it]\n",
      "Episodes: 100%|\u001b[38;2;132;0;0m██████████\u001b[0m| 100/100 [00:00<00:00, 187.03it/s]it]\n",
      "Episodes: 100%|\u001b[38;2;132;0;0m██████████\u001b[0m| 100/100 [00:00<00:00, 196.33it/s]it]\n",
      "Episodes: 100%|\u001b[38;2;132;0;0m██████████\u001b[0m| 100/100 [00:00<00:00, 201.46it/s]it]\n",
      "Episodes: 100%|\u001b[38;2;132;0;0m██████████\u001b[0m| 100/100 [00:00<00:00, 220.73it/s]it]\n",
      "Episodes: 100%|\u001b[38;2;132;0;0m██████████\u001b[0m| 100/100 [00:00<00:00, 214.81it/s]it]\n",
      "Episodes: 100%|\u001b[38;2;132;0;0m██████████\u001b[0m| 100/100 [00:00<00:00, 210.66it/s]it]\n",
      "Independent Runs: 100%|\u001b[38;2;3;53;0m██████████\u001b[0m| 10/10 [00:34<00:00,  3.49s/it]\n",
      "Independent Runs:   0%|\u001b[38;2;3;53;0m          \u001b[0m| 0/10 [00:00<?, ?it/s]"
     ]
    },
    {
     "name": "stdout",
     "output_type": "stream",
     "text": [
      "Training RL-model: sarsa(1)...\n"
     ]
    },
    {
     "name": "stderr",
     "output_type": "stream",
     "text": [
      "Episodes: 100%|\u001b[38;2;132;0;0m██████████\u001b[0m| 100/100 [00:00<00:00, 241.53it/s]\n",
      "Episodes: 100%|\u001b[38;2;132;0;0m██████████\u001b[0m| 100/100 [00:00<00:00, 218.14it/s]it]\n",
      "Episodes: 100%|\u001b[38;2;132;0;0m██████████\u001b[0m| 100/100 [00:00<00:00, 177.67it/s]it]\n",
      "Episodes: 100%|\u001b[38;2;132;0;0m██████████\u001b[0m| 100/100 [00:00<00:00, 208.07it/s]it]\n",
      "Episodes: 100%|\u001b[38;2;132;0;0m██████████\u001b[0m| 100/100 [00:00<00:00, 228.99it/s]it]\n",
      "Episodes: 100%|\u001b[38;2;132;0;0m██████████\u001b[0m| 100/100 [00:00<00:00, 228.14it/s]it]\n",
      "Episodes: 100%|\u001b[38;2;132;0;0m██████████\u001b[0m| 100/100 [00:00<00:00, 252.75it/s]it]\n",
      "Episodes: 100%|\u001b[38;2;132;0;0m██████████\u001b[0m| 100/100 [00:00<00:00, 231.52it/s]it]\n",
      "Episodes: 100%|\u001b[38;2;132;0;0m██████████\u001b[0m| 100/100 [00:00<00:00, 216.45it/s]it]\n",
      "Episodes: 100%|\u001b[38;2;132;0;0m██████████\u001b[0m| 100/100 [00:00<00:00, 229.81it/s]it]\n",
      "Independent Runs: 100%|\u001b[38;2;3;53;0m██████████\u001b[0m| 10/10 [00:34<00:00,  3.46s/it]\n",
      "Independent Runs:   0%|\u001b[38;2;3;53;0m          \u001b[0m| 0/10 [00:00<?, ?it/s]"
     ]
    },
    {
     "name": "stdout",
     "output_type": "stream",
     "text": [
      "Training RL-model: sarsa(2)...\n"
     ]
    },
    {
     "name": "stderr",
     "output_type": "stream",
     "text": [
      "Episodes: 100%|\u001b[38;2;132;0;0m██████████\u001b[0m| 100/100 [00:00<00:00, 247.13it/s]\n",
      "Episodes: 100%|\u001b[38;2;132;0;0m██████████\u001b[0m| 100/100 [00:00<00:00, 256.39it/s]it]\n",
      "Episodes: 100%|\u001b[38;2;132;0;0m██████████\u001b[0m| 100/100 [00:00<00:00, 256.91it/s]it]\n",
      "Episodes: 100%|\u001b[38;2;132;0;0m██████████\u001b[0m| 100/100 [00:00<00:00, 223.60it/s]it]\n",
      "Episodes: 100%|\u001b[38;2;132;0;0m██████████\u001b[0m| 100/100 [00:00<00:00, 254.15it/s]it]\n",
      "Episodes: 100%|\u001b[38;2;132;0;0m██████████\u001b[0m| 100/100 [00:00<00:00, 242.02it/s]it]\n",
      "Episodes: 100%|\u001b[38;2;132;0;0m██████████\u001b[0m| 100/100 [00:00<00:00, 240.57it/s]it]\n",
      "Episodes: 100%|\u001b[38;2;132;0;0m██████████\u001b[0m| 100/100 [00:00<00:00, 219.44it/s]it]\n",
      "Episodes: 100%|\u001b[38;2;132;0;0m██████████\u001b[0m| 100/100 [00:00<00:00, 228.70it/s]it]\n",
      "Episodes: 100%|\u001b[38;2;132;0;0m██████████\u001b[0m| 100/100 [00:00<00:00, 227.72it/s]it]\n",
      "Independent Runs: 100%|\u001b[38;2;3;53;0m██████████\u001b[0m| 10/10 [00:34<00:00,  3.43s/it]\n",
      "Independent Runs:   0%|\u001b[38;2;3;53;0m          \u001b[0m| 0/10 [00:00<?, ?it/s]"
     ]
    },
    {
     "name": "stdout",
     "output_type": "stream",
     "text": [
      "Training RL-model: sarsa(3)...\n"
     ]
    },
    {
     "name": "stderr",
     "output_type": "stream",
     "text": [
      "Episodes: 100%|\u001b[38;2;132;0;0m██████████\u001b[0m| 100/100 [00:00<00:00, 230.63it/s]\n",
      "Episodes: 100%|\u001b[38;2;132;0;0m██████████\u001b[0m| 100/100 [00:00<00:00, 257.50it/s]it]\n",
      "Episodes: 100%|\u001b[38;2;132;0;0m██████████\u001b[0m| 100/100 [00:00<00:00, 260.41it/s]it]\n",
      "Episodes: 100%|\u001b[38;2;132;0;0m██████████\u001b[0m| 100/100 [00:00<00:00, 259.55it/s]it]\n",
      "Episodes: 100%|\u001b[38;2;132;0;0m██████████\u001b[0m| 100/100 [00:00<00:00, 246.61it/s]it]\n",
      "Episodes: 100%|\u001b[38;2;132;0;0m██████████\u001b[0m| 100/100 [00:00<00:00, 241.05it/s]it]\n",
      "Episodes: 100%|\u001b[38;2;132;0;0m██████████\u001b[0m| 100/100 [00:00<00:00, 225.33it/s]it]\n",
      "Episodes: 100%|\u001b[38;2;132;0;0m██████████\u001b[0m| 100/100 [00:00<00:00, 244.51it/s]it]\n",
      "Episodes: 100%|\u001b[38;2;132;0;0m██████████\u001b[0m| 100/100 [00:00<00:00, 237.23it/s]it]\n",
      "Episodes: 100%|\u001b[38;2;132;0;0m██████████\u001b[0m| 100/100 [00:00<00:00, 242.79it/s]it]\n",
      "Independent Runs: 100%|\u001b[38;2;3;53;0m██████████\u001b[0m| 10/10 [00:34<00:00,  3.42s/it]\n",
      "Independent Runs:   0%|\u001b[38;2;3;53;0m          \u001b[0m| 0/10 [00:00<?, ?it/s]"
     ]
    },
    {
     "name": "stdout",
     "output_type": "stream",
     "text": [
      "Training RL-model: sarsa(4)...\n"
     ]
    },
    {
     "name": "stderr",
     "output_type": "stream",
     "text": [
      "Episodes: 100%|\u001b[38;2;132;0;0m██████████\u001b[0m| 100/100 [00:00<00:00, 223.82it/s]\n",
      "Episodes: 100%|\u001b[38;2;132;0;0m██████████\u001b[0m| 100/100 [00:00<00:00, 245.02it/s]it]\n",
      "Episodes: 100%|\u001b[38;2;132;0;0m██████████\u001b[0m| 100/100 [00:00<00:00, 204.77it/s]it]\n",
      "Episodes: 100%|\u001b[38;2;132;0;0m██████████\u001b[0m| 100/100 [00:00<00:00, 265.82it/s]it]\n",
      "Episodes: 100%|\u001b[38;2;132;0;0m██████████\u001b[0m| 100/100 [00:00<00:00, 195.76it/s]it]\n",
      "Episodes: 100%|\u001b[38;2;132;0;0m██████████\u001b[0m| 100/100 [00:00<00:00, 245.00it/s]it]\n",
      "Episodes: 100%|\u001b[38;2;132;0;0m██████████\u001b[0m| 100/100 [00:00<00:00, 220.25it/s]it]\n",
      "Episodes: 100%|\u001b[38;2;132;0;0m██████████\u001b[0m| 100/100 [00:00<00:00, 224.82it/s]it]\n",
      "Episodes: 100%|\u001b[38;2;132;0;0m██████████\u001b[0m| 100/100 [00:00<00:00, 224.07it/s]it]\n",
      "Episodes: 100%|\u001b[38;2;132;0;0m██████████\u001b[0m| 100/100 [00:00<00:00, 204.71it/s]it]\n",
      "Independent Runs: 100%|\u001b[38;2;3;53;0m██████████\u001b[0m| 10/10 [00:34<00:00,  3.45s/it]\n",
      "Independent Runs:   0%|\u001b[38;2;3;53;0m          \u001b[0m| 0/10 [00:00<?, ?it/s]"
     ]
    },
    {
     "name": "stdout",
     "output_type": "stream",
     "text": [
      "Training RL-model: sarsa(5)...\n"
     ]
    },
    {
     "name": "stderr",
     "output_type": "stream",
     "text": [
      "Episodes: 100%|\u001b[38;2;132;0;0m██████████\u001b[0m| 100/100 [00:00<00:00, 237.59it/s]\n",
      "Episodes: 100%|\u001b[38;2;132;0;0m██████████\u001b[0m| 100/100 [00:00<00:00, 214.45it/s]it]\n",
      "Episodes: 100%|\u001b[38;2;132;0;0m██████████\u001b[0m| 100/100 [00:00<00:00, 257.80it/s]it]\n",
      "Episodes: 100%|\u001b[38;2;132;0;0m██████████\u001b[0m| 100/100 [00:00<00:00, 268.06it/s]it]\n",
      "Episodes: 100%|\u001b[38;2;132;0;0m██████████\u001b[0m| 100/100 [00:00<00:00, 265.74it/s]it]\n",
      "Episodes: 100%|\u001b[38;2;132;0;0m██████████\u001b[0m| 100/100 [00:00<00:00, 260.24it/s]it]\n",
      "Episodes: 100%|\u001b[38;2;132;0;0m██████████\u001b[0m| 100/100 [00:00<00:00, 240.92it/s]it]\n",
      "Episodes: 100%|\u001b[38;2;132;0;0m██████████\u001b[0m| 100/100 [00:00<00:00, 261.58it/s]it]\n",
      "Episodes: 100%|\u001b[38;2;132;0;0m██████████\u001b[0m| 100/100 [00:00<00:00, 244.79it/s]it]\n",
      "Episodes: 100%|\u001b[38;2;132;0;0m██████████\u001b[0m| 100/100 [00:00<00:00, 220.49it/s]it]\n",
      "Independent Runs: 100%|\u001b[38;2;3;53;0m██████████\u001b[0m| 10/10 [00:34<00:00,  3.41s/it]\n"
     ]
    }
   ],
   "source": [
    "# Define TD(n) execution parameters\n",
    "runs = 10         # Number of Independent Runs\n",
    "n_episodes = 100   # Number of Episodes\n",
    "\n",
    "# Various n-steps SARSA algorithms to try\n",
    "print('Determine the n-steps your are interested to explore...\\n')\n",
    "n_step_min = 2; n_step_max = 6\n",
    "n_steps = np.arange(n_step_min, n_step_max + 1)\n",
    "print('n_steps: {}'.format(n_steps), '\\n')\n",
    "\n",
    "# various discount factors to try\n",
    "discount_fixed = 1.\n",
    "print('Determine a fixed discount factor: {}\\n'.format(discount_fixed))\n",
    "\n",
    "# various step size parameters to try\n",
    "step_size_fixed = 0.3\n",
    "print('Determine a fixed step-size: {}\\n'.format(step_size_fixed))\n",
    "\n",
    "# various epsilon parameters to try\n",
    "epsilon_fixed = 0.1\n",
    "print('Determine a fixed epsilon: {}\\n'.format(epsilon_fixed))\n",
    "\n",
    "# Create a mesh-grid of trials\n",
    "print('Create a dictionary of the RL-models of interest...\\n')\n",
    "n_steps, discounts = np.meshgrid(n_steps, discount_fixed)\n",
    "n_steps = n_steps.flatten()\n",
    "discounts = discounts.flatten()\n",
    "\n",
    "# Create a dictionary of the RL-trials of interest\n",
    "RL_trials = {\"sarsa(0)\":\n",
    "             {'epsilon': epsilon_fixed,\n",
    "              'step_size': step_size_fixed, 'discount': discount_fixed, 'n_step': 1}}\n",
    "\n",
    "for n, trial in enumerate(list(zip(n_steps, discounts))):\n",
    "    key = 'sarsa({})'.format(trial[0]-1)\n",
    "    RL_trials[key] = {'epsilon': epsilon_fixed, \n",
    "                      'step_size': step_size_fixed, 'discount': trial[1], 'n_step': trial[0]}\n",
    "print('Number of RL-models to try: {}\\n'.format(len(RL_trials)))\n",
    "\n",
    "print('Let all RL-models to be trained for {0:,} episodes and {1:,} independent runs...\\n'.format(int(n_episodes), int(runs)))\n",
    "\n",
    "rewards_per_trial_On_Policy_SARSA = OrderedDict((label, np.array([])) for label, _ in RL_trials.items())\n",
    "q_values_per_trial_On_Policy_SARSA = OrderedDict((label, np.array([])) for label, _ in RL_trials.items())\n",
    "\n",
    "\n",
    "for trial, params_dict in RL_trials.items():\n",
    "     \n",
    "    # Read out parameters from \"params_dict\"\n",
    "    epsilon = params_dict['epsilon']\n",
    "    step_size = params_dict['step_size']\n",
    "    discount = params_dict['discount']\n",
    "    n_step = params_dict['n_step']\n",
    "    \n",
    "    # Apply SARSA [on-policy TD(n) Control]\n",
    "    q_values, tot_rewards = TD.sarsa_on_policy_control(env,\n",
    "                                                       runs=runs, n_episodes=n_episodes, n_step=n_step,\n",
    "                                                       step_size=step_size, discount=discount, epsilon=epsilon)\n",
    "    \n",
    "    # Update \"rewards_per_trial\" and \"q_values_per_trial\" OrderedDicts\n",
    "    rewards_per_trial_On_Policy_SARSA[trial] = tot_rewards\n",
    "    q_values_per_trial_On_Policy_SARSA[trial] = q_values"
   ]
  },
  {
   "cell_type": "markdown",
   "metadata": {},
   "source": [
    "Verify the learning curves of the RL-models we trained."
   ]
  },
  {
   "cell_type": "code",
   "execution_count": 14,
   "metadata": {},
   "outputs": [
    {
     "data": {
      "image/png": "[encoded data removed]",
      "text/plain": [
       "<Figure size 864x540 with 1 Axes>"
      ]
     },
     "metadata": {
      "needs_background": "light"
     },
     "output_type": "display_data"
    }
   ],
   "source": [
    "title = 'Efficiency of the RL Method\\n[SARSA On-Policy TD(n) Control]'\n",
    "plotutls.plot_learning_curve(rewards_per_trial_On_Policy_SARSA, title=title, \n",
    "                             cumulative_reward=True, lower_reward_ratio=None)"
   ]
  },
  {
   "cell_type": "markdown",
   "metadata": {},
   "source": [
    "Visualize agent's move which is suggested by the solutions."
   ]
  },
  {
   "cell_type": "code",
   "execution_count": 19,
   "metadata": {},
   "outputs": [
    {
     "name": "stdout",
     "output_type": "stream",
     "text": [
      "\n",
      " sarsa(0) :\n",
      "→ → → → → → → → → → → ↓\n",
      "↑ → → → ↑ → → → → → → ↓\n",
      "↑ ↑ ↑ ↑ → ↑ ↑ ↑ ↑ ↑ → ↓\n",
      "↑ ↑ ↑ ↑ ↑ ↑ ↑ ↑ ↑ ↑ ↑ G\n",
      "\n",
      " sarsa(1) :\n",
      "→ → → → → → → → → → → ↓\n",
      "↑ → → → → → → → → → → ↓\n",
      "↑ ↑ ↑ ↑ ↑ ↑ ↑ ↑ ↑ ↑ → ↓\n",
      "↑ ↑ ↑ ↑ ↑ ↑ ↑ ↑ ↑ ↑ ↑ G\n",
      "\n",
      " sarsa(2) :\n",
      "→ → → → → → → → → → ↓ ↓\n",
      "→ → → → → → → → → → → ↓\n",
      "↑ ↑ ↑ ↑ ↑ ↑ ↑ ↑ ↑ ↑ → ↓\n",
      "↑ ↑ ↑ ↑ ↑ ↑ ↑ ↑ ↑ ↑ ↑ G\n",
      "\n",
      " sarsa(3) :\n",
      "→ → → → → → → → → → → ↓\n",
      "→ → → → → → → → → → → ↓\n",
      "↑ ↑ ↑ ↑ ↑ ↑ ↑ ↑ ↑ ↑ → ↓\n",
      "↑ ↑ ↑ ↑ ↑ ↑ ↑ ↑ ↑ ↑ ↑ G\n",
      "\n",
      " sarsa(4) :\n",
      "→ → → → → → → → → → → ↓\n",
      "↑ ↑ → → → → → → → → → ↓\n",
      "↑ ↑ → ↑ ↑ ↑ ↑ ↑ ↑ ↑ → ↓\n",
      "↑ ↑ ↑ ↑ ↑ ↑ ↑ ↑ ↑ ↑ ↑ G\n",
      "\n",
      " sarsa(5) :\n",
      "→ → → → → → → → → → → ↓\n",
      "↑ ↑ ↓ → → → → → → → → ↓\n",
      "→ → → ← ↑ ↑ ↑ ↑ ↑ → → ↓\n",
      "↑ ↑ ↑ ↑ ↑ ↑ ↑ ↑ ↑ ↑ ↑ G\n"
     ]
    }
   ],
   "source": [
    "for trial in list(RL_trials.keys()):\n",
    "    print('\\n', trial, ':')\n",
    "    q_vals = q_values_per_trial_On_Policy_SARSA[trial]\n",
    "    # q_vals = np.round(q_values_per_trial_On_Policy_SARSA[trial], decimals=2)\n",
    "    print_optimal_policy(q_vals, grid_height=4, grid_width=12)"
   ]
  },
  {
   "cell_type": "markdown",
   "metadata": {},
   "source": [
    "### 3b. Expected SARSA: On-Policy TD(n) Control"
   ]
  },
  {
   "cell_type": "code",
   "execution_count": 30,
   "metadata": {},
   "outputs": [
    {
     "name": "stderr",
     "output_type": "stream",
     "text": [
      "Independent Runs:   0%|\u001b[38;2;3;53;0m          \u001b[0m| 0/10 [00:00<?, ?it/s]"
     ]
    },
    {
     "name": "stdout",
     "output_type": "stream",
     "text": [
      "Determine the n-steps your are interested to explore...\n",
      "\n",
      "n_steps: [2 3 4 5 6] \n",
      "\n",
      "Determine a fixed discount factor: 1.0\n",
      "\n",
      "Determine a fixed step-size: 0.7\n",
      "\n",
      "Determine a fixed epsilon: 0.1\n",
      "\n",
      "Create a dictionary of the RL-models of interest...\n",
      "\n",
      "Number of RL-models to try: 6\n",
      "\n",
      "Let all RL-models to be trained for 100 episodes and 10 independent runs...\n",
      "\n",
      "Training RL-model: sarsa(0)...\n"
     ]
    },
    {
     "name": "stderr",
     "output_type": "stream",
     "text": [
      "Episodes: 100%|\u001b[38;2;132;0;0m██████████\u001b[0m| 100/100 [00:00<00:00, 235.79it/s]\n",
      "Episodes: 100%|\u001b[38;2;132;0;0m██████████\u001b[0m| 100/100 [00:00<00:00, 224.63it/s]it]\n",
      "Episodes: 100%|\u001b[38;2;132;0;0m██████████\u001b[0m| 100/100 [00:00<00:00, 212.10it/s]it]\n",
      "Episodes: 100%|\u001b[38;2;132;0;0m██████████\u001b[0m| 100/100 [00:00<00:00, 211.94it/s]it]\n",
      "Episodes: 100%|\u001b[38;2;132;0;0m██████████\u001b[0m| 100/100 [00:00<00:00, 234.75it/s]it]\n",
      "Episodes: 100%|\u001b[38;2;132;0;0m██████████\u001b[0m| 100/100 [00:00<00:00, 239.39it/s]it]\n",
      "Episodes: 100%|\u001b[38;2;132;0;0m██████████\u001b[0m| 100/100 [00:00<00:00, 238.63it/s]it]\n",
      "Episodes: 100%|\u001b[38;2;132;0;0m██████████\u001b[0m| 100/100 [00:00<00:00, 210.67it/s]it]\n",
      "Episodes: 100%|\u001b[38;2;132;0;0m██████████\u001b[0m| 100/100 [00:00<00:00, 221.28it/s]it]\n",
      "Episodes: 100%|\u001b[38;2;132;0;0m██████████\u001b[0m| 100/100 [00:00<00:00, 248.36it/s]it]\n",
      "Independent Runs: 100%|\u001b[38;2;3;53;0m██████████\u001b[0m| 10/10 [00:34<00:00,  3.45s/it]\n",
      "Independent Runs:   0%|\u001b[38;2;3;53;0m          \u001b[0m| 0/10 [00:00<?, ?it/s]"
     ]
    },
    {
     "name": "stdout",
     "output_type": "stream",
     "text": [
      "Training RL-model: sarsa(1)...\n"
     ]
    },
    {
     "name": "stderr",
     "output_type": "stream",
     "text": [
      "Episodes: 100%|\u001b[38;2;132;0;0m██████████\u001b[0m| 100/100 [00:00<00:00, 229.74it/s]\n",
      "Episodes: 100%|\u001b[38;2;132;0;0m██████████\u001b[0m| 100/100 [00:00<00:00, 235.95it/s]it]\n",
      "Episodes: 100%|\u001b[38;2;132;0;0m██████████\u001b[0m| 100/100 [00:00<00:00, 227.84it/s]it]\n",
      "Episodes: 100%|\u001b[38;2;132;0;0m██████████\u001b[0m| 100/100 [00:00<00:00, 232.37it/s]it]\n",
      "Episodes: 100%|\u001b[38;2;132;0;0m██████████\u001b[0m| 100/100 [00:00<00:00, 252.10it/s]it]\n",
      "Episodes: 100%|\u001b[38;2;132;0;0m██████████\u001b[0m| 100/100 [00:00<00:00, 222.88it/s]it]\n",
      "Episodes: 100%|\u001b[38;2;132;0;0m██████████\u001b[0m| 100/100 [00:00<00:00, 236.74it/s]it]\n",
      "Episodes: 100%|\u001b[38;2;132;0;0m██████████\u001b[0m| 100/100 [00:00<00:00, 245.07it/s]it]\n",
      "Episodes: 100%|\u001b[38;2;132;0;0m██████████\u001b[0m| 100/100 [00:00<00:00, 233.22it/s]it]\n",
      "Episodes: 100%|\u001b[38;2;132;0;0m██████████\u001b[0m| 100/100 [00:00<00:00, 213.39it/s]it]\n",
      "Independent Runs: 100%|\u001b[38;2;3;53;0m██████████\u001b[0m| 10/10 [00:34<00:00,  3.44s/it]\n",
      "Independent Runs:   0%|\u001b[38;2;3;53;0m          \u001b[0m| 0/10 [00:00<?, ?it/s]"
     ]
    },
    {
     "name": "stdout",
     "output_type": "stream",
     "text": [
      "Training RL-model: sarsa(2)...\n"
     ]
    },
    {
     "name": "stderr",
     "output_type": "stream",
     "text": [
      "Episodes: 100%|\u001b[38;2;132;0;0m██████████\u001b[0m| 100/100 [00:00<00:00, 254.90it/s]\n",
      "Episodes: 100%|\u001b[38;2;132;0;0m██████████\u001b[0m| 100/100 [00:00<00:00, 228.46it/s]it]\n",
      "Episodes: 100%|\u001b[38;2;132;0;0m██████████\u001b[0m| 100/100 [00:00<00:00, 241.98it/s]it]\n",
      "Episodes: 100%|\u001b[38;2;132;0;0m██████████\u001b[0m| 100/100 [00:00<00:00, 200.08it/s]it]\n",
      "Episodes: 100%|\u001b[38;2;132;0;0m██████████\u001b[0m| 100/100 [00:00<00:00, 247.57it/s]it]\n",
      "Episodes: 100%|\u001b[38;2;132;0;0m██████████\u001b[0m| 100/100 [00:00<00:00, 251.11it/s]it]\n",
      "Episodes: 100%|\u001b[38;2;132;0;0m██████████\u001b[0m| 100/100 [00:00<00:00, 256.91it/s]it]\n",
      "Episodes: 100%|\u001b[38;2;132;0;0m██████████\u001b[0m| 100/100 [00:00<00:00, 263.98it/s]it]\n",
      "Episodes: 100%|\u001b[38;2;132;0;0m██████████\u001b[0m| 100/100 [00:00<00:00, 256.24it/s]it]\n",
      "Episodes: 100%|\u001b[38;2;132;0;0m██████████\u001b[0m| 100/100 [00:00<00:00, 251.65it/s]it]\n",
      "Independent Runs: 100%|\u001b[38;2;3;53;0m██████████\u001b[0m| 10/10 [00:34<00:00,  3.42s/it]\n",
      "Independent Runs:   0%|\u001b[38;2;3;53;0m          \u001b[0m| 0/10 [00:00<?, ?it/s]"
     ]
    },
    {
     "name": "stdout",
     "output_type": "stream",
     "text": [
      "Training RL-model: sarsa(3)...\n"
     ]
    },
    {
     "name": "stderr",
     "output_type": "stream",
     "text": [
      "Episodes: 100%|\u001b[38;2;132;0;0m██████████\u001b[0m| 100/100 [00:00<00:00, 250.02it/s]\n",
      "Episodes: 100%|\u001b[38;2;132;0;0m██████████\u001b[0m| 100/100 [00:00<00:00, 273.99it/s]it]\n",
      "Episodes: 100%|\u001b[38;2;132;0;0m██████████\u001b[0m| 100/100 [00:00<00:00, 262.87it/s]it]\n",
      "Episodes: 100%|\u001b[38;2;132;0;0m██████████\u001b[0m| 100/100 [00:00<00:00, 260.97it/s]it]\n",
      "Episodes: 100%|\u001b[38;2;132;0;0m██████████\u001b[0m| 100/100 [00:00<00:00, 272.44it/s]it]\n",
      "Episodes: 100%|\u001b[38;2;132;0;0m██████████\u001b[0m| 100/100 [00:00<00:00, 237.19it/s]it]\n",
      "Episodes: 100%|\u001b[38;2;132;0;0m██████████\u001b[0m| 100/100 [00:00<00:00, 266.72it/s]it]\n",
      "Episodes: 100%|\u001b[38;2;132;0;0m██████████\u001b[0m| 100/100 [00:00<00:00, 214.93it/s]it]\n",
      "Episodes: 100%|\u001b[38;2;132;0;0m██████████\u001b[0m| 100/100 [00:00<00:00, 257.92it/s]it]\n",
      "Episodes: 100%|\u001b[38;2;132;0;0m██████████\u001b[0m| 100/100 [00:00<00:00, 252.46it/s]it]\n",
      "Independent Runs: 100%|\u001b[38;2;3;53;0m██████████\u001b[0m| 10/10 [00:34<00:00,  3.40s/it]\n",
      "Independent Runs:   0%|\u001b[38;2;3;53;0m          \u001b[0m| 0/10 [00:00<?, ?it/s]"
     ]
    },
    {
     "name": "stdout",
     "output_type": "stream",
     "text": [
      "Training RL-model: sarsa(4)...\n"
     ]
    },
    {
     "name": "stderr",
     "output_type": "stream",
     "text": [
      "Episodes: 100%|\u001b[38;2;132;0;0m██████████\u001b[0m| 100/100 [00:00<00:00, 263.40it/s]\n",
      "Episodes: 100%|\u001b[38;2;132;0;0m██████████\u001b[0m| 100/100 [00:00<00:00, 235.14it/s]it]\n",
      "Episodes: 100%|\u001b[38;2;132;0;0m██████████\u001b[0m| 100/100 [00:00<00:00, 262.62it/s]it]\n",
      "Episodes: 100%|\u001b[38;2;132;0;0m██████████\u001b[0m| 100/100 [00:00<00:00, 230.43it/s]it]\n",
      "Episodes: 100%|\u001b[38;2;132;0;0m██████████\u001b[0m| 100/100 [00:00<00:00, 256.16it/s]it]\n",
      "Episodes: 100%|\u001b[38;2;132;0;0m██████████\u001b[0m| 100/100 [00:00<00:00, 270.58it/s]it]\n",
      "Episodes: 100%|\u001b[38;2;132;0;0m██████████\u001b[0m| 100/100 [00:00<00:00, 208.63it/s]it]\n",
      "Episodes: 100%|\u001b[38;2;132;0;0m██████████\u001b[0m| 100/100 [00:00<00:00, 247.30it/s]it]\n",
      "Episodes: 100%|\u001b[38;2;132;0;0m██████████\u001b[0m| 100/100 [00:00<00:00, 269.57it/s]it]\n",
      "Episodes: 100%|\u001b[38;2;132;0;0m██████████\u001b[0m| 100/100 [00:00<00:00, 229.49it/s]it]\n",
      "Independent Runs: 100%|\u001b[38;2;3;53;0m██████████\u001b[0m| 10/10 [00:34<00:00,  3.41s/it]\n",
      "Independent Runs:   0%|\u001b[38;2;3;53;0m          \u001b[0m| 0/10 [00:00<?, ?it/s]"
     ]
    },
    {
     "name": "stdout",
     "output_type": "stream",
     "text": [
      "Training RL-model: sarsa(5)...\n"
     ]
    },
    {
     "name": "stderr",
     "output_type": "stream",
     "text": [
      "Episodes: 100%|\u001b[38;2;132;0;0m██████████\u001b[0m| 100/100 [00:00<00:00, 238.07it/s]\n",
      "Episodes: 100%|\u001b[38;2;132;0;0m██████████\u001b[0m| 100/100 [00:00<00:00, 236.93it/s]it]\n",
      "Episodes: 100%|\u001b[38;2;132;0;0m██████████\u001b[0m| 100/100 [00:00<00:00, 259.59it/s]it]\n",
      "Episodes: 100%|\u001b[38;2;132;0;0m██████████\u001b[0m| 100/100 [00:00<00:00, 210.06it/s]it]\n",
      "Episodes: 100%|\u001b[38;2;132;0;0m██████████\u001b[0m| 100/100 [00:00<00:00, 252.53it/s]it]\n",
      "Episodes: 100%|\u001b[38;2;132;0;0m██████████\u001b[0m| 100/100 [00:00<00:00, 238.69it/s]it]\n",
      "Episodes: 100%|\u001b[38;2;132;0;0m██████████\u001b[0m| 100/100 [00:00<00:00, 239.21it/s]it]\n",
      "Episodes: 100%|\u001b[38;2;132;0;0m██████████\u001b[0m| 100/100 [00:00<00:00, 259.44it/s]it]\n",
      "Episodes: 100%|\u001b[38;2;132;0;0m██████████\u001b[0m| 100/100 [00:00<00:00, 266.10it/s]it]\n",
      "Episodes: 100%|\u001b[38;2;132;0;0m██████████\u001b[0m| 100/100 [00:00<00:00, 230.19it/s]it]\n",
      "Independent Runs: 100%|\u001b[38;2;3;53;0m██████████\u001b[0m| 10/10 [00:34<00:00,  3.42s/it]\n"
     ]
    }
   ],
   "source": [
    "# Define TD(n) execution parameters\n",
    "runs = 10         # Number of Independent Runs\n",
    "n_episodes = 100   # Number of Episodes\n",
    "\n",
    "# Various n-steps SARSA algorithms to try\n",
    "print('Determine the n-steps your are interested to explore...\\n')\n",
    "n_step_min = 2; n_step_max = 6\n",
    "n_steps = np.arange(n_step_min, n_step_max + 1)\n",
    "print('n_steps: {}'.format(n_steps), '\\n')\n",
    "\n",
    "# various discount factors to try\n",
    "discount_fixed = 1.\n",
    "print('Determine a fixed discount factor: {}\\n'.format(discount_fixed))\n",
    "\n",
    "# various step size parameters to try\n",
    "step_size_fixed = 0.7\n",
    "print('Determine a fixed step-size: {}\\n'.format(step_size_fixed))\n",
    "\n",
    "# various epsilon parameters to try\n",
    "epsilon_fixed = 0.1\n",
    "print('Determine a fixed epsilon: {}\\n'.format(epsilon_fixed))\n",
    "\n",
    "# Create a mesh-grid of trials\n",
    "print('Create a dictionary of the RL-models of interest...\\n')\n",
    "n_steps, discounts = np.meshgrid(n_steps, discount_fixed)\n",
    "n_steps = n_steps.flatten()\n",
    "discounts = discounts.flatten()\n",
    "\n",
    "# Create a dictionary of the RL-trials of interest\n",
    "RL_trials = {\"sarsa(0)\":\n",
    "             {'epsilon': epsilon_fixed,\n",
    "              'step_size': step_size_fixed, 'discount': discount_fixed, 'n_step': 1}}\n",
    "\n",
    "for n, trial in enumerate(list(zip(n_steps, discounts))):\n",
    "    key = 'sarsa({})'.format(trial[0]-1)\n",
    "    RL_trials[key] = {'epsilon': epsilon_fixed, \n",
    "                      'step_size': step_size_fixed, 'discount': trial[1], 'n_step': trial[0]}\n",
    "print('Number of RL-models to try: {}\\n'.format(len(RL_trials)))\n",
    "\n",
    "print('Let all RL-models to be trained for {0:,} episodes and {1:,} independent runs...\\n'.format(int(n_episodes), int(runs)))\n",
    "\n",
    "rewards_per_trial_On_Policy_ExpSARSA = OrderedDict((label, np.array([])) for label, _ in RL_trials.items())\n",
    "q_values_per_trial_On_Policy_ExpSARSA = OrderedDict((label, np.array([])) for label, _ in RL_trials.items())\n",
    "\n",
    "\n",
    "for trial, params_dict in RL_trials.items():\n",
    "     \n",
    "    # Read out parameters from \"params_dict\"\n",
    "    epsilon = params_dict['epsilon']\n",
    "    step_size = params_dict['step_size']\n",
    "    discount = params_dict['discount']\n",
    "    n_step = params_dict['n_step']\n",
    "    \n",
    "    # Apply SARSA [on-policy TD(n) Control]\n",
    "    q_values, tot_rewards = TD.expected_sarsa_on_policy_control(env,\n",
    "                                                                runs=runs, n_episodes=n_episodes, n_step=n_step,\n",
    "                                                                step_size=step_size, discount=discount, epsilon=epsilon)\n",
    "    \n",
    "    # Update \"rewards_per_trial\" and \"q_values_per_trial\" OrderedDicts\n",
    "    rewards_per_trial_On_Policy_ExpSARSA[trial] = tot_rewards\n",
    "    q_values_per_trial_On_Policy_ExpSARSA[trial] = q_values"
   ]
  },
  {
   "cell_type": "markdown",
   "metadata": {},
   "source": [
    "Verify the learning curves of the RL-models we trained."
   ]
  },
  {
   "cell_type": "code",
   "execution_count": 31,
   "metadata": {},
   "outputs": [
    {
     "data": {
      "image/png": "[encoded data removed]",
      "text/plain": [
       "<Figure size 864x540 with 1 Axes>"
      ]
     },
     "metadata": {
      "needs_background": "light"
     },
     "output_type": "display_data"
    }
   ],
   "source": [
    "title = 'Efficiency of the RL Method\\n[Expected SARSA Οn-policy TD(n) Control]'\n",
    "plotutls.plot_learning_curve(rewards_per_trial_On_Policy_ExpSARSA,title=title,\n",
    "                             cumulative_reward=True, lower_reward_ratio=None)"
   ]
  },
  {
   "cell_type": "markdown",
   "metadata": {},
   "source": [
    "Visualize agent's move which is suggested by the solutions."
   ]
  },
  {
   "cell_type": "code",
   "execution_count": 33,
   "metadata": {},
   "outputs": [
    {
     "name": "stdout",
     "output_type": "stream",
     "text": [
      "\n",
      " sarsa(0) :\n",
      "→ → → → → → → → → → → ↓\n",
      "→ → → → → → → → → → → ↓\n",
      "↑ ↑ ↑ ↑ ↑ ↑ ↑ ↑ ↑ → → ↓\n",
      "↑ ↑ ↑ ↑ ↑ ↑ ↑ ↑ ↑ ↑ ↑ G\n",
      "\n",
      " sarsa(1) :\n",
      "→ → → → → → → → → → → ↓\n",
      "→ → → → → → → → → → → ↓\n",
      "↑ ↑ ↑ ↑ ↑ ↑ ↑ ↑ ↑ → → ↓\n",
      "↑ ↑ ↑ ↑ ↑ ↑ ↑ ↑ ↑ ↑ ↑ G\n",
      "\n",
      " sarsa(2) :\n",
      "→ → → → → → → → → → → ↓\n",
      "→ → → → → → → → → → → ↓\n",
      "↑ ↑ ↑ ↑ ↑ ↑ ↑ ↑ ↑ → → ↓\n",
      "↑ ↑ ↑ ↑ ↑ ↑ ↑ ↑ ↑ ↑ ↑ G\n",
      "\n",
      " sarsa(3) :\n",
      "→ → → → → → → → → → → ↓\n",
      "↑ → → → → → → → → → → ↓\n",
      "↑ → → ↑ ↑ → → ↑ → → → ↓\n",
      "↑ ↑ ↑ ↑ ↑ ↑ ↑ ↑ ↑ ↑ ↑ G\n",
      "\n",
      " sarsa(4) :\n",
      "→ → → → → → → → → → → ↓\n",
      "↑ → → → → → → → → → → ↓\n",
      "↑ → ↑ → → → ↑ ↑ → → → ↓\n",
      "↑ ↑ ↑ ↑ ↑ ↑ ↑ ↑ ↑ ↑ ↑ G\n",
      "\n",
      " sarsa(5) :\n",
      "→ → → → → → → → → → → ↓\n",
      "→ ↑ ↑ → → → → → → → → ↓\n",
      "↑ ↑ ↑ ↑ → → → → → → → ↓\n",
      "↑ ↑ ↑ ↑ ↑ ↑ ↑ ↑ ↑ ↑ ↑ G\n"
     ]
    }
   ],
   "source": [
    "for trial in list(RL_trials.keys()):\n",
    "    print('\\n', trial, ':')\n",
    "    q_vals = q_values_per_trial_On_Policy_ExpSARSA[trial]\n",
    "    # q_vals = np.round(q_values_per_trial_On_Policy_ExpSARSA[trial], decimals=2)\n",
    "    print_optimal_policy(q_vals, grid_height=4, grid_width=12)"
   ]
  },
  {
   "cell_type": "markdown",
   "metadata": {},
   "source": [
    "### 3c. SARSA: Off-Policy TD(n) Control"
   ]
  },
  {
   "cell_type": "code",
   "execution_count": 20,
   "metadata": {},
   "outputs": [
    {
     "name": "stderr",
     "output_type": "stream",
     "text": [
      "Independent Runs:   0%|\u001b[38;2;3;53;0m          \u001b[0m| 0/10 [00:00<?, ?it/s]"
     ]
    },
    {
     "name": "stdout",
     "output_type": "stream",
     "text": [
      "Determine the n-steps your are interested to explore...\n",
      "\n",
      "n_steps: [2 3 4 5 6] \n",
      "\n",
      "Determine a fixed discount factor: 1.0\n",
      "\n",
      "Determine a fixed step-size: 0.5\n",
      "\n",
      "Determine a fixed epsilon: 0.1\n",
      "\n",
      "Create a dictionary of the RL-models of interest...\n",
      "\n",
      "Number of RL-models to try: 6\n",
      "\n",
      "Let all RL-models to be trained for 200 episodes and 10 independent runs...\n",
      "\n",
      "Training RL-model: sarsa(0)...\n"
     ]
    },
    {
     "name": "stderr",
     "output_type": "stream",
     "text": [
      "Episodes: 100%|\u001b[38;2;132;0;0m██████████\u001b[0m| 200/200 [00:04<00:00, 43.93it/s]\n",
      "Episodes: 100%|\u001b[38;2;132;0;0m██████████\u001b[0m| 200/200 [00:06<00:00, 31.39it/s]/it]\n",
      "Episodes: 100%|\u001b[38;2;132;0;0m██████████\u001b[0m| 200/200 [00:03<00:00, 61.44it/s] it]\n",
      "Episodes: 100%|\u001b[38;2;132;0;0m██████████\u001b[0m| 200/200 [00:04<00:00, 41.99it/s]/it]\n",
      "Episodes: 100%|\u001b[38;2;132;0;0m██████████\u001b[0m| 200/200 [00:02<00:00, 75.99it/s] it]\n",
      "Episodes: 100%|\u001b[38;2;132;0;0m██████████\u001b[0m| 200/200 [00:02<00:00, 81.19it/s] it]\n",
      "Episodes: 100%|\u001b[38;2;132;0;0m██████████\u001b[0m| 200/200 [00:07<00:00, 26.89it/s]/it]\n",
      "Episodes: 100%|\u001b[38;2;132;0;0m██████████\u001b[0m| 200/200 [00:04<00:00, 41.00it/s]/it]\n",
      "Episodes: 100%|\u001b[38;2;132;0;0m██████████\u001b[0m| 200/200 [00:10<00:00, 18.73it/s]/it]\n",
      "Episodes: 100%|\u001b[38;2;132;0;0m██████████\u001b[0m| 200/200 [00:07<00:00, 27.51it/s]/it]\n",
      "Independent Runs: 100%|\u001b[38;2;3;53;0m██████████\u001b[0m| 10/10 [01:24<00:00,  8.44s/it]\n",
      "Independent Runs:   0%|\u001b[38;2;3;53;0m          \u001b[0m| 0/10 [00:00<?, ?it/s]"
     ]
    },
    {
     "name": "stdout",
     "output_type": "stream",
     "text": [
      "Training RL-model: sarsa(1)...\n"
     ]
    },
    {
     "name": "stderr",
     "output_type": "stream",
     "text": [
      "Episodes: 100%|\u001b[38;2;132;0;0m██████████\u001b[0m| 200/200 [00:04<00:00, 43.17it/s]\n",
      "Episodes: 100%|\u001b[38;2;132;0;0m██████████\u001b[0m| 200/200 [00:05<00:00, 39.34it/s]/it]\n",
      "Episodes: 100%|\u001b[38;2;132;0;0m██████████\u001b[0m| 200/200 [00:10<00:00, 18.79it/s]/it]\n",
      "Episodes: 100%|\u001b[38;2;132;0;0m██████████\u001b[0m| 200/200 [00:27<00:00,  7.18it/s]/it]\n",
      "Episodes: 100%|\u001b[38;2;132;0;0m██████████\u001b[0m| 200/200 [00:06<00:00, 30.86it/s]/it]\n",
      "Episodes: 100%|\u001b[38;2;132;0;0m██████████\u001b[0m| 200/200 [00:06<00:00, 30.52it/s]/it]\n",
      "Episodes: 100%|\u001b[38;2;132;0;0m██████████\u001b[0m| 200/200 [00:06<00:00, 31.22it/s]/it]\n",
      "Episodes: 100%|\u001b[38;2;132;0;0m██████████\u001b[0m| 200/200 [00:07<00:00, 26.62it/s]/it]\n",
      "Episodes: 100%|\u001b[38;2;132;0;0m██████████\u001b[0m| 200/200 [00:07<00:00, 27.96it/s]/it]\n",
      "Episodes: 100%|\u001b[38;2;132;0;0m██████████\u001b[0m| 200/200 [00:08<00:00, 23.13it/s]/it]\n",
      "Independent Runs: 100%|\u001b[38;2;3;53;0m██████████\u001b[0m| 10/10 [02:01<00:00, 12.10s/it]\n",
      "Independent Runs:   0%|\u001b[38;2;3;53;0m          \u001b[0m| 0/10 [00:00<?, ?it/s]"
     ]
    },
    {
     "name": "stdout",
     "output_type": "stream",
     "text": [
      "Training RL-model: sarsa(2)...\n"
     ]
    },
    {
     "name": "stderr",
     "output_type": "stream",
     "text": [
      "Episodes: 100%|\u001b[38;2;132;0;0m██████████\u001b[0m| 200/200 [00:21<00:00,  9.51it/s]\n",
      "Episodes: 100%|\u001b[38;2;132;0;0m██████████\u001b[0m| 200/200 [00:07<00:00, 25.21it/s]/it]\n",
      "Episodes: 100%|\u001b[38;2;132;0;0m██████████\u001b[0m| 200/200 [00:07<00:00, 27.99it/s]/it]\n",
      "Episodes: 100%|\u001b[38;2;132;0;0m██████████\u001b[0m| 200/200 [00:07<00:00, 26.66it/s]/it]\n",
      "Episodes: 100%|\u001b[38;2;132;0;0m██████████\u001b[0m| 200/200 [00:07<00:00, 28.57it/s]/it]\n",
      "Episodes: 100%|\u001b[38;2;132;0;0m██████████\u001b[0m| 200/200 [00:13<00:00, 14.64it/s]/it]\n",
      "Episodes: 100%|\u001b[38;2;132;0;0m██████████\u001b[0m| 200/200 [00:08<00:00, 24.64it/s]/it]\n",
      "Episodes: 100%|\u001b[38;2;132;0;0m██████████\u001b[0m| 200/200 [00:58<00:00,  3.43it/s]/it]\n",
      "Episodes: 100%|\u001b[38;2;132;0;0m██████████\u001b[0m| 200/200 [00:06<00:00, 31.05it/s]/it]\n",
      "Episodes: 100%|\u001b[38;2;132;0;0m██████████\u001b[0m| 200/200 [00:07<00:00, 26.39it/s]/it]\n",
      "Independent Runs: 100%|\u001b[38;2;3;53;0m██████████\u001b[0m| 10/10 [02:54<00:00, 17.49s/it]\n",
      "Independent Runs:   0%|\u001b[38;2;3;53;0m          \u001b[0m| 0/10 [00:00<?, ?it/s]"
     ]
    },
    {
     "name": "stdout",
     "output_type": "stream",
     "text": [
      "Training RL-model: sarsa(3)...\n"
     ]
    },
    {
     "name": "stderr",
     "output_type": "stream",
     "text": [
      "Episodes: 100%|\u001b[38;2;132;0;0m██████████\u001b[0m| 200/200 [01:00<00:00,  3.32it/s]\n",
      "Episodes: 100%|\u001b[38;2;132;0;0m██████████\u001b[0m| 200/200 [00:10<00:00, 18.83it/s]/it]\n",
      "Episodes: 100%|\u001b[38;2;132;0;0m██████████\u001b[0m| 200/200 [00:49<00:00,  4.04it/s]/it]\n",
      "Episodes: 100%|\u001b[38;2;132;0;0m██████████\u001b[0m| 200/200 [01:26<00:00,  2.32it/s]/it]\n",
      "Episodes: 100%|\u001b[38;2;132;0;0m██████████\u001b[0m| 200/200 [00:27<00:00,  7.38it/s]/it]\n",
      "Episodes: 100%|\u001b[38;2;132;0;0m██████████\u001b[0m| 200/200 [00:13<00:00, 14.99it/s]/it]\n",
      "Episodes: 100%|\u001b[38;2;132;0;0m██████████\u001b[0m| 200/200 [00:06<00:00, 28.74it/s]/it]\n",
      "Episodes: 100%|\u001b[38;2;132;0;0m██████████\u001b[0m| 200/200 [00:07<00:00, 25.85it/s]/it]\n",
      "Episodes: 100%|\u001b[38;2;132;0;0m██████████\u001b[0m| 200/200 [00:08<00:00, 22.33it/s]/it]\n",
      "Episodes: 100%|\u001b[38;2;132;0;0m██████████\u001b[0m| 200/200 [00:07<00:00, 27.45it/s]/it]\n",
      "Independent Runs: 100%|\u001b[38;2;3;53;0m██████████\u001b[0m| 10/10 [05:08<00:00, 30.82s/it]\n",
      "Independent Runs:   0%|\u001b[38;2;3;53;0m          \u001b[0m| 0/10 [00:00<?, ?it/s]"
     ]
    },
    {
     "name": "stdout",
     "output_type": "stream",
     "text": [
      "Training RL-model: sarsa(4)...\n"
     ]
    },
    {
     "name": "stderr",
     "output_type": "stream",
     "text": [
      "Episodes: 100%|\u001b[38;2;132;0;0m██████████\u001b[0m| 200/200 [00:08<00:00, 23.42it/s]\n",
      "Episodes: 100%|\u001b[38;2;132;0;0m██████████\u001b[0m| 200/200 [00:13<00:00, 14.51it/s]/it]\n",
      "Episodes: 100%|\u001b[38;2;132;0;0m██████████\u001b[0m| 200/200 [00:10<00:00, 18.21it/s]/it]\n",
      "Episodes: 100%|\u001b[38;2;132;0;0m██████████\u001b[0m| 200/200 [00:32<00:00,  6.10it/s]/it]\n",
      "Episodes: 100%|\u001b[38;2;132;0;0m██████████\u001b[0m| 200/200 [00:29<00:00,  6.80it/s]/it]\n",
      "Episodes: 100%|\u001b[38;2;132;0;0m██████████\u001b[0m| 200/200 [00:10<00:00, 19.15it/s]/it]\n",
      "Episodes: 100%|\u001b[38;2;132;0;0m██████████\u001b[0m| 200/200 [00:38<00:00,  5.14it/s]/it]\n",
      "Episodes: 100%|\u001b[38;2;132;0;0m██████████\u001b[0m| 200/200 [00:08<00:00, 23.63it/s]/it]\n",
      "Episodes: 100%|\u001b[38;2;132;0;0m██████████\u001b[0m| 200/200 [00:35<00:00,  5.69it/s]/it]\n",
      "Episodes: 100%|\u001b[38;2;132;0;0m██████████\u001b[0m| 200/200 [00:10<00:00, 19.11it/s]/it]\n",
      "Independent Runs: 100%|\u001b[38;2;3;53;0m██████████\u001b[0m| 10/10 [03:48<00:00, 22.89s/it]\n",
      "Independent Runs:   0%|\u001b[38;2;3;53;0m          \u001b[0m| 0/10 [00:00<?, ?it/s]"
     ]
    },
    {
     "name": "stdout",
     "output_type": "stream",
     "text": [
      "Training RL-model: sarsa(5)...\n"
     ]
    },
    {
     "name": "stderr",
     "output_type": "stream",
     "text": [
      "Episodes: 100%|\u001b[38;2;132;0;0m██████████\u001b[0m| 200/200 [00:45<00:00,  4.36it/s] \n",
      "Episodes: 100%|\u001b[38;2;132;0;0m██████████\u001b[0m| 200/200 [00:45<00:00,  4.41it/s]/it]\n",
      "Episodes: 100%|\u001b[38;2;132;0;0m██████████\u001b[0m| 200/200 [00:21<00:00,  9.31it/s]/it]\n",
      "Episodes: 100%|\u001b[38;2;132;0;0m██████████\u001b[0m| 200/200 [03:32<00:00,  1.06s/it]/it]\n",
      "Episodes: 100%|\u001b[38;2;132;0;0m██████████\u001b[0m| 200/200 [00:19<00:00, 10.18it/s]s/it]\n",
      "Episodes: 100%|\u001b[38;2;132;0;0m██████████\u001b[0m| 200/200 [03:06<00:00,  1.07it/s]/it] \n",
      "Episodes: 100%|\u001b[38;2;132;0;0m██████████\u001b[0m| 200/200 [00:16<00:00, 12.10it/s]s/it]\n",
      "Episodes: 100%|\u001b[38;2;132;0;0m██████████\u001b[0m| 200/200 [00:38<00:00,  5.19it/s]/it] \n",
      "Episodes: 100%|\u001b[38;2;132;0;0m██████████\u001b[0m| 200/200 [00:11<00:00, 17.47it/s]/it]\n",
      "Episodes: 100%|\u001b[38;2;132;0;0m██████████\u001b[0m| 200/200 [00:28<00:00,  6.98it/s]/it]\n",
      "Independent Runs: 100%|\u001b[38;2;3;53;0m██████████\u001b[0m| 10/10 [10:56<00:00, 65.67s/it]\n"
     ]
    }
   ],
   "source": [
    "# Define TD(n) execution parameters\n",
    "runs = 10          # Number of Independent Runs\n",
    "n_episodes = 200   # Number of Episodes\n",
    "\n",
    "# Various n-steps SARSA algorithms to try\n",
    "print('Determine the n-steps your are interested to explore...\\n')\n",
    "n_step_min = 2; n_step_max = 6\n",
    "n_steps = np.arange(n_step_min, n_step_max + 1)\n",
    "print('n_steps: {}'.format(n_steps), '\\n')\n",
    "\n",
    "# various discount factors to try\n",
    "discount_fixed = 1.\n",
    "print('Determine a fixed discount factor: {}\\n'.format(discount_fixed))\n",
    "\n",
    "# various step size parameters to try\n",
    "step_size_fixed = 0.5\n",
    "print('Determine a fixed step-size: {}\\n'.format(step_size_fixed))\n",
    "\n",
    "# various epsilon parameters to try\n",
    "epsilon_fixed = 0.1\n",
    "print('Determine a fixed epsilon: {}\\n'.format(epsilon_fixed))\n",
    "\n",
    "# Create a mesh-grid of trials\n",
    "print('Create a dictionary of the RL-models of interest...\\n')\n",
    "n_steps, discounts = np.meshgrid(n_steps, discount_fixed)\n",
    "n_steps = n_steps.flatten()\n",
    "discounts = discounts.flatten()\n",
    "\n",
    "# Create a dictionary of the RL-trials of interest\n",
    "RL_trials = {\"sarsa(0)\":\n",
    "             {'epsilon': epsilon_fixed,\n",
    "              'step_size': step_size_fixed, 'discount': discount_fixed, 'n_step': 1}}\n",
    "\n",
    "for n, trial in enumerate(list(zip(n_steps, discounts))):\n",
    "    key = 'sarsa({})'.format(trial[0]-1)\n",
    "    RL_trials[key] = {'epsilon': epsilon_fixed, \n",
    "                      'step_size': step_size_fixed, 'discount': trial[1], 'n_step': trial[0]}\n",
    "print('Number of RL-models to try: {}\\n'.format(len(RL_trials)))\n",
    "\n",
    "print('Let all RL-models to be trained for {0:,} episodes and {1:,} independent runs...\\n'.format(int(n_episodes), int(runs)))\n",
    "\n",
    "rewards_per_trial_Off_Policy_SARSA = OrderedDict((label, np.array([])) for label, _ in RL_trials.items())\n",
    "q_values_per_trial_Off_Policy_SARSA = OrderedDict((label, np.array([])) for label, _ in RL_trials.items())\n",
    "\n",
    "\n",
    "for trial, params_dict in RL_trials.items():\n",
    "     \n",
    "    # Read out parameters from \"params_dict\"\n",
    "    epsilon = params_dict['epsilon']\n",
    "    step_size = params_dict['step_size']\n",
    "    discount = params_dict['discount']\n",
    "    n_step = params_dict['n_step']\n",
    "    \n",
    "    # Apply SARSA [on-policy TD(n) Control]\n",
    "    q_values, tot_rewards = TD.sarsa_off_policy_control(env,\n",
    "                                                        runs=runs, n_episodes=n_episodes, n_step=n_step,\n",
    "                                                        step_size=step_size, discount=discount, epsilon=epsilon)\n",
    "    \n",
    "    # Update \"rewards_per_trial\" and \"q_values_per_trial\" OrderedDicts\n",
    "    rewards_per_trial_Off_Policy_SARSA[trial] = tot_rewards\n",
    "    q_values_per_trial_Off_Policy_SARSA[trial] = q_values"
   ]
  },
  {
   "cell_type": "markdown",
   "metadata": {},
   "source": [
    "Verify the learning curves of the RL-models we trained."
   ]
  },
  {
   "cell_type": "code",
   "execution_count": 21,
   "metadata": {},
   "outputs": [
    {
     "data": {
      "image/png": "[encoded data removed]",
      "text/plain": [
       "<Figure size 864x540 with 1 Axes>"
      ]
     },
     "metadata": {
      "needs_background": "light"
     },
     "output_type": "display_data"
    }
   ],
   "source": [
    "title = 'Efficiency of the RL Method\\n[SARSA Off-Policy TD(n) Control]'\n",
    "plotutls.plot_learning_curve(rewards_per_trial_Off_Policy_SARSA,title=title,\n",
    "                             cumulative_reward=True, lower_reward_ratio=None)"
   ]
  },
  {
   "cell_type": "markdown",
   "metadata": {},
   "source": [
    "Visualize agent's move which is suggested by the solutions."
   ]
  },
  {
   "cell_type": "code",
   "execution_count": 22,
   "metadata": {},
   "outputs": [
    {
     "name": "stdout",
     "output_type": "stream",
     "text": [
      "\n",
      " sarsa(0) :\n",
      "↑ → → → → → ← ↓ ↓ → ↓ ↓\n",
      "↑ ← → → → ↓ ↑ → ↑ ← ↓ ↓\n",
      "→ ↑ → → → ↑ → ↑ → → → ↓\n",
      "↑ ↑ ↑ ↑ ↑ ↑ ↑ ↑ ↑ ↑ ↑ G\n",
      "\n",
      " sarsa(1) :\n",
      "→ → → → ↓ ← ← → → ↓ ↓ ↓\n",
      "→ → → → → → → → ← ↓ → ↓\n",
      "↑ → ↑ → → → ← → → → → ↓\n",
      "↓ ↑ ↑ ↑ ↑ ↑ ↑ ↑ ↑ ↑ ↑ G\n",
      "\n",
      " sarsa(2) :\n",
      "↓ → ← → → → → → → ↓ ↑ ↓\n",
      "→ → ↓ ↓ ↑ → → → → → → ↓\n",
      "↓ ↑ → ← ↑ → ← → ↑ → → ↓\n",
      "↑ ↑ ↑ ↑ ↑ ↑ ↑ ↑ ↑ ↑ ↑ G\n",
      "\n",
      " sarsa(3) :\n",
      "→ ↓ → → → → ↓ ↓ → ↓ ↓ ↓\n",
      "← → ← ↑ → ↑ → ↑ ← → → ↓\n",
      "↑ → → → ↑ → ← → ← → → ↓\n",
      "↑ ↑ ↑ ↑ ↑ ↑ ↑ ↑ ↑ ↑ ↑ G\n",
      "\n",
      " sarsa(4) :\n",
      "← → ↓ ↓ → ← → ↓ ↓ ← ↓ ↓\n",
      "↓ ↓ ↑ ↓ → → → → → → ↓ ↓\n",
      "↑ ↑ ↑ → ↑ ↑ → ↑ → ← → ↓\n",
      "↑ ↑ ↑ ↑ ↑ ↑ ↑ ↑ ↑ ↑ ↑ G\n",
      "\n",
      " sarsa(5) :\n",
      "→ → → → → → ↓ → ← → → ←\n",
      "↑ ↓ ← ↑ ← → → ↑ → → ↑ ↓\n",
      "↑ → → → → → → → → → → ↓\n",
      "↑ ↑ ↑ ↑ ↑ ↑ ↑ ↑ ↑ ↑ ↑ G\n"
     ]
    }
   ],
   "source": [
    "for trial in list(RL_trials.keys()):\n",
    "    print('\\n', trial, ':')\n",
    "    q_vals = q_values_per_trial_Off_Policy_SARSA[trial]\n",
    "    # q_vals = np.round(q_values_per_trial_Off_Policy_SARSA[trial], decimals=2)\n",
    "    print_optimal_policy(q_vals, grid_height=4, grid_width=12)"
   ]
  },
  {
   "cell_type": "code",
   "execution_count": null,
   "metadata": {},
   "outputs": [],
   "source": []
  }
 ],
 "metadata": {
  "kernelspec": {
   "display_name": "Python 3",
   "language": "python",
   "name": "python3"
  },
  "language_info": {
   "codemirror_mode": {
    "name": "ipython",
    "version": 3
   },
   "file_extension": ".py",
   "mimetype": "text/x-python",
   "name": "python",
   "nbconvert_exporter": "python",
   "pygments_lexer": "ipython3",
   "version": "3.8.8"
  }
 },
 "nbformat": 4,
 "nbformat_minor": 4
}
