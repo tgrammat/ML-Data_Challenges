{
 "cells": [
  {
   "cell_type": "markdown",
   "metadata": {},
   "source": [
    "# Lending Club Loan Data: Exploratory Data Analysis\n",
    "\n",
    "## Description: Analyze Lending Club's issued loans\n",
    "\n",
    "These files contain ***complete*** **loan data** for all loans issued through the **2007-2015**, including the **current loan status (`'Current'`, `'Late'`, `'Fully Paid'`, etc.)** and **latest payment information**. Additional features include **credit scores**, **number of finance inquiries**, **address** including **zip codes**, and **state**, and **collections** among others. The file is a matrix of about 890 thousand observations and 75 variables. Here, we use a previously transformed data set, which is however a full copy of the original one. For more information, or if you want to download these data, consult:\n",
    "\n",
    "## Source\n",
    "\n",
    "* [Lending Club - About](https://www.lendingclub.com/public/about-us.action)\n",
    "* [Lending Club Statistics - Download Data](https://www.lendingclub.com/info/download-data.action)\n",
    "* [kaggle Datasets](https://www.kaggle.com/wendykan/lending-club-loan-data)"
   ]
  },
  {
   "cell_type": "markdown",
   "metadata": {},
   "source": [
    "## 1. Loading Libraries and User-defined Functions"
   ]
  },
  {
   "cell_type": "code",
   "execution_count": 1,
   "metadata": {
    "collapsed": true
   },
   "outputs": [],
   "source": [
    "# Required Libraries\n",
    "import pandas as pd\n",
    "import numpy as np\n",
    "\n",
    "from pprint import pprint\n",
    "#from time import time\n",
    "from __future__ import print_function\n",
    "np.set_printoptions(precision=4, suppress=True)\n",
    "\n",
    "from matplotlib import pyplot as plt\n",
    "import matplotlib as mlb\n",
    "import seaborn as sns"
   ]
  },
  {
   "cell_type": "code",
   "execution_count": 2,
   "metadata": {
    "collapsed": true
   },
   "outputs": [],
   "source": [
    "# Matplotlib/Seaborn Parameters\n",
    "mlb.style.use('seaborn-whitegrid')\n",
    "sns.set_context('talk')\n",
    "%matplotlib inline\n",
    "\n",
    "mlb.rcParams['figure.titleweight'] = 'bold'\n",
    "mlb.rcParams['axes.labelweight'] = 'bold'\n",
    "mlb.rcParams['axes.titleweight'] = 'bold'\n",
    "mlb.rcParams['figure.figsize'] = [10,6]"
   ]
  },
  {
   "cell_type": "code",
   "execution_count": 3,
   "metadata": {
    "collapsed": true
   },
   "outputs": [],
   "source": [
    "# User-defined Functions [Loaded from: /media/ML_HOME/ML-Code_Base (through a .pth file)]\n",
    "from visualization_helper_functions import freq_tables\n",
    "from ML_helper_functions import cv_estimate"
   ]
  },
  {
   "cell_type": "markdown",
   "metadata": {},
   "source": [
    "## 2. Loading Loan Data / Validity Checks\n",
    "\n",
    "The **`loan.csv`** has been loaded and transformed using the **`lending_club_loan_data-eda.py`** script. The data types of the all the attributes have been appropriately defined, as well as the categories of all the nominal and ordinal categorical variables. The transformed data set has ~890 observations, 75 attributes, and it is 502MB in size. Note, that some **`'NA'`** values exist in specific **`float`** and **`str`** variables, but this is expected."
   ]
  },
  {
   "cell_type": "code",
   "execution_count": 4,
   "metadata": {
    "collapsed": false
   },
   "outputs": [],
   "source": [
    "loan_df = pd.read_pickle('./loan_df')"
   ]
  },
  {
   "cell_type": "code",
   "execution_count": 5,
   "metadata": {
    "collapsed": false
   },
   "outputs": [
    {
     "data": {
      "text/plain": [
       "(887379, 74)"
      ]
     },
     "execution_count": 5,
     "metadata": {},
     "output_type": "execute_result"
    }
   ],
   "source": [
    "loan_df.shape"
   ]
  },
  {
   "cell_type": "code",
   "execution_count": 6,
   "metadata": {
    "collapsed": false
   },
   "outputs": [
    {
     "name": "stdout",
     "output_type": "stream",
     "text": [
      "<class 'pandas.core.frame.DataFrame'>\n",
      "RangeIndex: 887379 entries, 0 to 887378\n",
      "Data columns (total 74 columns):\n",
      "id                             887379 non-null int64\n",
      "member_id                      887379 non-null int64\n",
      "loan_amnt                      887379 non-null float64\n",
      "funded_amnt                    887379 non-null float64\n",
      "funded_amnt_inv                887379 non-null float64\n",
      "term                           887379 non-null category\n",
      "int_rate                       887379 non-null float64\n",
      "installment                    887379 non-null float64\n",
      "grade                          887379 non-null category\n",
      "sub_grade                      887379 non-null category\n",
      "emp_title                      835922 non-null object\n",
      "emp_length                     887379 non-null category\n",
      "home_ownership                 887379 non-null category\n",
      "annual_inc                     887375 non-null float64\n",
      "verification_status            887379 non-null category\n",
      "issue_d                        887379 non-null datetime64[ns]\n",
      "loan_status                    887379 non-null object\n",
      "pymnt_plan                     887379 non-null category\n",
      "url                            887379 non-null object\n",
      "desc                           126029 non-null object\n",
      "purpose                        887379 non-null category\n",
      "title                          887228 non-null object\n",
      "zip_code                       887379 non-null category\n",
      "addr_state                     887379 non-null category\n",
      "dti                            887379 non-null float64\n",
      "delinq_2yrs                    887379 non-null int64\n",
      "earliest_cr_line               887350 non-null datetime64[ns]\n",
      "inq_last_6mths                 887379 non-null int64\n",
      "mths_since_last_delinq         887379 non-null int64\n",
      "mths_since_last_record         887379 non-null int64\n",
      "open_acc                       887379 non-null int64\n",
      "pub_rec                        887379 non-null int64\n",
      "revol_bal                      887379 non-null float64\n",
      "revol_util                     886877 non-null float64\n",
      "total_acc                      887379 non-null int64\n",
      "initial_list_status            887379 non-null category\n",
      "out_prncp                      887379 non-null float64\n",
      "out_prncp_inv                  887379 non-null float64\n",
      "total_pymnt                    887379 non-null float64\n",
      "total_pymnt_inv                887379 non-null float64\n",
      "total_rec_prncp                887379 non-null float64\n",
      "total_rec_int                  887379 non-null float64\n",
      "total_rec_late_fee             887379 non-null float64\n",
      "recoveries                     887379 non-null float64\n",
      "collection_recovery_fee        887379 non-null float64\n",
      "last_pymnt_d                   869720 non-null datetime64[ns]\n",
      "last_pymnt_amnt                887379 non-null float64\n",
      "next_pymnt_d                   634408 non-null datetime64[ns]\n",
      "last_credit_pull_d             887326 non-null datetime64[ns]\n",
      "collections_12_mths_ex_med     887379 non-null int64\n",
      "mths_since_last_major_derog    887379 non-null int64\n",
      "policy_code                    887379 non-null category\n",
      "application_type               887379 non-null category\n",
      "annual_inc_joint               511 non-null float64\n",
      "dti_joint                      509 non-null float64\n",
      "verification_status_joint      887379 non-null category\n",
      "acc_now_delinq                 887379 non-null int64\n",
      "tot_coll_amt                   887379 non-null int64\n",
      "tot_cur_bal                    817103 non-null float64\n",
      "open_acc_6m                    887379 non-null int64\n",
      "open_il_6m                     887379 non-null int64\n",
      "open_il_12m                    887379 non-null int64\n",
      "open_il_24m                    887379 non-null int64\n",
      "mths_since_rcnt_il             887379 non-null int64\n",
      "total_bal_il                   21372 non-null float64\n",
      "il_util                        18617 non-null float64\n",
      "open_rv_12m                    887379 non-null int64\n",
      "open_rv_24m                    887379 non-null int64\n",
      "max_bal_bc                     21372 non-null float64\n",
      "all_util                       21372 non-null float64\n",
      "total_rev_hi_lim               817103 non-null float64\n",
      "inq_fi                         887379 non-null int64\n",
      "total_cu_tl                    887379 non-null int64\n",
      "inq_last_12m                   887379 non-null int64\n",
      "dtypes: category(14), datetime64[ns](5), float64(27), int64(23), object(5)\n",
      "memory usage: 418.9+ MB\n"
     ]
    }
   ],
   "source": [
    "loan_df.info()"
   ]
  },
  {
   "cell_type": "code",
   "execution_count": 7,
   "metadata": {
    "collapsed": false
   },
   "outputs": [
    {
     "data": {
      "text/html": [
       "<div>\n",
       "<table border=\"1\" class=\"dataframe\">\n",
       "  <thead>\n",
       "    <tr style=\"text-align: right;\">\n",
       "      <th></th>\n",
       "      <th>id</th>\n",
       "      <th>member_id</th>\n",
       "      <th>loan_amnt</th>\n",
       "      <th>funded_amnt</th>\n",
       "      <th>funded_amnt_inv</th>\n",
       "      <th>term</th>\n",
       "      <th>int_rate</th>\n",
       "      <th>installment</th>\n",
       "      <th>grade</th>\n",
       "      <th>sub_grade</th>\n",
       "      <th>...</th>\n",
       "      <th>total_bal_il</th>\n",
       "      <th>il_util</th>\n",
       "      <th>open_rv_12m</th>\n",
       "      <th>open_rv_24m</th>\n",
       "      <th>max_bal_bc</th>\n",
       "      <th>all_util</th>\n",
       "      <th>total_rev_hi_lim</th>\n",
       "      <th>inq_fi</th>\n",
       "      <th>total_cu_tl</th>\n",
       "      <th>inq_last_12m</th>\n",
       "    </tr>\n",
       "  </thead>\n",
       "  <tbody>\n",
       "    <tr>\n",
       "      <th>0</th>\n",
       "      <td>1077501</td>\n",
       "      <td>1296599</td>\n",
       "      <td>5000.0</td>\n",
       "      <td>5000.0</td>\n",
       "      <td>4975.0</td>\n",
       "      <td>36 months</td>\n",
       "      <td>10.65</td>\n",
       "      <td>162.87</td>\n",
       "      <td>B</td>\n",
       "      <td>B2</td>\n",
       "      <td>...</td>\n",
       "      <td>NaN</td>\n",
       "      <td>NaN</td>\n",
       "      <td>-9999</td>\n",
       "      <td>-9999</td>\n",
       "      <td>NaN</td>\n",
       "      <td>NaN</td>\n",
       "      <td>NaN</td>\n",
       "      <td>-9999</td>\n",
       "      <td>-9999</td>\n",
       "      <td>-9999</td>\n",
       "    </tr>\n",
       "    <tr>\n",
       "      <th>1</th>\n",
       "      <td>1077430</td>\n",
       "      <td>1314167</td>\n",
       "      <td>2500.0</td>\n",
       "      <td>2500.0</td>\n",
       "      <td>2500.0</td>\n",
       "      <td>60 months</td>\n",
       "      <td>15.27</td>\n",
       "      <td>59.83</td>\n",
       "      <td>C</td>\n",
       "      <td>C4</td>\n",
       "      <td>...</td>\n",
       "      <td>NaN</td>\n",
       "      <td>NaN</td>\n",
       "      <td>-9999</td>\n",
       "      <td>-9999</td>\n",
       "      <td>NaN</td>\n",
       "      <td>NaN</td>\n",
       "      <td>NaN</td>\n",
       "      <td>-9999</td>\n",
       "      <td>-9999</td>\n",
       "      <td>-9999</td>\n",
       "    </tr>\n",
       "    <tr>\n",
       "      <th>2</th>\n",
       "      <td>1077175</td>\n",
       "      <td>1313524</td>\n",
       "      <td>2400.0</td>\n",
       "      <td>2400.0</td>\n",
       "      <td>2400.0</td>\n",
       "      <td>36 months</td>\n",
       "      <td>15.96</td>\n",
       "      <td>84.33</td>\n",
       "      <td>C</td>\n",
       "      <td>C5</td>\n",
       "      <td>...</td>\n",
       "      <td>NaN</td>\n",
       "      <td>NaN</td>\n",
       "      <td>-9999</td>\n",
       "      <td>-9999</td>\n",
       "      <td>NaN</td>\n",
       "      <td>NaN</td>\n",
       "      <td>NaN</td>\n",
       "      <td>-9999</td>\n",
       "      <td>-9999</td>\n",
       "      <td>-9999</td>\n",
       "    </tr>\n",
       "    <tr>\n",
       "      <th>3</th>\n",
       "      <td>1076863</td>\n",
       "      <td>1277178</td>\n",
       "      <td>10000.0</td>\n",
       "      <td>10000.0</td>\n",
       "      <td>10000.0</td>\n",
       "      <td>36 months</td>\n",
       "      <td>13.49</td>\n",
       "      <td>339.31</td>\n",
       "      <td>C</td>\n",
       "      <td>C1</td>\n",
       "      <td>...</td>\n",
       "      <td>NaN</td>\n",
       "      <td>NaN</td>\n",
       "      <td>-9999</td>\n",
       "      <td>-9999</td>\n",
       "      <td>NaN</td>\n",
       "      <td>NaN</td>\n",
       "      <td>NaN</td>\n",
       "      <td>-9999</td>\n",
       "      <td>-9999</td>\n",
       "      <td>-9999</td>\n",
       "    </tr>\n",
       "    <tr>\n",
       "      <th>4</th>\n",
       "      <td>1075358</td>\n",
       "      <td>1311748</td>\n",
       "      <td>3000.0</td>\n",
       "      <td>3000.0</td>\n",
       "      <td>3000.0</td>\n",
       "      <td>60 months</td>\n",
       "      <td>12.69</td>\n",
       "      <td>67.79</td>\n",
       "      <td>B</td>\n",
       "      <td>B5</td>\n",
       "      <td>...</td>\n",
       "      <td>NaN</td>\n",
       "      <td>NaN</td>\n",
       "      <td>-9999</td>\n",
       "      <td>-9999</td>\n",
       "      <td>NaN</td>\n",
       "      <td>NaN</td>\n",
       "      <td>NaN</td>\n",
       "      <td>-9999</td>\n",
       "      <td>-9999</td>\n",
       "      <td>-9999</td>\n",
       "    </tr>\n",
       "  </tbody>\n",
       "</table>\n",
       "<p>5 rows × 74 columns</p>\n",
       "</div>"
      ],
      "text/plain": [
       "        id  member_id  loan_amnt  funded_amnt  funded_amnt_inv        term  \\\n",
       "0  1077501    1296599     5000.0       5000.0           4975.0   36 months   \n",
       "1  1077430    1314167     2500.0       2500.0           2500.0   60 months   \n",
       "2  1077175    1313524     2400.0       2400.0           2400.0   36 months   \n",
       "3  1076863    1277178    10000.0      10000.0          10000.0   36 months   \n",
       "4  1075358    1311748     3000.0       3000.0           3000.0   60 months   \n",
       "\n",
       "   int_rate  installment grade sub_grade     ...      total_bal_il il_util  \\\n",
       "0     10.65       162.87     B        B2     ...               NaN     NaN   \n",
       "1     15.27        59.83     C        C4     ...               NaN     NaN   \n",
       "2     15.96        84.33     C        C5     ...               NaN     NaN   \n",
       "3     13.49       339.31     C        C1     ...               NaN     NaN   \n",
       "4     12.69        67.79     B        B5     ...               NaN     NaN   \n",
       "\n",
       "  open_rv_12m  open_rv_24m max_bal_bc all_util total_rev_hi_lim inq_fi  \\\n",
       "0       -9999        -9999        NaN      NaN              NaN  -9999   \n",
       "1       -9999        -9999        NaN      NaN              NaN  -9999   \n",
       "2       -9999        -9999        NaN      NaN              NaN  -9999   \n",
       "3       -9999        -9999        NaN      NaN              NaN  -9999   \n",
       "4       -9999        -9999        NaN      NaN              NaN  -9999   \n",
       "\n",
       "  total_cu_tl inq_last_12m  \n",
       "0       -9999        -9999  \n",
       "1       -9999        -9999  \n",
       "2       -9999        -9999  \n",
       "3       -9999        -9999  \n",
       "4       -9999        -9999  \n",
       "\n",
       "[5 rows x 74 columns]"
      ]
     },
     "execution_count": 7,
     "metadata": {},
     "output_type": "execute_result"
    }
   ],
   "source": [
    "loan_df.head()"
   ]
  },
  {
   "cell_type": "markdown",
   "metadata": {},
   "source": [
    "### A. Uniqueness of `'id'` and `'member_id'` as a surrogate table key [no duplicated records]\n",
    "\n",
    "* **`'id'`:** A unique LC assigned ID for the loan listing.\n",
    "* **`'member_id'`:** A unique LC assigned Id for the borrower member."
   ]
  },
  {
   "cell_type": "code",
   "execution_count": 8,
   "metadata": {
    "collapsed": false
   },
   "outputs": [
    {
     "name": "stdout",
     "output_type": "stream",
     "text": [
      "Checks the uniqueness of 'id' [key]: True\n"
     ]
    }
   ],
   "source": [
    "num_unique_values = len(pd.unique(loan_df['id']))\n",
    "num_records = len(loan_df['id'])\n",
    "is_key = (num_unique_values == num_records)\n",
    "print('Checks the uniqueness of \\'id\\' [key]: %s' % is_key)"
   ]
  },
  {
   "cell_type": "code",
   "execution_count": 9,
   "metadata": {
    "collapsed": false
   },
   "outputs": [
    {
     "name": "stdout",
     "output_type": "stream",
     "text": [
      "Checks the uniqueness of 'member_id' [key]: True\n"
     ]
    }
   ],
   "source": [
    "num_unique_values = len(pd.unique(loan_df['member_id']))\n",
    "num_records = len(loan_df['member_id'])\n",
    "is_key = (num_unique_values == num_records)\n",
    "print('Checks the uniqueness of \\'member_id\\' [key]: %s' % is_key)"
   ]
  },
  {
   "cell_type": "markdown",
   "metadata": {},
   "source": [
    "### B. Validity of date fields\n",
    "\n",
    "All **date fields** are valid:\n",
    "\n",
    "* **`'issue_d'`:** The month which the loan was funded (`'Jun-2007'`-`'Dec-2015'`).\n",
    "* **`'earliest_cr_line'`:** The month the borrower's earliest reported credit line was opened (`'Jan-1944'`-`'Nov-2012'`).\n",
    "* **`'last_pymnt_d'`:** Last month payment was received (`'Dec-2007'`-`'Jan-2016'`).\n",
    "* **`'next_pymnt_d'`:** Next scheduled payment date (`'Dec-2007'`-`'Mar-2016'`).\n",
    "* **`'last_credit_pull_d'`:** The most recent month LC pulled credit for this loan (`'May-2007'`-`'Jan-2016'`)."
   ]
  },
  {
   "cell_type": "code",
   "execution_count": 10,
   "metadata": {
    "collapsed": false
   },
   "outputs": [
    {
     "data": {
      "text/html": [
       "<div>\n",
       "<table border=\"1\" class=\"dataframe\">\n",
       "  <thead>\n",
       "    <tr style=\"text-align: right;\">\n",
       "      <th></th>\n",
       "      <th>issue_d</th>\n",
       "      <th>earliest_cr_line</th>\n",
       "      <th>last_pymnt_d</th>\n",
       "      <th>next_pymnt_d</th>\n",
       "      <th>last_credit_pull_d</th>\n",
       "    </tr>\n",
       "  </thead>\n",
       "  <tbody>\n",
       "    <tr>\n",
       "      <th>count</th>\n",
       "      <td>887379</td>\n",
       "      <td>887350</td>\n",
       "      <td>869720</td>\n",
       "      <td>634408</td>\n",
       "      <td>887326</td>\n",
       "    </tr>\n",
       "    <tr>\n",
       "      <th>unique</th>\n",
       "      <td>103</td>\n",
       "      <td>697</td>\n",
       "      <td>98</td>\n",
       "      <td>100</td>\n",
       "      <td>103</td>\n",
       "    </tr>\n",
       "    <tr>\n",
       "      <th>top</th>\n",
       "      <td>2015-10-01 00:00:00</td>\n",
       "      <td>2001-08-01 00:00:00</td>\n",
       "      <td>2016-01-01 00:00:00</td>\n",
       "      <td>2016-02-01 00:00:00</td>\n",
       "      <td>2016-01-01 00:00:00</td>\n",
       "    </tr>\n",
       "    <tr>\n",
       "      <th>freq</th>\n",
       "      <td>48631</td>\n",
       "      <td>6659</td>\n",
       "      <td>470150</td>\n",
       "      <td>553406</td>\n",
       "      <td>730574</td>\n",
       "    </tr>\n",
       "    <tr>\n",
       "      <th>first</th>\n",
       "      <td>2007-06-01 00:00:00</td>\n",
       "      <td>1944-01-01 00:00:00</td>\n",
       "      <td>2007-12-01 00:00:00</td>\n",
       "      <td>2007-12-01 00:00:00</td>\n",
       "      <td>2007-05-01 00:00:00</td>\n",
       "    </tr>\n",
       "    <tr>\n",
       "      <th>last</th>\n",
       "      <td>2015-12-01 00:00:00</td>\n",
       "      <td>2012-11-01 00:00:00</td>\n",
       "      <td>2016-01-01 00:00:00</td>\n",
       "      <td>2016-03-01 00:00:00</td>\n",
       "      <td>2016-01-01 00:00:00</td>\n",
       "    </tr>\n",
       "  </tbody>\n",
       "</table>\n",
       "</div>"
      ],
      "text/plain": [
       "                    issue_d     earliest_cr_line         last_pymnt_d  \\\n",
       "count                887379               887350               869720   \n",
       "unique                  103                  697                   98   \n",
       "top     2015-10-01 00:00:00  2001-08-01 00:00:00  2016-01-01 00:00:00   \n",
       "freq                  48631                 6659               470150   \n",
       "first   2007-06-01 00:00:00  1944-01-01 00:00:00  2007-12-01 00:00:00   \n",
       "last    2015-12-01 00:00:00  2012-11-01 00:00:00  2016-01-01 00:00:00   \n",
       "\n",
       "               next_pymnt_d   last_credit_pull_d  \n",
       "count                634408               887326  \n",
       "unique                  100                  103  \n",
       "top     2016-02-01 00:00:00  2016-01-01 00:00:00  \n",
       "freq                 553406               730574  \n",
       "first   2007-12-01 00:00:00  2007-05-01 00:00:00  \n",
       "last    2016-03-01 00:00:00  2016-01-01 00:00:00  "
      ]
     },
     "execution_count": 10,
     "metadata": {},
     "output_type": "execute_result"
    }
   ],
   "source": [
    "loan_df.select_dtypes(include=['datetime64']).describe()"
   ]
  },
  {
   "cell_type": "code",
   "execution_count": 11,
   "metadata": {
    "collapsed": false
   },
   "outputs": [
    {
     "data": {
      "text/plain": [
       "['issue_d',\n",
       " 'earliest_cr_line',\n",
       " 'last_pymnt_d',\n",
       " 'next_pymnt_d',\n",
       " 'last_credit_pull_d']"
      ]
     },
     "execution_count": 11,
     "metadata": {},
     "output_type": "execute_result"
    }
   ],
   "source": [
    "dt_attribs = list(loan_df.select_dtypes(include=['datetime64']).columns)\n",
    "dt_attribs"
   ]
  },
  {
   "cell_type": "code",
   "execution_count": 12,
   "metadata": {
    "collapsed": false
   },
   "outputs": [
    {
     "name": "stdout",
     "output_type": "stream",
     "text": [
      "0   2011-12-01\n",
      "1   2011-12-01\n",
      "2   2011-12-01\n",
      "3   2011-12-01\n",
      "Name: issue_d, dtype: datetime64[ns]\n",
      "\n",
      "\n",
      "0   1985-01-01\n",
      "1   1999-04-01\n",
      "2   2001-11-01\n",
      "3   1996-02-01\n",
      "Name: earliest_cr_line, dtype: datetime64[ns]\n",
      "\n",
      "\n",
      "0   2015-01-01\n",
      "1   2013-04-01\n",
      "2   2014-06-01\n",
      "3   2015-01-01\n",
      "Name: last_pymnt_d, dtype: datetime64[ns]\n",
      "\n",
      "\n",
      "0   NaT\n",
      "1   NaT\n",
      "2   NaT\n",
      "3   NaT\n",
      "Name: next_pymnt_d, dtype: datetime64[ns]\n",
      "\n",
      "\n",
      "0   2016-01-01\n",
      "1   2013-09-01\n",
      "2   2016-01-01\n",
      "3   2015-01-01\n",
      "Name: last_credit_pull_d, dtype: datetime64[ns]\n",
      "\n",
      "\n"
     ]
    }
   ],
   "source": [
    "for attrib in dt_attribs:\n",
    "    pprint(loan_df.loc[:3,attrib])\n",
    "    print('\\n')"
   ]
  },
  {
   "cell_type": "markdown",
   "metadata": {},
   "source": [
    "### C. Text Attributes\n",
    "\n",
    "Some **`'NA'`** values exist, but this is not a problem for text attributes. In particular, these **text attributes** are:\n",
    "\n",
    "* **`'emp_title'`**: The job title supplied by the Borrower when applying for the loan (Employer Title replaces Employer Name for all loans listed after 9/23/2013).\n",
    "* **`'url'`**: URL for the LC page with listing data.\n",
    "* **`'desc'`**: Loan description provided by the borrower.\n",
    "* **`'title'`**: The loan title provided by the borrower.\n",
    "\n",
    "and we are not going to use them, in this first stage of predictive modelling."
   ]
  },
  {
   "cell_type": "code",
   "execution_count": 13,
   "metadata": {
    "collapsed": false
   },
   "outputs": [
    {
     "name": "stdout",
     "output_type": "stream",
     "text": [
      "<class 'pandas.core.frame.DataFrame'>\n",
      "RangeIndex: 887379 entries, 0 to 887378\n",
      "Data columns (total 5 columns):\n",
      "emp_title      835922 non-null object\n",
      "loan_status    887379 non-null object\n",
      "url            887379 non-null object\n",
      "desc           126029 non-null object\n",
      "title          887228 non-null object\n",
      "dtypes: object(5)\n",
      "memory usage: 33.9+ MB\n"
     ]
    }
   ],
   "source": [
    "loan_df.select_dtypes(include=['object']).info()"
   ]
  },
  {
   "cell_type": "code",
   "execution_count": 14,
   "metadata": {
    "collapsed": false
   },
   "outputs": [
    {
     "data": {
      "text/plain": [
       "['emp_title', 'loan_status', 'url', 'desc', 'title']"
      ]
     },
     "execution_count": 14,
     "metadata": {},
     "output_type": "execute_result"
    }
   ],
   "source": [
    "str_attribs = list(loan_df.select_dtypes(include=['object']).columns)\n",
    "str_attribs"
   ]
  },
  {
   "cell_type": "code",
   "execution_count": 15,
   "metadata": {
    "collapsed": false
   },
   "outputs": [
    {
     "name": "stdout",
     "output_type": "stream",
     "text": [
      "0                    NaN\n",
      "1                  Ryder\n",
      "2                    NaN\n",
      "3    AIR RESOURCES BOARD\n",
      "Name: emp_title, dtype: object\n",
      "\n",
      "\n",
      "0     Fully Paid\n",
      "1    Charged Off\n",
      "2     Fully Paid\n",
      "3     Fully Paid\n",
      "Name: loan_status, dtype: object\n",
      "\n",
      "\n",
      "0    https://www.lendingclub.com/browse/loanDetail....\n",
      "1    https://www.lendingclub.com/browse/loanDetail....\n",
      "2    https://www.lendingclub.com/browse/loanDetail....\n",
      "3    https://www.lendingclub.com/browse/loanDetail....\n",
      "Name: url, dtype: object\n",
      "\n",
      "\n",
      "0      Borrower added on 12/22/11 > I need to upgra...\n",
      "1      Borrower added on 12/22/11 > I plan to use t...\n",
      "2                                                  NaN\n",
      "3      Borrower added on 12/21/11 > to pay for prop...\n",
      "Name: desc, dtype: object\n",
      "\n",
      "\n",
      "0                Computer\n",
      "1                    bike\n",
      "2    real estate business\n",
      "3                personel\n",
      "Name: title, dtype: object\n",
      "\n",
      "\n"
     ]
    }
   ],
   "source": [
    "for attrib in str_attribs:\n",
    "    pprint(loan_df.loc[:3, attrib])\n",
    "    print('\\n')"
   ]
  },
  {
   "cell_type": "markdown",
   "metadata": {},
   "source": [
    "### D. Float Attributes\n",
    "\n",
    "All **float attributes** are important for the predictive model we want to build. Some specific attributes, such as the **`'dti_joint'`**  and the **`'annual_inc_joint`'**, have a plethora of **`'NA'`** values, but this is reasonable and expected.\n",
    "\n",
    "* **`'loan_amnt'`:** The listed amount of the loan applied for by the borrower. If at some point in time, the credit department reduces the loan amount, then it will be reflected in this value.\n",
    "* **`'funded_amnt'`:** The total amount committed to that loan at that point in time.\n",
    "* **`'funded_amnt_inv'`:** The total amount committed by investors for that loan at that point in time.\n",
    "* **`'int_rate'`:** Interest Rate on the loan.\n",
    "* **`'installment'`:** The monthly payment owed by the borrower if the loan originates.\n",
    "* **`'annual_inc'`:** The self-reported annual income provided by the borrower during registration.\n",
    "* **`'dti'`:** A ratio calculated using the borrower’s total monthly debt payments on the total debt obligations, excluding mortgage and the requested LC loan, divided by the borrower’s self-reported monthly income.\n",
    "* **`'revol_bal'`:** Total credit revolving balance.\n",
    "* **`'revol_util'`:** Revolving line utilization rate, or the amount of credit the borrower is using relative to all available revolving credit.\n",
    "* **`'out_prncp'`:** Remaining outstanding principal for total amount funded.\n",
    "* **`'out_prncp_inv'`:** Remaining outstanding principal for portion of total amount funded by investors.\n",
    "* **`'total_pymnt'`:** Payments received to date for total amount funded.\n",
    "* **`'total_pymnt_inv'`:** Payments received to date for portion of total amount funded by investors.\n",
    "* **`'total_rec_prncp'`:** Principal received to date.\n",
    "* **`'total_rec_int'`:** Interest received to date.\n",
    "* **`'total_rec_late_fee'`:** Late fees received to date.\n",
    "* **`'recoveries'`:** Post charge off gross recovery.\n",
    "* **`'collection_recovery_fee'`:** Post charge off collection fee.\n",
    "* **`'last_pymnt_amnt'`:** Last total payment amount received.\n",
    "* **`'annual_inc_joint'`:** The combined self-reported annual income provided by the co-borrowers during registration\n",
    "* **`'dti_joint'`:** A ratio calculated using the co-borrowers' total monthly payments on the total debt obligations, excluding mortgages and the requested LC loan, divided by the co-borrowers' combined self-reported monthly income.\n",
    "* **`'tot_cur_bal'`:** Total current balance of all accounts.\n",
    "* **`'total_bal_il'`:** Total current balance of all installment accounts.\n",
    "* **`'il_util'`:** Ratio of total current balance to high credit/credit limit on all install acct.\n",
    "* **`'max_bal_bc'`:** Maximum current balance owed on all revolving accounts.\n",
    "* **`'all_util'`:** Balance to credit limit on all trades.\n",
    "* **`'total_rev_hi_lim '`:** Total revolving high credit/credit limit."
   ]
  },
  {
   "cell_type": "code",
   "execution_count": 16,
   "metadata": {
    "collapsed": false
   },
   "outputs": [
    {
     "name": "stdout",
     "output_type": "stream",
     "text": [
      "<class 'pandas.core.frame.DataFrame'>\n",
      "RangeIndex: 887379 entries, 0 to 887378\n",
      "Data columns (total 27 columns):\n",
      "loan_amnt                  887379 non-null float64\n",
      "funded_amnt                887379 non-null float64\n",
      "funded_amnt_inv            887379 non-null float64\n",
      "int_rate                   887379 non-null float64\n",
      "installment                887379 non-null float64\n",
      "annual_inc                 887375 non-null float64\n",
      "dti                        887379 non-null float64\n",
      "revol_bal                  887379 non-null float64\n",
      "revol_util                 886877 non-null float64\n",
      "out_prncp                  887379 non-null float64\n",
      "out_prncp_inv              887379 non-null float64\n",
      "total_pymnt                887379 non-null float64\n",
      "total_pymnt_inv            887379 non-null float64\n",
      "total_rec_prncp            887379 non-null float64\n",
      "total_rec_int              887379 non-null float64\n",
      "total_rec_late_fee         887379 non-null float64\n",
      "recoveries                 887379 non-null float64\n",
      "collection_recovery_fee    887379 non-null float64\n",
      "last_pymnt_amnt            887379 non-null float64\n",
      "annual_inc_joint           511 non-null float64\n",
      "dti_joint                  509 non-null float64\n",
      "tot_cur_bal                817103 non-null float64\n",
      "total_bal_il               21372 non-null float64\n",
      "il_util                    18617 non-null float64\n",
      "max_bal_bc                 21372 non-null float64\n",
      "all_util                   21372 non-null float64\n",
      "total_rev_hi_lim           817103 non-null float64\n",
      "dtypes: float64(27)\n",
      "memory usage: 182.8 MB\n"
     ]
    }
   ],
   "source": [
    "loan_df.select_dtypes(include=['float']).info()"
   ]
  },
  {
   "cell_type": "code",
   "execution_count": 17,
   "metadata": {
    "collapsed": false
   },
   "outputs": [
    {
     "name": "stdout",
     "output_type": "stream",
     "text": [
      "           loan_amnt    funded_amnt  funded_amnt_inv       int_rate  \\\n",
      "count  887379.000000  887379.000000    887379.000000  887379.000000   \n",
      "mean    14755.264605   14741.877625     14702.464383      13.246740   \n",
      "std      8435.455601    8429.897657      8442.106732       4.381867   \n",
      "min       500.000000     500.000000         0.000000       5.320000   \n",
      "25%      8000.000000    8000.000000      8000.000000       9.990000   \n",
      "50%     13000.000000   13000.000000     13000.000000      12.990000   \n",
      "75%     20000.000000   20000.000000     20000.000000      16.200000   \n",
      "max     35000.000000   35000.000000     35000.000000      28.990000   \n",
      "\n",
      "         installment    annual_inc            dti     revol_bal  \\\n",
      "count  887379.000000  8.873750e+05  887379.000000  8.873790e+05   \n",
      "mean      436.717127  7.502759e+04      18.157039  1.692079e+04   \n",
      "std       244.186593  6.469830e+04      17.190626  2.242679e+04   \n",
      "min        15.670000  0.000000e+00       0.000000  0.000000e+00   \n",
      "25%       260.705000  4.500000e+04      11.910000  6.443000e+03   \n",
      "50%       382.550000  6.500000e+04      17.650000  1.187500e+04   \n",
      "75%       572.600000  9.000000e+04      23.950000  2.082900e+04   \n",
      "max      1445.460000  9.500000e+06    9999.000000  2.904836e+06   \n",
      "\n",
      "          revol_util      out_prncp        ...         \\\n",
      "count  886877.000000  887379.000000        ...          \n",
      "mean       55.067693    8403.124852        ...          \n",
      "std        23.834344    8493.450269        ...          \n",
      "min         0.000000       0.000000        ...          \n",
      "25%        37.700000       0.000000        ...          \n",
      "50%        56.000000    6458.290000        ...          \n",
      "75%        73.600000   13659.055000        ...          \n",
      "max       892.300000   49372.860000        ...          \n",
      "\n",
      "       collection_recovery_fee  last_pymnt_amnt  annual_inc_joint   dti_joint  \\\n",
      "count            887379.000000    887379.000000        511.000000  509.000000   \n",
      "mean                  4.880757      2164.145585     109981.011585   18.310118   \n",
      "std                  63.125281      4794.783233      52730.379847    7.169233   \n",
      "min                   0.000000         0.000000      17950.000000    3.000000   \n",
      "25%                   0.000000       280.170000      76032.500000   13.200000   \n",
      "50%                   0.000000       462.780000     101771.000000   17.610000   \n",
      "75%                   0.000000       831.245000     132800.000000   22.650000   \n",
      "max                7002.190000     36475.590000     500000.000000   43.860000   \n",
      "\n",
      "        tot_cur_bal   total_bal_il       il_util     max_bal_bc      all_util  \\\n",
      "count  8.171030e+05   21372.000000  18617.000000   21372.000000  21372.000000   \n",
      "mean   1.394582e+05   36552.811389     71.535317    5887.979740     60.831939   \n",
      "std    1.537500e+05   43103.833619     23.022862    5284.701239     20.013254   \n",
      "min    0.000000e+00       0.000000      0.000000       0.000000      0.000000   \n",
      "25%    2.985300e+04   10251.500000     58.600000    2411.000000     47.700000   \n",
      "50%    8.055900e+04   24684.500000     74.900000    4483.000000     61.900000   \n",
      "75%    2.082050e+05   47858.000000     87.600000    7771.500000     75.200000   \n",
      "max    8.000078e+06  878459.000000    223.300000  127305.000000    151.400000   \n",
      "\n",
      "       total_rev_hi_lim  \n",
      "count      8.171030e+05  \n",
      "mean       3.206862e+04  \n",
      "std        3.749826e+04  \n",
      "min        0.000000e+00  \n",
      "25%        1.390000e+04  \n",
      "50%        2.370000e+04  \n",
      "75%        3.980000e+04  \n",
      "max        9.999999e+06  \n",
      "\n",
      "[8 rows x 27 columns]\n"
     ]
    }
   ],
   "source": [
    "pprint(loan_df.select_dtypes(include=['float']).describe())"
   ]
  },
  {
   "cell_type": "markdown",
   "metadata": {},
   "source": [
    "### E. Integer Attributes\n",
    "\n",
    "All **integer attributes** are important for the predictive model we want to build. The **`'NA'`** values where exist have been set to `'-9999'`.\n",
    "\n",
    "* **`'delinq_2yrs'`:** The number of 30+ days past-due incidences of delinquency in the borrower's credit file for the past 2 years.\n",
    "* **`'inq_last_6mths'`:** Number of credit inquiries in past 12 months.\n",
    "* **`'mths_since_last_delinq'`:** The number of months since the borrower's last delinquency.\n",
    "* **`'mths_since_last_record'`:** The number of months since the last public record.\n",
    "* **`'open_acc'`:** The number of open credit lines in the borrower's credit file.\n",
    "* **`'pub_rec'`:** Number of derogatory public records.\n",
    "* **`'total_acc'`:** The total number of credit lines currently in the borrower's credit file.\n",
    "* **`'collections_12_mths_ex_med'`:** Number of collections in 12 months excluding medical collections.\n",
    "* **`'mths_since_last_major_derog'`:** Months since most recent 90-day or worse rating.\n",
    "* **`'acc_now_delinq'`:** The number of accounts on which the borrower is now delinquent.\n",
    "* **`'tot_coll_amt'`:** Total collection amounts ever owed.\n",
    "* **`'open_acc_6m'`:** Number of open trades in last 6 months.\n",
    "* **`'open_il_6m'`:** Number of currently active installment trades.\n",
    "* **`'open_il_12m'`:** Number of installment accounts opened in past 12 months.\n",
    "* **`'open_il_24m'`:** Number of installment accounts opened in past 24 months.\n",
    "* **`'mths_since_rcnt_il'`:** Months since most recent installment accounts opened.\n",
    "* **`'open_rv_12m'`:** Number of revolving trades opened in past 12 months.\n",
    "* **`'open_rv_24m'`:** Number of revolving trades opened in past 24 months.\n",
    "* **`'inq_fi'`:** Number of personal finance inquiries.\n",
    "* **`'total_cu_tl'`:** Number of finance trades.\n",
    "* **`'inq_last_12m'`:** Number of credit inquiries in past 12 months."
   ]
  },
  {
   "cell_type": "code",
   "execution_count": 18,
   "metadata": {
    "collapsed": false
   },
   "outputs": [
    {
     "name": "stdout",
     "output_type": "stream",
     "text": [
      "<class 'pandas.core.frame.DataFrame'>\n",
      "RangeIndex: 887379 entries, 0 to 887378\n",
      "Data columns (total 23 columns):\n",
      "id                             887379 non-null int64\n",
      "member_id                      887379 non-null int64\n",
      "delinq_2yrs                    887379 non-null int64\n",
      "inq_last_6mths                 887379 non-null int64\n",
      "mths_since_last_delinq         887379 non-null int64\n",
      "mths_since_last_record         887379 non-null int64\n",
      "open_acc                       887379 non-null int64\n",
      "pub_rec                        887379 non-null int64\n",
      "total_acc                      887379 non-null int64\n",
      "collections_12_mths_ex_med     887379 non-null int64\n",
      "mths_since_last_major_derog    887379 non-null int64\n",
      "acc_now_delinq                 887379 non-null int64\n",
      "tot_coll_amt                   887379 non-null int64\n",
      "open_acc_6m                    887379 non-null int64\n",
      "open_il_6m                     887379 non-null int64\n",
      "open_il_12m                    887379 non-null int64\n",
      "open_il_24m                    887379 non-null int64\n",
      "mths_since_rcnt_il             887379 non-null int64\n",
      "open_rv_12m                    887379 non-null int64\n",
      "open_rv_24m                    887379 non-null int64\n",
      "inq_fi                         887379 non-null int64\n",
      "total_cu_tl                    887379 non-null int64\n",
      "inq_last_12m                   887379 non-null int64\n",
      "dtypes: int64(23)\n",
      "memory usage: 155.7 MB\n"
     ]
    }
   ],
   "source": [
    "loan_df.select_dtypes(include=['int']).info()"
   ]
  },
  {
   "cell_type": "code",
   "execution_count": 19,
   "metadata": {
    "collapsed": false
   },
   "outputs": [
    {
     "name": "stdout",
     "output_type": "stream",
     "text": [
      "         delinq_2yrs  inq_last_6mths  mths_since_last_delinq  \\\n",
      "count  887379.000000   887379.000000           887379.000000   \n",
      "mean       -0.012341        0.367828            -5102.570357   \n",
      "std        57.168553       57.172942             5015.120121   \n",
      "min     -9999.000000    -9999.000000            -9999.000000   \n",
      "25%         0.000000        0.000000            -9999.000000   \n",
      "50%         0.000000        0.000000            -9999.000000   \n",
      "75%         0.000000        1.000000               30.000000   \n",
      "max        39.000000       33.000000              188.000000   \n",
      "\n",
      "       mths_since_last_record       open_acc        pub_rec      total_acc  \\\n",
      "count           887379.000000  887379.000000  887379.000000  887379.000000   \n",
      "mean             -8443.855224      11.221319      -0.131471      24.940428   \n",
      "std               3638.763244      57.472767      57.164333      58.515152   \n",
      "min              -9999.000000   -9999.000000   -9999.000000   -9999.000000   \n",
      "25%              -9999.000000       8.000000       0.000000      17.000000   \n",
      "50%              -9999.000000      11.000000       0.000000      24.000000   \n",
      "75%              -9999.000000      14.000000       0.000000      32.000000   \n",
      "max                129.000000      90.000000      86.000000     169.000000   \n",
      "\n",
      "       collections_12_mths_ex_med  mths_since_last_major_derog  \\\n",
      "count               887379.000000                887379.000000   \n",
      "mean                    -1.619485                 -7489.828077   \n",
      "std                    127.806111                  4347.881916   \n",
      "min                  -9999.000000                 -9999.000000   \n",
      "25%                      0.000000                 -9999.000000   \n",
      "50%                      0.000000                 -9999.000000   \n",
      "75%                      0.000000                 -9999.000000   \n",
      "max                     20.000000                   188.000000   \n",
      "\n",
      "       acc_now_delinq      ...          open_acc_6m     open_il_6m  \\\n",
      "count   887379.000000      ...        887379.000000  887379.000000   \n",
      "mean        -0.321781      ...         -9758.153270   -9758.109441   \n",
      "std         57.160334      ...          1533.130487    1533.409548   \n",
      "min      -9999.000000      ...         -9999.000000   -9999.000000   \n",
      "25%          0.000000      ...         -9999.000000   -9999.000000   \n",
      "50%          0.000000      ...         -9999.000000   -9999.000000   \n",
      "75%          0.000000      ...         -9999.000000   -9999.000000   \n",
      "max         14.000000      ...            14.000000      40.000000   \n",
      "\n",
      "         open_il_12m    open_il_24m  mths_since_rcnt_il    open_rv_12m  \\\n",
      "count  887379.000000  887379.000000       887379.000000  887379.000000   \n",
      "mean    -9758.161637   -9758.139649        -9764.022180   -9758.146526   \n",
      "std      1533.077227    1533.217203         1516.331961    1533.173427   \n",
      "min     -9999.000000   -9999.000000        -9999.000000   -9999.000000   \n",
      "25%     -9999.000000   -9999.000000        -9999.000000   -9999.000000   \n",
      "50%     -9999.000000   -9999.000000        -9999.000000   -9999.000000   \n",
      "75%     -9999.000000   -9999.000000        -9999.000000   -9999.000000   \n",
      "max        12.000000      19.000000          363.000000      22.000000   \n",
      "\n",
      "         open_rv_24m         inq_fi    total_cu_tl   inq_last_12m  \n",
      "count  887379.000000  887379.000000  887379.000000  887379.000000  \n",
      "mean    -9758.108318   -9758.157246   -9758.142961   -9758.132358  \n",
      "std      1533.416679    1533.105184    1533.196156    1533.263658  \n",
      "min     -9999.000000   -9999.000000   -9999.000000   -9999.000000  \n",
      "25%     -9999.000000   -9999.000000   -9999.000000   -9999.000000  \n",
      "50%     -9999.000000   -9999.000000   -9999.000000   -9999.000000  \n",
      "75%     -9999.000000   -9999.000000   -9999.000000   -9999.000000  \n",
      "max        43.000000      17.000000      35.000000      32.000000  \n",
      "\n",
      "[8 rows x 21 columns]\n"
     ]
    }
   ],
   "source": [
    "pprint(loan_df.select_dtypes(include=['int']).iloc[:,2:]\n",
    "       .describe())"
   ]
  },
  {
   "cell_type": "markdown",
   "metadata": {},
   "source": [
    "### F. Nominal & Ordinal Categorical Attributes"
   ]
  },
  {
   "cell_type": "code",
   "execution_count": 20,
   "metadata": {
    "collapsed": false
   },
   "outputs": [],
   "source": [
    "response = 'loan_status'\n",
    "categ_df = loan_df.select_dtypes(include=['category'])\n",
    "categ_attribs = list(categ_df.columns)\n",
    "\n",
    "nominal_categ_attribs = []; ordinal_categ_attribs = []\n",
    "for attrib in categ_attribs:\n",
    "    if categ_df[attrib].cat.ordered:\n",
    "        ordinal_categ_attribs.append(attrib)\n",
    "    else:\n",
    "        nominal_categ_attribs.append(attrib)"
   ]
  },
  {
   "cell_type": "markdown",
   "metadata": {},
   "source": [
    "#### F1. Nominal Categorical Attributes\n",
    "\n",
    "We chose to define as **nominal categorical attributes** the variables below:\n",
    "\n",
    "* **`'home_ownership'`:** The home ownership status provided by the borrower during registration (Values: `'ANY'`, `'MORTGAGE'`, `'NONE'`, `'OTHER'`, `'OWN'`, `'RENT'`).\n",
    "* **`'pymnt_plan'`:** Indicates if a payment plan has been put in place for the loan (Values: `'y'`/`'n'`).\n",
    "* **`'purpose'`:** A category provided by the borrower for the loan request (Values: `'car'`, `'credit_card'`, `'debt_consolidation'`, `'educational'`, ..., `'renewable_energy'`, `'small_business'`, `'vacation'`, `'wedding`').\n",
    "* **`'zip_code'`:** The first 3 numbers of the zip code provided by the borrower in the loan application (Values: US Zip Codes).\n",
    "* **`'addr_state'`:** The state provided by the borrower in the loan application (Values: US State Name).\n",
    "* **`'initial_list_status'`:** The initial listing status of the loan (Values: `'w'`/`'f'`).\n",
    "* **`'policy_code'`:** Publicly available products (`'policy_code'='1'`), New products not publicly available (`'policy_code'='2'`).\n",
    "* **`'application_type'`:** Indicates whether the loan is an individual application or a joint application with two co-borrowers (Values: `'INDIVIDUAL'`/`'JOINT'`).\n",
    "\n",
    "Among them, these two cannot be important for the **response variable outcome, `'loan_status'`**:\n",
    "\n",
    "1. **`'pymnt_plan'`** (having only 10 `'y'` values, and all the remaining ones being `'n'`)\n",
    "2. **`'policy_code'`** (there are no products which are not publicly available, i.e. `'policy code'`: `'2'`)\n",
    "\n",
    "Note, that the **`'application_type'`** attribute which indicates whether a loan is an individual or a joint application \n",
    "has only 511 `'JOINT'` applications, whereas all the remaining ones (886868!) have been made by individuals. However, we choose to keep this variable for the time being, and check below if the response variable appears any difference among the two types of loans."
   ]
  },
  {
   "cell_type": "code",
   "execution_count": 21,
   "metadata": {
    "collapsed": false
   },
   "outputs": [
    {
     "name": "stdout",
     "output_type": "stream",
     "text": [
      "['home_ownership',\n",
      " 'pymnt_plan',\n",
      " 'purpose',\n",
      " 'zip_code',\n",
      " 'addr_state',\n",
      " 'initial_list_status',\n",
      " 'policy_code',\n",
      " 'application_type']\n"
     ]
    }
   ],
   "source": [
    "pprint(nominal_categ_attribs)"
   ]
  },
  {
   "cell_type": "code",
   "execution_count": 22,
   "metadata": {
    "collapsed": false
   },
   "outputs": [
    {
     "name": "stdout",
     "output_type": "stream",
     "text": [
      "<class 'pandas.core.frame.DataFrame'>\n",
      "RangeIndex: 887379 entries, 0 to 887378\n",
      "Data columns (total 8 columns):\n",
      "home_ownership         887379 non-null category\n",
      "pymnt_plan             887379 non-null category\n",
      "purpose                887379 non-null category\n",
      "zip_code               887379 non-null category\n",
      "addr_state             887379 non-null category\n",
      "initial_list_status    887379 non-null category\n",
      "policy_code            887379 non-null category\n",
      "application_type       887379 non-null category\n",
      "dtypes: category(8)\n",
      "memory usage: 7.6 MB\n"
     ]
    }
   ],
   "source": [
    "categ_df[nominal_categ_attribs].info()"
   ]
  },
  {
   "cell_type": "code",
   "execution_count": 23,
   "metadata": {
    "collapsed": false
   },
   "outputs": [
    {
     "name": "stdout",
     "output_type": "stream",
     "text": [
      "Nominal Categorical Attribute: \"home_ownership\":\n",
      "---------------------------------------------------\n",
      "0    RENT\n",
      "1    RENT\n",
      "2    RENT\n",
      "3    RENT\n",
      "Name: home_ownership, dtype: category\n",
      "Categories (6, object): [ANY, MORTGAGE, NONE, OTHER, OWN, RENT]\n",
      "\n",
      "Value Counts:\n",
      "-----------------\n",
      "MORTGAGE    443557\n",
      "RENT        356117\n",
      "OWN          87470\n",
      "OTHER          182\n",
      "NONE            50\n",
      "ANY              3\n",
      "Name: home_ownership, dtype: int64\n",
      "\n",
      "\n",
      "Nominal Categorical Attribute: \"pymnt_plan\":\n",
      "-----------------------------------------------\n",
      "0    n\n",
      "1    n\n",
      "2    n\n",
      "3    n\n",
      "Name: pymnt_plan, dtype: category\n",
      "Categories (2, object): [n, y]\n",
      "\n",
      "Value Counts:\n",
      "-----------------\n",
      "n    887369\n",
      "y        10\n",
      "Name: pymnt_plan, dtype: int64\n",
      "\n",
      "\n",
      "Nominal Categorical Attribute: \"purpose\":\n",
      "--------------------------------------------\n",
      "0       credit_card\n",
      "1               car\n",
      "2    small_business\n",
      "3             other\n",
      "Name: purpose, dtype: category\n",
      "Categories (14, object): [car, credit_card, debt_consolidation, educational, ..., renewable_energy, small_business, vacation, wedding]\n",
      "\n",
      "Value Counts:\n",
      "-----------------\n",
      "debt_consolidation    524215\n",
      "credit_card           206182\n",
      "home_improvement       51829\n",
      "other                  42894\n",
      "major_purchase         17277\n",
      "small_business         10377\n",
      "car                     8863\n",
      "medical                 8540\n",
      "moving                  5414\n",
      "vacation                4736\n",
      "house                   3707\n",
      "wedding                 2347\n",
      "renewable_energy         575\n",
      "educational              423\n",
      "Name: purpose, dtype: int64\n",
      "\n",
      "\n",
      "Nominal Categorical Attribute: \"zip_code\":\n",
      "---------------------------------------------\n",
      "0    860xx\n",
      "1    309xx\n",
      "2    606xx\n",
      "3    917xx\n",
      "Name: zip_code, dtype: category\n",
      "Categories (935, object): [007xx, 008xx, 010xx, 011xx, ..., 996xx, 997xx, 998xx, 999xx]\n",
      "\n",
      "Value Counts:\n",
      "-----------------\n",
      "945xx    9770\n",
      "750xx    9417\n",
      "112xx    9272\n",
      "606xx    8641\n",
      "300xx    8126\n",
      "100xx    7609\n",
      "070xx    7431\n",
      "331xx    7416\n",
      "900xx    7287\n",
      "770xx    6938\n",
      "891xx    6441\n",
      "917xx    6357\n",
      "330xx    6283\n",
      "117xx    6129\n",
      "104xx    6008\n",
      "921xx    5661\n",
      "852xx    5442\n",
      "926xx    5415\n",
      "913xx    5160\n",
      "925xx    4907\n",
      "113xx    4813\n",
      "334xx    4744\n",
      "481xx    4645\n",
      "601xx    4603\n",
      "080xx    4539\n",
      "021xx    4531\n",
      "604xx    4527\n",
      "600xx    4518\n",
      "956xx    4329\n",
      "920xx    4303\n",
      "         ... \n",
      "888xx       1\n",
      "938xx       1\n",
      "205xx       1\n",
      "742xx       1\n",
      "909xx       1\n",
      "901xx       1\n",
      "375xx       1\n",
      "399xx       1\n",
      "892xx       1\n",
      "694xx       1\n",
      "889xx       1\n",
      "524xx       1\n",
      "429xx       1\n",
      "568xx       1\n",
      "569xx       1\n",
      "520xx       1\n",
      "516xx       1\n",
      "514xx       1\n",
      "513xx       1\n",
      "511xx       1\n",
      "682xx       1\n",
      "509xx       1\n",
      "507xx       1\n",
      "819xx       1\n",
      "849xx       1\n",
      "817xx       1\n",
      "621xx       1\n",
      "862xx       1\n",
      "643xx       1\n",
      "649xx       1\n",
      "Name: zip_code, dtype: int64\n",
      "\n",
      "\n",
      "Nominal Categorical Attribute: \"addr_state\":\n",
      "-----------------------------------------------\n",
      "0    AZ\n",
      "1    GA\n",
      "2    IL\n",
      "3    CA\n",
      "Name: addr_state, dtype: category\n",
      "Categories (51, object): [AK, AL, AR, AZ, ..., WA, WI, WV, WY]\n",
      "\n",
      "Value Counts:\n",
      "-----------------\n",
      "CA    129517\n",
      "NY     74086\n",
      "TX     71138\n",
      "FL     60935\n",
      "IL     35476\n",
      "NJ     33256\n",
      "PA     31393\n",
      "OH     29631\n",
      "GA     29085\n",
      "VA     26255\n",
      "NC     24720\n",
      "MI     22985\n",
      "MD     21031\n",
      "MA     20593\n",
      "AZ     20412\n",
      "WA     19434\n",
      "CO     18807\n",
      "MN     15957\n",
      "MO     14207\n",
      "IN     13789\n",
      "CT     13531\n",
      "TN     12887\n",
      "NV     12443\n",
      "WI     11574\n",
      "AL     11200\n",
      "OR     10893\n",
      "SC     10639\n",
      "LA     10587\n",
      "KY      8550\n",
      "OK      8085\n",
      "KS      7926\n",
      "AR      6640\n",
      "UT      6264\n",
      "NM      4939\n",
      "HI      4570\n",
      "WV      4386\n",
      "NH      4294\n",
      "RI      3893\n",
      "MS      3819\n",
      "MT      2558\n",
      "DE      2511\n",
      "DC      2432\n",
      "AK      2205\n",
      "WY      2028\n",
      "SD      1815\n",
      "VT      1797\n",
      "NE      1176\n",
      "ME       525\n",
      "ND       479\n",
      "IA        14\n",
      "ID        12\n",
      "Name: addr_state, dtype: int64\n",
      "\n",
      "\n",
      "Nominal Categorical Attribute: \"initial_list_status\":\n",
      "--------------------------------------------------------\n",
      "0    f\n",
      "1    f\n",
      "2    f\n",
      "3    f\n",
      "Name: initial_list_status, dtype: category\n",
      "Categories (2, object): [f, w]\n",
      "\n",
      "Value Counts:\n",
      "-----------------\n",
      "f    456848\n",
      "w    430531\n",
      "Name: initial_list_status, dtype: int64\n",
      "\n",
      "\n",
      "Nominal Categorical Attribute: \"policy_code\":\n",
      "------------------------------------------------\n",
      "0    1.0\n",
      "1    1.0\n",
      "2    1.0\n",
      "3    1.0\n",
      "Name: policy_code, dtype: category\n",
      "Categories (1, float64): [1.0]\n",
      "\n",
      "Value Counts:\n",
      "-----------------\n",
      "1.0    887379\n",
      "Name: policy_code, dtype: int64\n",
      "\n",
      "\n",
      "Nominal Categorical Attribute: \"application_type\":\n",
      "-----------------------------------------------------\n",
      "0    INDIVIDUAL\n",
      "1    INDIVIDUAL\n",
      "2    INDIVIDUAL\n",
      "3    INDIVIDUAL\n",
      "Name: application_type, dtype: category\n",
      "Categories (2, object): [INDIVIDUAL, JOINT]\n",
      "\n",
      "Value Counts:\n",
      "-----------------\n",
      "INDIVIDUAL    886868\n",
      "JOINT            511\n",
      "Name: application_type, dtype: int64\n",
      "\n",
      "\n"
     ]
    }
   ],
   "source": [
    "for attrib in nominal_categ_attribs:\n",
    "    s = 'Nominal Categorical Attribute: \"%s\":' % attrib\n",
    "    print(s)\n",
    "    print('-' * (len(s)+3))\n",
    "    pprint(categ_df.loc[:3, attrib])\n",
    "    s = '\\nValue Counts:'\n",
    "    print(s)\n",
    "    print('-' * (len(s)+3))\n",
    "    pprint(pd.value_counts(categ_df[attrib]))\n",
    "    print('\\n')"
   ]
  },
  {
   "cell_type": "markdown",
   "metadata": {},
   "source": [
    "#### F2. Ordinal Categorical Attributes\n",
    "\n",
    "We chose to define as **ordinal categorical attributes** the variables below:\n",
    "\n",
    "* **`'term'`:** The number of payments on the loan \n",
    "```\n",
    "Categories (2, object): [36 months < 60 months]\n",
    "```\n",
    "\n",
    "* **`'grade'`:** LC assigned loan grade.\n",
    "```\n",
    "Categories (7, object): [G < F < E < D < C < B < A]\n",
    "```\n",
    "\n",
    "* **`'sub_grade'`:** LC assigned loan subgrade.\n",
    "```\n",
    "Categories (35, object): [G5 < G4 < G3 < G2 ... A4 < A3 < A2 < A1]\n",
    "```\n",
    "\n",
    "* **`'emp_length'`:** Employment length in years. Possible values are between 0 and 10 where 0 means less than one year and 10 means ten or more years.\n",
    "```\n",
    "Categories (12, object): [n/a < < 1yr < 1yr < 2yrs ... 7yrs < 8yrs < 9yrs < 10+yrs]\n",
    "```\n",
    "\n",
    "* **`'verification_status'`:** Indicates if the borrowers' income was verified by LC, not verified, or if the income source was verified.\n",
    "```\n",
    "Categories (3, object): [Not Verified < Source Verified < Verified]\n",
    "```\n",
    "\n",
    "* **`'verification_status_joint'`:** Indicates if the co-borrowers' joint income was verified by LC, not verified, or if the income source was verified.\n",
    "```\n",
    "Categories (4, object): [Not Known < Not Verified < Source Verified < Verified]\n",
    "```\n",
    "\n",
    "#### Note\n",
    "\n",
    "Among them, the **`'verification_status_joint'`** variable appears a plethora of `'Not Known'` values, but we choose not to exclude it from our consideration, at least for the time being. This field keeps the verification status of the co-borrowers' joint income, and can provide useful information for the `'JOINT'` loan applications. Note also, that the sum of the value counts concerning its remaining, informative values, i.e. `'Not Verified'`, `'Source Verified'` and `'Verified'`, equals the number of the recorded `'JOINT'` loan applications, i.e. 511:\n",
    "\n",
    "```\n",
    "Nominal Categorical Attribute: \"application_type\":\n",
    "-----------------------------------------------------\n",
    "0    INDIVIDUAL\n",
    "1    INDIVIDUAL\n",
    "Name: application_type, dtype: category\n",
    "Categories (2, object): [INDIVIDUAL, JOINT]\n",
    "\n",
    "Value Counts:\n",
    "-----------------\n",
    "INDIVIDUAL    886868\n",
    "JOINT            511\n",
    "Name: application_type, dtype: int64\n",
    "\n",
    "\n",
    "Ordinal Categorical Attribute: \"verification_status_joint\":\n",
    "--------------------------------------------------------------\n",
    "0    Not Known\n",
    "1    Not Known\n",
    "Name: verification_status_joint, dtype: category\n",
    "Categories (4, object): [Not Known < Not Verified < Source Verified < Verified]\n",
    "\n",
    "Value Counts:\n",
    "-----------------\n",
    "Not Known          886868\n",
    "Not Verified          283\n",
    "Verified              167\n",
    "Source Verified        61\n",
    "Name: verification_status_joint, dtype: int64\n",
    "```"
   ]
  },
  {
   "cell_type": "code",
   "execution_count": 24,
   "metadata": {
    "collapsed": false
   },
   "outputs": [
    {
     "name": "stdout",
     "output_type": "stream",
     "text": [
      "['term',\n",
      " 'grade',\n",
      " 'sub_grade',\n",
      " 'emp_length',\n",
      " 'verification_status',\n",
      " 'verification_status_joint']\n"
     ]
    }
   ],
   "source": [
    "pprint(ordinal_categ_attribs)"
   ]
  },
  {
   "cell_type": "code",
   "execution_count": 25,
   "metadata": {
    "collapsed": false
   },
   "outputs": [
    {
     "name": "stdout",
     "output_type": "stream",
     "text": [
      "<class 'pandas.core.frame.DataFrame'>\n",
      "RangeIndex: 887379 entries, 0 to 887378\n",
      "Data columns (total 6 columns):\n",
      "term                         887379 non-null category\n",
      "grade                        887379 non-null category\n",
      "sub_grade                    887379 non-null category\n",
      "emp_length                   887379 non-null category\n",
      "verification_status          887379 non-null category\n",
      "verification_status_joint    887379 non-null category\n",
      "dtypes: category(6)\n",
      "memory usage: 5.1 MB\n"
     ]
    }
   ],
   "source": [
    "categ_df[ordinal_categ_attribs].info()"
   ]
  },
  {
   "cell_type": "code",
   "execution_count": 26,
   "metadata": {
    "collapsed": false
   },
   "outputs": [
    {
     "name": "stdout",
     "output_type": "stream",
     "text": [
      "Ordinal Categorical Attribute: \"term\":\n",
      "-----------------------------------------\n",
      "0     36 months\n",
      "1     60 months\n",
      "2     36 months\n",
      "3     36 months\n",
      "Name: term, dtype: category\n",
      "Categories (2, object): [36 months < 60 months]\n",
      "\n",
      "Value Counts:\n",
      "-----------------\n",
      " 36 months    621125\n",
      " 60 months    266254\n",
      "Name: term, dtype: int64\n",
      "\n",
      "\n",
      "Ordinal Categorical Attribute: \"grade\":\n",
      "------------------------------------------\n",
      "0    B\n",
      "1    C\n",
      "2    C\n",
      "3    C\n",
      "Name: grade, dtype: category\n",
      "Categories (7, object): [G < F < E < D < C < B < A]\n",
      "\n",
      "Value Counts:\n",
      "-----------------\n",
      "B    254535\n",
      "C    245860\n",
      "A    148202\n",
      "D    139542\n",
      "E     70705\n",
      "F     23046\n",
      "G      5489\n",
      "Name: grade, dtype: int64\n",
      "\n",
      "\n",
      "Ordinal Categorical Attribute: \"sub_grade\":\n",
      "----------------------------------------------\n",
      "0    B2\n",
      "1    C4\n",
      "2    C5\n",
      "3    C1\n",
      "Name: sub_grade, dtype: category\n",
      "Categories (35, object): [G5 < G4 < G3 < G2 ... A4 < A3 < A2 < A1]\n",
      "\n",
      "Value Counts:\n",
      "-----------------\n",
      "B3    56323\n",
      "B4    55626\n",
      "C1    53387\n",
      "C2    52236\n",
      "C3    50161\n",
      "C4    48857\n",
      "B5    48833\n",
      "B2    48781\n",
      "B1    44972\n",
      "A5    44816\n",
      "C5    41219\n",
      "D1    36238\n",
      "A4    34531\n",
      "D2    29803\n",
      "D3    26554\n",
      "D4    25558\n",
      "A3    23457\n",
      "A1    22913\n",
      "A2    22485\n",
      "D5    21389\n",
      "E1    18268\n",
      "E2    17004\n",
      "E3    14134\n",
      "E4    11724\n",
      "E5     9575\n",
      "F1     7218\n",
      "F2     5392\n",
      "F3     4433\n",
      "F4     3409\n",
      "F5     2594\n",
      "G1     1871\n",
      "G2     1398\n",
      "G3      981\n",
      "G4      663\n",
      "G5      576\n",
      "Name: sub_grade, dtype: int64\n",
      "\n",
      "\n",
      "Ordinal Categorical Attribute: \"emp_length\":\n",
      "-----------------------------------------------\n",
      "0    10+yrs\n",
      "1     < 1yr\n",
      "2    10+yrs\n",
      "3    10+yrs\n",
      "Name: emp_length, dtype: category\n",
      "Categories (12, object): [n/a < < 1yr < 1yr < 2yrs ... 7yrs < 8yrs < 9yrs < 10+yrs]\n",
      "\n",
      "Value Counts:\n",
      "-----------------\n",
      "10+yrs    291569\n",
      "2yrs       78870\n",
      "< 1yr      70605\n",
      "3yrs       70026\n",
      "1yr        57095\n",
      "5yrs       55704\n",
      "4yrs       52529\n",
      "n/a        44825\n",
      "7yrs       44594\n",
      "8yrs       43955\n",
      "6yrs       42950\n",
      "9yrs       34657\n",
      "Name: emp_length, dtype: int64\n",
      "\n",
      "\n",
      "Ordinal Categorical Attribute: \"verification_status\":\n",
      "--------------------------------------------------------\n",
      "0           Verified\n",
      "1    Source Verified\n",
      "2       Not Verified\n",
      "3    Source Verified\n",
      "Name: verification_status, dtype: category\n",
      "Categories (3, object): [Not Verified < Source Verified < Verified]\n",
      "\n",
      "Value Counts:\n",
      "-----------------\n",
      "Source Verified    329558\n",
      "Verified           291071\n",
      "Not Verified       266750\n",
      "Name: verification_status, dtype: int64\n",
      "\n",
      "\n",
      "Ordinal Categorical Attribute: \"verification_status_joint\":\n",
      "--------------------------------------------------------------\n",
      "0    Not Known\n",
      "1    Not Known\n",
      "2    Not Known\n",
      "3    Not Known\n",
      "Name: verification_status_joint, dtype: category\n",
      "Categories (4, object): [Not Known < Not Verified < Source Verified < Verified]\n",
      "\n",
      "Value Counts:\n",
      "-----------------\n",
      "Not Known          886868\n",
      "Not Verified          283\n",
      "Verified              167\n",
      "Source Verified        61\n",
      "Name: verification_status_joint, dtype: int64\n",
      "\n",
      "\n"
     ]
    }
   ],
   "source": [
    "for attrib in ordinal_categ_attribs:\n",
    "    s = 'Ordinal Categorical Attribute: \"%s\":' % attrib\n",
    "    print(s)\n",
    "    print('-' * (len(s)+3))\n",
    "    pprint(categ_df.loc[:3, attrib])\n",
    "    s = '\\nValue Counts:'\n",
    "    print(s)\n",
    "    print('-' * (len(s)+3))\n",
    "    pprint(pd.value_counts(categ_df[attrib]))\n",
    "    print('\\n')"
   ]
  },
  {
   "cell_type": "markdown",
   "metadata": {},
   "source": [
    "### G. Response Variable (`'loan_status'`)\n",
    "\n",
    "Possible values of the **`'loan_status'` attribute:**\n",
    "\n",
    "* **`'Default'` [`'0A'`]:** Loans that have been defaulted.\n",
    "* **`'Does not meet the credit policy. Status:Charged Off'` (Written-off, [`'0B'`]):** Loans that do not meet the LC credit policy and has been written-off.\n",
    "* **`'Charged Off'` (Written-off, [`'0C'`]):** The loan balance has been reduced to zero by recognizing the recorded value as an expense.\n",
    "* **`'Late (31-120 days)'` (Red Loans, [`'0D'`]):** Loan the installment payments of which, have been delayed for 31-120 days.\n",
    "* **`'Late (16-30 days)'` (Yellow Loans, [`'0E'`]):** Loan the installment payments of which have been delayed for 16-30 days.\n",
    "* **`'Issued'` [`'1A'`]:** Loans that have been just issued.\n",
    "* **`'In Grace Period'` [`'1B'`]:** Loans that have been issued and they are currently being in grace period.\n",
    "* **`'Current'` [`'1C'`]:** Loans that are currently active and serviced.\n",
    "* **`'Does not meet the credit policy. Status:Fully Paid'` [`'1D'`]:** Loans that do not meet the LC credit policy, but they have been fully-paid.\n",
    "* **`'Fully Paid'` [`'1E'`]:** Loans that have been fully paid."
   ]
  },
  {
   "cell_type": "code",
   "execution_count": 27,
   "metadata": {
    "collapsed": false
   },
   "outputs": [
    {
     "name": "stdout",
     "output_type": "stream",
     "text": [
      "Response Variable: \"verification_status_joint\":\n",
      "--------------------------------------------------\n",
      "0     Fully Paid\n",
      "1    Charged Off\n",
      "2     Fully Paid\n",
      "3     Fully Paid\n",
      "Name: loan_status, dtype: object\n",
      "\n",
      "Value Counts:\n",
      "-----------------\n",
      "Current                                                601779\n",
      "Fully Paid                                             207723\n",
      "Charged Off                                             45248\n",
      "Late (31-120 days)                                      11591\n",
      "Issued                                                   8460\n",
      "In Grace Period                                          6253\n",
      "Late (16-30 days)                                        2357\n",
      "Does not meet the credit policy. Status:Fully Paid       1988\n",
      "Default                                                  1219\n",
      "Does not meet the credit policy. Status:Charged Off       761\n",
      "Name: loan_status, dtype: int64\n",
      "\n",
      "\n"
     ]
    }
   ],
   "source": [
    "s = 'Response Variable: \"%s\":' % attrib\n",
    "print(s)\n",
    "print('-' * (len(s)+3))\n",
    "pprint(loan_df.loc[:3, response])\n",
    "s = '\\nValue Counts:'\n",
    "print(s)\n",
    "print('-' * (len(s)+3))\n",
    "pprint(pd.value_counts(loan_df[response]))\n",
    "print('\\n')"
   ]
  },
  {
   "cell_type": "markdown",
   "metadata": {},
   "source": [
    "#### G1. Group in \"Bad\" [`'0'`] / \"Good Loans\" [`'1'`]: Class Imbalance"
   ]
  },
  {
   "cell_type": "code",
   "execution_count": 28,
   "metadata": {
    "collapsed": false
   },
   "outputs": [],
   "source": [
    "# Group the loan classes in \"Bad Loans\" & \"Good Loans\"\n",
    "bad_loans = ['Default', # ['0A']\n",
    "             'Does not meet the credit policy. Status:Charged Off', # ['0B']\n",
    "             'Charged Off', # ['0C']\n",
    "             'Late (31-120 days)', # ['0D']\n",
    "             'Late (16-30 days)'] # ['0E']\n",
    "\n",
    "good_loans = ['Issued', # ['1A']\n",
    "              'In Grace Period', # ['1B']\n",
    "              'Current', # ['1C']\n",
    "              'Does not meet the credit policy. Status:Fully Paid', # ['1D']\n",
    "              'Fully Paid'] # ['1E']\n",
    "\n",
    "# Denote the \"Bad Loans\" (\"Good Loans\") with the \"0\" (\"1\") Flag\n",
    "loan_df.loc[:,response].replace(to_replace=bad_loans, value='0', inplace=True)\n",
    "loan_df.loc[:,response].replace(to_replace=good_loans, value='1', inplace=True)"
   ]
  },
  {
   "cell_type": "code",
   "execution_count": 29,
   "metadata": {
    "collapsed": false
   },
   "outputs": [
    {
     "name": "stdout",
     "output_type": "stream",
     "text": [
      "Bad Loans: 61176\n",
      "Good Loans: 826203\n",
      "Bad to Good Loans percentage: 7.00 %\n"
     ]
    }
   ],
   "source": [
    "# BAD LOANS\n",
    "num_bad_loans =  len(loan_df.loc[loan_df[response] == '0', response])\n",
    "print('Bad Loans: %d' % num_bad_loans)\n",
    "\n",
    "# GOOD LOANS\n",
    "num_good_loans = len(loan_df.loc[loan_df[response] == '1', response])\n",
    "print('Good Loans: %d' % num_good_loans)\n",
    "\n",
    "# BAD to GOOD LOANS RATIO\n",
    "bad_to_good_loans_ratio = round(num_bad_loans / num_good_loans, ndigits=2)\n",
    "print('Bad to Good Loans percentage: %.2f ' % (bad_to_good_loans_ratio * 100) + '%')"
   ]
  },
  {
   "cell_type": "code",
   "execution_count": 30,
   "metadata": {
    "collapsed": false
   },
   "outputs": [
    {
     "data": {
      "image/png": "[encoded data removed]",
      "text/plain": [
       "<matplotlib.figure.Figure at 0x7f6730b2bd30>"
      ]
     },
     "metadata": {},
     "output_type": "display_data"
    }
   ],
   "source": [
    "# Countplot of Loan Statuses\n",
    "sns.countplot(x=response, data=loan_df)\n",
    "plt.title('Countplot of Loan Statuses\\n[\\'loan_df\\']')\n",
    "plt.xticks(range(2), ['Bad Loans', 'Good Loans'], fontweight='bold')\n",
    "plt.xlabel('Loan Status')\n",
    "plt.ylabel('No. of Records')\n",
    "plt.show()"
   ]
  },
  {
   "cell_type": "markdown",
   "metadata": {},
   "source": [
    "#### G2. Importance of `'application_type'` attribute: Response variable distribution across the two types of loan applications.\n",
    "\n",
    "**=> `'application_type'`: Not Important!**"
   ]
  },
  {
   "cell_type": "code",
   "execution_count": 31,
   "metadata": {
    "collapsed": false
   },
   "outputs": [
    {
     "name": "stdout",
     "output_type": "stream",
     "text": [
      "Attribute: 'application_type':\n",
      "---------------------------------\n",
      "Check the uniqueness of 'application_type' attribute values...\n",
      "\n",
      "Found 2 unique values in 887379 record lines.\n",
      "\n",
      "Prints a frequency table of ('application_type', 'loan_status') values...\n",
      "\n",
      "                               count  frequency\n",
      "application_type loan_status                   \n",
      "INDIVIDUAL       0             61174   0.999967\n",
      "                 1            825694   0.999384\n",
      "JOINT            0                 2   0.000033\n",
      "                 1               509   0.000616\n",
      "\n",
      "\n"
     ]
    },
    {
     "data": {
      "image/png": "[encoded data removed]",
      "text/plain": [
       "<matplotlib.figure.Figure at 0x7f6730ac1048>"
      ]
     },
     "metadata": {},
     "output_type": "display_data"
    }
   ],
   "source": [
    "freq_tables(loan_df, ['application_type'], response,\n",
    "            barplot=True, matplotlib_style='seaborn-whitegrid')"
   ]
  },
  {
   "cell_type": "markdown",
   "metadata": {},
   "source": [
    "**=> `'verification_status_joint'`: Also Not Important!**"
   ]
  },
  {
   "cell_type": "code",
   "execution_count": 32,
   "metadata": {
    "collapsed": false
   },
   "outputs": [
    {
     "name": "stdout",
     "output_type": "stream",
     "text": [
      "Attribute: \"application_type\":\n",
      "---------------------------------\n",
      "0    INDIVIDUAL\n",
      "1    INDIVIDUAL\n",
      "2    INDIVIDUAL\n",
      "Name: application_type, dtype: category\n",
      "Categories (2, object): [INDIVIDUAL, JOINT]\n",
      "\n",
      "Value Counts:\n",
      "-----------------\n",
      "INDIVIDUAL    886868\n",
      "JOINT              0\n",
      "Name: application_type, dtype: int64\n",
      "\n",
      "\n",
      "Attribute: \"verification_status\":\n",
      "------------------------------------\n",
      "0           Verified\n",
      "1    Source Verified\n",
      "2       Not Verified\n",
      "Name: verification_status, dtype: category\n",
      "Categories (3, object): [Not Verified < Source Verified < Verified]\n",
      "\n",
      "Value Counts:\n",
      "-----------------\n",
      "Source Verified    329424\n",
      "Verified           290810\n",
      "Not Verified       266634\n",
      "Name: verification_status, dtype: int64\n",
      "\n",
      "\n",
      "Attribute: \"verification_status_joint\":\n",
      "------------------------------------------\n",
      "0    Not Known\n",
      "1    Not Known\n",
      "2    Not Known\n",
      "Name: verification_status_joint, dtype: category\n",
      "Categories (4, object): [Not Known < Not Verified < Source Verified < Verified]\n",
      "\n",
      "Value Counts:\n",
      "-----------------\n",
      "Not Known          886868\n",
      "Verified                0\n",
      "Source Verified         0\n",
      "Not Verified            0\n",
      "Name: verification_status_joint, dtype: int64\n",
      "\n",
      "\n"
     ]
    }
   ],
   "source": [
    "individual_loans_ix = (loan_df['application_type'] != 'JOINT')\n",
    "\n",
    "for attrib in ['application_type', 'verification_status', 'verification_status_joint']:\n",
    "    s = 'Attribute: \"%s\":' % attrib\n",
    "    print(s)\n",
    "    print('-' * (len(s)+3))\n",
    "    pprint(loan_df.loc[individual_loans_ix, attrib].head(n=3))\n",
    "    s = '\\nValue Counts:'\n",
    "    print(s)\n",
    "    print('-' * (len(s)+3))\n",
    "    pprint(pd.value_counts(loan_df.loc[individual_loans_ix, attrib]))\n",
    "    print('\\n')"
   ]
  },
  {
   "cell_type": "markdown",
   "metadata": {},
   "source": [
    "### H. Remove unimportant attributes & record lines from `\"loan_df\"` DataFrame\n",
    "\n",
    "According to the previous discussion, the attributes below are not important for the response variable outcome, and we choose to remove them from the **`loan_df`** data set, to enhance the predictive performance of our model.\n",
    "\n",
    "* **`'policy_code'`:** Publicly available (policy_code=1), New products not publicly available (policy_code=2).\n",
    "* **`'pymnt_plan'`:** Indicates if a payment plan has been put in place for the loan.\n",
    "* **`'application_type'`:** Indicates whether the loan is an individual application or a joint application with two co-borrowers.\n",
    "* **`'verified_status_joint'`:** Indicates if the co-borrowers' joint income was verified by LC, not verified, or if the income source was verified.\n",
    "\n",
    "Furthermore, keeping the record lines of the `'JOINT'` loan applications is now meaningless, and we drop them. The same is true for both the attributes **`'annual_inc_joint'`** and **`'dti_joint '`**, which now have **`'NA'`** values only. We also drop them.\n",
    "\n",
    "Finally, we are going not to take in consideration the few **text attributes** that exist in **`loan_df`**, at least in this first stage of predictive modelling. These text attributes, which have been stored in the **`str_attribs`** list above, are:\n",
    "\n",
    "* **`'desc'`:** Loan description provided by the borrower.\n",
    "* **`'emp_title'`:** The job title supplied by the Borrower when applying for the loan (Note: employer title replaces Employer Name for all loans listed after 9/23/2013).\n",
    "* **`'title'`:** The loan title provided by the borrower.\n",
    "* **`'url'`:** URL for the LC page with listing data."
   ]
  },
  {
   "cell_type": "code",
   "execution_count": 33,
   "metadata": {
    "collapsed": false
   },
   "outputs": [],
   "source": [
    "loan_df = loan_df.loc[individual_loans_ix,:]"
   ]
  },
  {
   "cell_type": "code",
   "execution_count": 34,
   "metadata": {
    "collapsed": false
   },
   "outputs": [
    {
     "data": {
      "text/plain": [
       "(886868, 74)"
      ]
     },
     "execution_count": 34,
     "metadata": {},
     "output_type": "execute_result"
    }
   ],
   "source": [
    "loan_df.shape"
   ]
  },
  {
   "cell_type": "code",
   "execution_count": 35,
   "metadata": {
    "collapsed": true
   },
   "outputs": [],
   "source": [
    "unimp_attribs = ['policy_code', \n",
    "                 'pymnt_plan', \n",
    "                 'application_type', \n",
    "                 'verification_status_joint',\n",
    "                 'annual_inc_joint',\n",
    "                 'dti_joint']\n",
    "for attrib in unimp_attribs:\n",
    "    del loan_df[attrib]"
   ]
  },
  {
   "cell_type": "code",
   "execution_count": 36,
   "metadata": {
    "collapsed": false
   },
   "outputs": [
    {
     "data": {
      "text/plain": [
       "(886868, 68)"
      ]
     },
     "execution_count": 36,
     "metadata": {},
     "output_type": "execute_result"
    }
   ],
   "source": [
    "loan_df.shape"
   ]
  },
  {
   "cell_type": "markdown",
   "metadata": {},
   "source": [
    "Consequently, the attributes that we are going to further consider are enlisted below."
   ]
  },
  {
   "cell_type": "code",
   "execution_count": 37,
   "metadata": {
    "collapsed": false
   },
   "outputs": [],
   "source": [
    "imp_attribs0 = list(loan_df.head()\n",
    "                    .select_dtypes(exclude=['object']).columns)"
   ]
  },
  {
   "cell_type": "code",
   "execution_count": 38,
   "metadata": {
    "collapsed": false
   },
   "outputs": [
    {
     "name": "stdout",
     "output_type": "stream",
     "text": [
      "<class 'pandas.core.frame.DataFrame'>\n",
      "Int64Index: 886868 entries, 0 to 887378\n",
      "Data columns (total 63 columns):\n",
      "id                             886868 non-null int64\n",
      "member_id                      886868 non-null int64\n",
      "loan_amnt                      886868 non-null float64\n",
      "funded_amnt                    886868 non-null float64\n",
      "funded_amnt_inv                886868 non-null float64\n",
      "term                           886868 non-null category\n",
      "int_rate                       886868 non-null float64\n",
      "installment                    886868 non-null float64\n",
      "grade                          886868 non-null category\n",
      "sub_grade                      886868 non-null category\n",
      "emp_length                     886868 non-null category\n",
      "home_ownership                 886868 non-null category\n",
      "annual_inc                     886864 non-null float64\n",
      "verification_status            886868 non-null category\n",
      "issue_d                        886868 non-null datetime64[ns]\n",
      "purpose                        886868 non-null category\n",
      "zip_code                       886868 non-null category\n",
      "addr_state                     886868 non-null category\n",
      "dti                            886868 non-null float64\n",
      "delinq_2yrs                    886868 non-null int64\n",
      "earliest_cr_line               886839 non-null datetime64[ns]\n",
      "inq_last_6mths                 886868 non-null int64\n",
      "mths_since_last_delinq         886868 non-null int64\n",
      "mths_since_last_record         886868 non-null int64\n",
      "open_acc                       886868 non-null int64\n",
      "pub_rec                        886868 non-null int64\n",
      "revol_bal                      886868 non-null float64\n",
      "revol_util                     886366 non-null float64\n",
      "total_acc                      886868 non-null int64\n",
      "initial_list_status            886868 non-null category\n",
      "out_prncp                      886868 non-null float64\n",
      "out_prncp_inv                  886868 non-null float64\n",
      "total_pymnt                    886868 non-null float64\n",
      "total_pymnt_inv                886868 non-null float64\n",
      "total_rec_prncp                886868 non-null float64\n",
      "total_rec_int                  886868 non-null float64\n",
      "total_rec_late_fee             886868 non-null float64\n",
      "recoveries                     886868 non-null float64\n",
      "collection_recovery_fee        886868 non-null float64\n",
      "last_pymnt_d                   869347 non-null datetime64[ns]\n",
      "last_pymnt_amnt                886868 non-null float64\n",
      "next_pymnt_d                   633898 non-null datetime64[ns]\n",
      "last_credit_pull_d             886815 non-null datetime64[ns]\n",
      "collections_12_mths_ex_med     886868 non-null int64\n",
      "mths_since_last_major_derog    886868 non-null int64\n",
      "acc_now_delinq                 886868 non-null int64\n",
      "tot_coll_amt                   886868 non-null int64\n",
      "tot_cur_bal                    816592 non-null float64\n",
      "open_acc_6m                    886868 non-null int64\n",
      "open_il_6m                     886868 non-null int64\n",
      "open_il_12m                    886868 non-null int64\n",
      "open_il_24m                    886868 non-null int64\n",
      "mths_since_rcnt_il             886868 non-null int64\n",
      "total_bal_il                   21209 non-null float64\n",
      "il_util                        18476 non-null float64\n",
      "open_rv_12m                    886868 non-null int64\n",
      "open_rv_24m                    886868 non-null int64\n",
      "max_bal_bc                     21209 non-null float64\n",
      "all_util                       21209 non-null float64\n",
      "total_rev_hi_lim               816592 non-null float64\n",
      "inq_fi                         886868 non-null int64\n",
      "total_cu_tl                    886868 non-null int64\n",
      "inq_last_12m                   886868 non-null int64\n",
      "dtypes: category(10), datetime64[ns](5), float64(25), int64(23)\n",
      "memory usage: 374.7 MB\n"
     ]
    }
   ],
   "source": [
    "loan_df.loc[:,imp_attribs0].info()"
   ]
  },
  {
   "cell_type": "markdown",
   "metadata": {
    "collapsed": true
   },
   "source": [
    "## 3. Exploratory  Data Analysis\n",
    "\n",
    "### A. Loan Amounts"
   ]
  },
  {
   "cell_type": "code",
   "execution_count": 39,
   "metadata": {
    "collapsed": false
   },
   "outputs": [
    {
     "data": {
      "image/png": "[encoded data removed]",
      "text/plain": [
       "<matplotlib.figure.Figure at 0x7f67641a3208>"
      ]
     },
     "metadata": {},
     "output_type": "display_data"
    }
   ],
   "source": [
    "sns.distplot(loan_df.loc[:, 'loan_amnt'], hist=True, kde=True, rug=False,\n",
    "             norm_hist=True, axlabel='Loan Amount')\n",
    "plt.title('Loan Amount Distribution')\n",
    "plt.show()"
   ]
  },
  {
   "cell_type": "code",
   "execution_count": 40,
   "metadata": {
    "collapsed": false
   },
   "outputs": [
    {
     "data": {
      "image/png": "[encoded data removed]",
      "text/plain": [
       "<matplotlib.figure.Figure at 0x7f67288d97f0>"
      ]
     },
     "metadata": {},
     "output_type": "display_data"
    }
   ],
   "source": [
    "grouped = loan_df.groupby(by=['issue_d'])\n",
    "grouped_agg = (grouped['loan_amnt']\n",
    "               .agg({'loanbook_amnt': np.sum}))\n",
    "grouped_agg_df = grouped_agg.reset_index()\n",
    "grouped_agg_ts = pd.Series(data=grouped_agg_df['loanbook_amnt'].values,\n",
    "                           index=grouped_agg_df['issue_d'])\n",
    "del grouped_agg_df\n",
    "\n",
    "fig = plt.figure(figsize=(13, 8))\n",
    "ax = fig.add_subplot(111)\n",
    "grouped_agg_ts.plot(ax=ax)\n",
    "ax.set_xlabel('Date Issued [\\'issue_d\\']')\n",
    "ax.set_ylabel('Loan Book Amount')\n",
    "ax.set_title('Loan Book Growth\\n[\\'loan_df\\']')\n",
    "plt.show()"
   ]
  },
  {
   "cell_type": "markdown",
   "metadata": {},
   "source": [
    "### B. Loan Statuses & Grades"
   ]
  },
  {
   "cell_type": "code",
   "execution_count": 41,
   "metadata": {
    "collapsed": false
   },
   "outputs": [
    {
     "name": "stdout",
     "output_type": "stream",
     "text": [
      "\n",
      "Bad Loans [Flagged as '0']:\n",
      "-------------------------------\n",
      "['Default',\n",
      " 'Does not meet the credit policy. Status:Charged Off',\n",
      " 'Charged Off',\n",
      " 'Late (31-120 days)',\n",
      " 'Late (16-30 days)']\n",
      "\n",
      "Good Loans [Flagged as '1']:\n",
      "--------------------------------\n",
      "['Issued',\n",
      " 'In Grace Period',\n",
      " 'Current',\n",
      " 'Does not meet the credit policy. Status:Fully Paid',\n",
      " 'Fully Paid']\n"
     ]
    }
   ],
   "source": [
    "s = '\\nBad Loans [Flagged as \\'0\\']:'\n",
    "print(s)\n",
    "print('-'*(len(s) + 3))\n",
    "pprint(bad_loans)\n",
    "\n",
    "s = '\\nGood Loans [Flagged as \\'1\\']:'\n",
    "print(s)\n",
    "print('-'*(len(s) + 3))\n",
    "pprint(good_loans)"
   ]
  },
  {
   "cell_type": "code",
   "execution_count": 42,
   "metadata": {
    "collapsed": false
   },
   "outputs": [
    {
     "data": {
      "image/png": "[encoded data removed]",
      "text/plain": [
       "<matplotlib.figure.Figure at 0x7f67288e6fd0>"
      ]
     },
     "metadata": {},
     "output_type": "display_data"
    }
   ],
   "source": [
    "# Countplot of Loan Statuses\n",
    "sns.countplot(x=response, data=loan_df)\n",
    "plt.title('Countplot of Loan Statuses\\n[\\'loan_df\\']')\n",
    "plt.xticks(range(2), ['Bad Loans', 'Good Loans'], fontweight='bold')\n",
    "plt.xlabel('Loan Status')\n",
    "plt.ylabel('No. of Records')\n",
    "plt.show()"
   ]
  },
  {
   "cell_type": "code",
   "execution_count": 48,
   "metadata": {
    "collapsed": false
   },
   "outputs": [
    {
     "data": {
      "image/png": "[encoded data removed]",
      "text/plain": [
       "<matplotlib.figure.Figure at 0x7f6728135d30>"
      ]
     },
     "metadata": {},
     "output_type": "display_data"
    }
   ],
   "source": [
    "fig, (ax1, ax2) = plt.subplots(nrows=1, ncols=2, figsize=(13,8), sharey=True)\n",
    "\n",
    "sns.boxplot(x='loan_status', y='loan_amnt', data=loan_df, ax=ax1)\n",
    "ax1.set_xticks(range(2))\n",
    "ax1.set_xticklabels(['Bad Loans', 'Good Loans'], fontweight='bold')\n",
    "ax1.set_xlabel('Loan Status')\n",
    "ax1.set_ylabel('Loan Amount')\n",
    "\n",
    "sns.boxplot(x='loan_status', y='loan_amnt', hue='grade', data=loan_df, ax=ax2)\n",
    "ax2.set_xticks(range(2))\n",
    "ax2.set_xticklabels(['Bad Loans', 'Good Loans'], fontweight='bold')\n",
    "ax2.legend(loc='upper center', framealpha=0.5, prop={'weight': 'bold'})\n",
    "ax2.legend_.set_title('Grade', prop={'weight': 'bold', 'size': 12})\n",
    "ax2.set_xlabel('Loan Status')\n",
    "ax2.set_ylabel('Loan Amount')\n",
    "\n",
    "plt.suptitle('\"Loan Amount\" Distribution per \"Loan Class\" & \"Grade\"\\n[\\'loan_df\\']',\n",
    "             fontsize=16, fontweight='bold')\n",
    "plt.tight_layout(h_pad=2, w_pad=2, rect=[0,0,0.93,0.93])\n",
    "plt.show()"
   ]
  },
  {
   "cell_type": "code",
   "execution_count": 49,
   "metadata": {
    "collapsed": false
   },
   "outputs": [
    {
     "data": {
      "image/png": "[encoded data removed]",
      "text/plain": [
       "<matplotlib.figure.Figure at 0x7f6728402fd0>"
      ]
     },
     "metadata": {},
     "output_type": "display_data"
    }
   ],
   "source": [
    "fig = plt.figure(figsize=(13, 8))\n",
    "ax = fig.add_subplot(111)\n",
    "\n",
    "grouped = loan_df.groupby(by=['issue_d', 'grade'])\n",
    "grouped_agg = (grouped['loan_amnt']\n",
    "               .agg({'loanbook_amnt_per_grade': np.sum}))\n",
    "grouped_agg_df = grouped_agg.reset_index()\n",
    "grouped_agg_df1 = grouped_agg_df.pivot_table(values='loanbook_amnt_per_grade',\n",
    "                                             index = 'issue_d',\n",
    "                                             columns=['grade'])\n",
    "grouped_agg_df1.plot(ax=ax)\n",
    "ax.set_title('Loan Book Growth per \"Loan Grade\"\\n[\\'loan_df\\']')\n",
    "ax.legend(loc='best', prop={'weight': 'bold'})\n",
    "ax.legend_.set_title('Grade', prop={'weight': 'bold', 'size': 12})\n",
    "ax.set_xlabel('Date Issued [\\'issue_d\\']')\n",
    "ax.set_ylabel('Loan Book Amount')\n",
    "plt.show()"
   ]
  },
  {
   "cell_type": "markdown",
   "metadata": {},
   "source": [
    "### C. Loan Reasons across their Statuses (\"Bad [`'0'`]\"  /  \"Good Loans [`'1'`]\")"
   ]
  },
  {
   "cell_type": "code",
   "execution_count": 50,
   "metadata": {
    "collapsed": false
   },
   "outputs": [
    {
     "name": "stdout",
     "output_type": "stream",
     "text": [
      "Attribute: 'purpose':\n",
      "------------------------\n",
      "Check the uniqueness of 'purpose' attribute values...\n",
      "\n",
      "Found 14 unique values in 886868 record lines.\n",
      "\n",
      "Prints a frequency table of ('purpose', 'loan_status') values...\n",
      "\n",
      "                                 count  frequency\n",
      "purpose            loan_status                   \n",
      "car                0               556   0.009089\n",
      "                   1              8306   0.010059\n",
      "credit_card        0             10605   0.173358\n",
      "                   1            195462   0.236725\n",
      "debt_consolidation 0             37608   0.614771\n",
      "                   1            486273   0.588926\n",
      "educational        0                88   0.001439\n",
      "                   1               335   0.000406\n",
      "home_improvement   0              3186   0.052081\n",
      "                   1             48617   0.058880\n",
      "house              0               380   0.006212\n",
      "                   1              3327   0.004029\n",
      "major_purchase     0              1169   0.019109\n",
      "                   1             16106   0.019506\n",
      "medical            0               748   0.012227\n",
      "                   1              7790   0.009434\n",
      "moving             0               564   0.009220\n",
      "                   1              4849   0.005873\n",
      "other              0              3853   0.062984\n",
      "                   1             39014   0.047250\n",
      "renewable_energy   0                64   0.001046\n",
      "                   1               511   0.000619\n",
      "small_business     0              1702   0.027822\n",
      "                   1              8673   0.010504\n",
      "vacation           0               365   0.005967\n",
      "                   1              4370   0.005293\n",
      "wedding            0               286   0.004675\n",
      "                   1              2061   0.002496\n",
      "\n",
      "\n"
     ]
    },
    {
     "data": {
      "image/png": "[encoded data removed]",
      "text/plain": [
       "<matplotlib.figure.Figure at 0x7f6708103b38>"
      ]
     },
     "metadata": {},
     "output_type": "display_data"
    }
   ],
   "source": [
    "freq_tables(loan_df, ['purpose'], response,\n",
    "            barplot=True, matplotlib_style='seaborn-whitegrid')"
   ]
  },
  {
   "cell_type": "markdown",
   "metadata": {},
   "source": [
    "### D.  Loan Grades\n",
    "\n",
    "#### D1. Loan Grades across their Statuses (\"Bad [`'0'`]\"  /  \"Good Loans [`'1'`]\")"
   ]
  },
  {
   "cell_type": "code",
   "execution_count": 51,
   "metadata": {
    "collapsed": false
   },
   "outputs": [
    {
     "name": "stdout",
     "output_type": "stream",
     "text": [
      "Attribute: 'grade':\n",
      "----------------------\n",
      "Check the uniqueness of 'grade' attribute values...\n",
      "\n",
      "Found 7 unique values in 886868 record lines.\n",
      "\n",
      "Prints a frequency table of ('grade', 'loan_status') values...\n",
      "\n",
      "                    count  frequency\n",
      "grade loan_status                   \n",
      "G     0              1175   0.019208\n",
      "      1              4304   0.005213\n",
      "F     0              4029   0.065861\n",
      "      1             18993   0.023002\n",
      "E     0              8837   0.144457\n",
      "      1             61777   0.074818\n",
      "D     0             14453   0.236261\n",
      "      1            124966   0.151347\n",
      "C     0             17166   0.280609\n",
      "      1            228551   0.276799\n",
      "B     0             12216   0.199693\n",
      "      1            242217   0.293350\n",
      "A     0              3298   0.053912\n",
      "      1            144886   0.175472\n",
      "\n",
      "\n"
     ]
    },
    {
     "data": {
      "image/png": "[encoded data removed]",
      "text/plain": [
       "<matplotlib.figure.Figure at 0x7f6728819ac8>"
      ]
     },
     "metadata": {},
     "output_type": "display_data"
    }
   ],
   "source": [
    "freq_tables(loan_df, ['grade'], response,\n",
    "            barplot=True, matplotlib_style='seaborn-whitegrid')"
   ]
  },
  {
   "cell_type": "markdown",
   "metadata": {},
   "source": [
    "#### D2. Interest Rate by Loan Grade"
   ]
  },
  {
   "cell_type": "code",
   "execution_count": 52,
   "metadata": {
    "collapsed": false
   },
   "outputs": [
    {
     "data": {
      "image/png": "[encoded data removed]",
      "text/plain": [
       "<matplotlib.figure.Figure at 0x7f670af09b38>"
      ]
     },
     "metadata": {},
     "output_type": "display_data"
    }
   ],
   "source": [
    "sns.boxplot(x='grade', y='int_rate', data=loan_df)\n",
    "plt.xlabel('Loan Grade')\n",
    "plt.ylabel('Interest Rate')\n",
    "plt.title('\"Interest Rate\" by \"Loan Grade\"\\n[\\'loan_df\\']',\n",
    "          fontsize=16, fontweight='bold')\n",
    "plt.xticks(range(7), list(loan_df['grade'].cat.categories),\n",
    "           fontweight='bold')\n",
    "plt.show()"
   ]
  }
 ],
 "metadata": {
  "kernelspec": {
   "display_name": "Python 3",
   "language": "python",
   "name": "python3"
  },
  "language_info": {
   "codemirror_mode": {
    "name": "ipython",
    "version": 3
   },
   "file_extension": ".py",
   "mimetype": "text/x-python",
   "name": "python",
   "nbconvert_exporter": "python",
   "pygments_lexer": "ipython3",
   "version": "3.5.1"
  }
 },
 "nbformat": 4,
 "nbformat_minor": 0
}
